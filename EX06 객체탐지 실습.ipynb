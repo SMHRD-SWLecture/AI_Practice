{
  "nbformat": 4,
  "nbformat_minor": 0,
  "metadata": {
    "colab": {
      "provenance": [],
      "machine_shape": "hm",
      "gpuType": "A100"
    },
    "kernelspec": {
      "name": "python3",
      "display_name": "Python 3"
    },
    "language_info": {
      "name": "python"
    },
    "accelerator": "GPU"
  },
  "cells": [
    {
      "cell_type": "code",
      "execution_count": null,
      "metadata": {
        "colab": {
          "base_uri": "https://localhost:8080/"
        },
        "id": "v9XouEvXsjln",
        "outputId": "cbed5f4b-eb4c-41f9-e6f4-85de1e93f57f"
      },
      "outputs": [
        {
          "output_type": "stream",
          "name": "stdout",
          "text": [
            "/content/drive/MyDrive/Colab Notebooks\n"
          ]
        }
      ],
      "source": [
        "%cd \"./drive/MyDrive/Colab Notebooks\""
      ]
    },
    {
      "cell_type": "code",
      "source": [
        "!unzip \"./butterfly-spider.zip\" -d \"./butterfly-spider\""
      ],
      "metadata": {
        "colab": {
          "base_uri": "https://localhost:8080/"
        },
        "collapsed": true,
        "id": "HPtItnGNtIJ6",
        "outputId": "beadad89-d4ae-4494-9996-f530eb40238b"
      },
      "execution_count": null,
      "outputs": [
        {
          "output_type": "stream",
          "name": "stdout",
          "text": [
            "Archive:  ./butterfly-spider.zip\n",
            "  inflating: ./butterfly-spider/butterfly-spider/data.yaml  \n",
            "  inflating: ./butterfly-spider/butterfly-spider/README.dataset.txt  \n",
            "  inflating: ./butterfly-spider/butterfly-spider/README.roboflow.txt  \n",
            "   creating: ./butterfly-spider/butterfly-spider/test/\n",
            "   creating: ./butterfly-spider/butterfly-spider/test/images/\n",
            "  inflating: ./butterfly-spider/butterfly-spider/test/images/e034b90b20f11c22d2524518b7444f92e37fe5d404b0144390f8c47ba6ebb4_640_jpg.rf.e9ac7865b4b651be750e4c52c12e5a84.jpg  \n",
            "  inflating: ./butterfly-spider/butterfly-spider/test/images/e830b2062dfc023ed1584d05fb1d4e9fe777ead218ac104497f5c97ca5ecb5b1_640_jpg.rf.1ac98865cf65c71733add665eff90be7.jpg  \n",
            "  inflating: ./butterfly-spider/butterfly-spider/test/images/e830b40a2af5073ed1584d05fb1d4e9fe777ead218ac104497f5c97ca5edb3bd_640_jpg.rf.de6c96e3b45451c57378a5f877745cb8.jpg  \n",
            "  inflating: ./butterfly-spider/butterfly-spider/test/images/e831b0092bf1053ed1584d05fb1d4e9fe777ead218ac104497f5c97ca5ecb5b1_640_jpg.rf.fb13de368cdeea27b3949c9a47e0239a.jpg  \n",
            "  inflating: ./butterfly-spider/butterfly-spider/test/images/e833b5092bf0013ed1584d05fb1d4e9fe777ead218ac104497f5c97ca5edb3bd_640_jpg.rf.bc0c711857ac9b3593378d69d7992bec.jpg  \n",
            "  inflating: ./butterfly-spider/butterfly-spider/test/images/e833b50c2df5013ed1584d05fb1d4e9fe777ead218ac104497f5c97faee8b1b8_640_jpg.rf.53a902b5a24117116d47a459cce53a3f.jpg  \n",
            "  inflating: ./butterfly-spider/butterfly-spider/test/images/e833b8062af01c22d2524518b7444f92e37fe5d404b0144390f8c770a3e5b7_640_jpg.rf.c69a9dd936a4cc37a3ba6a3c53dd3af7.jpg  \n",
            "  inflating: ./butterfly-spider/butterfly-spider/test/images/e835b90929f21c22d2524518b7444f92e37fe5d404b0144390f8c770a3e5b7_640_jpg.rf.82359b83d610492bce334911eb9e8b2a.jpg  \n",
            "  inflating: ./butterfly-spider/butterfly-spider/test/images/e83db3062cf4053ed1584d05fb1d4e9fe777ead218ac104497f5c97faee9bdba_640_jpg.rf.0c335eb56c34aa6edba5f59c7533437e.jpg  \n",
            "  inflating: ./butterfly-spider/butterfly-spider/test/images/e83db3082bfd1c22d2524518b7444f92e37fe5d404b0144390f8c47ba7ebb0_640_jpg.rf.011f66950d564fe0eef5ced182022aca.jpg  \n",
            "  inflating: ./butterfly-spider/butterfly-spider/test/images/ea31b00821f71c22d2524518b7444f92e37fe5d404b0144390f8c770a1edb6_640_jpg.rf.76868f7c72fd435f01f630227123f83e.jpg  \n",
            "  inflating: ./butterfly-spider/butterfly-spider/test/images/ea34b00f2af7083ed1584d05fb1d4e9fe777ead218ac104497f5c97faeebb5bb_640_jpg.rf.307677552d3ea99480f3d99814cb3b33.jpg  \n",
            "  inflating: ./butterfly-spider/butterfly-spider/test/images/ea34b10c2ff2033ed1584d05fb1d4e9fe777ead218ac104497f5c97ca5ecb5b1_640_jpg.rf.75f17a8526eda60fc65d3df4df3611a9.jpg  \n",
            "  inflating: ./butterfly-spider/butterfly-spider/test/images/ea34b20d2af1063ed1584d05fb1d4e9fe777ead218ac104497f5c97faee8b1b8_640_jpg.rf.9a2721f749c3769ba1c11e1bf510363a.jpg  \n",
            "  inflating: ./butterfly-spider/butterfly-spider/test/images/ea34b3072ff1043ed1584d05fb1d4e9fe777ead218ac104497f5c97ca5edb3bd_640_jpg.rf.51f9c987cf7d90b7f6767a6283e0b299.jpg  \n",
            "  inflating: ./butterfly-spider/butterfly-spider/test/images/ea34b3082bf7073ed1584d05fb1d4e9fe777ead218ac104497f5c97faeebb5bb_640_jpg.rf.4df0e7206ed3d24f3663725c37540b24.jpg  \n",
            "  inflating: ./butterfly-spider/butterfly-spider/test/images/ea34b30a28fc073ed1584d05fb1d4e9fe777ead218ac104497f5c97ca5ecb3b9_640_jpg.rf.26b12b77042e51cd02f77728fffca9fe.jpg  \n",
            "  inflating: ./butterfly-spider/butterfly-spider/test/images/ea34b40628f2043ed1584d05fb1d4e9fe777ead218ac104497f5c97faee8b1b8_640_jpg.rf.720e9bbe441807fa51d5b885427f2de2.jpg  \n",
            "  inflating: ./butterfly-spider/butterfly-spider/test/images/ea34b5082af3053ed1584d05fb1d4e9fe777ead218ac104497f5c97faeebb5bb_640_jpg.rf.ce6dd92b3efe4d938e061ecbfdd85531.jpg  \n",
            "  inflating: ./butterfly-spider/butterfly-spider/test/images/ea34b70729f3093ed1584d05fb1d4e9fe777ead218ac104497f5c97ca5edb3bd_640_jpg.rf.0f030a361bb2819765e8f24cc710769d.jpg  \n",
            "  inflating: ./butterfly-spider/butterfly-spider/test/images/ea34b70829f0063ed1584d05fb1d4e9fe777ead218ac104497f5c97ca5edb3bd_640_jpg.rf.0f8814241312cc7172c6fda8abce3264.jpg  \n",
            "  inflating: ./butterfly-spider/butterfly-spider/test/images/ea35b10b2cf31c22d2524518b7444f92e37fe5d404b0144390f8c47ba6ebb4_640_jpg.rf.619a4f6b3f39338e162936e30394ecc4.jpg  \n",
            "  inflating: ./butterfly-spider/butterfly-spider/test/images/ea35b40c2bfc073ed1584d05fb1d4e9fe777ead218ac104497f5c97ca5ecb5b1_640_jpg.rf.a9ad00187937df03b399fa0339ef4338.jpg  \n",
            "  inflating: ./butterfly-spider/butterfly-spider/test/images/ea35b40c2cf5003ed1584d05fb1d4e9fe777ead218ac104497f5c97ca5ecb5b1_640_jpg.rf.5cb940eb447b29867f131c62b0c8fcb2.jpg  \n",
            "  inflating: ./butterfly-spider/butterfly-spider/test/images/ea35b40e2cfd043ed1584d05fb1d4e9fe777ead218ac104497f5c97ca5ecb5b1_640_jpg.rf.d44949385cd185d4ed6d1015ab47ceb8.jpg  \n",
            "  inflating: ./butterfly-spider/butterfly-spider/test/images/ea35b7082bf2003ed1584d05fb1d4e9fe777ead218ac104497f5c97ca5edb3bd_640_jpg.rf.626fc39f5eff9ebeb4a1aaea73556747.jpg  \n",
            "  inflating: ./butterfly-spider/butterfly-spider/test/images/ea35b70f2cf1023ed1584d05fb1d4e9fe777ead218ac104497f5c97ca5ecb5b1_640_jpg.rf.b224e9e190d967a3290b6b6f36fb1843.jpg  \n",
            "  inflating: ./butterfly-spider/butterfly-spider/test/images/ea36b00a28f1043ed1584d05fb1d4e9fe777ead218ac104497f5c97faee9bdba_640_jpg.rf.95f3910ab143a79d95d476513caf6da8.jpg  \n",
            "  inflating: ./butterfly-spider/butterfly-spider/test/images/ea36b00a2af3023ed1584d05fb1d4e9fe777ead218ac104497f5c97faee8b1b8_640_jpg.rf.7e29b4de422e693ec1a12072a335381d.jpg  \n",
            "  inflating: ./butterfly-spider/butterfly-spider/test/images/ea36b10a2cf6063ed1584d05fb1d4e9fe777ead218ac104497f5c97ca5ecb3b9_640_jpg.rf.82af10b276471b1e095b13f4bd521e0c.jpg  \n",
            "  inflating: ./butterfly-spider/butterfly-spider/test/images/ea36b20b2ff5013ed1584d05fb1d4e9fe777ead218ac104497f5c97faee8b1b8_640_jpg.rf.0d22441ae7ece8a572bc232a352abdf0.jpg  \n",
            "  inflating: ./butterfly-spider/butterfly-spider/test/images/ea36b20c29f3063ed1584d05fb1d4e9fe777ead218ac104497f5c97faee9bdba_640_jpg.rf.1e882f2565587a13daeb1fd963704836.jpg  \n",
            "  inflating: ./butterfly-spider/butterfly-spider/test/images/ea36b20c29fc003ed1584d05fb1d4e9fe777ead218ac104497f5c97faee9bdba_640_jpg.rf.06c7b5617595544734d346a679d4744a.jpg  \n",
            "  inflating: ./butterfly-spider/butterfly-spider/test/images/ea36b20c29fc033ed1584d05fb1d4e9fe777ead218ac104497f5c97faee9bdba_640_jpg.rf.9438153215fe9f53e023e732fb5943e0.jpg  \n",
            "  inflating: ./butterfly-spider/butterfly-spider/test/images/ea36b30f2cfd083ed1584d05fb1d4e9fe777ead218ac104497f5c97faee9bdba_640_jpg.rf.189359971f54a410c8cfea2c5a8d6a7f.jpg  \n",
            "  inflating: ./butterfly-spider/butterfly-spider/test/images/ea36b30f2ef3013ed1584d05fb1d4e9fe777ead218ac104497f5c97faee9bdba_640_jpg.rf.100210455c84385c6571c49a6c6a2118.jpg  \n",
            "  inflating: ./butterfly-spider/butterfly-spider/test/images/ea36b40a2af4073ed1584d05fb1d4e9fe777ead218ac104497f5c97ca5edb3bd_640_jpg.rf.5bdaa55f2973b4bdccba1e58bcb260d3.jpg  \n",
            "  inflating: ./butterfly-spider/butterfly-spider/test/images/ea36b50720f6043ed1584d05fb1d4e9fe777ead218ac104497f5c97ca5edb3bd_640_jpg.rf.1280f20e4983ac612bafacc5c7dcd060.jpg  \n",
            "  inflating: ./butterfly-spider/butterfly-spider/test/images/ea36b50a2ef2023ed1584d05fb1d4e9fe777ead218ac104497f5c97faee9bdba_640_jpg.rf.625226816ec18e6358c96a98dc25c5f3.jpg  \n",
            "  inflating: ./butterfly-spider/butterfly-spider/test/images/ea36b60e2dfd003ed1584d05fb1d4e9fe777ead218ac104497f5c97faee9bdba_640_jpg.rf.8c2658931dd7dac4a8db8aff5f61ac54.jpg  \n",
            "  inflating: ./butterfly-spider/butterfly-spider/test/images/ea37b20c2ff1013ed1584d05fb1d4e9fe777ead218ac104497f5c97ca5edb3bd_640_jpg.rf.fbad837cd8c5de2497988248c3a2bf39.jpg  \n",
            "  inflating: ./butterfly-spider/butterfly-spider/test/images/ea37b40b2ef6053ed1584d05fb1d4e9fe777ead218ac104497f5c97faee8b1b8_640_jpg.rf.e14d11e4be9ff85578ce5961b7c27112.jpg  \n",
            "  inflating: ./butterfly-spider/butterfly-spider/test/images/eb31b90b2efc033ed1584d05fb1d4e9fe777ead218ac104497f5c97faeebb5bb_640_jpg.rf.62659f978653e014441d9f44687b7ccb.jpg  \n",
            "  inflating: ./butterfly-spider/butterfly-spider/test/images/ec32b0082df51c22d2524518b7444f92e37fe5d404b0144390f8c770a1edb6_640_jpg.rf.693d86e7b02e6d9bac86e0c8f342a49a.jpg  \n",
            "  inflating: ./butterfly-spider/butterfly-spider/test/images/OIP-YaAyNdJ4k-DJ8lGSarWxhwHaFj_jpeg.rf.6fb5938207446fdfb2ac6818204aa48c.jpg  \n",
            "  inflating: ./butterfly-spider/butterfly-spider/test/images/OIP-yAE2NMX23E1bMvcyPVKPmQHaE8_jpeg.rf.b0b1af5a727a21bd5da58c8e1ab0d1bf.jpg  \n",
            "  inflating: ./butterfly-spider/butterfly-spider/test/images/OIP-yFkf6c5jYoBpaQnet10UBgHaHS_jpeg.rf.f44a73917726eb01d9ecca5d856b31a0.jpg  \n",
            "  inflating: ./butterfly-spider/butterfly-spider/test/images/OIP-ygBcWExGUYB08ajAijP41AHaFO_jpeg.rf.e23c97a911032a6e744b9c5c4c4c7ad7.jpg  \n",
            "  inflating: ./butterfly-spider/butterfly-spider/test/images/OIP-YGoGMvaerGjTgVOCePHjTAHaEo_jpeg.rf.03b687c1b9b20d280702f546cb4d2793.jpg  \n",
            "  inflating: ./butterfly-spider/butterfly-spider/test/images/OIP-yJB7K-70pklUpUEaaEkCegHaHa_jpeg.rf.0c17bf1c408db7054143be6191c142bb.jpg  \n",
            "  inflating: ./butterfly-spider/butterfly-spider/test/images/OIP-yMGhUmTwn_tzRtgWU3mzwgHaKa_jpeg.rf.f87c1d984f041e0d696e2ed90ca66fa6.jpg  \n",
            "  inflating: ./butterfly-spider/butterfly-spider/test/images/OIP-yn-HWD8oZUQ47FhOFBbTZwHaLp_jpeg.rf.750a231db29def50d9f05ac9a02096a3.jpg  \n",
            "  inflating: ./butterfly-spider/butterfly-spider/test/images/OIP-yNuCv-Qj8lZtbjfWhvaRpAHaE8_jpeg.rf.c2c722c1d75d7aaee08d555341e2334b.jpg  \n",
            "  inflating: ./butterfly-spider/butterfly-spider/test/images/OIP-Yr6M5g4v3plj-XggL9giOAHaE7_jpeg.rf.3d49f1af0853ffdd80e31ad0005e0865.jpg  \n",
            "  inflating: ./butterfly-spider/butterfly-spider/test/images/OIP-yrDnVDB2X0pTQapZWX4MfAHaE8_jpeg.rf.0a412c89584e38a3d2fa16863c67bd4b.jpg  \n",
            "  inflating: ./butterfly-spider/butterfly-spider/test/images/OIP-ySN-hpZ1Sn4LiR-Yy7auQAHaFj_jpeg.rf.84ba291a7ed18960a0bbcf1dad2708a0.jpg  \n",
            "  inflating: ./butterfly-spider/butterfly-spider/test/images/OIP-YSRlacJJHUH4pPbEBR8vqwHaFj_jpeg.rf.bf7f059b2b6daf95b3ea4b6b67692177.jpg  \n",
            "  inflating: ./butterfly-spider/butterfly-spider/test/images/OIP-yx1XVbO-S6f5upF0239H9gHaEK_jpeg.rf.d517fc8c7ee0aa6b1416302ba7598ef5.jpg  \n",
            "  inflating: ./butterfly-spider/butterfly-spider/test/images/OIP-YychsYBQAfWPWw7BS7JI0wHaHg_jpeg.rf.56f1395ed35f3e5b8ccea24f3157136f.jpg  \n",
            "  inflating: ./butterfly-spider/butterfly-spider/test/images/OIP-Z2I8o3e87qSjSm85khipBAHaJ-_jpeg.rf.5408c511bbf3dbb974074ae621220670.jpg  \n",
            "  inflating: ./butterfly-spider/butterfly-spider/test/images/OIP-z4u7KUGvVDP9KYGm5CyM9AHaE7_jpeg.rf.34633ce4ba1314697db78949969131af.jpg  \n",
            "  inflating: ./butterfly-spider/butterfly-spider/test/images/OIP-z6_541dmzAK5YKbyqjQavAHaE7_jpeg.rf.cf72d7a1094a43b063b00412011a3b4f.jpg  \n",
            "  inflating: ./butterfly-spider/butterfly-spider/test/images/OIP-z7glKET-e-ks3f1EIDFfFAHaE7_jpeg.rf.aa6d2e40ceb1f8cc689e91bbad617bae.jpg  \n",
            "  inflating: ./butterfly-spider/butterfly-spider/test/images/OIP-Z8dqXxfmW8DEkPn-OvESZgHaGQ_jpeg.rf.3b4daea13a11e87c3de08db4b9e53941.jpg  \n",
            "  inflating: ./butterfly-spider/butterfly-spider/test/images/OIP-ZajAN2xucmQksYVzB_oZ8wHaF7_jpeg.rf.3fa54748e1f7c3b6b04f5cc4d03e4cc7.jpg  \n",
            "  inflating: ./butterfly-spider/butterfly-spider/test/images/OIP-ZbJ0uMSq6BoPcN1f6OQrWgHaFL_jpeg.rf.64206e06be591ee9aa1ad465081d44f8.jpg  \n",
            "  inflating: ./butterfly-spider/butterfly-spider/test/images/OIP-z-Di2tlPDdinq2kU19r-CQHaFN_jpeg.rf.11a443817f00596f76d455127cd9824c.jpg  \n",
            "  inflating: ./butterfly-spider/butterfly-spider/test/images/OIP-zdOz0yx9r54k41PRrpjAJQHaE7_jpeg.rf.5ec2eac5c7ccb8f237e87701ff734b70.jpg  \n",
            "  inflating: ./butterfly-spider/butterfly-spider/test/images/OIP-zEEYiHDGKLRRpR-OBn9BoAEgDY_jpeg.rf.3cbc18b4b1b635e155e137e203e01487.jpg  \n",
            "  inflating: ./butterfly-spider/butterfly-spider/test/images/OIP-zJGASEhErhx8CxqcSfNe8QHaKO_jpeg.rf.ee75b64870ce736314bb8532f59afd20.jpg  \n",
            "  inflating: ./butterfly-spider/butterfly-spider/test/images/OIP-zPWdlcEcEU3uu4q28z37UQHaFA_jpeg.rf.2beea8996c966faeaed166df1be8f2cc.jpg  \n",
            "  inflating: ./butterfly-spider/butterfly-spider/test/images/OIP-zq3YHLEyravl0psS7CMflgHaFj_jpeg.rf.454546055065fcc5d90f4643710f6720.jpg  \n",
            "  inflating: ./butterfly-spider/butterfly-spider/test/images/OIP-zSFRABsp-oQXzJ5ih61n3wHaE8_jpeg.rf.2a7c1d3b18dfd4baeedf0a22a8fa1c15.jpg  \n",
            "  inflating: ./butterfly-spider/butterfly-spider/test/images/OIP-Zt9YgfsbfRSQf5Q3L5cFmQHaFR_jpeg.rf.127a8440a8f92af579d1edac1308ffd9.jpg  \n",
            "  inflating: ./butterfly-spider/butterfly-spider/test/images/OIP-ZUnieU4McT-8jIM1p_Wy_QHaIl_jpeg.rf.ccbd0247265fc3daaa5f6d8fb5840e10.jpg  \n",
            "  inflating: ./butterfly-spider/butterfly-spider/test/images/OIP-zUqkNqFUDJN1STtJHksnwwHaE7_jpeg.rf.c2c1f6110906990fe386d2a6909ede33.jpg  \n",
            "  inflating: ./butterfly-spider/butterfly-spider/test/images/OIP-zXRXv9uF7qQJ1qJuigjULwHaFj_jpeg.rf.7628333b97394145c9232518c8577e68.jpg  \n",
            "  inflating: ./butterfly-spider/butterfly-spider/test/images/OIP-ZZoOuYOOpWwIuFxNtxD4VQHaL__jpeg.rf.bd2375275345fb964244cec366dd5ff4.jpg  \n",
            "   creating: ./butterfly-spider/butterfly-spider/test/labels/\n",
            "  inflating: ./butterfly-spider/butterfly-spider/test/labels/e034b90b20f11c22d2524518b7444f92e37fe5d404b0144390f8c47ba6ebb4_640_jpg.rf.e9ac7865b4b651be750e4c52c12e5a84.txt  \n",
            "  inflating: ./butterfly-spider/butterfly-spider/test/labels/e830b2062dfc023ed1584d05fb1d4e9fe777ead218ac104497f5c97ca5ecb5b1_640_jpg.rf.1ac98865cf65c71733add665eff90be7.txt  \n",
            "  inflating: ./butterfly-spider/butterfly-spider/test/labels/e830b40a2af5073ed1584d05fb1d4e9fe777ead218ac104497f5c97ca5edb3bd_640_jpg.rf.de6c96e3b45451c57378a5f877745cb8.txt  \n",
            "  inflating: ./butterfly-spider/butterfly-spider/test/labels/e831b0092bf1053ed1584d05fb1d4e9fe777ead218ac104497f5c97ca5ecb5b1_640_jpg.rf.fb13de368cdeea27b3949c9a47e0239a.txt  \n",
            "  inflating: ./butterfly-spider/butterfly-spider/test/labels/e833b5092bf0013ed1584d05fb1d4e9fe777ead218ac104497f5c97ca5edb3bd_640_jpg.rf.bc0c711857ac9b3593378d69d7992bec.txt  \n",
            "  inflating: ./butterfly-spider/butterfly-spider/test/labels/e833b50c2df5013ed1584d05fb1d4e9fe777ead218ac104497f5c97faee8b1b8_640_jpg.rf.53a902b5a24117116d47a459cce53a3f.txt  \n",
            "  inflating: ./butterfly-spider/butterfly-spider/test/labels/e833b8062af01c22d2524518b7444f92e37fe5d404b0144390f8c770a3e5b7_640_jpg.rf.c69a9dd936a4cc37a3ba6a3c53dd3af7.txt  \n",
            "  inflating: ./butterfly-spider/butterfly-spider/test/labels/e835b90929f21c22d2524518b7444f92e37fe5d404b0144390f8c770a3e5b7_640_jpg.rf.82359b83d610492bce334911eb9e8b2a.txt  \n",
            "  inflating: ./butterfly-spider/butterfly-spider/test/labels/e83db3062cf4053ed1584d05fb1d4e9fe777ead218ac104497f5c97faee9bdba_640_jpg.rf.0c335eb56c34aa6edba5f59c7533437e.txt  \n",
            "  inflating: ./butterfly-spider/butterfly-spider/test/labels/e83db3082bfd1c22d2524518b7444f92e37fe5d404b0144390f8c47ba7ebb0_640_jpg.rf.011f66950d564fe0eef5ced182022aca.txt  \n",
            "  inflating: ./butterfly-spider/butterfly-spider/test/labels/ea31b00821f71c22d2524518b7444f92e37fe5d404b0144390f8c770a1edb6_640_jpg.rf.76868f7c72fd435f01f630227123f83e.txt  \n",
            "  inflating: ./butterfly-spider/butterfly-spider/test/labels/ea34b00f2af7083ed1584d05fb1d4e9fe777ead218ac104497f5c97faeebb5bb_640_jpg.rf.307677552d3ea99480f3d99814cb3b33.txt  \n",
            "  inflating: ./butterfly-spider/butterfly-spider/test/labels/ea34b10c2ff2033ed1584d05fb1d4e9fe777ead218ac104497f5c97ca5ecb5b1_640_jpg.rf.75f17a8526eda60fc65d3df4df3611a9.txt  \n",
            "  inflating: ./butterfly-spider/butterfly-spider/test/labels/ea34b20d2af1063ed1584d05fb1d4e9fe777ead218ac104497f5c97faee8b1b8_640_jpg.rf.9a2721f749c3769ba1c11e1bf510363a.txt  \n",
            "  inflating: ./butterfly-spider/butterfly-spider/test/labels/ea34b3072ff1043ed1584d05fb1d4e9fe777ead218ac104497f5c97ca5edb3bd_640_jpg.rf.51f9c987cf7d90b7f6767a6283e0b299.txt  \n",
            "  inflating: ./butterfly-spider/butterfly-spider/test/labels/ea34b3082bf7073ed1584d05fb1d4e9fe777ead218ac104497f5c97faeebb5bb_640_jpg.rf.4df0e7206ed3d24f3663725c37540b24.txt  \n",
            "  inflating: ./butterfly-spider/butterfly-spider/test/labels/ea34b30a28fc073ed1584d05fb1d4e9fe777ead218ac104497f5c97ca5ecb3b9_640_jpg.rf.26b12b77042e51cd02f77728fffca9fe.txt  \n",
            "  inflating: ./butterfly-spider/butterfly-spider/test/labels/ea34b40628f2043ed1584d05fb1d4e9fe777ead218ac104497f5c97faee8b1b8_640_jpg.rf.720e9bbe441807fa51d5b885427f2de2.txt  \n",
            "  inflating: ./butterfly-spider/butterfly-spider/test/labels/ea34b5082af3053ed1584d05fb1d4e9fe777ead218ac104497f5c97faeebb5bb_640_jpg.rf.ce6dd92b3efe4d938e061ecbfdd85531.txt  \n",
            "  inflating: ./butterfly-spider/butterfly-spider/test/labels/ea34b70729f3093ed1584d05fb1d4e9fe777ead218ac104497f5c97ca5edb3bd_640_jpg.rf.0f030a361bb2819765e8f24cc710769d.txt  \n",
            "  inflating: ./butterfly-spider/butterfly-spider/test/labels/ea34b70829f0063ed1584d05fb1d4e9fe777ead218ac104497f5c97ca5edb3bd_640_jpg.rf.0f8814241312cc7172c6fda8abce3264.txt  \n",
            "  inflating: ./butterfly-spider/butterfly-spider/test/labels/ea35b10b2cf31c22d2524518b7444f92e37fe5d404b0144390f8c47ba6ebb4_640_jpg.rf.619a4f6b3f39338e162936e30394ecc4.txt  \n",
            "  inflating: ./butterfly-spider/butterfly-spider/test/labels/ea35b40c2bfc073ed1584d05fb1d4e9fe777ead218ac104497f5c97ca5ecb5b1_640_jpg.rf.a9ad00187937df03b399fa0339ef4338.txt  \n",
            "  inflating: ./butterfly-spider/butterfly-spider/test/labels/ea35b40c2cf5003ed1584d05fb1d4e9fe777ead218ac104497f5c97ca5ecb5b1_640_jpg.rf.5cb940eb447b29867f131c62b0c8fcb2.txt  \n",
            "  inflating: ./butterfly-spider/butterfly-spider/test/labels/ea35b40e2cfd043ed1584d05fb1d4e9fe777ead218ac104497f5c97ca5ecb5b1_640_jpg.rf.d44949385cd185d4ed6d1015ab47ceb8.txt  \n",
            "  inflating: ./butterfly-spider/butterfly-spider/test/labels/ea35b7082bf2003ed1584d05fb1d4e9fe777ead218ac104497f5c97ca5edb3bd_640_jpg.rf.626fc39f5eff9ebeb4a1aaea73556747.txt  \n",
            "  inflating: ./butterfly-spider/butterfly-spider/test/labels/ea35b70f2cf1023ed1584d05fb1d4e9fe777ead218ac104497f5c97ca5ecb5b1_640_jpg.rf.b224e9e190d967a3290b6b6f36fb1843.txt  \n",
            "  inflating: ./butterfly-spider/butterfly-spider/test/labels/ea36b00a28f1043ed1584d05fb1d4e9fe777ead218ac104497f5c97faee9bdba_640_jpg.rf.95f3910ab143a79d95d476513caf6da8.txt  \n",
            "  inflating: ./butterfly-spider/butterfly-spider/test/labels/ea36b00a2af3023ed1584d05fb1d4e9fe777ead218ac104497f5c97faee8b1b8_640_jpg.rf.7e29b4de422e693ec1a12072a335381d.txt  \n",
            "  inflating: ./butterfly-spider/butterfly-spider/test/labels/ea36b10a2cf6063ed1584d05fb1d4e9fe777ead218ac104497f5c97ca5ecb3b9_640_jpg.rf.82af10b276471b1e095b13f4bd521e0c.txt  \n",
            "  inflating: ./butterfly-spider/butterfly-spider/test/labels/ea36b20b2ff5013ed1584d05fb1d4e9fe777ead218ac104497f5c97faee8b1b8_640_jpg.rf.0d22441ae7ece8a572bc232a352abdf0.txt  \n",
            "  inflating: ./butterfly-spider/butterfly-spider/test/labels/ea36b20c29f3063ed1584d05fb1d4e9fe777ead218ac104497f5c97faee9bdba_640_jpg.rf.1e882f2565587a13daeb1fd963704836.txt  \n",
            "  inflating: ./butterfly-spider/butterfly-spider/test/labels/ea36b20c29fc003ed1584d05fb1d4e9fe777ead218ac104497f5c97faee9bdba_640_jpg.rf.06c7b5617595544734d346a679d4744a.txt  \n",
            "  inflating: ./butterfly-spider/butterfly-spider/test/labels/ea36b20c29fc033ed1584d05fb1d4e9fe777ead218ac104497f5c97faee9bdba_640_jpg.rf.9438153215fe9f53e023e732fb5943e0.txt  \n",
            "  inflating: ./butterfly-spider/butterfly-spider/test/labels/ea36b30f2cfd083ed1584d05fb1d4e9fe777ead218ac104497f5c97faee9bdba_640_jpg.rf.189359971f54a410c8cfea2c5a8d6a7f.txt  \n",
            "  inflating: ./butterfly-spider/butterfly-spider/test/labels/ea36b30f2ef3013ed1584d05fb1d4e9fe777ead218ac104497f5c97faee9bdba_640_jpg.rf.100210455c84385c6571c49a6c6a2118.txt  \n",
            "  inflating: ./butterfly-spider/butterfly-spider/test/labels/ea36b40a2af4073ed1584d05fb1d4e9fe777ead218ac104497f5c97ca5edb3bd_640_jpg.rf.5bdaa55f2973b4bdccba1e58bcb260d3.txt  \n",
            "  inflating: ./butterfly-spider/butterfly-spider/test/labels/ea36b50720f6043ed1584d05fb1d4e9fe777ead218ac104497f5c97ca5edb3bd_640_jpg.rf.1280f20e4983ac612bafacc5c7dcd060.txt  \n",
            "  inflating: ./butterfly-spider/butterfly-spider/test/labels/ea36b50a2ef2023ed1584d05fb1d4e9fe777ead218ac104497f5c97faee9bdba_640_jpg.rf.625226816ec18e6358c96a98dc25c5f3.txt  \n",
            "  inflating: ./butterfly-spider/butterfly-spider/test/labels/ea36b60e2dfd003ed1584d05fb1d4e9fe777ead218ac104497f5c97faee9bdba_640_jpg.rf.8c2658931dd7dac4a8db8aff5f61ac54.txt  \n",
            "  inflating: ./butterfly-spider/butterfly-spider/test/labels/ea37b20c2ff1013ed1584d05fb1d4e9fe777ead218ac104497f5c97ca5edb3bd_640_jpg.rf.fbad837cd8c5de2497988248c3a2bf39.txt  \n",
            "  inflating: ./butterfly-spider/butterfly-spider/test/labels/ea37b40b2ef6053ed1584d05fb1d4e9fe777ead218ac104497f5c97faee8b1b8_640_jpg.rf.e14d11e4be9ff85578ce5961b7c27112.txt  \n",
            "  inflating: ./butterfly-spider/butterfly-spider/test/labels/eb31b90b2efc033ed1584d05fb1d4e9fe777ead218ac104497f5c97faeebb5bb_640_jpg.rf.62659f978653e014441d9f44687b7ccb.txt  \n",
            "  inflating: ./butterfly-spider/butterfly-spider/test/labels/ec32b0082df51c22d2524518b7444f92e37fe5d404b0144390f8c770a1edb6_640_jpg.rf.693d86e7b02e6d9bac86e0c8f342a49a.txt  \n",
            "  inflating: ./butterfly-spider/butterfly-spider/test/labels/OIP-YaAyNdJ4k-DJ8lGSarWxhwHaFj_jpeg.rf.6fb5938207446fdfb2ac6818204aa48c.txt  \n",
            "  inflating: ./butterfly-spider/butterfly-spider/test/labels/OIP-yAE2NMX23E1bMvcyPVKPmQHaE8_jpeg.rf.b0b1af5a727a21bd5da58c8e1ab0d1bf.txt  \n",
            "  inflating: ./butterfly-spider/butterfly-spider/test/labels/OIP-yFkf6c5jYoBpaQnet10UBgHaHS_jpeg.rf.f44a73917726eb01d9ecca5d856b31a0.txt  \n",
            "  inflating: ./butterfly-spider/butterfly-spider/test/labels/OIP-ygBcWExGUYB08ajAijP41AHaFO_jpeg.rf.e23c97a911032a6e744b9c5c4c4c7ad7.txt  \n",
            "  inflating: ./butterfly-spider/butterfly-spider/test/labels/OIP-YGoGMvaerGjTgVOCePHjTAHaEo_jpeg.rf.03b687c1b9b20d280702f546cb4d2793.txt  \n",
            "  inflating: ./butterfly-spider/butterfly-spider/test/labels/OIP-yJB7K-70pklUpUEaaEkCegHaHa_jpeg.rf.0c17bf1c408db7054143be6191c142bb.txt  \n",
            "  inflating: ./butterfly-spider/butterfly-spider/test/labels/OIP-yMGhUmTwn_tzRtgWU3mzwgHaKa_jpeg.rf.f87c1d984f041e0d696e2ed90ca66fa6.txt  \n",
            "  inflating: ./butterfly-spider/butterfly-spider/test/labels/OIP-yn-HWD8oZUQ47FhOFBbTZwHaLp_jpeg.rf.750a231db29def50d9f05ac9a02096a3.txt  \n",
            "  inflating: ./butterfly-spider/butterfly-spider/test/labels/OIP-yNuCv-Qj8lZtbjfWhvaRpAHaE8_jpeg.rf.c2c722c1d75d7aaee08d555341e2334b.txt  \n",
            "  inflating: ./butterfly-spider/butterfly-spider/test/labels/OIP-Yr6M5g4v3plj-XggL9giOAHaE7_jpeg.rf.3d49f1af0853ffdd80e31ad0005e0865.txt  \n",
            "  inflating: ./butterfly-spider/butterfly-spider/test/labels/OIP-yrDnVDB2X0pTQapZWX4MfAHaE8_jpeg.rf.0a412c89584e38a3d2fa16863c67bd4b.txt  \n",
            "  inflating: ./butterfly-spider/butterfly-spider/test/labels/OIP-ySN-hpZ1Sn4LiR-Yy7auQAHaFj_jpeg.rf.84ba291a7ed18960a0bbcf1dad2708a0.txt  \n",
            "  inflating: ./butterfly-spider/butterfly-spider/test/labels/OIP-YSRlacJJHUH4pPbEBR8vqwHaFj_jpeg.rf.bf7f059b2b6daf95b3ea4b6b67692177.txt  \n",
            "  inflating: ./butterfly-spider/butterfly-spider/test/labels/OIP-yx1XVbO-S6f5upF0239H9gHaEK_jpeg.rf.d517fc8c7ee0aa6b1416302ba7598ef5.txt  \n",
            "  inflating: ./butterfly-spider/butterfly-spider/test/labels/OIP-YychsYBQAfWPWw7BS7JI0wHaHg_jpeg.rf.56f1395ed35f3e5b8ccea24f3157136f.txt  \n",
            "  inflating: ./butterfly-spider/butterfly-spider/test/labels/OIP-Z2I8o3e87qSjSm85khipBAHaJ-_jpeg.rf.5408c511bbf3dbb974074ae621220670.txt  \n",
            "  inflating: ./butterfly-spider/butterfly-spider/test/labels/OIP-z4u7KUGvVDP9KYGm5CyM9AHaE7_jpeg.rf.34633ce4ba1314697db78949969131af.txt  \n",
            "  inflating: ./butterfly-spider/butterfly-spider/test/labels/OIP-z6_541dmzAK5YKbyqjQavAHaE7_jpeg.rf.cf72d7a1094a43b063b00412011a3b4f.txt  \n",
            "  inflating: ./butterfly-spider/butterfly-spider/test/labels/OIP-z7glKET-e-ks3f1EIDFfFAHaE7_jpeg.rf.aa6d2e40ceb1f8cc689e91bbad617bae.txt  \n",
            "  inflating: ./butterfly-spider/butterfly-spider/test/labels/OIP-Z8dqXxfmW8DEkPn-OvESZgHaGQ_jpeg.rf.3b4daea13a11e87c3de08db4b9e53941.txt  \n",
            "  inflating: ./butterfly-spider/butterfly-spider/test/labels/OIP-ZajAN2xucmQksYVzB_oZ8wHaF7_jpeg.rf.3fa54748e1f7c3b6b04f5cc4d03e4cc7.txt  \n",
            "  inflating: ./butterfly-spider/butterfly-spider/test/labels/OIP-ZbJ0uMSq6BoPcN1f6OQrWgHaFL_jpeg.rf.64206e06be591ee9aa1ad465081d44f8.txt  \n",
            "  inflating: ./butterfly-spider/butterfly-spider/test/labels/OIP-z-Di2tlPDdinq2kU19r-CQHaFN_jpeg.rf.11a443817f00596f76d455127cd9824c.txt  \n",
            "  inflating: ./butterfly-spider/butterfly-spider/test/labels/OIP-zdOz0yx9r54k41PRrpjAJQHaE7_jpeg.rf.5ec2eac5c7ccb8f237e87701ff734b70.txt  \n",
            "  inflating: ./butterfly-spider/butterfly-spider/test/labels/OIP-zEEYiHDGKLRRpR-OBn9BoAEgDY_jpeg.rf.3cbc18b4b1b635e155e137e203e01487.txt  \n",
            "  inflating: ./butterfly-spider/butterfly-spider/test/labels/OIP-zJGASEhErhx8CxqcSfNe8QHaKO_jpeg.rf.ee75b64870ce736314bb8532f59afd20.txt  \n",
            "  inflating: ./butterfly-spider/butterfly-spider/test/labels/OIP-zPWdlcEcEU3uu4q28z37UQHaFA_jpeg.rf.2beea8996c966faeaed166df1be8f2cc.txt  \n",
            "  inflating: ./butterfly-spider/butterfly-spider/test/labels/OIP-zq3YHLEyravl0psS7CMflgHaFj_jpeg.rf.454546055065fcc5d90f4643710f6720.txt  \n",
            "  inflating: ./butterfly-spider/butterfly-spider/test/labels/OIP-zSFRABsp-oQXzJ5ih61n3wHaE8_jpeg.rf.2a7c1d3b18dfd4baeedf0a22a8fa1c15.txt  \n",
            "  inflating: ./butterfly-spider/butterfly-spider/test/labels/OIP-Zt9YgfsbfRSQf5Q3L5cFmQHaFR_jpeg.rf.127a8440a8f92af579d1edac1308ffd9.txt  \n",
            "  inflating: ./butterfly-spider/butterfly-spider/test/labels/OIP-ZUnieU4McT-8jIM1p_Wy_QHaIl_jpeg.rf.ccbd0247265fc3daaa5f6d8fb5840e10.txt  \n",
            "  inflating: ./butterfly-spider/butterfly-spider/test/labels/OIP-zUqkNqFUDJN1STtJHksnwwHaE7_jpeg.rf.c2c1f6110906990fe386d2a6909ede33.txt  \n",
            "  inflating: ./butterfly-spider/butterfly-spider/test/labels/OIP-zXRXv9uF7qQJ1qJuigjULwHaFj_jpeg.rf.7628333b97394145c9232518c8577e68.txt  \n",
            "  inflating: ./butterfly-spider/butterfly-spider/test/labels/OIP-ZZoOuYOOpWwIuFxNtxD4VQHaL__jpeg.rf.bd2375275345fb964244cec366dd5ff4.txt  \n",
            "   creating: ./butterfly-spider/butterfly-spider/train/\n",
            "   creating: ./butterfly-spider/butterfly-spider/train/images/\n",
            "  inflating: ./butterfly-spider/butterfly-spider/train/images/e030b20928e90021d85a5854ee454296eb70e3c818b413449df6c87ca3ed_640_jpg.rf.2ab8253cd23c2f6c3effa890f30db910.jpg  \n",
            "  inflating: ./butterfly-spider/butterfly-spider/train/images/e030b20928e90021d85a5854ee454296eb70e3c818b413449df6c87ca3ed_640_jpg.rf.6c8320ef8b236038d74e9f44847968b8.jpg  \n",
            "  inflating: ./butterfly-spider/butterfly-spider/train/images/e030b20928e90021d85a5854ee454296eb70e3c818b413449df6c87ca3ed_640_jpg.rf.fcccf88d9abc8de56ed175f919d7ceb6.jpg  \n",
            "  inflating: ./butterfly-spider/butterfly-spider/train/images/e030b20929e90021d85a5854ee454296eb70e3c818b413449df6c87ca3ed_640_jpg.rf.00454e10df76896a2fdeb14e27d9dc51.jpg  \n",
            "  inflating: ./butterfly-spider/butterfly-spider/train/images/e030b20929e90021d85a5854ee454296eb70e3c818b413449df6c87ca3ed_640_jpg.rf.1b00bad4dda23e2d497aad3526045ee1.jpg  \n",
            "  inflating: ./butterfly-spider/butterfly-spider/train/images/e030b20929e90021d85a5854ee454296eb70e3c818b413449df6c87ca3ed_640_jpg.rf.c01ce0ddfae52969efa2d071ddfe12e6.jpg  \n",
            "  inflating: ./butterfly-spider/butterfly-spider/train/images/e030b2092de90021d85a5854ee454296eb70e3c818b413449df6c87ca3ed_640_jpg.rf.111ffce2262053cf36c2061d78fa7991.jpg  \n",
            "  inflating: ./butterfly-spider/butterfly-spider/train/images/e030b2092de90021d85a5854ee454296eb70e3c818b413449df6c87ca3ed_640_jpg.rf.be98b9bbba0a083a74b0fb747ba9e5a3.jpg  \n",
            "  inflating: ./butterfly-spider/butterfly-spider/train/images/e030b2092de90021d85a5854ee454296eb70e3c818b413449df6c87ca3ed_640_jpg.rf.ffdc05f10a0e09e9e69de7ecf4be9705.jpg  \n",
            "  inflating: ./butterfly-spider/butterfly-spider/train/images/e03db4072cf01c22d2524518b7444f92e37fe5d404b0144390f8c47ba6edbc_640_jpg.rf.10cfbdc12823622094e3b0299f3bf6f2.jpg  \n",
            "  inflating: ./butterfly-spider/butterfly-spider/train/images/e03db4072cf01c22d2524518b7444f92e37fe5d404b0144390f8c47ba6edbc_640_jpg.rf.7a50b97dc3846c53d768a0ce8cf6536c.jpg  \n",
            "  inflating: ./butterfly-spider/butterfly-spider/train/images/e03db4072cf01c22d2524518b7444f92e37fe5d404b0144390f8c47ba6edbc_640_jpg.rf.b80f766d22ffabf43dc52206b39d1b73.jpg  \n",
            "  inflating: ./butterfly-spider/butterfly-spider/train/images/e132b60e2af51c22d2524518b7444f92e37fe5d404b0144390f8c770a3e5b7_640_jpg.rf.37fd6e8e4b538cf2dda204ed8ca07529.jpg  \n",
            "  inflating: ./butterfly-spider/butterfly-spider/train/images/e132b60e2af51c22d2524518b7444f92e37fe5d404b0144390f8c770a3e5b7_640_jpg.rf.3c7473e13b768d6262ceab36e26dc7ac.jpg  \n",
            "  inflating: ./butterfly-spider/butterfly-spider/train/images/e132b60e2af51c22d2524518b7444f92e37fe5d404b0144390f8c770a3e5b7_640_jpg.rf.c704ee061539c695f0f612fee374528d.jpg  \n",
            "  inflating: ./butterfly-spider/butterfly-spider/train/images/e134b50a2efc1c22d2524518b7444f92e37fe5d404b0144390f8c770a1edb6_640_jpg.rf.1c56593e679662a5ffe0c47aec877798.jpg  \n",
            "  inflating: ./butterfly-spider/butterfly-spider/train/images/e134b50a2efc1c22d2524518b7444f92e37fe5d404b0144390f8c770a1edb6_640_jpg.rf.84cf48a42bc154ae50d836678f8eae69.jpg  \n",
            "  inflating: ./butterfly-spider/butterfly-spider/train/images/e134b50a2efc1c22d2524518b7444f92e37fe5d404b0144390f8c770a1edb6_640_jpg.rf.e39c4be93a89ee4f252ec26242cb2761.jpg  \n",
            "  inflating: ./butterfly-spider/butterfly-spider/train/images/e830b30a20f5003ed1584d05fb1d4e9fe777ead218ac104497f5c97faee9bdba_640_png.rf.b7b0543afd412163fa0213dbe14fe68a.jpg  \n",
            "  inflating: ./butterfly-spider/butterfly-spider/train/images/e830b30a20f5003ed1584d05fb1d4e9fe777ead218ac104497f5c97faee9bdba_640_png.rf.cfb244bc6db18833c90764911dec6a23.jpg  \n",
            "  inflating: ./butterfly-spider/butterfly-spider/train/images/e830b30a20f5003ed1584d05fb1d4e9fe777ead218ac104497f5c97faee9bdba_640_png.rf.e319110b74ed7cf142976f08815f6dcc.jpg  \n",
            "  inflating: ./butterfly-spider/butterfly-spider/train/images/e830b30a20f6033ed1584d05fb1d4e9fe777ead218ac104497f5c97faeebb5bb_640_png.rf.3da369a80ca3f83ffb851408ed888303.jpg  \n",
            "  inflating: ./butterfly-spider/butterfly-spider/train/images/e830b30a20f6033ed1584d05fb1d4e9fe777ead218ac104497f5c97faeebb5bb_640_png.rf.aaa709fbd1ce6101b77ce1eab45f671a.jpg  \n",
            "  inflating: ./butterfly-spider/butterfly-spider/train/images/e830b30a20f6053ed1584d05fb1d4e9fe777ead218ac104497f5c97faeebb5bb_640_png.rf.41c39d2b2d29d7858c4c182cb28b9b95.jpg  \n",
            "  inflating: ./butterfly-spider/butterfly-spider/train/images/e830b30a20f6053ed1584d05fb1d4e9fe777ead218ac104497f5c97faeebb5bb_640_png.rf.ddd9d9824b9f4c0d8caa7390cf7c1b1a.jpg  \n",
            "  inflating: ./butterfly-spider/butterfly-spider/train/images/e830b30a20f6053ed1584d05fb1d4e9fe777ead218ac104497f5c97faeebb5bb_640_png.rf.e6aea50e5cee6546b097427923b03322.jpg  \n",
            "  inflating: ./butterfly-spider/butterfly-spider/train/images/e830b5072df2063ed1584d05fb1d4e9fe777ead218ac104497f5c97ca5ecb3b9_640_jpg.rf.494f89ae6c60234d3d23faa87febcb35.jpg  \n",
            "  inflating: ./butterfly-spider/butterfly-spider/train/images/e830b5072df2063ed1584d05fb1d4e9fe777ead218ac104497f5c97ca5ecb3b9_640_jpg.rf.a6a5731a87b2a1a4b449d9cafd779365.jpg  \n",
            "  inflating: ./butterfly-spider/butterfly-spider/train/images/e830b5072df2063ed1584d05fb1d4e9fe777ead218ac104497f5c97ca5ecb3b9_640_jpg.rf.ea31d32a623506675fa2a1d4851119b2.jpg  \n",
            "  inflating: ./butterfly-spider/butterfly-spider/train/images/e830b60820f1063ed1584d05fb1d4e9fe777ead218ac104497f5c97ca5ecb3b9_640_jpg.rf.609a04ca026fa738ef5e74e8a0f2a099.jpg  \n",
            "  inflating: ./butterfly-spider/butterfly-spider/train/images/e830b60820f1063ed1584d05fb1d4e9fe777ead218ac104497f5c97ca5ecb3b9_640_jpg.rf.77d4a224541645183048b9cc3215dc7e.jpg  \n",
            "  inflating: ./butterfly-spider/butterfly-spider/train/images/e830b60820f1063ed1584d05fb1d4e9fe777ead218ac104497f5c97ca5ecb3b9_640_jpg.rf.c8712f004d90816f42d904c69e53eb95.jpg  \n",
            "  inflating: ./butterfly-spider/butterfly-spider/train/images/e830b90f20f5043ed1584d05fb1d4e9fe777ead218ac104497f5c97ca5ecb5b1_640_jpg.rf.16588947955995941fb936881df4c166.jpg  \n",
            "  inflating: ./butterfly-spider/butterfly-spider/train/images/e830b90f20f5043ed1584d05fb1d4e9fe777ead218ac104497f5c97ca5ecb5b1_640_jpg.rf.3e39448a8dd43837dc531e4fbf26785c.jpg  \n",
            "  inflating: ./butterfly-spider/butterfly-spider/train/images/e830b90f20f5043ed1584d05fb1d4e9fe777ead218ac104497f5c97ca5ecb5b1_640_jpg.rf.65b885d9113b6b514e1ac011e4002256.jpg  \n",
            "  inflating: ./butterfly-spider/butterfly-spider/train/images/e830b90f20f5083ed1584d05fb1d4e9fe777ead218ac104497f5c97ca5ecb5b1_640_jpg.rf.4c1a223a56d37c7d709c68539c3b2a0b.jpg  \n",
            "  inflating: ./butterfly-spider/butterfly-spider/train/images/e830b90f20f5083ed1584d05fb1d4e9fe777ead218ac104497f5c97ca5ecb5b1_640_jpg.rf.e5d30bb13537114a0a065b1a0f652849.jpg  \n",
            "  inflating: ./butterfly-spider/butterfly-spider/train/images/e830b90f20f5083ed1584d05fb1d4e9fe777ead218ac104497f5c97ca5ecb5b1_640_jpg.rf.edd93557726e175d68f2218b7ef27530.jpg  \n",
            "  inflating: ./butterfly-spider/butterfly-spider/train/images/e831b0092bf1023ed1584d05fb1d4e9fe777ead218ac104497f5c97ca5ecb3b9_640_jpg.rf.3860259161e6e0ddbfa17be3c6ce7a2b.jpg  \n",
            "  inflating: ./butterfly-spider/butterfly-spider/train/images/e831b0092bf1023ed1584d05fb1d4e9fe777ead218ac104497f5c97ca5ecb3b9_640_jpg.rf.6b59d5b03bda247ff6a1710c2ce4fbb6.jpg  \n",
            "  inflating: ./butterfly-spider/butterfly-spider/train/images/e831b0092bf1023ed1584d05fb1d4e9fe777ead218ac104497f5c97ca5ecb3b9_640_jpg.rf.d9dfcb390d72f53001d295b2b5af48b5.jpg  \n",
            "  inflating: ./butterfly-spider/butterfly-spider/train/images/e831b10b2ee90021d85a5854ee454296eb70e3c818b413449df6c87dafef_640_jpg.rf.6d9dab9e73d1fc325de61114c8882575.jpg  \n",
            "  inflating: ./butterfly-spider/butterfly-spider/train/images/e831b10b2ee90021d85a5854ee454296eb70e3c818b413449df6c87dafef_640_jpg.rf.8d032413f525a8813dfbf5359bdca4ce.jpg  \n",
            "  inflating: ./butterfly-spider/butterfly-spider/train/images/e831b10b2ee90021d85a5854ee454296eb70e3c818b413449df6c87dafef_640_jpg.rf.b0dc5aefef528b11cb423ec6d8866c77.jpg  \n",
            "  inflating: ./butterfly-spider/butterfly-spider/train/images/e831b30a28f21c22d2524518b7444f92e37fe5d404b0144390f8c770a3e5b7_640_jpg.rf.12c577c4b6235b4c8898a9c491895c12.jpg  \n",
            "  inflating: ./butterfly-spider/butterfly-spider/train/images/e831b30a28f21c22d2524518b7444f92e37fe5d404b0144390f8c770a3e5b7_640_jpg.rf.b0b0f2b8dbcbdcc276ef1dd05692d709.jpg  \n",
            "  inflating: ./butterfly-spider/butterfly-spider/train/images/e831b30a28f21c22d2524518b7444f92e37fe5d404b0144390f8c770a3e5b7_640_jpg.rf.cca01441d7723bef3d5f9e748da0379c.jpg  \n",
            "  inflating: ./butterfly-spider/butterfly-spider/train/images/e832b00a2df11c22d2524518b7444f92e37fe5d404b0144390f8c770a2e9b5_640_jpg.rf.3ae812fb60cdcc73a9d61c571b6a7747.jpg  \n",
            "  inflating: ./butterfly-spider/butterfly-spider/train/images/e832b00a2df11c22d2524518b7444f92e37fe5d404b0144390f8c770a2e9b5_640_jpg.rf.3b86bb768a732e0d03d7f0c6cd7b62f0.jpg  \n",
            "  inflating: ./butterfly-spider/butterfly-spider/train/images/e832b00a2df11c22d2524518b7444f92e37fe5d404b0144390f8c770a2e9b5_640_jpg.rf.7ea5c099704d615a0b79a066641e4ce1.jpg  \n",
            "  inflating: ./butterfly-spider/butterfly-spider/train/images/e832b00d29f7013ed1584d05fb1d4e9fe777ead218ac104497f5c97ca5ecb5b1_640_jpg.rf.03097b95acb06586a565b5b052b5652d.jpg  \n",
            "  inflating: ./butterfly-spider/butterfly-spider/train/images/e832b00d29f7013ed1584d05fb1d4e9fe777ead218ac104497f5c97ca5ecb5b1_640_jpg.rf.966ea06f34e17e7634c631d4b03a5f1d.jpg  \n",
            "  inflating: ./butterfly-spider/butterfly-spider/train/images/e832b00d29f7013ed1584d05fb1d4e9fe777ead218ac104497f5c97ca5ecb5b1_640_jpg.rf.ce34b97496efa51fa36420ebcdd1b04f.jpg  \n",
            "  inflating: ./butterfly-spider/butterfly-spider/train/images/e832b10a2fe90021d85a5854ee454296eb70e3c818b413449df6c87ca3ed_640_jpg.rf.45fff520108789735fcf1bcafa2e49d8.jpg  \n",
            "  inflating: ./butterfly-spider/butterfly-spider/train/images/e832b10a2fe90021d85a5854ee454296eb70e3c818b413449df6c87ca3ed_640_jpg.rf.603de3bfd506acd03785c14bc5fe1e1b.jpg  \n",
            "  inflating: ./butterfly-spider/butterfly-spider/train/images/e832b10a2fe90021d85a5854ee454296eb70e3c818b413449df6c87ca3ed_640_jpg.rf.9ffd87b25711e26302b84bb3e83bdf34.jpg  \n",
            "  inflating: ./butterfly-spider/butterfly-spider/train/images/e832b10c21fd003ed1584d05fb1d4e9fe777ead218ac104497f5c97ca5ecb5b1_640_jpg.rf.1eab745ffadf825640b37dda2d2ad00d.jpg  \n",
            "  inflating: ./butterfly-spider/butterfly-spider/train/images/e832b10c21fd003ed1584d05fb1d4e9fe777ead218ac104497f5c97ca5ecb5b1_640_jpg.rf.316f7eb87c99aefdff4dd8fd2c3ef721.jpg  \n",
            "  inflating: ./butterfly-spider/butterfly-spider/train/images/e832b10c21fd003ed1584d05fb1d4e9fe777ead218ac104497f5c97ca5ecb5b1_640_jpg.rf.40c9000c81aad32f24087dc7ad146524.jpg  \n",
            "  inflating: ./butterfly-spider/butterfly-spider/train/images/e832b10d2ef7013ed1584d05fb1d4e9fe777ead218ac104497f5c97ca5ecb3b9_640_jpg.rf.0cf5df45b76bbc8b0521bc4353f76cd2.jpg  \n",
            "  inflating: ./butterfly-spider/butterfly-spider/train/images/e832b10d2ef7013ed1584d05fb1d4e9fe777ead218ac104497f5c97ca5ecb3b9_640_jpg.rf.2bf676b1993f3d2e30fc59af9f08674f.jpg  \n",
            "  inflating: ./butterfly-spider/butterfly-spider/train/images/e832b10d2ef7013ed1584d05fb1d4e9fe777ead218ac104497f5c97ca5ecb3b9_640_jpg.rf.939e5808dd3c882bb96395f7319d0979.jpg  \n",
            "  inflating: ./butterfly-spider/butterfly-spider/train/images/e832b10f28f2053ed1584d05fb1d4e9fe777ead218ac104497f5c97ca5ecb5b1_640_jpg.rf.076b7acaf766e2bf94e944c40757a6f7.jpg  \n",
            "  inflating: ./butterfly-spider/butterfly-spider/train/images/e832b10f28f2053ed1584d05fb1d4e9fe777ead218ac104497f5c97ca5ecb5b1_640_jpg.rf.0eb6177c0671b556c11cbf46dbe1d90b.jpg  \n",
            "  inflating: ./butterfly-spider/butterfly-spider/train/images/e832b10f28f2053ed1584d05fb1d4e9fe777ead218ac104497f5c97ca5ecb5b1_640_jpg.rf.24ee0d0f6c7e0825864ac79ab6e3cdcd.jpg  \n",
            "  inflating: ./butterfly-spider/butterfly-spider/train/images/e832b4082df5003ed1584d05fb1d4e9fe777ead218ac104497f5c97faee9bdba_640_jpg.rf.1b45b5b5a3367d9cd6bc148c55d200a8.jpg  \n",
            "  inflating: ./butterfly-spider/butterfly-spider/train/images/e832b4082df5003ed1584d05fb1d4e9fe777ead218ac104497f5c97faee9bdba_640_jpg.rf.36d45ca44b728119ac80104e8fa75c6e.jpg  \n",
            "  inflating: ./butterfly-spider/butterfly-spider/train/images/e832b4082df5003ed1584d05fb1d4e9fe777ead218ac104497f5c97faee9bdba_640_jpg.rf.9569611130fe33974333351f0845e121.jpg  \n",
            "  inflating: ./butterfly-spider/butterfly-spider/train/images/e832b40a20f61c22d2524518b7444f92e37fe5d404b0144390f8c47ba6edbc_640_jpg.rf.779c0115d2de5706879d5c47ed91d2e3.jpg  \n",
            "  inflating: ./butterfly-spider/butterfly-spider/train/images/e832b40a20f61c22d2524518b7444f92e37fe5d404b0144390f8c47ba6edbc_640_jpg.rf.a713a0856ef586c85c3404ad6d1b0e39.jpg  \n",
            "  inflating: ./butterfly-spider/butterfly-spider/train/images/e832b40a20f61c22d2524518b7444f92e37fe5d404b0144390f8c47ba6edbc_640_jpg.rf.dd7af711b326b778289f3473caa82d1c.jpg  \n",
            "  inflating: ./butterfly-spider/butterfly-spider/train/images/e832b5072ef4053ed1584d05fb1d4e9fe777ead218ac104497f5c97ca5edb3bd_640_jpg.rf.2998bcea47f2ed777500f5424ce5b356.jpg  \n",
            "  inflating: ./butterfly-spider/butterfly-spider/train/images/e832b5072ef4053ed1584d05fb1d4e9fe777ead218ac104497f5c97ca5edb3bd_640_jpg.rf.6ae1d6e01fbb30765268d18c16e89556.jpg  \n",
            "  inflating: ./butterfly-spider/butterfly-spider/train/images/e832b5072ef4053ed1584d05fb1d4e9fe777ead218ac104497f5c97ca5edb3bd_640_jpg.rf.a92a7e7820ed8ea8c605db4b65290533.jpg  \n",
            "  inflating: ./butterfly-spider/butterfly-spider/train/images/e832b60c2ffc1c22d2524518b7444f92e37fe5d404b0144390f8c770a1edb6_640_jpg.rf.2e9707d47c05f1678a607ebd804e1306.jpg  \n",
            "  inflating: ./butterfly-spider/butterfly-spider/train/images/e832b60c2ffc1c22d2524518b7444f92e37fe5d404b0144390f8c770a1edb6_640_jpg.rf.7604cdc0fa64cbfa2e2cc1fd74c73f1f.jpg  \n",
            "  inflating: ./butterfly-spider/butterfly-spider/train/images/e832b60c2ffc1c22d2524518b7444f92e37fe5d404b0144390f8c770a1edb6_640_jpg.rf.85ac953e2e77089f057dbc78baa080a2.jpg  \n",
            "  inflating: ./butterfly-spider/butterfly-spider/train/images/e832b60d2ff2083ed1584d05fb1d4e9fe777ead218ac104497f5c97ca5edb3bd_640_jpg.rf.20b4a6dfddef17713bb75919080b5af9.jpg  \n",
            "  inflating: ./butterfly-spider/butterfly-spider/train/images/e832b60d2ff2083ed1584d05fb1d4e9fe777ead218ac104497f5c97ca5edb3bd_640_jpg.rf.b6bf1a633d105f551be78147a7c8a070.jpg  \n",
            "  inflating: ./butterfly-spider/butterfly-spider/train/images/e832b60d2ff2083ed1584d05fb1d4e9fe777ead218ac104497f5c97ca5edb3bd_640_jpg.rf.f15444357168a3aa57ce6708a78bae82.jpg  \n",
            "  inflating: ./butterfly-spider/butterfly-spider/train/images/e832b60d2ff3023ed1584d05fb1d4e9fe777ead218ac104497f5c97ca5ecb3b9_640_jpg.rf.2033f365119c48fc6df79f6669e61250.jpg  \n",
            "  inflating: ./butterfly-spider/butterfly-spider/train/images/e832b60d2ff3023ed1584d05fb1d4e9fe777ead218ac104497f5c97ca5ecb3b9_640_jpg.rf.f6688edf39a4befd95fe78a7c0103961.jpg  \n",
            "  inflating: ./butterfly-spider/butterfly-spider/train/images/e832b60d2ff3023ed1584d05fb1d4e9fe777ead218ac104497f5c97ca5ecb3b9_640_jpg.rf.fcf0af828d065afa2809a42c4477a919.jpg  \n",
            "  inflating: ./butterfly-spider/butterfly-spider/train/images/e832b7072ef41c22d2524518b7444f92e37fe5d404b0144390f8c770a1edb6_640_jpg.rf.2f616a72b17c32d7a07d46f058373161.jpg  \n",
            "  inflating: ./butterfly-spider/butterfly-spider/train/images/e832b7072ef41c22d2524518b7444f92e37fe5d404b0144390f8c770a1edb6_640_jpg.rf.8d0099541a86dc803fccdcd87b7fecec.jpg  \n",
            "  inflating: ./butterfly-spider/butterfly-spider/train/images/e832b7072ef41c22d2524518b7444f92e37fe5d404b0144390f8c770a1edb6_640_jpg.rf.99c6e57526785dcdf2ca83c94e05ae49.jpg  \n",
            "  inflating: ./butterfly-spider/butterfly-spider/train/images/e832b70c2af0043ed1584d05fb1d4e9fe777ead218ac104497f5c97faeebb5bb_640_jpg.rf.33d0ec98b3f80e4a958f870795d0aad4.jpg  \n",
            "  inflating: ./butterfly-spider/butterfly-spider/train/images/e832b70c2af0043ed1584d05fb1d4e9fe777ead218ac104497f5c97faeebb5bb_640_jpg.rf.4320161d1c879ce8254bc1bbb605727a.jpg  \n",
            "  inflating: ./butterfly-spider/butterfly-spider/train/images/e832b70c2af0043ed1584d05fb1d4e9fe777ead218ac104497f5c97faeebb5bb_640_jpg.rf.57b407742274f3c8065a5ca4b6e01526.jpg  \n",
            "  inflating: ./butterfly-spider/butterfly-spider/train/images/e832b70e2bf71c22d2524518b7444f92e37fe5d404b0144390f8c770a2e9b5_640_jpg.rf.20e06bd4733e419d00b5b813cb84a1b4.jpg  \n",
            "  inflating: ./butterfly-spider/butterfly-spider/train/images/e832b70e2bf71c22d2524518b7444f92e37fe5d404b0144390f8c770a2e9b5_640_jpg.rf.4a2246dee8e6607aa1e0be0e31f44052.jpg  \n",
            "  inflating: ./butterfly-spider/butterfly-spider/train/images/e832b70e2bf71c22d2524518b7444f92e37fe5d404b0144390f8c770a2e9b5_640_jpg.rf.9bbec77704f912e202c900af46db2939.jpg  \n",
            "  inflating: ./butterfly-spider/butterfly-spider/train/images/e832b70e2df21c22d2524518b7444f92e37fe5d404b0144390f8c770a2e9b5_640_jpg.rf.0af0ccb2d121715b8cc08d7f518f2990.jpg  \n",
            "  inflating: ./butterfly-spider/butterfly-spider/train/images/e832b70e2df21c22d2524518b7444f92e37fe5d404b0144390f8c770a2e9b5_640_jpg.rf.2eb2a8548cb4697f79951bf8c3be2890.jpg  \n",
            "  inflating: ./butterfly-spider/butterfly-spider/train/images/e832b70e2df21c22d2524518b7444f92e37fe5d404b0144390f8c770a2e9b5_640_jpg.rf.50b2aacc0b7a1ddd407294f7f09c2645.jpg  \n",
            "  inflating: ./butterfly-spider/butterfly-spider/train/images/e833b00e2ffd053ed1584d05fb1d4e9fe777ead218ac104497f5c97faeebb5bb_640_jpg.rf.932d9540c362f83e42cc613986fe5574.jpg  \n",
            "  inflating: ./butterfly-spider/butterfly-spider/train/images/e833b00e2ffd053ed1584d05fb1d4e9fe777ead218ac104497f5c97faeebb5bb_640_jpg.rf.97a66b0ae0f1c456b492e7eda8e809bc.jpg  \n",
            "  inflating: ./butterfly-spider/butterfly-spider/train/images/e833b00e2ffd053ed1584d05fb1d4e9fe777ead218ac104497f5c97faeebb5bb_640_jpg.rf.97be56522819a667fd0b5e1143ad400e.jpg  \n",
            "  inflating: ./butterfly-spider/butterfly-spider/train/images/e833b10920f3013ed1584d05fb1d4e9fe777ead218ac104497f5c97ca5ecb5b1_640_jpg.rf.5e4b107764fe1aac1177b911eb18b7b1.jpg  \n",
            "  inflating: ./butterfly-spider/butterfly-spider/train/images/e833b10920f3013ed1584d05fb1d4e9fe777ead218ac104497f5c97ca5ecb5b1_640_jpg.rf.b6b270937d7492f0dca023aff7799b4d.jpg  \n",
            "  inflating: ./butterfly-spider/butterfly-spider/train/images/e833b10920f3013ed1584d05fb1d4e9fe777ead218ac104497f5c97ca5ecb5b1_640_jpg.rf.c1e6c00cd8ddb4eb7054944e7936f338.jpg  \n",
            "  inflating: ./butterfly-spider/butterfly-spider/train/images/e833b20820f4073ed1584d05fb1d4e9fe777ead218ac104497f5c97ca5ecb5b1_640_jpg.rf.41063e2a380a9baca77bb31724b4d8d6.jpg  \n",
            "  inflating: ./butterfly-spider/butterfly-spider/train/images/e833b20820f4073ed1584d05fb1d4e9fe777ead218ac104497f5c97ca5ecb5b1_640_jpg.rf.6c8769843eed3a3749227dba9e061cf5.jpg  \n",
            "  inflating: ./butterfly-spider/butterfly-spider/train/images/e833b20820f4073ed1584d05fb1d4e9fe777ead218ac104497f5c97ca5ecb5b1_640_jpg.rf.c461caa51fc1f65c3f9b721ad80f0696.jpg  \n",
            "  inflating: ./butterfly-spider/butterfly-spider/train/images/e833b20a2ff0063ed1584d05fb1d4e9fe777ead218ac104497f5c97faee9bdba_640_jpg.rf.2f925a06b0c45f31ef5d202051058b48.jpg  \n",
            "  inflating: ./butterfly-spider/butterfly-spider/train/images/e833b20a2ff0063ed1584d05fb1d4e9fe777ead218ac104497f5c97faee9bdba_640_jpg.rf.4c7eb922ff3e18a93542ea0ac065f336.jpg  \n",
            "  inflating: ./butterfly-spider/butterfly-spider/train/images/e833b20a2ff0063ed1584d05fb1d4e9fe777ead218ac104497f5c97faee9bdba_640_jpg.rf.94e359efdbf92880869fc4ee4cca7176.jpg  \n",
            "  inflating: ./butterfly-spider/butterfly-spider/train/images/e833b30d2ffc023ed1584d05fb1d4e9fe777ead218ac104497f5c97ca5ecb3b9_640_jpg.rf.6c80d3b78e4f02952d9438ee9bfee7d7.jpg  \n",
            "  inflating: ./butterfly-spider/butterfly-spider/train/images/e833b30d2ffc023ed1584d05fb1d4e9fe777ead218ac104497f5c97ca5ecb3b9_640_jpg.rf.92563877a8c04a641bd9933c8551f5f5.jpg  \n",
            "  inflating: ./butterfly-spider/butterfly-spider/train/images/e833b30d2ffc023ed1584d05fb1d4e9fe777ead218ac104497f5c97ca5ecb3b9_640_jpg.rf.c48e23526011553f082778cb267cc99f.jpg  \n",
            "  inflating: ./butterfly-spider/butterfly-spider/train/images/e833b40a28fd093ed1584d05fb1d4e9fe777ead218ac104497f5c97faee9bdba_640_jpg.rf.05250515af5a0df716493662ff749921.jpg  \n",
            "  inflating: ./butterfly-spider/butterfly-spider/train/images/e833b40a28fd093ed1584d05fb1d4e9fe777ead218ac104497f5c97faee9bdba_640_jpg.rf.8aa15febe07115cfa9140df0e4bebf55.jpg  \n",
            "  inflating: ./butterfly-spider/butterfly-spider/train/images/e833b40a28fd093ed1584d05fb1d4e9fe777ead218ac104497f5c97faee9bdba_640_jpg.rf.f9ff573e7d58f5a427c0b98769546356.jpg  \n",
            "  inflating: ./butterfly-spider/butterfly-spider/train/images/e833b40a2ff6053ed1584d05fb1d4e9fe777ead218ac104497f5c97faee9bdba_640_jpg.rf.2814949df8248dee68fa3905275f6d64.jpg  \n",
            "  inflating: ./butterfly-spider/butterfly-spider/train/images/e833b40a2ff6053ed1584d05fb1d4e9fe777ead218ac104497f5c97faee9bdba_640_jpg.rf.c4a2694b83f40873d3c7ecc207760111.jpg  \n",
            "  inflating: ./butterfly-spider/butterfly-spider/train/images/e833b40a2ff6053ed1584d05fb1d4e9fe777ead218ac104497f5c97faee9bdba_640_jpg.rf.f58af7ce5e0c76fda44e09d662ad08f9.jpg  \n",
            "  inflating: ./butterfly-spider/butterfly-spider/train/images/e833b40e28f01c22d2524518b7444f92e37fe5d404b0144390f8c770a1edb6_640_jpg.rf.632e2c309d0f073a2ce30048ce923dee.jpg  \n",
            "  inflating: ./butterfly-spider/butterfly-spider/train/images/e833b40e28f01c22d2524518b7444f92e37fe5d404b0144390f8c770a1edb6_640_jpg.rf.6624d3d1d2d249d2bca9b66cfafb8d55.jpg  \n",
            "  inflating: ./butterfly-spider/butterfly-spider/train/images/e833b40e28f01c22d2524518b7444f92e37fe5d404b0144390f8c770a1edb6_640_jpg.rf.fd5922486632af8e3249b0901ef5fa47.jpg  \n",
            "  inflating: ./butterfly-spider/butterfly-spider/train/images/e833b50b29fc083ed1584d05fb1d4e9fe777ead218ac104497f5c97faee9bdba_640_jpg.rf.03eedd6903d42fe5145b290fecc4a46a.jpg  \n",
            "  inflating: ./butterfly-spider/butterfly-spider/train/images/e833b50b29fc083ed1584d05fb1d4e9fe777ead218ac104497f5c97faee9bdba_640_jpg.rf.0dc4d738065b897ce5aaaaae87ad3a2e.jpg  \n",
            "  inflating: ./butterfly-spider/butterfly-spider/train/images/e833b50b29fc083ed1584d05fb1d4e9fe777ead218ac104497f5c97faee9bdba_640_jpg.rf.116bee9d90adf50127d1d592fb536e5b.jpg  \n",
            "  inflating: ./butterfly-spider/butterfly-spider/train/images/e833b50b29fc083ed1584d05fb1d4e9fe777ead218ac104497f5c97faee9bdba_640_jpg.rf.3f3d2e394ad01bff6929f9d89b20cb9a.jpg  \n",
            "  inflating: ./butterfly-spider/butterfly-spider/train/images/e833b50b29fc083ed1584d05fb1d4e9fe777ead218ac104497f5c97faee9bdba_640_jpg.rf.a67495ad0465cd66253c9f4d66d56bab.jpg  \n",
            "  inflating: ./butterfly-spider/butterfly-spider/train/images/e833b50b29fc083ed1584d05fb1d4e9fe777ead218ac104497f5c97faee9bdba_640_jpg.rf.d09bf1d3f815645bd137d9011b546c6a.jpg  \n",
            "  inflating: ./butterfly-spider/butterfly-spider/train/images/e833b60c2cf6093ed1584d05fb1d4e9fe777ead218ac104497f5c97ca5ecb5b1_640_jpg.rf.52af088550115fe44d5f8f3e16ab155f.jpg  \n",
            "  inflating: ./butterfly-spider/butterfly-spider/train/images/e833b60c2cf6093ed1584d05fb1d4e9fe777ead218ac104497f5c97ca5ecb5b1_640_jpg.rf.83df16f82bb5416c15cb441bd5835cae.jpg  \n",
            "  inflating: ./butterfly-spider/butterfly-spider/train/images/e833b60c2cf6093ed1584d05fb1d4e9fe777ead218ac104497f5c97ca5ecb5b1_640_jpg.rf.e4de86fab2b4d40ea9c2a25c019e20fe.jpg  \n",
            "  inflating: ./butterfly-spider/butterfly-spider/train/images/e833b90a2ff6093ed1584d05fb1d4e9fe777ead218ac104497f5c97faeebb5bb_640_jpg.rf.0efb67d929ef45cd9cdf4478b73405f6.jpg  \n",
            "  inflating: ./butterfly-spider/butterfly-spider/train/images/e833b90a2ff6093ed1584d05fb1d4e9fe777ead218ac104497f5c97faeebb5bb_640_jpg.rf.39af4aba6bf15d0aebc090379ce84d1f.jpg  \n",
            "  inflating: ./butterfly-spider/butterfly-spider/train/images/e833b90a2ff6093ed1584d05fb1d4e9fe777ead218ac104497f5c97faeebb5bb_640_jpg.rf.5518b74505b1c578e48b3f7b2fa9ef00.jpg  \n",
            "  inflating: ./butterfly-spider/butterfly-spider/train/images/e833b90a2ff6093ed1584d05fb1d4e9fe777ead218ac104497f5c97faeebb5bb_640_jpg.rf.5d2f1e2efd85b802ae64a447f47e47c7.jpg  \n",
            "  inflating: ./butterfly-spider/butterfly-spider/train/images/e833b90a2ff6093ed1584d05fb1d4e9fe777ead218ac104497f5c97faeebb5bb_640_jpg.rf.8bd1ee6a1a23e1f54528877e54799e91.jpg  \n",
            "  inflating: ./butterfly-spider/butterfly-spider/train/images/e833b90a2ff6093ed1584d05fb1d4e9fe777ead218ac104497f5c97faeebb5bb_640_jpg.rf.a087f30cb0bbd321e608d9f35920f579.jpg  \n",
            "  inflating: ./butterfly-spider/butterfly-spider/train/images/e834b2082afc093ed1584d05fb1d4e9fe777ead218ac104497f5c97ca5edb3bd_640_jpg.rf.0bd3107f2b14dea293d32ce07148f723.jpg  \n",
            "  inflating: ./butterfly-spider/butterfly-spider/train/images/e834b2082afc093ed1584d05fb1d4e9fe777ead218ac104497f5c97ca5edb3bd_640_jpg.rf.3059ea41b963ecac63cddf907bcc4ce3.jpg  \n",
            "  inflating: ./butterfly-spider/butterfly-spider/train/images/e834b2082afc093ed1584d05fb1d4e9fe777ead218ac104497f5c97ca5edb3bd_640_jpg.rf.c85317f33ef2f122e2459c2678198899.jpg  \n",
            "  inflating: ./butterfly-spider/butterfly-spider/train/images/e834b20e2ef0013ed1584d05fb1d4e9fe777ead218ac104497f5c97ca5ecb3b9_640_jpg.rf.2a53a693ed32121301de0520272e4106.jpg  \n",
            "  inflating: ./butterfly-spider/butterfly-spider/train/images/e834b20e2ef0013ed1584d05fb1d4e9fe777ead218ac104497f5c97ca5ecb3b9_640_jpg.rf.3d6d7834e9d2cb70f23151c57fcd6a75.jpg  \n",
            "  inflating: ./butterfly-spider/butterfly-spider/train/images/e834b20e2ef0013ed1584d05fb1d4e9fe777ead218ac104497f5c97ca5ecb3b9_640_jpg.rf.b34966ccf3d10c4b708157c685a919b3.jpg  \n",
            "  inflating: ./butterfly-spider/butterfly-spider/train/images/e834b20e2ef7073ed1584d05fb1d4e9fe777ead218ac104497f5c97faee9bdba_640_jpg.rf.059a9ddba3dc8c54bbe4cd5b20b451ad.jpg  \n",
            "  inflating: ./butterfly-spider/butterfly-spider/train/images/e834b20e2ef7073ed1584d05fb1d4e9fe777ead218ac104497f5c97faee9bdba_640_jpg.rf.91506ca3d86e58e33537249251d5b605.jpg  \n",
            "  inflating: ./butterfly-spider/butterfly-spider/train/images/e834b20e2ef7073ed1584d05fb1d4e9fe777ead218ac104497f5c97faee9bdba_640_jpg.rf.c8dbcba463bac4066a31a7fabf4ea544.jpg  \n",
            "  inflating: ./butterfly-spider/butterfly-spider/train/images/e834b20f2cf0083ed1584d05fb1d4e9fe777ead218ac104497f5c97ca5edb3bd_640_jpg.rf.415ab8dbbff37df451ce5888b494f459.jpg  \n",
            "  inflating: ./butterfly-spider/butterfly-spider/train/images/e834b20f2cf0083ed1584d05fb1d4e9fe777ead218ac104497f5c97ca5edb3bd_640_jpg.rf.522db6be4708ea4e76901c6891d2edb9.jpg  \n",
            "  inflating: ./butterfly-spider/butterfly-spider/train/images/e834b20f2cf0083ed1584d05fb1d4e9fe777ead218ac104497f5c97ca5edb3bd_640_jpg.rf.8fcf72e4325f971b143ad4a5ef087516.jpg  \n",
            "  inflating: ./butterfly-spider/butterfly-spider/train/images/e834b20f2df4053ed1584d05fb1d4e9fe777ead218ac104497f5c97ca5ecb3b9_640_jpg.rf.036818e853c301e6888798d2354ff67f.jpg  \n",
            "  inflating: ./butterfly-spider/butterfly-spider/train/images/e834b20f2df4053ed1584d05fb1d4e9fe777ead218ac104497f5c97ca5ecb3b9_640_jpg.rf.6b53d078348b8a9be1c3875ce3c30154.jpg  \n",
            "  inflating: ./butterfly-spider/butterfly-spider/train/images/e834b20f2df4053ed1584d05fb1d4e9fe777ead218ac104497f5c97ca5ecb3b9_640_jpg.rf.da6b04d6d514d19f304b91461a56c6b2.jpg  \n",
            "  inflating: ./butterfly-spider/butterfly-spider/train/images/e834b3082ef2073ed1584d05fb1d4e9fe777ead218ac104497f5c97faee9bdba_640_jpg.rf.1c0d17cc048c4dc6f796da2044bb7cd7.jpg  \n",
            "  inflating: ./butterfly-spider/butterfly-spider/train/images/e834b3082ef2073ed1584d05fb1d4e9fe777ead218ac104497f5c97faee9bdba_640_jpg.rf.738f9be91bbe1e689955f63de06c84e7.jpg  \n",
            "  inflating: ./butterfly-spider/butterfly-spider/train/images/e834b3082ef2073ed1584d05fb1d4e9fe777ead218ac104497f5c97faee9bdba_640_jpg.rf.de778776791342cbfd91581fa66a1774.jpg  \n",
            "  inflating: ./butterfly-spider/butterfly-spider/train/images/e834b3082ef6073ed1584d05fb1d4e9fe777ead218ac104497f5c97ca5edb3bd_640_jpg.rf.6709cc6dc87c0c0b41c1f7f4af1bd09b.jpg  \n",
            "  inflating: ./butterfly-spider/butterfly-spider/train/images/e834b3082ef6073ed1584d05fb1d4e9fe777ead218ac104497f5c97ca5edb3bd_640_jpg.rf.799a2a6cebeb8ecf705c1df518fc14f5.jpg  \n",
            "  inflating: ./butterfly-spider/butterfly-spider/train/images/e834b3082ef6073ed1584d05fb1d4e9fe777ead218ac104497f5c97ca5edb3bd_640_jpg.rf.d4e199d40d2f5987b7db9536471293c6.jpg  \n",
            "  inflating: ./butterfly-spider/butterfly-spider/train/images/e834b40c21f3053ed1584d05fb1d4e9fe777ead218ac104497f5c97ca5ecb5b1_640_jpg.rf.4b10c70bc135c581fe1cd776a423cfb3.jpg  \n",
            "  inflating: ./butterfly-spider/butterfly-spider/train/images/e834b40c21f3053ed1584d05fb1d4e9fe777ead218ac104497f5c97ca5ecb5b1_640_jpg.rf.90c8f43b29ba9b9fe600c2e3fba01298.jpg  \n",
            "  inflating: ./butterfly-spider/butterfly-spider/train/images/e834b40c21f3053ed1584d05fb1d4e9fe777ead218ac104497f5c97ca5ecb5b1_640_jpg.rf.92cbaa578c2e594693ce2ba6275e6125.jpg  \n",
            "  inflating: ./butterfly-spider/butterfly-spider/train/images/e834b50a29f4043ed1584d05fb1d4e9fe777ead218ac104497f5c97ca5edb3bd_640_jpg.rf.50568af2ab6e1b73069bdc93a5c561be.jpg  \n",
            "  inflating: ./butterfly-spider/butterfly-spider/train/images/e834b50a29f4043ed1584d05fb1d4e9fe777ead218ac104497f5c97ca5edb3bd_640_jpg.rf.6f6889cbf63be548cc9cf592af8b35e3.jpg  \n",
            "  inflating: ./butterfly-spider/butterfly-spider/train/images/e834b50a29f4043ed1584d05fb1d4e9fe777ead218ac104497f5c97ca5edb3bd_640_jpg.rf.a833fac40e56b72bc7c9c703a5da1f44.jpg  \n",
            "  inflating: ./butterfly-spider/butterfly-spider/train/images/e834b70a2ff1033ed1584d05fb1d4e9fe777ead218ac104497f5c97ca5ecb5b1_640_jpg.rf.5508111cef8d56bdd40fd16dd92818ad.jpg  \n",
            "  inflating: ./butterfly-spider/butterfly-spider/train/images/e834b70a2ff1033ed1584d05fb1d4e9fe777ead218ac104497f5c97ca5ecb5b1_640_jpg.rf.b104c4d242f1c62aaddf7518f53e5827.jpg  \n",
            "  inflating: ./butterfly-spider/butterfly-spider/train/images/e834b70a2ff1033ed1584d05fb1d4e9fe777ead218ac104497f5c97ca5ecb5b1_640_jpg.rf.cb3acc929a3ea00111522b8e660e4cc3.jpg  \n",
            "  inflating: ./butterfly-spider/butterfly-spider/train/images/e834b70e2efc063ed1584d05fb1d4e9fe777ead218ac104497f5c97ca5ecb3b9_640_jpg.rf.0b29d2487439035c2d669825630494cd.jpg  \n",
            "  inflating: ./butterfly-spider/butterfly-spider/train/images/e834b70e2efc063ed1584d05fb1d4e9fe777ead218ac104497f5c97ca5ecb3b9_640_jpg.rf.5bcadaca6a55ea63a4aed59107baa5d5.jpg  \n",
            "  inflating: ./butterfly-spider/butterfly-spider/train/images/e834b70e2efc063ed1584d05fb1d4e9fe777ead218ac104497f5c97ca5ecb3b9_640_jpg.rf.90d94894d2b2ead6fd9a311e6db70dc2.jpg  \n",
            "  inflating: ./butterfly-spider/butterfly-spider/train/images/e835b4082ff2093ed1584d05fb1d4e9fe777ead218ac104497f5c97faee9bdba_640_jpg.rf.8883ce27ae0b0c7d58cd4d0655d3a8a9.jpg  \n",
            "  inflating: ./butterfly-spider/butterfly-spider/train/images/e835b4082ff2093ed1584d05fb1d4e9fe777ead218ac104497f5c97faee9bdba_640_jpg.rf.bbfee7aa5c8efd55f7fa4fba783fb3fd.jpg  \n",
            "  inflating: ./butterfly-spider/butterfly-spider/train/images/e835b4082ff2093ed1584d05fb1d4e9fe777ead218ac104497f5c97faee9bdba_640_jpg.rf.f34ccbb622f945dbdfa3579a98c58872.jpg  \n",
            "  inflating: ./butterfly-spider/butterfly-spider/train/images/e835b80e29f0033ed1584d05fb1d4e9fe777ead218ac104497f5c97ca5ecb3b9_640_jpg.rf.5097311a366bd1ed6704f59c1dc98cdb.jpg  \n",
            "  inflating: ./butterfly-spider/butterfly-spider/train/images/e835b80e29f0033ed1584d05fb1d4e9fe777ead218ac104497f5c97ca5ecb3b9_640_jpg.rf.6254f5581f94cd8cafa2b236fa0adc58.jpg  \n",
            "  inflating: ./butterfly-spider/butterfly-spider/train/images/e835b80e29f0033ed1584d05fb1d4e9fe777ead218ac104497f5c97ca5ecb3b9_640_jpg.rf.daf0a8630f2645ebfb9015fd14f15431.jpg  \n",
            "  inflating: ./butterfly-spider/butterfly-spider/train/images/e836b80e20f4083ed1584d05fb1d4e9fe777ead218ac104497f5c97faee9bdba_640_jpg.rf.396a8b079a27102e123145a7fdce8df1.jpg  \n",
            "  inflating: ./butterfly-spider/butterfly-spider/train/images/e836b80e20f4083ed1584d05fb1d4e9fe777ead218ac104497f5c97faee9bdba_640_jpg.rf.9a7397812d27faf4098824e48c73c084.jpg  \n",
            "  inflating: ./butterfly-spider/butterfly-spider/train/images/e836b80e20f4083ed1584d05fb1d4e9fe777ead218ac104497f5c97faee9bdba_640_jpg.rf.abd46c4b0c4acf82b18c27e17a66b6c3.jpg  \n",
            "  inflating: ./butterfly-spider/butterfly-spider/train/images/e837b00720fc053ed1584d05fb1d4e9fe777ead218ac104497f5c97faee9bdba_640_jpg.rf.0e768424c993a431873915271132551b.jpg  \n",
            "  inflating: ./butterfly-spider/butterfly-spider/train/images/e837b00720fc053ed1584d05fb1d4e9fe777ead218ac104497f5c97faee9bdba_640_jpg.rf.9962360ecf46ffe2de6896ae91f25d4d.jpg  \n",
            "  inflating: ./butterfly-spider/butterfly-spider/train/images/e837b00720fc053ed1584d05fb1d4e9fe777ead218ac104497f5c97faee9bdba_640_jpg.rf.c52d732ec1dd9f0c1a0717ec4c58b827.jpg  \n",
            "  inflating: ./butterfly-spider/butterfly-spider/train/images/e837b20b28f7013ed1584d05fb1d4e9fe777ead218ac104497f5c97ca5ecb3b9_640_jpg.rf.0f2714807add3b0fa63f756aced5633b.jpg  \n",
            "  inflating: ./butterfly-spider/butterfly-spider/train/images/e837b20b28f7013ed1584d05fb1d4e9fe777ead218ac104497f5c97ca5ecb3b9_640_jpg.rf.268d0aed2e97c22d1356a30fb422a5b6.jpg  \n",
            "  inflating: ./butterfly-spider/butterfly-spider/train/images/e837b20b28f7013ed1584d05fb1d4e9fe777ead218ac104497f5c97ca5ecb3b9_640_jpg.rf.b0cb12016646f0b084d36ecc2b377db4.jpg  \n",
            "  inflating: ./butterfly-spider/butterfly-spider/train/images/e837b30920f3023ed1584d05fb1d4e9fe777ead218ac104497f5c97faee9bdba_640_jpg.rf.4619ebd7c097f651336a2ab6d84a0ddd.jpg  \n",
            "  inflating: ./butterfly-spider/butterfly-spider/train/images/e837b30920f3023ed1584d05fb1d4e9fe777ead218ac104497f5c97faee9bdba_640_jpg.rf.aee8d5186f9144a0d09ff4ef5d232dd1.jpg  \n",
            "  inflating: ./butterfly-spider/butterfly-spider/train/images/e837b30920f3023ed1584d05fb1d4e9fe777ead218ac104497f5c97faee9bdba_640_jpg.rf.cc65d15a1b5aabc9546d7dcfaa8088ba.jpg  \n",
            "  inflating: ./butterfly-spider/butterfly-spider/train/images/e837b40a2ef6083ed1584d05fb1d4e9fe777ead218ac104497f5c97ca5ecb3b9_640_jpg.rf.194438d28d9cf4b85d6220b5d5fd4094.jpg  \n",
            "  inflating: ./butterfly-spider/butterfly-spider/train/images/e837b40a2ef6083ed1584d05fb1d4e9fe777ead218ac104497f5c97ca5ecb3b9_640_jpg.rf.61e37b39f2dbe7dc72fe4259af3baed3.jpg  \n",
            "  inflating: ./butterfly-spider/butterfly-spider/train/images/e837b40a2ef6083ed1584d05fb1d4e9fe777ead218ac104497f5c97ca5ecb3b9_640_jpg.rf.ec2b0fe9221bf29d2d97b9b3dbd499d4.jpg  \n",
            "  inflating: ./butterfly-spider/butterfly-spider/train/images/e837b9082af1053ed1584d05fb1d4e9fe777ead218ac104497f5c97ca5ecb3b9_640_jpg.rf.0462608fb0176e8daa836fdd07373159.jpg  \n",
            "  inflating: ./butterfly-spider/butterfly-spider/train/images/e837b9082af1053ed1584d05fb1d4e9fe777ead218ac104497f5c97ca5ecb3b9_640_jpg.rf.afd36592d062cf15bce67b69bfa38745.jpg  \n",
            "  inflating: ./butterfly-spider/butterfly-spider/train/images/e837b9082af1053ed1584d05fb1d4e9fe777ead218ac104497f5c97ca5ecb3b9_640_jpg.rf.f8a9d4f8283251d7e52e6a9df665c925.jpg  \n",
            "  inflating: ./butterfly-spider/butterfly-spider/train/images/e837b90e2ef3063ed1584d05fb1d4e9fe777ead218ac104497f5c97ca5ecb3b9_640_jpg.rf.21b5d10c2fd73af384a6918d8eeee1c8.jpg  \n",
            "  inflating: ./butterfly-spider/butterfly-spider/train/images/e837b90e2ef3063ed1584d05fb1d4e9fe777ead218ac104497f5c97ca5ecb3b9_640_jpg.rf.6307adaa97319990d5f471741584c586.jpg  \n",
            "  inflating: ./butterfly-spider/butterfly-spider/train/images/e837b90e2ef3063ed1584d05fb1d4e9fe777ead218ac104497f5c97ca5ecb3b9_640_jpg.rf.e5d3ad7558a6182ee71de729292c10e2.jpg  \n",
            "  inflating: ./butterfly-spider/butterfly-spider/train/images/e83cb0062ff5073ed1584d05fb1d4e9fe777ead218ac104497f5c97ca5ecb3b9_640_jpg.rf.2a370cfe1663af10de944654d34942f3.jpg  \n",
            "  inflating: ./butterfly-spider/butterfly-spider/train/images/e83cb0062ff5073ed1584d05fb1d4e9fe777ead218ac104497f5c97ca5ecb3b9_640_jpg.rf.2cf693d241eed3264f49034e39694b1f.jpg  \n",
            "  inflating: ./butterfly-spider/butterfly-spider/train/images/e83cb0062ff5073ed1584d05fb1d4e9fe777ead218ac104497f5c97ca5ecb3b9_640_jpg.rf.3d0d4ad8677db3900b7021d62f70d283.jpg  \n",
            "  inflating: ./butterfly-spider/butterfly-spider/train/images/e83cb00a2bf0053ed1584d05fb1d4e9fe777ead218ac104497f5c97ca5ecb3b9_640_jpg.rf.2927d40ede33ecd4a1fe5fb2a48aee7c.jpg  \n",
            "  inflating: ./butterfly-spider/butterfly-spider/train/images/e83cb00a2bf0053ed1584d05fb1d4e9fe777ead218ac104497f5c97ca5ecb3b9_640_jpg.rf.9e8196b14531d43f66a049e91c6e51fa.jpg  \n",
            "  inflating: ./butterfly-spider/butterfly-spider/train/images/e83cb00a2bf0053ed1584d05fb1d4e9fe777ead218ac104497f5c97ca5ecb3b9_640_jpg.rf.e84b75cede8beb87650cf29524fdc065.jpg  \n",
            "  inflating: ./butterfly-spider/butterfly-spider/train/images/e83cb2082bfd013ed1584d05fb1d4e9fe777ead218ac104497f5c97ca5ecb5b1_640_jpg.rf.4be30368602f9a5b202701a8b7a8d844.jpg  \n",
            "  inflating: ./butterfly-spider/butterfly-spider/train/images/e83cb2082bfd013ed1584d05fb1d4e9fe777ead218ac104497f5c97ca5ecb5b1_640_jpg.rf.6d47009f263b844dc07d4e02fbe6ccf1.jpg  \n",
            "  inflating: ./butterfly-spider/butterfly-spider/train/images/e83cb2082bfd013ed1584d05fb1d4e9fe777ead218ac104497f5c97ca5ecb5b1_640_jpg.rf.737329566b35ddeb0bc54f71031e11ae.jpg  \n",
            "  inflating: ./butterfly-spider/butterfly-spider/train/images/e83cb20a28f2023ed1584d05fb1d4e9fe777ead218ac104497f5c97ca5ecb3b9_640_jpg.rf.526ca231729d5d6881db8b0919bbe396.jpg  \n",
            "  inflating: ./butterfly-spider/butterfly-spider/train/images/e83cb20a28f2023ed1584d05fb1d4e9fe777ead218ac104497f5c97ca5ecb3b9_640_jpg.rf.5fe21a50108ab5d4865ea5f202efd9b8.jpg  \n",
            "  inflating: ./butterfly-spider/butterfly-spider/train/images/e83cb20a28f2023ed1584d05fb1d4e9fe777ead218ac104497f5c97ca5ecb3b9_640_jpg.rf.7d44ae1a05578d18404036b94fb493d6.jpg  \n",
            "  inflating: ./butterfly-spider/butterfly-spider/train/images/e83cb3062bf1003ed1584d05fb1d4e9fe777ead218ac104497f5c97ca5edb3bd_640_jpg.rf.2cf96092f0723afe512e9a40f8f19c44.jpg  \n",
            "  inflating: ./butterfly-spider/butterfly-spider/train/images/e83cb3062bf1003ed1584d05fb1d4e9fe777ead218ac104497f5c97ca5edb3bd_640_jpg.rf.381650e4a12f58823c6eb421cc0a09db.jpg  \n",
            "  inflating: ./butterfly-spider/butterfly-spider/train/images/e83cb3062bf1003ed1584d05fb1d4e9fe777ead218ac104497f5c97ca5edb3bd_640_jpg.rf.7a8eee9c8854937d1cdbf3a7550b8dc1.jpg  \n",
            "  inflating: ./butterfly-spider/butterfly-spider/train/images/e83cb30c2bf6043ed1584d05fb1d4e9fe777ead218ac104497f5c97ca5ecb5b1_640_jpg.rf.286e9f5e4867ad0fb5778f884ac4da53.jpg  \n",
            "  inflating: ./butterfly-spider/butterfly-spider/train/images/e83cb30c2bf6043ed1584d05fb1d4e9fe777ead218ac104497f5c97ca5ecb5b1_640_jpg.rf.920a28dd08c2dd0a508acdf8ec6a55c6.jpg  \n",
            "  inflating: ./butterfly-spider/butterfly-spider/train/images/e83cb30c2bf6043ed1584d05fb1d4e9fe777ead218ac104497f5c97ca5ecb5b1_640_jpg.rf.ee36d0de6385f7f6be1f12b7f0208690.jpg  \n",
            "  inflating: ./butterfly-spider/butterfly-spider/train/images/e83cb40728f1073ed1584d05fb1d4e9fe777ead218ac104497f5c97ca5ecb3b9_640_jpg.rf.6cb66a1f8c22878aa94a502cbc3f3354.jpg  \n",
            "  inflating: ./butterfly-spider/butterfly-spider/train/images/e83cb40728f1073ed1584d05fb1d4e9fe777ead218ac104497f5c97ca5ecb3b9_640_jpg.rf.cfed97e1adf4959419315300446d8346.jpg  \n",
            "  inflating: ./butterfly-spider/butterfly-spider/train/images/e83cb40728f1073ed1584d05fb1d4e9fe777ead218ac104497f5c97ca5ecb3b9_640_jpg.rf.dba80b6dfc19a6534f7b7f0ed1642155.jpg  \n",
            "  inflating: ./butterfly-spider/butterfly-spider/train/images/e83cb4072bf21c22d2524518b7444f92e37fe5d404b0144390f8c47ba7ebb0_640_jpg.rf.20a59ecd5ca137b3f6261421876302f8.jpg  \n",
            "  inflating: ./butterfly-spider/butterfly-spider/train/images/e83cb4072bf21c22d2524518b7444f92e37fe5d404b0144390f8c47ba7ebb0_640_jpg.rf.7127c5be075c35b013b3a5fcf46156df.jpg  \n",
            "  inflating: ./butterfly-spider/butterfly-spider/train/images/e83cb4072bf21c22d2524518b7444f92e37fe5d404b0144390f8c47ba7ebb0_640_jpg.rf.770539f3b654574f641b7c8512952fb7.jpg  \n",
            "  inflating: ./butterfly-spider/butterfly-spider/train/images/e83cb60f2dfd1c22d2524518b7444f92e37fe5d404b0144390f8c47ba7ebb0_640_jpg.rf.06820a4c5d23e835599f8c0b2ceb7f12.jpg  \n",
            "  inflating: ./butterfly-spider/butterfly-spider/train/images/e83cb60f2dfd1c22d2524518b7444f92e37fe5d404b0144390f8c47ba7ebb0_640_jpg.rf.7143454ab482ac947e58be888852e008.jpg  \n",
            "  inflating: ./butterfly-spider/butterfly-spider/train/images/e83cb60f2dfd1c22d2524518b7444f92e37fe5d404b0144390f8c47ba7ebb0_640_jpg.rf.b9f9dcf18e2667dc3a251b9bf74f1d26.jpg  \n",
            "  inflating: ./butterfly-spider/butterfly-spider/train/images/e83cb80e29f11c22d2524518b7444f92e37fe5d404b0144390f8c770a3e5b7_640_jpg.rf.3abd680ebcc40eba166a5ec699b7712d.jpg  \n",
            "  inflating: ./butterfly-spider/butterfly-spider/train/images/e83cb80e29f11c22d2524518b7444f92e37fe5d404b0144390f8c770a3e5b7_640_jpg.rf.401707e5512a96b900a5f566d8f4ec10.jpg  \n",
            "  inflating: ./butterfly-spider/butterfly-spider/train/images/e83cb80e29f11c22d2524518b7444f92e37fe5d404b0144390f8c770a3e5b7_640_jpg.rf.bf7503ec5a0d574aeeceecd41da3e6f2.jpg  \n",
            "  inflating: ./butterfly-spider/butterfly-spider/train/images/e83cb90c28e90021d85a5854ee454296eb70e3c818b413449df6c87dafef_640_jpg.rf.027a5ff22022a0ca137b6b4b3ca66ca0.jpg  \n",
            "  inflating: ./butterfly-spider/butterfly-spider/train/images/e83cb90c28e90021d85a5854ee454296eb70e3c818b413449df6c87dafef_640_jpg.rf.588e56cff8e398d867869e1687658e50.jpg  \n",
            "  inflating: ./butterfly-spider/butterfly-spider/train/images/e83cb90c28e90021d85a5854ee454296eb70e3c818b413449df6c87dafef_640_jpg.rf.5c34bd49736f1248c130ac182de3b05b.jpg  \n",
            "  inflating: ./butterfly-spider/butterfly-spider/train/images/e83db0082ffc053ed1584d05fb1d4e9fe777ead218ac104497f5c97ca5ecb5b1_640_jpg.rf.85dba89944de516842169178df2d43e1.jpg  \n",
            "  inflating: ./butterfly-spider/butterfly-spider/train/images/e83db0082ffc053ed1584d05fb1d4e9fe777ead218ac104497f5c97ca5ecb5b1_640_jpg.rf.e3d2b9296cdd15cd86313a11098819bb.jpg  \n",
            "  inflating: ./butterfly-spider/butterfly-spider/train/images/e83db00b28e90021d85a5854ee454296eb70e3c818b413449df6c87ca3ed_640_jpg.rf.00ab59e9563e60dd7ed0b5a97a9c0296.jpg  \n",
            "  inflating: ./butterfly-spider/butterfly-spider/train/images/e83db00b28e90021d85a5854ee454296eb70e3c818b413449df6c87ca3ed_640_jpg.rf.6f8d9ee49ce5236d2591d59b6313eb22.jpg  \n",
            "  inflating: ./butterfly-spider/butterfly-spider/train/images/e83db00b28e90021d85a5854ee454296eb70e3c818b413449df6c87ca3ed_640_jpg.rf.b2c91facfe3a03850efea99cdfbde396.jpg  \n",
            "  inflating: ./butterfly-spider/butterfly-spider/train/images/e83db4072cf1063ed1584d05fb1d4e9fe777ead218ac104497f5c97ca5ecb3b9_640_jpg.rf.23f5c9eb39ba0c8ed11f8357b3d052f7.jpg  \n",
            "  inflating: ./butterfly-spider/butterfly-spider/train/images/e83db4072cf1063ed1584d05fb1d4e9fe777ead218ac104497f5c97ca5ecb3b9_640_jpg.rf.6dcfa3ca980b1102d32f3347901a3f28.jpg  \n",
            "  inflating: ./butterfly-spider/butterfly-spider/train/images/e83db4072cf1063ed1584d05fb1d4e9fe777ead218ac104497f5c97ca5ecb3b9_640_jpg.rf.c36bf8c54727d45f526eb00b4c00552f.jpg  \n",
            "  inflating: ./butterfly-spider/butterfly-spider/train/images/e83db70d28f51c22d2524518b7444f92e37fe5d404b0144390f8c770a2e9b5_640_jpg.rf.0d4f319ac66b468988267b7251c23f6c.jpg  \n",
            "  inflating: ./butterfly-spider/butterfly-spider/train/images/e83db70d28f51c22d2524518b7444f92e37fe5d404b0144390f8c770a2e9b5_640_jpg.rf.8c2167c170ddf36197d75717b916a98d.jpg  \n",
            "  inflating: ./butterfly-spider/butterfly-spider/train/images/e83db70d28f51c22d2524518b7444f92e37fe5d404b0144390f8c770a2e9b5_640_jpg.rf.d205e6e907410d2a31ac023ad4c07de7.jpg  \n",
            "  inflating: ./butterfly-spider/butterfly-spider/train/images/e83db80628f01c22d2524518b7444f92e37fe5d404b0144390f8c47ba6edbc_640_jpg.rf.543ec1412a49b49bf7dd0dfd87e08c80.jpg  \n",
            "  inflating: ./butterfly-spider/butterfly-spider/train/images/e83db80628f01c22d2524518b7444f92e37fe5d404b0144390f8c47ba6edbc_640_jpg.rf.b95ef9c12b264c687a2faf95baebbc62.jpg  \n",
            "  inflating: ./butterfly-spider/butterfly-spider/train/images/e83db80628f01c22d2524518b7444f92e37fe5d404b0144390f8c47ba6edbc_640_jpg.rf.c969e0e86c1297125e2e61be6da9825c.jpg  \n",
            "  inflating: ./butterfly-spider/butterfly-spider/train/images/e83db90a21f4053ed1584d05fb1d4e9fe777ead218ac104497f5c97ca5ecb3b9_640_jpg.rf.643d08ef765254ec604b5e74248a3c2c.jpg  \n",
            "  inflating: ./butterfly-spider/butterfly-spider/train/images/e83db90a21f4053ed1584d05fb1d4e9fe777ead218ac104497f5c97ca5ecb3b9_640_jpg.rf.7a6f637680889e114aedea8c755fa94a.jpg  \n",
            "  inflating: ./butterfly-spider/butterfly-spider/train/images/e83db90a21f4053ed1584d05fb1d4e9fe777ead218ac104497f5c97ca5ecb3b9_640_jpg.rf.8e48ce682a6d0e6877c419d47ba73b4c.jpg  \n",
            "  inflating: ./butterfly-spider/butterfly-spider/train/images/ea30b60e20f11c22d2524518b7444f92e37fe5d404b0144390f8c47ba6ebb4_640_jpg.rf.077cede52a3884d767799ec16b8b5fd7.jpg  \n",
            "  inflating: ./butterfly-spider/butterfly-spider/train/images/ea30b60e20f11c22d2524518b7444f92e37fe5d404b0144390f8c47ba6ebb4_640_jpg.rf.c1c544a9de30e0a7ce9c235322fa6a30.jpg  \n",
            "  inflating: ./butterfly-spider/butterfly-spider/train/images/ea30b60e20f11c22d2524518b7444f92e37fe5d404b0144390f8c47ba6ebb4_640_jpg.rf.f7bedbd75d78693e058dec3639ccd142.jpg  \n",
            "  inflating: ./butterfly-spider/butterfly-spider/train/images/ea31b30e2ef41c22d2524518b7444f92e37fe5d404b0144390f8c770a2e9b5_640_jpg.rf.02d70a25a0df561f1d52505057f33f1f.jpg  \n",
            "  inflating: ./butterfly-spider/butterfly-spider/train/images/ea31b30e2ef41c22d2524518b7444f92e37fe5d404b0144390f8c770a2e9b5_640_jpg.rf.3974314cff5c5b9ba6690e7c9318de99.jpg  \n",
            "  inflating: ./butterfly-spider/butterfly-spider/train/images/ea31b30e2ef41c22d2524518b7444f92e37fe5d404b0144390f8c770a2e9b5_640_jpg.rf.44b6de9155e8befb669c0370dc9abd61.jpg  \n",
            "  inflating: ./butterfly-spider/butterfly-spider/train/images/ea31b90820f71c22d2524518b7444f92e37fe5d404b0144390f8c47ba6ebb4_640_jpg.rf.26f602a9606f4ccd421d385aacd66f8e.jpg  \n",
            "  inflating: ./butterfly-spider/butterfly-spider/train/images/ea31b90820f71c22d2524518b7444f92e37fe5d404b0144390f8c47ba6ebb4_640_jpg.rf.b88fa306dc3f6b129d1899781e4bae37.jpg  \n",
            "  inflating: ./butterfly-spider/butterfly-spider/train/images/ea31b90820f71c22d2524518b7444f92e37fe5d404b0144390f8c47ba6ebb4_640_jpg.rf.f678d2859c4f5c85379f395ecc9dc42a.jpg  \n",
            "  inflating: ./butterfly-spider/butterfly-spider/train/images/ea31b90820fc1c22d2524518b7444f92e37fe5d404b0144390f8c47ba6ebb4_640_jpg.rf.04bbfb35d5a7a3f6d3f99a9b99afda9e.jpg  \n",
            "  inflating: ./butterfly-spider/butterfly-spider/train/images/ea31b90820fc1c22d2524518b7444f92e37fe5d404b0144390f8c47ba6ebb4_640_jpg.rf.2fd5ca851b96b3d161b3f3e4005e50e8.jpg  \n",
            "  inflating: ./butterfly-spider/butterfly-spider/train/images/ea31b90820fc1c22d2524518b7444f92e37fe5d404b0144390f8c47ba6ebb4_640_jpg.rf.a77ad1537018b48a833e7da7d7a7a3ca.jpg  \n",
            "  inflating: ./butterfly-spider/butterfly-spider/train/images/ea31b90821f41c22d2524518b7444f92e37fe5d404b0144390f8c47ba6ebb4_640_jpg.rf.c7cff99601e548a705c74be7291db280.jpg  \n",
            "  inflating: ./butterfly-spider/butterfly-spider/train/images/ea31b90821f41c22d2524518b7444f92e37fe5d404b0144390f8c47ba6ebb4_640_jpg.rf.ebb1e068338f651ae2912d6f58e312ee.jpg  \n",
            "  inflating: ./butterfly-spider/butterfly-spider/train/images/ea31b90821f41c22d2524518b7444f92e37fe5d404b0144390f8c47ba6ebb4_640_jpg.rf.ef60b6fe53e47f003259bb64cefcdfd6.jpg  \n",
            "  inflating: ./butterfly-spider/butterfly-spider/train/images/ea32b6062af31c22d2524518b7444f92e37fe5d404b0144390f8c770a1edb6_640_jpg.rf.5adb5a9081446badf845a091c0e0c6aa.jpg  \n",
            "  inflating: ./butterfly-spider/butterfly-spider/train/images/ea32b6062af31c22d2524518b7444f92e37fe5d404b0144390f8c770a1edb6_640_jpg.rf.7b959c37ad32b8d4a5618792fb081906.jpg  \n",
            "  inflating: ./butterfly-spider/butterfly-spider/train/images/ea32b6062af31c22d2524518b7444f92e37fe5d404b0144390f8c770a1edb6_640_jpg.rf.bce8ddac0e879b4f33e56c37fd8a75d1.jpg  \n",
            "  inflating: ./butterfly-spider/butterfly-spider/train/images/ea32b6062af31c22d2524518b7444f92e37fe5d404b0144390f8c770a1edb6_640_jpg.rf.d47bcd6e4dc6b052da9ad1b60b169d28.jpg  \n",
            "  inflating: ./butterfly-spider/butterfly-spider/train/images/ea32b6062af31c22d2524518b7444f92e37fe5d404b0144390f8c770a1edb6_640_jpg.rf.e1f2425358a23a0e71c767eb2cc96493.jpg  \n",
            "  inflating: ./butterfly-spider/butterfly-spider/train/images/ea32b6062af31c22d2524518b7444f92e37fe5d404b0144390f8c770a1edb6_640_jpg.rf.ebebafc91a116bbdb8d7b327b4be85b5.jpg  \n",
            "  inflating: ./butterfly-spider/butterfly-spider/train/images/ea32b7072ff21c22d2524518b7444f92e37fe5d404b0144390f8c770a1edb6_640_jpg.rf.289c6003b229da20a43cd1bb718ffecf.jpg  \n",
            "  inflating: ./butterfly-spider/butterfly-spider/train/images/ea32b7072ff21c22d2524518b7444f92e37fe5d404b0144390f8c770a1edb6_640_jpg.rf.8586238343f21d8e2fe00af7223fb796.jpg  \n",
            "  inflating: ./butterfly-spider/butterfly-spider/train/images/ea32b7072ff21c22d2524518b7444f92e37fe5d404b0144390f8c770a1edb6_640_jpg.rf.a6c4d6ab9507630fb235d2e15f60af59.jpg  \n",
            "  inflating: ./butterfly-spider/butterfly-spider/train/images/ea33b20c2cf11c22d2524518b7444f92e37fe5d404b0144390f8c770a1edb6_640_jpg.rf.024bd655859507f9f0e5bfcd33911c58.jpg  \n",
            "  inflating: ./butterfly-spider/butterfly-spider/train/images/ea33b20c2cf11c22d2524518b7444f92e37fe5d404b0144390f8c770a1edb6_640_jpg.rf.1a0fd05a0604badeeece1d946b98dd35.jpg  \n",
            "  inflating: ./butterfly-spider/butterfly-spider/train/images/ea33b20c2cf11c22d2524518b7444f92e37fe5d404b0144390f8c770a1edb6_640_jpg.rf.2d65681516388c1ae661e96c1b4f8a17.jpg  \n",
            "  inflating: ./butterfly-spider/butterfly-spider/train/images/ea33b50c2afd1c22d2524518b7444f92e37fe5d404b0144390f8c770a2e9b5_640_jpg.rf.7491e848be8232f15062138ff90991c7.jpg  \n",
            "  inflating: ./butterfly-spider/butterfly-spider/train/images/ea33b50c2afd1c22d2524518b7444f92e37fe5d404b0144390f8c770a2e9b5_640_jpg.rf.d7db08e8457965ad93cd39879e661d99.jpg  \n",
            "  inflating: ./butterfly-spider/butterfly-spider/train/images/ea33b50c2afd1c22d2524518b7444f92e37fe5d404b0144390f8c770a2e9b5_640_jpg.rf.edae5589fe2412ec82faf7d9fd31824d.jpg  \n",
            "  inflating: ./butterfly-spider/butterfly-spider/train/images/ea34b0082bf7043ed1584d05fb1d4e9fe777ead218ac104497f5c97faeebb5bb_640_jpg.rf.02a44059c95490444d520f00b59444a6.jpg  \n",
            "  inflating: ./butterfly-spider/butterfly-spider/train/images/ea34b0082bf7043ed1584d05fb1d4e9fe777ead218ac104497f5c97faeebb5bb_640_jpg.rf.734d0befd298ff18f01a8fd1b5e7a4bb.jpg  \n",
            "  inflating: ./butterfly-spider/butterfly-spider/train/images/ea34b0082bf7043ed1584d05fb1d4e9fe777ead218ac104497f5c97faeebb5bb_640_jpg.rf.9d805354b684696b9d15d5371c6a9275.jpg  \n",
            "  inflating: ./butterfly-spider/butterfly-spider/train/images/ea34b00f2af7083ed1584d05fb1d4e9fe777ead218ac104497f5c97faeebb5bb_640_jpg.rf.3aa8477ad2e6f46fc3b93680ff8d101f.jpg  \n",
            "  inflating: ./butterfly-spider/butterfly-spider/train/images/ea34b00f2af7083ed1584d05fb1d4e9fe777ead218ac104497f5c97faeebb5bb_640_jpg.rf.872d527b941668784a249728fbfcf222.jpg  \n",
            "  inflating: ./butterfly-spider/butterfly-spider/train/images/ea34b00f2af7083ed1584d05fb1d4e9fe777ead218ac104497f5c97faeebb5bb_640_jpg.rf.91a7b9ac4544b6222eb6e84aa5f8d2a2.jpg  \n",
            "  inflating: ./butterfly-spider/butterfly-spider/train/images/ea34b10621f1003ed1584d05fb1d4e9fe777ead218ac104497f5c97ca5edb3bd_640_jpg.rf.297e8623cb9d1cbca3ccb73a0b81dbcc.jpg  \n",
            "  inflating: ./butterfly-spider/butterfly-spider/train/images/ea34b10621f1003ed1584d05fb1d4e9fe777ead218ac104497f5c97ca5edb3bd_640_jpg.rf.ac78b80f6f0c97f9dfe01f89c1dd6ec9.jpg  \n",
            "  inflating: ./butterfly-spider/butterfly-spider/train/images/ea34b10621f1003ed1584d05fb1d4e9fe777ead218ac104497f5c97ca5edb3bd_640_jpg.rf.c7741975b5e67592332984efdb7d31dc.jpg  \n",
            "  inflating: ./butterfly-spider/butterfly-spider/train/images/ea34b1082dfd063ed1584d05fb1d4e9fe777ead218ac104497f5c97ca5ecb5b1_640_jpg.rf.0d2f954779ccc947c780db5ada4a03fd.jpg  \n",
            "  inflating: ./butterfly-spider/butterfly-spider/train/images/ea34b1082dfd063ed1584d05fb1d4e9fe777ead218ac104497f5c97ca5ecb5b1_640_jpg.rf.85aa43b9598e98ff3f05e4cf37c4e3dc.jpg  \n",
            "  inflating: ./butterfly-spider/butterfly-spider/train/images/ea34b1082dfd063ed1584d05fb1d4e9fe777ead218ac104497f5c97ca5ecb5b1_640_jpg.rf.e84cb46cf4bdfd2a84b511820b2e5f61.jpg  \n",
            "  inflating: ./butterfly-spider/butterfly-spider/train/images/ea34b1092bfd013ed1584d05fb1d4e9fe777ead218ac104497f5c97ca5edb3bd_640_jpg.rf.04d9bbc05f7ca46fa7ebe3380bc33e06.jpg  \n",
            "  inflating: ./butterfly-spider/butterfly-spider/train/images/ea34b1092bfd013ed1584d05fb1d4e9fe777ead218ac104497f5c97ca5edb3bd_640_jpg.rf.be5fb2eed801eb97ee3ba77339767879.jpg  \n",
            "  inflating: ./butterfly-spider/butterfly-spider/train/images/ea34b1092bfd013ed1584d05fb1d4e9fe777ead218ac104497f5c97ca5edb3bd_640_jpg.rf.f9698a334c744bae4db55ff7b79ab297.jpg  \n",
            "  inflating: ./butterfly-spider/butterfly-spider/train/images/ea34b10a28f0013ed1584d05fb1d4e9fe777ead218ac104497f5c97faeebb5bb_640_jpg.rf.0a2f086f277d683c16e1db282d096a00.jpg  \n",
            "  inflating: ./butterfly-spider/butterfly-spider/train/images/ea34b10a28f0013ed1584d05fb1d4e9fe777ead218ac104497f5c97faeebb5bb_640_jpg.rf.43218d5001c7a0dc36ffd36db2a179e6.jpg  \n",
            "  inflating: ./butterfly-spider/butterfly-spider/train/images/ea34b10a28f0013ed1584d05fb1d4e9fe777ead218ac104497f5c97faeebb5bb_640_jpg.rf.a74acfcd9cb8445e893621267c2e6d03.jpg  \n",
            "  inflating: ./butterfly-spider/butterfly-spider/train/images/ea34b10c2ff2013ed1584d05fb1d4e9fe777ead218ac104497f5c97ca5ecb5b1_640_jpg.rf.2dd6b288447da9e915b85426f043ec8d.jpg  \n",
            "  inflating: ./butterfly-spider/butterfly-spider/train/images/ea34b10c2ff2013ed1584d05fb1d4e9fe777ead218ac104497f5c97ca5ecb5b1_640_jpg.rf.7b4dc06ee55219337d64edf1fd64417f.jpg  \n",
            "  inflating: ./butterfly-spider/butterfly-spider/train/images/ea34b10c2ff2013ed1584d05fb1d4e9fe777ead218ac104497f5c97ca5ecb5b1_640_jpg.rf.f0685254f277ff570d19acb98a72dfb3.jpg  \n",
            "  inflating: ./butterfly-spider/butterfly-spider/train/images/ea34b10e2df1063ed1584d05fb1d4e9fe777ead218ac104497f5c97ca5edb3bd_640_jpg.rf.80cc8764f8e9bb608496afe2379d4407.jpg  \n",
            "  inflating: ./butterfly-spider/butterfly-spider/train/images/ea34b10e2df1063ed1584d05fb1d4e9fe777ead218ac104497f5c97ca5edb3bd_640_jpg.rf.87dcdf0e4b88531bbce6d216dd13a84f.jpg  \n",
            "  inflating: ./butterfly-spider/butterfly-spider/train/images/ea34b10e2df1063ed1584d05fb1d4e9fe777ead218ac104497f5c97ca5edb3bd_640_jpg.rf.bc93e56dac902bbe607ad9f0bff00477.jpg  \n",
            "  inflating: ./butterfly-spider/butterfly-spider/train/images/ea34b10f2cfc043ed1584d05fb1d4e9fe777ead218ac104497f5c97ca5edb3bd_640_jpg.rf.281aadb0c2f2fbfb4c6f8514c64f96a8.jpg  \n",
            "  inflating: ./butterfly-spider/butterfly-spider/train/images/ea34b10f2cfc043ed1584d05fb1d4e9fe777ead218ac104497f5c97ca5edb3bd_640_jpg.rf.640771859567eb756695710514d1849b.jpg  \n",
            "  inflating: ./butterfly-spider/butterfly-spider/train/images/ea34b10f2cfc043ed1584d05fb1d4e9fe777ead218ac104497f5c97ca5edb3bd_640_jpg.rf.cf749cc0ae628efffb5c79f0c1765728.jpg  \n",
            "  inflating: ./butterfly-spider/butterfly-spider/train/images/ea34b2062ef7003ed1584d05fb1d4e9fe777ead218ac104497f5c97ca5edb3bd_640_jpg.rf.1e055dc6f43e865286530b6834d47db5.jpg  \n",
            "  inflating: ./butterfly-spider/butterfly-spider/train/images/ea34b2062ef7003ed1584d05fb1d4e9fe777ead218ac104497f5c97ca5edb3bd_640_jpg.rf.1eac0d1f0fda6af089198b9e44c84401.jpg  \n",
            "  inflating: ./butterfly-spider/butterfly-spider/train/images/ea34b2062ef7003ed1584d05fb1d4e9fe777ead218ac104497f5c97ca5edb3bd_640_jpg.rf.b64e7929dd05e8e28c499a4d9780d0ac.jpg  \n",
            "  inflating: ./butterfly-spider/butterfly-spider/train/images/ea34b20a2df6063ed1584d05fb1d4e9fe777ead218ac104497f5c97faee8b1b8_640_jpg.rf.4e11b7fbef067e4311f487b512abc34c.jpg  \n",
            "  inflating: ./butterfly-spider/butterfly-spider/train/images/ea34b20a2df6063ed1584d05fb1d4e9fe777ead218ac104497f5c97faee8b1b8_640_jpg.rf.60ab9341312cdeb25cefb20f455b10a8.jpg  \n",
            "  inflating: ./butterfly-spider/butterfly-spider/train/images/ea34b20a2df6063ed1584d05fb1d4e9fe777ead218ac104497f5c97faee8b1b8_640_jpg.rf.e821b338426d897b0f843bb8435951d4.jpg  \n",
            "  inflating: ./butterfly-spider/butterfly-spider/train/images/ea34b20a2ef5013ed1584d05fb1d4e9fe777ead218ac104497f5c97faeebb5bb_640_jpg.rf.5e2b59279cc26e1de7d9d0e287a80ff6.jpg  \n",
            "  inflating: ./butterfly-spider/butterfly-spider/train/images/ea34b20a2ef5013ed1584d05fb1d4e9fe777ead218ac104497f5c97faeebb5bb_640_jpg.rf.7d7d0a49933040414454fed673cb5b2f.jpg  \n",
            "  inflating: ./butterfly-spider/butterfly-spider/train/images/ea34b20a2ef5013ed1584d05fb1d4e9fe777ead218ac104497f5c97faeebb5bb_640_jpg.rf.ec129b9c95f49c013b9aebf3f87414d8.jpg  \n",
            "  inflating: ./butterfly-spider/butterfly-spider/train/images/ea34b20b2ef5053ed1584d05fb1d4e9fe777ead218ac104497f5c97ca5ecb5b1_640_jpg.rf.a469bf4cd98b47d6966ceed97f9d236c.jpg  \n",
            "  inflating: ./butterfly-spider/butterfly-spider/train/images/ea34b20b2ef5053ed1584d05fb1d4e9fe777ead218ac104497f5c97ca5ecb5b1_640_jpg.rf.b9115bf6626d099349c08dd94edff001.jpg  \n",
            "  inflating: ./butterfly-spider/butterfly-spider/train/images/ea34b20b2ef5053ed1584d05fb1d4e9fe777ead218ac104497f5c97ca5ecb5b1_640_jpg.rf.ee0c8753412912e99951b7254d12a937.jpg  \n",
            "  inflating: ./butterfly-spider/butterfly-spider/train/images/ea34b3072ff0073ed1584d05fb1d4e9fe777ead218ac104497f5c97ca5ecb5b1_640_jpg.rf.2f3bc50ade67fdb99d52b26c36964054.jpg  \n",
            "  inflating: ./butterfly-spider/butterfly-spider/train/images/ea34b3072ff0073ed1584d05fb1d4e9fe777ead218ac104497f5c97ca5ecb5b1_640_jpg.rf.3322ba797081a01d271be03fde7d033e.jpg  \n",
            "  inflating: ./butterfly-spider/butterfly-spider/train/images/ea34b3072ff0073ed1584d05fb1d4e9fe777ead218ac104497f5c97ca5ecb5b1_640_jpg.rf.423772d45c7aab28e1aebd0c18ec3ac4.jpg  \n",
            "  inflating: ./butterfly-spider/butterfly-spider/train/images/ea34b3072ff1033ed1584d05fb1d4e9fe777ead218ac104497f5c97ca5ecb3b9_640_jpg.rf.672deb7b7f928659a33acfbfc7b7fc35.jpg  \n",
            "  inflating: ./butterfly-spider/butterfly-spider/train/images/ea34b3072ff1033ed1584d05fb1d4e9fe777ead218ac104497f5c97ca5ecb3b9_640_jpg.rf.84bde4cc2b345b5c344262b1f9fb7dde.jpg  \n",
            "  inflating: ./butterfly-spider/butterfly-spider/train/images/ea34b3072ff1033ed1584d05fb1d4e9fe777ead218ac104497f5c97ca5ecb3b9_640_jpg.rf.f940104eaa438cb8966db8aaabac01f7.jpg  \n",
            "  inflating: ./butterfly-spider/butterfly-spider/train/images/ea34b30c29f7093ed1584d05fb1d4e9fe777ead218ac104497f5c97ca5ecb5b1_640_jpg.rf.1d19134b9507d76cc058e5526ec8ab01.jpg  \n",
            "  inflating: ./butterfly-spider/butterfly-spider/train/images/ea34b30c29f7093ed1584d05fb1d4e9fe777ead218ac104497f5c97ca5ecb5b1_640_jpg.rf.3ba518f62c28854b1f26e4a8f7879006.jpg  \n",
            "  inflating: ./butterfly-spider/butterfly-spider/train/images/ea34b30c29f7093ed1584d05fb1d4e9fe777ead218ac104497f5c97ca5ecb5b1_640_jpg.rf.b67abc55bee1fc0c6c85d7cb3b07307e.jpg  \n",
            "  inflating: ./butterfly-spider/butterfly-spider/train/images/ea34b4062cf6043ed1584d05fb1d4e9fe777ead218ac104497f5c97ca5edb3bd_640_jpg.rf.64c1b07dac8459444c65ff0e69a0f380.jpg  \n",
            "  inflating: ./butterfly-spider/butterfly-spider/train/images/ea34b4062cf6043ed1584d05fb1d4e9fe777ead218ac104497f5c97ca5edb3bd_640_jpg.rf.ae395ea0a4b5bab61f02cb9cb20c8286.jpg  \n",
            "  inflating: ./butterfly-spider/butterfly-spider/train/images/ea34b4062cf6043ed1584d05fb1d4e9fe777ead218ac104497f5c97ca5edb3bd_640_jpg.rf.fba941bbe88c1b87cdc752aa36c192b9.jpg  \n",
            "  inflating: ./butterfly-spider/butterfly-spider/train/images/ea34b4062cf7013ed1584d05fb1d4e9fe777ead218ac104497f5c97ca5edb3bd_640_jpg.rf.683573fa86773f9f6aeb6178e8aa1868.jpg  \n",
            "  inflating: ./butterfly-spider/butterfly-spider/train/images/ea34b4062cf7013ed1584d05fb1d4e9fe777ead218ac104497f5c97ca5edb3bd_640_jpg.rf.81f6d753f83a7721a312239d4951fdd3.jpg  \n",
            "  inflating: ./butterfly-spider/butterfly-spider/train/images/ea34b4062cf7013ed1584d05fb1d4e9fe777ead218ac104497f5c97ca5edb3bd_640_jpg.rf.efad6285b2b11903f562191f95fce0ad.jpg  \n",
            "  inflating: ./butterfly-spider/butterfly-spider/train/images/ea34b4072efd003ed1584d05fb1d4e9fe777ead218ac104497f5c97faeebb5bb_640_jpg.rf.23a703e7711d460d65f2f276de12e80f.jpg  \n",
            "  inflating: ./butterfly-spider/butterfly-spider/train/images/ea34b4072efd003ed1584d05fb1d4e9fe777ead218ac104497f5c97faeebb5bb_640_jpg.rf.c469056024947eb9f7c0d3cfda68c5bc.jpg  \n",
            "  inflating: ./butterfly-spider/butterfly-spider/train/images/ea34b4072efd003ed1584d05fb1d4e9fe777ead218ac104497f5c97faeebb5bb_640_jpg.rf.e58b4fa711566cca0e283b9b80da53c7.jpg  \n",
            "  inflating: ./butterfly-spider/butterfly-spider/train/images/ea34b40a21fd003ed1584d05fb1d4e9fe777ead218ac104497f5c97faee8b1b8_640_jpg.rf.05ed88673984a676038f7b5303df43aa.jpg  \n",
            "  inflating: ./butterfly-spider/butterfly-spider/train/images/ea34b40a21fd003ed1584d05fb1d4e9fe777ead218ac104497f5c97faee8b1b8_640_jpg.rf.664bd2f8c2c3b4cb9054c7619d73014e.jpg  \n",
            "  inflating: ./butterfly-spider/butterfly-spider/train/images/ea34b40a21fd003ed1584d05fb1d4e9fe777ead218ac104497f5c97faee8b1b8_640_jpg.rf.c87ae3928c999309d6986d385e289d7a.jpg  \n",
            "  inflating: ./butterfly-spider/butterfly-spider/train/images/ea34b40a21fd013ed1584d05fb1d4e9fe777ead218ac104497f5c97faeebb5bb_640_jpg.rf.1616c94f4207fd951bed3bc986a65318.jpg  \n",
            "  inflating: ./butterfly-spider/butterfly-spider/train/images/ea34b40a21fd013ed1584d05fb1d4e9fe777ead218ac104497f5c97faeebb5bb_640_jpg.rf.73bddb24bb5ae6af4542ed73f2b6cffb.jpg  \n",
            "  inflating: ./butterfly-spider/butterfly-spider/train/images/ea34b40a21fd013ed1584d05fb1d4e9fe777ead218ac104497f5c97faeebb5bb_640_jpg.rf.97fabd1773654ef283347a95c6da3e28.jpg  \n",
            "  inflating: ./butterfly-spider/butterfly-spider/train/images/ea34b40a2ef7003ed1584d05fb1d4e9fe777ead218ac104497f5c97faeebb5bb_640_jpg.rf.09d0cea8c1a8367bccbd255d251a3d10.jpg  \n",
            "  inflating: ./butterfly-spider/butterfly-spider/train/images/ea34b40a2ef7003ed1584d05fb1d4e9fe777ead218ac104497f5c97faeebb5bb_640_jpg.rf.2faf4d189404ec9c4dd79d0616aea27c.jpg  \n",
            "  inflating: ./butterfly-spider/butterfly-spider/train/images/ea34b40a2ef7003ed1584d05fb1d4e9fe777ead218ac104497f5c97faeebb5bb_640_jpg.rf.e626899b23a5f2fa1c8ad7289a870eb6.jpg  \n",
            "  inflating: ./butterfly-spider/butterfly-spider/train/images/ea34b40b2afd023ed1584d05fb1d4e9fe777ead218ac104497f5c97ca5ecb5b1_640_jpg.rf.1f4827d1c6827a3391e3e2c83cd242d2.jpg  \n",
            "  inflating: ./butterfly-spider/butterfly-spider/train/images/ea34b40b2afd023ed1584d05fb1d4e9fe777ead218ac104497f5c97ca5ecb5b1_640_jpg.rf.39f5b421a960b70b6b30bb8a7b0f58a0.jpg  \n",
            "  inflating: ./butterfly-spider/butterfly-spider/train/images/ea34b40b2afd023ed1584d05fb1d4e9fe777ead218ac104497f5c97ca5ecb5b1_640_jpg.rf.58b9050da0aa156cedc893944dbc2aba.jpg  \n",
            "  inflating: ./butterfly-spider/butterfly-spider/train/images/ea34b40d21f0023ed1584d05fb1d4e9fe777ead218ac104497f5c97faeebb5bb_640_jpg.rf.01686170c1f41433e7940c9aed34834e.jpg  \n",
            "  inflating: ./butterfly-spider/butterfly-spider/train/images/ea34b40d21f0023ed1584d05fb1d4e9fe777ead218ac104497f5c97faeebb5bb_640_jpg.rf.bea8b0099e223855f9bc61d5cb51af9c.jpg  \n",
            "  inflating: ./butterfly-spider/butterfly-spider/train/images/ea34b40d21f0023ed1584d05fb1d4e9fe777ead218ac104497f5c97faeebb5bb_640_jpg.rf.d1fa2f1ada7a1bf6085e2997b4d1581e.jpg  \n",
            "  inflating: ./butterfly-spider/butterfly-spider/train/images/ea34b50a2ef3043ed1584d05fb1d4e9fe777ead218ac104497f5c97faeebb5bb_640_jpg.rf.257f93c89408638bc2c402e540b37db3.jpg  \n",
            "  inflating: ./butterfly-spider/butterfly-spider/train/images/ea34b50a2ef3043ed1584d05fb1d4e9fe777ead218ac104497f5c97faeebb5bb_640_jpg.rf.4dd878121f4e798ca6b40cf0e3129250.jpg  \n",
            "  inflating: ./butterfly-spider/butterfly-spider/train/images/ea34b50a2ef3043ed1584d05fb1d4e9fe777ead218ac104497f5c97faeebb5bb_640_jpg.rf.e7459cc51b885a631c63d781fe2d6cc5.jpg  \n",
            "  inflating: ./butterfly-spider/butterfly-spider/train/images/ea34b50c2cf4053ed1584d05fb1d4e9fe777ead218ac104497f5c97ca5edb3bd_640_jpg.rf.61dc1f16da86d4725a06f353c1481050.jpg  \n",
            "  inflating: ./butterfly-spider/butterfly-spider/train/images/ea34b50c2cf4053ed1584d05fb1d4e9fe777ead218ac104497f5c97ca5edb3bd_640_jpg.rf.62f75a0bb6d0e5edc170574225a3eac3.jpg  \n",
            "  inflating: ./butterfly-spider/butterfly-spider/train/images/ea34b50c2cf4053ed1584d05fb1d4e9fe777ead218ac104497f5c97ca5edb3bd_640_jpg.rf.b7cadf2b4df30a10f7baae5b820597a7.jpg  \n",
            "  inflating: ./butterfly-spider/butterfly-spider/train/images/ea34b6092af2073ed1584d05fb1d4e9fe777ead218ac104497f5c97ca5ecb3b9_640_jpg.rf.547bb1df46f1c64c4057e44695afc45a.jpg  \n",
            "  inflating: ./butterfly-spider/butterfly-spider/train/images/ea34b6092af2073ed1584d05fb1d4e9fe777ead218ac104497f5c97ca5ecb3b9_640_jpg.rf.8a58287625ff6752ef9ae205e0337994.jpg  \n",
            "  inflating: ./butterfly-spider/butterfly-spider/train/images/ea34b6092af2073ed1584d05fb1d4e9fe777ead218ac104497f5c97ca5ecb3b9_640_jpg.rf.ca4fd9eceb42a68678b3abd73304fbf6.jpg  \n",
            "  inflating: ./butterfly-spider/butterfly-spider/train/images/ea34b60a2ef6053ed1584d05fb1d4e9fe777ead218ac104497f5c97ca5edb3bd_640_jpg.rf.1174b42c3ce41d1a34bff9cc48b88219.jpg  \n",
            "  inflating: ./butterfly-spider/butterfly-spider/train/images/ea34b60a2ef6053ed1584d05fb1d4e9fe777ead218ac104497f5c97ca5edb3bd_640_jpg.rf.1cbc5d221d8cbd53d50415fcb2bd8f5e.jpg  \n",
            "  inflating: ./butterfly-spider/butterfly-spider/train/images/ea34b60a2ef6053ed1584d05fb1d4e9fe777ead218ac104497f5c97ca5edb3bd_640_jpg.rf.756ffb715cd81752ff6fe0598fceb658.jpg  \n",
            "  inflating: ./butterfly-spider/butterfly-spider/train/images/ea34b60d20f3033ed1584d05fb1d4e9fe777ead218ac104497f5c97faeebb5bb_640_jpg.rf.07f9bd2140497ef612e0ef1afb284f4a.jpg  \n",
            "  inflating: ./butterfly-spider/butterfly-spider/train/images/ea34b60d20f3033ed1584d05fb1d4e9fe777ead218ac104497f5c97faeebb5bb_640_jpg.rf.57d060a9969c28e20fbcb58f2c5dd255.jpg  \n",
            "  inflating: ./butterfly-spider/butterfly-spider/train/images/ea34b60d20f3033ed1584d05fb1d4e9fe777ead218ac104497f5c97faeebb5bb_640_jpg.rf.bff9d243e6b7ae715851a2d959125d1a.jpg  \n",
            "  inflating: ./butterfly-spider/butterfly-spider/train/images/ea34b60e21f5043ed1584d05fb1d4e9fe777ead218ac104497f5c97faeebb5bb_640_jpg.rf.0deae8211fbe09683645d7e6218f6e6f.jpg  \n",
            "  inflating: ./butterfly-spider/butterfly-spider/train/images/ea34b60e21f5043ed1584d05fb1d4e9fe777ead218ac104497f5c97faeebb5bb_640_jpg.rf.e9b095a0c73bd7dce46d58b396f71655.jpg  \n",
            "  inflating: ./butterfly-spider/butterfly-spider/train/images/ea34b60e21f5043ed1584d05fb1d4e9fe777ead218ac104497f5c97faeebb5bb_640_jpg.rf.f35768b49bc58bf7ba2168a5ff8c3f7b.jpg  \n",
            "  inflating: ./butterfly-spider/butterfly-spider/train/images/ea34b70720f7083ed1584d05fb1d4e9fe777ead218ac104497f5c97faee9bdba_640_jpg.rf.0ffe44c03d2d9ea923163ef1768c8da2.jpg  \n",
            "  inflating: ./butterfly-spider/butterfly-spider/train/images/ea34b70720f7083ed1584d05fb1d4e9fe777ead218ac104497f5c97faee9bdba_640_jpg.rf.7a7d52f1f2be8372beedbcc719b330f2.jpg  \n",
            "  inflating: ./butterfly-spider/butterfly-spider/train/images/ea34b70720f7083ed1584d05fb1d4e9fe777ead218ac104497f5c97faee9bdba_640_jpg.rf.a295e8c12881b6df53c472da79faed4c.jpg  \n",
            "  inflating: ./butterfly-spider/butterfly-spider/train/images/ea34b70720f7083ed1584d05fb1d4e9fe777ead218ac104497f5c97faee9bdba_640_jpg.rf.a59d2e389402371eb9d02b18dea1be8f.jpg  \n",
            "  inflating: ./butterfly-spider/butterfly-spider/train/images/ea34b70720f7083ed1584d05fb1d4e9fe777ead218ac104497f5c97faee9bdba_640_jpg.rf.cc7e9d49b2d662ef7da784f6a898fd03.jpg  \n",
            "  inflating: ./butterfly-spider/butterfly-spider/train/images/ea34b70720f7083ed1584d05fb1d4e9fe777ead218ac104497f5c97faee9bdba_640_jpg.rf.e48cd11e7aa8363d7187db0cdec84f34.jpg  \n",
            "  inflating: ./butterfly-spider/butterfly-spider/train/images/ea34b70729fd063ed1584d05fb1d4e9fe777ead218ac104497f5c97faeebb5bb_640_jpg.rf.05b98234f5978a418acf97196d0fafab.jpg  \n",
            "  inflating: ./butterfly-spider/butterfly-spider/train/images/ea34b70729fd063ed1584d05fb1d4e9fe777ead218ac104497f5c97faeebb5bb_640_jpg.rf.0eea687c7efc020582b1d34660818da6.jpg  \n",
            "  inflating: ./butterfly-spider/butterfly-spider/train/images/ea34b70729fd063ed1584d05fb1d4e9fe777ead218ac104497f5c97faeebb5bb_640_jpg.rf.17595b498cf29b5e5c04c8888d9c29df.jpg  \n",
            "  inflating: ./butterfly-spider/butterfly-spider/train/images/ea34b70729fd063ed1584d05fb1d4e9fe777ead218ac104497f5c97faeebb5bb_640_jpg.rf.18d51968eb805a4ae02b2f03592e6674.jpg  \n",
            "  inflating: ./butterfly-spider/butterfly-spider/train/images/ea34b70729fd063ed1584d05fb1d4e9fe777ead218ac104497f5c97faeebb5bb_640_jpg.rf.96bb835c814e7f0a40b87f2d40c53fdd.jpg  \n",
            "  inflating: ./butterfly-spider/butterfly-spider/train/images/ea34b70729fd063ed1584d05fb1d4e9fe777ead218ac104497f5c97faeebb5bb_640_jpg.rf.e1714baff2f8957475fdad549bad6d0b.jpg  \n",
            "  inflating: ./butterfly-spider/butterfly-spider/train/images/ea34b70829f0093ed1584d05fb1d4e9fe777ead218ac104497f5c97ca5edb3bd_640_jpg.rf.84a43a172752603817552cf9e26263da.jpg  \n",
            "  inflating: ./butterfly-spider/butterfly-spider/train/images/ea34b70829f0093ed1584d05fb1d4e9fe777ead218ac104497f5c97ca5edb3bd_640_jpg.rf.94123e01b0d68b1d0c884b863a4365d2.jpg  \n",
            "  inflating: ./butterfly-spider/butterfly-spider/train/images/ea34b70829f0093ed1584d05fb1d4e9fe777ead218ac104497f5c97ca5edb3bd_640_jpg.rf.a137dc2bec65e820d16bf3a81d59e12c.jpg  \n",
            "  inflating: ./butterfly-spider/butterfly-spider/train/images/ea34b70829f1013ed1584d05fb1d4e9fe777ead218ac104497f5c97ca5edb3bd_640_jpg.rf.05fd2366f7642cc6bdb518779b836abd.jpg  \n",
            "  inflating: ./butterfly-spider/butterfly-spider/train/images/ea34b70829f1013ed1584d05fb1d4e9fe777ead218ac104497f5c97ca5edb3bd_640_jpg.rf.3df02986720d8b9d172657e1b08f9563.jpg  \n",
            "  inflating: ./butterfly-spider/butterfly-spider/train/images/ea34b70829f1013ed1584d05fb1d4e9fe777ead218ac104497f5c97ca5edb3bd_640_jpg.rf.4ed6f8eb3c5a0827fac3c7ac5f476942.jpg  \n",
            "  inflating: ./butterfly-spider/butterfly-spider/train/images/ea34b7082cf41c22d2524518b7444f92e37fe5d404b0144390f8c770a2e9b5_640_jpg.rf.23bb86b41b38c6c0333572370940bd2e.jpg  \n",
            "  inflating: ./butterfly-spider/butterfly-spider/train/images/ea34b7082cf41c22d2524518b7444f92e37fe5d404b0144390f8c770a2e9b5_640_jpg.rf.389f231589e99a0ab2838aa09df974c2.jpg  \n",
            "  inflating: ./butterfly-spider/butterfly-spider/train/images/ea34b7082cf41c22d2524518b7444f92e37fe5d404b0144390f8c770a2e9b5_640_jpg.rf.49d02e2df0ecb2bd1673e65abefece7d.jpg  \n",
            "  inflating: ./butterfly-spider/butterfly-spider/train/images/ea34b70a20fd083ed1584d05fb1d4e9fe777ead218ac104497f5c97faee8b1b8_640_jpg.rf.b6276c4a63c14cad13c74611af8bfde8.jpg  \n",
            "  inflating: ./butterfly-spider/butterfly-spider/train/images/ea34b70a20fd083ed1584d05fb1d4e9fe777ead218ac104497f5c97faee8b1b8_640_jpg.rf.d4cd6792821c140296bfb26cdfd81a69.jpg  \n",
            "  inflating: ./butterfly-spider/butterfly-spider/train/images/ea34b70a20fd083ed1584d05fb1d4e9fe777ead218ac104497f5c97faee8b1b8_640_jpg.rf.ef608f61e72fd976162a45e2a5c8d691.jpg  \n",
            "  inflating: ./butterfly-spider/butterfly-spider/train/images/ea34b70e2efc053ed1584d05fb1d4e9fe777ead218ac104497f5c97faeebb5bb_640_jpg.rf.114835673f36ad7ced70c609fb64f9b7.jpg  \n",
            "  inflating: ./butterfly-spider/butterfly-spider/train/images/ea34b70e2efc053ed1584d05fb1d4e9fe777ead218ac104497f5c97faeebb5bb_640_jpg.rf.bfd5a5f7649f6a2deb9e7c2f12c1180e.jpg  \n",
            "  inflating: ./butterfly-spider/butterfly-spider/train/images/ea34b70e2efc053ed1584d05fb1d4e9fe777ead218ac104497f5c97faeebb5bb_640_jpg.rf.f2ce491a4b3c1771049668e7df1137de.jpg  \n",
            "  inflating: ./butterfly-spider/butterfly-spider/train/images/ea34b70f2cf3003ed1584d05fb1d4e9fe777ead218ac104497f5c97ca5edb3bd_640_jpg.rf.a216cdd7c832e0ea434323b2a35bb3de.jpg  \n",
            "  inflating: ./butterfly-spider/butterfly-spider/train/images/ea34b70f2cf3003ed1584d05fb1d4e9fe777ead218ac104497f5c97ca5edb3bd_640_jpg.rf.d0d15054a7651e583167480aa0811c38.jpg  \n",
            "  inflating: ./butterfly-spider/butterfly-spider/train/images/ea34b70f2cf3003ed1584d05fb1d4e9fe777ead218ac104497f5c97ca5edb3bd_640_jpg.rf.f060539d697996a1a291fa0b1432acb3.jpg  \n",
            "  inflating: ./butterfly-spider/butterfly-spider/train/images/ea34b8062ff2073ed1584d05fb1d4e9fe777ead218ac104497f5c97faee8b1b8_640_jpg.rf.348484775b9047fbc325fffd04022a5d.jpg  \n",
            "  inflating: ./butterfly-spider/butterfly-spider/train/images/ea34b8062ff2073ed1584d05fb1d4e9fe777ead218ac104497f5c97faee8b1b8_640_jpg.rf.4f4d44212b0624c076fe918db3716b11.jpg  \n",
            "  inflating: ./butterfly-spider/butterfly-spider/train/images/ea34b8062ff2073ed1584d05fb1d4e9fe777ead218ac104497f5c97faee8b1b8_640_jpg.rf.86b3bc4a1edaf20c4219f6158adc8100.jpg  \n",
            "  inflating: ./butterfly-spider/butterfly-spider/train/images/ea34b80820f1003ed1584d05fb1d4e9fe777ead218ac104497f5c97faee8b1b8_640_jpg.rf.212e7de9323a302251bdb454f9875598.jpg  \n",
            "  inflating: ./butterfly-spider/butterfly-spider/train/images/ea34b80820f1003ed1584d05fb1d4e9fe777ead218ac104497f5c97faee8b1b8_640_jpg.rf.98f8234866fa12957b079e7ff8af87f4.jpg  \n",
            "  inflating: ./butterfly-spider/butterfly-spider/train/images/ea34b80820f1003ed1584d05fb1d4e9fe777ead218ac104497f5c97faee8b1b8_640_jpg.rf.e5be94c416ddb64c604ae58f06fce1de.jpg  \n",
            "  inflating: ./butterfly-spider/butterfly-spider/train/images/ea34b80820fd013ed1584d05fb1d4e9fe777ead218ac104497f5c97faee8b1b8_640_jpg.rf.8c17e142851b75598acc1b36932d5dfa.jpg  \n",
            "  inflating: ./butterfly-spider/butterfly-spider/train/images/ea34b80820fd013ed1584d05fb1d4e9fe777ead218ac104497f5c97faee8b1b8_640_jpg.rf.c6e79e94d5b9aa4d37ba2bd10ed1a9db.jpg  \n",
            "  inflating: ./butterfly-spider/butterfly-spider/train/images/ea34b80820fd013ed1584d05fb1d4e9fe777ead218ac104497f5c97faee8b1b8_640_jpg.rf.cb093797d50152debf463f875bd913b1.jpg  \n",
            "  inflating: ./butterfly-spider/butterfly-spider/train/images/ea34b8082ff1063ed1584d05fb1d4e9fe777ead218ac104497f5c97ca5ecb5b1_640_jpg.rf.3592133ffeb4074922499375c2c02e25.jpg  \n",
            "  inflating: ./butterfly-spider/butterfly-spider/train/images/ea34b8082ff1063ed1584d05fb1d4e9fe777ead218ac104497f5c97ca5ecb5b1_640_jpg.rf.4364abf433c7772d34ad33e256dec2b6.jpg  \n",
            "  inflating: ./butterfly-spider/butterfly-spider/train/images/ea34b8082ff1063ed1584d05fb1d4e9fe777ead218ac104497f5c97ca5ecb5b1_640_jpg.rf.c54aa024a2219699cb4491bfc6c02f7c.jpg  \n",
            "  inflating: ./butterfly-spider/butterfly-spider/train/images/ea34b80920f1063ed1584d05fb1d4e9fe777ead218ac104497f5c97faeebb5bb_640_jpg.rf.36512c20b66bb3f6d2676fc5ea8d06aa.jpg  \n",
            "  inflating: ./butterfly-spider/butterfly-spider/train/images/ea34b80920f1063ed1584d05fb1d4e9fe777ead218ac104497f5c97faeebb5bb_640_jpg.rf.4841e42e937536433ba2012e21c5fa81.jpg  \n",
            "  inflating: ./butterfly-spider/butterfly-spider/train/images/ea34b80920f1063ed1584d05fb1d4e9fe777ead218ac104497f5c97faeebb5bb_640_jpg.rf.4b178df8f059cab5deea0815d3a8b3f0.jpg  \n",
            "  inflating: ./butterfly-spider/butterfly-spider/train/images/ea34b80920f1063ed1584d05fb1d4e9fe777ead218ac104497f5c97faeebb5bb_640_jpg.rf.b91a22f2397c81061f4a2088ae959082.jpg  \n",
            "  inflating: ./butterfly-spider/butterfly-spider/train/images/ea34b80920f1063ed1584d05fb1d4e9fe777ead218ac104497f5c97faeebb5bb_640_jpg.rf.c981c32f1818c834749be0fb67a4de12.jpg  \n",
            "  inflating: ./butterfly-spider/butterfly-spider/train/images/ea34b80920f1063ed1584d05fb1d4e9fe777ead218ac104497f5c97faeebb5bb_640_jpg.rf.f1cb31e54865628b247e45ee99852f04.jpg  \n",
            "  inflating: ./butterfly-spider/butterfly-spider/train/images/ea34b80920f7093ed1584d05fb1d4e9fe777ead218ac104497f5c97faee8b1b8_640_jpg.rf.004d60c40809970efcef514f7746d113.jpg  \n",
            "  inflating: ./butterfly-spider/butterfly-spider/train/images/ea34b80920f7093ed1584d05fb1d4e9fe777ead218ac104497f5c97faee8b1b8_640_jpg.rf.8c4e0b1a863b021685b85e78cbb2ecf8.jpg  \n",
            "  inflating: ./butterfly-spider/butterfly-spider/train/images/ea34b80920f7093ed1584d05fb1d4e9fe777ead218ac104497f5c97faee8b1b8_640_jpg.rf.8ef55d63ab9bd686d443b131da26a10f.jpg  \n",
            "  inflating: ./butterfly-spider/butterfly-spider/train/images/ea34b80b2cfc093ed1584d05fb1d4e9fe777ead218ac104497f5c97faee8b1b8_640_jpg.rf.02703eecdaf378d77397a0eb61fdeb4b.jpg  \n",
            "  inflating: ./butterfly-spider/butterfly-spider/train/images/ea34b80b2cfc093ed1584d05fb1d4e9fe777ead218ac104497f5c97faee8b1b8_640_jpg.rf.1e3fc7d42537dfa10361e165307abf2d.jpg  \n",
            "  inflating: ./butterfly-spider/butterfly-spider/train/images/ea34b80b2cfc093ed1584d05fb1d4e9fe777ead218ac104497f5c97faee8b1b8_640_jpg.rf.728a5febf31a118a4bbbac2a0829688c.jpg  \n",
            "  inflating: ./butterfly-spider/butterfly-spider/train/images/ea34b80b2cfc093ed1584d05fb1d4e9fe777ead218ac104497f5c97faee8b1b8_640_jpg.rf.7407822301bcf2ce9bc4e84e84ac4677.jpg  \n",
            "  inflating: ./butterfly-spider/butterfly-spider/train/images/ea34b80b2cfc093ed1584d05fb1d4e9fe777ead218ac104497f5c97faee8b1b8_640_jpg.rf.8b676e2daa0a72f261918deac2d9a919.jpg  \n",
            "  inflating: ./butterfly-spider/butterfly-spider/train/images/ea34b80b2cfc093ed1584d05fb1d4e9fe777ead218ac104497f5c97faee8b1b8_640_jpg.rf.e7cc6210a0c008c8b3ba6cfb63841b65.jpg  \n",
            "  inflating: ./butterfly-spider/butterfly-spider/train/images/ea34b80c2cf2013ed1584d05fb1d4e9fe777ead218ac104497f5c97ca5edb3bd_640_jpg.rf.4ea34350d8e2f9d65ff5574ae65048b4.jpg  \n",
            "  inflating: ./butterfly-spider/butterfly-spider/train/images/ea34b80c2cf2013ed1584d05fb1d4e9fe777ead218ac104497f5c97ca5edb3bd_640_jpg.rf.9d32abc16157aaf465e8ee7936bf8a56.jpg  \n",
            "  inflating: ./butterfly-spider/butterfly-spider/train/images/ea34b80c2cf2013ed1584d05fb1d4e9fe777ead218ac104497f5c97ca5edb3bd_640_jpg.rf.dc56f54aff92c731b6f8cc8865c96c0d.jpg  \n",
            "  inflating: ./butterfly-spider/butterfly-spider/train/images/ea34b90629f3043ed1584d05fb1d4e9fe777ead218ac104497f5c97faeebb5bb_640_jpg.rf.28b46739dab0794f15a3d1001d83fe89.jpg  \n",
            "  inflating: ./butterfly-spider/butterfly-spider/train/images/ea34b90629f3043ed1584d05fb1d4e9fe777ead218ac104497f5c97faeebb5bb_640_jpg.rf.3faad2203e6a4d08b246fa8f1815c343.jpg  \n",
            "  inflating: ./butterfly-spider/butterfly-spider/train/images/ea34b90629f3043ed1584d05fb1d4e9fe777ead218ac104497f5c97faeebb5bb_640_jpg.rf.f64296f15a270a5e2e60902a42650a6e.jpg  \n",
            "  inflating: ./butterfly-spider/butterfly-spider/train/images/ea34b9092bf6063ed1584d05fb1d4e9fe777ead218ac104497f5c97faeebb5bb_640_jpg.rf.3b22ce23ae7a6314ec8f18d9db8b8c8b.jpg  \n",
            "  inflating: ./butterfly-spider/butterfly-spider/train/images/ea34b9092bf6063ed1584d05fb1d4e9fe777ead218ac104497f5c97faeebb5bb_640_jpg.rf.573d117e89ee23ee2977747f30afeede.jpg  \n",
            "  inflating: ./butterfly-spider/butterfly-spider/train/images/ea34b9092bf6063ed1584d05fb1d4e9fe777ead218ac104497f5c97faeebb5bb_640_jpg.rf.be6d2732dbc5eb32d0134ebdc5fe62c5.jpg  \n",
            "  inflating: ./butterfly-spider/butterfly-spider/train/images/ea34b90b28fd093ed1584d05fb1d4e9fe777ead218ac104497f5c97faee8b1b8_640_jpg.rf.56870613f1cd01b80e547b4fe487a69f.jpg  \n",
            "  inflating: ./butterfly-spider/butterfly-spider/train/images/ea34b90b28fd093ed1584d05fb1d4e9fe777ead218ac104497f5c97faee8b1b8_640_jpg.rf.906c806ff131e07465bae078f7eaaf41.jpg  \n",
            "  inflating: ./butterfly-spider/butterfly-spider/train/images/ea34b90b28fd093ed1584d05fb1d4e9fe777ead218ac104497f5c97faee8b1b8_640_jpg.rf.cbf8a356e2623ff98d5365889ff39fb7.jpg  \n",
            "  inflating: ./butterfly-spider/butterfly-spider/train/images/ea34b90b29f7053ed1584d05fb1d4e9fe777ead218ac104497f5c97faee8b1b8_640_jpg.rf.20a26952b46b4a4d4c2443965b961471.jpg  \n",
            "  inflating: ./butterfly-spider/butterfly-spider/train/images/ea34b90b29f7053ed1584d05fb1d4e9fe777ead218ac104497f5c97faee8b1b8_640_jpg.rf.5c09607ef3603b2e0d3c748b7089aa37.jpg  \n",
            "  inflating: ./butterfly-spider/butterfly-spider/train/images/ea34b90b29f7053ed1584d05fb1d4e9fe777ead218ac104497f5c97faee8b1b8_640_jpg.rf.760bdbc08590d744505d079e7c9b8fc5.jpg  \n",
            "  inflating: ./butterfly-spider/butterfly-spider/train/images/ea34b90b29fd073ed1584d05fb1d4e9fe777ead218ac104497f5c97faeebb5bb_640_jpg.rf.346c7ef5289976322febde4b1661cb6d.jpg  \n",
            "  inflating: ./butterfly-spider/butterfly-spider/train/images/ea34b90b29fd073ed1584d05fb1d4e9fe777ead218ac104497f5c97faeebb5bb_640_jpg.rf.95315e3b10cd7f78ed724e05f2080ff9.jpg  \n",
            "  inflating: ./butterfly-spider/butterfly-spider/train/images/ea34b90b29fd073ed1584d05fb1d4e9fe777ead218ac104497f5c97faeebb5bb_640_jpg.rf.ecc880c09b7ffbc030acd8d1f03e64b7.jpg  \n",
            "  inflating: ./butterfly-spider/butterfly-spider/train/images/ea34b90b2bf3033ed1584d05fb1d4e9fe777ead218ac104497f5c97faee8b1b8_640_jpg.rf.439f434730b6721cbca4eb49baa52393.jpg  \n",
            "  inflating: ./butterfly-spider/butterfly-spider/train/images/ea34b90b2bf3033ed1584d05fb1d4e9fe777ead218ac104497f5c97faee8b1b8_640_jpg.rf.9c0a97ef67d0aa36b06d9f5f775c681f.jpg  \n",
            "  inflating: ./butterfly-spider/butterfly-spider/train/images/ea34b90b2bf3033ed1584d05fb1d4e9fe777ead218ac104497f5c97faee8b1b8_640_jpg.rf.bc2b922566b25b97f4ee5a38c0835a7f.jpg  \n",
            "  inflating: ./butterfly-spider/butterfly-spider/train/images/ea34b90b2bf7063ed1584d05fb1d4e9fe777ead218ac104497f5c97faee9bdba_640_jpg.rf.68ee58cdd775b802465e72cf28d115af.jpg  \n",
            "  inflating: ./butterfly-spider/butterfly-spider/train/images/ea34b90b2bf7063ed1584d05fb1d4e9fe777ead218ac104497f5c97faee9bdba_640_jpg.rf.de10e9c214c12886c8a4692a8519ca93.jpg  \n",
            "  inflating: ./butterfly-spider/butterfly-spider/train/images/ea34b90b2bf7063ed1584d05fb1d4e9fe777ead218ac104497f5c97faee9bdba_640_jpg.rf.ec0c26158cc5c28dcbaf1b8a63d465e4.jpg  \n",
            "  inflating: ./butterfly-spider/butterfly-spider/train/images/ea34b90e20f1063ed1584d05fb1d4e9fe777ead218ac104497f5c97faeebb5bb_640_jpg.rf.964c566fd2da23be592c6fbd47025ec6.jpg  \n",
            "  inflating: ./butterfly-spider/butterfly-spider/train/images/ea34b90e20f1063ed1584d05fb1d4e9fe777ead218ac104497f5c97faeebb5bb_640_jpg.rf.99101c65056a0154873c96a442ffdd0f.jpg  \n",
            "  inflating: ./butterfly-spider/butterfly-spider/train/images/ea34b90e20f1063ed1584d05fb1d4e9fe777ead218ac104497f5c97faeebb5bb_640_jpg.rf.b8e6e0f0f85aee5d39b2d14901779820.jpg  \n",
            "  inflating: ./butterfly-spider/butterfly-spider/train/images/ea34b90e20f7003ed1584d05fb1d4e9fe777ead218ac104497f5c97faee9bdba_640_jpg.rf.8335a4f3b1905e60b3df422acb206faf.jpg  \n",
            "  inflating: ./butterfly-spider/butterfly-spider/train/images/ea34b90e20f7003ed1584d05fb1d4e9fe777ead218ac104497f5c97faee9bdba_640_jpg.rf.d8f38ecdb34240ca3938170adcd28c04.jpg  \n",
            "  inflating: ./butterfly-spider/butterfly-spider/train/images/ea34b90e20f7003ed1584d05fb1d4e9fe777ead218ac104497f5c97faee9bdba_640_jpg.rf.fe955b62ba5d71d2b7471d8aad1ea26d.jpg  \n",
            "  inflating: ./butterfly-spider/butterfly-spider/train/images/ea34b90e2ef0063ed1584d05fb1d4e9fe777ead218ac104497f5c97ca5edb3bd_640_jpg.rf.072807b6a794001e262f7ae72286f851.jpg  \n",
            "  inflating: ./butterfly-spider/butterfly-spider/train/images/ea34b90e2ef0063ed1584d05fb1d4e9fe777ead218ac104497f5c97ca5edb3bd_640_jpg.rf.dede9f57b773f0d88874f444bb960f57.jpg  \n",
            "  inflating: ./butterfly-spider/butterfly-spider/train/images/ea34b90e2ef0063ed1584d05fb1d4e9fe777ead218ac104497f5c97ca5edb3bd_640_jpg.rf.f9f2aa0c6bdc681cb15fa7d7a57f2966.jpg  \n",
            "  inflating: ./butterfly-spider/butterfly-spider/train/images/ea34b90e2ff3003ed1584d05fb1d4e9fe777ead218ac104497f5c97faee9bdba_640_jpg.rf.44ca5cf7570a7cfeeb922ea93a08ef9b.jpg  \n",
            "  inflating: ./butterfly-spider/butterfly-spider/train/images/ea34b90e2ff3003ed1584d05fb1d4e9fe777ead218ac104497f5c97faee9bdba_640_jpg.rf.5604ed0bbfb462670bb6328b0ba3fc05.jpg  \n",
            "  inflating: ./butterfly-spider/butterfly-spider/train/images/ea34b90e2ff3003ed1584d05fb1d4e9fe777ead218ac104497f5c97faee9bdba_640_jpg.rf.56c32501175a18a3aea06d82c8f3e575.jpg  \n",
            "  inflating: ./butterfly-spider/butterfly-spider/train/images/ea34b90e2ff3003ed1584d05fb1d4e9fe777ead218ac104497f5c97faee9bdba_640_jpg.rf.bff3efe2690b7fabb98dfb05e0d94077.jpg  \n",
            "  inflating: ./butterfly-spider/butterfly-spider/train/images/ea34b90e2ff3003ed1584d05fb1d4e9fe777ead218ac104497f5c97faee9bdba_640_jpg.rf.dfcd3f0f7e7756255164dfa9c40eadcd.jpg  \n",
            "  inflating: ./butterfly-spider/butterfly-spider/train/images/ea34b90e2ff3003ed1584d05fb1d4e9fe777ead218ac104497f5c97faee9bdba_640_jpg.rf.efa59b8a8247067174d1f7a7f9126064.jpg  \n",
            "  inflating: ./butterfly-spider/butterfly-spider/train/images/ea35b00a29f7023ed1584d05fb1d4e9fe777ead218ac104497f5c97ca5ecb5b1_640_jpg.rf.04617f5a87df4fd800ade245c81ca373.jpg  \n",
            "  inflating: ./butterfly-spider/butterfly-spider/train/images/ea35b00a29f7023ed1584d05fb1d4e9fe777ead218ac104497f5c97ca5ecb5b1_640_jpg.rf.9f299c8fbceeadc2df813a532a6d49b6.jpg  \n",
            "  inflating: ./butterfly-spider/butterfly-spider/train/images/ea35b00a29f7023ed1584d05fb1d4e9fe777ead218ac104497f5c97ca5ecb5b1_640_jpg.rf.ce23b461c9921ca73c6ca0706c38f62d.jpg  \n",
            "  inflating: ./butterfly-spider/butterfly-spider/train/images/ea35b00d2cf7043ed1584d05fb1d4e9fe777ead218ac104497f5c97ca5edb3bd_640_jpg.rf.1648be2fdf19c50ae5b2aa228843779a.jpg  \n",
            "  inflating: ./butterfly-spider/butterfly-spider/train/images/ea35b00d2cf7043ed1584d05fb1d4e9fe777ead218ac104497f5c97ca5edb3bd_640_jpg.rf.4dac12d6db473f3a4511dc0a99076301.jpg  \n",
            "  inflating: ./butterfly-spider/butterfly-spider/train/images/ea35b00d2cf7043ed1584d05fb1d4e9fe777ead218ac104497f5c97ca5edb3bd_640_jpg.rf.818b60a8067e98f771e73902c3fcf36a.jpg  \n",
            "  inflating: ./butterfly-spider/butterfly-spider/train/images/ea35b10b2cf01c22d2524518b7444f92e37fe5d404b0144390f8c47ba7ebb0_640_jpg.rf.172f822ce517aa799123fc62d81fc898.jpg  \n",
            "  inflating: ./butterfly-spider/butterfly-spider/train/images/ea35b10b2cf01c22d2524518b7444f92e37fe5d404b0144390f8c47ba7ebb0_640_jpg.rf.2f71409e5757a62022f61a1ca1498f2a.jpg  \n",
            "  inflating: ./butterfly-spider/butterfly-spider/train/images/ea35b10b2cf01c22d2524518b7444f92e37fe5d404b0144390f8c47ba7ebb0_640_jpg.rf.bd08bdffcb60c9701222ba8c8dd33d0a.jpg  \n",
            "  inflating: ./butterfly-spider/butterfly-spider/train/images/ea35b10b2df61c22d2524518b7444f92e37fe5d404b0144390f8c47ba6ebb4_640_jpg.rf.0edb86833f58edd97f20e3c8af135672.jpg  \n",
            "  inflating: ./butterfly-spider/butterfly-spider/train/images/ea35b10b2df61c22d2524518b7444f92e37fe5d404b0144390f8c47ba6ebb4_640_jpg.rf.767ce510f47a5ea15b101dfc0e145955.jpg  \n",
            "  inflating: ./butterfly-spider/butterfly-spider/train/images/ea35b10b2df61c22d2524518b7444f92e37fe5d404b0144390f8c47ba6ebb4_640_jpg.rf.f1dcbefb97ad4c3c9872ceb75b4fa1b6.jpg  \n",
            "  inflating: ./butterfly-spider/butterfly-spider/train/images/ea35b2062bf5033ed1584d05fb1d4e9fe777ead218ac104497f5c97faeebb5bb_640_jpg.rf.269fb370d0d43daf7206094ae55f8b77.jpg  \n",
            "  inflating: ./butterfly-spider/butterfly-spider/train/images/ea35b2062bf5033ed1584d05fb1d4e9fe777ead218ac104497f5c97faeebb5bb_640_jpg.rf.2e7195e59316fc1b2956bc82a51bdde4.jpg  \n",
            "  inflating: ./butterfly-spider/butterfly-spider/train/images/ea35b2062bf5033ed1584d05fb1d4e9fe777ead218ac104497f5c97faeebb5bb_640_jpg.rf.30d6967d091f0327b57768cd2f71a65c.jpg  \n",
            "  inflating: ./butterfly-spider/butterfly-spider/train/images/ea35b2062bf5033ed1584d05fb1d4e9fe777ead218ac104497f5c97faeebb5bb_640_jpg.rf.892cf3d9eaeea218b4239c97b435c3c6.jpg  \n",
            "  inflating: ./butterfly-spider/butterfly-spider/train/images/ea35b2062bf5033ed1584d05fb1d4e9fe777ead218ac104497f5c97faeebb5bb_640_jpg.rf.a3f9335b782a464ab5e1d106571df7eb.jpg  \n",
            "  inflating: ./butterfly-spider/butterfly-spider/train/images/ea35b2062bf5033ed1584d05fb1d4e9fe777ead218ac104497f5c97faeebb5bb_640_jpg.rf.a81b98bbcf077e39be8df9362af4adef.jpg  \n",
            "  inflating: ./butterfly-spider/butterfly-spider/train/images/ea35b20929f4023ed1584d05fb1d4e9fe777ead218ac104497f5c97ca5ecb5b1_640_jpg.rf.2dce022cfd80d2c58ce86b5244245a41.jpg  \n",
            "  inflating: ./butterfly-spider/butterfly-spider/train/images/ea35b20929f4023ed1584d05fb1d4e9fe777ead218ac104497f5c97ca5ecb5b1_640_jpg.rf.32b8a44623890933ed3e49ccb4e2bce5.jpg  \n",
            "  inflating: ./butterfly-spider/butterfly-spider/train/images/ea35b20929f4023ed1584d05fb1d4e9fe777ead218ac104497f5c97ca5ecb5b1_640_jpg.rf.7b04e4f37c4ff26fd0f589d4b8226aec.jpg  \n",
            "  inflating: ./butterfly-spider/butterfly-spider/train/images/ea35b30729f2073ed1584d05fb1d4e9fe777ead218ac104497f5c97faeebb5bb_640_jpg.rf.1cd5a3a21ea49f5522cc21afc816c1dd.jpg  \n",
            "  inflating: ./butterfly-spider/butterfly-spider/train/images/ea35b30729f2073ed1584d05fb1d4e9fe777ead218ac104497f5c97faeebb5bb_640_jpg.rf.24ea212b565f88a5dfd0ab17e3ea939d.jpg  \n",
            "  inflating: ./butterfly-spider/butterfly-spider/train/images/ea35b30729f2073ed1584d05fb1d4e9fe777ead218ac104497f5c97faeebb5bb_640_jpg.rf.5a625824ad0062ab541f41a854876627.jpg  \n",
            "  inflating: ./butterfly-spider/butterfly-spider/train/images/ea35b30729f2073ed1584d05fb1d4e9fe777ead218ac104497f5c97faeebb5bb_640_jpg.rf.7c76649017679c79e73a6499d48b7d70.jpg  \n",
            "  inflating: ./butterfly-spider/butterfly-spider/train/images/ea35b30729f2073ed1584d05fb1d4e9fe777ead218ac104497f5c97faeebb5bb_640_jpg.rf.da5397177f25e94acb2a40dcfb820fe2.jpg  \n",
            "  inflating: ./butterfly-spider/butterfly-spider/train/images/ea35b30729f2073ed1584d05fb1d4e9fe777ead218ac104497f5c97faeebb5bb_640_jpg.rf.e298a120cc89edf74761d5b0bbf86389.jpg  \n",
            "  inflating: ./butterfly-spider/butterfly-spider/train/images/ea35b4072df0083ed1584d05fb1d4e9fe777ead218ac104497f5c97ca5edb3bd_640_jpg.rf.396110ce023d2d8a8707d2879727c57d.jpg  \n",
            "  inflating: ./butterfly-spider/butterfly-spider/train/images/ea35b4072df0083ed1584d05fb1d4e9fe777ead218ac104497f5c97ca5edb3bd_640_jpg.rf.ee5bdb8f82c18df007a6950343e681a8.jpg  \n",
            "  inflating: ./butterfly-spider/butterfly-spider/train/images/ea35b4072df0083ed1584d05fb1d4e9fe777ead218ac104497f5c97ca5edb3bd_640_jpg.rf.f244a51f19e79c764a5b3447a0073f42.jpg  \n",
            "  inflating: ./butterfly-spider/butterfly-spider/train/images/ea35b40a2af4083ed1584d05fb1d4e9fe777ead218ac104497f5c97ca5ecb5b1_640_jpg.rf.1e19c89cba1b43d36e81e7315c257f9a.jpg  \n",
            "  inflating: ./butterfly-spider/butterfly-spider/train/images/ea35b40a2af4083ed1584d05fb1d4e9fe777ead218ac104497f5c97ca5ecb5b1_640_jpg.rf.2e89ca486963fcaf1ce21d58909e8bb7.jpg  \n",
            "  inflating: ./butterfly-spider/butterfly-spider/train/images/ea35b40a2af4083ed1584d05fb1d4e9fe777ead218ac104497f5c97ca5ecb5b1_640_jpg.rf.f8a275dcc42a5c173e7b4f536ae66073.jpg  \n",
            "  inflating: ./butterfly-spider/butterfly-spider/train/images/ea35b40a2af5073ed1584d05fb1d4e9fe777ead218ac104497f5c97ca5edb3bd_640_jpg.rf.60304a8ed2fb7ec6460b90066fe7051c.jpg  \n",
            "  inflating: ./butterfly-spider/butterfly-spider/train/images/ea35b40a2af5073ed1584d05fb1d4e9fe777ead218ac104497f5c97ca5edb3bd_640_jpg.rf.6ee77fe475e1ede110eaba36f1fe5604.jpg  \n",
            "  inflating: ./butterfly-spider/butterfly-spider/train/images/ea35b40a2af5073ed1584d05fb1d4e9fe777ead218ac104497f5c97ca5edb3bd_640_jpg.rf.a2ee727bee14aabd11032f79a57563e2.jpg  \n",
            "  inflating: ./butterfly-spider/butterfly-spider/train/images/ea35b40a2af6063ed1584d05fb1d4e9fe777ead218ac104497f5c97ca5ecb5b1_640_jpg.rf.249274a798102f44ae4318b0188187ec.jpg  \n",
            "  inflating: ./butterfly-spider/butterfly-spider/train/images/ea35b40a2af6063ed1584d05fb1d4e9fe777ead218ac104497f5c97ca5ecb5b1_640_jpg.rf.303c6147e1ea34070d9eda115053a216.jpg  \n",
            "  inflating: ./butterfly-spider/butterfly-spider/train/images/ea35b40a2af6063ed1584d05fb1d4e9fe777ead218ac104497f5c97ca5ecb5b1_640_jpg.rf.36e3165814d6df39079a7cac1229bdf7.jpg  \n",
            "  inflating: ./butterfly-spider/butterfly-spider/train/images/ea35b40b2ff7073ed1584d05fb1d4e9fe777ead218ac104497f5c97faee9bdba_640_jpg.rf.90ea9d33b61b8e4f49d45c6160832ccb.jpg  \n",
            "  inflating: ./butterfly-spider/butterfly-spider/train/images/ea35b40b2ff7073ed1584d05fb1d4e9fe777ead218ac104497f5c97faee9bdba_640_jpg.rf.b470a7990e7e76a906fcfc95fe835eb9.jpg  \n",
            "  inflating: ./butterfly-spider/butterfly-spider/train/images/ea35b40b2ff7073ed1584d05fb1d4e9fe777ead218ac104497f5c97faee9bdba_640_jpg.rf.ed161101fbaf58fcf86103c6f926ea36.jpg  \n",
            "  inflating: ./butterfly-spider/butterfly-spider/train/images/ea35b40c2cf0013ed1584d05fb1d4e9fe777ead218ac104497f5c97ca5ecb5b1_640_jpg.rf.10531680186b0562df732673dcb915b3.jpg  \n",
            "  inflating: ./butterfly-spider/butterfly-spider/train/images/ea35b40c2cf0013ed1584d05fb1d4e9fe777ead218ac104497f5c97ca5ecb5b1_640_jpg.rf.8e5bac9133acab5536296242a55bf565.jpg  \n",
            "  inflating: ./butterfly-spider/butterfly-spider/train/images/ea35b40c2cf0013ed1584d05fb1d4e9fe777ead218ac104497f5c97ca5ecb5b1_640_jpg.rf.b2b3f339d53934c6c31baebfbb05ff56.jpg  \n",
            "  inflating: ./butterfly-spider/butterfly-spider/train/images/ea35b40c2df0043ed1584d05fb1d4e9fe777ead218ac104497f5c97faee8b1b8_640_jpg.rf.b6b3e947061610245a90b0135c3380e2.jpg  \n",
            "  inflating: ./butterfly-spider/butterfly-spider/train/images/ea35b40c2df0043ed1584d05fb1d4e9fe777ead218ac104497f5c97faee8b1b8_640_jpg.rf.e5b72d7da5d5b3073ee67b4176db4ee2.jpg  \n",
            "  inflating: ./butterfly-spider/butterfly-spider/train/images/ea35b40c2df0043ed1584d05fb1d4e9fe777ead218ac104497f5c97faee8b1b8_640_jpg.rf.ec58bec8ab37fa9747f6775a807a6a0a.jpg  \n",
            "  inflating: ./butterfly-spider/butterfly-spider/train/images/ea35b40e2df4033ed1584d05fb1d4e9fe777ead218ac104497f5c97ca5ecb5b1_640_jpg.rf.7c90603e28811beeb834569993f45549.jpg  \n",
            "  inflating: ./butterfly-spider/butterfly-spider/train/images/ea35b40e2df4033ed1584d05fb1d4e9fe777ead218ac104497f5c97ca5ecb5b1_640_jpg.rf.b824e59bff4e53e7a831efd3bd3e991d.jpg  \n",
            "  inflating: ./butterfly-spider/butterfly-spider/train/images/ea35b40e2df4033ed1584d05fb1d4e9fe777ead218ac104497f5c97ca5ecb5b1_640_jpg.rf.b995d51a001c5622d345396eda060d53.jpg  \n",
            "  inflating: ./butterfly-spider/butterfly-spider/train/images/ea35b5082afd083ed1584d05fb1d4e9fe777ead218ac104497f5c97ca5edb3bd_640_jpg.rf.2799b22f777c129cdc24155c237e0ee8.jpg  \n",
            "  inflating: ./butterfly-spider/butterfly-spider/train/images/ea35b5082afd083ed1584d05fb1d4e9fe777ead218ac104497f5c97ca5edb3bd_640_jpg.rf.5880ce68409e0447dceeb75f87c21d39.jpg  \n",
            "  inflating: ./butterfly-spider/butterfly-spider/train/images/ea35b5082afd083ed1584d05fb1d4e9fe777ead218ac104497f5c97ca5edb3bd_640_jpg.rf.caf2d5e3c46459b45652f940166d62db.jpg  \n",
            "  inflating: ./butterfly-spider/butterfly-spider/train/images/ea35b50b29f6003ed1584d05fb1d4e9fe777ead218ac104497f5c97faee9bdba_640_png.rf.37fffe431e49fcddab6479ced11ba986.jpg  \n",
            "  inflating: ./butterfly-spider/butterfly-spider/train/images/ea35b50b29f6003ed1584d05fb1d4e9fe777ead218ac104497f5c97faee9bdba_640_png.rf.bbcac02c176c7f7d2afde3798c12c4b8.jpg  \n",
            "  inflating: ./butterfly-spider/butterfly-spider/train/images/ea35b50b29f6003ed1584d05fb1d4e9fe777ead218ac104497f5c97faee9bdba_640_png.rf.fafd6b83f711583bc5a28c40f6ecfeae.jpg  \n",
            "  inflating: ./butterfly-spider/butterfly-spider/train/images/ea35b50c2ffd013ed1584d05fb1d4e9fe777ead218ac104497f5c97faeebb5bb_640_jpg.rf.16ca290fa4f7fbb8fe3c21cf09f4a01c.jpg  \n",
            "  inflating: ./butterfly-spider/butterfly-spider/train/images/ea35b50c2ffd013ed1584d05fb1d4e9fe777ead218ac104497f5c97faeebb5bb_640_jpg.rf.2fa9eaba9bdcaaadb29f3f26b3edcb2f.jpg  \n",
            "  inflating: ./butterfly-spider/butterfly-spider/train/images/ea35b50c2ffd013ed1584d05fb1d4e9fe777ead218ac104497f5c97faeebb5bb_640_jpg.rf.3d3a0ef9558fc205e8d705adb44d18fc.jpg  \n",
            "  inflating: ./butterfly-spider/butterfly-spider/train/images/ea35b50d2efd063ed1584d05fb1d4e9fe777ead218ac104497f5c97ca5ecb5b1_640_jpg.rf.1d83a361ef2c685a957d8c38988fb872.jpg  \n",
            "  inflating: ./butterfly-spider/butterfly-spider/train/images/ea35b50d2efd063ed1584d05fb1d4e9fe777ead218ac104497f5c97ca5ecb5b1_640_jpg.rf.1fe9a618b36d9507052efe7ea9e85616.jpg  \n",
            "  inflating: ./butterfly-spider/butterfly-spider/train/images/ea35b50d2efd063ed1584d05fb1d4e9fe777ead218ac104497f5c97ca5ecb5b1_640_jpg.rf.8973fe995f1551704257cec96e14f98e.jpg  \n",
            "  inflating: ./butterfly-spider/butterfly-spider/train/images/ea35b50e2bf6033ed1584d05fb1d4e9fe777ead218ac104497f5c97faee8b1b8_640_jpg.rf.56ecb89f5b6820290f970d70a243ccea.jpg  \n",
            "  inflating: ./butterfly-spider/butterfly-spider/train/images/ea35b50e2bf6033ed1584d05fb1d4e9fe777ead218ac104497f5c97faee8b1b8_640_jpg.rf.9991b6ced3b7fdaa0684446b19f92030.jpg  \n",
            "  inflating: ./butterfly-spider/butterfly-spider/train/images/ea35b50e2bf6033ed1584d05fb1d4e9fe777ead218ac104497f5c97faee8b1b8_640_jpg.rf.c2595eda0334c091573d9c76ba02830e.jpg  \n",
            "  inflating: ./butterfly-spider/butterfly-spider/train/images/ea35b6062df4023ed1584d05fb1d4e9fe777ead218ac104497f5c97ca5edb3bd_640_jpg.rf.6589fe04fd004c2341a13b212b856ca3.jpg  \n",
            "  inflating: ./butterfly-spider/butterfly-spider/train/images/ea35b6062df4023ed1584d05fb1d4e9fe777ead218ac104497f5c97ca5edb3bd_640_jpg.rf.7c61b34f47c414179a07839b50df371a.jpg  \n",
            "  inflating: ./butterfly-spider/butterfly-spider/train/images/ea35b6062df4023ed1584d05fb1d4e9fe777ead218ac104497f5c97ca5edb3bd_640_jpg.rf.9c8b451759a970e3e295899014574f58.jpg  \n",
            "  inflating: ./butterfly-spider/butterfly-spider/train/images/ea35b60b20f6053ed1584d05fb1d4e9fe777ead218ac104497f5c97ca5edb3bd_640_jpg.rf.8380ae628ef368e321edaa0d36d240b3.jpg  \n",
            "  inflating: ./butterfly-spider/butterfly-spider/train/images/ea35b60b20f6053ed1584d05fb1d4e9fe777ead218ac104497f5c97ca5edb3bd_640_jpg.rf.bab4b72d2677dcb6cc257a4a1e6f4118.jpg  \n",
            "  inflating: ./butterfly-spider/butterfly-spider/train/images/ea35b60b20f6053ed1584d05fb1d4e9fe777ead218ac104497f5c97ca5edb3bd_640_jpg.rf.f68a8a5f9490395b5408846223d21584.jpg  \n",
            "  inflating: ./butterfly-spider/butterfly-spider/train/images/ea35b60c21f4073ed1584d05fb1d4e9fe777ead218ac104497f5c97ca5ecb5b1_640_jpg.rf.9a74701c2b4b23fcd55fff31cca5ac02.jpg  \n",
            "  inflating: ./butterfly-spider/butterfly-spider/train/images/ea35b60c21f4073ed1584d05fb1d4e9fe777ead218ac104497f5c97ca5ecb5b1_640_jpg.rf.b7f9f000fa001b49c210e22876b87d7e.jpg  \n",
            "  inflating: ./butterfly-spider/butterfly-spider/train/images/ea35b60c21f4073ed1584d05fb1d4e9fe777ead218ac104497f5c97ca5ecb5b1_640_jpg.rf.f976e0d470e622a1f39a60f04f096e8b.jpg  \n",
            "  inflating: ./butterfly-spider/butterfly-spider/train/images/ea35b60d20f3003ed1584d05fb1d4e9fe777ead218ac104497f5c97ca5edb3bd_640_jpg.rf.7af51ba5e031acb1ae21ce250eb8b567.jpg  \n",
            "  inflating: ./butterfly-spider/butterfly-spider/train/images/ea35b60d20f3003ed1584d05fb1d4e9fe777ead218ac104497f5c97ca5edb3bd_640_jpg.rf.92742066542e88d27310ac3b53c717ad.jpg  \n",
            "  inflating: ./butterfly-spider/butterfly-spider/train/images/ea35b60d20f3003ed1584d05fb1d4e9fe777ead218ac104497f5c97ca5edb3bd_640_jpg.rf.9c3eb6309a4173b1561ea59bc99aea2c.jpg  \n",
            "  inflating: ./butterfly-spider/butterfly-spider/train/images/ea35b60d20f3013ed1584d05fb1d4e9fe777ead218ac104497f5c97ca5edb3bd_640_jpg.rf.26255756702663be6f612b3750317cff.jpg  \n",
            "  inflating: ./butterfly-spider/butterfly-spider/train/images/ea35b60d20f3013ed1584d05fb1d4e9fe777ead218ac104497f5c97ca5edb3bd_640_jpg.rf.84ca310a36a594c9411fe9e6fd6fafdd.jpg  \n",
            "  inflating: ./butterfly-spider/butterfly-spider/train/images/ea35b60d20f3013ed1584d05fb1d4e9fe777ead218ac104497f5c97ca5edb3bd_640_jpg.rf.88f9d2603a3a779a44624b7b08d35f81.jpg  \n",
            "  inflating: ./butterfly-spider/butterfly-spider/train/images/ea35b60d29f7093ed1584d05fb1d4e9fe777ead218ac104497f5c97ca5ecb5b1_640_jpg.rf.55fd0a6408ab6ca0ed4a8f620ce3ddd1.jpg  \n",
            "  inflating: ./butterfly-spider/butterfly-spider/train/images/ea35b60d29f7093ed1584d05fb1d4e9fe777ead218ac104497f5c97ca5ecb5b1_640_jpg.rf.57111388de8abddb10a8e32dd55aad77.jpg  \n",
            "  inflating: ./butterfly-spider/butterfly-spider/train/images/ea35b60d29f7093ed1584d05fb1d4e9fe777ead218ac104497f5c97ca5ecb5b1_640_jpg.rf.9602941eb532647a285b030449ac2020.jpg  \n",
            "  inflating: ./butterfly-spider/butterfly-spider/train/images/ea35b7072bf3003ed1584d05fb1d4e9fe777ead218ac104497f5c97ca5ecb5b1_640_jpg.rf.1e739b729a343d0cd8324f1050880204.jpg  \n",
            "  inflating: ./butterfly-spider/butterfly-spider/train/images/ea35b7072bf3003ed1584d05fb1d4e9fe777ead218ac104497f5c97ca5ecb5b1_640_jpg.rf.424307aeeafadd39d4575b850bc2ef29.jpg  \n",
            "  inflating: ./butterfly-spider/butterfly-spider/train/images/ea35b7072bf3003ed1584d05fb1d4e9fe777ead218ac104497f5c97ca5ecb5b1_640_jpg.rf.88d936cc79201ba00002d80af50fe2c2.jpg  \n",
            "  inflating: ./butterfly-spider/butterfly-spider/train/images/ea35b7072bf5043ed1584d05fb1d4e9fe777ead218ac104497f5c97ca5ecb5b1_640_jpg.rf.27fb31ace577580b8b5e481505b7d454.jpg  \n",
            "  inflating: ./butterfly-spider/butterfly-spider/train/images/ea35b7072bf5043ed1584d05fb1d4e9fe777ead218ac104497f5c97ca5ecb5b1_640_jpg.rf.a47882cd5fcf245c43ed842feb2e44cf.jpg  \n",
            "  inflating: ./butterfly-spider/butterfly-spider/train/images/ea35b7082bf3043ed1584d05fb1d4e9fe777ead218ac104497f5c97ca5edb3bd_640_jpg.rf.19358663c8baa1259e0e8d03ca54d1af.jpg  \n",
            "  inflating: ./butterfly-spider/butterfly-spider/train/images/ea35b7082bf3043ed1584d05fb1d4e9fe777ead218ac104497f5c97ca5edb3bd_640_jpg.rf.6d312c08bd39e282481d1a8de7e81240.jpg  \n",
            "  inflating: ./butterfly-spider/butterfly-spider/train/images/ea35b7082bf3043ed1584d05fb1d4e9fe777ead218ac104497f5c97ca5edb3bd_640_jpg.rf.d26f6e6b83459516fa1be90a77457f3a.jpg  \n",
            "  inflating: ./butterfly-spider/butterfly-spider/train/images/ea35b7082bfc013ed1584d05fb1d4e9fe777ead218ac104497f5c97ca5ecb5b1_640_jpg.rf.0f3a361175c6189fc53e179e5e026449.jpg  \n",
            "  inflating: ./butterfly-spider/butterfly-spider/train/images/ea35b7082bfc013ed1584d05fb1d4e9fe777ead218ac104497f5c97ca5ecb5b1_640_jpg.rf.13586cec3c481c16cbadda7117311b9a.jpg  \n",
            "  inflating: ./butterfly-spider/butterfly-spider/train/images/ea35b7082bfc013ed1584d05fb1d4e9fe777ead218ac104497f5c97ca5ecb5b1_640_jpg.rf.f74efe210a43d8d7031ceea4854aad87.jpg  \n",
            "  inflating: ./butterfly-spider/butterfly-spider/train/images/ea35b7082efd063ed1584d05fb1d4e9fe777ead218ac104497f5c97faeebb5bb_640_jpg.rf.691def4ce47045b9cd53a199949a1996.jpg  \n",
            "  inflating: ./butterfly-spider/butterfly-spider/train/images/ea35b7082efd063ed1584d05fb1d4e9fe777ead218ac104497f5c97faeebb5bb_640_jpg.rf.a5bd9e6071b2b3cc095fbb931c1a50cc.jpg  \n",
            "  inflating: ./butterfly-spider/butterfly-spider/train/images/ea35b7082efd063ed1584d05fb1d4e9fe777ead218ac104497f5c97faeebb5bb_640_jpg.rf.c20cf499529036d447c209773ed4c6a8.jpg  \n",
            "  inflating: ./butterfly-spider/butterfly-spider/train/images/ea35b70c2af2043ed1584d05fb1d4e9fe777ead218ac104497f5c97ca5ecb5b1_640_jpg.rf.64b0f7aed299745a8f0f998e8ce2614d.jpg  \n",
            "  inflating: ./butterfly-spider/butterfly-spider/train/images/ea35b70c2af2043ed1584d05fb1d4e9fe777ead218ac104497f5c97ca5ecb5b1_640_jpg.rf.7bc26eec3e1b250de6342452f88c33c3.jpg  \n",
            "  inflating: ./butterfly-spider/butterfly-spider/train/images/ea35b70c2af2043ed1584d05fb1d4e9fe777ead218ac104497f5c97ca5ecb5b1_640_jpg.rf.d0d6f87007423983bad5e0a467f03d1e.jpg  \n",
            "  inflating: ./butterfly-spider/butterfly-spider/train/images/ea35b70c2af6053ed1584d05fb1d4e9fe777ead218ac104497f5c97ca5ecb5b1_640_jpg.rf.1721f6e729fdb1c5f49305180280772a.jpg  \n",
            "  inflating: ./butterfly-spider/butterfly-spider/train/images/ea35b70c2af6053ed1584d05fb1d4e9fe777ead218ac104497f5c97ca5ecb5b1_640_jpg.rf.b4b7ca345b9a8b89b0440dc6de822c83.jpg  \n",
            "  inflating: ./butterfly-spider/butterfly-spider/train/images/ea35b70c2af6053ed1584d05fb1d4e9fe777ead218ac104497f5c97ca5ecb5b1_640_jpg.rf.e176cdeffdffde11f395873dfaecf589.jpg  \n",
            "  inflating: ./butterfly-spider/butterfly-spider/train/images/ea35b70c2cf1093ed1584d05fb1d4e9fe777ead218ac104497f5c97ca5edb3bd_640_jpg.rf.248d83e4d6f48a342372443521d9506d.jpg  \n",
            "  inflating: ./butterfly-spider/butterfly-spider/train/images/ea35b70c2cf1093ed1584d05fb1d4e9fe777ead218ac104497f5c97ca5edb3bd_640_jpg.rf.5861a037f40b9e180552232be1939932.jpg  \n",
            "  inflating: ./butterfly-spider/butterfly-spider/train/images/ea35b70c2cf1093ed1584d05fb1d4e9fe777ead218ac104497f5c97ca5edb3bd_640_jpg.rf.ee3855995d58f488879db5db8096d83b.jpg  \n",
            "  inflating: ./butterfly-spider/butterfly-spider/train/images/ea35b70f2bf3003ed1584d05fb1d4e9fe777ead218ac104497f5c97ca5ecb5b1_640_jpg.rf.5cc5e71b9b2f01538fceae60a4c5e222.jpg  \n",
            "  inflating: ./butterfly-spider/butterfly-spider/train/images/ea35b70f2bf3003ed1584d05fb1d4e9fe777ead218ac104497f5c97ca5ecb5b1_640_jpg.rf.e0916f4f6d28ef055d6a552894f58bed.jpg  \n",
            "  inflating: ./butterfly-spider/butterfly-spider/train/images/ea35b70f2bf3003ed1584d05fb1d4e9fe777ead218ac104497f5c97ca5ecb5b1_640_jpg.rf.f7929621dd782eb717f73d40488c0b8e.jpg  \n",
            "  inflating: ./butterfly-spider/butterfly-spider/train/images/ea35b80a2ef1043ed1584d05fb1d4e9fe777ead218ac104497f5c97faeebb5bb_640_jpg.rf.24d1c974c94519a5ab9db25a50b2e7b8.jpg  \n",
            "  inflating: ./butterfly-spider/butterfly-spider/train/images/ea35b80a2ef1043ed1584d05fb1d4e9fe777ead218ac104497f5c97faeebb5bb_640_jpg.rf.e6cc365b251f0cac8302273bb5816197.jpg  \n",
            "  inflating: ./butterfly-spider/butterfly-spider/train/images/ea35b80a2ef1043ed1584d05fb1d4e9fe777ead218ac104497f5c97faeebb5bb_640_jpg.rf.fc69de7c4f38db36fe5e48a947603f36.jpg  \n",
            "  inflating: ./butterfly-spider/butterfly-spider/train/images/ea36b0072ef6053ed1584d05fb1d4e9fe777ead218ac104497f5c97faee8b1b8_640_jpg.rf.78a475d4e87c384da70d1b1e2557d470.jpg  \n",
            "  inflating: ./butterfly-spider/butterfly-spider/train/images/ea36b0072ef6053ed1584d05fb1d4e9fe777ead218ac104497f5c97faee8b1b8_640_jpg.rf.c1aa58b984431051694b2f69f262e5a4.jpg  \n",
            "  inflating: ./butterfly-spider/butterfly-spider/train/images/ea36b0072ef6053ed1584d05fb1d4e9fe777ead218ac104497f5c97faee8b1b8_640_jpg.rf.dbd95f67f73b8941a9baa140b2f79b20.jpg  \n",
            "  inflating: ./butterfly-spider/butterfly-spider/train/images/ea36b00d29f4033ed1584d05fb1d4e9fe777ead218ac104497f5c97faee8b1b8_640_jpg.rf.3fafdebee58ee3c000c7128c21be30d5.jpg  \n",
            "  inflating: ./butterfly-spider/butterfly-spider/train/images/ea36b00d29f4033ed1584d05fb1d4e9fe777ead218ac104497f5c97faee8b1b8_640_jpg.rf.a1d14627ec3d22c26a0e3bcf4e1a4085.jpg  \n",
            "  inflating: ./butterfly-spider/butterfly-spider/train/images/ea36b00d29f4033ed1584d05fb1d4e9fe777ead218ac104497f5c97faee8b1b8_640_jpg.rf.c275f7d8b7e1c17bc5df1ff7899d6093.jpg  \n",
            "  inflating: ./butterfly-spider/butterfly-spider/train/images/ea36b00d2af2013ed1584d05fb1d4e9fe777ead218ac104497f5c97faee8b1b8_640_jpg.rf.d5e59bb0cefe44b991c8e39f1d731b22.jpg  \n",
            "  inflating: ./butterfly-spider/butterfly-spider/train/images/ea36b00d2af2013ed1584d05fb1d4e9fe777ead218ac104497f5c97faee8b1b8_640_jpg.rf.de42406996fd6c81e82eb876c1a0c2fd.jpg  \n",
            "  inflating: ./butterfly-spider/butterfly-spider/train/images/ea36b00d2af2013ed1584d05fb1d4e9fe777ead218ac104497f5c97faee8b1b8_640_jpg.rf.f372c0b6a80d019ec5667d14125c3b3e.jpg  \n",
            "  inflating: ./butterfly-spider/butterfly-spider/train/images/ea36b00d2bf4003ed1584d05fb1d4e9fe777ead218ac104497f5c97faee8b1b8_640_jpg.rf.05b668e25826408603c7f944575d19db.jpg  \n",
            "  inflating: ./butterfly-spider/butterfly-spider/train/images/ea36b00d2bf4003ed1584d05fb1d4e9fe777ead218ac104497f5c97faee8b1b8_640_jpg.rf.35e5fc1b25eb9b6f2cc96344603f4006.jpg  \n",
            "  inflating: ./butterfly-spider/butterfly-spider/train/images/ea36b00d2bf4003ed1584d05fb1d4e9fe777ead218ac104497f5c97faee8b1b8_640_jpg.rf.43a30abde99279eea7a81fc48cee9475.jpg  \n",
            "  inflating: ./butterfly-spider/butterfly-spider/train/images/ea36b00d2bf4003ed1584d05fb1d4e9fe777ead218ac104497f5c97faee8b1b8_640_jpg.rf.7de12d2fcee53602c4e1e276ea950f7e.jpg  \n",
            "  inflating: ./butterfly-spider/butterfly-spider/train/images/ea36b00d2bf4003ed1584d05fb1d4e9fe777ead218ac104497f5c97faee8b1b8_640_jpg.rf.838ee3c0f98b7bdf7b75558445e44e68.jpg  \n",
            "  inflating: ./butterfly-spider/butterfly-spider/train/images/ea36b00d2bf4003ed1584d05fb1d4e9fe777ead218ac104497f5c97faee8b1b8_640_jpg.rf.9ad8be9d575c500c62c631f888a6f9f5.jpg  \n",
            "  inflating: ./butterfly-spider/butterfly-spider/train/images/ea36b00d2bf5083ed1584d05fb1d4e9fe777ead218ac104497f5c97faeebb5bb_640_jpg.rf.1335aa728984f8940c72b93c10f04044.jpg  \n",
            "  inflating: ./butterfly-spider/butterfly-spider/train/images/ea36b00d2bf5083ed1584d05fb1d4e9fe777ead218ac104497f5c97faeebb5bb_640_jpg.rf.15fd259d03b2cea2c4198ab42c834d31.jpg  \n",
            "  inflating: ./butterfly-spider/butterfly-spider/train/images/ea36b00d2bf5083ed1584d05fb1d4e9fe777ead218ac104497f5c97faeebb5bb_640_jpg.rf.24dd8a3dcf7a98d65d4bb76e5bb7baf4.jpg  \n",
            "  inflating: ./butterfly-spider/butterfly-spider/train/images/ea36b00d2bf5083ed1584d05fb1d4e9fe777ead218ac104497f5c97faeebb5bb_640_jpg.rf.3db1e0a246f1d3fbb33d19baadde62c3.jpg  \n",
            "  inflating: ./butterfly-spider/butterfly-spider/train/images/ea36b00d2bf5083ed1584d05fb1d4e9fe777ead218ac104497f5c97faeebb5bb_640_jpg.rf.a2d1e9a120c8f3fce6dac6c237e48bab.jpg  \n",
            "  inflating: ./butterfly-spider/butterfly-spider/train/images/ea36b00d2bf5083ed1584d05fb1d4e9fe777ead218ac104497f5c97faeebb5bb_640_jpg.rf.fc4ddf0624be8395b16ca594fcf5a253.jpg  \n",
            "  inflating: ./butterfly-spider/butterfly-spider/train/images/ea36b00d2bf6023ed1584d05fb1d4e9fe777ead218ac104497f5c97faee8b1b8_640_jpg.rf.5f68175db6c90d2b5b1baaaace45b330.jpg  \n",
            "  inflating: ./butterfly-spider/butterfly-spider/train/images/ea36b00d2bf6023ed1584d05fb1d4e9fe777ead218ac104497f5c97faee8b1b8_640_jpg.rf.8912b87d5c2b5fd9ea20eb028daad489.jpg  \n",
            "  inflating: ./butterfly-spider/butterfly-spider/train/images/ea36b00d2bf6023ed1584d05fb1d4e9fe777ead218ac104497f5c97faee8b1b8_640_jpg.rf.f5325649c112930756c80992aeff5f0d.jpg  \n",
            "  inflating: ./butterfly-spider/butterfly-spider/train/images/ea36b00f2ff3003ed1584d05fb1d4e9fe777ead218ac104497f5c97faeebb5bb_640_jpg.rf.21bf10a999b4620b5bae39e23faf31ae.jpg  \n",
            "  inflating: ./butterfly-spider/butterfly-spider/train/images/ea36b00f2ff3003ed1584d05fb1d4e9fe777ead218ac104497f5c97faeebb5bb_640_jpg.rf.ceda46834df66257153ef43e9b241701.jpg  \n",
            "  inflating: ./butterfly-spider/butterfly-spider/train/images/ea36b00f2ff3003ed1584d05fb1d4e9fe777ead218ac104497f5c97faeebb5bb_640_jpg.rf.e9cffc78af95e5a833e94f75d46770a8.jpg  \n",
            "  inflating: ./butterfly-spider/butterfly-spider/train/images/ea36b10721f4063ed1584d05fb1d4e9fe777ead218ac104497f5c97ca5edb3bd_640_jpg.rf.14ccf4ea47f3c6a7a7eb30decc363317.jpg  \n",
            "  inflating: ./butterfly-spider/butterfly-spider/train/images/ea36b10721f4063ed1584d05fb1d4e9fe777ead218ac104497f5c97ca5edb3bd_640_jpg.rf.212ff5fd5f87be205f3b81c71557ae6a.jpg  \n",
            "  inflating: ./butterfly-spider/butterfly-spider/train/images/ea36b10721f4063ed1584d05fb1d4e9fe777ead218ac104497f5c97ca5edb3bd_640_jpg.rf.232025202b64e60db1bbdd6421836374.jpg  \n",
            "  inflating: ./butterfly-spider/butterfly-spider/train/images/ea36b1072df6043ed1584d05fb1d4e9fe777ead218ac104497f5c97faee8b1b8_640_jpg.rf.24686fb5a7bee5bd20ad376e0b58ee3e.jpg  \n",
            "  inflating: ./butterfly-spider/butterfly-spider/train/images/ea36b1072df6043ed1584d05fb1d4e9fe777ead218ac104497f5c97faee8b1b8_640_jpg.rf.28623b7b103d930324e28db50449149b.jpg  \n",
            "  inflating: ./butterfly-spider/butterfly-spider/train/images/ea36b1072df6043ed1584d05fb1d4e9fe777ead218ac104497f5c97faee8b1b8_640_jpg.rf.99989ce4b68f3879c5fda6c174105bee.jpg  \n",
            "  inflating: ./butterfly-spider/butterfly-spider/train/images/ea36b1072df7013ed1584d05fb1d4e9fe777ead218ac104497f5c97faee8b1b8_640_jpg.rf.2d4d23f192834e31b626d4914c3f9d8f.jpg  \n",
            "  inflating: ./butterfly-spider/butterfly-spider/train/images/ea36b1072df7013ed1584d05fb1d4e9fe777ead218ac104497f5c97faee8b1b8_640_jpg.rf.41c16c267a8ca173e25a6d07eba880b9.jpg  \n",
            "  inflating: ./butterfly-spider/butterfly-spider/train/images/ea36b1072df7013ed1584d05fb1d4e9fe777ead218ac104497f5c97faee8b1b8_640_jpg.rf.849e2011b24db0685133e3fbda69a6b4.jpg  \n",
            "  inflating: ./butterfly-spider/butterfly-spider/train/images/ea36b10928fd013ed1584d05fb1d4e9fe777ead218ac104497f5c97faeebb5bb_640_jpg.rf.41250e743a835ca5c410b13d297494a3.jpg  \n",
            "  inflating: ./butterfly-spider/butterfly-spider/train/images/ea36b10928fd013ed1584d05fb1d4e9fe777ead218ac104497f5c97faeebb5bb_640_jpg.rf.bd0cfa051700f2cf37f5cee732f37b39.jpg  \n",
            "  inflating: ./butterfly-spider/butterfly-spider/train/images/ea36b10928fd013ed1584d05fb1d4e9fe777ead218ac104497f5c97faeebb5bb_640_jpg.rf.f7b6031eda5e2e47b7f5bde1c2a00dee.jpg  \n",
            "  inflating: ./butterfly-spider/butterfly-spider/train/images/ea36b10929f4083ed1584d05fb1d4e9fe777ead218ac104497f5c97faeebb5bb_640_jpg.rf.e5b0d1faadc037d6fea6ea49e193a7c5.jpg  \n",
            "  inflating: ./butterfly-spider/butterfly-spider/train/images/ea36b10929f4083ed1584d05fb1d4e9fe777ead218ac104497f5c97faeebb5bb_640_jpg.rf.f44dc7b3d91b2ed186442bbad1864670.jpg  \n",
            "  inflating: ./butterfly-spider/butterfly-spider/train/images/ea36b10929f4083ed1584d05fb1d4e9fe777ead218ac104497f5c97faeebb5bb_640_jpg.rf.f7d49caec8197c4b6137c532c5a51ff2.jpg  \n",
            "  inflating: ./butterfly-spider/butterfly-spider/train/images/ea36b10a2cf6093ed1584d05fb1d4e9fe777ead218ac104497f5c97ca5edb3bd_640_jpg.rf.601b709205d7b3254017a1ad8ac970fc.jpg  \n",
            "  inflating: ./butterfly-spider/butterfly-spider/train/images/ea36b10a2cf6093ed1584d05fb1d4e9fe777ead218ac104497f5c97ca5edb3bd_640_jpg.rf.c8d6548dc87b1b43ad11ee4551c60f1e.jpg  \n",
            "  inflating: ./butterfly-spider/butterfly-spider/train/images/ea36b10a2cf6093ed1584d05fb1d4e9fe777ead218ac104497f5c97ca5edb3bd_640_jpg.rf.ce8ced3bb0cb5c3339bcd89c4c2b305d.jpg  \n",
            "  inflating: ./butterfly-spider/butterfly-spider/train/images/ea36b10a2df5093ed1584d05fb1d4e9fe777ead218ac104497f5c97faeebb5bb_640_jpg.rf.2a3dec3a47496e9191f0636205ede587.jpg  \n",
            "  inflating: ./butterfly-spider/butterfly-spider/train/images/ea36b10a2df5093ed1584d05fb1d4e9fe777ead218ac104497f5c97faeebb5bb_640_jpg.rf.4ef12be6f2e86e41fbbea93451766c70.jpg  \n",
            "  inflating: ./butterfly-spider/butterfly-spider/train/images/ea36b10a2df5093ed1584d05fb1d4e9fe777ead218ac104497f5c97faeebb5bb_640_jpg.rf.f8aa801f2cbbac5c4acbbe2c481a7c31.jpg  \n",
            "  inflating: ./butterfly-spider/butterfly-spider/train/images/ea36b10b2df3043ed1584d05fb1d4e9fe777ead218ac104497f5c97faee9bdba_640_jpg.rf.0acc68084b61eb333a2b3632a649e235.jpg  \n",
            "  inflating: ./butterfly-spider/butterfly-spider/train/images/ea36b10b2df3043ed1584d05fb1d4e9fe777ead218ac104497f5c97faee9bdba_640_jpg.rf.4ec9a3a864ac07bb6c4f05cd99d6efe6.jpg  \n",
            "  inflating: ./butterfly-spider/butterfly-spider/train/images/ea36b10b2df3043ed1584d05fb1d4e9fe777ead218ac104497f5c97faee9bdba_640_jpg.rf.53fc41f52c67751ca4714adac3625586.jpg  \n",
            "  inflating: ./butterfly-spider/butterfly-spider/train/images/ea36b10b2df3053ed1584d05fb1d4e9fe777ead218ac104497f5c97faee9bdba_640_jpg.rf.37ca6b306d9ad6163ef79768125667ad.jpg  \n",
            "  inflating: ./butterfly-spider/butterfly-spider/train/images/ea36b10b2df3053ed1584d05fb1d4e9fe777ead218ac104497f5c97faee9bdba_640_jpg.rf.6d10cc306721bec965e20429d2e5a603.jpg  \n",
            "  inflating: ./butterfly-spider/butterfly-spider/train/images/ea36b10b2df3053ed1584d05fb1d4e9fe777ead218ac104497f5c97faee9bdba_640_jpg.rf.8b6425c8d853925424ab1b95e3b9f8be.jpg  \n",
            "  inflating: ./butterfly-spider/butterfly-spider/train/images/ea36b10b2df3053ed1584d05fb1d4e9fe777ead218ac104497f5c97faee9bdba_640_jpg.rf.9ea614b10bee5bc3b9c602c93dd9a4f0.jpg  \n",
            "  inflating: ./butterfly-spider/butterfly-spider/train/images/ea36b10b2df3053ed1584d05fb1d4e9fe777ead218ac104497f5c97faee9bdba_640_jpg.rf.b867c39dae10b77f866e408773caa298.jpg  \n",
            "  inflating: ./butterfly-spider/butterfly-spider/train/images/ea36b10b2df3053ed1584d05fb1d4e9fe777ead218ac104497f5c97faee9bdba_640_jpg.rf.ed7a68faa64a71fb6ee71905610d3e68.jpg  \n",
            "  inflating: ./butterfly-spider/butterfly-spider/train/images/ea36b10b2df3073ed1584d05fb1d4e9fe777ead218ac104497f5c97faee9bdba_640_jpg.rf.1d4d158fc6e986ee5522fbc4e2524e4d.jpg  \n",
            "  inflating: ./butterfly-spider/butterfly-spider/train/images/ea36b10b2df3073ed1584d05fb1d4e9fe777ead218ac104497f5c97faee9bdba_640_jpg.rf.31debe2f72d50df608f12117df47c7a6.jpg  \n",
            "  inflating: ./butterfly-spider/butterfly-spider/train/images/ea36b10b2df3073ed1584d05fb1d4e9fe777ead218ac104497f5c97faee9bdba_640_jpg.rf.33b5d897190523359ded748150820d21.jpg  \n",
            "  inflating: ./butterfly-spider/butterfly-spider/train/images/ea36b10c20fd073ed1584d05fb1d4e9fe777ead218ac104497f5c97faee8b1b8_640_jpg.rf.3685a29587c7ccb3657d41010aa5d63b.jpg  \n",
            "  inflating: ./butterfly-spider/butterfly-spider/train/images/ea36b10c20fd073ed1584d05fb1d4e9fe777ead218ac104497f5c97faee8b1b8_640_jpg.rf.60b3fabcffb497212a2a326770f4a3b5.jpg  \n",
            "  inflating: ./butterfly-spider/butterfly-spider/train/images/ea36b10c20fd073ed1584d05fb1d4e9fe777ead218ac104497f5c97faee8b1b8_640_jpg.rf.9fdfa93658bba23ed1d46092cc5638ad.jpg  \n",
            "  inflating: ./butterfly-spider/butterfly-spider/train/images/ea36b10d21f6053ed1584d05fb1d4e9fe777ead218ac104497f5c97faee8b1b8_640_jpg.rf.15a21224bdac71e12f28ee7439810c0a.jpg  \n",
            "  inflating: ./butterfly-spider/butterfly-spider/train/images/ea36b10d21f6053ed1584d05fb1d4e9fe777ead218ac104497f5c97faee8b1b8_640_jpg.rf.48c245f285aaae2159ce7814d30d6aef.jpg  \n",
            "  inflating: ./butterfly-spider/butterfly-spider/train/images/ea36b10d21f6053ed1584d05fb1d4e9fe777ead218ac104497f5c97faee8b1b8_640_jpg.rf.d36593731e24ec1f0bf317f0a72273c4.jpg  \n",
            "  inflating: ./butterfly-spider/butterfly-spider/train/images/ea36b10e2af0023ed1584d05fb1d4e9fe777ead218ac104497f5c97faee8b1b8_640_jpg.rf.20d4714e868422f67eebfda74f71fac0.jpg  \n",
            "  inflating: ./butterfly-spider/butterfly-spider/train/images/ea36b10e2af0023ed1584d05fb1d4e9fe777ead218ac104497f5c97faee8b1b8_640_jpg.rf.30dec8f4b7469d0fa545d397ab6645c2.jpg  \n",
            "  inflating: ./butterfly-spider/butterfly-spider/train/images/ea36b10e2af0023ed1584d05fb1d4e9fe777ead218ac104497f5c97faee8b1b8_640_jpg.rf.b5fdc3fd333d7bc712a1a93b7c85e6b3.jpg  \n",
            "  inflating: ./butterfly-spider/butterfly-spider/train/images/ea36b10f2af0043ed1584d05fb1d4e9fe777ead218ac104497f5c97ca5edb3bd_640_jpg.rf.098f65bb017a9520d2527f56043377de.jpg  \n",
            "  inflating: ./butterfly-spider/butterfly-spider/train/images/ea36b10f2af0043ed1584d05fb1d4e9fe777ead218ac104497f5c97ca5edb3bd_640_jpg.rf.9c03ac6231f3a7f6f639a91fa2fb559c.jpg  \n",
            "  inflating: ./butterfly-spider/butterfly-spider/train/images/ea36b10f2af0043ed1584d05fb1d4e9fe777ead218ac104497f5c97ca5edb3bd_640_jpg.rf.ce8ff75b7f0e3b6a11d1a650cc6d0cd7.jpg  \n",
            "  inflating: ./butterfly-spider/butterfly-spider/train/images/ea36b10f2af6043ed1584d05fb1d4e9fe777ead218ac104497f5c97faee8b1b8_640_jpg.rf.0d97de5abb4b7ea88dc6a0caa1965c20.jpg  \n",
            "  inflating: ./butterfly-spider/butterfly-spider/train/images/ea36b10f2af6043ed1584d05fb1d4e9fe777ead218ac104497f5c97faee8b1b8_640_jpg.rf.48546d7c0cdb851697fe55eaecce17b0.jpg  \n",
            "  inflating: ./butterfly-spider/butterfly-spider/train/images/ea36b10f2af6043ed1584d05fb1d4e9fe777ead218ac104497f5c97faee8b1b8_640_jpg.rf.d612af9e3441cbd2843d79fc16b36040.jpg  \n",
            "  inflating: ./butterfly-spider/butterfly-spider/train/images/ea36b10f2afd053ed1584d05fb1d4e9fe777ead218ac104497f5c97ca5edb3bd_640_jpg.rf.6a5224bce35ff071417308c1ddb75db0.jpg  \n",
            "  inflating: ./butterfly-spider/butterfly-spider/train/images/ea36b10f2afd053ed1584d05fb1d4e9fe777ead218ac104497f5c97ca5edb3bd_640_jpg.rf.b972bb418ee65de312475594bbe121d9.jpg  \n",
            "  inflating: ./butterfly-spider/butterfly-spider/train/images/ea36b10f2afd053ed1584d05fb1d4e9fe777ead218ac104497f5c97ca5edb3bd_640_jpg.rf.e564ccbdc4bd7bce599ed48d0b0bdaac.jpg  \n",
            "  inflating: ./butterfly-spider/butterfly-spider/train/images/ea36b10f2afd063ed1584d05fb1d4e9fe777ead218ac104497f5c97ca5edb3bd_640_jpg.rf.0e71ceb9624e0d42d2957f771d64d6d9.jpg  \n",
            "  inflating: ./butterfly-spider/butterfly-spider/train/images/ea36b10f2afd063ed1584d05fb1d4e9fe777ead218ac104497f5c97ca5edb3bd_640_jpg.rf.66fa436c3356f9670a6d5a4fc9ec04c7.jpg  \n",
            "  inflating: ./butterfly-spider/butterfly-spider/train/images/ea36b10f2afd063ed1584d05fb1d4e9fe777ead218ac104497f5c97ca5edb3bd_640_jpg.rf.92c6de7a4c4f0101a92e9d28cb13414d.jpg  \n",
            "  inflating: ./butterfly-spider/butterfly-spider/train/images/ea36b2072af6093ed1584d05fb1d4e9fe777ead218ac104497f5c97ca5edb3bd_640_jpg.rf.0d82b4404bb53f68061b2dc568c373d3.jpg  \n",
            "  inflating: ./butterfly-spider/butterfly-spider/train/images/ea36b2072af6093ed1584d05fb1d4e9fe777ead218ac104497f5c97ca5edb3bd_640_jpg.rf.50242f1b022c3ca6bf7e78eb7bc95fa0.jpg  \n",
            "  inflating: ./butterfly-spider/butterfly-spider/train/images/ea36b2072af6093ed1584d05fb1d4e9fe777ead218ac104497f5c97ca5edb3bd_640_jpg.rf.cb5a6d962320edf28875ea122b0cc3ba.jpg  \n",
            "  inflating: ./butterfly-spider/butterfly-spider/train/images/ea36b20b21f1093ed1584d05fb1d4e9fe777ead218ac104497f5c97faee9bdba_640_jpg.rf.86c6d05f8cc6598760c6d91ead1f5215.jpg  \n",
            "  inflating: ./butterfly-spider/butterfly-spider/train/images/ea36b20b21f1093ed1584d05fb1d4e9fe777ead218ac104497f5c97faee9bdba_640_jpg.rf.ee0544a8e3add92baf33c2ed297838f9.jpg  \n",
            "  inflating: ./butterfly-spider/butterfly-spider/train/images/ea36b20b28f6073ed1584d05fb1d4e9fe777ead218ac104497f5c97faee9bdba_640_jpg.rf.2544427280c4fee9134b63e94eafb217.jpg  \n",
            "  inflating: ./butterfly-spider/butterfly-spider/train/images/ea36b20b28f6073ed1584d05fb1d4e9fe777ead218ac104497f5c97faee9bdba_640_jpg.rf.2f429f375c3abf6ad8e4037adbc18436.jpg  \n",
            "  inflating: ./butterfly-spider/butterfly-spider/train/images/ea36b20b28f6073ed1584d05fb1d4e9fe777ead218ac104497f5c97faee9bdba_640_jpg.rf.b3b7b7fafad100185820c635c229d4dc.jpg  \n",
            "  inflating: ./butterfly-spider/butterfly-spider/train/images/ea36b20b2df4053ed1584d05fb1d4e9fe777ead218ac104497f5c97faee9bdba_640_jpg.rf.535ac690ceeadca2031e06b0ea5e94ed.jpg  \n",
            "  inflating: ./butterfly-spider/butterfly-spider/train/images/ea36b20b2df4053ed1584d05fb1d4e9fe777ead218ac104497f5c97faee9bdba_640_jpg.rf.6ef8fb5bbf091a0faacbb584c3f74ab1.jpg  \n",
            "  inflating: ./butterfly-spider/butterfly-spider/train/images/ea36b20b2df4053ed1584d05fb1d4e9fe777ead218ac104497f5c97faee9bdba_640_jpg.rf.d8bb9ce52d963ae364f2f7a3d6771da9.jpg  \n",
            "  inflating: ./butterfly-spider/butterfly-spider/train/images/ea36b20c21f4013ed1584d05fb1d4e9fe777ead218ac104497f5c97faee9bdba_640_jpg.rf.00c35f351ad317f7ee01fa21d6548bab.jpg  \n",
            "  inflating: ./butterfly-spider/butterfly-spider/train/images/ea36b20c21f4013ed1584d05fb1d4e9fe777ead218ac104497f5c97faee9bdba_640_jpg.rf.3ed3bd6c6931ca0bdf0514c56b39a216.jpg  \n",
            "  inflating: ./butterfly-spider/butterfly-spider/train/images/ea36b20c21f4013ed1584d05fb1d4e9fe777ead218ac104497f5c97faee9bdba_640_jpg.rf.cfff3305516598c59c3619aea6b238eb.jpg  \n",
            "  inflating: ./butterfly-spider/butterfly-spider/train/images/ea36b20c29f3073ed1584d05fb1d4e9fe777ead218ac104497f5c97faee9bdba_640_jpg.rf.46336b1619defae191cec58b8c7a324d.jpg  \n",
            "  inflating: ./butterfly-spider/butterfly-spider/train/images/ea36b20c29f3073ed1584d05fb1d4e9fe777ead218ac104497f5c97faee9bdba_640_jpg.rf.4685eed783b648668e79faf888abcde1.jpg  \n",
            "  inflating: ./butterfly-spider/butterfly-spider/train/images/ea36b20c29f3073ed1584d05fb1d4e9fe777ead218ac104497f5c97faee9bdba_640_jpg.rf.4d5e18e0779f0dd0e5b329a5216ce59d.jpg  \n",
            "  inflating: ./butterfly-spider/butterfly-spider/train/images/ea36b20c29f3073ed1584d05fb1d4e9fe777ead218ac104497f5c97faee9bdba_640_jpg.rf.5ed6d9df503172219a7057f9c94c37e1.jpg  \n",
            "  inflating: ./butterfly-spider/butterfly-spider/train/images/ea36b20c29f3073ed1584d05fb1d4e9fe777ead218ac104497f5c97faee9bdba_640_jpg.rf.f05eb5472aff995b411b83de1847d655.jpg  \n",
            "  inflating: ./butterfly-spider/butterfly-spider/train/images/ea36b20c29f3073ed1584d05fb1d4e9fe777ead218ac104497f5c97faee9bdba_640_jpg.rf.f684567cc0e463d01913db7825b14feb.jpg  \n",
            "  inflating: ./butterfly-spider/butterfly-spider/train/images/ea36b20c29f3083ed1584d05fb1d4e9fe777ead218ac104497f5c97faee9bdba_640_jpg.rf.54b58e99ae5afd3a7aeb87fbce9c57c1.jpg  \n",
            "  inflating: ./butterfly-spider/butterfly-spider/train/images/ea36b20c29f3083ed1584d05fb1d4e9fe777ead218ac104497f5c97faee9bdba_640_jpg.rf.64e1732f6011fb4992b6298f640940b2.jpg  \n",
            "  inflating: ./butterfly-spider/butterfly-spider/train/images/ea36b20c29f3083ed1584d05fb1d4e9fe777ead218ac104497f5c97faee9bdba_640_jpg.rf.825fec8ba5e1a3921a397bcb3cf0e16a.jpg  \n",
            "  inflating: ./butterfly-spider/butterfly-spider/train/images/ea36b20d21f5033ed1584d05fb1d4e9fe777ead218ac104497f5c97ca5edb3bd_640_jpg.rf.23d12b0dcb72a63ec9fb6cd1f825311b.jpg  \n",
            "  inflating: ./butterfly-spider/butterfly-spider/train/images/ea36b20d21f5033ed1584d05fb1d4e9fe777ead218ac104497f5c97ca5edb3bd_640_jpg.rf.483d90c328f5f4191b8caacca37bdf97.jpg  \n",
            "  inflating: ./butterfly-spider/butterfly-spider/train/images/ea36b20d21f5033ed1584d05fb1d4e9fe777ead218ac104497f5c97ca5edb3bd_640_jpg.rf.5d3b0d461e66a9ad05cf0a0cc0277612.jpg  \n",
            "  inflating: ./butterfly-spider/butterfly-spider/train/images/ea36b20d2bf6083ed1584d05fb1d4e9fe777ead218ac104497f5c97faeebb5bb_640_jpg.rf.a1354596a70e5b0ccadf623f8a0fc8c4.jpg  \n",
            "  inflating: ./butterfly-spider/butterfly-spider/train/images/ea36b20d2bf6083ed1584d05fb1d4e9fe777ead218ac104497f5c97faeebb5bb_640_jpg.rf.a612a1ccaccb12383e3565f61de74141.jpg  \n",
            "  inflating: ./butterfly-spider/butterfly-spider/train/images/ea36b20d2bf6083ed1584d05fb1d4e9fe777ead218ac104497f5c97faeebb5bb_640_jpg.rf.ab90e76ca6ba1e3875a6b485df30977a.jpg  \n",
            "  inflating: ./butterfly-spider/butterfly-spider/train/images/ea36b20e20f5023ed1584d05fb1d4e9fe777ead218ac104497f5c97faee9bdba_640_jpg.rf.2f72247382b53878bda8d79ae76e38f7.jpg  \n",
            "  inflating: ./butterfly-spider/butterfly-spider/train/images/ea36b20e20f5023ed1584d05fb1d4e9fe777ead218ac104497f5c97faee9bdba_640_jpg.rf.62e2a60199c49193e94cbfb6a752a44d.jpg  \n",
            "  inflating: ./butterfly-spider/butterfly-spider/train/images/ea36b20e20f5023ed1584d05fb1d4e9fe777ead218ac104497f5c97faee9bdba_640_jpg.rf.fe18b0c8ca46037860bbc80bf47c8f80.jpg  \n",
            "  inflating: ./butterfly-spider/butterfly-spider/train/images/ea36b20e29f1083ed1584d05fb1d4e9fe777ead218ac104497f5c97faee8b1b8_640_jpg.rf.18f7a96122fc799f513a873ee496a6a6.jpg  \n",
            "  inflating: ./butterfly-spider/butterfly-spider/train/images/ea36b20e29f1083ed1584d05fb1d4e9fe777ead218ac104497f5c97faee8b1b8_640_jpg.rf.3333de3218a01f939a0a2f81f9ddd9f5.jpg  \n",
            "  inflating: ./butterfly-spider/butterfly-spider/train/images/ea36b20e29f1083ed1584d05fb1d4e9fe777ead218ac104497f5c97faee8b1b8_640_jpg.rf.8e19ce9d0f1c8caec98c304731a41494.jpg  \n",
            "  inflating: ./butterfly-spider/butterfly-spider/train/images/ea36b20f21f3063ed1584d05fb1d4e9fe777ead218ac104497f5c97faeebb5bb_640_jpg.rf.14ee6747784b7396618c66ac34903731.jpg  \n",
            "  inflating: ./butterfly-spider/butterfly-spider/train/images/ea36b20f21f3063ed1584d05fb1d4e9fe777ead218ac104497f5c97faeebb5bb_640_jpg.rf.a9450c0a14967913e7a75a2954303d95.jpg  \n",
            "  inflating: ./butterfly-spider/butterfly-spider/train/images/ea36b20f21f3063ed1584d05fb1d4e9fe777ead218ac104497f5c97faeebb5bb_640_jpg.rf.b5d31dd604a097c5b1be926e41095823.jpg  \n",
            "  inflating: ./butterfly-spider/butterfly-spider/train/images/ea36b20f2cf6053ed1584d05fb1d4e9fe777ead218ac104497f5c97ca5ecb5b1_640_png.rf.202f5b4337915babd7033b6371db2fe6.jpg  \n",
            "  inflating: ./butterfly-spider/butterfly-spider/train/images/ea36b20f2cf6053ed1584d05fb1d4e9fe777ead218ac104497f5c97ca5ecb5b1_640_png.rf.d74e4bb7ef13553e013b9f4a3776b61c.jpg  \n",
            "  inflating: ./butterfly-spider/butterfly-spider/train/images/ea36b20f2cf6053ed1584d05fb1d4e9fe777ead218ac104497f5c97ca5ecb5b1_640_png.rf.e430cf36e991ac592dfdc3110461e0b3.jpg  \n",
            "  inflating: ./butterfly-spider/butterfly-spider/train/images/ea36b20f2ff7023ed1584d05fb1d4e9fe777ead218ac104497f5c97ca5edb3bd_640_jpg.rf.43ef408ecc233ee62e09e3b7e271cb0e.jpg  \n",
            "  inflating: ./butterfly-spider/butterfly-spider/train/images/ea36b20f2ff7023ed1584d05fb1d4e9fe777ead218ac104497f5c97ca5edb3bd_640_jpg.rf.77fed19e2b4bdf92dfafb53e801bd69e.jpg  \n",
            "  inflating: ./butterfly-spider/butterfly-spider/train/images/ea36b20f2ff7023ed1584d05fb1d4e9fe777ead218ac104497f5c97ca5edb3bd_640_jpg.rf.f16069fb18bb0c2db2ad5ac45aaf0539.jpg  \n",
            "  inflating: ./butterfly-spider/butterfly-spider/train/images/ea36b3092afd093ed1584d05fb1d4e9fe777ead218ac104497f5c97ca5edb3bd_640_jpg.rf.8c998ccecce8f29e7c604a0ebd9b35c7.jpg  \n",
            "  inflating: ./butterfly-spider/butterfly-spider/train/images/ea36b3092afd093ed1584d05fb1d4e9fe777ead218ac104497f5c97ca5edb3bd_640_jpg.rf.92259188b3b8adc2c320d69d7522f2e4.jpg  \n",
            "  inflating: ./butterfly-spider/butterfly-spider/train/images/ea36b3092afd093ed1584d05fb1d4e9fe777ead218ac104497f5c97ca5edb3bd_640_jpg.rf.fff07b4a47542adbf6f7625cdcd742d2.jpg  \n",
            "  inflating: ./butterfly-spider/butterfly-spider/train/images/ea36b3092bf4013ed1584d05fb1d4e9fe777ead218ac104497f5c97ca5edb3bd_640_jpg.rf.039eeab38bd69f3f93945f2718a53fbb.jpg  \n",
            "  inflating: ./butterfly-spider/butterfly-spider/train/images/ea36b3092bf4013ed1584d05fb1d4e9fe777ead218ac104497f5c97ca5edb3bd_640_jpg.rf.70c07350211ef5b9b9bfd39034c8c9a6.jpg  \n",
            "  inflating: ./butterfly-spider/butterfly-spider/train/images/ea36b3092bf4013ed1584d05fb1d4e9fe777ead218ac104497f5c97ca5edb3bd_640_jpg.rf.77ffbe7e4e68b03ad5c817abc96f4271.jpg  \n",
            "  inflating: ./butterfly-spider/butterfly-spider/train/images/ea36b30a20f0033ed1584d05fb1d4e9fe777ead218ac104497f5c97faee9bdba_640_jpg.rf.16bdff456fcab4bb203c8d75fb7f01ef.jpg  \n",
            "  inflating: ./butterfly-spider/butterfly-spider/train/images/ea36b30a20f0033ed1584d05fb1d4e9fe777ead218ac104497f5c97faee9bdba_640_jpg.rf.83a63765f40f4dc05a13fc068fb7ab56.jpg  \n",
            "  inflating: ./butterfly-spider/butterfly-spider/train/images/ea36b30a20f0033ed1584d05fb1d4e9fe777ead218ac104497f5c97faee9bdba_640_jpg.rf.a2f7f0490fe7b1eaccb121f4f02307d8.jpg  \n",
            "  inflating: ./butterfly-spider/butterfly-spider/train/images/ea36b30a20f7003ed1584d05fb1d4e9fe777ead218ac104497f5c97faee9bdba_640_jpg.rf.755c0fbbbe4ee78b2effff8914c2c535.jpg  \n",
            "  inflating: ./butterfly-spider/butterfly-spider/train/images/ea36b30a20f7003ed1584d05fb1d4e9fe777ead218ac104497f5c97faee9bdba_640_jpg.rf.add917938ec03f76f29b70302e1cdb91.jpg  \n",
            "  inflating: ./butterfly-spider/butterfly-spider/train/images/ea36b30a20f7003ed1584d05fb1d4e9fe777ead218ac104497f5c97faee9bdba_640_jpg.rf.f5d3b55b3adc9ccb59fe029bdd792c48.jpg  \n",
            "  inflating: ./butterfly-spider/butterfly-spider/train/images/ea36b30b21f0083ed1584d05fb1d4e9fe777ead218ac104497f5c97faeebb5bb_640_jpg.rf.02a161c566236f6960ac04bd6e034443.jpg  \n",
            "  inflating: ./butterfly-spider/butterfly-spider/train/images/ea36b30b21f0083ed1584d05fb1d4e9fe777ead218ac104497f5c97faeebb5bb_640_jpg.rf.b64c34d437f7852da830a16821b2951c.jpg  \n",
            "  inflating: ./butterfly-spider/butterfly-spider/train/images/ea36b30b21f0083ed1584d05fb1d4e9fe777ead218ac104497f5c97faeebb5bb_640_jpg.rf.e0cab3659909b5e0983aca58b9cf1e26.jpg  \n",
            "  inflating: ./butterfly-spider/butterfly-spider/train/images/ea36b30d2cf4023ed1584d05fb1d4e9fe777ead218ac104497f5c97ca5ecb3b9_640_jpg.rf.49e7e6271259c96b969899a2f8f9f899.jpg  \n",
            "  inflating: ./butterfly-spider/butterfly-spider/train/images/ea36b30d2cf4023ed1584d05fb1d4e9fe777ead218ac104497f5c97ca5ecb3b9_640_jpg.rf.55547813f8eaf454af19c3ee4331c363.jpg  \n",
            "  inflating: ./butterfly-spider/butterfly-spider/train/images/ea36b30d2cf4023ed1584d05fb1d4e9fe777ead218ac104497f5c97ca5ecb3b9_640_jpg.rf.c5bf057030c0efe385e2bd1b262bf862.jpg  \n",
            "  inflating: ./butterfly-spider/butterfly-spider/train/images/ea36b30e20fc063ed1584d05fb1d4e9fe777ead218ac104497f5c97faee8b1b8_640_jpg.rf.7b1326f8227426bc34981c3a6134b096.jpg  \n",
            "  inflating: ./butterfly-spider/butterfly-spider/train/images/ea36b30e20fc063ed1584d05fb1d4e9fe777ead218ac104497f5c97faee8b1b8_640_jpg.rf.9c0b08f1b4b287de5791ea60797b1962.jpg  \n",
            "  inflating: ./butterfly-spider/butterfly-spider/train/images/ea36b30e20fc063ed1584d05fb1d4e9fe777ead218ac104497f5c97faee8b1b8_640_jpg.rf.a0486514131ca388b12fd98e3b4e5341.jpg  \n",
            "  inflating: ./butterfly-spider/butterfly-spider/train/images/ea36b30e20fc063ed1584d05fb1d4e9fe777ead218ac104497f5c97faee8b1b8_640_jpg.rf.ba8266b7181ff3fc3f9f9ec7eb65b2a5.jpg  \n",
            "  inflating: ./butterfly-spider/butterfly-spider/train/images/ea36b30e20fc063ed1584d05fb1d4e9fe777ead218ac104497f5c97faee8b1b8_640_jpg.rf.df1a4901b51a1c8ebdd2398ca05680c3.jpg  \n",
            "  inflating: ./butterfly-spider/butterfly-spider/train/images/ea36b30e20fc063ed1584d05fb1d4e9fe777ead218ac104497f5c97faee8b1b8_640_jpg.rf.f8e424466f589db3a02f1ec6ea9e7d44.jpg  \n",
            "  inflating: ./butterfly-spider/butterfly-spider/train/images/ea36b30e2bf2083ed1584d05fb1d4e9fe777ead218ac104497f5c97faee8b1b8_640_jpg.rf.1173cf547dc6d3da5cb8199e6fe4714e.jpg  \n",
            "  inflating: ./butterfly-spider/butterfly-spider/train/images/ea36b30e2bf2083ed1584d05fb1d4e9fe777ead218ac104497f5c97faee8b1b8_640_jpg.rf.1ae306d45cc3a0dd1714c52ea1c02385.jpg  \n",
            "  inflating: ./butterfly-spider/butterfly-spider/train/images/ea36b30e2bf2083ed1584d05fb1d4e9fe777ead218ac104497f5c97faee8b1b8_640_jpg.rf.420370acad1e5c9dea0246db69f025b2.jpg  \n",
            "  inflating: ./butterfly-spider/butterfly-spider/train/images/ea36b30e2dfd053ed1584d05fb1d4e9fe777ead218ac104497f5c97ca5edb3bd_640_jpg.rf.049559cab2633515a4e3686df3dbe083.jpg  \n",
            "  inflating: ./butterfly-spider/butterfly-spider/train/images/ea36b30e2dfd053ed1584d05fb1d4e9fe777ead218ac104497f5c97ca5edb3bd_640_jpg.rf.67d64b549f8cf443edc8d34b99bdc0ec.jpg  \n",
            "  inflating: ./butterfly-spider/butterfly-spider/train/images/ea36b30e2dfd053ed1584d05fb1d4e9fe777ead218ac104497f5c97ca5edb3bd_640_jpg.rf.a4b196c2016555e102c82155f81e5b40.jpg  \n",
            "  inflating: ./butterfly-spider/butterfly-spider/train/images/ea36b30e2ef6053ed1584d05fb1d4e9fe777ead218ac104497f5c97faee8b1b8_640_jpg.rf.25af9274bb29f5f3214ae428e5ee0a48.jpg  \n",
            "  inflating: ./butterfly-spider/butterfly-spider/train/images/ea36b30e2ef6053ed1584d05fb1d4e9fe777ead218ac104497f5c97faee8b1b8_640_jpg.rf.b991b887adbcd3175175b724a518205b.jpg  \n",
            "  inflating: ./butterfly-spider/butterfly-spider/train/images/ea36b30e2ef6053ed1584d05fb1d4e9fe777ead218ac104497f5c97faee8b1b8_640_jpg.rf.def822f93e9131251549d13645917ba8.jpg  \n",
            "  inflating: ./butterfly-spider/butterfly-spider/train/images/ea36b30f28f6033ed1584d05fb1d4e9fe777ead218ac104497f5c97ca5edb3bd_640_jpg.rf.9e2bcf5a8f5a1c25eb9e8887517befda.jpg  \n",
            "  inflating: ./butterfly-spider/butterfly-spider/train/images/ea36b30f28f6033ed1584d05fb1d4e9fe777ead218ac104497f5c97ca5edb3bd_640_jpg.rf.e36aa2d07e79d70597cbed08d2fef8c3.jpg  \n",
            "  inflating: ./butterfly-spider/butterfly-spider/train/images/ea36b30f28f6033ed1584d05fb1d4e9fe777ead218ac104497f5c97ca5edb3bd_640_jpg.rf.f85fb3be0e23e4e7ff107887e81a33a8.jpg  \n",
            "  inflating: ./butterfly-spider/butterfly-spider/train/images/ea36b30f2ef3013ed1584d05fb1d4e9fe777ead218ac104497f5c97faee9bdba_640_jpg.rf.28234b8d388ab54b377a86fee4b41e99.jpg  \n",
            "  inflating: ./butterfly-spider/butterfly-spider/train/images/ea36b30f2ef3013ed1584d05fb1d4e9fe777ead218ac104497f5c97faee9bdba_640_jpg.rf.462d9cd0b9f220dc338e417a004a20d3.jpg  \n",
            "  inflating: ./butterfly-spider/butterfly-spider/train/images/ea36b30f2ef3013ed1584d05fb1d4e9fe777ead218ac104497f5c97faee9bdba_640_jpg.rf.bdb6bc265ea0715198a696c4bc697383.jpg  \n",
            "  inflating: ./butterfly-spider/butterfly-spider/train/images/ea36b40821f7053ed1584d05fb1d4e9fe777ead218ac104497f5c97ca5edb3bd_640_jpg.rf.0aee77cb4b94f9e8c430973a09462657.jpg  \n",
            "  inflating: ./butterfly-spider/butterfly-spider/train/images/ea36b40821f7053ed1584d05fb1d4e9fe777ead218ac104497f5c97ca5edb3bd_640_jpg.rf.893e71e5b167b492ae3f4a3a4ac7dc84.jpg  \n",
            "  inflating: ./butterfly-spider/butterfly-spider/train/images/ea36b40821f7053ed1584d05fb1d4e9fe777ead218ac104497f5c97ca5edb3bd_640_jpg.rf.baf19f4b56ecca5fdb89e30b78ebdf62.jpg  \n",
            "  inflating: ./butterfly-spider/butterfly-spider/train/images/ea36b4092ef6083ed1584d05fb1d4e9fe777ead218ac104497f5c97ca5edb3bd_640_jpg.rf.2e1fcc356c6d10efe0670e2a81c3f02c.jpg  \n",
            "  inflating: ./butterfly-spider/butterfly-spider/train/images/ea36b4092ef6083ed1584d05fb1d4e9fe777ead218ac104497f5c97ca5edb3bd_640_jpg.rf.350b7c2d7a138d49b968e7c3bb026be0.jpg  \n",
            "  inflating: ./butterfly-spider/butterfly-spider/train/images/ea36b4092ef6083ed1584d05fb1d4e9fe777ead218ac104497f5c97ca5edb3bd_640_jpg.rf.dcd31068635ad21f1ca45df3f3708d34.jpg  \n",
            "  inflating: ./butterfly-spider/butterfly-spider/train/images/ea36b4092ef7013ed1584d05fb1d4e9fe777ead218ac104497f5c97ca5edb3bd_640_jpg.rf.13a725c383d8ac950f10aabc6a6e3410.jpg  \n",
            "  inflating: ./butterfly-spider/butterfly-spider/train/images/ea36b4092ef7013ed1584d05fb1d4e9fe777ead218ac104497f5c97ca5edb3bd_640_jpg.rf.60272498d7019b5e746c56a79ba07606.jpg  \n",
            "  inflating: ./butterfly-spider/butterfly-spider/train/images/ea36b4092ef7013ed1584d05fb1d4e9fe777ead218ac104497f5c97ca5edb3bd_640_jpg.rf.79b465bf8c6cd4ced70b1658ce9bc178.jpg  \n",
            "  inflating: ./butterfly-spider/butterfly-spider/train/images/ea36b40a21f6043ed1584d05fb1d4e9fe777ead218ac104497f5c97faee9bdba_640_jpg.rf.4c49e2fd26195788daf4275544f57953.jpg  \n",
            "  inflating: ./butterfly-spider/butterfly-spider/train/images/ea36b40a21f6043ed1584d05fb1d4e9fe777ead218ac104497f5c97faee9bdba_640_jpg.rf.6a654017c783c8abc4d7835c0b8db09f.jpg  \n",
            "  inflating: ./butterfly-spider/butterfly-spider/train/images/ea36b40a21f6043ed1584d05fb1d4e9fe777ead218ac104497f5c97faee9bdba_640_jpg.rf.6aed0c7daf3565639427d01ae218406f.jpg  \n",
            "  inflating: ./butterfly-spider/butterfly-spider/train/images/ea36b40a21f6043ed1584d05fb1d4e9fe777ead218ac104497f5c97faee9bdba_640_jpg.rf.d053e38f36ac75081387d6086bc322d7.jpg  \n",
            "  inflating: ./butterfly-spider/butterfly-spider/train/images/ea36b40a21f6043ed1584d05fb1d4e9fe777ead218ac104497f5c97faee9bdba_640_jpg.rf.edeb11d268748d57a02f107d2a0ded41.jpg  \n",
            "  inflating: ./butterfly-spider/butterfly-spider/train/images/ea36b40a21f6043ed1584d05fb1d4e9fe777ead218ac104497f5c97faee9bdba_640_jpg.rf.fdd07c9dc338baba52a645281b33e4b1.jpg  \n",
            "  inflating: ./butterfly-spider/butterfly-spider/train/images/ea36b40a29f4033ed1584d05fb1d4e9fe777ead218ac104497f5c97ca5edb3bd_640_jpg.rf.99c706b308e8dd72e042accf42d6a513.jpg  \n",
            "  inflating: ./butterfly-spider/butterfly-spider/train/images/ea36b40a29f4033ed1584d05fb1d4e9fe777ead218ac104497f5c97ca5edb3bd_640_jpg.rf.d65ef99d1af34a6f254394a21083b6a6.jpg  \n",
            "  inflating: ./butterfly-spider/butterfly-spider/train/images/ea36b40a29f4033ed1584d05fb1d4e9fe777ead218ac104497f5c97ca5edb3bd_640_jpg.rf.db596bc2d73f0836e713ea43bf6fb627.jpg  \n",
            "  inflating: ./butterfly-spider/butterfly-spider/train/images/ea36b40a2ef5073ed1584d05fb1d4e9fe777ead218ac104497f5c97faee9bdba_640_jpg.rf.77b751b2660bc55a9f99aaeebe89137f.jpg  \n",
            "  inflating: ./butterfly-spider/butterfly-spider/train/images/ea36b40a2ef5073ed1584d05fb1d4e9fe777ead218ac104497f5c97faee9bdba_640_jpg.rf.7a6a275a1b9abfcc89ed960fc244bb61.jpg  \n",
            "  inflating: ./butterfly-spider/butterfly-spider/train/images/ea36b40a2ef5073ed1584d05fb1d4e9fe777ead218ac104497f5c97faee9bdba_640_jpg.rf.7fa6ad561e93eadef683cc8ec4e63915.jpg  \n",
            "  inflating: ./butterfly-spider/butterfly-spider/train/images/ea36b40a2ff0063ed1584d05fb1d4e9fe777ead218ac104497f5c97faeebb5bb_640_jpg.rf.15ea5d880b48e2cd5f12bf50c3660675.jpg  \n",
            "  inflating: ./butterfly-spider/butterfly-spider/train/images/ea36b40a2ff0063ed1584d05fb1d4e9fe777ead218ac104497f5c97faeebb5bb_640_jpg.rf.3a9a458162bf574c6d274cb9c4161bc6.jpg  \n",
            "  inflating: ./butterfly-spider/butterfly-spider/train/images/ea36b40a2ff0063ed1584d05fb1d4e9fe777ead218ac104497f5c97faeebb5bb_640_jpg.rf.6c31cdb36806fcd017efd3d2c746b03b.jpg  \n",
            "  inflating: ./butterfly-spider/butterfly-spider/train/images/ea36b40a2ff0063ed1584d05fb1d4e9fe777ead218ac104497f5c97faeebb5bb_640_jpg.rf.b976567b9db9db21e4715a222324ff9f.jpg  \n",
            "  inflating: ./butterfly-spider/butterfly-spider/train/images/ea36b40a2ff0063ed1584d05fb1d4e9fe777ead218ac104497f5c97faeebb5bb_640_jpg.rf.b9f78346d6adab2b5942b3674359c9de.jpg  \n",
            "  inflating: ./butterfly-spider/butterfly-spider/train/images/ea36b40a2ff0063ed1584d05fb1d4e9fe777ead218ac104497f5c97faeebb5bb_640_jpg.rf.efe65c4b1a540a34a04f622760fab6c5.jpg  \n",
            "  inflating: ./butterfly-spider/butterfly-spider/train/images/ea36b40c28f0033ed1584d05fb1d4e9fe777ead218ac104497f5c97ca5edb3bd_640_jpg.rf.46b76b91dbacbbc658b817da9a3ab9f5.jpg  \n",
            "  inflating: ./butterfly-spider/butterfly-spider/train/images/ea36b40c28f0033ed1584d05fb1d4e9fe777ead218ac104497f5c97ca5edb3bd_640_jpg.rf.56571ea8db7abb9fee8f448b8295f5b0.jpg  \n",
            "  inflating: ./butterfly-spider/butterfly-spider/train/images/ea36b40c28f0033ed1584d05fb1d4e9fe777ead218ac104497f5c97ca5edb3bd_640_jpg.rf.92148a904e925a49afd5a7abdd1d5d17.jpg  \n",
            "  inflating: ./butterfly-spider/butterfly-spider/train/images/ea36b40c28f2033ed1584d05fb1d4e9fe777ead218ac104497f5c97ca5edb3bd_640_jpg.rf.3163db3b1ff008f929f77d0efbedeb2e.jpg  \n",
            "  inflating: ./butterfly-spider/butterfly-spider/train/images/ea36b40c28f2033ed1584d05fb1d4e9fe777ead218ac104497f5c97ca5edb3bd_640_jpg.rf.cf3949b09eb20928e9ead9e1f452498a.jpg  \n",
            "  inflating: ./butterfly-spider/butterfly-spider/train/images/ea36b40c28f2033ed1584d05fb1d4e9fe777ead218ac104497f5c97ca5edb3bd_640_jpg.rf.e95f4438a32433bd4a5f3aa8b968f543.jpg  \n",
            "  inflating: ./butterfly-spider/butterfly-spider/train/images/ea36b40c29f4083ed1584d05fb1d4e9fe777ead218ac104497f5c97ca5edb3bd_640_jpg.rf.08f9a04954cecc80ef25926151a3e24b.jpg  \n",
            "  inflating: ./butterfly-spider/butterfly-spider/train/images/ea36b40c29f4083ed1584d05fb1d4e9fe777ead218ac104497f5c97ca5edb3bd_640_jpg.rf.4f7cf9c18e2847a8b5439898f2072b2b.jpg  \n",
            "  inflating: ./butterfly-spider/butterfly-spider/train/images/ea36b40c29f4083ed1584d05fb1d4e9fe777ead218ac104497f5c97ca5edb3bd_640_jpg.rf.7b2ee3b8ef268cf8f8b642f198b53dcb.jpg  \n",
            "  inflating: ./butterfly-spider/butterfly-spider/train/images/ea36b40d2ef5013ed1584d05fb1d4e9fe777ead218ac104497f5c97ca5edb3bd_640_jpg.rf.1a81789955c241fc86f6206ca3563aa8.jpg  \n",
            "  inflating: ./butterfly-spider/butterfly-spider/train/images/ea36b40d2ef5013ed1584d05fb1d4e9fe777ead218ac104497f5c97ca5edb3bd_640_jpg.rf.28d58b5aafa7097caf9b9093c31037c7.jpg  \n",
            "  inflating: ./butterfly-spider/butterfly-spider/train/images/ea36b40d2ef5013ed1584d05fb1d4e9fe777ead218ac104497f5c97ca5edb3bd_640_jpg.rf.46f697ef9ff42382a267b34e3c9e9384.jpg  \n",
            "  inflating: ./butterfly-spider/butterfly-spider/train/images/ea36b40d2ef5053ed1584d05fb1d4e9fe777ead218ac104497f5c97faee9bdba_640_jpg.rf.4b6c0b796e4e03142bd04f6d8f9b6aa1.jpg  \n",
            "  inflating: ./butterfly-spider/butterfly-spider/train/images/ea36b40d2ef5053ed1584d05fb1d4e9fe777ead218ac104497f5c97faee9bdba_640_jpg.rf.505fad427da6e47828b60e872a452ec2.jpg  \n",
            "  inflating: ./butterfly-spider/butterfly-spider/train/images/ea36b40d2ef5053ed1584d05fb1d4e9fe777ead218ac104497f5c97faee9bdba_640_jpg.rf.791bb594c9b0fe7a3dca5a9bf1337205.jpg  \n",
            "  inflating: ./butterfly-spider/butterfly-spider/train/images/ea36b40d2ef5053ed1584d05fb1d4e9fe777ead218ac104497f5c97faee9bdba_640_jpg.rf.86c1f247fd0d6efe9fb80dd56f9efa79.jpg  \n",
            "  inflating: ./butterfly-spider/butterfly-spider/train/images/ea36b40d2ef5053ed1584d05fb1d4e9fe777ead218ac104497f5c97faee9bdba_640_jpg.rf.ba97e5ffbcf9995fe168f3880c1d26bc.jpg  \n",
            "  inflating: ./butterfly-spider/butterfly-spider/train/images/ea36b40d2ef5053ed1584d05fb1d4e9fe777ead218ac104497f5c97faee9bdba_640_jpg.rf.f1e544c5f3e067a16315056765d4453c.jpg  \n",
            "  inflating: ./butterfly-spider/butterfly-spider/train/images/ea36b40e28f7013ed1584d05fb1d4e9fe777ead218ac104497f5c97faee9bdba_640_jpg.rf.0d8c5550d647d0127fe4d5b8c0165b79.jpg  \n",
            "  inflating: ./butterfly-spider/butterfly-spider/train/images/ea36b40e28f7013ed1584d05fb1d4e9fe777ead218ac104497f5c97faee9bdba_640_jpg.rf.4d6b22c1b8f1592493503bfc46adfb47.jpg  \n",
            "  inflating: ./butterfly-spider/butterfly-spider/train/images/ea36b40e28f7013ed1584d05fb1d4e9fe777ead218ac104497f5c97faee9bdba_640_jpg.rf.c466bfd0d157798331786f771d9e0b9f.jpg  \n",
            "  inflating: ./butterfly-spider/butterfly-spider/train/images/ea36b40e2efc043ed1584d05fb1d4e9fe777ead218ac104497f5c97faee8b1b8_640_jpg.rf.0cb3e6a1b740c6cc409b858c11876a2d.jpg  \n",
            "  inflating: ./butterfly-spider/butterfly-spider/train/images/ea36b40e2efc043ed1584d05fb1d4e9fe777ead218ac104497f5c97faee8b1b8_640_jpg.rf.2ae5ecccecc2e893e9037c9aacb8c15c.jpg  \n",
            "  inflating: ./butterfly-spider/butterfly-spider/train/images/ea36b40e2efc043ed1584d05fb1d4e9fe777ead218ac104497f5c97faee8b1b8_640_jpg.rf.899f62c2322c10e30c27d8ab9e034b3d.jpg  \n",
            "  inflating: ./butterfly-spider/butterfly-spider/train/images/ea36b40f2af4093ed1584d05fb1d4e9fe777ead218ac104497f5c97faeebb5bb_640_jpg.rf.6c9d0653b45f9b45c71151184862fab6.jpg  \n",
            "  inflating: ./butterfly-spider/butterfly-spider/train/images/ea36b40f2af4093ed1584d05fb1d4e9fe777ead218ac104497f5c97faeebb5bb_640_jpg.rf.d18fec4700054cc6c4a199c3b580352a.jpg  \n",
            "  inflating: ./butterfly-spider/butterfly-spider/train/images/ea36b40f2af4093ed1584d05fb1d4e9fe777ead218ac104497f5c97faeebb5bb_640_jpg.rf.e2ee90359a17e9a249cb0841b55c3d99.jpg  \n",
            "  inflating: ./butterfly-spider/butterfly-spider/train/images/ea36b5072ff3083ed1584d05fb1d4e9fe777ead218ac104497f5c97ca5edb3bd_640_jpg.rf.0ac7f32b2fab5113e6e1b90c3508d870.jpg  \n",
            "  inflating: ./butterfly-spider/butterfly-spider/train/images/ea36b5072ff3083ed1584d05fb1d4e9fe777ead218ac104497f5c97ca5edb3bd_640_jpg.rf.511c55df5eb82f612467e5c5367f2b3c.jpg  \n",
            "  inflating: ./butterfly-spider/butterfly-spider/train/images/ea36b5072ff3083ed1584d05fb1d4e9fe777ead218ac104497f5c97ca5edb3bd_640_jpg.rf.61a1a1a51a4edd08c0e7a92bb1e96543.jpg  \n",
            "  inflating: ./butterfly-spider/butterfly-spider/train/images/ea36b50828fd013ed1584d05fb1d4e9fe777ead218ac104497f5c97faee9bdba_640_jpg.rf.28474efda272248c3739dd86bdcc1ba2.jpg  \n",
            "  inflating: ./butterfly-spider/butterfly-spider/train/images/ea36b50828fd013ed1584d05fb1d4e9fe777ead218ac104497f5c97faee9bdba_640_jpg.rf.c4cf4af4e18140277dcf740dbd84e385.jpg  \n",
            "  inflating: ./butterfly-spider/butterfly-spider/train/images/ea36b50828fd013ed1584d05fb1d4e9fe777ead218ac104497f5c97faee9bdba_640_jpg.rf.dfdf23fe9c23a1a957f7e7311f727c4c.jpg  \n",
            "  inflating: ./butterfly-spider/butterfly-spider/train/images/ea36b5082cf5033ed1584d05fb1d4e9fe777ead218ac104497f5c97ca5edb3bd_640_jpg.rf.bedd40365c449782d52089c6aec05c8e.jpg  \n",
            "  inflating: ./butterfly-spider/butterfly-spider/train/images/ea36b5082cf5033ed1584d05fb1d4e9fe777ead218ac104497f5c97ca5edb3bd_640_jpg.rf.e91a74c0461b82308eaa0338190d5a93.jpg  \n",
            "  inflating: ./butterfly-spider/butterfly-spider/train/images/ea36b5082cf5033ed1584d05fb1d4e9fe777ead218ac104497f5c97ca5edb3bd_640_jpg.rf.f083c3589199dbb9818930f1a1bb7b14.jpg  \n",
            "  inflating: ./butterfly-spider/butterfly-spider/train/images/ea36b50928fc043ed1584d05fb1d4e9fe777ead218ac104497f5c97ca5edb3bd_640_jpg.rf.1c07f4385aafc8ea7a01fa1921645963.jpg  \n",
            "  inflating: ./butterfly-spider/butterfly-spider/train/images/ea36b50928fc043ed1584d05fb1d4e9fe777ead218ac104497f5c97ca5edb3bd_640_jpg.rf.360364497a956ef4ac4960ab157a0712.jpg  \n",
            "  inflating: ./butterfly-spider/butterfly-spider/train/images/ea36b50928fc043ed1584d05fb1d4e9fe777ead218ac104497f5c97ca5edb3bd_640_jpg.rf.b8acec4d514174aa053c9ddf84a64289.jpg  \n",
            "  inflating: ./butterfly-spider/butterfly-spider/train/images/ea36b50928fc073ed1584d05fb1d4e9fe777ead218ac104497f5c97ca5edb3bd_640_jpg.rf.4b2e97ba309a800f10e77c00c25bd120.jpg  \n",
            "  inflating: ./butterfly-spider/butterfly-spider/train/images/ea36b50928fc073ed1584d05fb1d4e9fe777ead218ac104497f5c97ca5edb3bd_640_jpg.rf.8d4c47a9b15e053dfea74ffa9332594f.jpg  \n",
            "  inflating: ./butterfly-spider/butterfly-spider/train/images/ea36b50928fc073ed1584d05fb1d4e9fe777ead218ac104497f5c97ca5edb3bd_640_jpg.rf.fde78cf6f662e92afe57345ee2f4966e.jpg  \n",
            "  inflating: ./butterfly-spider/butterfly-spider/train/images/ea36b50928fc083ed1584d05fb1d4e9fe777ead218ac104497f5c97ca5edb3bd_640_jpg.rf.4674e1197566f7afd6fe431a0aeb5faf.jpg  \n",
            "  inflating: ./butterfly-spider/butterfly-spider/train/images/ea36b50928fc083ed1584d05fb1d4e9fe777ead218ac104497f5c97ca5edb3bd_640_jpg.rf.8e7e9bd5ac0a1fe81c38ca95e0676163.jpg  \n",
            "  inflating: ./butterfly-spider/butterfly-spider/train/images/ea36b50928fc083ed1584d05fb1d4e9fe777ead218ac104497f5c97ca5edb3bd_640_jpg.rf.c348b2c170308c81b9ad0833494426df.jpg  \n",
            "  inflating: ./butterfly-spider/butterfly-spider/train/images/ea36b50a2ef2033ed1584d05fb1d4e9fe777ead218ac104497f5c97faee9bdba_640_jpg.rf.0586b71f153c2393e928719fe56176e1.jpg  \n",
            "  inflating: ./butterfly-spider/butterfly-spider/train/images/ea36b50a2ef2033ed1584d05fb1d4e9fe777ead218ac104497f5c97faee9bdba_640_jpg.rf.14bc892a9adde2b13a0041915b170da5.jpg  \n",
            "  inflating: ./butterfly-spider/butterfly-spider/train/images/ea36b50a2ef2033ed1584d05fb1d4e9fe777ead218ac104497f5c97faee9bdba_640_jpg.rf.c2943da3c7445ece974339b42a2395ea.jpg  \n",
            "  inflating: ./butterfly-spider/butterfly-spider/train/images/ea36b50b2ef3013ed1584d05fb1d4e9fe777ead218ac104497f5c97faee8b1b8_640_jpg.rf.30ad27df760f821b5a31205e4ae13bda.jpg  \n",
            "  inflating: ./butterfly-spider/butterfly-spider/train/images/ea36b50b2ef3013ed1584d05fb1d4e9fe777ead218ac104497f5c97faee8b1b8_640_jpg.rf.d684b17eef3f69aedfb91afa5411ada2.jpg  \n",
            "  inflating: ./butterfly-spider/butterfly-spider/train/images/ea36b50b2ef3013ed1584d05fb1d4e9fe777ead218ac104497f5c97faee8b1b8_640_jpg.rf.d909c15b2d614ce725dd760d9cf63875.jpg  \n",
            "  inflating: ./butterfly-spider/butterfly-spider/train/images/ea36b50c2df3023ed1584d05fb1d4e9fe777ead218ac104497f5c97faee8b1b8_640_jpg.rf.1c9ee0e4d83c0d5f16cdbbd3e8f436f3.jpg  \n",
            "  inflating: ./butterfly-spider/butterfly-spider/train/images/ea36b50c2df3023ed1584d05fb1d4e9fe777ead218ac104497f5c97faee8b1b8_640_jpg.rf.606a1c88e2bfc4166b742a9fc46ab81f.jpg  \n",
            "  inflating: ./butterfly-spider/butterfly-spider/train/images/ea36b50c2df3023ed1584d05fb1d4e9fe777ead218ac104497f5c97faee8b1b8_640_jpg.rf.6b6135fe4d5d7d4d6af77f8f7b143a03.jpg  \n",
            "  inflating: ./butterfly-spider/butterfly-spider/train/images/ea36b50c2ff4053ed1584d05fb1d4e9fe777ead218ac104497f5c97faee8b1b8_640_jpg.rf.3766f8d71058a53602a5437ff474ea46.jpg  \n",
            "  inflating: ./butterfly-spider/butterfly-spider/train/images/ea36b50c2ff4053ed1584d05fb1d4e9fe777ead218ac104497f5c97faee8b1b8_640_jpg.rf.941b76f33f8bf472f84305debfda4134.jpg  \n",
            "  inflating: ./butterfly-spider/butterfly-spider/train/images/ea36b50c2ff4053ed1584d05fb1d4e9fe777ead218ac104497f5c97faee8b1b8_640_jpg.rf.f5f7a9b1919eaabfcd3fa298d368870a.jpg  \n",
            "  inflating: ./butterfly-spider/butterfly-spider/train/images/ea36b50f2cfc063ed1584d05fb1d4e9fe777ead218ac104497f5c97faee9bdba_640_png.rf.1bcb86722fd8a7b247d81ea336c2c16c.jpg  \n",
            "  inflating: ./butterfly-spider/butterfly-spider/train/images/ea36b50f2cfc063ed1584d05fb1d4e9fe777ead218ac104497f5c97faee9bdba_640_png.rf.452b1cecaddfca812a9910e690a2dbf7.jpg  \n",
            "  inflating: ./butterfly-spider/butterfly-spider/train/images/ea36b50f2cfc063ed1584d05fb1d4e9fe777ead218ac104497f5c97faee9bdba_640_png.rf.6c9e41086e23ff22c81350f4fe3f31df.jpg  \n",
            "  inflating: ./butterfly-spider/butterfly-spider/train/images/ea36b6082cf0043ed1584d05fb1d4e9fe777ead218ac104497f5c97faee9bdba_640_jpg.rf.3bc7abdbd97340de6ef0e7f1d3c9d3cb.jpg  \n",
            "  inflating: ./butterfly-spider/butterfly-spider/train/images/ea36b6082cf0043ed1584d05fb1d4e9fe777ead218ac104497f5c97faee9bdba_640_jpg.rf.8fb63ee2885ee0db0863899e1a48af34.jpg  \n",
            "  inflating: ./butterfly-spider/butterfly-spider/train/images/ea36b6082cf0043ed1584d05fb1d4e9fe777ead218ac104497f5c97faee9bdba_640_jpg.rf.bef27cb6e13d422a9d4535d8599ee677.jpg  \n",
            "  inflating: ./butterfly-spider/butterfly-spider/train/images/ea36b60b20fc063ed1584d05fb1d4e9fe777ead218ac104497f5c97faee9bdba_640_jpg.rf.24b3e5173dd0d3b67d4367fbc66a1609.jpg  \n",
            "  inflating: ./butterfly-spider/butterfly-spider/train/images/ea36b60b20fc063ed1584d05fb1d4e9fe777ead218ac104497f5c97faee9bdba_640_jpg.rf.932702f6c50413dc0a631e4eac72c306.jpg  \n",
            "  inflating: ./butterfly-spider/butterfly-spider/train/images/ea36b60b20fc063ed1584d05fb1d4e9fe777ead218ac104497f5c97faee9bdba_640_jpg.rf.e738b455419f4d7a9878fac331172129.jpg  \n",
            "  inflating: ./butterfly-spider/butterfly-spider/train/images/ea36b60b21f5033ed1584d05fb1d4e9fe777ead218ac104497f5c97faee9bdba_640_jpg.rf.21d06f70ffed53c241008ce3ebf80ad7.jpg  \n",
            "  inflating: ./butterfly-spider/butterfly-spider/train/images/ea36b60b21f5033ed1584d05fb1d4e9fe777ead218ac104497f5c97faee9bdba_640_jpg.rf.2af3a67463f4ff483a084161bb1eea70.jpg  \n",
            "  inflating: ./butterfly-spider/butterfly-spider/train/images/ea36b60b21f5033ed1584d05fb1d4e9fe777ead218ac104497f5c97faee9bdba_640_jpg.rf.c903f4d3acd0895f6ecb1b1d02d35a67.jpg  \n",
            "  inflating: ./butterfly-spider/butterfly-spider/train/images/ea36b60b21f7013ed1584d05fb1d4e9fe777ead218ac104497f5c97faee9bdba_640_jpg.rf.02c9a58343cf0143f43689300bc84d6b.jpg  \n",
            "  inflating: ./butterfly-spider/butterfly-spider/train/images/ea36b60b21f7013ed1584d05fb1d4e9fe777ead218ac104497f5c97faee9bdba_640_jpg.rf.a811cce464adee68e968783810071f69.jpg  \n",
            "  inflating: ./butterfly-spider/butterfly-spider/train/images/ea36b60b21f7013ed1584d05fb1d4e9fe777ead218ac104497f5c97faee9bdba_640_jpg.rf.e8823ddc11ce56b8f82f51a0094abf45.jpg  \n",
            "  inflating: ./butterfly-spider/butterfly-spider/train/images/ea36b60b2bf4083ed1584d05fb1d4e9fe777ead218ac104497f5c97faee9bdba_640_jpg.rf.2f462e7e6f69181c6c30f6f202b2820a.jpg  \n",
            "  inflating: ./butterfly-spider/butterfly-spider/train/images/ea36b60b2bf4083ed1584d05fb1d4e9fe777ead218ac104497f5c97faee9bdba_640_jpg.rf.9a823bd0def980299824dfe2230605f1.jpg  \n",
            "  inflating: ./butterfly-spider/butterfly-spider/train/images/ea36b60b2bf4083ed1584d05fb1d4e9fe777ead218ac104497f5c97faee9bdba_640_jpg.rf.c2ef95f1e1dec84b6451a964738737a5.jpg  \n",
            "  inflating: ./butterfly-spider/butterfly-spider/train/images/ea36b60b2ef5063ed1584d05fb1d4e9fe777ead218ac104497f5c97faee9bdba_640_jpg.rf.b585a9541c6a51c14a558a7969eb4036.jpg  \n",
            "  inflating: ./butterfly-spider/butterfly-spider/train/images/ea36b60b2ef5063ed1584d05fb1d4e9fe777ead218ac104497f5c97faee9bdba_640_jpg.rf.c54b4ee18a574a5560445ad66286040c.jpg  \n",
            "  inflating: ./butterfly-spider/butterfly-spider/train/images/ea36b60b2ef5063ed1584d05fb1d4e9fe777ead218ac104497f5c97faee9bdba_640_jpg.rf.e43b0c9cc13278cff2ab7f5d995cd685.jpg  \n",
            "  inflating: ./butterfly-spider/butterfly-spider/train/images/ea36b60c2af1043ed1584d05fb1d4e9fe777ead218ac104497f5c97faee9bdba_640_jpg.rf.7fdb9edea0c568441a7f40d36ea7bf33.jpg  \n",
            "  inflating: ./butterfly-spider/butterfly-spider/train/images/ea36b60c2af1043ed1584d05fb1d4e9fe777ead218ac104497f5c97faee9bdba_640_jpg.rf.8e7b5a6714a84a78fe028e7187bb0b6f.jpg  \n",
            "  inflating: ./butterfly-spider/butterfly-spider/train/images/ea36b60c2af1043ed1584d05fb1d4e9fe777ead218ac104497f5c97faee9bdba_640_jpg.rf.9b96d2b29a3ec0356a4431df1d9450ed.jpg  \n",
            "  inflating: ./butterfly-spider/butterfly-spider/train/images/ea36b60c2af1043ed1584d05fb1d4e9fe777ead218ac104497f5c97faee9bdba_640_jpg.rf.9cf7369c62db5e54a725e3cc7152e5b3.jpg  \n",
            "  inflating: ./butterfly-spider/butterfly-spider/train/images/ea36b60c2af1043ed1584d05fb1d4e9fe777ead218ac104497f5c97faee9bdba_640_jpg.rf.b1a307d3a1054d2c3d55b240c6ad1c56.jpg  \n",
            "  inflating: ./butterfly-spider/butterfly-spider/train/images/ea36b60c2af1043ed1584d05fb1d4e9fe777ead218ac104497f5c97faee9bdba_640_jpg.rf.e33eb6901e68cc88cb6bd13936d5f0a8.jpg  \n",
            "  inflating: ./butterfly-spider/butterfly-spider/train/images/ea36b60d2df7073ed1584d05fb1d4e9fe777ead218ac104497f5c97faee9bdba_640_jpg.rf.3933d9fcb9a4254a88883f29e44e181b.jpg  \n",
            "  inflating: ./butterfly-spider/butterfly-spider/train/images/ea36b60d2df7073ed1584d05fb1d4e9fe777ead218ac104497f5c97faee9bdba_640_jpg.rf.b1326724f40aaeb0f71caf859fa785a4.jpg  \n",
            "  inflating: ./butterfly-spider/butterfly-spider/train/images/ea36b60d2df7073ed1584d05fb1d4e9fe777ead218ac104497f5c97faee9bdba_640_jpg.rf.ef5c18be067a8afff3a404aff4732533.jpg  \n",
            "  inflating: ./butterfly-spider/butterfly-spider/train/images/ea36b60e2dfc033ed1584d05fb1d4e9fe777ead218ac104497f5c97faee9bdba_640_jpg.rf.83869e3a7d78ff9f5eccaea62841902f.jpg  \n",
            "  inflating: ./butterfly-spider/butterfly-spider/train/images/ea36b60e2dfc033ed1584d05fb1d4e9fe777ead218ac104497f5c97faee9bdba_640_jpg.rf.83f60f1f25bd412ac2c02ce72ce9af21.jpg  \n",
            "  inflating: ./butterfly-spider/butterfly-spider/train/images/ea36b60e2dfc033ed1584d05fb1d4e9fe777ead218ac104497f5c97faee9bdba_640_jpg.rf.c0b112fa3f74f32c42d2b2996a072f83.jpg  \n",
            "  inflating: ./butterfly-spider/butterfly-spider/train/images/ea36b60e2ef4033ed1584d05fb1d4e9fe777ead218ac104497f5c97faee9bdba_640_jpg.rf.0927e86f73f160a35c15cab0221c7d1e.jpg  \n",
            "  inflating: ./butterfly-spider/butterfly-spider/train/images/ea36b60e2ef4033ed1584d05fb1d4e9fe777ead218ac104497f5c97faee9bdba_640_jpg.rf.24b19f1858cd560d657e05ce157ae9ae.jpg  \n",
            "  inflating: ./butterfly-spider/butterfly-spider/train/images/ea36b60e2ef4033ed1584d05fb1d4e9fe777ead218ac104497f5c97faee9bdba_640_jpg.rf.dfe681405cc0a19cb4bc9e49ccb6fa4d.jpg  \n",
            "  inflating: ./butterfly-spider/butterfly-spider/train/images/ea36b60e2ef5003ed1584d05fb1d4e9fe777ead218ac104497f5c97faee9bdba_640_jpg.rf.79a1c5ee723ac48470ddac91713e53b3.jpg  \n",
            "  inflating: ./butterfly-spider/butterfly-spider/train/images/ea36b60e2ef5003ed1584d05fb1d4e9fe777ead218ac104497f5c97faee9bdba_640_jpg.rf.928ab9a43ee629b9242b14646ac05d08.jpg  \n",
            "  inflating: ./butterfly-spider/butterfly-spider/train/images/ea36b60e2ef5003ed1584d05fb1d4e9fe777ead218ac104497f5c97faee9bdba_640_jpg.rf.f0d33dbf9729965328a90ecacea9c790.jpg  \n",
            "  inflating: ./butterfly-spider/butterfly-spider/train/images/ea36b60f21f7003ed1584d05fb1d4e9fe777ead218ac104497f5c97ca5edb3bd_640_jpg.rf.32647615457786205321f73abb43b02c.jpg  \n",
            "  inflating: ./butterfly-spider/butterfly-spider/train/images/ea36b60f21f7003ed1584d05fb1d4e9fe777ead218ac104497f5c97ca5edb3bd_640_jpg.rf.4f0ac31685c04cde38430672fa9c3aaa.jpg  \n",
            "  inflating: ./butterfly-spider/butterfly-spider/train/images/ea36b60f21f7003ed1584d05fb1d4e9fe777ead218ac104497f5c97ca5edb3bd_640_jpg.rf.8b26741cf393beefa773e399fc84551f.jpg  \n",
            "  inflating: ./butterfly-spider/butterfly-spider/train/images/ea36b60f2af4013ed1584d05fb1d4e9fe777ead218ac104497f5c97faee9bdba_640_jpg.rf.1676619c5dc528e5f90f61b1865a1218.jpg  \n",
            "  inflating: ./butterfly-spider/butterfly-spider/train/images/ea36b60f2af4013ed1584d05fb1d4e9fe777ead218ac104497f5c97faee9bdba_640_jpg.rf.39dd81ae965a607c693d694489f74281.jpg  \n",
            "  inflating: ./butterfly-spider/butterfly-spider/train/images/ea36b60f2af4013ed1584d05fb1d4e9fe777ead218ac104497f5c97faee9bdba_640_jpg.rf.a02af2a84777a1be192ca2f3633bcc06.jpg  \n",
            "  inflating: ./butterfly-spider/butterfly-spider/train/images/ea36b7062cf3073ed1584d05fb1d4e9fe777ead218ac104497f5c97faee9bdba_640_jpg.rf.901728aa63064131695a9c164b472359.jpg  \n",
            "  inflating: ./butterfly-spider/butterfly-spider/train/images/ea36b7062cf3073ed1584d05fb1d4e9fe777ead218ac104497f5c97faee9bdba_640_jpg.rf.c87385032e8d88dac3f064b34bd94014.jpg  \n",
            "  inflating: ./butterfly-spider/butterfly-spider/train/images/ea36b7062cf3073ed1584d05fb1d4e9fe777ead218ac104497f5c97faee9bdba_640_jpg.rf.f9d0406ca8ede6f86285663649eeeb57.jpg  \n",
            "  inflating: ./butterfly-spider/butterfly-spider/train/images/ea36b7062cfc023ed1584d05fb1d4e9fe777ead218ac104497f5c97faee9bdba_640_jpg.rf.1f35f5d06cf0cb6f1dab66a798e7b25b.jpg  \n",
            "  inflating: ./butterfly-spider/butterfly-spider/train/images/ea36b7062cfc023ed1584d05fb1d4e9fe777ead218ac104497f5c97faee9bdba_640_jpg.rf.8834b7f3cac770a26b1e1bd3c9644296.jpg  \n",
            "  inflating: ./butterfly-spider/butterfly-spider/train/images/ea36b7062cfc023ed1584d05fb1d4e9fe777ead218ac104497f5c97faee9bdba_640_jpg.rf.f986061303740d6e43ea5548d21ed5f6.jpg  \n",
            "  inflating: ./butterfly-spider/butterfly-spider/train/images/ea36b7072ff0013ed1584d05fb1d4e9fe777ead218ac104497f5c97faee9bdba_640_jpg.rf.2cf914a8f0a7093e608bf59f3c3a238c.jpg  \n",
            "  inflating: ./butterfly-spider/butterfly-spider/train/images/ea36b7072ff0013ed1584d05fb1d4e9fe777ead218ac104497f5c97faee9bdba_640_jpg.rf.364197e20d2b1270b35edac4e771ffbc.jpg  \n",
            "  inflating: ./butterfly-spider/butterfly-spider/train/images/ea36b7072ff0013ed1584d05fb1d4e9fe777ead218ac104497f5c97faee9bdba_640_jpg.rf.de0b8ff1a5c26e8175fd682b901c9750.jpg  \n",
            "  inflating: ./butterfly-spider/butterfly-spider/train/images/ea36b7092af5073ed1584d05fb1d4e9fe777ead218ac104497f5c97ca5edb3bd_640_jpg.rf.13e1e13e9af089ab0fc1eeae1a3729b3.jpg  \n",
            "  inflating: ./butterfly-spider/butterfly-spider/train/images/ea36b7092af5073ed1584d05fb1d4e9fe777ead218ac104497f5c97ca5edb3bd_640_jpg.rf.1ef0fecf94aa5a15f9349878b1070340.jpg  \n",
            "  inflating: ./butterfly-spider/butterfly-spider/train/images/ea36b7092af5073ed1584d05fb1d4e9fe777ead218ac104497f5c97ca5edb3bd_640_jpg.rf.e37e7e7500f97b2b28fb181ff140ae74.jpg  \n",
            "  inflating: ./butterfly-spider/butterfly-spider/train/images/ea36b70c2ef5083ed1584d05fb1d4e9fe777ead218ac104497f5c97faee9bdba_640_jpg.rf.41e5dfdb5c3b40763f40cbeec2c59b31.jpg  \n",
            "  inflating: ./butterfly-spider/butterfly-spider/train/images/ea36b70c2ef5083ed1584d05fb1d4e9fe777ead218ac104497f5c97faee9bdba_640_jpg.rf.4933ced33b090701e5a4d95c8e40aaf2.jpg  \n",
            "  inflating: ./butterfly-spider/butterfly-spider/train/images/ea36b70c2ef5083ed1584d05fb1d4e9fe777ead218ac104497f5c97faee9bdba_640_jpg.rf.7c1b23981fcc2c0df07d8fd81513581d.jpg  \n",
            "  inflating: ./butterfly-spider/butterfly-spider/train/images/ea36b70d2efd063ed1584d05fb1d4e9fe777ead218ac104497f5c97faee9bdba_640_jpg.rf.442d56e3a4628d2948cf3da057485ecd.jpg  \n",
            "  inflating: ./butterfly-spider/butterfly-spider/train/images/ea36b70d2efd063ed1584d05fb1d4e9fe777ead218ac104497f5c97faee9bdba_640_jpg.rf.b7414523fef6f3a5d497e178bcdb81d1.jpg  \n",
            "  inflating: ./butterfly-spider/butterfly-spider/train/images/ea36b70f2bf1093ed1584d05fb1d4e9fe777ead218ac104497f5c97ca5edb3bd_640_jpg.rf.37b2fbe859e58a814906082739baa58e.jpg  \n",
            "  inflating: ./butterfly-spider/butterfly-spider/train/images/ea36b70f2bf1093ed1584d05fb1d4e9fe777ead218ac104497f5c97ca5edb3bd_640_jpg.rf.904270064ed6ef2d3f6a98bbb501c018.jpg  \n",
            "  inflating: ./butterfly-spider/butterfly-spider/train/images/ea36b70f2bf1093ed1584d05fb1d4e9fe777ead218ac104497f5c97ca5edb3bd_640_jpg.rf.9580bd7f42b63763d407c24b85c92939.jpg  \n",
            "  inflating: ./butterfly-spider/butterfly-spider/train/images/ea36b90d2ef7043ed1584d05fb1d4e9fe777ead218ac104497f5c97ca5edb3bd_640_jpg.rf.0a6a0dea1e269575e410ac47e9c7effa.jpg  \n",
            "  inflating: ./butterfly-spider/butterfly-spider/train/images/ea36b90d2ef7043ed1584d05fb1d4e9fe777ead218ac104497f5c97ca5edb3bd_640_jpg.rf.2c495246bf8afc779db871e540b15e20.jpg  \n",
            "  inflating: ./butterfly-spider/butterfly-spider/train/images/ea36b90d2ef7043ed1584d05fb1d4e9fe777ead218ac104497f5c97ca5edb3bd_640_jpg.rf.83c074cb8f0ca023a49c88e2d6070113.jpg  \n",
            "  inflating: ./butterfly-spider/butterfly-spider/train/images/ea37b0072df0083ed1584d05fb1d4e9fe777ead218ac104497f5c97faeebb5bb_640_jpg.rf.1c858d1e10bbbb005697b06954f17fb6.jpg  \n",
            "  inflating: ./butterfly-spider/butterfly-spider/train/images/ea37b0072df0083ed1584d05fb1d4e9fe777ead218ac104497f5c97faeebb5bb_640_jpg.rf.bb1425009d02ec05f2177ff18ea2c4a1.jpg  \n",
            "  inflating: ./butterfly-spider/butterfly-spider/train/images/ea37b0072df0083ed1584d05fb1d4e9fe777ead218ac104497f5c97faeebb5bb_640_jpg.rf.bbf2688d9872a5b8b549ee0509accabe.jpg  \n",
            "  inflating: ./butterfly-spider/butterfly-spider/train/images/ea37b0082bf6083ed1584d05fb1d4e9fe777ead218ac104497f5c97faee9bdba_640_jpg.rf.532a722d13ae8d46573c2a4ef63e076a.jpg  \n",
            "  inflating: ./butterfly-spider/butterfly-spider/train/images/ea37b0082bf6083ed1584d05fb1d4e9fe777ead218ac104497f5c97faee9bdba_640_jpg.rf.a9711bfa6b350f720a243fe988ef1e27.jpg  \n",
            "  inflating: ./butterfly-spider/butterfly-spider/train/images/ea37b0082bf6083ed1584d05fb1d4e9fe777ead218ac104497f5c97faee9bdba_640_jpg.rf.c5bb8f340b7b2ab7194eebe9046c6c6b.jpg  \n",
            "  inflating: ./butterfly-spider/butterfly-spider/train/images/ea37b00921f3043ed1584d05fb1d4e9fe777ead218ac104497f5c97ca5edb3bd_640_jpg.rf.3ecba23ee90cb7255140aad250387df3.jpg  \n",
            "  inflating: ./butterfly-spider/butterfly-spider/train/images/ea37b00921f3043ed1584d05fb1d4e9fe777ead218ac104497f5c97ca5edb3bd_640_jpg.rf.537302f33b3082b43338e31fe80573c4.jpg  \n",
            "  inflating: ./butterfly-spider/butterfly-spider/train/images/ea37b00921f3043ed1584d05fb1d4e9fe777ead218ac104497f5c97ca5edb3bd_640_jpg.rf.cb684e436bf245a513568cf3e59a05e3.jpg  \n",
            "  inflating: ./butterfly-spider/butterfly-spider/train/images/ea37b00a2ef7093ed1584d05fb1d4e9fe777ead218ac104497f5c97ca5edb3bd_640_jpg.rf.42824ac6db5e3f9d0a10000309ed81ef.jpg  \n",
            "  inflating: ./butterfly-spider/butterfly-spider/train/images/ea37b00a2ef7093ed1584d05fb1d4e9fe777ead218ac104497f5c97ca5edb3bd_640_jpg.rf.a267145d85ff5136f9f571db79e4efc0.jpg  \n",
            "  inflating: ./butterfly-spider/butterfly-spider/train/images/ea37b10a20f0043ed1584d05fb1d4e9fe777ead218ac104497f5c97ca5edb3bd_640_jpg.rf.01aae3a5700aca6dc2afa7fcc662de53.jpg  \n",
            "  inflating: ./butterfly-spider/butterfly-spider/train/images/ea37b10a20f0043ed1584d05fb1d4e9fe777ead218ac104497f5c97ca5edb3bd_640_jpg.rf.a81439c5e5dd15e0929693d39db3051e.jpg  \n",
            "  inflating: ./butterfly-spider/butterfly-spider/train/images/ea37b10a20f0043ed1584d05fb1d4e9fe777ead218ac104497f5c97ca5edb3bd_640_jpg.rf.c8d573b64edfe537d532edad9955bfe3.jpg  \n",
            "  inflating: ./butterfly-spider/butterfly-spider/train/images/ea37b10a2cfd023ed1584d05fb1d4e9fe777ead218ac104497f5c97faeebb5bb_640_jpg.rf.981c641dd35c3700505ec5964477d69a.jpg  \n",
            "  inflating: ./butterfly-spider/butterfly-spider/train/images/ea37b10a2cfd023ed1584d05fb1d4e9fe777ead218ac104497f5c97faeebb5bb_640_jpg.rf.a75eebdef764ceea121f056581ffd074.jpg  \n",
            "  inflating: ./butterfly-spider/butterfly-spider/train/images/ea37b10a2cfd023ed1584d05fb1d4e9fe777ead218ac104497f5c97faeebb5bb_640_jpg.rf.c524d763e01c6cd3d991289c72646ea7.jpg  \n",
            "  inflating: ./butterfly-spider/butterfly-spider/train/images/ea37b10e21f2013ed1584d05fb1d4e9fe777ead218ac104497f5c97ca5ecb5b1_640_jpg.rf.5cac21a5b5a2e77a1a1ecfad7f2b3ab5.jpg  \n",
            "  inflating: ./butterfly-spider/butterfly-spider/train/images/ea37b10e21f2013ed1584d05fb1d4e9fe777ead218ac104497f5c97ca5ecb5b1_640_jpg.rf.7cf446f4de31c48e0b692aa2b4e14e4f.jpg  \n",
            "  inflating: ./butterfly-spider/butterfly-spider/train/images/ea37b10e21f2013ed1584d05fb1d4e9fe777ead218ac104497f5c97ca5ecb5b1_640_jpg.rf.cb76f58c3406e83d407182dc6f1b4e50.jpg  \n",
            "  inflating: ./butterfly-spider/butterfly-spider/train/images/ea37b10e21fd003ed1584d05fb1d4e9fe777ead218ac104497f5c97faeebb5bb_640_jpg.rf.5aacc7f3dc43161537b8acb7c1f95032.jpg  \n",
            "  inflating: ./butterfly-spider/butterfly-spider/train/images/ea37b10e21fd003ed1584d05fb1d4e9fe777ead218ac104497f5c97faeebb5bb_640_jpg.rf.8669fd592ce842eb761681e3229af241.jpg  \n",
            "  inflating: ./butterfly-spider/butterfly-spider/train/images/ea37b10e21fd003ed1584d05fb1d4e9fe777ead218ac104497f5c97faeebb5bb_640_jpg.rf.922f21545a0e8585310d8654610dfdb1.jpg  \n",
            "  inflating: ./butterfly-spider/butterfly-spider/train/images/ea37b20728f5023ed1584d05fb1d4e9fe777ead218ac104497f5c97faee9bdba_640_jpg.rf.3169855246f8b05dc3ac0f5ab0e20d11.jpg  \n",
            "  inflating: ./butterfly-spider/butterfly-spider/train/images/ea37b20728f5023ed1584d05fb1d4e9fe777ead218ac104497f5c97faee9bdba_640_jpg.rf.4d82d2d5526a85e6025ae08168685f25.jpg  \n",
            "  inflating: ./butterfly-spider/butterfly-spider/train/images/ea37b20728f5023ed1584d05fb1d4e9fe777ead218ac104497f5c97faee9bdba_640_jpg.rf.5467958d20e52d4024d6fceae6c6cef9.jpg  \n",
            "  inflating: ./butterfly-spider/butterfly-spider/train/images/ea37b2072bf6083ed1584d05fb1d4e9fe777ead218ac104497f5c97faeebb5bb_640_jpg.rf.8bd47b378a8b4b1490f63294954a3625.jpg  \n",
            "  inflating: ./butterfly-spider/butterfly-spider/train/images/ea37b2072bf6083ed1584d05fb1d4e9fe777ead218ac104497f5c97faeebb5bb_640_jpg.rf.d07fca0b92f96e82c79af1fe09fdbb50.jpg  \n",
            "  inflating: ./butterfly-spider/butterfly-spider/train/images/ea37b2072bf6083ed1584d05fb1d4e9fe777ead218ac104497f5c97faeebb5bb_640_jpg.rf.f94595b9cfb65b20988f34f830a69bae.jpg  \n",
            "  inflating: ./butterfly-spider/butterfly-spider/train/images/ea37b20820f7013ed1584d05fb1d4e9fe777ead218ac104497f5c97faee8b1b8_640_jpg.rf.426d157902440cae1656566449dad15d.jpg  \n",
            "  inflating: ./butterfly-spider/butterfly-spider/train/images/ea37b20820f7013ed1584d05fb1d4e9fe777ead218ac104497f5c97faee8b1b8_640_jpg.rf.751dd6ed9dd9fddca22a33b14744a50f.jpg  \n",
            "  inflating: ./butterfly-spider/butterfly-spider/train/images/ea37b20820f7013ed1584d05fb1d4e9fe777ead218ac104497f5c97faee8b1b8_640_jpg.rf.cf942c0684b3d94e00789b616c4ff575.jpg  \n",
            "  inflating: ./butterfly-spider/butterfly-spider/train/images/ea37b20a20f3013ed1584d05fb1d4e9fe777ead218ac104497f5c97ca5edb3bd_640_jpg.rf.8784134d803c8bf2b0c33a815659f716.jpg  \n",
            "  inflating: ./butterfly-spider/butterfly-spider/train/images/ea37b20a20f3013ed1584d05fb1d4e9fe777ead218ac104497f5c97ca5edb3bd_640_jpg.rf.a9acf3c1a2ec26cefb98358b67ccd8f0.jpg  \n",
            "  inflating: ./butterfly-spider/butterfly-spider/train/images/ea37b20a20f3013ed1584d05fb1d4e9fe777ead218ac104497f5c97ca5edb3bd_640_jpg.rf.ae0265f9535be3e5c518c4b09df2cf9d.jpg  \n",
            "  inflating: ./butterfly-spider/butterfly-spider/train/images/ea37b20d2bfc063ed1584d05fb1d4e9fe777ead218ac104497f5c97faee8b1b8_640_jpg.rf.88d5a741993d6acdd525d0d95d5c27ce.jpg  \n",
            "  inflating: ./butterfly-spider/butterfly-spider/train/images/ea37b20d2bfc063ed1584d05fb1d4e9fe777ead218ac104497f5c97faee8b1b8_640_jpg.rf.f2292115e99edd91ab95aeed82f04c54.jpg  \n",
            "  inflating: ./butterfly-spider/butterfly-spider/train/images/ea37b20d2bfc063ed1584d05fb1d4e9fe777ead218ac104497f5c97faee8b1b8_640_jpg.rf.f2b9e5d17950c807511f8e16187181df.jpg  \n",
            "  inflating: ./butterfly-spider/butterfly-spider/train/images/ea37b20d2cf5063ed1584d05fb1d4e9fe777ead218ac104497f5c97faee9bdba_640_jpg.rf.02d975bd31d7d9fa7ae0bcb04cffb211.jpg  \n",
            "  inflating: ./butterfly-spider/butterfly-spider/train/images/ea37b20d2cf5063ed1584d05fb1d4e9fe777ead218ac104497f5c97faee9bdba_640_jpg.rf.37bc55999461f70c740b85222cfa0abb.jpg  \n",
            "  inflating: ./butterfly-spider/butterfly-spider/train/images/ea37b20d2cf5063ed1584d05fb1d4e9fe777ead218ac104497f5c97faee9bdba_640_jpg.rf.b82d77281e9bafb4b4b9648dd937252c.jpg  \n",
            "  inflating: ./butterfly-spider/butterfly-spider/train/images/ea37b30929f6093ed1584d05fb1d4e9fe777ead218ac104497f5c97faee9bdba_640_jpg.rf.35707ad83aa65f3978b083639323eed3.jpg  \n",
            "  inflating: ./butterfly-spider/butterfly-spider/train/images/ea37b30929f6093ed1584d05fb1d4e9fe777ead218ac104497f5c97faee9bdba_640_jpg.rf.e674724479107943887d244b342d8337.jpg  \n",
            "  inflating: ./butterfly-spider/butterfly-spider/train/images/ea37b30929f6093ed1584d05fb1d4e9fe777ead218ac104497f5c97faee9bdba_640_jpg.rf.fa4a79d2895c7e655c063f64f8ef2d1b.jpg  \n",
            "  inflating: ./butterfly-spider/butterfly-spider/train/images/ea37b30b2af4073ed1584d05fb1d4e9fe777ead218ac104497f5c97faee9bdba_640_jpg.rf.4132072a17af67d79351f720e6774133.jpg  \n",
            "  inflating: ./butterfly-spider/butterfly-spider/train/images/ea37b30b2af4073ed1584d05fb1d4e9fe777ead218ac104497f5c97faee9bdba_640_jpg.rf.642fb5904cb46a89ce8692421bb0e50c.jpg  \n",
            "  inflating: ./butterfly-spider/butterfly-spider/train/images/ea37b30b2af4073ed1584d05fb1d4e9fe777ead218ac104497f5c97faee9bdba_640_jpg.rf.89df04c6cfe8b4afc3a28f314a296a06.jpg  \n",
            "  inflating: ./butterfly-spider/butterfly-spider/train/images/ea37b40b29fd063ed1584d05fb1d4e9fe777ead218ac104497f5c97ca5edb3bd_640_jpg.rf.226176e79b8a692819705d5b92902de4.jpg  \n",
            "  inflating: ./butterfly-spider/butterfly-spider/train/images/ea37b40b29fd063ed1584d05fb1d4e9fe777ead218ac104497f5c97ca5edb3bd_640_jpg.rf.b1fa3d776088aeefe3b5574bd28028fb.jpg  \n",
            "  inflating: ./butterfly-spider/butterfly-spider/train/images/ea37b40b29fd063ed1584d05fb1d4e9fe777ead218ac104497f5c97ca5edb3bd_640_jpg.rf.ee1325efc2f4187339ea3d5951a9b922.jpg  \n",
            "  inflating: ./butterfly-spider/butterfly-spider/train/images/ea37b40d2bfd073ed1584d05fb1d4e9fe777ead218ac104497f5c97faeebb5bb_640_jpg.rf.1e04eac2e859aedbd7e38565b6f55338.jpg  \n",
            "  inflating: ./butterfly-spider/butterfly-spider/train/images/ea37b40d2bfd073ed1584d05fb1d4e9fe777ead218ac104497f5c97faeebb5bb_640_jpg.rf.314c17cf1c6e2aaddf0b9de7a7d87821.jpg  \n",
            "  inflating: ./butterfly-spider/butterfly-spider/train/images/ea37b40d2bfd073ed1584d05fb1d4e9fe777ead218ac104497f5c97faeebb5bb_640_jpg.rf.a32579470d07cd44ebfd8d593b4bb656.jpg  \n",
            "  inflating: ./butterfly-spider/butterfly-spider/train/images/ea37b40f2ff2033ed1584d05fb1d4e9fe777ead218ac104497f5c97ca5edb3bd_640_jpg.rf.02c1fe91336bc2bf6c39e910d7bb3c77.jpg  \n",
            "  inflating: ./butterfly-spider/butterfly-spider/train/images/ea37b40f2ff2033ed1584d05fb1d4e9fe777ead218ac104497f5c97ca5edb3bd_640_jpg.rf.85c4cfa93d96c9dce3f3a53dcd755063.jpg  \n",
            "  inflating: ./butterfly-spider/butterfly-spider/train/images/ea37b40f2ff2033ed1584d05fb1d4e9fe777ead218ac104497f5c97ca5edb3bd_640_jpg.rf.bfe16cf558a79eaeaabc1e8b97e0b363.jpg  \n",
            "  inflating: ./butterfly-spider/butterfly-spider/train/images/ea37b50628f1023ed1584d05fb1d4e9fe777ead218ac104497f5c97faee8b1b8_640_jpg.rf.8e0cde2ce132f916288dd9dbf21dc004.jpg  \n",
            "  inflating: ./butterfly-spider/butterfly-spider/train/images/ea37b50628f1023ed1584d05fb1d4e9fe777ead218ac104497f5c97faee8b1b8_640_jpg.rf.b34429bd857a21d0aa67da8d79efe725.jpg  \n",
            "  inflating: ./butterfly-spider/butterfly-spider/train/images/ea37b50628f1023ed1584d05fb1d4e9fe777ead218ac104497f5c97faee8b1b8_640_jpg.rf.d72b25cbf0281f2060aa1e8cb2ea26b9.jpg  \n",
            "  inflating: ./butterfly-spider/butterfly-spider/train/images/ea37b5062ff0003ed1584d05fb1d4e9fe777ead218ac104497f5c97ca5ecb5b1_640_jpg.rf.485ecf430bd3d923939d75a16472e472.jpg  \n",
            "  inflating: ./butterfly-spider/butterfly-spider/train/images/ea37b5062ff0003ed1584d05fb1d4e9fe777ead218ac104497f5c97ca5ecb5b1_640_jpg.rf.754bec3a97c75e1c1699c805a73a642a.jpg  \n",
            "  inflating: ./butterfly-spider/butterfly-spider/train/images/ea37b5062ff0003ed1584d05fb1d4e9fe777ead218ac104497f5c97ca5ecb5b1_640_jpg.rf.87268ab7dfe4a523e8fc45af7cfa8924.jpg  \n",
            "  inflating: ./butterfly-spider/butterfly-spider/train/images/ea37b5072dfc053ed1584d05fb1d4e9fe777ead218ac104497f5c97ca5ecb5b1_640_jpg.rf.59b8249b0dfa20ce21117d253811a932.jpg  \n",
            "  inflating: ./butterfly-spider/butterfly-spider/train/images/ea37b5072dfc053ed1584d05fb1d4e9fe777ead218ac104497f5c97ca5ecb5b1_640_jpg.rf.708a1f24d40f5c76e499f61b9e89af24.jpg  \n",
            "  inflating: ./butterfly-spider/butterfly-spider/train/images/ea37b5072dfc053ed1584d05fb1d4e9fe777ead218ac104497f5c97ca5ecb5b1_640_jpg.rf.d745fe5d602a551c21068a7fd9081b75.jpg  \n",
            "  inflating: ./butterfly-spider/butterfly-spider/train/images/ea37b50d2bf0063ed1584d05fb1d4e9fe777ead218ac104497f5c97faee9bdba_640_jpg.rf.135e419cd94de548109d4cf3f57d6ac4.jpg  \n",
            "  inflating: ./butterfly-spider/butterfly-spider/train/images/ea37b50d2bf0063ed1584d05fb1d4e9fe777ead218ac104497f5c97faee9bdba_640_jpg.rf.d17189fc7d92e7819993d091974b082a.jpg  \n",
            "  inflating: ./butterfly-spider/butterfly-spider/train/images/ea37b50d2bf0063ed1584d05fb1d4e9fe777ead218ac104497f5c97faee9bdba_640_jpg.rf.ed093c34ae04deaa51465f1dc94e546c.jpg  \n",
            "  inflating: ./butterfly-spider/butterfly-spider/train/images/ea37b60b2af4053ed1584d05fb1d4e9fe777ead218ac104497f5c97faee9bdba_640_jpg.rf.89754e2e669feb6df810a4d883f88417.jpg  \n",
            "  inflating: ./butterfly-spider/butterfly-spider/train/images/ea37b60b2af4053ed1584d05fb1d4e9fe777ead218ac104497f5c97faee9bdba_640_jpg.rf.8a079374ff8e2837db1b717e464c0f3a.jpg  \n",
            "  inflating: ./butterfly-spider/butterfly-spider/train/images/ea37b60b2af4053ed1584d05fb1d4e9fe777ead218ac104497f5c97faee9bdba_640_jpg.rf.8ce852bca38c0946c2ec1c87ede7e26e.jpg  \n",
            "  inflating: ./butterfly-spider/butterfly-spider/train/images/ea37b60b2bf0083ed1584d05fb1d4e9fe777ead218ac104497f5c97faee9bdba_640_jpg.rf.3ff952df466e282f9c99dc863897b522.jpg  \n",
            "  inflating: ./butterfly-spider/butterfly-spider/train/images/ea37b60b2bf0083ed1584d05fb1d4e9fe777ead218ac104497f5c97faee9bdba_640_jpg.rf.cb9585bc6eb4d771603753c486335546.jpg  \n",
            "  inflating: ./butterfly-spider/butterfly-spider/train/images/ea37b60b2bf0083ed1584d05fb1d4e9fe777ead218ac104497f5c97faee9bdba_640_jpg.rf.ce280aa3a3a956ae0da2cf337ff4a863.jpg  \n",
            "  inflating: ./butterfly-spider/butterfly-spider/train/images/ea37b60f29f7013ed1584d05fb1d4e9fe777ead218ac104497f5c97faee9bdba_640_jpg.rf.2048650fce49ae50d993b729fe112d1f.jpg  \n",
            "  inflating: ./butterfly-spider/butterfly-spider/train/images/ea37b60f29f7013ed1584d05fb1d4e9fe777ead218ac104497f5c97faee9bdba_640_jpg.rf.4cc365d26851ae8e9fbe3d62649f0557.jpg  \n",
            "  inflating: ./butterfly-spider/butterfly-spider/train/images/ea37b60f29f7013ed1584d05fb1d4e9fe777ead218ac104497f5c97faee9bdba_640_jpg.rf.81af28062354219f4219cd302f8ad3df.jpg  \n",
            "  inflating: ./butterfly-spider/butterfly-spider/train/images/ea37b60f2ef2083ed1584d05fb1d4e9fe777ead218ac104497f5c97faee8b1b8_640_jpg.rf.545984cd9787ee15564451fc248925f7.jpg  \n",
            "  inflating: ./butterfly-spider/butterfly-spider/train/images/ea37b60f2ef2083ed1584d05fb1d4e9fe777ead218ac104497f5c97faee8b1b8_640_jpg.rf.750d9ab352d2ca96bbcaec728f859b13.jpg  \n",
            "  inflating: ./butterfly-spider/butterfly-spider/train/images/ea37b60f2ef2083ed1584d05fb1d4e9fe777ead218ac104497f5c97faee8b1b8_640_jpg.rf.76506e3fe0bd3910c9d8e5d006b2530e.jpg  \n",
            "  inflating: ./butterfly-spider/butterfly-spider/train/images/ea37b70b20fd003ed1584d05fb1d4e9fe777ead218ac104497f5c97faeebb5bb_640_jpg.rf.83ebe2747c5564d3c37685f433f539ed.jpg  \n",
            "  inflating: ./butterfly-spider/butterfly-spider/train/images/ea37b70b20fd003ed1584d05fb1d4e9fe777ead218ac104497f5c97faeebb5bb_640_jpg.rf.bcc7691014eb59ec5d8a5be3f2707ef7.jpg  \n",
            "  inflating: ./butterfly-spider/butterfly-spider/train/images/ea37b70b20fd003ed1584d05fb1d4e9fe777ead218ac104497f5c97faeebb5bb_640_jpg.rf.c7cdfbe7af078331404bee9d778aa216.jpg  \n",
            "  inflating: ./butterfly-spider/butterfly-spider/train/images/ea37b80629f7023ed1584d05fb1d4e9fe777ead218ac104497f5c97ca5edb3bd_640_jpg.rf.1b8a0e2e1646fbd6ab1b0c5ca17b45c5.jpg  \n",
            "  inflating: ./butterfly-spider/butterfly-spider/train/images/ea37b80629f7023ed1584d05fb1d4e9fe777ead218ac104497f5c97ca5edb3bd_640_jpg.rf.76c4ac4b93c7927cfb9bebb85998c0cb.jpg  \n",
            "  inflating: ./butterfly-spider/butterfly-spider/train/images/ea37b80629f7023ed1584d05fb1d4e9fe777ead218ac104497f5c97ca5edb3bd_640_jpg.rf.e74ded762145176af87a0a61f4de86e4.jpg  \n",
            "  inflating: ./butterfly-spider/butterfly-spider/train/images/ea37b8082df4093ed1584d05fb1d4e9fe777ead218ac104497f5c97ca5edb3bd_640_jpg.rf.84c6e196bb5ae3d494d97248a5579548.jpg  \n",
            "  inflating: ./butterfly-spider/butterfly-spider/train/images/ea37b8082df4093ed1584d05fb1d4e9fe777ead218ac104497f5c97ca5edb3bd_640_jpg.rf.999ad3624bc6a5b53ac4925a8f6192d6.jpg  \n",
            "  inflating: ./butterfly-spider/butterfly-spider/train/images/ea37b8082df4093ed1584d05fb1d4e9fe777ead218ac104497f5c97ca5edb3bd_640_jpg.rf.d49bab4c6f612522a7aa72bf14d4fe18.jpg  \n",
            "  inflating: ./butterfly-spider/butterfly-spider/train/images/ea37b80f2bf1013ed1584d05fb1d4e9fe777ead218ac104497f5c97ca5edb3bd_640_jpg.rf.117e64966de9ef5ebe6cf650335f137b.jpg  \n",
            "  inflating: ./butterfly-spider/butterfly-spider/train/images/ea37b80f2bf1013ed1584d05fb1d4e9fe777ead218ac104497f5c97ca5edb3bd_640_jpg.rf.36b77dafb4e17486f7cda21e6ac9cb34.jpg  \n",
            "  inflating: ./butterfly-spider/butterfly-spider/train/images/ea37b80f2bf1013ed1584d05fb1d4e9fe777ead218ac104497f5c97ca5edb3bd_640_jpg.rf.60bca5b492e167464e354db91cfda861.jpg  \n",
            "  inflating: ./butterfly-spider/butterfly-spider/train/images/ea37b80f2dfd1c22d2524518b7444f92e37fe5d404b0144390f8c770a1edb6_640_jpg.rf.22d5c3ecbc219b61ccc370730a47d0ad.jpg  \n",
            "  inflating: ./butterfly-spider/butterfly-spider/train/images/ea37b80f2dfd1c22d2524518b7444f92e37fe5d404b0144390f8c770a1edb6_640_jpg.rf.42e1f51f61ac35cf2ba2072ce4f1044f.jpg  \n",
            "  inflating: ./butterfly-spider/butterfly-spider/train/images/ea37b80f2dfd1c22d2524518b7444f92e37fe5d404b0144390f8c770a1edb6_640_jpg.rf.a6c27281a12aad07b166b1e774fa542e.jpg  \n",
            "  inflating: ./butterfly-spider/butterfly-spider/train/images/ea37b9062bf7053ed1584d05fb1d4e9fe777ead218ac104497f5c97ca5edb3bd_640_jpg.rf.283d660377b63f7db5d1f616215d02da.jpg  \n",
            "  inflating: ./butterfly-spider/butterfly-spider/train/images/ea37b9062bf7053ed1584d05fb1d4e9fe777ead218ac104497f5c97ca5edb3bd_640_jpg.rf.3eb340dd5311b8a63b7729b3b853d3ae.jpg  \n",
            "  inflating: ./butterfly-spider/butterfly-spider/train/images/ea37b9062bf7053ed1584d05fb1d4e9fe777ead218ac104497f5c97ca5edb3bd_640_jpg.rf.c9c6dcf3c5508d0dd3c0a00ccb678322.jpg  \n",
            "  inflating: ./butterfly-spider/butterfly-spider/train/images/ea37b90721f4043ed1584d05fb1d4e9fe777ead218ac104497f5c97faee8b1b8_640_jpg.rf.002bdacf3ff77f2c3f88772db8a92e0d.jpg  \n",
            "  inflating: ./butterfly-spider/butterfly-spider/train/images/ea37b90721f4043ed1584d05fb1d4e9fe777ead218ac104497f5c97faee8b1b8_640_jpg.rf.1d0843dca6535877a63085bae2eadeb0.jpg  \n",
            "  inflating: ./butterfly-spider/butterfly-spider/train/images/ea37b90721f4043ed1584d05fb1d4e9fe777ead218ac104497f5c97faee8b1b8_640_jpg.rf.4f9afee0e20b2bdc5fa399f26a892288.jpg  \n",
            "  inflating: ./butterfly-spider/butterfly-spider/train/images/ea37b9072af7043ed1584d05fb1d4e9fe777ead218ac104497f5c97ca5edb3bd_640_jpg.rf.038c19d21db90ed0482573a61b54b764.jpg  \n",
            "  inflating: ./butterfly-spider/butterfly-spider/train/images/ea37b9072af7043ed1584d05fb1d4e9fe777ead218ac104497f5c97ca5edb3bd_640_jpg.rf.325b1d6839bb1be2ade9da231de5bbd9.jpg  \n",
            "  inflating: ./butterfly-spider/butterfly-spider/train/images/ea37b9072af7043ed1584d05fb1d4e9fe777ead218ac104497f5c97ca5edb3bd_640_jpg.rf.735e8165e40c2f20454a1f6c84b4c401.jpg  \n",
            "  inflating: ./butterfly-spider/butterfly-spider/train/images/ea37b90821f0013ed1584d05fb1d4e9fe777ead218ac104497f5c97ca5edb3bd_640_jpg.rf.d4a0e705cf8ae32ca0cc217606b4933b.jpg  \n",
            "  inflating: ./butterfly-spider/butterfly-spider/train/images/ea37b90821f0013ed1584d05fb1d4e9fe777ead218ac104497f5c97ca5edb3bd_640_jpg.rf.e8095586746d76962ef1666b22d6fcb7.jpg  \n",
            "  inflating: ./butterfly-spider/butterfly-spider/train/images/ea37b90821f0013ed1584d05fb1d4e9fe777ead218ac104497f5c97ca5edb3bd_640_jpg.rf.eff4bcd6f312d9913e9d7998e81173dd.jpg  \n",
            "  inflating: ./butterfly-spider/butterfly-spider/train/images/ea37b90e2bfd063ed1584d05fb1d4e9fe777ead218ac104497f5c97faeebb5bb_640_jpg.rf.78cea386a3a867682d428a4832053795.jpg  \n",
            "  inflating: ./butterfly-spider/butterfly-spider/train/images/ea37b90e2bfd063ed1584d05fb1d4e9fe777ead218ac104497f5c97faeebb5bb_640_jpg.rf.bb8ae4f738491f70311630b6a9388426.jpg  \n",
            "  inflating: ./butterfly-spider/butterfly-spider/train/images/ea37b90e2bfd063ed1584d05fb1d4e9fe777ead218ac104497f5c97faeebb5bb_640_jpg.rf.e5abb5ea234a935bb877478c19351d46.jpg  \n",
            "  inflating: ./butterfly-spider/butterfly-spider/train/images/ea37b90e2df4063ed1584d05fb1d4e9fe777ead218ac104497f5c97ca5edb3bd_640_jpg.rf.07ab5e8ebc16a6269e667e900c494b26.jpg  \n",
            "  inflating: ./butterfly-spider/butterfly-spider/train/images/ea37b90e2df4063ed1584d05fb1d4e9fe777ead218ac104497f5c97ca5edb3bd_640_jpg.rf.69336e3b870566bcf2973c4c6461fc58.jpg  \n",
            "  inflating: ./butterfly-spider/butterfly-spider/train/images/ea37b90e2df4063ed1584d05fb1d4e9fe777ead218ac104497f5c97ca5edb3bd_640_jpg.rf.882a895a7c8659ea28c6e00f6006a97f.jpg  \n",
            "  inflating: ./butterfly-spider/butterfly-spider/train/images/ea3db70b2af31c22d2524518b7444f92e37fe5d404b0144390f8c47ba6ebb4_640_jpg.rf.9f498da6dcc1b0d877dad09cf694bb67.jpg  \n",
            "  inflating: ./butterfly-spider/butterfly-spider/train/images/ea3db70b2af31c22d2524518b7444f92e37fe5d404b0144390f8c47ba6ebb4_640_jpg.rf.bf150c31ed139b880d8d0437b0dec902.jpg  \n",
            "  inflating: ./butterfly-spider/butterfly-spider/train/images/ea3db70b2af31c22d2524518b7444f92e37fe5d404b0144390f8c47ba6ebb4_640_jpg.rf.cffc95db14ee8714af5ff8f7e5181605.jpg  \n",
            "  inflating: ./butterfly-spider/butterfly-spider/train/images/ea3db80c2af51c22d2524518b7444f92e37fe5d404b0144390f8c47ba6ebb4_640_jpg.rf.80603fc6c2fb3a705e933c72ba8132b8.jpg  \n",
            "  inflating: ./butterfly-spider/butterfly-spider/train/images/ea3db80c2af51c22d2524518b7444f92e37fe5d404b0144390f8c47ba6ebb4_640_jpg.rf.aa292bb1962da14749e66291a1617cb7.jpg  \n",
            "  inflating: ./butterfly-spider/butterfly-spider/train/images/ea3db80c2af51c22d2524518b7444f92e37fe5d404b0144390f8c47ba6ebb4_640_jpg.rf.f0b143aea1c67ddcea19177e3287624e.jpg  \n",
            "  inflating: ./butterfly-spider/butterfly-spider/train/images/eb31b3092bfc003ed1584d05fb1d4e9fe777ead218ac104497f5c97faeebb5bb_640_jpg.rf.ae7baa19c73712fc20b9751bd971b9fb.jpg  \n",
            "  inflating: ./butterfly-spider/butterfly-spider/train/images/eb31b3092bfc003ed1584d05fb1d4e9fe777ead218ac104497f5c97faeebb5bb_640_jpg.rf.ba70a268c165fbc755cdd0fac0ee56d3.jpg  \n",
            "  inflating: ./butterfly-spider/butterfly-spider/train/images/eb31b3092bfc003ed1584d05fb1d4e9fe777ead218ac104497f5c97faeebb5bb_640_jpg.rf.c22c0deab39f88ecdb8f59145c549529.jpg  \n",
            "  inflating: ./butterfly-spider/butterfly-spider/train/images/eb31b50d2af0053ed1584d05fb1d4e9fe777ead218ac104497f5c97faeebb5bb_640_jpg.rf.73e2a1670f7aca037809e7bbd980f80a.jpg  \n",
            "  inflating: ./butterfly-spider/butterfly-spider/train/images/eb31b50d2af0053ed1584d05fb1d4e9fe777ead218ac104497f5c97faeebb5bb_640_jpg.rf.a702ac34322b8c9084df66db56e79057.jpg  \n",
            "  inflating: ./butterfly-spider/butterfly-spider/train/images/eb31b50d2af0053ed1584d05fb1d4e9fe777ead218ac104497f5c97faeebb5bb_640_jpg.rf.c39d016c8ac043116a50194d12ee8a09.jpg  \n",
            "  inflating: ./butterfly-spider/butterfly-spider/train/images/eb32b20c2afc063ed1584d05fb1d4e9fe777ead218ac104497f5c97faee9bdba_640_jpg.rf.0c3f0035fff988f4ba4880945eac377f.jpg  \n",
            "  inflating: ./butterfly-spider/butterfly-spider/train/images/eb32b20c2afc063ed1584d05fb1d4e9fe777ead218ac104497f5c97faee9bdba_640_jpg.rf.2ac4ecbfdd29efd503ca3b822eb61e2a.jpg  \n",
            "  inflating: ./butterfly-spider/butterfly-spider/train/images/eb32b20c2afc063ed1584d05fb1d4e9fe777ead218ac104497f5c97faee9bdba_640_jpg.rf.a6ed9c52a7480a96998d8b3f3fd54173.jpg  \n",
            "  inflating: ./butterfly-spider/butterfly-spider/train/images/eb32b70f21f2013ed1584d05fb1d4e9fe777ead218ac104497f5c97faeebb5bb_640_png.rf.513e3c38ca41d3640bec08fd32c9f60f.jpg  \n",
            "  inflating: ./butterfly-spider/butterfly-spider/train/images/eb32b70f21f2013ed1584d05fb1d4e9fe777ead218ac104497f5c97faeebb5bb_640_png.rf.8082cf08d994732746a86051063e9a6e.jpg  \n",
            "  inflating: ./butterfly-spider/butterfly-spider/train/images/eb32b70f21f2013ed1584d05fb1d4e9fe777ead218ac104497f5c97faeebb5bb_640_png.rf.fd87f0d26bd9ba1c3c1d739f7fae5649.jpg  \n",
            "  inflating: ./butterfly-spider/butterfly-spider/train/images/eb34b70720fd023ed1584d05fb1d4e9fe777ead218ac104497f5c97faeebb5bb_640_jpg.rf.0ebccba7b7006a0e731bc6bddd07517f.jpg  \n",
            "  inflating: ./butterfly-spider/butterfly-spider/train/images/eb34b70720fd023ed1584d05fb1d4e9fe777ead218ac104497f5c97faeebb5bb_640_jpg.rf.16c76f54a32d5f923c5f8c7294bf0dcb.jpg  \n",
            "  inflating: ./butterfly-spider/butterfly-spider/train/images/eb34b70720fd023ed1584d05fb1d4e9fe777ead218ac104497f5c97faeebb5bb_640_jpg.rf.c5cc9a2075ee306f0addebe4e5539f78.jpg  \n",
            "  inflating: ./butterfly-spider/butterfly-spider/train/images/eb37b70a28f5013ed1584d05fb1d4e9fe777ead218ac104497f5c97faee8b1b8_640_jpg.rf.029d917e52e3375cd12ec04494aae8b3.jpg  \n",
            "  inflating: ./butterfly-spider/butterfly-spider/train/images/eb37b70a28f5013ed1584d05fb1d4e9fe777ead218ac104497f5c97faee8b1b8_640_jpg.rf.7c6c54f84371301dd2fcf584489da480.jpg  \n",
            "  inflating: ./butterfly-spider/butterfly-spider/train/images/eb37b70a28f5013ed1584d05fb1d4e9fe777ead218ac104497f5c97faee8b1b8_640_jpg.rf.ca8085e34d4c7e0229a3d4896552fb16.jpg  \n",
            "  inflating: ./butterfly-spider/butterfly-spider/train/images/eb3db7062ffd033ed1584d05fb1d4e9fe777ead218ac104497f5c97faee8b1b8_640_jpg.rf.065b937ebec4053391f666d00bc8b1ee.jpg  \n",
            "  inflating: ./butterfly-spider/butterfly-spider/train/images/eb3db7062ffd033ed1584d05fb1d4e9fe777ead218ac104497f5c97faee8b1b8_640_jpg.rf.0975a85b02ae51df2072acdad417031a.jpg  \n",
            "  inflating: ./butterfly-spider/butterfly-spider/train/images/eb3db7062ffd033ed1584d05fb1d4e9fe777ead218ac104497f5c97faee8b1b8_640_jpg.rf.3a0a39cd22b16a4f31e7a4cffbe160ec.jpg  \n",
            "  inflating: ./butterfly-spider/butterfly-spider/train/images/ec30b10a2ae90021d85a5854ee454296eb70e3c818b413449df6c87fa7ee_640_jpg.rf.63ebe1efda23a6901302425c656f6df4.jpg  \n",
            "  inflating: ./butterfly-spider/butterfly-spider/train/images/ec30b10a2ae90021d85a5854ee454296eb70e3c818b413449df6c87fa7ee_640_jpg.rf.97847436a572df0b134a35351036d20a.jpg  \n",
            "  inflating: ./butterfly-spider/butterfly-spider/train/images/ec30b10a2ae90021d85a5854ee454296eb70e3c818b413449df6c87fa7ee_640_jpg.rf.9a3bf49e95eaecd35df63a32fb172b04.jpg  \n",
            "  inflating: ./butterfly-spider/butterfly-spider/train/images/ec34b50b21f21c22d2524518b7444f92e37fe5d404b0144390f8c770a3e5b7_640_jpg.rf.69d780d65f5f621e296e84b566f32cab.jpg  \n",
            "  inflating: ./butterfly-spider/butterfly-spider/train/images/ec34b50b21f21c22d2524518b7444f92e37fe5d404b0144390f8c770a3e5b7_640_jpg.rf.80601084bff51cab05600ae0c08a9e0c.jpg  \n",
            "  inflating: ./butterfly-spider/butterfly-spider/train/images/ec34b50b21f21c22d2524518b7444f92e37fe5d404b0144390f8c770a3e5b7_640_jpg.rf.a8ae282ce327699afaf0a01d773c139a.jpg  \n",
            "  inflating: ./butterfly-spider/butterfly-spider/train/images/ed36b10d28f71c22d2524518b7444f92e37fe5d404b0144390f8c770a1edb6_640_jpg.rf.3b20ee6c9f28e2ccadd8ac411b3222bb.jpg  \n",
            "  inflating: ./butterfly-spider/butterfly-spider/train/images/ed36b10d28f71c22d2524518b7444f92e37fe5d404b0144390f8c770a1edb6_640_jpg.rf.979bd2a1436ca3f1692a206849f8ed59.jpg  \n",
            "  inflating: ./butterfly-spider/butterfly-spider/train/images/ed36b10d28f71c22d2524518b7444f92e37fe5d404b0144390f8c770a1edb6_640_jpg.rf.bd6a63875ca877f884b37ddf9e5563dd.jpg  \n",
            "  inflating: ./butterfly-spider/butterfly-spider/train/images/ed3cb00e2ef21c22d2524518b7444f92e37fe5d404b0144390f8c770a3e5b7_640_jpg.rf.2e9177e99b56e197e3c148e6eb8331c1.jpg  \n",
            "  inflating: ./butterfly-spider/butterfly-spider/train/images/ed3cb00e2ef21c22d2524518b7444f92e37fe5d404b0144390f8c770a3e5b7_640_jpg.rf.800bc0424c51519557f93a552ed56d89.jpg  \n",
            "  inflating: ./butterfly-spider/butterfly-spider/train/images/ed3cb00e2ef21c22d2524518b7444f92e37fe5d404b0144390f8c770a3e5b7_640_jpg.rf.db11cf9c95e69018e591a599d5b4cc65.jpg  \n",
            "  inflating: ./butterfly-spider/butterfly-spider/train/images/ee36b5092df01c22d2524518b7444f92e37fe5d404b0144390f8c770a2e9b5_640_jpg.rf.436a7b1da0019a6434587651b5bbcd6e.jpg  \n",
            "  inflating: ./butterfly-spider/butterfly-spider/train/images/ee36b5092df01c22d2524518b7444f92e37fe5d404b0144390f8c770a2e9b5_640_jpg.rf.7942723d528fd7e053f287a4622538f0.jpg  \n",
            "  inflating: ./butterfly-spider/butterfly-spider/train/images/ee36b5092df01c22d2524518b7444f92e37fe5d404b0144390f8c770a2e9b5_640_jpg.rf.a9c7b51fdcebbc3e1142c012ef232b39.jpg  \n",
            "  inflating: ./butterfly-spider/butterfly-spider/train/images/ef34b00e2ef31c22d2524518b7444f92e37fe5d404b0144390f8c770a2e9b5_640_jpg.rf.4cad803250f57486aa04da5a03039a48.jpg  \n",
            "  inflating: ./butterfly-spider/butterfly-spider/train/images/ef34b00e2ef31c22d2524518b7444f92e37fe5d404b0144390f8c770a2e9b5_640_jpg.rf.9e9a6674321b5c00d2a7d6deabfbb8fb.jpg  \n",
            "  inflating: ./butterfly-spider/butterfly-spider/train/images/ef34b00e2ef31c22d2524518b7444f92e37fe5d404b0144390f8c770a2e9b5_640_jpg.rf.f05b1861c0edabe963571c58951d113e.jpg  \n",
            "  inflating: ./butterfly-spider/butterfly-spider/train/images/OIP-y4KpgwUcehzdI2Cw7qBszQHaE8_jpeg.rf.c98904905996b18d666d4e97f4b96fb7.jpg  \n",
            "  inflating: ./butterfly-spider/butterfly-spider/train/images/OIP-y4KpgwUcehzdI2Cw7qBszQHaE8_jpeg.rf.d9e3de09883d89ba2d8f6a8373ff4504.jpg  \n",
            "  inflating: ./butterfly-spider/butterfly-spider/train/images/OIP-y4KpgwUcehzdI2Cw7qBszQHaE8_jpeg.rf.ed52752a74cef5cb2b70810188ce551a.jpg  \n",
            "  inflating: ./butterfly-spider/butterfly-spider/train/images/OIP-Y5_dpYEmm7Gar2Dyn_EZcAHaHa_jpeg.rf.8ee7168955282e41b946476055f1376f.jpg  \n",
            "  inflating: ./butterfly-spider/butterfly-spider/train/images/OIP-Y5_dpYEmm7Gar2Dyn_EZcAHaHa_jpeg.rf.ad0e8614cd494c1371cd5d400148101f.jpg  \n",
            "  inflating: ./butterfly-spider/butterfly-spider/train/images/OIP-Y5_dpYEmm7Gar2Dyn_EZcAHaHa_jpeg.rf.c1d9afefa97d5fdcaf8b9d0ca746e88a.jpg  \n",
            "  inflating: ./butterfly-spider/butterfly-spider/train/images/OIP-y6EyS5UK-itBoMPQexwFCQHaFb_jpeg.rf.10fa33754622929375a878a0be8ce434.jpg  \n",
            "  inflating: ./butterfly-spider/butterfly-spider/train/images/OIP-y6EyS5UK-itBoMPQexwFCQHaFb_jpeg.rf.f777c041426acc64d5c166ab3e06c34c.jpg  \n",
            "  inflating: ./butterfly-spider/butterfly-spider/train/images/OIP-y6N1UO8Z6cRICTs7DEXsbAHaFE_jpeg.rf.aa29a66cc351c8cdbdbea60d2644eb95.jpg  \n",
            "  inflating: ./butterfly-spider/butterfly-spider/train/images/OIP-y6N1UO8Z6cRICTs7DEXsbAHaFE_jpeg.rf.c746e462270aabeadf543d90cc2af748.jpg  \n",
            "  inflating: ./butterfly-spider/butterfly-spider/train/images/OIP-y6N1UO8Z6cRICTs7DEXsbAHaFE_jpeg.rf.cf2d98098f15c463b6ff7773c51f7b75.jpg  \n",
            "  inflating: ./butterfly-spider/butterfly-spider/train/images/OIP-Y6rxRzTTjYf0QFAQNnb0PwHaEK_jpeg.rf.2184588ddf97f8dd60451ad5def990d7.jpg  \n",
            "  inflating: ./butterfly-spider/butterfly-spider/train/images/OIP-Y6rxRzTTjYf0QFAQNnb0PwHaEK_jpeg.rf.e6d78aa994d897d30624f6192c6a901d.jpg  \n",
            "  inflating: ./butterfly-spider/butterfly-spider/train/images/OIP-Y6rxRzTTjYf0QFAQNnb0PwHaEK_jpeg.rf.f4f712a2d632ba8b09964c3ced140260.jpg  \n",
            "  inflating: ./butterfly-spider/butterfly-spider/train/images/OIP-y7ONc_RIBeqYfcRFxNTi6QHaE9_jpeg.rf.5b4df62f7818554fe437211caf386814.jpg  \n",
            "  inflating: ./butterfly-spider/butterfly-spider/train/images/OIP-y7ONc_RIBeqYfcRFxNTi6QHaE9_jpeg.rf.bdedac2aedf1f0d849c3bfe2fd7dc1a3.jpg  \n",
            "  inflating: ./butterfly-spider/butterfly-spider/train/images/OIP-y7ONc_RIBeqYfcRFxNTi6QHaE9_jpeg.rf.fc6d97f6690d03dfd18fea9d529d6b92.jpg  \n",
            "  inflating: ./butterfly-spider/butterfly-spider/train/images/OIP-YA8HxFQTVaOE3MeuoldpIgHaFj_jpeg.rf.8327ab1d3cd48d364637c61a48cf8ee7.jpg  \n",
            "  inflating: ./butterfly-spider/butterfly-spider/train/images/OIP-YA8HxFQTVaOE3MeuoldpIgHaFj_jpeg.rf.a298f3de6ec449d54f52cdeee0e4f1a4.jpg  \n",
            "  inflating: ./butterfly-spider/butterfly-spider/train/images/OIP-YA8HxFQTVaOE3MeuoldpIgHaFj_jpeg.rf.b71e95def35c89ef810aac02100b3480.jpg  \n",
            "  inflating: ./butterfly-spider/butterfly-spider/train/images/OIP-yaateVH_7hxv7C9HiUPqUAHaE8_jpeg.rf.64c34ded4f66345c32b8e54f2eeaee27.jpg  \n",
            "  inflating: ./butterfly-spider/butterfly-spider/train/images/OIP-yaateVH_7hxv7C9HiUPqUAHaE8_jpeg.rf.ce6131809cb6ab55a7145d6e8c7c9a82.jpg  \n",
            "  inflating: ./butterfly-spider/butterfly-spider/train/images/OIP-yaateVH_7hxv7C9HiUPqUAHaE8_jpeg.rf.e561641b3a7f3c6dc47d5ba359ee7eae.jpg  \n",
            "  inflating: ./butterfly-spider/butterfly-spider/train/images/OIP-yaTVwgaziAC5tbx7KUaW0wHaFh_jpeg.rf.040fc2120a01aa8fb22ed16e2f142dbd.jpg  \n",
            "  inflating: ./butterfly-spider/butterfly-spider/train/images/OIP-yaTVwgaziAC5tbx7KUaW0wHaFh_jpeg.rf.6aa4ae3a213d764c7a7a78c5b6ba34f3.jpg  \n",
            "  inflating: ./butterfly-spider/butterfly-spider/train/images/OIP-yaTVwgaziAC5tbx7KUaW0wHaFh_jpeg.rf.d435b3e052ccb04214092d8eb855548e.jpg  \n",
            "  inflating: ./butterfly-spider/butterfly-spider/train/images/OIP-YBPrC8bnUdgXuH62l4EIEAHaEK_jpeg.rf.2c98d7c51848fec7a4a39303edb135ce.jpg  \n",
            "  inflating: ./butterfly-spider/butterfly-spider/train/images/OIP-YBPrC8bnUdgXuH62l4EIEAHaEK_jpeg.rf.3f8f87751cab9d3185ab671080012351.jpg  \n",
            "  inflating: ./butterfly-spider/butterfly-spider/train/images/OIP-YBPrC8bnUdgXuH62l4EIEAHaEK_jpeg.rf.82f4db282c2429b8f11f7cecd57d555e.jpg  \n",
            "  inflating: ./butterfly-spider/butterfly-spider/train/images/OIP-YbqBJUcrCLA8tLHrUYo-OAHaFj_jpeg.rf.9c6d6fb7009dd1edc78d9920a2dd798d.jpg  \n",
            "  inflating: ./butterfly-spider/butterfly-spider/train/images/OIP-YbqBJUcrCLA8tLHrUYo-OAHaFj_jpeg.rf.d2887a6ce33c3f61dee60b1374763d32.jpg  \n",
            "  inflating: ./butterfly-spider/butterfly-spider/train/images/OIP-YbqBJUcrCLA8tLHrUYo-OAHaFj_jpeg.rf.fb389245e9b8276226546b8f687d2712.jpg  \n",
            "  inflating: ./butterfly-spider/butterfly-spider/train/images/OIP-Ycsjzn83iCaqDAKtuAccSAHaFc_jpeg.rf.3959660c83f0084d974c1b98a366c98b.jpg  \n",
            "  inflating: ./butterfly-spider/butterfly-spider/train/images/OIP-Ycsjzn83iCaqDAKtuAccSAHaFc_jpeg.rf.5ae99d1f39ea40b04a8eb36d391ddc86.jpg  \n",
            "  inflating: ./butterfly-spider/butterfly-spider/train/images/OIP-Ycsjzn83iCaqDAKtuAccSAHaFc_jpeg.rf.6725fbba558948ace22fee7469b8c71c.jpg  \n",
            "  inflating: ./butterfly-spider/butterfly-spider/train/images/OIP-YDmNBz4LvjEilNvRb5cDWQHaHa_jpeg.rf.053da9775186505dfde06d63408c628a.jpg  \n",
            "  inflating: ./butterfly-spider/butterfly-spider/train/images/OIP-YDmNBz4LvjEilNvRb5cDWQHaHa_jpeg.rf.6ec25369b2d51f6908e4181af75ab4a0.jpg  \n",
            "  inflating: ./butterfly-spider/butterfly-spider/train/images/OIP-YDmNBz4LvjEilNvRb5cDWQHaHa_jpeg.rf.6fe18b091e13667696aad0509051c698.jpg  \n",
            "  inflating: ./butterfly-spider/butterfly-spider/train/images/OIP-Y-EO5dVtQ2oizcaGgU7XPgHaFj_jpeg.rf.085ca1e9ef27212faf9c156adaa2e9ba.jpg  \n",
            "  inflating: ./butterfly-spider/butterfly-spider/train/images/OIP-Y-EO5dVtQ2oizcaGgU7XPgHaFj_jpeg.rf.1e5655f7a2d26aa98f760e3223f150d7.jpg  \n",
            "  inflating: ./butterfly-spider/butterfly-spider/train/images/OIP-Y-EO5dVtQ2oizcaGgU7XPgHaFj_jpeg.rf.fa4add2674002b177d1d74f274d5a257.jpg  \n",
            "  inflating: ./butterfly-spider/butterfly-spider/train/images/OIP-yImgX_ieA4Hl4frj_X29sAHaF5_jpeg.rf.a0f967548e7c2ad80cb3033622dac5ed.jpg  \n",
            "  inflating: ./butterfly-spider/butterfly-spider/train/images/OIP-yImgX_ieA4Hl4frj_X29sAHaF5_jpeg.rf.c2e3290f6e89c07c4eaed631735eee42.jpg  \n",
            "  inflating: ./butterfly-spider/butterfly-spider/train/images/OIP-yImgX_ieA4Hl4frj_X29sAHaF5_jpeg.rf.e9b91b3cdaae76516bb629450dec1865.jpg  \n",
            "  inflating: ./butterfly-spider/butterfly-spider/train/images/OIP-y-JMTqVZxFve9krHOGeQ-wHaE6_jpeg.rf.4171d6c828c0c0632af603a71665deef.jpg  \n",
            "  inflating: ./butterfly-spider/butterfly-spider/train/images/OIP-y-JMTqVZxFve9krHOGeQ-wHaE6_jpeg.rf.62d9df485c5899273401dc8107c71b5a.jpg  \n",
            "  inflating: ./butterfly-spider/butterfly-spider/train/images/OIP-y-JMTqVZxFve9krHOGeQ-wHaE6_jpeg.rf.bbc2b2d031991a8a02ed7bf267309110.jpg  \n",
            "  inflating: ./butterfly-spider/butterfly-spider/train/images/OIP-yLPxCv0d8yJGudDbf7LbKwHaFj_jpeg.rf.12b5237ec7d7f0fb92d2f6929ca3a7d5.jpg  \n",
            "  inflating: ./butterfly-spider/butterfly-spider/train/images/OIP-yLPxCv0d8yJGudDbf7LbKwHaFj_jpeg.rf.34e8f3aa7e039e311cfaafbdca951e17.jpg  \n",
            "  inflating: ./butterfly-spider/butterfly-spider/train/images/OIP-yLPxCv0d8yJGudDbf7LbKwHaFj_jpeg.rf.448fa32f01957ebb4b201c822e0ebbfd.jpg  \n",
            "  inflating: ./butterfly-spider/butterfly-spider/train/images/OIP-ymBanFBh8sMCwIq_ZMAwEgHaHr_jpeg.rf.008800c020b55d6fd9c85e1c61cf5e1a.jpg  \n",
            "  inflating: ./butterfly-spider/butterfly-spider/train/images/OIP-ymBanFBh8sMCwIq_ZMAwEgHaHr_jpeg.rf.39b41aa45c3220a33746693d929f160f.jpg  \n",
            "  inflating: ./butterfly-spider/butterfly-spider/train/images/OIP-ymBanFBh8sMCwIq_ZMAwEgHaHr_jpeg.rf.a5af708328a62fc2ed923ee723fe9a2a.jpg  \n",
            "  inflating: ./butterfly-spider/butterfly-spider/train/images/OIP-yMM1gjGb1N2TziU0DTc20gHaF4_jpeg.rf.137a4509a85511a8c7305b91fe50048a.jpg  \n",
            "  inflating: ./butterfly-spider/butterfly-spider/train/images/OIP-yMM1gjGb1N2TziU0DTc20gHaF4_jpeg.rf.4f9defac15812be65c6ecdc1e6b7de65.jpg  \n",
            "  inflating: ./butterfly-spider/butterfly-spider/train/images/OIP-yMM1gjGb1N2TziU0DTc20gHaF4_jpeg.rf.5d6261c18e57cafc0327e4a99aea017e.jpg  \n",
            "  inflating: ./butterfly-spider/butterfly-spider/train/images/OIP-Ympr9MUUzlGzFjjrtE1c5QHaE7_jpeg.rf.5a3705ab47127fe1c8cd90d78c171eb8.jpg  \n",
            "  inflating: ./butterfly-spider/butterfly-spider/train/images/OIP-Ympr9MUUzlGzFjjrtE1c5QHaE7_jpeg.rf.6708b31275ae7a829d401b7b15a045fc.jpg  \n",
            "  inflating: ./butterfly-spider/butterfly-spider/train/images/OIP-Ympr9MUUzlGzFjjrtE1c5QHaE7_jpeg.rf.c675da146ade8cde527b396794e9fa81.jpg  \n",
            "  inflating: ./butterfly-spider/butterfly-spider/train/images/OIP-yn99HUpTmYRJI3ttmUkYOQHaFN_jpeg.rf.5f48064cc26c95ae4358216d2abe04a7.jpg  \n",
            "  inflating: ./butterfly-spider/butterfly-spider/train/images/OIP-yn99HUpTmYRJI3ttmUkYOQHaFN_jpeg.rf.8b86e5a54658ed1603f3f90ea87f0d20.jpg  \n",
            "  inflating: ./butterfly-spider/butterfly-spider/train/images/OIP-yn99HUpTmYRJI3ttmUkYOQHaFN_jpeg.rf.b0b7bdb51f1d39e2e82d897bbf2a91f5.jpg  \n",
            "  inflating: ./butterfly-spider/butterfly-spider/train/images/OIP-ynBaRLCcIBEDsdCnnYCxjgHaE7_jpeg.rf.09eecdd2eccb9c8c325c66e97a2f8465.jpg  \n",
            "  inflating: ./butterfly-spider/butterfly-spider/train/images/OIP-ynBaRLCcIBEDsdCnnYCxjgHaE7_jpeg.rf.7b7f0d5856ea71c6f402996f87867be6.jpg  \n",
            "  inflating: ./butterfly-spider/butterfly-spider/train/images/OIP-ynBaRLCcIBEDsdCnnYCxjgHaE7_jpeg.rf.e63870d75d13e8ee4df6858eaa49bd76.jpg  \n",
            "  inflating: ./butterfly-spider/butterfly-spider/train/images/OIP-YNqBf_ZQHJthXHKsk-UE2wHaF7_jpeg.rf.acf201a41be073ec5c45fc3bda7f8de3.jpg  \n",
            "  inflating: ./butterfly-spider/butterfly-spider/train/images/OIP-YNqBf_ZQHJthXHKsk-UE2wHaF7_jpeg.rf.c522cf7ec86b311dcedd490c0ebac5b3.jpg  \n",
            "  inflating: ./butterfly-spider/butterfly-spider/train/images/OIP-YNqBf_ZQHJthXHKsk-UE2wHaF7_jpeg.rf.da8d531e7f8ed59c6bbb87b7a36b2da7.jpg  \n",
            "  inflating: ./butterfly-spider/butterfly-spider/train/images/OIP-yOVh_3_5oj1srhQ7uoDK6gHaFj_jpeg.rf.0c66dc31dab061479afc712ed5db21af.jpg  \n",
            "  inflating: ./butterfly-spider/butterfly-spider/train/images/OIP-yOVh_3_5oj1srhQ7uoDK6gHaFj_jpeg.rf.0db7ceecba7470f9ed9dec5c2bb8da51.jpg  \n",
            "  inflating: ./butterfly-spider/butterfly-spider/train/images/OIP-yOVh_3_5oj1srhQ7uoDK6gHaFj_jpeg.rf.b1fd8ffda410298b6e2b03f2c8e166a8.jpg  \n",
            "  inflating: ./butterfly-spider/butterfly-spider/train/images/OIP-YpBAHaZzuk3QtiD_5o0y0AHaFT_jpeg.rf.64f3570a40dc5329ba3d79b4730c5adf.jpg  \n",
            "  inflating: ./butterfly-spider/butterfly-spider/train/images/OIP-YpBAHaZzuk3QtiD_5o0y0AHaFT_jpeg.rf.d306dc7ca54f84dc682108200ce30e4b.jpg  \n",
            "  inflating: ./butterfly-spider/butterfly-spider/train/images/OIP-YpBAHaZzuk3QtiD_5o0y0AHaFT_jpeg.rf.d8d4c466d1b6f4033f2ba2c798d238f1.jpg  \n",
            "  inflating: ./butterfly-spider/butterfly-spider/train/images/OIP-yPBl7Uzgro2BR6cEEFS1UAHaGD_jpeg.rf.241adcd2d411cc61a815e9ba1d4809cd.jpg  \n",
            "  inflating: ./butterfly-spider/butterfly-spider/train/images/OIP-yPBl7Uzgro2BR6cEEFS1UAHaGD_jpeg.rf.d644914837a619a575e363c74be17b37.jpg  \n",
            "  inflating: ./butterfly-spider/butterfly-spider/train/images/OIP-ypGfjCfYJKGIUuS-uDu2SQHaGn_jpeg.rf.cf8ef0263ae7da96e64fd8529178a5c0.jpg  \n",
            "  inflating: ./butterfly-spider/butterfly-spider/train/images/OIP-ypGfjCfYJKGIUuS-uDu2SQHaGn_jpeg.rf.d0bb153028594f2d7be99cf309638a6b.jpg  \n",
            "  inflating: ./butterfly-spider/butterfly-spider/train/images/OIP-ypGfjCfYJKGIUuS-uDu2SQHaGn_jpeg.rf.ea953243b6b9c7174e0d1bd5529c03ed.jpg  \n",
            "  inflating: ./butterfly-spider/butterfly-spider/train/images/OIP-ypKTu5jpW99DTvpdc2SmJAHaFj_jpeg.rf.8c2d0365ef9be81e60406137afdefa54.jpg  \n",
            "  inflating: ./butterfly-spider/butterfly-spider/train/images/OIP-ypKTu5jpW99DTvpdc2SmJAHaFj_jpeg.rf.bfa4c04b6f11f875f13bdb1cfca761eb.jpg  \n",
            "  inflating: ./butterfly-spider/butterfly-spider/train/images/OIP-ypKTu5jpW99DTvpdc2SmJAHaFj_jpeg.rf.e1e3395117bed80565c58dba5f443427.jpg  \n",
            "  inflating: ./butterfly-spider/butterfly-spider/train/images/OIP-yQogiuR7T422WZW0DfdLUgAAAA_jpeg.rf.38861f4ac0e252e28b258fe631f69702.jpg  \n",
            "  inflating: ./butterfly-spider/butterfly-spider/train/images/OIP-yQogiuR7T422WZW0DfdLUgAAAA_jpeg.rf.5e3f6af7a0de36e0f9510941b4323bda.jpg  \n",
            "  inflating: ./butterfly-spider/butterfly-spider/train/images/OIP-yQogiuR7T422WZW0DfdLUgAAAA_jpeg.rf.ef839ff09d4d711fa9b0cbd9e85e3902.jpg  \n",
            "  inflating: ./butterfly-spider/butterfly-spider/train/images/OIP-YqyTpOZwWDVB9fjPmRCl2QHaFj_jpeg.rf.2e897b2d71c3611f6156b844b690eab6.jpg  \n",
            "  inflating: ./butterfly-spider/butterfly-spider/train/images/OIP-YqyTpOZwWDVB9fjPmRCl2QHaFj_jpeg.rf.3a0cabccd5965e7c6ba1e46c7c583675.jpg  \n",
            "  inflating: ./butterfly-spider/butterfly-spider/train/images/OIP-YqyTpOZwWDVB9fjPmRCl2QHaFj_jpeg.rf.99b308b49e805f207fb95b5993caabf1.jpg  \n",
            "  inflating: ./butterfly-spider/butterfly-spider/train/images/OIP-yr3arwBSVWn3SZM_eo8bfwHaHa_jpeg.rf.2dcf3c5a558d6d06d342dff3f7bb5bcf.jpg  \n",
            "  inflating: ./butterfly-spider/butterfly-spider/train/images/OIP-yr3arwBSVWn3SZM_eo8bfwHaHa_jpeg.rf.359e851f847931686aadb7cfb8e47519.jpg  \n",
            "  inflating: ./butterfly-spider/butterfly-spider/train/images/OIP-yr3arwBSVWn3SZM_eo8bfwHaHa_jpeg.rf.470217667c521777bb87849299ae777b.jpg  \n",
            "  inflating: ./butterfly-spider/butterfly-spider/train/images/OIP-yRhtbVWjel4W2f6HyUXE-AHaF8_jpeg.rf.01abfb762e1400f55c94898c3685a628.jpg  \n",
            "  inflating: ./butterfly-spider/butterfly-spider/train/images/OIP-yRhtbVWjel4W2f6HyUXE-AHaF8_jpeg.rf.b58e94949d21ed5e2bf585359d18b3ee.jpg  \n",
            "  inflating: ./butterfly-spider/butterfly-spider/train/images/OIP-yRhtbVWjel4W2f6HyUXE-AHaF8_jpeg.rf.bb450450154fe9eaa389b7c8b715f215.jpg  \n",
            "  inflating: ./butterfly-spider/butterfly-spider/train/images/OIP-Yriy34724s3GpwU1My6_pAHaFj_jpeg.rf.52c3d583f2fce626e8fc667c19228500.jpg  \n",
            "  inflating: ./butterfly-spider/butterfly-spider/train/images/OIP-Yriy34724s3GpwU1My6_pAHaFj_jpeg.rf.b303da60343241f92d0c7d7a87266408.jpg  \n",
            "  inflating: ./butterfly-spider/butterfly-spider/train/images/OIP-Yriy34724s3GpwU1My6_pAHaFj_jpeg.rf.d22d4bcd5fb5c8537ec788d364ad9f82.jpg  \n",
            "  inflating: ./butterfly-spider/butterfly-spider/train/images/OIP-yRk1uhrwPUlXtjRsmpXctgHaE8_jpeg.rf.0518ce02d3a86e7a81aa8aeba2e2067e.jpg  \n",
            "  inflating: ./butterfly-spider/butterfly-spider/train/images/OIP-yRk1uhrwPUlXtjRsmpXctgHaE8_jpeg.rf.dd23b0fcd2d4b4ca22d8b1509e1f08e0.jpg  \n",
            "  inflating: ./butterfly-spider/butterfly-spider/train/images/OIP-yRk1uhrwPUlXtjRsmpXctgHaE8_jpeg.rf.fdcbb9cf7b28ed797b0eff9c8f56ea2a.jpg  \n",
            "  inflating: ./butterfly-spider/butterfly-spider/train/images/OIP-YRqNbDfDkqRY8Z_mLrlgVgHaFL_jpeg.rf.17823cdc8ff3a13c6870cfb8cdb2bf6b.jpg  \n",
            "  inflating: ./butterfly-spider/butterfly-spider/train/images/OIP-YRqNbDfDkqRY8Z_mLrlgVgHaFL_jpeg.rf.77d4997aa75f9a70e5f7c7f1825eafa0.jpg  \n",
            "  inflating: ./butterfly-spider/butterfly-spider/train/images/OIP-YRqNbDfDkqRY8Z_mLrlgVgHaFL_jpeg.rf.b71933e1de5c31882999074e5984ced5.jpg  \n",
            "  inflating: ./butterfly-spider/butterfly-spider/train/images/OIP-yRSUIefxbA4qnKvmV-LQIgHaGU_jpeg.rf.55858b542ca80cde4f30a777cfb484c9.jpg  \n",
            "  inflating: ./butterfly-spider/butterfly-spider/train/images/OIP-yRSUIefxbA4qnKvmV-LQIgHaGU_jpeg.rf.b288216cd6a00b9c0b7e823ad33e043b.jpg  \n",
            "  inflating: ./butterfly-spider/butterfly-spider/train/images/OIP-yRSUIefxbA4qnKvmV-LQIgHaGU_jpeg.rf.dad287ba86a18d4b0421bb25badbecf2.jpg  \n",
            "  inflating: ./butterfly-spider/butterfly-spider/train/images/OIP-yS4OGEGSS1M-WVXHCijJvAHaFj_jpeg.rf.066f9ce89e163b930835938d3586bdb8.jpg  \n",
            "  inflating: ./butterfly-spider/butterfly-spider/train/images/OIP-yS4OGEGSS1M-WVXHCijJvAHaFj_jpeg.rf.15fcaea0e2a444047f14a0f4d569625f.jpg  \n",
            "  inflating: ./butterfly-spider/butterfly-spider/train/images/OIP-yS4OGEGSS1M-WVXHCijJvAHaFj_jpeg.rf.40c0aa5df0833bb604da900bc1fd8eab.jpg  \n",
            "  inflating: ./butterfly-spider/butterfly-spider/train/images/OIP-YsOhyGPoVqgPNrbiHzP1nQHaE7_jpeg.rf.95b55c95e95a5fc220bd762fc5f31369.jpg  \n",
            "  inflating: ./butterfly-spider/butterfly-spider/train/images/OIP-YsOhyGPoVqgPNrbiHzP1nQHaE7_jpeg.rf.bb15bac37f5878231249d1cf727d26e7.jpg  \n",
            "  inflating: ./butterfly-spider/butterfly-spider/train/images/OIP-YsOhyGPoVqgPNrbiHzP1nQHaE7_jpeg.rf.bc975ab77b0d7a3202958b60ddc2e0ee.jpg  \n",
            "  inflating: ./butterfly-spider/butterfly-spider/train/images/OIP-YSV6Dor9lo9vmYBQyMEH7gHaG0_jpeg.rf.22450f8080d7d9bc2c46a784912c4d07.jpg  \n",
            "  inflating: ./butterfly-spider/butterfly-spider/train/images/OIP-YSV6Dor9lo9vmYBQyMEH7gHaG0_jpeg.rf.6843c9104f03ec01c8e305e5c2763d60.jpg  \n",
            "  inflating: ./butterfly-spider/butterfly-spider/train/images/OIP-YSV6Dor9lo9vmYBQyMEH7gHaG0_jpeg.rf.76bd7339db3896445748d1f5758ef614.jpg  \n",
            "  inflating: ./butterfly-spider/butterfly-spider/train/images/OIP-yTeONkbtKVAYsjeufhrBfwHaEK_jpeg.rf.4bb6bc022183f246976f952245459f33.jpg  \n",
            "  inflating: ./butterfly-spider/butterfly-spider/train/images/OIP-yTeONkbtKVAYsjeufhrBfwHaEK_jpeg.rf.eea1e0a5195e00b1c184d27ef1a328f5.jpg  \n",
            "  inflating: ./butterfly-spider/butterfly-spider/train/images/OIP-yTeONkbtKVAYsjeufhrBfwHaEK_jpeg.rf.fcf380aed72727be31db1e07b146cb80.jpg  \n",
            "  inflating: ./butterfly-spider/butterfly-spider/train/images/OIP-ytfT8p7tRAYsx1C05S7dFQHaGf_jpeg.rf.3559e25fad92bfb0bce1ffa67a79b501.jpg  \n",
            "  inflating: ./butterfly-spider/butterfly-spider/train/images/OIP-ytfT8p7tRAYsx1C05S7dFQHaGf_jpeg.rf.70760f7dc3ae238cd5170d26687710b4.jpg  \n",
            "  inflating: ./butterfly-spider/butterfly-spider/train/images/OIP-ytfT8p7tRAYsx1C05S7dFQHaGf_jpeg.rf.f91137a13ecf20141c51d21956300a76.jpg  \n",
            "  inflating: ./butterfly-spider/butterfly-spider/train/images/OIP-YTGq9vb6tpTzZ4c2-bwEKwHaHa_jpeg.rf.1dd86b6c8cdeee664e63655a24636631.jpg  \n",
            "  inflating: ./butterfly-spider/butterfly-spider/train/images/OIP-YTGq9vb6tpTzZ4c2-bwEKwHaHa_jpeg.rf.2e58e9532d741bbe1ab7b549038160b3.jpg  \n",
            "  inflating: ./butterfly-spider/butterfly-spider/train/images/OIP-YTGq9vb6tpTzZ4c2-bwEKwHaHa_jpeg.rf.6fd7b8dfe8a77db429e11e3953b51e39.jpg  \n",
            "  inflating: ./butterfly-spider/butterfly-spider/train/images/OIP-YTjAmT4zT-R1froxs0I3mAAAAA_jpeg.rf.030430a6e5e5eafee48f78416d3c5ed6.jpg  \n",
            "  inflating: ./butterfly-spider/butterfly-spider/train/images/OIP-YTjAmT4zT-R1froxs0I3mAAAAA_jpeg.rf.6ebd6d302e46b8cbe6f9f4e3b0b58519.jpg  \n",
            "  inflating: ./butterfly-spider/butterfly-spider/train/images/OIP-YTjAmT4zT-R1froxs0I3mAAAAA_jpeg.rf.e04707bfcb59d9e02b7539d9813a1d75.jpg  \n",
            "  inflating: ./butterfly-spider/butterfly-spider/train/images/OIP-YTkShz7nLfdJFXqXQqrlHwHaJ-_jpeg.rf.2bb3906279ae3319e891e6ebae7f11c7.jpg  \n",
            "  inflating: ./butterfly-spider/butterfly-spider/train/images/OIP-YTkShz7nLfdJFXqXQqrlHwHaJ-_jpeg.rf.a6cc3ec265dc70e5f40a1f8e040f22ad.jpg  \n",
            "  inflating: ./butterfly-spider/butterfly-spider/train/images/OIP-YTkShz7nLfdJFXqXQqrlHwHaJ-_jpeg.rf.e1378bc786aa1a7d3c0fd441fee0daf3.jpg  \n",
            "  inflating: ./butterfly-spider/butterfly-spider/train/images/OIP-ytmfl7C5pbd46M8cK_yBmwHaFN_jpeg.rf.5fa7caf6ff1555814197b9b4990253b0.jpg  \n",
            "  inflating: ./butterfly-spider/butterfly-spider/train/images/OIP-ytmfl7C5pbd46M8cK_yBmwHaFN_jpeg.rf.aa2a95268aa463c41f6e68a42c738b26.jpg  \n",
            "  inflating: ./butterfly-spider/butterfly-spider/train/images/OIP-ytmfl7C5pbd46M8cK_yBmwHaFN_jpeg.rf.fa52c88ea0c62fe1dcbb124948bb9683.jpg  \n",
            "  inflating: ./butterfly-spider/butterfly-spider/train/images/OIP-ytuefXIPtJNTQTghzHpipwHaFj_jpeg.rf.3461d8fc652e23beb5803ad9b71601fe.jpg  \n",
            "  inflating: ./butterfly-spider/butterfly-spider/train/images/OIP-ytuefXIPtJNTQTghzHpipwHaFj_jpeg.rf.513c5e979613a68175523c88ab1f76aa.jpg  \n",
            "  inflating: ./butterfly-spider/butterfly-spider/train/images/OIP-ytuefXIPtJNTQTghzHpipwHaFj_jpeg.rf.fdc44149064a92f552181da164c5b377.jpg  \n",
            "  inflating: ./butterfly-spider/butterfly-spider/train/images/OIP-YTv8p-bGpSQDMluSZh72yAHaE8_jpeg.rf.51b0e24e8880d3bd60bb7c6b239b6893.jpg  \n",
            "  inflating: ./butterfly-spider/butterfly-spider/train/images/OIP-YTv8p-bGpSQDMluSZh72yAHaE8_jpeg.rf.b9ebd7e0d0a058ab71129beb489b9119.jpg  \n",
            "  inflating: ./butterfly-spider/butterfly-spider/train/images/OIP-YTv8p-bGpSQDMluSZh72yAHaE8_jpeg.rf.d490f3fcecfdf5d8d1313ec25a0540c7.jpg  \n",
            "  inflating: ./butterfly-spider/butterfly-spider/train/images/OIP-ytvQKHU1jM6XCuEWDHFChgHaLH_jpeg.rf.4e22729b12c70ada70e9a6fb491eeaaf.jpg  \n",
            "  inflating: ./butterfly-spider/butterfly-spider/train/images/OIP-ytvQKHU1jM6XCuEWDHFChgHaLH_jpeg.rf.d43214ab08981f40aa74d6f8be3aeaad.jpg  \n",
            "  inflating: ./butterfly-spider/butterfly-spider/train/images/OIP-ytvQKHU1jM6XCuEWDHFChgHaLH_jpeg.rf.eb623b9798b29634bfb07ed63119e868.jpg  \n",
            "  inflating: ./butterfly-spider/butterfly-spider/train/images/OIP-Yu32H_EhSqQXohNmDnEsSwHaIK_jpeg.rf.455e86230c0f3f5162c16afab58bf661.jpg  \n",
            "  inflating: ./butterfly-spider/butterfly-spider/train/images/OIP-Yu32H_EhSqQXohNmDnEsSwHaIK_jpeg.rf.beeecfd69f294b51526f313dbfefef95.jpg  \n",
            "  inflating: ./butterfly-spider/butterfly-spider/train/images/OIP-Yu32H_EhSqQXohNmDnEsSwHaIK_jpeg.rf.da9e9213f3c59dcf67fe7cdc5ce20c60.jpg  \n",
            "  inflating: ./butterfly-spider/butterfly-spider/train/images/OIP-yuf_ZuUtcst-yklRNvU_3wEsEI_jpeg.rf.15bc88d73a7de44504469e2a63a94639.jpg  \n",
            "  inflating: ./butterfly-spider/butterfly-spider/train/images/OIP-yuf_ZuUtcst-yklRNvU_3wEsEI_jpeg.rf.71d39910911870bd6c00bb794e450e29.jpg  \n",
            "  inflating: ./butterfly-spider/butterfly-spider/train/images/OIP-yuf_ZuUtcst-yklRNvU_3wEsEI_jpeg.rf.9949780e4855b8780e2420d48b564d1d.jpg  \n",
            "  inflating: ./butterfly-spider/butterfly-spider/train/images/OIP-Yug5cUteWfrpkPeb-hbsxgHaFb_jpeg.rf.4dbc93ae05ababfa15be330494e8e634.jpg  \n",
            "  inflating: ./butterfly-spider/butterfly-spider/train/images/OIP-Yug5cUteWfrpkPeb-hbsxgHaFb_jpeg.rf.db5072399975b7004392c2bfd7188abc.jpg  \n",
            "  inflating: ./butterfly-spider/butterfly-spider/train/images/OIP-Yug5cUteWfrpkPeb-hbsxgHaFb_jpeg.rf.f0621eda2e7ab378e9c2dfb0166ac36e.jpg  \n",
            "  inflating: ./butterfly-spider/butterfly-spider/train/images/OIP-yuhmbEXH7xT-FxnjEECrTgHaHa_jpeg.rf.756136038b52051113d0dbb05aefc314.jpg  \n",
            "  inflating: ./butterfly-spider/butterfly-spider/train/images/OIP-yuhmbEXH7xT-FxnjEECrTgHaHa_jpeg.rf.a092f8ddc011d6d2a4f6e61503581b2f.jpg  \n",
            "  inflating: ./butterfly-spider/butterfly-spider/train/images/OIP-yuhmbEXH7xT-FxnjEECrTgHaHa_jpeg.rf.d7b75c30ca44ec7fb8d0a085abfaf2f1.jpg  \n",
            "  inflating: ./butterfly-spider/butterfly-spider/train/images/OIP-yui2lNb44ldZbnLdd-1DAHaEb_jpeg.rf.4e6e89ea164971eddc1281101a947acf.jpg  \n",
            "  inflating: ./butterfly-spider/butterfly-spider/train/images/OIP-yui2lNb44ldZbnLdd-1DAHaEb_jpeg.rf.b2525374f1f187d2eed0f836e8bacf98.jpg  \n",
            "  inflating: ./butterfly-spider/butterfly-spider/train/images/OIP-yui2lNb44ldZbnLdd-1DAHaEb_jpeg.rf.db61f215eb8395c4a931e2d79d1d1054.jpg  \n",
            "  inflating: ./butterfly-spider/butterfly-spider/train/images/OIP-yuJpSiKzuvcC48nduwgdiAHaNK_jpeg.rf.525b799cbdca4859478eb00f11a038e1.jpg  \n",
            "  inflating: ./butterfly-spider/butterfly-spider/train/images/OIP-yuJpSiKzuvcC48nduwgdiAHaNK_jpeg.rf.5c31f5ef61ed20923e6397e3870ec7df.jpg  \n",
            "  inflating: ./butterfly-spider/butterfly-spider/train/images/OIP-yuJpSiKzuvcC48nduwgdiAHaNK_jpeg.rf.a104f032b0176967022826dafdeedc95.jpg  \n",
            "  inflating: ./butterfly-spider/butterfly-spider/train/images/OIP-yUkQAdqE6iJjYZIpgaLPFQHaE8_jpeg.rf.565958b9ffe0a06f574527eaed70b550.jpg  \n",
            "  inflating: ./butterfly-spider/butterfly-spider/train/images/OIP-yUkQAdqE6iJjYZIpgaLPFQHaE8_jpeg.rf.9c829224aae373b531f6b2b7887eb650.jpg  \n",
            "  inflating: ./butterfly-spider/butterfly-spider/train/images/OIP-yUkQAdqE6iJjYZIpgaLPFQHaE8_jpeg.rf.accc0835992f101798fe5243d1bc7e74.jpg  \n",
            "  inflating: ./butterfly-spider/butterfly-spider/train/images/OIP-YUYjzep7JJflK_9ph59C9AHaF5_jpeg.rf.09034be9901dedb2b909ea79499afa6b.jpg  \n",
            "  inflating: ./butterfly-spider/butterfly-spider/train/images/OIP-YUYjzep7JJflK_9ph59C9AHaF5_jpeg.rf.a077ba4ea5b5af8fc803ff7e081f1985.jpg  \n",
            "  inflating: ./butterfly-spider/butterfly-spider/train/images/OIP-YUYjzep7JJflK_9ph59C9AHaF5_jpeg.rf.a983d5b4b064213fcc9294cb802381d9.jpg  \n",
            "  inflating: ./butterfly-spider/butterfly-spider/train/images/OIP-yVhxdlNYBOoHl-xICtSd8wHaE6_jpeg.rf.2d22c7c3cb0db320c1ebd737feb1422f.jpg  \n",
            "  inflating: ./butterfly-spider/butterfly-spider/train/images/OIP-yVhxdlNYBOoHl-xICtSd8wHaE6_jpeg.rf.783616baa7ab310111297dff1d44089c.jpg  \n",
            "  inflating: ./butterfly-spider/butterfly-spider/train/images/OIP-yVhxdlNYBOoHl-xICtSd8wHaE6_jpeg.rf.7d243a7524f470c0788044c9db8a6e18.jpg  \n",
            "  inflating: ./butterfly-spider/butterfly-spider/train/images/OIP-YW2huOSJOPefRR5D27KVzQHaEo_jpeg.rf.5aa61463cbda397b57c4ca47bc7854f7.jpg  \n",
            "  inflating: ./butterfly-spider/butterfly-spider/train/images/OIP-YW2huOSJOPefRR5D27KVzQHaEo_jpeg.rf.73616a5579345463f28cac6485171e59.jpg  \n",
            "  inflating: ./butterfly-spider/butterfly-spider/train/images/OIP-YW2huOSJOPefRR5D27KVzQHaEo_jpeg.rf.bf0fe0611e698b0fe632c3fa4264a37a.jpg  \n",
            "  inflating: ./butterfly-spider/butterfly-spider/train/images/OIP-yWF_EEgza7h9rU5I4X7AkAHaHQ_jpeg.rf.3256ecbf9a14c2b42cec422b537231cf.jpg  \n",
            "  inflating: ./butterfly-spider/butterfly-spider/train/images/OIP-yWF_EEgza7h9rU5I4X7AkAHaHQ_jpeg.rf.62b635c7bdbe64f66b48ce6394560f68.jpg  \n",
            "  inflating: ./butterfly-spider/butterfly-spider/train/images/OIP-yWF_EEgza7h9rU5I4X7AkAHaHQ_jpeg.rf.eed1a43cc73462451a7a1c1c0b1ac5d6.jpg  \n",
            "  inflating: ./butterfly-spider/butterfly-spider/train/images/OIP-YwIeC2PA80im2Y8TsIuCGwHaFd_jpeg.rf.7df4edfd094ef72f169010dace3cb903.jpg  \n",
            "  inflating: ./butterfly-spider/butterfly-spider/train/images/OIP-YwIeC2PA80im2Y8TsIuCGwHaFd_jpeg.rf.b54d57fd2346d2001f13458480d86f2c.jpg  \n",
            "  inflating: ./butterfly-spider/butterfly-spider/train/images/OIP-YwIeC2PA80im2Y8TsIuCGwHaFd_jpeg.rf.bad919ec09a2cd2b3068f4eb75ddaeba.jpg  \n",
            "  inflating: ./butterfly-spider/butterfly-spider/train/images/OIP-YWQi5gFkKVAZznDojSPo1AHaE7_jpeg.rf.4e132cdc6d2f2ea529ea9744f2ae395b.jpg  \n",
            "  inflating: ./butterfly-spider/butterfly-spider/train/images/OIP-YWQi5gFkKVAZznDojSPo1AHaE7_jpeg.rf.96369ef9afb33801b6f95c0cc256ebc8.jpg  \n",
            "  inflating: ./butterfly-spider/butterfly-spider/train/images/OIP-YWQi5gFkKVAZznDojSPo1AHaE7_jpeg.rf.e5ca2c3f56b8eb5a559b9c63183941f0.jpg  \n",
            "  inflating: ./butterfly-spider/butterfly-spider/train/images/OIP-yWw4zk0HUbw81Qm7NvherwHaFZ_jpeg.rf.462ff3914ca4a27c79278aec7cbd23ae.jpg  \n",
            "  inflating: ./butterfly-spider/butterfly-spider/train/images/OIP-yWw4zk0HUbw81Qm7NvherwHaFZ_jpeg.rf.e7d43a0cb3a6c095367460a970ea43c9.jpg  \n",
            "  inflating: ./butterfly-spider/butterfly-spider/train/images/OIP-YWWoda5gXTmCEVVqur9vlAHaEL_jpeg.rf.329f815b7bd824908261b94ef167a5ce.jpg  \n",
            "  inflating: ./butterfly-spider/butterfly-spider/train/images/OIP-YWWoda5gXTmCEVVqur9vlAHaEL_jpeg.rf.db86fdb0a262eea4d01cf8657acf36a1.jpg  \n",
            "  inflating: ./butterfly-spider/butterfly-spider/train/images/OIP-YWWoda5gXTmCEVVqur9vlAHaEL_jpeg.rf.efdbe86006d4be9bf35669bc00f387ba.jpg  \n",
            "  inflating: ./butterfly-spider/butterfly-spider/train/images/OIP-YWyEWQpk5sqNJAmd9BgswAHaFk_jpeg.rf.6a0a9d9b24c03ce0ede1b0bae81e0eab.jpg  \n",
            "  inflating: ./butterfly-spider/butterfly-spider/train/images/OIP-YWyEWQpk5sqNJAmd9BgswAHaFk_jpeg.rf.e053076dc0c93414fe2640db15a7fc48.jpg  \n",
            "  inflating: ./butterfly-spider/butterfly-spider/train/images/OIP-YWyEWQpk5sqNJAmd9BgswAHaFk_jpeg.rf.ee4744930e3c91a0f3a6655ce1dd15fa.jpg  \n",
            "  inflating: ./butterfly-spider/butterfly-spider/train/images/OIP-YWYqEb2cChmI_CQ6fYpZ3QHaGI_jpeg.rf.441c64d198b6024bf0f2771474ca767b.jpg  \n",
            "  inflating: ./butterfly-spider/butterfly-spider/train/images/OIP-YWYqEb2cChmI_CQ6fYpZ3QHaGI_jpeg.rf.4f475336a2f76ab2f8c6b78f81f007ef.jpg  \n",
            "  inflating: ./butterfly-spider/butterfly-spider/train/images/OIP-YWYqEb2cChmI_CQ6fYpZ3QHaGI_jpeg.rf.e9e927c9ffb1d5e5f810af6ac2c09350.jpg  \n",
            "  inflating: ./butterfly-spider/butterfly-spider/train/images/OIP-Yx3tPptkHzJ5ikJICupH8QHaIZ_jpeg.rf.2abc4f917bb7982729f156633a0cc7f2.jpg  \n",
            "  inflating: ./butterfly-spider/butterfly-spider/train/images/OIP-Yx3tPptkHzJ5ikJICupH8QHaIZ_jpeg.rf.9f5ac0c797c8e91f39cdf1aede79c93c.jpg  \n",
            "  inflating: ./butterfly-spider/butterfly-spider/train/images/OIP-Yx3tPptkHzJ5ikJICupH8QHaIZ_jpeg.rf.b2a46689cccd0fcf88044225ed4f9a8a.jpg  \n",
            "  inflating: ./butterfly-spider/butterfly-spider/train/images/OIP-YXDyJLmfPWnoKDVn2JlgcwHaH5_jpeg.rf.022fb5cd600d635c4f733ca90883d570.jpg  \n",
            "  inflating: ./butterfly-spider/butterfly-spider/train/images/OIP-YXDyJLmfPWnoKDVn2JlgcwHaH5_jpeg.rf.21a08cb237dd653bab3ce9aa192ad6fe.jpg  \n",
            "  inflating: ./butterfly-spider/butterfly-spider/train/images/OIP-YXDyJLmfPWnoKDVn2JlgcwHaH5_jpeg.rf.ac94fec0c2317118c483348629e646d9.jpg  \n",
            "  inflating: ./butterfly-spider/butterfly-spider/train/images/OIP-YxKaKZ82n3Y8QvEkbzf8yQHaEo_jpeg.rf.34da5baad83c73eff3b02dee09d2d08f.jpg  \n",
            "  inflating: ./butterfly-spider/butterfly-spider/train/images/OIP-YxKaKZ82n3Y8QvEkbzf8yQHaEo_jpeg.rf.747d4b92fd65abdb20595b8f03fa90fa.jpg  \n",
            "  inflating: ./butterfly-spider/butterfly-spider/train/images/OIP-YxKaKZ82n3Y8QvEkbzf8yQHaEo_jpeg.rf.99b0ebc0d1bf3307c7857c23b465355d.jpg  \n",
            "  inflating: ./butterfly-spider/butterfly-spider/train/images/OIP-YxmjyUUbmVOTOwA5fv3XgHaFL_jpeg.rf.671395d6cbc64fb4f5a4139b46c9f3a2.jpg  \n",
            "  inflating: ./butterfly-spider/butterfly-spider/train/images/OIP-YxmjyUUbmVOTOwA5fv3XgHaFL_jpeg.rf.68504ca759ebd67e5b2b68a8a27087ea.jpg  \n",
            "  inflating: ./butterfly-spider/butterfly-spider/train/images/OIP-YxmjyUUbmVOTOwA5fv3XgHaFL_jpeg.rf.db25915dc284fa68c220a38232173db5.jpg  \n",
            "  inflating: ./butterfly-spider/butterfly-spider/train/images/OIP-YXMWEIWQ0_rw3DZyNfjGGgHaJg_jpeg.rf.318d5bee35b00a112d9f272054a317ed.jpg  \n",
            "  inflating: ./butterfly-spider/butterfly-spider/train/images/OIP-YXMWEIWQ0_rw3DZyNfjGGgHaJg_jpeg.rf.64ceb70931c1febab1a188789b7c2b9c.jpg  \n",
            "  inflating: ./butterfly-spider/butterfly-spider/train/images/OIP-YXMWEIWQ0_rw3DZyNfjGGgHaJg_jpeg.rf.c2fc45af45ad1fe1d6cc481c1f7cb9cf.jpg  \n",
            "  inflating: ./butterfly-spider/butterfly-spider/train/images/OIP-yXSHITn05xvRF4YPNTX4FwHaE8_jpeg.rf.18f1c675247924b0f08ffda95ab0b507.jpg  \n",
            "  inflating: ./butterfly-spider/butterfly-spider/train/images/OIP-yXSHITn05xvRF4YPNTX4FwHaE8_jpeg.rf.9c2d47e96ffe5f9c238ff25e9c32064f.jpg  \n",
            "  inflating: ./butterfly-spider/butterfly-spider/train/images/OIP-yXSHITn05xvRF4YPNTX4FwHaE8_jpeg.rf.d38551625e05a07d000ddc94a620b4e6.jpg  \n",
            "  inflating: ./butterfly-spider/butterfly-spider/train/images/OIP-yyh6D2hwNQjC7LCX1CPg7QHaE8_jpeg.rf.b6309f4d94cd00e7eee3c28bb9d83eca.jpg  \n",
            "  inflating: ./butterfly-spider/butterfly-spider/train/images/OIP-yyh6D2hwNQjC7LCX1CPg7QHaE8_jpeg.rf.eb3832ba03083812a4106a3f41abf17c.jpg  \n",
            "  inflating: ./butterfly-spider/butterfly-spider/train/images/OIP-yZFqF2DrDy1iyg6kR30N4wD5D6_jpeg.rf.3a240c3308f566a632fe5d6080fc71a2.jpg  \n",
            "  inflating: ./butterfly-spider/butterfly-spider/train/images/OIP-yZFqF2DrDy1iyg6kR30N4wD5D6_jpeg.rf.ba40aa8695297439f763a52667d51240.jpg  \n",
            "  inflating: ./butterfly-spider/butterfly-spider/train/images/OIP-yZFqF2DrDy1iyg6kR30N4wD5D6_jpeg.rf.cb31c90e84e7a646585013fda230be61.jpg  \n",
            "  inflating: ./butterfly-spider/butterfly-spider/train/images/OIP-yzT6UwfgoO_l1ZIb2-SdzgHaE6_jpeg.rf.0dcbea3718e574e20d6bb6cfba537e7f.jpg  \n",
            "  inflating: ./butterfly-spider/butterfly-spider/train/images/OIP-yzT6UwfgoO_l1ZIb2-SdzgHaE6_jpeg.rf.44ce706314eb2f6b710c6a121368f0da.jpg  \n",
            "  inflating: ./butterfly-spider/butterfly-spider/train/images/OIP-yzT6UwfgoO_l1ZIb2-SdzgHaE6_jpeg.rf.856e0a1e0683ddf1329369579d11c7cf.jpg  \n",
            "  inflating: ./butterfly-spider/butterfly-spider/train/images/OIP-YzTljtpKSBJZmQmdHOQ-OwHaLH_jpeg.rf.66d2e2919045cf91dcfcb83ea6c12e7c.jpg  \n",
            "  inflating: ./butterfly-spider/butterfly-spider/train/images/OIP-YzTljtpKSBJZmQmdHOQ-OwHaLH_jpeg.rf.8c555a5a59e4acb7e02a9c65edd9e733.jpg  \n",
            "  inflating: ./butterfly-spider/butterfly-spider/train/images/OIP-YzTljtpKSBJZmQmdHOQ-OwHaLH_jpeg.rf.dffdf28881e820e7e34dd17b568253e8.jpg  \n",
            "  inflating: ./butterfly-spider/butterfly-spider/train/images/OIP-YzZWlCiYdyG6V0W0BZyZQAHaLJ_jpeg.rf.5ea29309153d8a982aeb38b1736e614d.jpg  \n",
            "  inflating: ./butterfly-spider/butterfly-spider/train/images/OIP-YzZWlCiYdyG6V0W0BZyZQAHaLJ_jpeg.rf.7fb783f291b2b2ddfe2ca136ebbfa5c1.jpg  \n",
            "  inflating: ./butterfly-spider/butterfly-spider/train/images/OIP-YzZWlCiYdyG6V0W0BZyZQAHaLJ_jpeg.rf.c871d8a1e3c410f3f572e15094f4838f.jpg  \n",
            "  inflating: ./butterfly-spider/butterfly-spider/train/images/OIP-Z0rjiaXwaACAujNgPezbpQHaHa_jpeg.rf.c8448bd3c8f38c2fe58e076678163ad9.jpg  \n",
            "  inflating: ./butterfly-spider/butterfly-spider/train/images/OIP-Z0rjiaXwaACAujNgPezbpQHaHa_jpeg.rf.e72368e2ea9a0c4078eb702f6134e27e.jpg  \n",
            "  inflating: ./butterfly-spider/butterfly-spider/train/images/OIP-Z0rjiaXwaACAujNgPezbpQHaHa_jpeg.rf.fd770551886c8a587a608d7dd28132dc.jpg  \n",
            "  inflating: ./butterfly-spider/butterfly-spider/train/images/OIP-z1px7tqiLGw-zjupGLZ0ggHaFe_jpeg.rf.9174030fec3d01b843ec02eafac27f8e.jpg  \n",
            "  inflating: ./butterfly-spider/butterfly-spider/train/images/OIP-z1px7tqiLGw-zjupGLZ0ggHaFe_jpeg.rf.c0055813ad2532c0282737327b3d20c8.jpg  \n",
            "  inflating: ./butterfly-spider/butterfly-spider/train/images/OIP-z1px7tqiLGw-zjupGLZ0ggHaFe_jpeg.rf.e0aee121f8905ee29b4a03419020ef91.jpg  \n",
            "  inflating: ./butterfly-spider/butterfly-spider/train/images/OIP-Z1ZqgSv6x9XXL7XlXCK3ggHaEO_jpeg.rf.4c1761135f3ff9a03afd247989b0648f.jpg  \n",
            "  inflating: ./butterfly-spider/butterfly-spider/train/images/OIP-Z1ZqgSv6x9XXL7XlXCK3ggHaEO_jpeg.rf.c2cc593d178350dac9dbd5373a390d53.jpg  \n",
            "  inflating: ./butterfly-spider/butterfly-spider/train/images/OIP-Z1ZqgSv6x9XXL7XlXCK3ggHaEO_jpeg.rf.df9373d14514a46bece9bef7da667cd8.jpg  \n",
            "  inflating: ./butterfly-spider/butterfly-spider/train/images/OIP-z2PWlHdCu_wHu-NYY-_jOgHaE7_jpeg.rf.045cf05f43e6b8e68b791cf4e01b32be.jpg  \n",
            "  inflating: ./butterfly-spider/butterfly-spider/train/images/OIP-z2PWlHdCu_wHu-NYY-_jOgHaE7_jpeg.rf.79dd3a16f8409fe70e4912a88c6b3bfc.jpg  \n",
            "  inflating: ./butterfly-spider/butterfly-spider/train/images/OIP-z2PWlHdCu_wHu-NYY-_jOgHaE7_jpeg.rf.fceb1b1296ff9d69ea589fc612afd735.jpg  \n",
            "  inflating: ./butterfly-spider/butterfly-spider/train/images/OIP-Z2xrVmDmr9uK-biTP3DrugHaE8_jpeg.rf.aff5ee2a46e15516b772f17504e72b19.jpg  \n",
            "  inflating: ./butterfly-spider/butterfly-spider/train/images/OIP-Z2xrVmDmr9uK-biTP3DrugHaE8_jpeg.rf.b48b623fee761f7362f0a4996444abe8.jpg  \n",
            "  inflating: ./butterfly-spider/butterfly-spider/train/images/OIP-Z2xrVmDmr9uK-biTP3DrugHaE8_jpeg.rf.f4353784b33d23ca8e86c5edbd2f4578.jpg  \n",
            "  inflating: ./butterfly-spider/butterfly-spider/train/images/OIP-z46vROwW3YPa_826QSTKYAHaFP_jpeg.rf.2b51d8ab0e720fdc6ce5fdab5bed9478.jpg  \n",
            "  inflating: ./butterfly-spider/butterfly-spider/train/images/OIP-z46vROwW3YPa_826QSTKYAHaFP_jpeg.rf.dc7ccbdf3b0b553deca2e82a94bca84a.jpg  \n",
            "  inflating: ./butterfly-spider/butterfly-spider/train/images/OIP-z46vROwW3YPa_826QSTKYAHaFP_jpeg.rf.f245f66f187b100994cf435d78798f4a.jpg  \n",
            "  inflating: ./butterfly-spider/butterfly-spider/train/images/OIP-z5_PYODGjJn8wMDOjVXD1AHaE8_jpeg.rf.1622f70f6bc0449b310c2ee84ea1f34f.jpg  \n",
            "  inflating: ./butterfly-spider/butterfly-spider/train/images/OIP-z5_PYODGjJn8wMDOjVXD1AHaE8_jpeg.rf.823d5d2eb5a9edf70f992f9fdbabc5cf.jpg  \n",
            "  inflating: ./butterfly-spider/butterfly-spider/train/images/OIP-z5_PYODGjJn8wMDOjVXD1AHaE8_jpeg.rf.a2a9cfef3ad56d991f8be80162c906a9.jpg  \n",
            "  inflating: ./butterfly-spider/butterfly-spider/train/images/OIP-z5rafOWOJ-NhLLKPzKnMiwHaFe_jpeg.rf.21973c409e1c0d6314ec76b75654a8c8.jpg  \n",
            "  inflating: ./butterfly-spider/butterfly-spider/train/images/OIP-z5rafOWOJ-NhLLKPzKnMiwHaFe_jpeg.rf.671db9dff5ecf76f462248128986075a.jpg  \n",
            "  inflating: ./butterfly-spider/butterfly-spider/train/images/OIP-z5rafOWOJ-NhLLKPzKnMiwHaFe_jpeg.rf.6f0720ceb2137d83c6c4d09946d5fe54.jpg  \n",
            "  inflating: ./butterfly-spider/butterfly-spider/train/images/OIP-z5TOnpygrdKsNzeEYaXkyQHaGY_jpeg.rf.197ec44f49c036e6e16a8ae339d05659.jpg  \n",
            "  inflating: ./butterfly-spider/butterfly-spider/train/images/OIP-z5TOnpygrdKsNzeEYaXkyQHaGY_jpeg.rf.65a9aab024af650f78dfc9249ab4c65b.jpg  \n",
            "  inflating: ./butterfly-spider/butterfly-spider/train/images/OIP-z5TOnpygrdKsNzeEYaXkyQHaGY_jpeg.rf.9a82463f63896a18837de97f16e3662b.jpg  \n",
            "  inflating: ./butterfly-spider/butterfly-spider/train/images/OIP-z7uZ1Tit_T_2BmRjzYuuiwElEs_jpeg.rf.07db2b5e7759c036eb0fe7195bd69382.jpg  \n",
            "  inflating: ./butterfly-spider/butterfly-spider/train/images/OIP-z7uZ1Tit_T_2BmRjzYuuiwElEs_jpeg.rf.2f037426e08ed2542f1368499a0c86ff.jpg  \n",
            "  inflating: ./butterfly-spider/butterfly-spider/train/images/OIP-z7uZ1Tit_T_2BmRjzYuuiwElEs_jpeg.rf.f7916fba4ec1a537d877ab4d3921ec3e.jpg  \n",
            "  inflating: ./butterfly-spider/butterfly-spider/train/images/OIP-Z7vqUjdmHS91z49flPfBfAHaFj_jpeg.rf.4eb6422a381e1cfd85ebfe1fd5b814cd.jpg  \n",
            "  inflating: ./butterfly-spider/butterfly-spider/train/images/OIP-Z7vqUjdmHS91z49flPfBfAHaFj_jpeg.rf.9a86082a027267ac3dc8f0fbf687f0d1.jpg  \n",
            "  inflating: ./butterfly-spider/butterfly-spider/train/images/OIP-Z7vqUjdmHS91z49flPfBfAHaFj_jpeg.rf.b4059ebc9395f19a56de603d183f1156.jpg  \n",
            "  inflating: ./butterfly-spider/butterfly-spider/train/images/OIP-Z8_xxpuotauY24XqOos7zwHaEH_jpeg.rf.1fa7aee6339d317bca3fcd5afafc3cd8.jpg  \n",
            "  inflating: ./butterfly-spider/butterfly-spider/train/images/OIP-Z8_xxpuotauY24XqOos7zwHaEH_jpeg.rf.792d43a1c7cb12162baed6a18c4f4dbb.jpg  \n",
            "  inflating: ./butterfly-spider/butterfly-spider/train/images/OIP-Z8_xxpuotauY24XqOos7zwHaEH_jpeg.rf.e38773af8f868a77d56824c4c8b3c859.jpg  \n",
            "  inflating: ./butterfly-spider/butterfly-spider/train/images/OIP-Z8a_JtxkQbTf-VD4v3OjyAHaFj_jpeg.rf.1c909974eab08a178194ef3a773a1ecd.jpg  \n",
            "  inflating: ./butterfly-spider/butterfly-spider/train/images/OIP-Z8a_JtxkQbTf-VD4v3OjyAHaFj_jpeg.rf.df6f8300d06baef9df4f6f03e874bc42.jpg  \n",
            "  inflating: ./butterfly-spider/butterfly-spider/train/images/OIP-Z8a_JtxkQbTf-VD4v3OjyAHaFj_jpeg.rf.f292dc7bda8d43f12e3fb5d8caf5c9e1.jpg  \n",
            "  inflating: ./butterfly-spider/butterfly-spider/train/images/OIP-Z8lNnM2djoJUItfzflz4yAHaE8_jpeg.rf.239e99122af9ba0b935a63b5a82a1be5.jpg  \n",
            "  inflating: ./butterfly-spider/butterfly-spider/train/images/OIP-Z8lNnM2djoJUItfzflz4yAHaE8_jpeg.rf.502d9e0cd60ffbafe06632071a27d401.jpg  \n",
            "  inflating: ./butterfly-spider/butterfly-spider/train/images/OIP-Z8lNnM2djoJUItfzflz4yAHaE8_jpeg.rf.750065949964c78acc114fb7bbb45d0f.jpg  \n",
            "  inflating: ./butterfly-spider/butterfly-spider/train/images/OIP-z8zJbRCC9rxdLFA-3DhArgHaE6_jpeg.rf.71cf8f11df240a77ad874b79df99126c.jpg  \n",
            "  inflating: ./butterfly-spider/butterfly-spider/train/images/OIP-z8zJbRCC9rxdLFA-3DhArgHaE6_jpeg.rf.b9f6f30b39e493b0a479697a298f55f4.jpg  \n",
            "  inflating: ./butterfly-spider/butterfly-spider/train/images/OIP-z8zJbRCC9rxdLFA-3DhArgHaE6_jpeg.rf.c1aef6e5d6e7bdb744e4494a05334bb9.jpg  \n",
            "  inflating: ./butterfly-spider/butterfly-spider/train/images/OIP-Z9fM4yNQ8e2ZV132wybRfQHaGI_jpeg.rf.1f71f3f8d5d2f8a3391690356c18fd8d.jpg  \n",
            "  inflating: ./butterfly-spider/butterfly-spider/train/images/OIP-Z9fM4yNQ8e2ZV132wybRfQHaGI_jpeg.rf.360e4f40df2b718a3ebca416907f0d67.jpg  \n",
            "  inflating: ./butterfly-spider/butterfly-spider/train/images/OIP-Z9fM4yNQ8e2ZV132wybRfQHaGI_jpeg.rf.e88178cb3f00b526c1c10d1f7bfcb5b8.jpg  \n",
            "  inflating: ./butterfly-spider/butterfly-spider/train/images/OIP-Z-9nbhWv5KE3m6y2fE56rgHaEi_jpeg.rf.1f4e61699b4b678b27896c9d458e887d.jpg  \n",
            "  inflating: ./butterfly-spider/butterfly-spider/train/images/OIP-Z-9nbhWv5KE3m6y2fE56rgHaEi_jpeg.rf.a25f8f8776128db5023b495b98dfcc76.jpg  \n",
            "  inflating: ./butterfly-spider/butterfly-spider/train/images/OIP-Z-9nbhWv5KE3m6y2fE56rgHaEi_jpeg.rf.d6914d3bd64085a2c73fec1a210e5c3a.jpg  \n",
            "  inflating: ./butterfly-spider/butterfly-spider/train/images/OIP-z9OuKNi-K2bjP6PL6C1vcgHaJO_jpeg.rf.a0d4e7c9c6ec49dc38dc58cd0e4a6de9.jpg  \n",
            "  inflating: ./butterfly-spider/butterfly-spider/train/images/OIP-z9OuKNi-K2bjP6PL6C1vcgHaJO_jpeg.rf.b23bea9793697597ad92fd32353cc4e1.jpg  \n",
            "  inflating: ./butterfly-spider/butterfly-spider/train/images/OIP-z9OuKNi-K2bjP6PL6C1vcgHaJO_jpeg.rf.f8d9975b0de65f27f82b2087aa528389.jpg  \n",
            "  inflating: ./butterfly-spider/butterfly-spider/train/images/OIP-Z9R0QAThaORQ_f5PsD1jtQHaLH_jpeg.rf.1a209c2222f8dd8a8a8c369ca0d2d76e.jpg  \n",
            "  inflating: ./butterfly-spider/butterfly-spider/train/images/OIP-Z9R0QAThaORQ_f5PsD1jtQHaLH_jpeg.rf.5695536aac7569fb1d70922cb3826559.jpg  \n",
            "  inflating: ./butterfly-spider/butterfly-spider/train/images/OIP-Z9R0QAThaORQ_f5PsD1jtQHaLH_jpeg.rf.ebd2dd2ea41249d63b2732c66f7675b8.jpg  \n",
            "  inflating: ./butterfly-spider/butterfly-spider/train/images/OIP-ZAvjq08VZZgLPZkErgLkNwHaF7_jpeg.rf.1b91d1d2dfdef8fe234aafc066f67fb7.jpg  \n",
            "  inflating: ./butterfly-spider/butterfly-spider/train/images/OIP-ZAvjq08VZZgLPZkErgLkNwHaF7_jpeg.rf.31c249db99c7b34812ca942fc65cedd7.jpg  \n",
            "  inflating: ./butterfly-spider/butterfly-spider/train/images/OIP-ZAvjq08VZZgLPZkErgLkNwHaF7_jpeg.rf.d4d1e527da733b2731d1ae0a7c82d85c.jpg  \n",
            "  inflating: ./butterfly-spider/butterfly-spider/train/images/OIP-ZBTdCnY9Po4Ww9U9DAQ5PwHaEk_jpeg.rf.02b7d528fb0849cfcacb9de4b5645674.jpg  \n",
            "  inflating: ./butterfly-spider/butterfly-spider/train/images/OIP-ZBTdCnY9Po4Ww9U9DAQ5PwHaEk_jpeg.rf.10374eb125d9a0fb98a5cc4947ddad39.jpg  \n",
            "  inflating: ./butterfly-spider/butterfly-spider/train/images/OIP-ZBTdCnY9Po4Ww9U9DAQ5PwHaEk_jpeg.rf.63746340df6b99929306dcee92b5b826.jpg  \n",
            "  inflating: ./butterfly-spider/butterfly-spider/train/images/OIP-zbXH1t40TGtfaf-jr0YE3QHaFj_jpeg.rf.5c2f15fec080a57fa4344d3ecc7cd5e6.jpg  \n",
            "  inflating: ./butterfly-spider/butterfly-spider/train/images/OIP-zbXH1t40TGtfaf-jr0YE3QHaFj_jpeg.rf.a97e66c32ded2ed4e21f2fb8b43fbeaf.jpg  \n",
            "  inflating: ./butterfly-spider/butterfly-spider/train/images/OIP-zbXH1t40TGtfaf-jr0YE3QHaFj_jpeg.rf.ac571d9ad7e0125d837824fb6fd4e41e.jpg  \n",
            "  inflating: ./butterfly-spider/butterfly-spider/train/images/OIP-zc4GYQLJ5Tm78CwmoOdvlwHaIM_jpeg.rf.416cdb4c447c41041e047f19ea40c907.jpg  \n",
            "  inflating: ./butterfly-spider/butterfly-spider/train/images/OIP-zc4GYQLJ5Tm78CwmoOdvlwHaIM_jpeg.rf.79bbfaa5193ea481b161208f18d20478.jpg  \n",
            "  inflating: ./butterfly-spider/butterfly-spider/train/images/OIP-zc4GYQLJ5Tm78CwmoOdvlwHaIM_jpeg.rf.c951caf7cb183f8262300cf692b936e2.jpg  \n",
            "  inflating: ./butterfly-spider/butterfly-spider/train/images/OIP-z-Di2tlPDdinq2kU19r-CQHaFN_jpeg.rf.4be8fb0e774b31f9febf093be949b893.jpg  \n",
            "  inflating: ./butterfly-spider/butterfly-spider/train/images/OIP-z-Di2tlPDdinq2kU19r-CQHaFN_jpeg.rf.8621f74c5d6be57262c8ba29d289221a.jpg  \n",
            "  inflating: ./butterfly-spider/butterfly-spider/train/images/OIP-ZdKSrkpG8B2-f3fueXw44gHaE9_jpeg.rf.1f9232698f9960e2debcc011699a249e.jpg  \n",
            "  inflating: ./butterfly-spider/butterfly-spider/train/images/OIP-ZdKSrkpG8B2-f3fueXw44gHaE9_jpeg.rf.56c06f2ba9982df84ffe7a533af94f0c.jpg  \n",
            "  inflating: ./butterfly-spider/butterfly-spider/train/images/OIP-ZdKSrkpG8B2-f3fueXw44gHaE9_jpeg.rf.a9411f5931d5dacaada891442153999c.jpg  \n",
            "  inflating: ./butterfly-spider/butterfly-spider/train/images/OIP-zdZAIubVm0NYpKeBu4zW5QHaFa_jpeg.rf.4616a0b5c28971a88d5c55f36b58f4f1.jpg  \n",
            "  inflating: ./butterfly-spider/butterfly-spider/train/images/OIP-zdZAIubVm0NYpKeBu4zW5QHaFa_jpeg.rf.a8a156636e9a79d6b9820491d7f3c587.jpg  \n",
            "  inflating: ./butterfly-spider/butterfly-spider/train/images/OIP-zdZAIubVm0NYpKeBu4zW5QHaFa_jpeg.rf.e459d6109c138feba7884d4960b9f007.jpg  \n",
            "  inflating: ./butterfly-spider/butterfly-spider/train/images/OIP-ZdZR5B6aAf6jqzFmluXZAQHaIR_jpeg.rf.203f4fd240a55b40a89a269cabc9b65a.jpg  \n",
            "  inflating: ./butterfly-spider/butterfly-spider/train/images/OIP-ZdZR5B6aAf6jqzFmluXZAQHaIR_jpeg.rf.4013119ddebf080212459b9927a404b7.jpg  \n",
            "  inflating: ./butterfly-spider/butterfly-spider/train/images/OIP-ZdZR5B6aAf6jqzFmluXZAQHaIR_jpeg.rf.73d0e5afb28f56494cd7f27c0349e410.jpg  \n",
            "  inflating: ./butterfly-spider/butterfly-spider/train/images/OIP-zEcEUsfyZRh-hVf_ePJOjQHaE7_jpeg.rf.07648fd40f5ed4fe5e17cffd511d427e.jpg  \n",
            "  inflating: ./butterfly-spider/butterfly-spider/train/images/OIP-zEcEUsfyZRh-hVf_ePJOjQHaE7_jpeg.rf.113fa47cd3773e2903371c6152b7e89b.jpg  \n",
            "  inflating: ./butterfly-spider/butterfly-spider/train/images/OIP-zEcEUsfyZRh-hVf_ePJOjQHaE7_jpeg.rf.59b18b0baab3e48478d073d318289c8a.jpg  \n",
            "  inflating: ./butterfly-spider/butterfly-spider/train/images/OIP-ZeL22_dU7eRsi9ei7jwt6wHaFS_jpeg.rf.32cd9a0951ecc8120af08f2e742fa922.jpg  \n",
            "  inflating: ./butterfly-spider/butterfly-spider/train/images/OIP-ZeL22_dU7eRsi9ei7jwt6wHaFS_jpeg.rf.3a4fdb779a2b4668a653fd85e29f3306.jpg  \n",
            "  inflating: ./butterfly-spider/butterfly-spider/train/images/OIP-ZeL22_dU7eRsi9ei7jwt6wHaFS_jpeg.rf.661e55d975bc71d9280f87d311aad626.jpg  \n",
            "  inflating: ./butterfly-spider/butterfly-spider/train/images/OIP-zF1ZnxyoxV-lHuLT4boBXAHaEV_jpeg.rf.0b58cf7199f8c7eb57133448efd737a7.jpg  \n",
            "  inflating: ./butterfly-spider/butterfly-spider/train/images/OIP-zF1ZnxyoxV-lHuLT4boBXAHaEV_jpeg.rf.8f938621fe966480298ece29f7dd97cc.jpg  \n",
            "  inflating: ./butterfly-spider/butterfly-spider/train/images/OIP-zF1ZnxyoxV-lHuLT4boBXAHaEV_jpeg.rf.b08223786f14e6bdfd3187caaf29759e.jpg  \n",
            "  inflating: ./butterfly-spider/butterfly-spider/train/images/OIP-zF8bLcX3upodflev7Tu86gHaFQ_jpeg.rf.95ca7d698e9404594cd50ed10ff5bbc3.jpg  \n",
            "  inflating: ./butterfly-spider/butterfly-spider/train/images/OIP-zF8bLcX3upodflev7Tu86gHaFQ_jpeg.rf.c91a4262b2d4764fb3293c459bd24749.jpg  \n",
            "  inflating: ./butterfly-spider/butterfly-spider/train/images/OIP-zF8bLcX3upodflev7Tu86gHaFQ_jpeg.rf.df4b5b8c543e1d4491ca6eb8b0be6fff.jpg  \n",
            "  inflating: ./butterfly-spider/butterfly-spider/train/images/OIP-zfAPVLu-8OF35j4RhgKULgHaHs_jpeg.rf.7676cb60dbde5dd3a828688eb390191b.jpg  \n",
            "  inflating: ./butterfly-spider/butterfly-spider/train/images/OIP-zfAPVLu-8OF35j4RhgKULgHaHs_jpeg.rf.b0b7e576070f05f1d66fc02aa36c80ea.jpg  \n",
            "  inflating: ./butterfly-spider/butterfly-spider/train/images/OIP-zfAPVLu-8OF35j4RhgKULgHaHs_jpeg.rf.d7e659f9e9d912d9e3973f6b6cf3d7ad.jpg  \n",
            "  inflating: ./butterfly-spider/butterfly-spider/train/images/OIP-ZfbIIMJIiGZ6dkgKrnt6tgHaE7_jpeg.rf.139d3471f3cdc9cb0e5d03692d74d66c.jpg  \n",
            "  inflating: ./butterfly-spider/butterfly-spider/train/images/OIP-ZfbIIMJIiGZ6dkgKrnt6tgHaE7_jpeg.rf.30598705883ff023e938f889955eecc5.jpg  \n",
            "  inflating: ./butterfly-spider/butterfly-spider/train/images/OIP-ZfbIIMJIiGZ6dkgKrnt6tgHaE7_jpeg.rf.b1979c2f9990c43717c24201705338e5.jpg  \n",
            "  inflating: ./butterfly-spider/butterfly-spider/train/images/OIP-Zfn61Vsl6Ze5PVcefkg6ZAHaE7_jpeg.rf.06d6bbc5b03897a840a6174951529189.jpg  \n",
            "  inflating: ./butterfly-spider/butterfly-spider/train/images/OIP-Zfn61Vsl6Ze5PVcefkg6ZAHaE7_jpeg.rf.1241d25587eeaa5f8b397eb6ec736003.jpg  \n",
            "  inflating: ./butterfly-spider/butterfly-spider/train/images/OIP-Zfn61Vsl6Ze5PVcefkg6ZAHaE7_jpeg.rf.76539b0180df2180133ca622e4fc22fd.jpg  \n",
            "  inflating: ./butterfly-spider/butterfly-spider/train/images/OIP-ZfpKmVO0DVFjREjxCETW9AHaEv_jpeg.rf.3a7eb7cf551528ec98079a346b0b43ae.jpg  \n",
            "  inflating: ./butterfly-spider/butterfly-spider/train/images/OIP-ZfpKmVO0DVFjREjxCETW9AHaEv_jpeg.rf.7736d63f7bead75805451756206c21ae.jpg  \n",
            "  inflating: ./butterfly-spider/butterfly-spider/train/images/OIP-ZfpKmVO0DVFjREjxCETW9AHaEv_jpeg.rf.8db5f0225cd299e9f12169914b5d1f56.jpg  \n",
            "  inflating: ./butterfly-spider/butterfly-spider/train/images/OIP-ZFTi_50S9jvpmygEn6VVGwHaJQ_jpeg.rf.16927b1b5c3d1598c967c94d428e1179.jpg  \n",
            "  inflating: ./butterfly-spider/butterfly-spider/train/images/OIP-ZFTi_50S9jvpmygEn6VVGwHaJQ_jpeg.rf.ba000e4e2378d900c1e0b9dd642be328.jpg  \n",
            "  inflating: ./butterfly-spider/butterfly-spider/train/images/OIP-ZFTi_50S9jvpmygEn6VVGwHaJQ_jpeg.rf.c4594adb3553f532b92f59e9a06ecf7c.jpg  \n",
            "  inflating: ./butterfly-spider/butterfly-spider/train/images/OIP-ZGiVM7MXnQXGK_OLjA-K2gHaFj_jpeg.rf.0607c4be4340695ec8138148f836700c.jpg  \n",
            "  inflating: ./butterfly-spider/butterfly-spider/train/images/OIP-ZGiVM7MXnQXGK_OLjA-K2gHaFj_jpeg.rf.62bbffe98776e988a4b80e58b763b459.jpg  \n",
            "  inflating: ./butterfly-spider/butterfly-spider/train/images/OIP-ZGiVM7MXnQXGK_OLjA-K2gHaFj_jpeg.rf.cffb47e6b600a078ef2f1ba10e028f39.jpg  \n",
            "  inflating: ./butterfly-spider/butterfly-spider/train/images/OIP-Z-GtFEd8GLhDV7rwNxuObwHaFG_jpeg.rf.0d04976cb2f9357b4772b44498041a48.jpg  \n",
            "  inflating: ./butterfly-spider/butterfly-spider/train/images/OIP-Z-GtFEd8GLhDV7rwNxuObwHaFG_jpeg.rf.4f7af4eadd41a994258aacb72874751b.jpg  \n",
            "  inflating: ./butterfly-spider/butterfly-spider/train/images/OIP-Z-GtFEd8GLhDV7rwNxuObwHaFG_jpeg.rf.6d9a1603a477aa91b30609a0e37fc29f.jpg  \n",
            "  inflating: ./butterfly-spider/butterfly-spider/train/images/OIP-Z-GtFEd8GLhDV7rwNxuObwHaFG_jpeg.rf.7c6c374fc52edde17f4ad42ed7a2b357.jpg  \n",
            "  inflating: ./butterfly-spider/butterfly-spider/train/images/OIP-Z-GtFEd8GLhDV7rwNxuObwHaFG_jpeg.rf.cd7bf462435605e581c7c1af96474785.jpg  \n",
            "  inflating: ./butterfly-spider/butterfly-spider/train/images/OIP-Z-GtFEd8GLhDV7rwNxuObwHaFG_jpeg.rf.f56066ed50c6044d3d8d1fe37a50c962.jpg  \n",
            "  inflating: ./butterfly-spider/butterfly-spider/train/images/OIP-zgZsf661wyCOgzjRfbj38AHaE8_jpeg.rf.7fa7dc36aae5ffdbc93ecba8e9faaa53.jpg  \n",
            "  inflating: ./butterfly-spider/butterfly-spider/train/images/OIP-zgZsf661wyCOgzjRfbj38AHaE8_jpeg.rf.db0540430fbb1f527e8030371dca4e0e.jpg  \n",
            "  inflating: ./butterfly-spider/butterfly-spider/train/images/OIP-zgZsf661wyCOgzjRfbj38AHaE8_jpeg.rf.ecd4e094ea106c0e20a61fdd1e8faf6c.jpg  \n",
            "  inflating: ./butterfly-spider/butterfly-spider/train/images/OIP-zhaXbV83SQXvsDQluZA69wHaFk_jpeg.rf.0e1e208abdb2b1360eb29d53b22dc6f0.jpg  \n",
            "  inflating: ./butterfly-spider/butterfly-spider/train/images/OIP-zhaXbV83SQXvsDQluZA69wHaFk_jpeg.rf.4e38611736b65a47ae9fa2c1d39cb42f.jpg  \n",
            "  inflating: ./butterfly-spider/butterfly-spider/train/images/OIP-zhaXbV83SQXvsDQluZA69wHaFk_jpeg.rf.9aceb0e1d5a8ee70f51045f2f76cc6ef.jpg  \n",
            "  inflating: ./butterfly-spider/butterfly-spider/train/images/OIP-zHdTca7OlHCbkikqeKXz9wHaFj_jpeg.rf.bcd9a9f112184f4302d98eda26b0b6d7.jpg  \n",
            "  inflating: ./butterfly-spider/butterfly-spider/train/images/OIP-zHdTca7OlHCbkikqeKXz9wHaFj_jpeg.rf.bce59f7bc6c56ec76b04af64a5253b5d.jpg  \n",
            "  inflating: ./butterfly-spider/butterfly-spider/train/images/OIP-zHdTca7OlHCbkikqeKXz9wHaFj_jpeg.rf.c4117a1f2bd4e0435ffae59882daba71.jpg  \n",
            "  inflating: ./butterfly-spider/butterfly-spider/train/images/OIP-zhg4d3Fm5Y0cHof6-CSmVgHaFL_jpeg.rf.2cb756464bcfe9a4301afd4a96977177.jpg  \n",
            "  inflating: ./butterfly-spider/butterfly-spider/train/images/OIP-zhg4d3Fm5Y0cHof6-CSmVgHaFL_jpeg.rf.667892df2b9ce0cfdbbaa7ffc1eb7884.jpg  \n",
            "  inflating: ./butterfly-spider/butterfly-spider/train/images/OIP-zhg4d3Fm5Y0cHof6-CSmVgHaFL_jpeg.rf.7f142e4541e70eb2d0aace22b6096fc5.jpg  \n",
            "  inflating: ./butterfly-spider/butterfly-spider/train/images/OIP-zhH1yN3iA9vMUxhsJisGPgHaHa_jpeg.rf.1fdb529000fb27fb3b4d6e81343c49b5.jpg  \n",
            "  inflating: ./butterfly-spider/butterfly-spider/train/images/OIP-zhH1yN3iA9vMUxhsJisGPgHaHa_jpeg.rf.3a53f3ddb526c216b4e6c4ffded58e9e.jpg  \n",
            "  inflating: ./butterfly-spider/butterfly-spider/train/images/OIP-zhH1yN3iA9vMUxhsJisGPgHaHa_jpeg.rf.3a81024ce4b3271abc3120ff67ddb880.jpg  \n",
            "  inflating: ./butterfly-spider/butterfly-spider/train/images/OIP-zHqQXbPpyTcKdrtiEKbbXwHaGz_jpeg.rf.030e112a039675a8a85aa3f419014622.jpg  \n",
            "  inflating: ./butterfly-spider/butterfly-spider/train/images/OIP-zHqQXbPpyTcKdrtiEKbbXwHaGz_jpeg.rf.aac259cbda2c417a5e13aa704beb839c.jpg  \n",
            "  inflating: ./butterfly-spider/butterfly-spider/train/images/OIP-zHqQXbPpyTcKdrtiEKbbXwHaGz_jpeg.rf.b665658496188c9c4b0158da58342214.jpg  \n",
            "  inflating: ./butterfly-spider/butterfly-spider/train/images/OIP-Zi6cQpXYOS3pvzGTuX3sngHaE8_jpeg.rf.0667b2f7b482c17fa4d97b56a140cba2.jpg  \n",
            "  inflating: ./butterfly-spider/butterfly-spider/train/images/OIP-Zi6cQpXYOS3pvzGTuX3sngHaE8_jpeg.rf.7db8e2a581fcba5ae5221bd1d6458849.jpg  \n",
            "  inflating: ./butterfly-spider/butterfly-spider/train/images/OIP-Zi6cQpXYOS3pvzGTuX3sngHaE8_jpeg.rf.ba42291a096fb26312b6935e938a3287.jpg  \n",
            "  inflating: ./butterfly-spider/butterfly-spider/train/images/OIP-ZIZCoITYQ15BVy17s7_1vwHaHa_jpeg.rf.857619291fac4a48e5c24aef9f359afe.jpg  \n",
            "  inflating: ./butterfly-spider/butterfly-spider/train/images/OIP-ZIZCoITYQ15BVy17s7_1vwHaHa_jpeg.rf.bc66338c71b8846ed344700e503740ce.jpg  \n",
            "  inflating: ./butterfly-spider/butterfly-spider/train/images/OIP-ZIZCoITYQ15BVy17s7_1vwHaHa_jpeg.rf.e336eaa7579a6c1864cb026652c9c82d.jpg  \n",
            "  inflating: ./butterfly-spider/butterfly-spider/train/images/OIP-zjfPjvKx0MKS9zoExZXGhgHaEo_jpeg.rf.090c11c7b471eee331bd05d6c2b8d141.jpg  \n",
            "  inflating: ./butterfly-spider/butterfly-spider/train/images/OIP-zjfPjvKx0MKS9zoExZXGhgHaEo_jpeg.rf.62019e1f1f9b32c5ad5d5f5ee5664ea3.jpg  \n",
            "  inflating: ./butterfly-spider/butterfly-spider/train/images/OIP-zjfPjvKx0MKS9zoExZXGhgHaEo_jpeg.rf.b6eedd7caaceefc86e81d8fe268c0642.jpg  \n",
            "  inflating: ./butterfly-spider/butterfly-spider/train/images/OIP-zJZlz1vpu_Db6kQBa7TnyAEsDv_jpeg.rf.12b44a9c46dd63ce91193d4905472457.jpg  \n",
            "  inflating: ./butterfly-spider/butterfly-spider/train/images/OIP-zJZlz1vpu_Db6kQBa7TnyAEsDv_jpeg.rf.a92c6fb43ebb60210222093f3eaa0aab.jpg  \n",
            "  inflating: ./butterfly-spider/butterfly-spider/train/images/OIP-zJZlz1vpu_Db6kQBa7TnyAEsDv_jpeg.rf.ebde4c44fef3fd7b586c6835b07735b5.jpg  \n",
            "  inflating: ./butterfly-spider/butterfly-spider/train/images/OIP-ZKbRICDW0sZ4itZGiQLzBgHaE7_jpeg.rf.782189159263a248d273a4458aff5e79.jpg  \n",
            "  inflating: ./butterfly-spider/butterfly-spider/train/images/OIP-ZKbRICDW0sZ4itZGiQLzBgHaE7_jpeg.rf.e4d4f81c32e38c8e5a64091f7057060e.jpg  \n",
            "  inflating: ./butterfly-spider/butterfly-spider/train/images/OIP-ZKbRICDW0sZ4itZGiQLzBgHaE7_jpeg.rf.f60dcd24c8ffb57e7d362e9e68fff56d.jpg  \n",
            "  inflating: ./butterfly-spider/butterfly-spider/train/images/OIP-zkcgeftSNw3I2kz7YapyhwHaGf_jpeg.rf.5687c3c82652a089010c5e03261d6f33.jpg  \n",
            "  inflating: ./butterfly-spider/butterfly-spider/train/images/OIP-zkcgeftSNw3I2kz7YapyhwHaGf_jpeg.rf.dbcb6566ae290351990c0467abada04e.jpg  \n",
            "  inflating: ./butterfly-spider/butterfly-spider/train/images/OIP-zkcgeftSNw3I2kz7YapyhwHaGf_jpeg.rf.f6819e90c4ab1bcfa7db10258ee3e0b7.jpg  \n",
            "  inflating: ./butterfly-spider/butterfly-spider/train/images/OIP-zKJoIQ5B9QH11vRJJOKOCQHaHa_jpeg.rf.1d5dccfee92a6c654d00b88637094b90.jpg  \n",
            "  inflating: ./butterfly-spider/butterfly-spider/train/images/OIP-zKJoIQ5B9QH11vRJJOKOCQHaHa_jpeg.rf.d702867c6d5e2a4e0857009eb09d69a0.jpg  \n",
            "  inflating: ./butterfly-spider/butterfly-spider/train/images/OIP-zKJoIQ5B9QH11vRJJOKOCQHaHa_jpeg.rf.f9cf5a907d3e523da160b3674faae42c.jpg  \n",
            "  inflating: ./butterfly-spider/butterfly-spider/train/images/OIP-ZKzV6CSgJxhUCMfnw29qRQAAAA_jpeg.rf.0ea8934e304f18c337e0be9571e1cec2.jpg  \n",
            "  inflating: ./butterfly-spider/butterfly-spider/train/images/OIP-ZKzV6CSgJxhUCMfnw29qRQAAAA_jpeg.rf.59d0b956e954c36ee9ae83be93e19856.jpg  \n",
            "  inflating: ./butterfly-spider/butterfly-spider/train/images/OIP-ZKzV6CSgJxhUCMfnw29qRQAAAA_jpeg.rf.8a85ec568f9e981dd01bf85e32182ed6.jpg  \n",
            "  inflating: ./butterfly-spider/butterfly-spider/train/images/OIP-zlAXM5j1lboH0YjCncT7VQHaFH_jpeg.rf.5d13497d325ddd10bb002be6bd7b9e57.jpg  \n",
            "  inflating: ./butterfly-spider/butterfly-spider/train/images/OIP-zlAXM5j1lboH0YjCncT7VQHaFH_jpeg.rf.7b3843fdd20233aaf9e60af420c12dde.jpg  \n",
            "  inflating: ./butterfly-spider/butterfly-spider/train/images/OIP-zlAXM5j1lboH0YjCncT7VQHaFH_jpeg.rf.cb66fee78d57049a561fba58ce830a12.jpg  \n",
            "  inflating: ./butterfly-spider/butterfly-spider/train/images/OIP-ZLSdLYAEcerAWVQtygCgwwHaHI_jpeg.rf.199aeff36ca9933ae88c5fadf11bc1af.jpg  \n",
            "  inflating: ./butterfly-spider/butterfly-spider/train/images/OIP-ZLSdLYAEcerAWVQtygCgwwHaHI_jpeg.rf.2c98fc286997cdde16751856cfab29c6.jpg  \n",
            "  inflating: ./butterfly-spider/butterfly-spider/train/images/OIP-ZLSdLYAEcerAWVQtygCgwwHaHI_jpeg.rf.a5096803abf6ab5236f8d88bb4339233.jpg  \n",
            "  inflating: ./butterfly-spider/butterfly-spider/train/images/OIP-zlUzki_MaBGxXVkckgozRwHaFK_jpeg.rf.43faa88b900c32de0934f19c70d46029.jpg  \n",
            "  inflating: ./butterfly-spider/butterfly-spider/train/images/OIP-zlUzki_MaBGxXVkckgozRwHaFK_jpeg.rf.9acb027c8c32da6a2415949bafe2ff6c.jpg  \n",
            "  inflating: ./butterfly-spider/butterfly-spider/train/images/OIP-zlUzki_MaBGxXVkckgozRwHaFK_jpeg.rf.c4d232fc8d93c570da9deda5960a1968.jpg  \n",
            "  inflating: ./butterfly-spider/butterfly-spider/train/images/OIP-zlvuGi1V1hGfbhNwlucgwwAAAA_jpeg.rf.158d4314c397aea82bb7cf6775bd2a78.jpg  \n",
            "  inflating: ./butterfly-spider/butterfly-spider/train/images/OIP-zlvuGi1V1hGfbhNwlucgwwAAAA_jpeg.rf.a1df8daafae35433f2f154e1a8af718a.jpg  \n",
            "  inflating: ./butterfly-spider/butterfly-spider/train/images/OIP-zlvuGi1V1hGfbhNwlucgwwAAAA_jpeg.rf.a44e8b1490f3ed59fd3b3cf423b7ec16.jpg  \n",
            "  inflating: ./butterfly-spider/butterfly-spider/train/images/OIP-ZLyl67cae3ie7KHw1c6AVgHaFj_jpeg.rf.c5e6f74377bba94a46a83399fd747a4b.jpg  \n",
            "  inflating: ./butterfly-spider/butterfly-spider/train/images/OIP-ZLyl67cae3ie7KHw1c6AVgHaFj_jpeg.rf.e1562671001f10f826de48dca8fb2b68.jpg  \n",
            "  inflating: ./butterfly-spider/butterfly-spider/train/images/OIP-ZLyl67cae3ie7KHw1c6AVgHaFj_jpeg.rf.f9f79ecb0410fd25e2b367593e020d76.jpg  \n",
            "  inflating: ./butterfly-spider/butterfly-spider/train/images/OIP-ZMAMJ9DqxFwulsKMplz7SAHaFd_jpeg.rf.4681e06b60fe10b7af4407b2a134aa9b.jpg  \n",
            "  inflating: ./butterfly-spider/butterfly-spider/train/images/OIP-ZMAMJ9DqxFwulsKMplz7SAHaFd_jpeg.rf.e96117251ee76eb229a36968d01d3e8e.jpg  \n",
            "  inflating: ./butterfly-spider/butterfly-spider/train/images/OIP-ZMAMJ9DqxFwulsKMplz7SAHaFd_jpeg.rf.e9e8df15fc3f1f3b0f67a1d9655f8dab.jpg  \n",
            "  inflating: ./butterfly-spider/butterfly-spider/train/images/OIP-ZmiYanstKYj7l_5NVXCOgAHaK6_jpeg.rf.b9e7fb5d08853c4cfc5b4543296260a3.jpg  \n",
            "  inflating: ./butterfly-spider/butterfly-spider/train/images/OIP-ZmiYanstKYj7l_5NVXCOgAHaK6_jpeg.rf.d3331016fc157b65ec51c233f1a5e397.jpg  \n",
            "  inflating: ./butterfly-spider/butterfly-spider/train/images/OIP-ZmiYanstKYj7l_5NVXCOgAHaK6_jpeg.rf.f02c97efb04cd8f756be12c2fb895d33.jpg  \n",
            "  inflating: ./butterfly-spider/butterfly-spider/train/images/OIP-zmqoRKiBfOYom1SN7QtfEgHaFk_jpeg.rf.0cb34a5c7f1b8687dabd5b6f02e6b87f.jpg  \n",
            "  inflating: ./butterfly-spider/butterfly-spider/train/images/OIP-zmqoRKiBfOYom1SN7QtfEgHaFk_jpeg.rf.407338604e38edfb830fbb9b3bb01a14.jpg  \n",
            "  inflating: ./butterfly-spider/butterfly-spider/train/images/OIP-zmqoRKiBfOYom1SN7QtfEgHaFk_jpeg.rf.8f74750f23a1c6a01ddf4fb227e358de.jpg  \n",
            "  inflating: ./butterfly-spider/butterfly-spider/train/images/OIP-ZNHS2r6TkxLCnWqS3frZrQEsEs_jpeg.rf.2e86bfebb1e9e06a4cc6d08c6cf28fb9.jpg  \n",
            "  inflating: ./butterfly-spider/butterfly-spider/train/images/OIP-ZNHS2r6TkxLCnWqS3frZrQEsEs_jpeg.rf.9bb727863b9e4d09cc24521c1fe66fe3.jpg  \n",
            "  inflating: ./butterfly-spider/butterfly-spider/train/images/OIP-ZNHS2r6TkxLCnWqS3frZrQEsEs_jpeg.rf.f1ce40d8bbbb46fb9809fe32bd69e65d.jpg  \n",
            "  inflating: ./butterfly-spider/butterfly-spider/train/images/OIP-ZNkC-6c5zWQLaaC8gNxC3AHaHI_jpeg.rf.0c0c7faf7cf04fde7fa711cbe3cb927a.jpg  \n",
            "  inflating: ./butterfly-spider/butterfly-spider/train/images/OIP-ZNkC-6c5zWQLaaC8gNxC3AHaHI_jpeg.rf.37f29f932cd0a002deda37bf699f5a68.jpg  \n",
            "  inflating: ./butterfly-spider/butterfly-spider/train/images/OIP-ZNkC-6c5zWQLaaC8gNxC3AHaHI_jpeg.rf.99f3614f326ec346f7fd52b65439ab1c.jpg  \n",
            "  inflating: ./butterfly-spider/butterfly-spider/train/images/OIP-ZNzQnP57qFI8HNkD5v9T_AHaFj_jpeg.rf.0896df524d460a6c31a0a41c30661fcf.jpg  \n",
            "  inflating: ./butterfly-spider/butterfly-spider/train/images/OIP-ZNzQnP57qFI8HNkD5v9T_AHaFj_jpeg.rf.b7f178260629f8b55fcc69ffccb3111a.jpg  \n",
            "  inflating: ./butterfly-spider/butterfly-spider/train/images/OIP-ZNzQnP57qFI8HNkD5v9T_AHaFj_jpeg.rf.f265e851381e6b88d67c111e96dde701.jpg  \n",
            "  inflating: ./butterfly-spider/butterfly-spider/train/images/OIP-Zoh3ThibbqWnLjYsgyYyhQHaFO_jpeg.rf.259a321a0df81abb6e1ae726b709828d.jpg  \n",
            "  inflating: ./butterfly-spider/butterfly-spider/train/images/OIP-Zoh3ThibbqWnLjYsgyYyhQHaFO_jpeg.rf.27c779e292b35f7262cde59c58d4d5a3.jpg  \n",
            "  inflating: ./butterfly-spider/butterfly-spider/train/images/OIP-Zoh3ThibbqWnLjYsgyYyhQHaFO_jpeg.rf.9268acf32e6525f986f447eea78ff482.jpg  \n",
            "  inflating: ./butterfly-spider/butterfly-spider/train/images/OIP-zoHwBHIQJhCJXArT68-DYwHaFj_jpeg.rf.5fc037a0f9e6abbebd7dfa087d4d2998.jpg  \n",
            "  inflating: ./butterfly-spider/butterfly-spider/train/images/OIP-zoHwBHIQJhCJXArT68-DYwHaFj_jpeg.rf.6f9088324484efe803fcaf2e435208b5.jpg  \n",
            "  inflating: ./butterfly-spider/butterfly-spider/train/images/OIP-zoHwBHIQJhCJXArT68-DYwHaFj_jpeg.rf.b07043032e5535d83fb364e25df7d538.jpg  \n",
            "  inflating: ./butterfly-spider/butterfly-spider/train/images/OIP-ZoQ8Nyr4YgYWVrptleO-8QHaGn_jpeg.rf.2f3b6be1238aaba1964d921b352ff0b7.jpg  \n",
            "  inflating: ./butterfly-spider/butterfly-spider/train/images/OIP-ZoQ8Nyr4YgYWVrptleO-8QHaGn_jpeg.rf.33d6075233aa3f15160f909564baa225.jpg  \n",
            "  inflating: ./butterfly-spider/butterfly-spider/train/images/OIP-ZoQ8Nyr4YgYWVrptleO-8QHaGn_jpeg.rf.ec329d226ae4a5d94862be397d87f519.jpg  \n",
            "  inflating: ./butterfly-spider/butterfly-spider/train/images/OIP-zovnszH4rynfbe1wLmi7yQHaGI_jpeg.rf.24a0ee068e713cc21713134d3675f952.jpg  \n",
            "  inflating: ./butterfly-spider/butterfly-spider/train/images/OIP-zovnszH4rynfbe1wLmi7yQHaGI_jpeg.rf.9e16cac28920d01d67946ce670281ba8.jpg  \n",
            "  inflating: ./butterfly-spider/butterfly-spider/train/images/OIP-zovnszH4rynfbe1wLmi7yQHaGI_jpeg.rf.f836ea95c20b68c225a603ff0b753d82.jpg  \n",
            "  inflating: ./butterfly-spider/butterfly-spider/train/images/OIP-zP3DkKZgncNZmqcs4npYPgHaFj_jpeg.rf.6485e6adaf678191bb6b6e4fcbbe739e.jpg  \n",
            "  inflating: ./butterfly-spider/butterfly-spider/train/images/OIP-zP3DkKZgncNZmqcs4npYPgHaFj_jpeg.rf.9a7eaa20fcdb63cc963612b41b529646.jpg  \n",
            "  inflating: ./butterfly-spider/butterfly-spider/train/images/OIP-zP3DkKZgncNZmqcs4npYPgHaFj_jpeg.rf.a548c27b03c74d37c667978958ca6a9a.jpg  \n",
            "  inflating: ./butterfly-spider/butterfly-spider/train/images/OIP-zPAo5r6LFYnzdPl6HUXxbgHaFj_jpeg.rf.2d7c658f11da53832788882972b14a29.jpg  \n",
            "  inflating: ./butterfly-spider/butterfly-spider/train/images/OIP-zPAo5r6LFYnzdPl6HUXxbgHaFj_jpeg.rf.4d56be4a30637bbf4b9b3167f821d474.jpg  \n",
            "  inflating: ./butterfly-spider/butterfly-spider/train/images/OIP-zPAo5r6LFYnzdPl6HUXxbgHaFj_jpeg.rf.e83714a8025c7452ba5dbd81421571b6.jpg  \n",
            "  inflating: ./butterfly-spider/butterfly-spider/train/images/OIP-ZpDA196A18SL-y1QFaPWMgHaE8_jpeg.rf.37f965d941221c67b2f7d27ae1cb016f.jpg  \n",
            "  inflating: ./butterfly-spider/butterfly-spider/train/images/OIP-ZpDA196A18SL-y1QFaPWMgHaE8_jpeg.rf.8083469955e7c2f4673f1610531db7ab.jpg  \n",
            "  inflating: ./butterfly-spider/butterfly-spider/train/images/OIP-ZpDA196A18SL-y1QFaPWMgHaE8_jpeg.rf.9d3d85a3eee3ecb83a1bd1d269c224b8.jpg  \n",
            "  inflating: ./butterfly-spider/butterfly-spider/train/images/OIP-zpNAq_EsegFmkzfAF_S-QHaG4_jpeg.rf.6b8b75c2a7da2f53b1562b4323d8ebef.jpg  \n",
            "  inflating: ./butterfly-spider/butterfly-spider/train/images/OIP-zpNAq_EsegFmkzfAF_S-QHaG4_jpeg.rf.79b29a349a19f149ec7a5deac014a489.jpg  \n",
            "  inflating: ./butterfly-spider/butterfly-spider/train/images/OIP-zpNAq_EsegFmkzfAF_S-QHaG4_jpeg.rf.7a1dc219f3668142106bdb6643fe23d5.jpg  \n",
            "  inflating: ./butterfly-spider/butterfly-spider/train/images/OIP-zPORiXvd8as13yXg-fINbwHaE8_jpeg.rf.c159092eae1387d6a646a7d293ff4265.jpg  \n",
            "  inflating: ./butterfly-spider/butterfly-spider/train/images/OIP-zPORiXvd8as13yXg-fINbwHaE8_jpeg.rf.e5b51d19cd65e579643b3989d2a278a7.jpg  \n",
            "  inflating: ./butterfly-spider/butterfly-spider/train/images/OIP-zPORiXvd8as13yXg-fINbwHaE8_jpeg.rf.f6e434ba3a4631a9506bc17a6c7514d0.jpg  \n",
            "  inflating: ./butterfly-spider/butterfly-spider/train/images/OIP-zPP9nlL2_JjcM1cNZLalHAHaFj_jpeg.rf.1bfc16d1b81dc7f5326b14dd7a06051d.jpg  \n",
            "  inflating: ./butterfly-spider/butterfly-spider/train/images/OIP-zPP9nlL2_JjcM1cNZLalHAHaFj_jpeg.rf.62c6f8e6fb7c8afb73cbaff0b4da0559.jpg  \n",
            "  inflating: ./butterfly-spider/butterfly-spider/train/images/OIP-zPP9nlL2_JjcM1cNZLalHAHaFj_jpeg.rf.6b0f33a9a7991b626116e39cb087f521.jpg  \n",
            "  inflating: ./butterfly-spider/butterfly-spider/train/images/OIP-ZpwpGFxf1qY7_frh1n8dFgHaHa_jpeg.rf.4cd06c787dcce7e002346a5a2cc1b938.jpg  \n",
            "  inflating: ./butterfly-spider/butterfly-spider/train/images/OIP-ZpwpGFxf1qY7_frh1n8dFgHaHa_jpeg.rf.8af1d736438416cf4a9679d66c69124d.jpg  \n",
            "  inflating: ./butterfly-spider/butterfly-spider/train/images/OIP-ZpwpGFxf1qY7_frh1n8dFgHaHa_jpeg.rf.e33affb0db91de34a3b4631fb5781a8b.jpg  \n",
            "  inflating: ./butterfly-spider/butterfly-spider/train/images/OIP-Zq_q8o8cw50F1x6S7AmlsQHaFi_jpeg.rf.329c4e76d4a1f63657ef82639aa79aa5.jpg  \n",
            "  inflating: ./butterfly-spider/butterfly-spider/train/images/OIP-Zq_q8o8cw50F1x6S7AmlsQHaFi_jpeg.rf.681d60a4788f1a9c061bbe07c0c4299f.jpg  \n",
            "  inflating: ./butterfly-spider/butterfly-spider/train/images/OIP-Zq_q8o8cw50F1x6S7AmlsQHaFi_jpeg.rf.9bd1044ce26e1d95747a50f2d874b660.jpg  \n",
            "  inflating: ./butterfly-spider/butterfly-spider/train/images/OIP-zqbZCin6JdYbHCZbyZ06EgHaFj_jpeg.rf.51d47c2db61ae1f4b223955211521f1e.jpg  \n",
            "  inflating: ./butterfly-spider/butterfly-spider/train/images/OIP-zqbZCin6JdYbHCZbyZ06EgHaFj_jpeg.rf.6bd47da5d21e0076cdfb7a8c98cd5e67.jpg  \n",
            "  inflating: ./butterfly-spider/butterfly-spider/train/images/OIP-zqbZCin6JdYbHCZbyZ06EgHaFj_jpeg.rf.9b27015c88cbd3e88405ed216ce10234.jpg  \n",
            "  inflating: ./butterfly-spider/butterfly-spider/train/images/OIP-zQfPgwUXT4NzOlq7FfLaiwHaEo_jpeg.rf.8e7f96209dd1b25f242073acc72ac397.jpg  \n",
            "  inflating: ./butterfly-spider/butterfly-spider/train/images/OIP-zQfPgwUXT4NzOlq7FfLaiwHaEo_jpeg.rf.9816cf249ea0690d56c1067667e198c2.jpg  \n",
            "  inflating: ./butterfly-spider/butterfly-spider/train/images/OIP-zQfPgwUXT4NzOlq7FfLaiwHaEo_jpeg.rf.fd03228566700463d858c6e61b6a6d1e.jpg  \n",
            "  inflating: ./butterfly-spider/butterfly-spider/train/images/OIP-ZqM6QlEfnf8IzyNnMqwzLwHaEo_jpeg.rf.616ed7b17b1040a711cac4c5ca1d36d6.jpg  \n",
            "  inflating: ./butterfly-spider/butterfly-spider/train/images/OIP-ZqM6QlEfnf8IzyNnMqwzLwHaEo_jpeg.rf.cc6c93d201dd62e512ca07268b2e09bb.jpg  \n",
            "  inflating: ./butterfly-spider/butterfly-spider/train/images/OIP-ZqM6QlEfnf8IzyNnMqwzLwHaEo_jpeg.rf.f8a5e69cb9210cdac7aa49c3e4183544.jpg  \n",
            "  inflating: ./butterfly-spider/butterfly-spider/train/images/OIP-zQsRoGVqtb8420KIMccJAQHaKI_jpeg.rf.1d4dd61409fd36c57e5bbfbf389ddf6a.jpg  \n",
            "  inflating: ./butterfly-spider/butterfly-spider/train/images/OIP-zQsRoGVqtb8420KIMccJAQHaKI_jpeg.rf.503c520a29f9d1133f987704d4b9b5d3.jpg  \n",
            "  inflating: ./butterfly-spider/butterfly-spider/train/images/OIP-zQsRoGVqtb8420KIMccJAQHaKI_jpeg.rf.a7cc7e86a426c1d1702698494866da96.jpg  \n",
            "  inflating: ./butterfly-spider/butterfly-spider/train/images/OIP-zQxGnBuCj-d-M8bP-x1pzwHaF5_jpeg.rf.5a1e1b031d5165ae80694674472632d5.jpg  \n",
            "  inflating: ./butterfly-spider/butterfly-spider/train/images/OIP-zQxGnBuCj-d-M8bP-x1pzwHaF5_jpeg.rf.73732fea1fe6f54400525cce1533c2cb.jpg  \n",
            "  inflating: ./butterfly-spider/butterfly-spider/train/images/OIP-zQxGnBuCj-d-M8bP-x1pzwHaF5_jpeg.rf.c9204fb16c67179352d8b920fe6ca458.jpg  \n",
            "  inflating: ./butterfly-spider/butterfly-spider/train/images/OIP-zR5gDXThMuci-Yhhs96S0gEsEr_jpeg.rf.15edd18435a431d2aa24f430453015af.jpg  \n",
            "  inflating: ./butterfly-spider/butterfly-spider/train/images/OIP-zR5gDXThMuci-Yhhs96S0gEsEr_jpeg.rf.17588b7e4ecc37f426a621102b1fee2a.jpg  \n",
            "  inflating: ./butterfly-spider/butterfly-spider/train/images/OIP-zR5gDXThMuci-Yhhs96S0gEsEr_jpeg.rf.e83e6f135e4a5d2e5000a5f93c354b9b.jpg  \n",
            "  inflating: ./butterfly-spider/butterfly-spider/train/images/OIP-zRBYveq0GEFHEhexq5qergHaFj_jpeg.rf.4d87819f2b568c182b9910ab20ea273e.jpg  \n",
            "  inflating: ./butterfly-spider/butterfly-spider/train/images/OIP-zRBYveq0GEFHEhexq5qergHaFj_jpeg.rf.53ec9772f41ed3eee32a1f125e881338.jpg  \n",
            "  inflating: ./butterfly-spider/butterfly-spider/train/images/OIP-zRBYveq0GEFHEhexq5qergHaFj_jpeg.rf.9740b2f07b7f0a83ee5360999f6fab17.jpg  \n",
            "  inflating: ./butterfly-spider/butterfly-spider/train/images/OIP-ZrfnxopDBO0QJWyh56tGCgHaG7_jpeg.rf.63d00fb6b5fab2dad190f16e5639c5d1.jpg  \n",
            "  inflating: ./butterfly-spider/butterfly-spider/train/images/OIP-ZrfnxopDBO0QJWyh56tGCgHaG7_jpeg.rf.6459d654cc139b26a95fd495a4462ebc.jpg  \n",
            "  inflating: ./butterfly-spider/butterfly-spider/train/images/OIP-ZrfnxopDBO0QJWyh56tGCgHaG7_jpeg.rf.a2f1479a8f1f385c2e25b2b5f3a8e7c8.jpg  \n",
            "  inflating: ./butterfly-spider/butterfly-spider/train/images/OIP-zrG4e3AjIH8dt0EF2m_YIAHaKc_jpeg.rf.35a5bc6188a88f94f83785dd489bdc79.jpg  \n",
            "  inflating: ./butterfly-spider/butterfly-spider/train/images/OIP-zrG4e3AjIH8dt0EF2m_YIAHaKc_jpeg.rf.3db7a350ba270d140a317735c69f2c22.jpg  \n",
            "  inflating: ./butterfly-spider/butterfly-spider/train/images/OIP-zrG4e3AjIH8dt0EF2m_YIAHaKc_jpeg.rf.aa445be871b1be88b5d1953019b97160.jpg  \n",
            "  inflating: ./butterfly-spider/butterfly-spider/train/images/OIP-ZRKh8oOllRIyq7CSS9PWXQHaGS_jpeg.rf.02d96151a01994076611a1d617725761.jpg  \n",
            "  inflating: ./butterfly-spider/butterfly-spider/train/images/OIP-ZRKh8oOllRIyq7CSS9PWXQHaGS_jpeg.rf.3c53af6aaeb5daa447a9147d75c548f8.jpg  \n",
            "  inflating: ./butterfly-spider/butterfly-spider/train/images/OIP-ZRKh8oOllRIyq7CSS9PWXQHaGS_jpeg.rf.f8158f24e103139615620f66cc1e953a.jpg  \n",
            "  inflating: ./butterfly-spider/butterfly-spider/train/images/OIP-ZS5DInubc9q7kjR5Jors5AHaHE_jpeg.rf.03f5a13a1bd1e5ef63237e707a335e25.jpg  \n",
            "  inflating: ./butterfly-spider/butterfly-spider/train/images/OIP-ZS5DInubc9q7kjR5Jors5AHaHE_jpeg.rf.14388e58058c9479a5386d8850bd58dc.jpg  \n",
            "  inflating: ./butterfly-spider/butterfly-spider/train/images/OIP-zSHT24ZMA06HYGlSu_nr1QHaFe_jpeg.rf.341eefdd156afa326e4e817aa1e65231.jpg  \n",
            "  inflating: ./butterfly-spider/butterfly-spider/train/images/OIP-zSHT24ZMA06HYGlSu_nr1QHaFe_jpeg.rf.4e9f2f42a5d2226cd99d9127a7da7fe7.jpg  \n",
            "  inflating: ./butterfly-spider/butterfly-spider/train/images/OIP-zSHT24ZMA06HYGlSu_nr1QHaFe_jpeg.rf.a62333dca342022d5cd16e03d4ca3104.jpg  \n",
            "  inflating: ./butterfly-spider/butterfly-spider/train/images/OIP-zt7JHXM_JjcxZetFQmJ1HwHaHQ_jpeg.rf.2de23b0d43680e3db8d5fe97557c5f7d.jpg  \n",
            "  inflating: ./butterfly-spider/butterfly-spider/train/images/OIP-zt7JHXM_JjcxZetFQmJ1HwHaHQ_jpeg.rf.548ead26a3aa6709cb31b4db150efb37.jpg  \n",
            "  inflating: ./butterfly-spider/butterfly-spider/train/images/OIP-zt7JHXM_JjcxZetFQmJ1HwHaHQ_jpeg.rf.61b4da74baaccc94b9df02ff6cfdda58.jpg  \n",
            "  inflating: ./butterfly-spider/butterfly-spider/train/images/OIP-ZTbeCBkEAKHqGq8WQA7yvAHaFF_jpeg.rf.6f8bcc8b8efafcdab537d2db30aa6bb2.jpg  \n",
            "  inflating: ./butterfly-spider/butterfly-spider/train/images/OIP-ZTbeCBkEAKHqGq8WQA7yvAHaFF_jpeg.rf.7279e243cd121ff80c27b015c0658376.jpg  \n",
            "  inflating: ./butterfly-spider/butterfly-spider/train/images/OIP-ZTbeCBkEAKHqGq8WQA7yvAHaFF_jpeg.rf.ef96d0a3e0874584c3d98166947354ba.jpg  \n",
            "  inflating: ./butterfly-spider/butterfly-spider/train/images/OIP-ztjKO_kJHi9_7fIo8H2UZQHaFu_jpeg.rf.5861377281ab94cbe2c78653c871f7d7.jpg  \n",
            "  inflating: ./butterfly-spider/butterfly-spider/train/images/OIP-ztjKO_kJHi9_7fIo8H2UZQHaFu_jpeg.rf.5acbd6f176258712c81a3817b54b7716.jpg  \n",
            "  inflating: ./butterfly-spider/butterfly-spider/train/images/OIP-ztjKO_kJHi9_7fIo8H2UZQHaFu_jpeg.rf.d015f184c4cf3d771afb78cf45d86b4a.jpg  \n",
            "  inflating: ./butterfly-spider/butterfly-spider/train/images/OIP-ZtY1_4BSHElRMCqoCN2bFwHaGS_jpeg.rf.15eb78ba84412b4b9a01f869ac4e622c.jpg  \n",
            "  inflating: ./butterfly-spider/butterfly-spider/train/images/OIP-ZtY1_4BSHElRMCqoCN2bFwHaGS_jpeg.rf.49516cfdd318ef24856e9db96ded6aa1.jpg  \n",
            "  inflating: ./butterfly-spider/butterfly-spider/train/images/OIP-ZtY1_4BSHElRMCqoCN2bFwHaGS_jpeg.rf.bbcfbaaa73f7b273455f46ef332eee98.jpg  \n",
            "  inflating: ./butterfly-spider/butterfly-spider/train/images/OIP-zU6w7qic4mC2uPNH-IyEdgAAAA_jpeg.rf.21591bdae386b32a8003fce831e1d3b2.jpg  \n",
            "  inflating: ./butterfly-spider/butterfly-spider/train/images/OIP-zU6w7qic4mC2uPNH-IyEdgAAAA_jpeg.rf.31ce20d8c25f6210d29f7c69d8463524.jpg  \n",
            "  inflating: ./butterfly-spider/butterfly-spider/train/images/OIP-zU6w7qic4mC2uPNH-IyEdgAAAA_jpeg.rf.d78ea9597a62c294e0e0ced73e9e28e0.jpg  \n",
            "  inflating: ./butterfly-spider/butterfly-spider/train/images/OIP-zuA7UNknWcbMeHbOrlmhgQHaFh_jpeg.rf.4765fe4dbe3805eeb4cd341801a09e8e.jpg  \n",
            "  inflating: ./butterfly-spider/butterfly-spider/train/images/OIP-zuA7UNknWcbMeHbOrlmhgQHaFh_jpeg.rf.9844c1094d1a6105accec30ffc9c82b8.jpg  \n",
            "  inflating: ./butterfly-spider/butterfly-spider/train/images/OIP-zuA7UNknWcbMeHbOrlmhgQHaFh_jpeg.rf.d9a3fc98980db57dfc9147ca19e7292d.jpg  \n",
            "  inflating: ./butterfly-spider/butterfly-spider/train/images/OIP-zUF_ra1ngpfADvA4_Nj-FgHaF2_jpeg.rf.33c83e15ab71c6db446fe6018e133361.jpg  \n",
            "  inflating: ./butterfly-spider/butterfly-spider/train/images/OIP-zUF_ra1ngpfADvA4_Nj-FgHaF2_jpeg.rf.cc66b8d35d15a6bc441576ef38158b47.jpg  \n",
            "  inflating: ./butterfly-spider/butterfly-spider/train/images/OIP-zUF_ra1ngpfADvA4_Nj-FgHaF2_jpeg.rf.e239a2dc74b99151623e8e4519ead624.jpg  \n",
            "  inflating: ./butterfly-spider/butterfly-spider/train/images/OIP-ZunYgEud0RqEjpnoLjtoXQHaFj_jpeg.rf.2b4f6b2d6c0ab7a5db80bc3376600345.jpg  \n",
            "  inflating: ./butterfly-spider/butterfly-spider/train/images/OIP-ZunYgEud0RqEjpnoLjtoXQHaFj_jpeg.rf.8e0ea41819422dcab478db352fd7a78c.jpg  \n",
            "  inflating: ./butterfly-spider/butterfly-spider/train/images/OIP-ZunYgEud0RqEjpnoLjtoXQHaFj_jpeg.rf.e11a0db0a0a51dbcfd177b69cbb4a953.jpg  \n",
            "  inflating: ./butterfly-spider/butterfly-spider/train/images/OIP-zUoClNIPMyYa8T9rRZEO4QHaEo_jpeg.rf.527c51e7842305e8a4644a3dfb406022.jpg  \n",
            "  inflating: ./butterfly-spider/butterfly-spider/train/images/OIP-zUoClNIPMyYa8T9rRZEO4QHaEo_jpeg.rf.da5e23fc4e8502329ba4f0931337f243.jpg  \n",
            "  inflating: ./butterfly-spider/butterfly-spider/train/images/OIP-zUoClNIPMyYa8T9rRZEO4QHaEo_jpeg.rf.da97933334b5d85a924cdc34505a2040.jpg  \n",
            "  inflating: ./butterfly-spider/butterfly-spider/train/images/OIP-zUTVF-epSqrpL97pxAiUIAHaGP_jpeg.rf.384392f20db6bd87846dc80f02e69803.jpg  \n",
            "  inflating: ./butterfly-spider/butterfly-spider/train/images/OIP-zUTVF-epSqrpL97pxAiUIAHaGP_jpeg.rf.a17bb47d4cfea853fa1d6f5799681b00.jpg  \n",
            "  inflating: ./butterfly-spider/butterfly-spider/train/images/OIP-zUTVF-epSqrpL97pxAiUIAHaGP_jpeg.rf.bf4dcb0a8fb50b631699fa675be98f76.jpg  \n",
            "  inflating: ./butterfly-spider/butterfly-spider/train/images/OIP-ZVhEK6Z2rrD5gokYFruOFAAAAA_jpeg.rf.49e5d77a613735e27c119efe0a4a2d55.jpg  \n",
            "  inflating: ./butterfly-spider/butterfly-spider/train/images/OIP-ZVhEK6Z2rrD5gokYFruOFAAAAA_jpeg.rf.67f284dc8170571378402c2e1cd3d478.jpg  \n",
            "  inflating: ./butterfly-spider/butterfly-spider/train/images/OIP-ZVhEK6Z2rrD5gokYFruOFAAAAA_jpeg.rf.c6539d8dccd448aeefe46486ebabda56.jpg  \n",
            "  inflating: ./butterfly-spider/butterfly-spider/train/images/OIP-zviraYI5chw-Hvzi_PwvHQHaE8_jpeg.rf.1db9005126b2745a37b834be03bfdd5e.jpg  \n",
            "  inflating: ./butterfly-spider/butterfly-spider/train/images/OIP-zviraYI5chw-Hvzi_PwvHQHaE8_jpeg.rf.7ccbcdef4c0ce6a8baee2dadfd6a8d2c.jpg  \n",
            "  inflating: ./butterfly-spider/butterfly-spider/train/images/OIP-zviraYI5chw-Hvzi_PwvHQHaE8_jpeg.rf.ee84139dabe39e618fd795dedc69f796.jpg  \n",
            "  inflating: ./butterfly-spider/butterfly-spider/train/images/OIP-ZVk3Zcp549aPHi15jilglAHaIW_jpeg.rf.32e9239a301844bc62fa72263929a9c3.jpg  \n",
            "  inflating: ./butterfly-spider/butterfly-spider/train/images/OIP-ZVk3Zcp549aPHi15jilglAHaIW_jpeg.rf.9f8e8c9a0fe7aff6aa88118d84da969c.jpg  \n",
            "  inflating: ./butterfly-spider/butterfly-spider/train/images/OIP-ZVk3Zcp549aPHi15jilglAHaIW_jpeg.rf.a172ee681f197d7152ecf0b313a9d42c.jpg  \n",
            "  inflating: ./butterfly-spider/butterfly-spider/train/images/OIP-ZVofdfmT6nHfETl6y0BZEAHaFf_jpeg.rf.2bb229c86d70e05a7469558e5d66d31e.jpg  \n",
            "  inflating: ./butterfly-spider/butterfly-spider/train/images/OIP-ZVofdfmT6nHfETl6y0BZEAHaFf_jpeg.rf.46348655ed7be497f5ed6f62f5b29d5d.jpg  \n",
            "  inflating: ./butterfly-spider/butterfly-spider/train/images/OIP-ZVofdfmT6nHfETl6y0BZEAHaFf_jpeg.rf.6d5989af3cdad85f84cf4509c217677a.jpg  \n",
            "  inflating: ./butterfly-spider/butterfly-spider/train/images/OIP-zw3OboJ3KiSzPN-thSo3iAHaFr_jpeg.rf.0c4f62d5e691a95eb19fa946d7102e0a.jpg  \n",
            "  inflating: ./butterfly-spider/butterfly-spider/train/images/OIP-zw3OboJ3KiSzPN-thSo3iAHaFr_jpeg.rf.b8baac58b617c445c8a3d1b5e3d1a8ab.jpg  \n",
            "  inflating: ./butterfly-spider/butterfly-spider/train/images/OIP-zw3OboJ3KiSzPN-thSo3iAHaFr_jpeg.rf.ec30802f640705a9a7e956c60c819319.jpg  \n",
            "  inflating: ./butterfly-spider/butterfly-spider/train/images/OIP-ZwaHaljnOjpKYFfWmCNaOwHaE8_jpeg.rf.4e85df3d032d25970b2cdb2ca4b4fafb.jpg  \n",
            "  inflating: ./butterfly-spider/butterfly-spider/train/images/OIP-ZwaHaljnOjpKYFfWmCNaOwHaE8_jpeg.rf.b0411cc736e25bde021f318b25c5a6bb.jpg  \n",
            "  inflating: ./butterfly-spider/butterfly-spider/train/images/OIP-ZwaHaljnOjpKYFfWmCNaOwHaE8_jpeg.rf.fd0641bb7742f692b86e658236991f72.jpg  \n",
            "  inflating: ./butterfly-spider/butterfly-spider/train/images/OIP-ZWmU8mRQeGM1evYuN_dEEgHaEW_jpeg.rf.0c4843044af27ae75c2743507bd4adc7.jpg  \n",
            "  inflating: ./butterfly-spider/butterfly-spider/train/images/OIP-ZWmU8mRQeGM1evYuN_dEEgHaEW_jpeg.rf.4f60812acab30aecf4cf5459a00147a9.jpg  \n",
            "  inflating: ./butterfly-spider/butterfly-spider/train/images/OIP-ZWmU8mRQeGM1evYuN_dEEgHaEW_jpeg.rf.e17fded3cbd49e8748f9c8206920c3b9.jpg  \n",
            "  inflating: ./butterfly-spider/butterfly-spider/train/images/OIP-Zwx7FIbZrHjfsg055rw_BAHaE7_jpeg.rf.94f2e7e3fb6516abd04f3e8414700c09.jpg  \n",
            "  inflating: ./butterfly-spider/butterfly-spider/train/images/OIP-Zwx7FIbZrHjfsg055rw_BAHaE7_jpeg.rf.9b2369c824afd4f6657d9b841b7b1734.jpg  \n",
            "  inflating: ./butterfly-spider/butterfly-spider/train/images/OIP-Zwx7FIbZrHjfsg055rw_BAHaE7_jpeg.rf.e472028d1ec7738c2d61a3c5fd2443c0.jpg  \n",
            "  inflating: ./butterfly-spider/butterfly-spider/train/images/OIP-ZXChywMZ8JTZrhPAUxImjQHaE8_jpeg.rf.0747eb6aa5646c0956316d7bfd649841.jpg  \n",
            "  inflating: ./butterfly-spider/butterfly-spider/train/images/OIP-ZXChywMZ8JTZrhPAUxImjQHaE8_jpeg.rf.de5e1b794778a70d709123670881d696.jpg  \n",
            "  inflating: ./butterfly-spider/butterfly-spider/train/images/OIP-ZXChywMZ8JTZrhPAUxImjQHaE8_jpeg.rf.e210fe9b9f4da0eb5f14a13339c47e82.jpg  \n",
            "  inflating: ./butterfly-spider/butterfly-spider/train/images/OIP-Zxkl2yvNKG1EZsKtlJZBTgAAAA_jpeg.rf.7ef493106a68d8572025d3c4b3bc027b.jpg  \n",
            "  inflating: ./butterfly-spider/butterfly-spider/train/images/OIP-Zxkl2yvNKG1EZsKtlJZBTgAAAA_jpeg.rf.ac84a08a561f1fc9278566e73fcdc3c6.jpg  \n",
            "  inflating: ./butterfly-spider/butterfly-spider/train/images/OIP-Zxkl2yvNKG1EZsKtlJZBTgAAAA_jpeg.rf.d98c9ec7e627056111ba124f53379080.jpg  \n",
            "  inflating: ./butterfly-spider/butterfly-spider/train/images/OIP-ZXlslUCo82OOxHlAotqIvwHaEK_jpeg.rf.5aab5feab73fb244c1ab562b1828929a.jpg  \n",
            "  inflating: ./butterfly-spider/butterfly-spider/train/images/OIP-ZXlslUCo82OOxHlAotqIvwHaEK_jpeg.rf.5f5fdab09ad5a92ed6c59d0ee3b18963.jpg  \n",
            "  inflating: ./butterfly-spider/butterfly-spider/train/images/OIP-ZXlslUCo82OOxHlAotqIvwHaEK_jpeg.rf.f60f75bdd3b7a688797612e16643c09a.jpg  \n",
            "  inflating: ./butterfly-spider/butterfly-spider/train/images/OIP-zXN2eacA63WItpYMZQsjWQHaE-_jpeg.rf.15cacbc92b5c6ebf5f069ac1792329e0.jpg  \n",
            "  inflating: ./butterfly-spider/butterfly-spider/train/images/OIP-zXN2eacA63WItpYMZQsjWQHaE-_jpeg.rf.b764523dc669bb44ab603ff26d14256e.jpg  \n",
            "  inflating: ./butterfly-spider/butterfly-spider/train/images/OIP-zXN2eacA63WItpYMZQsjWQHaE-_jpeg.rf.e862b9dbbf86211e4e13ff88a4e0ca8e.jpg  \n",
            "  inflating: ./butterfly-spider/butterfly-spider/train/images/OIP-zXOKqk0FPybf0s_7De3mMAHaE7_jpeg.rf.1088711dfcd53cb3dfb80a9edc6f5845.jpg  \n",
            "  inflating: ./butterfly-spider/butterfly-spider/train/images/OIP-zXOKqk0FPybf0s_7De3mMAHaE7_jpeg.rf.31abe028d574b4f9712e7569c66fd519.jpg  \n",
            "  inflating: ./butterfly-spider/butterfly-spider/train/images/OIP-zXOKqk0FPybf0s_7De3mMAHaE7_jpeg.rf.97ac1916fb323e01e1adbeeda0486b32.jpg  \n",
            "  inflating: ./butterfly-spider/butterfly-spider/train/images/OIP-zXOwI_2Mv3JCNXPppJ3bUQHaHA_jpeg.rf.1914ef0724f8bd15076ae25e73b78084.jpg  \n",
            "  inflating: ./butterfly-spider/butterfly-spider/train/images/OIP-zXOwI_2Mv3JCNXPppJ3bUQHaHA_jpeg.rf.545b152def2860afeb20a0de036e7420.jpg  \n",
            "  inflating: ./butterfly-spider/butterfly-spider/train/images/OIP-zXOwI_2Mv3JCNXPppJ3bUQHaHA_jpeg.rf.e5d05dbdd57a413bcbaedcb6261ffcc6.jpg  \n",
            "  inflating: ./butterfly-spider/butterfly-spider/train/images/OIP-zXtoxaRSHh4Ar2sGNndpaAHaLH_jpeg.rf.77cdeb79cd1865aaabdf2ef70dec2bbd.jpg  \n",
            "  inflating: ./butterfly-spider/butterfly-spider/train/images/OIP-zXtoxaRSHh4Ar2sGNndpaAHaLH_jpeg.rf.c128850cdd16a36b052fe9bde6e2f501.jpg  \n",
            "  inflating: ./butterfly-spider/butterfly-spider/train/images/OIP-zXtoxaRSHh4Ar2sGNndpaAHaLH_jpeg.rf.fcd53210c0654482c334d2013d19a3b3.jpg  \n",
            "  inflating: ./butterfly-spider/butterfly-spider/train/images/OIP-Zy4Kdt2PTcAnCfTsViRJ7wHaGi_jpeg.rf.7bcb02997ccc792db49e9d0842930765.jpg  \n",
            "  inflating: ./butterfly-spider/butterfly-spider/train/images/OIP-Zy4Kdt2PTcAnCfTsViRJ7wHaGi_jpeg.rf.fa9560dd4a08e1e33f85e55bec080110.jpg  \n",
            "  inflating: ./butterfly-spider/butterfly-spider/train/images/OIP-ZYoAuR6Ult0soCyXXy6S8AHaHd_jpeg.rf.346a5dc94bef83357da4896afa6b6ced.jpg  \n",
            "  inflating: ./butterfly-spider/butterfly-spider/train/images/OIP-ZYoAuR6Ult0soCyXXy6S8AHaHd_jpeg.rf.41ff73c98ea31d471781a688f1c8a89b.jpg  \n",
            "  inflating: ./butterfly-spider/butterfly-spider/train/images/OIP-ZYoAuR6Ult0soCyXXy6S8AHaHd_jpeg.rf.c62b90482548c843541b0a88e409af33.jpg  \n",
            "  inflating: ./butterfly-spider/butterfly-spider/train/images/OIP-zYTwzDLkk_kueB-NEvT14AHaE8_jpeg.rf.00ab9eab51a790510f93caf724524e0c.jpg  \n",
            "  inflating: ./butterfly-spider/butterfly-spider/train/images/OIP-zYTwzDLkk_kueB-NEvT14AHaE8_jpeg.rf.0df068b3876ddb3cd7246a234c657a93.jpg  \n",
            "  inflating: ./butterfly-spider/butterfly-spider/train/images/OIP-zYTwzDLkk_kueB-NEvT14AHaE8_jpeg.rf.ec3fcd74b67939ee7b858c0915341051.jpg  \n",
            "  inflating: ./butterfly-spider/butterfly-spider/train/images/OIP-zyvQLbH9ujZCRrXMYuxHUAHaG8_jpeg.rf.5c8c5dbefd0a4a7ce87b1adcd253b48f.jpg  \n",
            "  inflating: ./butterfly-spider/butterfly-spider/train/images/OIP-zyvQLbH9ujZCRrXMYuxHUAHaG8_jpeg.rf.604355752f11e0072167f1a1041f3924.jpg  \n",
            "  inflating: ./butterfly-spider/butterfly-spider/train/images/OIP-zyvQLbH9ujZCRrXMYuxHUAHaG8_jpeg.rf.c14c319c18d97f6e02f2a2ae6c2f82d1.jpg  \n",
            "  inflating: ./butterfly-spider/butterfly-spider/train/images/OIP-ZZTsnhHQqhxdD11PF4KEnAHaE7_jpeg.rf.41d96e116711830a72aa6caf6f0cc3e6.jpg  \n",
            "  inflating: ./butterfly-spider/butterfly-spider/train/images/OIP-ZZTsnhHQqhxdD11PF4KEnAHaE7_jpeg.rf.971a0bfaa082190a6c0aa098d0c8cdc2.jpg  \n",
            "  inflating: ./butterfly-spider/butterfly-spider/train/images/OIP-ZZTsnhHQqhxdD11PF4KEnAHaE7_jpeg.rf.e88b2c6a8fa22c2bf97b4a9cbb7115ce.jpg  \n",
            "  inflating: ./butterfly-spider/butterfly-spider/train/images/OIP-ZzvtXcnhCUa_WHoix4gEhwEsDG_jpeg.rf.6111a4f5dc3be053db1a65daf9c5dfae.jpg  \n",
            "  inflating: ./butterfly-spider/butterfly-spider/train/images/OIP-ZzvtXcnhCUa_WHoix4gEhwEsDG_jpeg.rf.70df56d62d8e507a3ba36aa305f8bdf4.jpg  \n",
            "  inflating: ./butterfly-spider/butterfly-spider/train/images/OIP-zZw0W0S_upyoUULuc3u1SQHaE7_jpeg.rf.3785c20e49c324b8853d4d33cbfc4779.jpg  \n",
            "  inflating: ./butterfly-spider/butterfly-spider/train/images/OIP-zZw0W0S_upyoUULuc3u1SQHaE7_jpeg.rf.50f5a9aa8816d3a0f85d5d6f0e0bafd6.jpg  \n",
            "  inflating: ./butterfly-spider/butterfly-spider/train/images/OIP-zZw0W0S_upyoUULuc3u1SQHaE7_jpeg.rf.750ce66ea92e5083e710d6ea4277ea64.jpg  \n",
            "   creating: ./butterfly-spider/butterfly-spider/train/labels/\n",
            "  inflating: ./butterfly-spider/butterfly-spider/train/labels/e030b20928e90021d85a5854ee454296eb70e3c818b413449df6c87ca3ed_640_jpg.rf.2ab8253cd23c2f6c3effa890f30db910.txt  \n",
            "  inflating: ./butterfly-spider/butterfly-spider/train/labels/e030b20928e90021d85a5854ee454296eb70e3c818b413449df6c87ca3ed_640_jpg.rf.6c8320ef8b236038d74e9f44847968b8.txt  \n",
            "  inflating: ./butterfly-spider/butterfly-spider/train/labels/e030b20928e90021d85a5854ee454296eb70e3c818b413449df6c87ca3ed_640_jpg.rf.fcccf88d9abc8de56ed175f919d7ceb6.txt  \n",
            "  inflating: ./butterfly-spider/butterfly-spider/train/labels/e030b20929e90021d85a5854ee454296eb70e3c818b413449df6c87ca3ed_640_jpg.rf.00454e10df76896a2fdeb14e27d9dc51.txt  \n",
            "  inflating: ./butterfly-spider/butterfly-spider/train/labels/e030b20929e90021d85a5854ee454296eb70e3c818b413449df6c87ca3ed_640_jpg.rf.1b00bad4dda23e2d497aad3526045ee1.txt  \n",
            "  inflating: ./butterfly-spider/butterfly-spider/train/labels/e030b20929e90021d85a5854ee454296eb70e3c818b413449df6c87ca3ed_640_jpg.rf.c01ce0ddfae52969efa2d071ddfe12e6.txt  \n",
            "  inflating: ./butterfly-spider/butterfly-spider/train/labels/e030b2092de90021d85a5854ee454296eb70e3c818b413449df6c87ca3ed_640_jpg.rf.111ffce2262053cf36c2061d78fa7991.txt  \n",
            "  inflating: ./butterfly-spider/butterfly-spider/train/labels/e030b2092de90021d85a5854ee454296eb70e3c818b413449df6c87ca3ed_640_jpg.rf.be98b9bbba0a083a74b0fb747ba9e5a3.txt  \n",
            "  inflating: ./butterfly-spider/butterfly-spider/train/labels/e030b2092de90021d85a5854ee454296eb70e3c818b413449df6c87ca3ed_640_jpg.rf.ffdc05f10a0e09e9e69de7ecf4be9705.txt  \n",
            "  inflating: ./butterfly-spider/butterfly-spider/train/labels/e03db4072cf01c22d2524518b7444f92e37fe5d404b0144390f8c47ba6edbc_640_jpg.rf.10cfbdc12823622094e3b0299f3bf6f2.txt  \n",
            "  inflating: ./butterfly-spider/butterfly-spider/train/labels/e03db4072cf01c22d2524518b7444f92e37fe5d404b0144390f8c47ba6edbc_640_jpg.rf.7a50b97dc3846c53d768a0ce8cf6536c.txt  \n",
            "  inflating: ./butterfly-spider/butterfly-spider/train/labels/e03db4072cf01c22d2524518b7444f92e37fe5d404b0144390f8c47ba6edbc_640_jpg.rf.b80f766d22ffabf43dc52206b39d1b73.txt  \n",
            "  inflating: ./butterfly-spider/butterfly-spider/train/labels/e132b60e2af51c22d2524518b7444f92e37fe5d404b0144390f8c770a3e5b7_640_jpg.rf.37fd6e8e4b538cf2dda204ed8ca07529.txt  \n",
            "  inflating: ./butterfly-spider/butterfly-spider/train/labels/e132b60e2af51c22d2524518b7444f92e37fe5d404b0144390f8c770a3e5b7_640_jpg.rf.3c7473e13b768d6262ceab36e26dc7ac.txt  \n",
            "  inflating: ./butterfly-spider/butterfly-spider/train/labels/e132b60e2af51c22d2524518b7444f92e37fe5d404b0144390f8c770a3e5b7_640_jpg.rf.c704ee061539c695f0f612fee374528d.txt  \n",
            " extracting: ./butterfly-spider/butterfly-spider/train/labels/e134b50a2efc1c22d2524518b7444f92e37fe5d404b0144390f8c770a1edb6_640_jpg.rf.1c56593e679662a5ffe0c47aec877798.txt  \n",
            " extracting: ./butterfly-spider/butterfly-spider/train/labels/e134b50a2efc1c22d2524518b7444f92e37fe5d404b0144390f8c770a1edb6_640_jpg.rf.84cf48a42bc154ae50d836678f8eae69.txt  \n",
            " extracting: ./butterfly-spider/butterfly-spider/train/labels/e134b50a2efc1c22d2524518b7444f92e37fe5d404b0144390f8c770a1edb6_640_jpg.rf.e39c4be93a89ee4f252ec26242cb2761.txt  \n",
            "  inflating: ./butterfly-spider/butterfly-spider/train/labels/e830b30a20f5003ed1584d05fb1d4e9fe777ead218ac104497f5c97faee9bdba_640_png.rf.b7b0543afd412163fa0213dbe14fe68a.txt  \n",
            "  inflating: ./butterfly-spider/butterfly-spider/train/labels/e830b30a20f5003ed1584d05fb1d4e9fe777ead218ac104497f5c97faee9bdba_640_png.rf.cfb244bc6db18833c90764911dec6a23.txt  \n",
            "  inflating: ./butterfly-spider/butterfly-spider/train/labels/e830b30a20f5003ed1584d05fb1d4e9fe777ead218ac104497f5c97faee9bdba_640_png.rf.e319110b74ed7cf142976f08815f6dcc.txt  \n",
            "  inflating: ./butterfly-spider/butterfly-spider/train/labels/e830b30a20f6033ed1584d05fb1d4e9fe777ead218ac104497f5c97faeebb5bb_640_png.rf.3da369a80ca3f83ffb851408ed888303.txt  \n",
            "  inflating: ./butterfly-spider/butterfly-spider/train/labels/e830b30a20f6033ed1584d05fb1d4e9fe777ead218ac104497f5c97faeebb5bb_640_png.rf.aaa709fbd1ce6101b77ce1eab45f671a.txt  \n",
            "  inflating: ./butterfly-spider/butterfly-spider/train/labels/e830b30a20f6053ed1584d05fb1d4e9fe777ead218ac104497f5c97faeebb5bb_640_png.rf.41c39d2b2d29d7858c4c182cb28b9b95.txt  \n",
            "  inflating: ./butterfly-spider/butterfly-spider/train/labels/e830b30a20f6053ed1584d05fb1d4e9fe777ead218ac104497f5c97faeebb5bb_640_png.rf.ddd9d9824b9f4c0d8caa7390cf7c1b1a.txt  \n",
            "  inflating: ./butterfly-spider/butterfly-spider/train/labels/e830b30a20f6053ed1584d05fb1d4e9fe777ead218ac104497f5c97faeebb5bb_640_png.rf.e6aea50e5cee6546b097427923b03322.txt  \n",
            "  inflating: ./butterfly-spider/butterfly-spider/train/labels/e830b5072df2063ed1584d05fb1d4e9fe777ead218ac104497f5c97ca5ecb3b9_640_jpg.rf.494f89ae6c60234d3d23faa87febcb35.txt  \n",
            "  inflating: ./butterfly-spider/butterfly-spider/train/labels/e830b5072df2063ed1584d05fb1d4e9fe777ead218ac104497f5c97ca5ecb3b9_640_jpg.rf.a6a5731a87b2a1a4b449d9cafd779365.txt  \n",
            "  inflating: ./butterfly-spider/butterfly-spider/train/labels/e830b5072df2063ed1584d05fb1d4e9fe777ead218ac104497f5c97ca5ecb3b9_640_jpg.rf.ea31d32a623506675fa2a1d4851119b2.txt  \n",
            "  inflating: ./butterfly-spider/butterfly-spider/train/labels/e830b60820f1063ed1584d05fb1d4e9fe777ead218ac104497f5c97ca5ecb3b9_640_jpg.rf.609a04ca026fa738ef5e74e8a0f2a099.txt  \n",
            "  inflating: ./butterfly-spider/butterfly-spider/train/labels/e830b60820f1063ed1584d05fb1d4e9fe777ead218ac104497f5c97ca5ecb3b9_640_jpg.rf.77d4a224541645183048b9cc3215dc7e.txt  \n",
            "  inflating: ./butterfly-spider/butterfly-spider/train/labels/e830b60820f1063ed1584d05fb1d4e9fe777ead218ac104497f5c97ca5ecb3b9_640_jpg.rf.c8712f004d90816f42d904c69e53eb95.txt  \n",
            "  inflating: ./butterfly-spider/butterfly-spider/train/labels/e830b90f20f5043ed1584d05fb1d4e9fe777ead218ac104497f5c97ca5ecb5b1_640_jpg.rf.16588947955995941fb936881df4c166.txt  \n",
            "  inflating: ./butterfly-spider/butterfly-spider/train/labels/e830b90f20f5043ed1584d05fb1d4e9fe777ead218ac104497f5c97ca5ecb5b1_640_jpg.rf.3e39448a8dd43837dc531e4fbf26785c.txt  \n",
            "  inflating: ./butterfly-spider/butterfly-spider/train/labels/e830b90f20f5043ed1584d05fb1d4e9fe777ead218ac104497f5c97ca5ecb5b1_640_jpg.rf.65b885d9113b6b514e1ac011e4002256.txt  \n",
            "  inflating: ./butterfly-spider/butterfly-spider/train/labels/e830b90f20f5083ed1584d05fb1d4e9fe777ead218ac104497f5c97ca5ecb5b1_640_jpg.rf.4c1a223a56d37c7d709c68539c3b2a0b.txt  \n",
            "  inflating: ./butterfly-spider/butterfly-spider/train/labels/e830b90f20f5083ed1584d05fb1d4e9fe777ead218ac104497f5c97ca5ecb5b1_640_jpg.rf.e5d30bb13537114a0a065b1a0f652849.txt  \n",
            "  inflating: ./butterfly-spider/butterfly-spider/train/labels/e830b90f20f5083ed1584d05fb1d4e9fe777ead218ac104497f5c97ca5ecb5b1_640_jpg.rf.edd93557726e175d68f2218b7ef27530.txt  \n",
            "  inflating: ./butterfly-spider/butterfly-spider/train/labels/e831b0092bf1023ed1584d05fb1d4e9fe777ead218ac104497f5c97ca5ecb3b9_640_jpg.rf.3860259161e6e0ddbfa17be3c6ce7a2b.txt  \n",
            "  inflating: ./butterfly-spider/butterfly-spider/train/labels/e831b0092bf1023ed1584d05fb1d4e9fe777ead218ac104497f5c97ca5ecb3b9_640_jpg.rf.6b59d5b03bda247ff6a1710c2ce4fbb6.txt  \n",
            "  inflating: ./butterfly-spider/butterfly-spider/train/labels/e831b0092bf1023ed1584d05fb1d4e9fe777ead218ac104497f5c97ca5ecb3b9_640_jpg.rf.d9dfcb390d72f53001d295b2b5af48b5.txt  \n",
            "  inflating: ./butterfly-spider/butterfly-spider/train/labels/e831b10b2ee90021d85a5854ee454296eb70e3c818b413449df6c87dafef_640_jpg.rf.6d9dab9e73d1fc325de61114c8882575.txt  \n",
            "  inflating: ./butterfly-spider/butterfly-spider/train/labels/e831b10b2ee90021d85a5854ee454296eb70e3c818b413449df6c87dafef_640_jpg.rf.8d032413f525a8813dfbf5359bdca4ce.txt  \n",
            "  inflating: ./butterfly-spider/butterfly-spider/train/labels/e831b10b2ee90021d85a5854ee454296eb70e3c818b413449df6c87dafef_640_jpg.rf.b0dc5aefef528b11cb423ec6d8866c77.txt  \n",
            "  inflating: ./butterfly-spider/butterfly-spider/train/labels/e831b30a28f21c22d2524518b7444f92e37fe5d404b0144390f8c770a3e5b7_640_jpg.rf.12c577c4b6235b4c8898a9c491895c12.txt  \n",
            "  inflating: ./butterfly-spider/butterfly-spider/train/labels/e831b30a28f21c22d2524518b7444f92e37fe5d404b0144390f8c770a3e5b7_640_jpg.rf.b0b0f2b8dbcbdcc276ef1dd05692d709.txt  \n",
            "  inflating: ./butterfly-spider/butterfly-spider/train/labels/e831b30a28f21c22d2524518b7444f92e37fe5d404b0144390f8c770a3e5b7_640_jpg.rf.cca01441d7723bef3d5f9e748da0379c.txt  \n",
            "  inflating: ./butterfly-spider/butterfly-spider/train/labels/e832b00a2df11c22d2524518b7444f92e37fe5d404b0144390f8c770a2e9b5_640_jpg.rf.3ae812fb60cdcc73a9d61c571b6a7747.txt  \n",
            "  inflating: ./butterfly-spider/butterfly-spider/train/labels/e832b00a2df11c22d2524518b7444f92e37fe5d404b0144390f8c770a2e9b5_640_jpg.rf.3b86bb768a732e0d03d7f0c6cd7b62f0.txt  \n",
            "  inflating: ./butterfly-spider/butterfly-spider/train/labels/e832b00a2df11c22d2524518b7444f92e37fe5d404b0144390f8c770a2e9b5_640_jpg.rf.7ea5c099704d615a0b79a066641e4ce1.txt  \n",
            "  inflating: ./butterfly-spider/butterfly-spider/train/labels/e832b00d29f7013ed1584d05fb1d4e9fe777ead218ac104497f5c97ca5ecb5b1_640_jpg.rf.03097b95acb06586a565b5b052b5652d.txt  \n",
            "  inflating: ./butterfly-spider/butterfly-spider/train/labels/e832b00d29f7013ed1584d05fb1d4e9fe777ead218ac104497f5c97ca5ecb5b1_640_jpg.rf.966ea06f34e17e7634c631d4b03a5f1d.txt  \n",
            "  inflating: ./butterfly-spider/butterfly-spider/train/labels/e832b00d29f7013ed1584d05fb1d4e9fe777ead218ac104497f5c97ca5ecb5b1_640_jpg.rf.ce34b97496efa51fa36420ebcdd1b04f.txt  \n",
            "  inflating: ./butterfly-spider/butterfly-spider/train/labels/e832b10a2fe90021d85a5854ee454296eb70e3c818b413449df6c87ca3ed_640_jpg.rf.45fff520108789735fcf1bcafa2e49d8.txt  \n",
            "  inflating: ./butterfly-spider/butterfly-spider/train/labels/e832b10a2fe90021d85a5854ee454296eb70e3c818b413449df6c87ca3ed_640_jpg.rf.603de3bfd506acd03785c14bc5fe1e1b.txt  \n",
            "  inflating: ./butterfly-spider/butterfly-spider/train/labels/e832b10a2fe90021d85a5854ee454296eb70e3c818b413449df6c87ca3ed_640_jpg.rf.9ffd87b25711e26302b84bb3e83bdf34.txt  \n",
            "  inflating: ./butterfly-spider/butterfly-spider/train/labels/e832b10c21fd003ed1584d05fb1d4e9fe777ead218ac104497f5c97ca5ecb5b1_640_jpg.rf.1eab745ffadf825640b37dda2d2ad00d.txt  \n",
            "  inflating: ./butterfly-spider/butterfly-spider/train/labels/e832b10c21fd003ed1584d05fb1d4e9fe777ead218ac104497f5c97ca5ecb5b1_640_jpg.rf.316f7eb87c99aefdff4dd8fd2c3ef721.txt  \n",
            "  inflating: ./butterfly-spider/butterfly-spider/train/labels/e832b10c21fd003ed1584d05fb1d4e9fe777ead218ac104497f5c97ca5ecb5b1_640_jpg.rf.40c9000c81aad32f24087dc7ad146524.txt  \n",
            "  inflating: ./butterfly-spider/butterfly-spider/train/labels/e832b10d2ef7013ed1584d05fb1d4e9fe777ead218ac104497f5c97ca5ecb3b9_640_jpg.rf.0cf5df45b76bbc8b0521bc4353f76cd2.txt  \n",
            "  inflating: ./butterfly-spider/butterfly-spider/train/labels/e832b10d2ef7013ed1584d05fb1d4e9fe777ead218ac104497f5c97ca5ecb3b9_640_jpg.rf.2bf676b1993f3d2e30fc59af9f08674f.txt  \n",
            "  inflating: ./butterfly-spider/butterfly-spider/train/labels/e832b10d2ef7013ed1584d05fb1d4e9fe777ead218ac104497f5c97ca5ecb3b9_640_jpg.rf.939e5808dd3c882bb96395f7319d0979.txt  \n",
            "  inflating: ./butterfly-spider/butterfly-spider/train/labels/e832b10f28f2053ed1584d05fb1d4e9fe777ead218ac104497f5c97ca5ecb5b1_640_jpg.rf.076b7acaf766e2bf94e944c40757a6f7.txt  \n",
            "  inflating: ./butterfly-spider/butterfly-spider/train/labels/e832b10f28f2053ed1584d05fb1d4e9fe777ead218ac104497f5c97ca5ecb5b1_640_jpg.rf.0eb6177c0671b556c11cbf46dbe1d90b.txt  \n",
            "  inflating: ./butterfly-spider/butterfly-spider/train/labels/e832b10f28f2053ed1584d05fb1d4e9fe777ead218ac104497f5c97ca5ecb5b1_640_jpg.rf.24ee0d0f6c7e0825864ac79ab6e3cdcd.txt  \n",
            "  inflating: ./butterfly-spider/butterfly-spider/train/labels/e832b4082df5003ed1584d05fb1d4e9fe777ead218ac104497f5c97faee9bdba_640_jpg.rf.1b45b5b5a3367d9cd6bc148c55d200a8.txt  \n",
            "  inflating: ./butterfly-spider/butterfly-spider/train/labels/e832b4082df5003ed1584d05fb1d4e9fe777ead218ac104497f5c97faee9bdba_640_jpg.rf.36d45ca44b728119ac80104e8fa75c6e.txt  \n",
            "  inflating: ./butterfly-spider/butterfly-spider/train/labels/e832b4082df5003ed1584d05fb1d4e9fe777ead218ac104497f5c97faee9bdba_640_jpg.rf.9569611130fe33974333351f0845e121.txt  \n",
            "  inflating: ./butterfly-spider/butterfly-spider/train/labels/e832b40a20f61c22d2524518b7444f92e37fe5d404b0144390f8c47ba6edbc_640_jpg.rf.779c0115d2de5706879d5c47ed91d2e3.txt  \n",
            "  inflating: ./butterfly-spider/butterfly-spider/train/labels/e832b40a20f61c22d2524518b7444f92e37fe5d404b0144390f8c47ba6edbc_640_jpg.rf.a713a0856ef586c85c3404ad6d1b0e39.txt  \n",
            "  inflating: ./butterfly-spider/butterfly-spider/train/labels/e832b40a20f61c22d2524518b7444f92e37fe5d404b0144390f8c47ba6edbc_640_jpg.rf.dd7af711b326b778289f3473caa82d1c.txt  \n",
            "  inflating: ./butterfly-spider/butterfly-spider/train/labels/e832b5072ef4053ed1584d05fb1d4e9fe777ead218ac104497f5c97ca5edb3bd_640_jpg.rf.2998bcea47f2ed777500f5424ce5b356.txt  \n",
            "  inflating: ./butterfly-spider/butterfly-spider/train/labels/e832b5072ef4053ed1584d05fb1d4e9fe777ead218ac104497f5c97ca5edb3bd_640_jpg.rf.6ae1d6e01fbb30765268d18c16e89556.txt  \n",
            "  inflating: ./butterfly-spider/butterfly-spider/train/labels/e832b5072ef4053ed1584d05fb1d4e9fe777ead218ac104497f5c97ca5edb3bd_640_jpg.rf.a92a7e7820ed8ea8c605db4b65290533.txt  \n",
            "  inflating: ./butterfly-spider/butterfly-spider/train/labels/e832b60c2ffc1c22d2524518b7444f92e37fe5d404b0144390f8c770a1edb6_640_jpg.rf.2e9707d47c05f1678a607ebd804e1306.txt  \n",
            "  inflating: ./butterfly-spider/butterfly-spider/train/labels/e832b60c2ffc1c22d2524518b7444f92e37fe5d404b0144390f8c770a1edb6_640_jpg.rf.7604cdc0fa64cbfa2e2cc1fd74c73f1f.txt  \n",
            "  inflating: ./butterfly-spider/butterfly-spider/train/labels/e832b60c2ffc1c22d2524518b7444f92e37fe5d404b0144390f8c770a1edb6_640_jpg.rf.85ac953e2e77089f057dbc78baa080a2.txt  \n",
            "  inflating: ./butterfly-spider/butterfly-spider/train/labels/e832b60d2ff2083ed1584d05fb1d4e9fe777ead218ac104497f5c97ca5edb3bd_640_jpg.rf.20b4a6dfddef17713bb75919080b5af9.txt  \n",
            "  inflating: ./butterfly-spider/butterfly-spider/train/labels/e832b60d2ff2083ed1584d05fb1d4e9fe777ead218ac104497f5c97ca5edb3bd_640_jpg.rf.b6bf1a633d105f551be78147a7c8a070.txt  \n",
            "  inflating: ./butterfly-spider/butterfly-spider/train/labels/e832b60d2ff2083ed1584d05fb1d4e9fe777ead218ac104497f5c97ca5edb3bd_640_jpg.rf.f15444357168a3aa57ce6708a78bae82.txt  \n",
            "  inflating: ./butterfly-spider/butterfly-spider/train/labels/e832b60d2ff3023ed1584d05fb1d4e9fe777ead218ac104497f5c97ca5ecb3b9_640_jpg.rf.2033f365119c48fc6df79f6669e61250.txt  \n",
            "  inflating: ./butterfly-spider/butterfly-spider/train/labels/e832b60d2ff3023ed1584d05fb1d4e9fe777ead218ac104497f5c97ca5ecb3b9_640_jpg.rf.f6688edf39a4befd95fe78a7c0103961.txt  \n",
            "  inflating: ./butterfly-spider/butterfly-spider/train/labels/e832b60d2ff3023ed1584d05fb1d4e9fe777ead218ac104497f5c97ca5ecb3b9_640_jpg.rf.fcf0af828d065afa2809a42c4477a919.txt  \n",
            "  inflating: ./butterfly-spider/butterfly-spider/train/labels/e832b7072ef41c22d2524518b7444f92e37fe5d404b0144390f8c770a1edb6_640_jpg.rf.2f616a72b17c32d7a07d46f058373161.txt  \n",
            "  inflating: ./butterfly-spider/butterfly-spider/train/labels/e832b7072ef41c22d2524518b7444f92e37fe5d404b0144390f8c770a1edb6_640_jpg.rf.8d0099541a86dc803fccdcd87b7fecec.txt  \n",
            "  inflating: ./butterfly-spider/butterfly-spider/train/labels/e832b7072ef41c22d2524518b7444f92e37fe5d404b0144390f8c770a1edb6_640_jpg.rf.99c6e57526785dcdf2ca83c94e05ae49.txt  \n",
            "  inflating: ./butterfly-spider/butterfly-spider/train/labels/e832b70c2af0043ed1584d05fb1d4e9fe777ead218ac104497f5c97faeebb5bb_640_jpg.rf.33d0ec98b3f80e4a958f870795d0aad4.txt  \n",
            "  inflating: ./butterfly-spider/butterfly-spider/train/labels/e832b70c2af0043ed1584d05fb1d4e9fe777ead218ac104497f5c97faeebb5bb_640_jpg.rf.4320161d1c879ce8254bc1bbb605727a.txt  \n",
            "  inflating: ./butterfly-spider/butterfly-spider/train/labels/e832b70c2af0043ed1584d05fb1d4e9fe777ead218ac104497f5c97faeebb5bb_640_jpg.rf.57b407742274f3c8065a5ca4b6e01526.txt  \n",
            "  inflating: ./butterfly-spider/butterfly-spider/train/labels/e832b70e2bf71c22d2524518b7444f92e37fe5d404b0144390f8c770a2e9b5_640_jpg.rf.20e06bd4733e419d00b5b813cb84a1b4.txt  \n",
            "  inflating: ./butterfly-spider/butterfly-spider/train/labels/e832b70e2bf71c22d2524518b7444f92e37fe5d404b0144390f8c770a2e9b5_640_jpg.rf.4a2246dee8e6607aa1e0be0e31f44052.txt  \n",
            "  inflating: ./butterfly-spider/butterfly-spider/train/labels/e832b70e2bf71c22d2524518b7444f92e37fe5d404b0144390f8c770a2e9b5_640_jpg.rf.9bbec77704f912e202c900af46db2939.txt  \n",
            "  inflating: ./butterfly-spider/butterfly-spider/train/labels/e832b70e2df21c22d2524518b7444f92e37fe5d404b0144390f8c770a2e9b5_640_jpg.rf.0af0ccb2d121715b8cc08d7f518f2990.txt  \n",
            "  inflating: ./butterfly-spider/butterfly-spider/train/labels/e832b70e2df21c22d2524518b7444f92e37fe5d404b0144390f8c770a2e9b5_640_jpg.rf.2eb2a8548cb4697f79951bf8c3be2890.txt  \n",
            "  inflating: ./butterfly-spider/butterfly-spider/train/labels/e832b70e2df21c22d2524518b7444f92e37fe5d404b0144390f8c770a2e9b5_640_jpg.rf.50b2aacc0b7a1ddd407294f7f09c2645.txt  \n",
            "  inflating: ./butterfly-spider/butterfly-spider/train/labels/e833b00e2ffd053ed1584d05fb1d4e9fe777ead218ac104497f5c97faeebb5bb_640_jpg.rf.932d9540c362f83e42cc613986fe5574.txt  \n",
            "  inflating: ./butterfly-spider/butterfly-spider/train/labels/e833b00e2ffd053ed1584d05fb1d4e9fe777ead218ac104497f5c97faeebb5bb_640_jpg.rf.97a66b0ae0f1c456b492e7eda8e809bc.txt  \n",
            "  inflating: ./butterfly-spider/butterfly-spider/train/labels/e833b00e2ffd053ed1584d05fb1d4e9fe777ead218ac104497f5c97faeebb5bb_640_jpg.rf.97be56522819a667fd0b5e1143ad400e.txt  \n",
            "  inflating: ./butterfly-spider/butterfly-spider/train/labels/e833b10920f3013ed1584d05fb1d4e9fe777ead218ac104497f5c97ca5ecb5b1_640_jpg.rf.5e4b107764fe1aac1177b911eb18b7b1.txt  \n",
            "  inflating: ./butterfly-spider/butterfly-spider/train/labels/e833b10920f3013ed1584d05fb1d4e9fe777ead218ac104497f5c97ca5ecb5b1_640_jpg.rf.b6b270937d7492f0dca023aff7799b4d.txt  \n",
            "  inflating: ./butterfly-spider/butterfly-spider/train/labels/e833b10920f3013ed1584d05fb1d4e9fe777ead218ac104497f5c97ca5ecb5b1_640_jpg.rf.c1e6c00cd8ddb4eb7054944e7936f338.txt  \n",
            "  inflating: ./butterfly-spider/butterfly-spider/train/labels/e833b20820f4073ed1584d05fb1d4e9fe777ead218ac104497f5c97ca5ecb5b1_640_jpg.rf.41063e2a380a9baca77bb31724b4d8d6.txt  \n",
            "  inflating: ./butterfly-spider/butterfly-spider/train/labels/e833b20820f4073ed1584d05fb1d4e9fe777ead218ac104497f5c97ca5ecb5b1_640_jpg.rf.6c8769843eed3a3749227dba9e061cf5.txt  \n",
            "  inflating: ./butterfly-spider/butterfly-spider/train/labels/e833b20820f4073ed1584d05fb1d4e9fe777ead218ac104497f5c97ca5ecb5b1_640_jpg.rf.c461caa51fc1f65c3f9b721ad80f0696.txt  \n",
            "  inflating: ./butterfly-spider/butterfly-spider/train/labels/e833b20a2ff0063ed1584d05fb1d4e9fe777ead218ac104497f5c97faee9bdba_640_jpg.rf.2f925a06b0c45f31ef5d202051058b48.txt  \n",
            "  inflating: ./butterfly-spider/butterfly-spider/train/labels/e833b20a2ff0063ed1584d05fb1d4e9fe777ead218ac104497f5c97faee9bdba_640_jpg.rf.4c7eb922ff3e18a93542ea0ac065f336.txt  \n",
            "  inflating: ./butterfly-spider/butterfly-spider/train/labels/e833b20a2ff0063ed1584d05fb1d4e9fe777ead218ac104497f5c97faee9bdba_640_jpg.rf.94e359efdbf92880869fc4ee4cca7176.txt  \n",
            "  inflating: ./butterfly-spider/butterfly-spider/train/labels/e833b30d2ffc023ed1584d05fb1d4e9fe777ead218ac104497f5c97ca5ecb3b9_640_jpg.rf.6c80d3b78e4f02952d9438ee9bfee7d7.txt  \n",
            "  inflating: ./butterfly-spider/butterfly-spider/train/labels/e833b30d2ffc023ed1584d05fb1d4e9fe777ead218ac104497f5c97ca5ecb3b9_640_jpg.rf.92563877a8c04a641bd9933c8551f5f5.txt  \n",
            "  inflating: ./butterfly-spider/butterfly-spider/train/labels/e833b30d2ffc023ed1584d05fb1d4e9fe777ead218ac104497f5c97ca5ecb3b9_640_jpg.rf.c48e23526011553f082778cb267cc99f.txt  \n",
            "  inflating: ./butterfly-spider/butterfly-spider/train/labels/e833b40a28fd093ed1584d05fb1d4e9fe777ead218ac104497f5c97faee9bdba_640_jpg.rf.05250515af5a0df716493662ff749921.txt  \n",
            "  inflating: ./butterfly-spider/butterfly-spider/train/labels/e833b40a28fd093ed1584d05fb1d4e9fe777ead218ac104497f5c97faee9bdba_640_jpg.rf.8aa15febe07115cfa9140df0e4bebf55.txt  \n",
            "  inflating: ./butterfly-spider/butterfly-spider/train/labels/e833b40a28fd093ed1584d05fb1d4e9fe777ead218ac104497f5c97faee9bdba_640_jpg.rf.f9ff573e7d58f5a427c0b98769546356.txt  \n",
            "  inflating: ./butterfly-spider/butterfly-spider/train/labels/e833b40a2ff6053ed1584d05fb1d4e9fe777ead218ac104497f5c97faee9bdba_640_jpg.rf.2814949df8248dee68fa3905275f6d64.txt  \n",
            "  inflating: ./butterfly-spider/butterfly-spider/train/labels/e833b40a2ff6053ed1584d05fb1d4e9fe777ead218ac104497f5c97faee9bdba_640_jpg.rf.c4a2694b83f40873d3c7ecc207760111.txt  \n",
            "  inflating: ./butterfly-spider/butterfly-spider/train/labels/e833b40a2ff6053ed1584d05fb1d4e9fe777ead218ac104497f5c97faee9bdba_640_jpg.rf.f58af7ce5e0c76fda44e09d662ad08f9.txt  \n",
            "  inflating: ./butterfly-spider/butterfly-spider/train/labels/e833b40e28f01c22d2524518b7444f92e37fe5d404b0144390f8c770a1edb6_640_jpg.rf.632e2c309d0f073a2ce30048ce923dee.txt  \n",
            "  inflating: ./butterfly-spider/butterfly-spider/train/labels/e833b40e28f01c22d2524518b7444f92e37fe5d404b0144390f8c770a1edb6_640_jpg.rf.6624d3d1d2d249d2bca9b66cfafb8d55.txt  \n",
            "  inflating: ./butterfly-spider/butterfly-spider/train/labels/e833b40e28f01c22d2524518b7444f92e37fe5d404b0144390f8c770a1edb6_640_jpg.rf.fd5922486632af8e3249b0901ef5fa47.txt  \n",
            "  inflating: ./butterfly-spider/butterfly-spider/train/labels/e833b50b29fc083ed1584d05fb1d4e9fe777ead218ac104497f5c97faee9bdba_640_jpg.rf.03eedd6903d42fe5145b290fecc4a46a.txt  \n",
            "  inflating: ./butterfly-spider/butterfly-spider/train/labels/e833b50b29fc083ed1584d05fb1d4e9fe777ead218ac104497f5c97faee9bdba_640_jpg.rf.0dc4d738065b897ce5aaaaae87ad3a2e.txt  \n",
            "  inflating: ./butterfly-spider/butterfly-spider/train/labels/e833b50b29fc083ed1584d05fb1d4e9fe777ead218ac104497f5c97faee9bdba_640_jpg.rf.116bee9d90adf50127d1d592fb536e5b.txt  \n",
            "  inflating: ./butterfly-spider/butterfly-spider/train/labels/e833b50b29fc083ed1584d05fb1d4e9fe777ead218ac104497f5c97faee9bdba_640_jpg.rf.3f3d2e394ad01bff6929f9d89b20cb9a.txt  \n",
            "  inflating: ./butterfly-spider/butterfly-spider/train/labels/e833b50b29fc083ed1584d05fb1d4e9fe777ead218ac104497f5c97faee9bdba_640_jpg.rf.a67495ad0465cd66253c9f4d66d56bab.txt  \n",
            "  inflating: ./butterfly-spider/butterfly-spider/train/labels/e833b50b29fc083ed1584d05fb1d4e9fe777ead218ac104497f5c97faee9bdba_640_jpg.rf.d09bf1d3f815645bd137d9011b546c6a.txt  \n",
            "  inflating: ./butterfly-spider/butterfly-spider/train/labels/e833b60c2cf6093ed1584d05fb1d4e9fe777ead218ac104497f5c97ca5ecb5b1_640_jpg.rf.52af088550115fe44d5f8f3e16ab155f.txt  \n",
            "  inflating: ./butterfly-spider/butterfly-spider/train/labels/e833b60c2cf6093ed1584d05fb1d4e9fe777ead218ac104497f5c97ca5ecb5b1_640_jpg.rf.83df16f82bb5416c15cb441bd5835cae.txt  \n",
            "  inflating: ./butterfly-spider/butterfly-spider/train/labels/e833b60c2cf6093ed1584d05fb1d4e9fe777ead218ac104497f5c97ca5ecb5b1_640_jpg.rf.e4de86fab2b4d40ea9c2a25c019e20fe.txt  \n",
            "  inflating: ./butterfly-spider/butterfly-spider/train/labels/e833b90a2ff6093ed1584d05fb1d4e9fe777ead218ac104497f5c97faeebb5bb_640_jpg.rf.0efb67d929ef45cd9cdf4478b73405f6.txt  \n",
            "  inflating: ./butterfly-spider/butterfly-spider/train/labels/e833b90a2ff6093ed1584d05fb1d4e9fe777ead218ac104497f5c97faeebb5bb_640_jpg.rf.39af4aba6bf15d0aebc090379ce84d1f.txt  \n",
            "  inflating: ./butterfly-spider/butterfly-spider/train/labels/e833b90a2ff6093ed1584d05fb1d4e9fe777ead218ac104497f5c97faeebb5bb_640_jpg.rf.5518b74505b1c578e48b3f7b2fa9ef00.txt  \n",
            "  inflating: ./butterfly-spider/butterfly-spider/train/labels/e833b90a2ff6093ed1584d05fb1d4e9fe777ead218ac104497f5c97faeebb5bb_640_jpg.rf.5d2f1e2efd85b802ae64a447f47e47c7.txt  \n",
            "  inflating: ./butterfly-spider/butterfly-spider/train/labels/e833b90a2ff6093ed1584d05fb1d4e9fe777ead218ac104497f5c97faeebb5bb_640_jpg.rf.8bd1ee6a1a23e1f54528877e54799e91.txt  \n",
            "  inflating: ./butterfly-spider/butterfly-spider/train/labels/e833b90a2ff6093ed1584d05fb1d4e9fe777ead218ac104497f5c97faeebb5bb_640_jpg.rf.a087f30cb0bbd321e608d9f35920f579.txt  \n",
            "  inflating: ./butterfly-spider/butterfly-spider/train/labels/e834b2082afc093ed1584d05fb1d4e9fe777ead218ac104497f5c97ca5edb3bd_640_jpg.rf.0bd3107f2b14dea293d32ce07148f723.txt  \n",
            "  inflating: ./butterfly-spider/butterfly-spider/train/labels/e834b2082afc093ed1584d05fb1d4e9fe777ead218ac104497f5c97ca5edb3bd_640_jpg.rf.3059ea41b963ecac63cddf907bcc4ce3.txt  \n",
            "  inflating: ./butterfly-spider/butterfly-spider/train/labels/e834b2082afc093ed1584d05fb1d4e9fe777ead218ac104497f5c97ca5edb3bd_640_jpg.rf.c85317f33ef2f122e2459c2678198899.txt  \n",
            "  inflating: ./butterfly-spider/butterfly-spider/train/labels/e834b20e2ef0013ed1584d05fb1d4e9fe777ead218ac104497f5c97ca5ecb3b9_640_jpg.rf.2a53a693ed32121301de0520272e4106.txt  \n",
            "  inflating: ./butterfly-spider/butterfly-spider/train/labels/e834b20e2ef0013ed1584d05fb1d4e9fe777ead218ac104497f5c97ca5ecb3b9_640_jpg.rf.3d6d7834e9d2cb70f23151c57fcd6a75.txt  \n",
            "  inflating: ./butterfly-spider/butterfly-spider/train/labels/e834b20e2ef0013ed1584d05fb1d4e9fe777ead218ac104497f5c97ca5ecb3b9_640_jpg.rf.b34966ccf3d10c4b708157c685a919b3.txt  \n",
            "  inflating: ./butterfly-spider/butterfly-spider/train/labels/e834b20e2ef7073ed1584d05fb1d4e9fe777ead218ac104497f5c97faee9bdba_640_jpg.rf.059a9ddba3dc8c54bbe4cd5b20b451ad.txt  \n",
            "  inflating: ./butterfly-spider/butterfly-spider/train/labels/e834b20e2ef7073ed1584d05fb1d4e9fe777ead218ac104497f5c97faee9bdba_640_jpg.rf.91506ca3d86e58e33537249251d5b605.txt  \n",
            "  inflating: ./butterfly-spider/butterfly-spider/train/labels/e834b20e2ef7073ed1584d05fb1d4e9fe777ead218ac104497f5c97faee9bdba_640_jpg.rf.c8dbcba463bac4066a31a7fabf4ea544.txt  \n",
            "  inflating: ./butterfly-spider/butterfly-spider/train/labels/e834b20f2cf0083ed1584d05fb1d4e9fe777ead218ac104497f5c97ca5edb3bd_640_jpg.rf.415ab8dbbff37df451ce5888b494f459.txt  \n",
            "  inflating: ./butterfly-spider/butterfly-spider/train/labels/e834b20f2cf0083ed1584d05fb1d4e9fe777ead218ac104497f5c97ca5edb3bd_640_jpg.rf.522db6be4708ea4e76901c6891d2edb9.txt  \n",
            "  inflating: ./butterfly-spider/butterfly-spider/train/labels/e834b20f2cf0083ed1584d05fb1d4e9fe777ead218ac104497f5c97ca5edb3bd_640_jpg.rf.8fcf72e4325f971b143ad4a5ef087516.txt  \n",
            "  inflating: ./butterfly-spider/butterfly-spider/train/labels/e834b20f2df4053ed1584d05fb1d4e9fe777ead218ac104497f5c97ca5ecb3b9_640_jpg.rf.036818e853c301e6888798d2354ff67f.txt  \n",
            "  inflating: ./butterfly-spider/butterfly-spider/train/labels/e834b20f2df4053ed1584d05fb1d4e9fe777ead218ac104497f5c97ca5ecb3b9_640_jpg.rf.6b53d078348b8a9be1c3875ce3c30154.txt  \n",
            "  inflating: ./butterfly-spider/butterfly-spider/train/labels/e834b20f2df4053ed1584d05fb1d4e9fe777ead218ac104497f5c97ca5ecb3b9_640_jpg.rf.da6b04d6d514d19f304b91461a56c6b2.txt  \n",
            "  inflating: ./butterfly-spider/butterfly-spider/train/labels/e834b3082ef2073ed1584d05fb1d4e9fe777ead218ac104497f5c97faee9bdba_640_jpg.rf.1c0d17cc048c4dc6f796da2044bb7cd7.txt  \n",
            "  inflating: ./butterfly-spider/butterfly-spider/train/labels/e834b3082ef2073ed1584d05fb1d4e9fe777ead218ac104497f5c97faee9bdba_640_jpg.rf.738f9be91bbe1e689955f63de06c84e7.txt  \n",
            "  inflating: ./butterfly-spider/butterfly-spider/train/labels/e834b3082ef2073ed1584d05fb1d4e9fe777ead218ac104497f5c97faee9bdba_640_jpg.rf.de778776791342cbfd91581fa66a1774.txt  \n",
            "  inflating: ./butterfly-spider/butterfly-spider/train/labels/e834b3082ef6073ed1584d05fb1d4e9fe777ead218ac104497f5c97ca5edb3bd_640_jpg.rf.6709cc6dc87c0c0b41c1f7f4af1bd09b.txt  \n",
            "  inflating: ./butterfly-spider/butterfly-spider/train/labels/e834b3082ef6073ed1584d05fb1d4e9fe777ead218ac104497f5c97ca5edb3bd_640_jpg.rf.799a2a6cebeb8ecf705c1df518fc14f5.txt  \n",
            "  inflating: ./butterfly-spider/butterfly-spider/train/labels/e834b3082ef6073ed1584d05fb1d4e9fe777ead218ac104497f5c97ca5edb3bd_640_jpg.rf.d4e199d40d2f5987b7db9536471293c6.txt  \n",
            "  inflating: ./butterfly-spider/butterfly-spider/train/labels/e834b40c21f3053ed1584d05fb1d4e9fe777ead218ac104497f5c97ca5ecb5b1_640_jpg.rf.4b10c70bc135c581fe1cd776a423cfb3.txt  \n",
            "  inflating: ./butterfly-spider/butterfly-spider/train/labels/e834b40c21f3053ed1584d05fb1d4e9fe777ead218ac104497f5c97ca5ecb5b1_640_jpg.rf.90c8f43b29ba9b9fe600c2e3fba01298.txt  \n",
            "  inflating: ./butterfly-spider/butterfly-spider/train/labels/e834b40c21f3053ed1584d05fb1d4e9fe777ead218ac104497f5c97ca5ecb5b1_640_jpg.rf.92cbaa578c2e594693ce2ba6275e6125.txt  \n",
            "  inflating: ./butterfly-spider/butterfly-spider/train/labels/e834b50a29f4043ed1584d05fb1d4e9fe777ead218ac104497f5c97ca5edb3bd_640_jpg.rf.50568af2ab6e1b73069bdc93a5c561be.txt  \n",
            "  inflating: ./butterfly-spider/butterfly-spider/train/labels/e834b50a29f4043ed1584d05fb1d4e9fe777ead218ac104497f5c97ca5edb3bd_640_jpg.rf.6f6889cbf63be548cc9cf592af8b35e3.txt  \n",
            "  inflating: ./butterfly-spider/butterfly-spider/train/labels/e834b50a29f4043ed1584d05fb1d4e9fe777ead218ac104497f5c97ca5edb3bd_640_jpg.rf.a833fac40e56b72bc7c9c703a5da1f44.txt  \n",
            "  inflating: ./butterfly-spider/butterfly-spider/train/labels/e834b70a2ff1033ed1584d05fb1d4e9fe777ead218ac104497f5c97ca5ecb5b1_640_jpg.rf.5508111cef8d56bdd40fd16dd92818ad.txt  \n",
            "  inflating: ./butterfly-spider/butterfly-spider/train/labels/e834b70a2ff1033ed1584d05fb1d4e9fe777ead218ac104497f5c97ca5ecb5b1_640_jpg.rf.b104c4d242f1c62aaddf7518f53e5827.txt  \n",
            "  inflating: ./butterfly-spider/butterfly-spider/train/labels/e834b70a2ff1033ed1584d05fb1d4e9fe777ead218ac104497f5c97ca5ecb5b1_640_jpg.rf.cb3acc929a3ea00111522b8e660e4cc3.txt  \n",
            "  inflating: ./butterfly-spider/butterfly-spider/train/labels/e834b70e2efc063ed1584d05fb1d4e9fe777ead218ac104497f5c97ca5ecb3b9_640_jpg.rf.0b29d2487439035c2d669825630494cd.txt  \n",
            "  inflating: ./butterfly-spider/butterfly-spider/train/labels/e834b70e2efc063ed1584d05fb1d4e9fe777ead218ac104497f5c97ca5ecb3b9_640_jpg.rf.5bcadaca6a55ea63a4aed59107baa5d5.txt  \n",
            "  inflating: ./butterfly-spider/butterfly-spider/train/labels/e834b70e2efc063ed1584d05fb1d4e9fe777ead218ac104497f5c97ca5ecb3b9_640_jpg.rf.90d94894d2b2ead6fd9a311e6db70dc2.txt  \n",
            "  inflating: ./butterfly-spider/butterfly-spider/train/labels/e835b4082ff2093ed1584d05fb1d4e9fe777ead218ac104497f5c97faee9bdba_640_jpg.rf.8883ce27ae0b0c7d58cd4d0655d3a8a9.txt  \n",
            "  inflating: ./butterfly-spider/butterfly-spider/train/labels/e835b4082ff2093ed1584d05fb1d4e9fe777ead218ac104497f5c97faee9bdba_640_jpg.rf.bbfee7aa5c8efd55f7fa4fba783fb3fd.txt  \n",
            "  inflating: ./butterfly-spider/butterfly-spider/train/labels/e835b4082ff2093ed1584d05fb1d4e9fe777ead218ac104497f5c97faee9bdba_640_jpg.rf.f34ccbb622f945dbdfa3579a98c58872.txt  \n",
            "  inflating: ./butterfly-spider/butterfly-spider/train/labels/e835b80e29f0033ed1584d05fb1d4e9fe777ead218ac104497f5c97ca5ecb3b9_640_jpg.rf.5097311a366bd1ed6704f59c1dc98cdb.txt  \n",
            "  inflating: ./butterfly-spider/butterfly-spider/train/labels/e835b80e29f0033ed1584d05fb1d4e9fe777ead218ac104497f5c97ca5ecb3b9_640_jpg.rf.6254f5581f94cd8cafa2b236fa0adc58.txt  \n",
            "  inflating: ./butterfly-spider/butterfly-spider/train/labels/e835b80e29f0033ed1584d05fb1d4e9fe777ead218ac104497f5c97ca5ecb3b9_640_jpg.rf.daf0a8630f2645ebfb9015fd14f15431.txt  \n",
            "  inflating: ./butterfly-spider/butterfly-spider/train/labels/e836b80e20f4083ed1584d05fb1d4e9fe777ead218ac104497f5c97faee9bdba_640_jpg.rf.396a8b079a27102e123145a7fdce8df1.txt  \n",
            "  inflating: ./butterfly-spider/butterfly-spider/train/labels/e836b80e20f4083ed1584d05fb1d4e9fe777ead218ac104497f5c97faee9bdba_640_jpg.rf.9a7397812d27faf4098824e48c73c084.txt  \n",
            "  inflating: ./butterfly-spider/butterfly-spider/train/labels/e836b80e20f4083ed1584d05fb1d4e9fe777ead218ac104497f5c97faee9bdba_640_jpg.rf.abd46c4b0c4acf82b18c27e17a66b6c3.txt  \n",
            "  inflating: ./butterfly-spider/butterfly-spider/train/labels/e837b00720fc053ed1584d05fb1d4e9fe777ead218ac104497f5c97faee9bdba_640_jpg.rf.0e768424c993a431873915271132551b.txt  \n",
            "  inflating: ./butterfly-spider/butterfly-spider/train/labels/e837b00720fc053ed1584d05fb1d4e9fe777ead218ac104497f5c97faee9bdba_640_jpg.rf.9962360ecf46ffe2de6896ae91f25d4d.txt  \n",
            "  inflating: ./butterfly-spider/butterfly-spider/train/labels/e837b00720fc053ed1584d05fb1d4e9fe777ead218ac104497f5c97faee9bdba_640_jpg.rf.c52d732ec1dd9f0c1a0717ec4c58b827.txt  \n",
            "  inflating: ./butterfly-spider/butterfly-spider/train/labels/e837b20b28f7013ed1584d05fb1d4e9fe777ead218ac104497f5c97ca5ecb3b9_640_jpg.rf.0f2714807add3b0fa63f756aced5633b.txt  \n",
            "  inflating: ./butterfly-spider/butterfly-spider/train/labels/e837b20b28f7013ed1584d05fb1d4e9fe777ead218ac104497f5c97ca5ecb3b9_640_jpg.rf.268d0aed2e97c22d1356a30fb422a5b6.txt  \n",
            "  inflating: ./butterfly-spider/butterfly-spider/train/labels/e837b20b28f7013ed1584d05fb1d4e9fe777ead218ac104497f5c97ca5ecb3b9_640_jpg.rf.b0cb12016646f0b084d36ecc2b377db4.txt  \n",
            "  inflating: ./butterfly-spider/butterfly-spider/train/labels/e837b30920f3023ed1584d05fb1d4e9fe777ead218ac104497f5c97faee9bdba_640_jpg.rf.4619ebd7c097f651336a2ab6d84a0ddd.txt  \n",
            "  inflating: ./butterfly-spider/butterfly-spider/train/labels/e837b30920f3023ed1584d05fb1d4e9fe777ead218ac104497f5c97faee9bdba_640_jpg.rf.aee8d5186f9144a0d09ff4ef5d232dd1.txt  \n",
            "  inflating: ./butterfly-spider/butterfly-spider/train/labels/e837b30920f3023ed1584d05fb1d4e9fe777ead218ac104497f5c97faee9bdba_640_jpg.rf.cc65d15a1b5aabc9546d7dcfaa8088ba.txt  \n",
            "  inflating: ./butterfly-spider/butterfly-spider/train/labels/e837b40a2ef6083ed1584d05fb1d4e9fe777ead218ac104497f5c97ca5ecb3b9_640_jpg.rf.194438d28d9cf4b85d6220b5d5fd4094.txt  \n",
            "  inflating: ./butterfly-spider/butterfly-spider/train/labels/e837b40a2ef6083ed1584d05fb1d4e9fe777ead218ac104497f5c97ca5ecb3b9_640_jpg.rf.61e37b39f2dbe7dc72fe4259af3baed3.txt  \n",
            "  inflating: ./butterfly-spider/butterfly-spider/train/labels/e837b40a2ef6083ed1584d05fb1d4e9fe777ead218ac104497f5c97ca5ecb3b9_640_jpg.rf.ec2b0fe9221bf29d2d97b9b3dbd499d4.txt  \n",
            "  inflating: ./butterfly-spider/butterfly-spider/train/labels/e837b9082af1053ed1584d05fb1d4e9fe777ead218ac104497f5c97ca5ecb3b9_640_jpg.rf.0462608fb0176e8daa836fdd07373159.txt  \n",
            "  inflating: ./butterfly-spider/butterfly-spider/train/labels/e837b9082af1053ed1584d05fb1d4e9fe777ead218ac104497f5c97ca5ecb3b9_640_jpg.rf.afd36592d062cf15bce67b69bfa38745.txt  \n",
            "  inflating: ./butterfly-spider/butterfly-spider/train/labels/e837b9082af1053ed1584d05fb1d4e9fe777ead218ac104497f5c97ca5ecb3b9_640_jpg.rf.f8a9d4f8283251d7e52e6a9df665c925.txt  \n",
            "  inflating: ./butterfly-spider/butterfly-spider/train/labels/e837b90e2ef3063ed1584d05fb1d4e9fe777ead218ac104497f5c97ca5ecb3b9_640_jpg.rf.21b5d10c2fd73af384a6918d8eeee1c8.txt  \n",
            "  inflating: ./butterfly-spider/butterfly-spider/train/labels/e837b90e2ef3063ed1584d05fb1d4e9fe777ead218ac104497f5c97ca5ecb3b9_640_jpg.rf.6307adaa97319990d5f471741584c586.txt  \n",
            "  inflating: ./butterfly-spider/butterfly-spider/train/labels/e837b90e2ef3063ed1584d05fb1d4e9fe777ead218ac104497f5c97ca5ecb3b9_640_jpg.rf.e5d3ad7558a6182ee71de729292c10e2.txt  \n",
            "  inflating: ./butterfly-spider/butterfly-spider/train/labels/e83cb0062ff5073ed1584d05fb1d4e9fe777ead218ac104497f5c97ca5ecb3b9_640_jpg.rf.2a370cfe1663af10de944654d34942f3.txt  \n",
            "  inflating: ./butterfly-spider/butterfly-spider/train/labels/e83cb0062ff5073ed1584d05fb1d4e9fe777ead218ac104497f5c97ca5ecb3b9_640_jpg.rf.2cf693d241eed3264f49034e39694b1f.txt  \n",
            "  inflating: ./butterfly-spider/butterfly-spider/train/labels/e83cb0062ff5073ed1584d05fb1d4e9fe777ead218ac104497f5c97ca5ecb3b9_640_jpg.rf.3d0d4ad8677db3900b7021d62f70d283.txt  \n",
            "  inflating: ./butterfly-spider/butterfly-spider/train/labels/e83cb00a2bf0053ed1584d05fb1d4e9fe777ead218ac104497f5c97ca5ecb3b9_640_jpg.rf.2927d40ede33ecd4a1fe5fb2a48aee7c.txt  \n",
            "  inflating: ./butterfly-spider/butterfly-spider/train/labels/e83cb00a2bf0053ed1584d05fb1d4e9fe777ead218ac104497f5c97ca5ecb3b9_640_jpg.rf.9e8196b14531d43f66a049e91c6e51fa.txt  \n",
            "  inflating: ./butterfly-spider/butterfly-spider/train/labels/e83cb00a2bf0053ed1584d05fb1d4e9fe777ead218ac104497f5c97ca5ecb3b9_640_jpg.rf.e84b75cede8beb87650cf29524fdc065.txt  \n",
            "  inflating: ./butterfly-spider/butterfly-spider/train/labels/e83cb2082bfd013ed1584d05fb1d4e9fe777ead218ac104497f5c97ca5ecb5b1_640_jpg.rf.4be30368602f9a5b202701a8b7a8d844.txt  \n",
            "  inflating: ./butterfly-spider/butterfly-spider/train/labels/e83cb2082bfd013ed1584d05fb1d4e9fe777ead218ac104497f5c97ca5ecb5b1_640_jpg.rf.6d47009f263b844dc07d4e02fbe6ccf1.txt  \n",
            "  inflating: ./butterfly-spider/butterfly-spider/train/labels/e83cb2082bfd013ed1584d05fb1d4e9fe777ead218ac104497f5c97ca5ecb5b1_640_jpg.rf.737329566b35ddeb0bc54f71031e11ae.txt  \n",
            "  inflating: ./butterfly-spider/butterfly-spider/train/labels/e83cb20a28f2023ed1584d05fb1d4e9fe777ead218ac104497f5c97ca5ecb3b9_640_jpg.rf.526ca231729d5d6881db8b0919bbe396.txt  \n",
            "  inflating: ./butterfly-spider/butterfly-spider/train/labels/e83cb20a28f2023ed1584d05fb1d4e9fe777ead218ac104497f5c97ca5ecb3b9_640_jpg.rf.5fe21a50108ab5d4865ea5f202efd9b8.txt  \n",
            "  inflating: ./butterfly-spider/butterfly-spider/train/labels/e83cb20a28f2023ed1584d05fb1d4e9fe777ead218ac104497f5c97ca5ecb3b9_640_jpg.rf.7d44ae1a05578d18404036b94fb493d6.txt  \n",
            "  inflating: ./butterfly-spider/butterfly-spider/train/labels/e83cb3062bf1003ed1584d05fb1d4e9fe777ead218ac104497f5c97ca5edb3bd_640_jpg.rf.2cf96092f0723afe512e9a40f8f19c44.txt  \n",
            "  inflating: ./butterfly-spider/butterfly-spider/train/labels/e83cb3062bf1003ed1584d05fb1d4e9fe777ead218ac104497f5c97ca5edb3bd_640_jpg.rf.381650e4a12f58823c6eb421cc0a09db.txt  \n",
            "  inflating: ./butterfly-spider/butterfly-spider/train/labels/e83cb3062bf1003ed1584d05fb1d4e9fe777ead218ac104497f5c97ca5edb3bd_640_jpg.rf.7a8eee9c8854937d1cdbf3a7550b8dc1.txt  \n",
            "  inflating: ./butterfly-spider/butterfly-spider/train/labels/e83cb30c2bf6043ed1584d05fb1d4e9fe777ead218ac104497f5c97ca5ecb5b1_640_jpg.rf.286e9f5e4867ad0fb5778f884ac4da53.txt  \n",
            "  inflating: ./butterfly-spider/butterfly-spider/train/labels/e83cb30c2bf6043ed1584d05fb1d4e9fe777ead218ac104497f5c97ca5ecb5b1_640_jpg.rf.920a28dd08c2dd0a508acdf8ec6a55c6.txt  \n",
            "  inflating: ./butterfly-spider/butterfly-spider/train/labels/e83cb30c2bf6043ed1584d05fb1d4e9fe777ead218ac104497f5c97ca5ecb5b1_640_jpg.rf.ee36d0de6385f7f6be1f12b7f0208690.txt  \n",
            " extracting: ./butterfly-spider/butterfly-spider/train/labels/e83cb40728f1073ed1584d05fb1d4e9fe777ead218ac104497f5c97ca5ecb3b9_640_jpg.rf.6cb66a1f8c22878aa94a502cbc3f3354.txt  \n",
            " extracting: ./butterfly-spider/butterfly-spider/train/labels/e83cb40728f1073ed1584d05fb1d4e9fe777ead218ac104497f5c97ca5ecb3b9_640_jpg.rf.cfed97e1adf4959419315300446d8346.txt  \n",
            " extracting: ./butterfly-spider/butterfly-spider/train/labels/e83cb40728f1073ed1584d05fb1d4e9fe777ead218ac104497f5c97ca5ecb3b9_640_jpg.rf.dba80b6dfc19a6534f7b7f0ed1642155.txt  \n",
            "  inflating: ./butterfly-spider/butterfly-spider/train/labels/e83cb4072bf21c22d2524518b7444f92e37fe5d404b0144390f8c47ba7ebb0_640_jpg.rf.20a59ecd5ca137b3f6261421876302f8.txt  \n",
            "  inflating: ./butterfly-spider/butterfly-spider/train/labels/e83cb4072bf21c22d2524518b7444f92e37fe5d404b0144390f8c47ba7ebb0_640_jpg.rf.7127c5be075c35b013b3a5fcf46156df.txt  \n",
            "  inflating: ./butterfly-spider/butterfly-spider/train/labels/e83cb4072bf21c22d2524518b7444f92e37fe5d404b0144390f8c47ba7ebb0_640_jpg.rf.770539f3b654574f641b7c8512952fb7.txt  \n",
            "  inflating: ./butterfly-spider/butterfly-spider/train/labels/e83cb60f2dfd1c22d2524518b7444f92e37fe5d404b0144390f8c47ba7ebb0_640_jpg.rf.06820a4c5d23e835599f8c0b2ceb7f12.txt  \n",
            "  inflating: ./butterfly-spider/butterfly-spider/train/labels/e83cb60f2dfd1c22d2524518b7444f92e37fe5d404b0144390f8c47ba7ebb0_640_jpg.rf.7143454ab482ac947e58be888852e008.txt  \n",
            "  inflating: ./butterfly-spider/butterfly-spider/train/labels/e83cb60f2dfd1c22d2524518b7444f92e37fe5d404b0144390f8c47ba7ebb0_640_jpg.rf.b9f9dcf18e2667dc3a251b9bf74f1d26.txt  \n",
            "  inflating: ./butterfly-spider/butterfly-spider/train/labels/e83cb80e29f11c22d2524518b7444f92e37fe5d404b0144390f8c770a3e5b7_640_jpg.rf.3abd680ebcc40eba166a5ec699b7712d.txt  \n",
            "  inflating: ./butterfly-spider/butterfly-spider/train/labels/e83cb80e29f11c22d2524518b7444f92e37fe5d404b0144390f8c770a3e5b7_640_jpg.rf.401707e5512a96b900a5f566d8f4ec10.txt  \n",
            "  inflating: ./butterfly-spider/butterfly-spider/train/labels/e83cb80e29f11c22d2524518b7444f92e37fe5d404b0144390f8c770a3e5b7_640_jpg.rf.bf7503ec5a0d574aeeceecd41da3e6f2.txt  \n",
            "  inflating: ./butterfly-spider/butterfly-spider/train/labels/e83cb90c28e90021d85a5854ee454296eb70e3c818b413449df6c87dafef_640_jpg.rf.027a5ff22022a0ca137b6b4b3ca66ca0.txt  \n",
            "  inflating: ./butterfly-spider/butterfly-spider/train/labels/e83cb90c28e90021d85a5854ee454296eb70e3c818b413449df6c87dafef_640_jpg.rf.588e56cff8e398d867869e1687658e50.txt  \n",
            "  inflating: ./butterfly-spider/butterfly-spider/train/labels/e83cb90c28e90021d85a5854ee454296eb70e3c818b413449df6c87dafef_640_jpg.rf.5c34bd49736f1248c130ac182de3b05b.txt  \n",
            "  inflating: ./butterfly-spider/butterfly-spider/train/labels/e83db0082ffc053ed1584d05fb1d4e9fe777ead218ac104497f5c97ca5ecb5b1_640_jpg.rf.85dba89944de516842169178df2d43e1.txt  \n",
            "  inflating: ./butterfly-spider/butterfly-spider/train/labels/e83db0082ffc053ed1584d05fb1d4e9fe777ead218ac104497f5c97ca5ecb5b1_640_jpg.rf.e3d2b9296cdd15cd86313a11098819bb.txt  \n",
            "  inflating: ./butterfly-spider/butterfly-spider/train/labels/e83db00b28e90021d85a5854ee454296eb70e3c818b413449df6c87ca3ed_640_jpg.rf.00ab59e9563e60dd7ed0b5a97a9c0296.txt  \n",
            "  inflating: ./butterfly-spider/butterfly-spider/train/labels/e83db00b28e90021d85a5854ee454296eb70e3c818b413449df6c87ca3ed_640_jpg.rf.6f8d9ee49ce5236d2591d59b6313eb22.txt  \n",
            "  inflating: ./butterfly-spider/butterfly-spider/train/labels/e83db00b28e90021d85a5854ee454296eb70e3c818b413449df6c87ca3ed_640_jpg.rf.b2c91facfe3a03850efea99cdfbde396.txt  \n",
            " extracting: ./butterfly-spider/butterfly-spider/train/labels/e83db4072cf1063ed1584d05fb1d4e9fe777ead218ac104497f5c97ca5ecb3b9_640_jpg.rf.23f5c9eb39ba0c8ed11f8357b3d052f7.txt  \n",
            " extracting: ./butterfly-spider/butterfly-spider/train/labels/e83db4072cf1063ed1584d05fb1d4e9fe777ead218ac104497f5c97ca5ecb3b9_640_jpg.rf.6dcfa3ca980b1102d32f3347901a3f28.txt  \n",
            " extracting: ./butterfly-spider/butterfly-spider/train/labels/e83db4072cf1063ed1584d05fb1d4e9fe777ead218ac104497f5c97ca5ecb3b9_640_jpg.rf.c36bf8c54727d45f526eb00b4c00552f.txt  \n",
            "  inflating: ./butterfly-spider/butterfly-spider/train/labels/e83db70d28f51c22d2524518b7444f92e37fe5d404b0144390f8c770a2e9b5_640_jpg.rf.0d4f319ac66b468988267b7251c23f6c.txt  \n",
            "  inflating: ./butterfly-spider/butterfly-spider/train/labels/e83db70d28f51c22d2524518b7444f92e37fe5d404b0144390f8c770a2e9b5_640_jpg.rf.8c2167c170ddf36197d75717b916a98d.txt  \n",
            "  inflating: ./butterfly-spider/butterfly-spider/train/labels/e83db70d28f51c22d2524518b7444f92e37fe5d404b0144390f8c770a2e9b5_640_jpg.rf.d205e6e907410d2a31ac023ad4c07de7.txt  \n",
            "  inflating: ./butterfly-spider/butterfly-spider/train/labels/e83db80628f01c22d2524518b7444f92e37fe5d404b0144390f8c47ba6edbc_640_jpg.rf.543ec1412a49b49bf7dd0dfd87e08c80.txt  \n",
            "  inflating: ./butterfly-spider/butterfly-spider/train/labels/e83db80628f01c22d2524518b7444f92e37fe5d404b0144390f8c47ba6edbc_640_jpg.rf.b95ef9c12b264c687a2faf95baebbc62.txt  \n",
            "  inflating: ./butterfly-spider/butterfly-spider/train/labels/e83db80628f01c22d2524518b7444f92e37fe5d404b0144390f8c47ba6edbc_640_jpg.rf.c969e0e86c1297125e2e61be6da9825c.txt  \n",
            "  inflating: ./butterfly-spider/butterfly-spider/train/labels/e83db90a21f4053ed1584d05fb1d4e9fe777ead218ac104497f5c97ca5ecb3b9_640_jpg.rf.643d08ef765254ec604b5e74248a3c2c.txt  \n",
            "  inflating: ./butterfly-spider/butterfly-spider/train/labels/e83db90a21f4053ed1584d05fb1d4e9fe777ead218ac104497f5c97ca5ecb3b9_640_jpg.rf.7a6f637680889e114aedea8c755fa94a.txt  \n",
            "  inflating: ./butterfly-spider/butterfly-spider/train/labels/e83db90a21f4053ed1584d05fb1d4e9fe777ead218ac104497f5c97ca5ecb3b9_640_jpg.rf.8e48ce682a6d0e6877c419d47ba73b4c.txt  \n",
            "  inflating: ./butterfly-spider/butterfly-spider/train/labels/ea30b60e20f11c22d2524518b7444f92e37fe5d404b0144390f8c47ba6ebb4_640_jpg.rf.077cede52a3884d767799ec16b8b5fd7.txt  \n",
            "  inflating: ./butterfly-spider/butterfly-spider/train/labels/ea30b60e20f11c22d2524518b7444f92e37fe5d404b0144390f8c47ba6ebb4_640_jpg.rf.c1c544a9de30e0a7ce9c235322fa6a30.txt  \n",
            "  inflating: ./butterfly-spider/butterfly-spider/train/labels/ea30b60e20f11c22d2524518b7444f92e37fe5d404b0144390f8c47ba6ebb4_640_jpg.rf.f7bedbd75d78693e058dec3639ccd142.txt  \n",
            "  inflating: ./butterfly-spider/butterfly-spider/train/labels/ea31b30e2ef41c22d2524518b7444f92e37fe5d404b0144390f8c770a2e9b5_640_jpg.rf.02d70a25a0df561f1d52505057f33f1f.txt  \n",
            "  inflating: ./butterfly-spider/butterfly-spider/train/labels/ea31b30e2ef41c22d2524518b7444f92e37fe5d404b0144390f8c770a2e9b5_640_jpg.rf.3974314cff5c5b9ba6690e7c9318de99.txt  \n",
            "  inflating: ./butterfly-spider/butterfly-spider/train/labels/ea31b30e2ef41c22d2524518b7444f92e37fe5d404b0144390f8c770a2e9b5_640_jpg.rf.44b6de9155e8befb669c0370dc9abd61.txt  \n",
            "  inflating: ./butterfly-spider/butterfly-spider/train/labels/ea31b90820f71c22d2524518b7444f92e37fe5d404b0144390f8c47ba6ebb4_640_jpg.rf.26f602a9606f4ccd421d385aacd66f8e.txt  \n",
            "  inflating: ./butterfly-spider/butterfly-spider/train/labels/ea31b90820f71c22d2524518b7444f92e37fe5d404b0144390f8c47ba6ebb4_640_jpg.rf.b88fa306dc3f6b129d1899781e4bae37.txt  \n",
            "  inflating: ./butterfly-spider/butterfly-spider/train/labels/ea31b90820f71c22d2524518b7444f92e37fe5d404b0144390f8c47ba6ebb4_640_jpg.rf.f678d2859c4f5c85379f395ecc9dc42a.txt  \n",
            "  inflating: ./butterfly-spider/butterfly-spider/train/labels/ea31b90820fc1c22d2524518b7444f92e37fe5d404b0144390f8c47ba6ebb4_640_jpg.rf.04bbfb35d5a7a3f6d3f99a9b99afda9e.txt  \n",
            "  inflating: ./butterfly-spider/butterfly-spider/train/labels/ea31b90820fc1c22d2524518b7444f92e37fe5d404b0144390f8c47ba6ebb4_640_jpg.rf.2fd5ca851b96b3d161b3f3e4005e50e8.txt  \n",
            "  inflating: ./butterfly-spider/butterfly-spider/train/labels/ea31b90820fc1c22d2524518b7444f92e37fe5d404b0144390f8c47ba6ebb4_640_jpg.rf.a77ad1537018b48a833e7da7d7a7a3ca.txt  \n",
            "  inflating: ./butterfly-spider/butterfly-spider/train/labels/ea31b90821f41c22d2524518b7444f92e37fe5d404b0144390f8c47ba6ebb4_640_jpg.rf.c7cff99601e548a705c74be7291db280.txt  \n",
            "  inflating: ./butterfly-spider/butterfly-spider/train/labels/ea31b90821f41c22d2524518b7444f92e37fe5d404b0144390f8c47ba6ebb4_640_jpg.rf.ebb1e068338f651ae2912d6f58e312ee.txt  \n",
            "  inflating: ./butterfly-spider/butterfly-spider/train/labels/ea31b90821f41c22d2524518b7444f92e37fe5d404b0144390f8c47ba6ebb4_640_jpg.rf.ef60b6fe53e47f003259bb64cefcdfd6.txt  \n",
            "  inflating: ./butterfly-spider/butterfly-spider/train/labels/ea32b6062af31c22d2524518b7444f92e37fe5d404b0144390f8c770a1edb6_640_jpg.rf.5adb5a9081446badf845a091c0e0c6aa.txt  \n",
            "  inflating: ./butterfly-spider/butterfly-spider/train/labels/ea32b6062af31c22d2524518b7444f92e37fe5d404b0144390f8c770a1edb6_640_jpg.rf.7b959c37ad32b8d4a5618792fb081906.txt  \n",
            "  inflating: ./butterfly-spider/butterfly-spider/train/labels/ea32b6062af31c22d2524518b7444f92e37fe5d404b0144390f8c770a1edb6_640_jpg.rf.bce8ddac0e879b4f33e56c37fd8a75d1.txt  \n",
            "  inflating: ./butterfly-spider/butterfly-spider/train/labels/ea32b6062af31c22d2524518b7444f92e37fe5d404b0144390f8c770a1edb6_640_jpg.rf.d47bcd6e4dc6b052da9ad1b60b169d28.txt  \n",
            "  inflating: ./butterfly-spider/butterfly-spider/train/labels/ea32b6062af31c22d2524518b7444f92e37fe5d404b0144390f8c770a1edb6_640_jpg.rf.e1f2425358a23a0e71c767eb2cc96493.txt  \n",
            "  inflating: ./butterfly-spider/butterfly-spider/train/labels/ea32b6062af31c22d2524518b7444f92e37fe5d404b0144390f8c770a1edb6_640_jpg.rf.ebebafc91a116bbdb8d7b327b4be85b5.txt  \n",
            "  inflating: ./butterfly-spider/butterfly-spider/train/labels/ea32b7072ff21c22d2524518b7444f92e37fe5d404b0144390f8c770a1edb6_640_jpg.rf.289c6003b229da20a43cd1bb718ffecf.txt  \n",
            "  inflating: ./butterfly-spider/butterfly-spider/train/labels/ea32b7072ff21c22d2524518b7444f92e37fe5d404b0144390f8c770a1edb6_640_jpg.rf.8586238343f21d8e2fe00af7223fb796.txt  \n",
            "  inflating: ./butterfly-spider/butterfly-spider/train/labels/ea32b7072ff21c22d2524518b7444f92e37fe5d404b0144390f8c770a1edb6_640_jpg.rf.a6c4d6ab9507630fb235d2e15f60af59.txt  \n",
            "  inflating: ./butterfly-spider/butterfly-spider/train/labels/ea33b20c2cf11c22d2524518b7444f92e37fe5d404b0144390f8c770a1edb6_640_jpg.rf.024bd655859507f9f0e5bfcd33911c58.txt  \n",
            "  inflating: ./butterfly-spider/butterfly-spider/train/labels/ea33b20c2cf11c22d2524518b7444f92e37fe5d404b0144390f8c770a1edb6_640_jpg.rf.1a0fd05a0604badeeece1d946b98dd35.txt  \n",
            "  inflating: ./butterfly-spider/butterfly-spider/train/labels/ea33b20c2cf11c22d2524518b7444f92e37fe5d404b0144390f8c770a1edb6_640_jpg.rf.2d65681516388c1ae661e96c1b4f8a17.txt  \n",
            "  inflating: ./butterfly-spider/butterfly-spider/train/labels/ea33b50c2afd1c22d2524518b7444f92e37fe5d404b0144390f8c770a2e9b5_640_jpg.rf.7491e848be8232f15062138ff90991c7.txt  \n",
            "  inflating: ./butterfly-spider/butterfly-spider/train/labels/ea33b50c2afd1c22d2524518b7444f92e37fe5d404b0144390f8c770a2e9b5_640_jpg.rf.d7db08e8457965ad93cd39879e661d99.txt  \n",
            "  inflating: ./butterfly-spider/butterfly-spider/train/labels/ea33b50c2afd1c22d2524518b7444f92e37fe5d404b0144390f8c770a2e9b5_640_jpg.rf.edae5589fe2412ec82faf7d9fd31824d.txt  \n",
            "  inflating: ./butterfly-spider/butterfly-spider/train/labels/ea34b0082bf7043ed1584d05fb1d4e9fe777ead218ac104497f5c97faeebb5bb_640_jpg.rf.02a44059c95490444d520f00b59444a6.txt  \n",
            "  inflating: ./butterfly-spider/butterfly-spider/train/labels/ea34b0082bf7043ed1584d05fb1d4e9fe777ead218ac104497f5c97faeebb5bb_640_jpg.rf.734d0befd298ff18f01a8fd1b5e7a4bb.txt  \n",
            "  inflating: ./butterfly-spider/butterfly-spider/train/labels/ea34b0082bf7043ed1584d05fb1d4e9fe777ead218ac104497f5c97faeebb5bb_640_jpg.rf.9d805354b684696b9d15d5371c6a9275.txt  \n",
            "  inflating: ./butterfly-spider/butterfly-spider/train/labels/ea34b00f2af7083ed1584d05fb1d4e9fe777ead218ac104497f5c97faeebb5bb_640_jpg.rf.3aa8477ad2e6f46fc3b93680ff8d101f.txt  \n",
            "  inflating: ./butterfly-spider/butterfly-spider/train/labels/ea34b00f2af7083ed1584d05fb1d4e9fe777ead218ac104497f5c97faeebb5bb_640_jpg.rf.872d527b941668784a249728fbfcf222.txt  \n",
            "  inflating: ./butterfly-spider/butterfly-spider/train/labels/ea34b00f2af7083ed1584d05fb1d4e9fe777ead218ac104497f5c97faeebb5bb_640_jpg.rf.91a7b9ac4544b6222eb6e84aa5f8d2a2.txt  \n",
            " extracting: ./butterfly-spider/butterfly-spider/train/labels/ea34b10621f1003ed1584d05fb1d4e9fe777ead218ac104497f5c97ca5edb3bd_640_jpg.rf.297e8623cb9d1cbca3ccb73a0b81dbcc.txt  \n",
            " extracting: ./butterfly-spider/butterfly-spider/train/labels/ea34b10621f1003ed1584d05fb1d4e9fe777ead218ac104497f5c97ca5edb3bd_640_jpg.rf.ac78b80f6f0c97f9dfe01f89c1dd6ec9.txt  \n",
            " extracting: ./butterfly-spider/butterfly-spider/train/labels/ea34b10621f1003ed1584d05fb1d4e9fe777ead218ac104497f5c97ca5edb3bd_640_jpg.rf.c7741975b5e67592332984efdb7d31dc.txt  \n",
            "  inflating: ./butterfly-spider/butterfly-spider/train/labels/ea34b1082dfd063ed1584d05fb1d4e9fe777ead218ac104497f5c97ca5ecb5b1_640_jpg.rf.0d2f954779ccc947c780db5ada4a03fd.txt  \n",
            "  inflating: ./butterfly-spider/butterfly-spider/train/labels/ea34b1082dfd063ed1584d05fb1d4e9fe777ead218ac104497f5c97ca5ecb5b1_640_jpg.rf.85aa43b9598e98ff3f05e4cf37c4e3dc.txt  \n",
            "  inflating: ./butterfly-spider/butterfly-spider/train/labels/ea34b1082dfd063ed1584d05fb1d4e9fe777ead218ac104497f5c97ca5ecb5b1_640_jpg.rf.e84cb46cf4bdfd2a84b511820b2e5f61.txt  \n",
            "  inflating: ./butterfly-spider/butterfly-spider/train/labels/ea34b1092bfd013ed1584d05fb1d4e9fe777ead218ac104497f5c97ca5edb3bd_640_jpg.rf.04d9bbc05f7ca46fa7ebe3380bc33e06.txt  \n",
            "  inflating: ./butterfly-spider/butterfly-spider/train/labels/ea34b1092bfd013ed1584d05fb1d4e9fe777ead218ac104497f5c97ca5edb3bd_640_jpg.rf.be5fb2eed801eb97ee3ba77339767879.txt  \n",
            "  inflating: ./butterfly-spider/butterfly-spider/train/labels/ea34b1092bfd013ed1584d05fb1d4e9fe777ead218ac104497f5c97ca5edb3bd_640_jpg.rf.f9698a334c744bae4db55ff7b79ab297.txt  \n",
            "  inflating: ./butterfly-spider/butterfly-spider/train/labels/ea34b10a28f0013ed1584d05fb1d4e9fe777ead218ac104497f5c97faeebb5bb_640_jpg.rf.0a2f086f277d683c16e1db282d096a00.txt  \n",
            "  inflating: ./butterfly-spider/butterfly-spider/train/labels/ea34b10a28f0013ed1584d05fb1d4e9fe777ead218ac104497f5c97faeebb5bb_640_jpg.rf.43218d5001c7a0dc36ffd36db2a179e6.txt  \n",
            "  inflating: ./butterfly-spider/butterfly-spider/train/labels/ea34b10a28f0013ed1584d05fb1d4e9fe777ead218ac104497f5c97faeebb5bb_640_jpg.rf.a74acfcd9cb8445e893621267c2e6d03.txt  \n",
            "  inflating: ./butterfly-spider/butterfly-spider/train/labels/ea34b10c2ff2013ed1584d05fb1d4e9fe777ead218ac104497f5c97ca5ecb5b1_640_jpg.rf.2dd6b288447da9e915b85426f043ec8d.txt  \n",
            "  inflating: ./butterfly-spider/butterfly-spider/train/labels/ea34b10c2ff2013ed1584d05fb1d4e9fe777ead218ac104497f5c97ca5ecb5b1_640_jpg.rf.7b4dc06ee55219337d64edf1fd64417f.txt  \n",
            "  inflating: ./butterfly-spider/butterfly-spider/train/labels/ea34b10c2ff2013ed1584d05fb1d4e9fe777ead218ac104497f5c97ca5ecb5b1_640_jpg.rf.f0685254f277ff570d19acb98a72dfb3.txt  \n",
            "  inflating: ./butterfly-spider/butterfly-spider/train/labels/ea34b10e2df1063ed1584d05fb1d4e9fe777ead218ac104497f5c97ca5edb3bd_640_jpg.rf.80cc8764f8e9bb608496afe2379d4407.txt  \n",
            "  inflating: ./butterfly-spider/butterfly-spider/train/labels/ea34b10e2df1063ed1584d05fb1d4e9fe777ead218ac104497f5c97ca5edb3bd_640_jpg.rf.87dcdf0e4b88531bbce6d216dd13a84f.txt  \n",
            "  inflating: ./butterfly-spider/butterfly-spider/train/labels/ea34b10e2df1063ed1584d05fb1d4e9fe777ead218ac104497f5c97ca5edb3bd_640_jpg.rf.bc93e56dac902bbe607ad9f0bff00477.txt  \n",
            "  inflating: ./butterfly-spider/butterfly-spider/train/labels/ea34b10f2cfc043ed1584d05fb1d4e9fe777ead218ac104497f5c97ca5edb3bd_640_jpg.rf.281aadb0c2f2fbfb4c6f8514c64f96a8.txt  \n",
            "  inflating: ./butterfly-spider/butterfly-spider/train/labels/ea34b10f2cfc043ed1584d05fb1d4e9fe777ead218ac104497f5c97ca5edb3bd_640_jpg.rf.640771859567eb756695710514d1849b.txt  \n",
            "  inflating: ./butterfly-spider/butterfly-spider/train/labels/ea34b10f2cfc043ed1584d05fb1d4e9fe777ead218ac104497f5c97ca5edb3bd_640_jpg.rf.cf749cc0ae628efffb5c79f0c1765728.txt  \n",
            "  inflating: ./butterfly-spider/butterfly-spider/train/labels/ea34b2062ef7003ed1584d05fb1d4e9fe777ead218ac104497f5c97ca5edb3bd_640_jpg.rf.1e055dc6f43e865286530b6834d47db5.txt  \n",
            "  inflating: ./butterfly-spider/butterfly-spider/train/labels/ea34b2062ef7003ed1584d05fb1d4e9fe777ead218ac104497f5c97ca5edb3bd_640_jpg.rf.1eac0d1f0fda6af089198b9e44c84401.txt  \n",
            "  inflating: ./butterfly-spider/butterfly-spider/train/labels/ea34b2062ef7003ed1584d05fb1d4e9fe777ead218ac104497f5c97ca5edb3bd_640_jpg.rf.b64e7929dd05e8e28c499a4d9780d0ac.txt  \n",
            "  inflating: ./butterfly-spider/butterfly-spider/train/labels/ea34b20a2df6063ed1584d05fb1d4e9fe777ead218ac104497f5c97faee8b1b8_640_jpg.rf.4e11b7fbef067e4311f487b512abc34c.txt  \n",
            "  inflating: ./butterfly-spider/butterfly-spider/train/labels/ea34b20a2df6063ed1584d05fb1d4e9fe777ead218ac104497f5c97faee8b1b8_640_jpg.rf.60ab9341312cdeb25cefb20f455b10a8.txt  \n",
            "  inflating: ./butterfly-spider/butterfly-spider/train/labels/ea34b20a2df6063ed1584d05fb1d4e9fe777ead218ac104497f5c97faee8b1b8_640_jpg.rf.e821b338426d897b0f843bb8435951d4.txt  \n",
            "  inflating: ./butterfly-spider/butterfly-spider/train/labels/ea34b20a2ef5013ed1584d05fb1d4e9fe777ead218ac104497f5c97faeebb5bb_640_jpg.rf.5e2b59279cc26e1de7d9d0e287a80ff6.txt  \n",
            "  inflating: ./butterfly-spider/butterfly-spider/train/labels/ea34b20a2ef5013ed1584d05fb1d4e9fe777ead218ac104497f5c97faeebb5bb_640_jpg.rf.7d7d0a49933040414454fed673cb5b2f.txt  \n",
            "  inflating: ./butterfly-spider/butterfly-spider/train/labels/ea34b20a2ef5013ed1584d05fb1d4e9fe777ead218ac104497f5c97faeebb5bb_640_jpg.rf.ec129b9c95f49c013b9aebf3f87414d8.txt  \n",
            "  inflating: ./butterfly-spider/butterfly-spider/train/labels/ea34b20b2ef5053ed1584d05fb1d4e9fe777ead218ac104497f5c97ca5ecb5b1_640_jpg.rf.a469bf4cd98b47d6966ceed97f9d236c.txt  \n",
            "  inflating: ./butterfly-spider/butterfly-spider/train/labels/ea34b20b2ef5053ed1584d05fb1d4e9fe777ead218ac104497f5c97ca5ecb5b1_640_jpg.rf.b9115bf6626d099349c08dd94edff001.txt  \n",
            "  inflating: ./butterfly-spider/butterfly-spider/train/labels/ea34b20b2ef5053ed1584d05fb1d4e9fe777ead218ac104497f5c97ca5ecb5b1_640_jpg.rf.ee0c8753412912e99951b7254d12a937.txt  \n",
            "  inflating: ./butterfly-spider/butterfly-spider/train/labels/ea34b3072ff0073ed1584d05fb1d4e9fe777ead218ac104497f5c97ca5ecb5b1_640_jpg.rf.2f3bc50ade67fdb99d52b26c36964054.txt  \n",
            "  inflating: ./butterfly-spider/butterfly-spider/train/labels/ea34b3072ff0073ed1584d05fb1d4e9fe777ead218ac104497f5c97ca5ecb5b1_640_jpg.rf.3322ba797081a01d271be03fde7d033e.txt  \n",
            "  inflating: ./butterfly-spider/butterfly-spider/train/labels/ea34b3072ff0073ed1584d05fb1d4e9fe777ead218ac104497f5c97ca5ecb5b1_640_jpg.rf.423772d45c7aab28e1aebd0c18ec3ac4.txt  \n",
            " extracting: ./butterfly-spider/butterfly-spider/train/labels/ea34b3072ff1033ed1584d05fb1d4e9fe777ead218ac104497f5c97ca5ecb3b9_640_jpg.rf.672deb7b7f928659a33acfbfc7b7fc35.txt  \n",
            " extracting: ./butterfly-spider/butterfly-spider/train/labels/ea34b3072ff1033ed1584d05fb1d4e9fe777ead218ac104497f5c97ca5ecb3b9_640_jpg.rf.84bde4cc2b345b5c344262b1f9fb7dde.txt  \n",
            " extracting: ./butterfly-spider/butterfly-spider/train/labels/ea34b3072ff1033ed1584d05fb1d4e9fe777ead218ac104497f5c97ca5ecb3b9_640_jpg.rf.f940104eaa438cb8966db8aaabac01f7.txt  \n",
            "  inflating: ./butterfly-spider/butterfly-spider/train/labels/ea34b30c29f7093ed1584d05fb1d4e9fe777ead218ac104497f5c97ca5ecb5b1_640_jpg.rf.1d19134b9507d76cc058e5526ec8ab01.txt  \n",
            "  inflating: ./butterfly-spider/butterfly-spider/train/labels/ea34b30c29f7093ed1584d05fb1d4e9fe777ead218ac104497f5c97ca5ecb5b1_640_jpg.rf.3ba518f62c28854b1f26e4a8f7879006.txt  \n",
            "  inflating: ./butterfly-spider/butterfly-spider/train/labels/ea34b30c29f7093ed1584d05fb1d4e9fe777ead218ac104497f5c97ca5ecb5b1_640_jpg.rf.b67abc55bee1fc0c6c85d7cb3b07307e.txt  \n",
            "  inflating: ./butterfly-spider/butterfly-spider/train/labels/ea34b4062cf6043ed1584d05fb1d4e9fe777ead218ac104497f5c97ca5edb3bd_640_jpg.rf.64c1b07dac8459444c65ff0e69a0f380.txt  \n",
            "  inflating: ./butterfly-spider/butterfly-spider/train/labels/ea34b4062cf6043ed1584d05fb1d4e9fe777ead218ac104497f5c97ca5edb3bd_640_jpg.rf.ae395ea0a4b5bab61f02cb9cb20c8286.txt  \n",
            "  inflating: ./butterfly-spider/butterfly-spider/train/labels/ea34b4062cf6043ed1584d05fb1d4e9fe777ead218ac104497f5c97ca5edb3bd_640_jpg.rf.fba941bbe88c1b87cdc752aa36c192b9.txt  \n",
            "  inflating: ./butterfly-spider/butterfly-spider/train/labels/ea34b4062cf7013ed1584d05fb1d4e9fe777ead218ac104497f5c97ca5edb3bd_640_jpg.rf.683573fa86773f9f6aeb6178e8aa1868.txt  \n",
            "  inflating: ./butterfly-spider/butterfly-spider/train/labels/ea34b4062cf7013ed1584d05fb1d4e9fe777ead218ac104497f5c97ca5edb3bd_640_jpg.rf.81f6d753f83a7721a312239d4951fdd3.txt  \n",
            "  inflating: ./butterfly-spider/butterfly-spider/train/labels/ea34b4062cf7013ed1584d05fb1d4e9fe777ead218ac104497f5c97ca5edb3bd_640_jpg.rf.efad6285b2b11903f562191f95fce0ad.txt  \n",
            "  inflating: ./butterfly-spider/butterfly-spider/train/labels/ea34b4072efd003ed1584d05fb1d4e9fe777ead218ac104497f5c97faeebb5bb_640_jpg.rf.23a703e7711d460d65f2f276de12e80f.txt  \n",
            "  inflating: ./butterfly-spider/butterfly-spider/train/labels/ea34b4072efd003ed1584d05fb1d4e9fe777ead218ac104497f5c97faeebb5bb_640_jpg.rf.c469056024947eb9f7c0d3cfda68c5bc.txt  \n",
            "  inflating: ./butterfly-spider/butterfly-spider/train/labels/ea34b4072efd003ed1584d05fb1d4e9fe777ead218ac104497f5c97faeebb5bb_640_jpg.rf.e58b4fa711566cca0e283b9b80da53c7.txt  \n",
            "  inflating: ./butterfly-spider/butterfly-spider/train/labels/ea34b40a21fd003ed1584d05fb1d4e9fe777ead218ac104497f5c97faee8b1b8_640_jpg.rf.05ed88673984a676038f7b5303df43aa.txt  \n",
            "  inflating: ./butterfly-spider/butterfly-spider/train/labels/ea34b40a21fd003ed1584d05fb1d4e9fe777ead218ac104497f5c97faee8b1b8_640_jpg.rf.664bd2f8c2c3b4cb9054c7619d73014e.txt  \n",
            "  inflating: ./butterfly-spider/butterfly-spider/train/labels/ea34b40a21fd003ed1584d05fb1d4e9fe777ead218ac104497f5c97faee8b1b8_640_jpg.rf.c87ae3928c999309d6986d385e289d7a.txt  \n",
            "  inflating: ./butterfly-spider/butterfly-spider/train/labels/ea34b40a21fd013ed1584d05fb1d4e9fe777ead218ac104497f5c97faeebb5bb_640_jpg.rf.1616c94f4207fd951bed3bc986a65318.txt  \n",
            "  inflating: ./butterfly-spider/butterfly-spider/train/labels/ea34b40a21fd013ed1584d05fb1d4e9fe777ead218ac104497f5c97faeebb5bb_640_jpg.rf.73bddb24bb5ae6af4542ed73f2b6cffb.txt  \n",
            "  inflating: ./butterfly-spider/butterfly-spider/train/labels/ea34b40a21fd013ed1584d05fb1d4e9fe777ead218ac104497f5c97faeebb5bb_640_jpg.rf.97fabd1773654ef283347a95c6da3e28.txt  \n",
            "  inflating: ./butterfly-spider/butterfly-spider/train/labels/ea34b40a2ef7003ed1584d05fb1d4e9fe777ead218ac104497f5c97faeebb5bb_640_jpg.rf.09d0cea8c1a8367bccbd255d251a3d10.txt  \n",
            "  inflating: ./butterfly-spider/butterfly-spider/train/labels/ea34b40a2ef7003ed1584d05fb1d4e9fe777ead218ac104497f5c97faeebb5bb_640_jpg.rf.2faf4d189404ec9c4dd79d0616aea27c.txt  \n",
            "  inflating: ./butterfly-spider/butterfly-spider/train/labels/ea34b40a2ef7003ed1584d05fb1d4e9fe777ead218ac104497f5c97faeebb5bb_640_jpg.rf.e626899b23a5f2fa1c8ad7289a870eb6.txt  \n",
            "  inflating: ./butterfly-spider/butterfly-spider/train/labels/ea34b40b2afd023ed1584d05fb1d4e9fe777ead218ac104497f5c97ca5ecb5b1_640_jpg.rf.1f4827d1c6827a3391e3e2c83cd242d2.txt  \n",
            "  inflating: ./butterfly-spider/butterfly-spider/train/labels/ea34b40b2afd023ed1584d05fb1d4e9fe777ead218ac104497f5c97ca5ecb5b1_640_jpg.rf.39f5b421a960b70b6b30bb8a7b0f58a0.txt  \n",
            "  inflating: ./butterfly-spider/butterfly-spider/train/labels/ea34b40b2afd023ed1584d05fb1d4e9fe777ead218ac104497f5c97ca5ecb5b1_640_jpg.rf.58b9050da0aa156cedc893944dbc2aba.txt  \n",
            "  inflating: ./butterfly-spider/butterfly-spider/train/labels/ea34b40d21f0023ed1584d05fb1d4e9fe777ead218ac104497f5c97faeebb5bb_640_jpg.rf.01686170c1f41433e7940c9aed34834e.txt  \n",
            "  inflating: ./butterfly-spider/butterfly-spider/train/labels/ea34b40d21f0023ed1584d05fb1d4e9fe777ead218ac104497f5c97faeebb5bb_640_jpg.rf.bea8b0099e223855f9bc61d5cb51af9c.txt  \n",
            "  inflating: ./butterfly-spider/butterfly-spider/train/labels/ea34b40d21f0023ed1584d05fb1d4e9fe777ead218ac104497f5c97faeebb5bb_640_jpg.rf.d1fa2f1ada7a1bf6085e2997b4d1581e.txt  \n",
            "  inflating: ./butterfly-spider/butterfly-spider/train/labels/ea34b50a2ef3043ed1584d05fb1d4e9fe777ead218ac104497f5c97faeebb5bb_640_jpg.rf.257f93c89408638bc2c402e540b37db3.txt  \n",
            "  inflating: ./butterfly-spider/butterfly-spider/train/labels/ea34b50a2ef3043ed1584d05fb1d4e9fe777ead218ac104497f5c97faeebb5bb_640_jpg.rf.4dd878121f4e798ca6b40cf0e3129250.txt  \n",
            "  inflating: ./butterfly-spider/butterfly-spider/train/labels/ea34b50a2ef3043ed1584d05fb1d4e9fe777ead218ac104497f5c97faeebb5bb_640_jpg.rf.e7459cc51b885a631c63d781fe2d6cc5.txt  \n",
            "  inflating: ./butterfly-spider/butterfly-spider/train/labels/ea34b50c2cf4053ed1584d05fb1d4e9fe777ead218ac104497f5c97ca5edb3bd_640_jpg.rf.61dc1f16da86d4725a06f353c1481050.txt  \n",
            "  inflating: ./butterfly-spider/butterfly-spider/train/labels/ea34b50c2cf4053ed1584d05fb1d4e9fe777ead218ac104497f5c97ca5edb3bd_640_jpg.rf.62f75a0bb6d0e5edc170574225a3eac3.txt  \n",
            "  inflating: ./butterfly-spider/butterfly-spider/train/labels/ea34b50c2cf4053ed1584d05fb1d4e9fe777ead218ac104497f5c97ca5edb3bd_640_jpg.rf.b7cadf2b4df30a10f7baae5b820597a7.txt  \n",
            "  inflating: ./butterfly-spider/butterfly-spider/train/labels/ea34b6092af2073ed1584d05fb1d4e9fe777ead218ac104497f5c97ca5ecb3b9_640_jpg.rf.547bb1df46f1c64c4057e44695afc45a.txt  \n",
            "  inflating: ./butterfly-spider/butterfly-spider/train/labels/ea34b6092af2073ed1584d05fb1d4e9fe777ead218ac104497f5c97ca5ecb3b9_640_jpg.rf.8a58287625ff6752ef9ae205e0337994.txt  \n",
            "  inflating: ./butterfly-spider/butterfly-spider/train/labels/ea34b6092af2073ed1584d05fb1d4e9fe777ead218ac104497f5c97ca5ecb3b9_640_jpg.rf.ca4fd9eceb42a68678b3abd73304fbf6.txt  \n",
            "  inflating: ./butterfly-spider/butterfly-spider/train/labels/ea34b60a2ef6053ed1584d05fb1d4e9fe777ead218ac104497f5c97ca5edb3bd_640_jpg.rf.1174b42c3ce41d1a34bff9cc48b88219.txt  \n",
            "  inflating: ./butterfly-spider/butterfly-spider/train/labels/ea34b60a2ef6053ed1584d05fb1d4e9fe777ead218ac104497f5c97ca5edb3bd_640_jpg.rf.1cbc5d221d8cbd53d50415fcb2bd8f5e.txt  \n",
            "  inflating: ./butterfly-spider/butterfly-spider/train/labels/ea34b60a2ef6053ed1584d05fb1d4e9fe777ead218ac104497f5c97ca5edb3bd_640_jpg.rf.756ffb715cd81752ff6fe0598fceb658.txt  \n",
            "  inflating: ./butterfly-spider/butterfly-spider/train/labels/ea34b60d20f3033ed1584d05fb1d4e9fe777ead218ac104497f5c97faeebb5bb_640_jpg.rf.07f9bd2140497ef612e0ef1afb284f4a.txt  \n",
            "  inflating: ./butterfly-spider/butterfly-spider/train/labels/ea34b60d20f3033ed1584d05fb1d4e9fe777ead218ac104497f5c97faeebb5bb_640_jpg.rf.57d060a9969c28e20fbcb58f2c5dd255.txt  \n",
            "  inflating: ./butterfly-spider/butterfly-spider/train/labels/ea34b60d20f3033ed1584d05fb1d4e9fe777ead218ac104497f5c97faeebb5bb_640_jpg.rf.bff9d243e6b7ae715851a2d959125d1a.txt  \n",
            "  inflating: ./butterfly-spider/butterfly-spider/train/labels/ea34b60e21f5043ed1584d05fb1d4e9fe777ead218ac104497f5c97faeebb5bb_640_jpg.rf.0deae8211fbe09683645d7e6218f6e6f.txt  \n",
            "  inflating: ./butterfly-spider/butterfly-spider/train/labels/ea34b60e21f5043ed1584d05fb1d4e9fe777ead218ac104497f5c97faeebb5bb_640_jpg.rf.e9b095a0c73bd7dce46d58b396f71655.txt  \n",
            "  inflating: ./butterfly-spider/butterfly-spider/train/labels/ea34b60e21f5043ed1584d05fb1d4e9fe777ead218ac104497f5c97faeebb5bb_640_jpg.rf.f35768b49bc58bf7ba2168a5ff8c3f7b.txt  \n",
            "  inflating: ./butterfly-spider/butterfly-spider/train/labels/ea34b70720f7083ed1584d05fb1d4e9fe777ead218ac104497f5c97faee9bdba_640_jpg.rf.0ffe44c03d2d9ea923163ef1768c8da2.txt  \n",
            "  inflating: ./butterfly-spider/butterfly-spider/train/labels/ea34b70720f7083ed1584d05fb1d4e9fe777ead218ac104497f5c97faee9bdba_640_jpg.rf.7a7d52f1f2be8372beedbcc719b330f2.txt  \n",
            "  inflating: ./butterfly-spider/butterfly-spider/train/labels/ea34b70720f7083ed1584d05fb1d4e9fe777ead218ac104497f5c97faee9bdba_640_jpg.rf.a295e8c12881b6df53c472da79faed4c.txt  \n",
            "  inflating: ./butterfly-spider/butterfly-spider/train/labels/ea34b70720f7083ed1584d05fb1d4e9fe777ead218ac104497f5c97faee9bdba_640_jpg.rf.a59d2e389402371eb9d02b18dea1be8f.txt  \n",
            "  inflating: ./butterfly-spider/butterfly-spider/train/labels/ea34b70720f7083ed1584d05fb1d4e9fe777ead218ac104497f5c97faee9bdba_640_jpg.rf.cc7e9d49b2d662ef7da784f6a898fd03.txt  \n",
            "  inflating: ./butterfly-spider/butterfly-spider/train/labels/ea34b70720f7083ed1584d05fb1d4e9fe777ead218ac104497f5c97faee9bdba_640_jpg.rf.e48cd11e7aa8363d7187db0cdec84f34.txt  \n",
            "  inflating: ./butterfly-spider/butterfly-spider/train/labels/ea34b70729fd063ed1584d05fb1d4e9fe777ead218ac104497f5c97faeebb5bb_640_jpg.rf.05b98234f5978a418acf97196d0fafab.txt  \n",
            "  inflating: ./butterfly-spider/butterfly-spider/train/labels/ea34b70729fd063ed1584d05fb1d4e9fe777ead218ac104497f5c97faeebb5bb_640_jpg.rf.0eea687c7efc020582b1d34660818da6.txt  \n",
            "  inflating: ./butterfly-spider/butterfly-spider/train/labels/ea34b70729fd063ed1584d05fb1d4e9fe777ead218ac104497f5c97faeebb5bb_640_jpg.rf.17595b498cf29b5e5c04c8888d9c29df.txt  \n",
            "  inflating: ./butterfly-spider/butterfly-spider/train/labels/ea34b70729fd063ed1584d05fb1d4e9fe777ead218ac104497f5c97faeebb5bb_640_jpg.rf.18d51968eb805a4ae02b2f03592e6674.txt  \n",
            "  inflating: ./butterfly-spider/butterfly-spider/train/labels/ea34b70729fd063ed1584d05fb1d4e9fe777ead218ac104497f5c97faeebb5bb_640_jpg.rf.96bb835c814e7f0a40b87f2d40c53fdd.txt  \n",
            "  inflating: ./butterfly-spider/butterfly-spider/train/labels/ea34b70729fd063ed1584d05fb1d4e9fe777ead218ac104497f5c97faeebb5bb_640_jpg.rf.e1714baff2f8957475fdad549bad6d0b.txt  \n",
            "  inflating: ./butterfly-spider/butterfly-spider/train/labels/ea34b70829f0093ed1584d05fb1d4e9fe777ead218ac104497f5c97ca5edb3bd_640_jpg.rf.84a43a172752603817552cf9e26263da.txt  \n",
            "  inflating: ./butterfly-spider/butterfly-spider/train/labels/ea34b70829f0093ed1584d05fb1d4e9fe777ead218ac104497f5c97ca5edb3bd_640_jpg.rf.94123e01b0d68b1d0c884b863a4365d2.txt  \n",
            "  inflating: ./butterfly-spider/butterfly-spider/train/labels/ea34b70829f0093ed1584d05fb1d4e9fe777ead218ac104497f5c97ca5edb3bd_640_jpg.rf.a137dc2bec65e820d16bf3a81d59e12c.txt  \n",
            "  inflating: ./butterfly-spider/butterfly-spider/train/labels/ea34b70829f1013ed1584d05fb1d4e9fe777ead218ac104497f5c97ca5edb3bd_640_jpg.rf.05fd2366f7642cc6bdb518779b836abd.txt  \n",
            "  inflating: ./butterfly-spider/butterfly-spider/train/labels/ea34b70829f1013ed1584d05fb1d4e9fe777ead218ac104497f5c97ca5edb3bd_640_jpg.rf.3df02986720d8b9d172657e1b08f9563.txt  \n",
            "  inflating: ./butterfly-spider/butterfly-spider/train/labels/ea34b70829f1013ed1584d05fb1d4e9fe777ead218ac104497f5c97ca5edb3bd_640_jpg.rf.4ed6f8eb3c5a0827fac3c7ac5f476942.txt  \n",
            "  inflating: ./butterfly-spider/butterfly-spider/train/labels/ea34b7082cf41c22d2524518b7444f92e37fe5d404b0144390f8c770a2e9b5_640_jpg.rf.23bb86b41b38c6c0333572370940bd2e.txt  \n",
            "  inflating: ./butterfly-spider/butterfly-spider/train/labels/ea34b7082cf41c22d2524518b7444f92e37fe5d404b0144390f8c770a2e9b5_640_jpg.rf.389f231589e99a0ab2838aa09df974c2.txt  \n",
            "  inflating: ./butterfly-spider/butterfly-spider/train/labels/ea34b7082cf41c22d2524518b7444f92e37fe5d404b0144390f8c770a2e9b5_640_jpg.rf.49d02e2df0ecb2bd1673e65abefece7d.txt  \n",
            "  inflating: ./butterfly-spider/butterfly-spider/train/labels/ea34b70a20fd083ed1584d05fb1d4e9fe777ead218ac104497f5c97faee8b1b8_640_jpg.rf.b6276c4a63c14cad13c74611af8bfde8.txt  \n",
            "  inflating: ./butterfly-spider/butterfly-spider/train/labels/ea34b70a20fd083ed1584d05fb1d4e9fe777ead218ac104497f5c97faee8b1b8_640_jpg.rf.d4cd6792821c140296bfb26cdfd81a69.txt  \n",
            "  inflating: ./butterfly-spider/butterfly-spider/train/labels/ea34b70a20fd083ed1584d05fb1d4e9fe777ead218ac104497f5c97faee8b1b8_640_jpg.rf.ef608f61e72fd976162a45e2a5c8d691.txt  \n",
            "  inflating: ./butterfly-spider/butterfly-spider/train/labels/ea34b70e2efc053ed1584d05fb1d4e9fe777ead218ac104497f5c97faeebb5bb_640_jpg.rf.114835673f36ad7ced70c609fb64f9b7.txt  \n",
            "  inflating: ./butterfly-spider/butterfly-spider/train/labels/ea34b70e2efc053ed1584d05fb1d4e9fe777ead218ac104497f5c97faeebb5bb_640_jpg.rf.bfd5a5f7649f6a2deb9e7c2f12c1180e.txt  \n",
            "  inflating: ./butterfly-spider/butterfly-spider/train/labels/ea34b70e2efc053ed1584d05fb1d4e9fe777ead218ac104497f5c97faeebb5bb_640_jpg.rf.f2ce491a4b3c1771049668e7df1137de.txt  \n",
            "  inflating: ./butterfly-spider/butterfly-spider/train/labels/ea34b70f2cf3003ed1584d05fb1d4e9fe777ead218ac104497f5c97ca5edb3bd_640_jpg.rf.a216cdd7c832e0ea434323b2a35bb3de.txt  \n",
            "  inflating: ./butterfly-spider/butterfly-spider/train/labels/ea34b70f2cf3003ed1584d05fb1d4e9fe777ead218ac104497f5c97ca5edb3bd_640_jpg.rf.d0d15054a7651e583167480aa0811c38.txt  \n",
            "  inflating: ./butterfly-spider/butterfly-spider/train/labels/ea34b70f2cf3003ed1584d05fb1d4e9fe777ead218ac104497f5c97ca5edb3bd_640_jpg.rf.f060539d697996a1a291fa0b1432acb3.txt  \n",
            "  inflating: ./butterfly-spider/butterfly-spider/train/labels/ea34b8062ff2073ed1584d05fb1d4e9fe777ead218ac104497f5c97faee8b1b8_640_jpg.rf.348484775b9047fbc325fffd04022a5d.txt  \n",
            "  inflating: ./butterfly-spider/butterfly-spider/train/labels/ea34b8062ff2073ed1584d05fb1d4e9fe777ead218ac104497f5c97faee8b1b8_640_jpg.rf.4f4d44212b0624c076fe918db3716b11.txt  \n",
            "  inflating: ./butterfly-spider/butterfly-spider/train/labels/ea34b8062ff2073ed1584d05fb1d4e9fe777ead218ac104497f5c97faee8b1b8_640_jpg.rf.86b3bc4a1edaf20c4219f6158adc8100.txt  \n",
            "  inflating: ./butterfly-spider/butterfly-spider/train/labels/ea34b80820f1003ed1584d05fb1d4e9fe777ead218ac104497f5c97faee8b1b8_640_jpg.rf.212e7de9323a302251bdb454f9875598.txt  \n",
            "  inflating: ./butterfly-spider/butterfly-spider/train/labels/ea34b80820f1003ed1584d05fb1d4e9fe777ead218ac104497f5c97faee8b1b8_640_jpg.rf.98f8234866fa12957b079e7ff8af87f4.txt  \n",
            "  inflating: ./butterfly-spider/butterfly-spider/train/labels/ea34b80820f1003ed1584d05fb1d4e9fe777ead218ac104497f5c97faee8b1b8_640_jpg.rf.e5be94c416ddb64c604ae58f06fce1de.txt  \n",
            "  inflating: ./butterfly-spider/butterfly-spider/train/labels/ea34b80820fd013ed1584d05fb1d4e9fe777ead218ac104497f5c97faee8b1b8_640_jpg.rf.8c17e142851b75598acc1b36932d5dfa.txt  \n",
            "  inflating: ./butterfly-spider/butterfly-spider/train/labels/ea34b80820fd013ed1584d05fb1d4e9fe777ead218ac104497f5c97faee8b1b8_640_jpg.rf.c6e79e94d5b9aa4d37ba2bd10ed1a9db.txt  \n",
            "  inflating: ./butterfly-spider/butterfly-spider/train/labels/ea34b80820fd013ed1584d05fb1d4e9fe777ead218ac104497f5c97faee8b1b8_640_jpg.rf.cb093797d50152debf463f875bd913b1.txt  \n",
            "  inflating: ./butterfly-spider/butterfly-spider/train/labels/ea34b8082ff1063ed1584d05fb1d4e9fe777ead218ac104497f5c97ca5ecb5b1_640_jpg.rf.3592133ffeb4074922499375c2c02e25.txt  \n",
            "  inflating: ./butterfly-spider/butterfly-spider/train/labels/ea34b8082ff1063ed1584d05fb1d4e9fe777ead218ac104497f5c97ca5ecb5b1_640_jpg.rf.4364abf433c7772d34ad33e256dec2b6.txt  \n",
            "  inflating: ./butterfly-spider/butterfly-spider/train/labels/ea34b8082ff1063ed1584d05fb1d4e9fe777ead218ac104497f5c97ca5ecb5b1_640_jpg.rf.c54aa024a2219699cb4491bfc6c02f7c.txt  \n",
            "  inflating: ./butterfly-spider/butterfly-spider/train/labels/ea34b80920f1063ed1584d05fb1d4e9fe777ead218ac104497f5c97faeebb5bb_640_jpg.rf.36512c20b66bb3f6d2676fc5ea8d06aa.txt  \n",
            "  inflating: ./butterfly-spider/butterfly-spider/train/labels/ea34b80920f1063ed1584d05fb1d4e9fe777ead218ac104497f5c97faeebb5bb_640_jpg.rf.4841e42e937536433ba2012e21c5fa81.txt  \n",
            "  inflating: ./butterfly-spider/butterfly-spider/train/labels/ea34b80920f1063ed1584d05fb1d4e9fe777ead218ac104497f5c97faeebb5bb_640_jpg.rf.4b178df8f059cab5deea0815d3a8b3f0.txt  \n",
            "  inflating: ./butterfly-spider/butterfly-spider/train/labels/ea34b80920f1063ed1584d05fb1d4e9fe777ead218ac104497f5c97faeebb5bb_640_jpg.rf.b91a22f2397c81061f4a2088ae959082.txt  \n",
            "  inflating: ./butterfly-spider/butterfly-spider/train/labels/ea34b80920f1063ed1584d05fb1d4e9fe777ead218ac104497f5c97faeebb5bb_640_jpg.rf.c981c32f1818c834749be0fb67a4de12.txt  \n",
            "  inflating: ./butterfly-spider/butterfly-spider/train/labels/ea34b80920f1063ed1584d05fb1d4e9fe777ead218ac104497f5c97faeebb5bb_640_jpg.rf.f1cb31e54865628b247e45ee99852f04.txt  \n",
            "  inflating: ./butterfly-spider/butterfly-spider/train/labels/ea34b80920f7093ed1584d05fb1d4e9fe777ead218ac104497f5c97faee8b1b8_640_jpg.rf.004d60c40809970efcef514f7746d113.txt  \n",
            "  inflating: ./butterfly-spider/butterfly-spider/train/labels/ea34b80920f7093ed1584d05fb1d4e9fe777ead218ac104497f5c97faee8b1b8_640_jpg.rf.8c4e0b1a863b021685b85e78cbb2ecf8.txt  \n",
            "  inflating: ./butterfly-spider/butterfly-spider/train/labels/ea34b80920f7093ed1584d05fb1d4e9fe777ead218ac104497f5c97faee8b1b8_640_jpg.rf.8ef55d63ab9bd686d443b131da26a10f.txt  \n",
            "  inflating: ./butterfly-spider/butterfly-spider/train/labels/ea34b80b2cfc093ed1584d05fb1d4e9fe777ead218ac104497f5c97faee8b1b8_640_jpg.rf.02703eecdaf378d77397a0eb61fdeb4b.txt  \n",
            "  inflating: ./butterfly-spider/butterfly-spider/train/labels/ea34b80b2cfc093ed1584d05fb1d4e9fe777ead218ac104497f5c97faee8b1b8_640_jpg.rf.1e3fc7d42537dfa10361e165307abf2d.txt  \n",
            "  inflating: ./butterfly-spider/butterfly-spider/train/labels/ea34b80b2cfc093ed1584d05fb1d4e9fe777ead218ac104497f5c97faee8b1b8_640_jpg.rf.728a5febf31a118a4bbbac2a0829688c.txt  \n",
            "  inflating: ./butterfly-spider/butterfly-spider/train/labels/ea34b80b2cfc093ed1584d05fb1d4e9fe777ead218ac104497f5c97faee8b1b8_640_jpg.rf.7407822301bcf2ce9bc4e84e84ac4677.txt  \n",
            "  inflating: ./butterfly-spider/butterfly-spider/train/labels/ea34b80b2cfc093ed1584d05fb1d4e9fe777ead218ac104497f5c97faee8b1b8_640_jpg.rf.8b676e2daa0a72f261918deac2d9a919.txt  \n",
            "  inflating: ./butterfly-spider/butterfly-spider/train/labels/ea34b80b2cfc093ed1584d05fb1d4e9fe777ead218ac104497f5c97faee8b1b8_640_jpg.rf.e7cc6210a0c008c8b3ba6cfb63841b65.txt  \n",
            "  inflating: ./butterfly-spider/butterfly-spider/train/labels/ea34b80c2cf2013ed1584d05fb1d4e9fe777ead218ac104497f5c97ca5edb3bd_640_jpg.rf.4ea34350d8e2f9d65ff5574ae65048b4.txt  \n",
            "  inflating: ./butterfly-spider/butterfly-spider/train/labels/ea34b80c2cf2013ed1584d05fb1d4e9fe777ead218ac104497f5c97ca5edb3bd_640_jpg.rf.9d32abc16157aaf465e8ee7936bf8a56.txt  \n",
            "  inflating: ./butterfly-spider/butterfly-spider/train/labels/ea34b80c2cf2013ed1584d05fb1d4e9fe777ead218ac104497f5c97ca5edb3bd_640_jpg.rf.dc56f54aff92c731b6f8cc8865c96c0d.txt  \n",
            "  inflating: ./butterfly-spider/butterfly-spider/train/labels/ea34b90629f3043ed1584d05fb1d4e9fe777ead218ac104497f5c97faeebb5bb_640_jpg.rf.28b46739dab0794f15a3d1001d83fe89.txt  \n",
            "  inflating: ./butterfly-spider/butterfly-spider/train/labels/ea34b90629f3043ed1584d05fb1d4e9fe777ead218ac104497f5c97faeebb5bb_640_jpg.rf.3faad2203e6a4d08b246fa8f1815c343.txt  \n",
            "  inflating: ./butterfly-spider/butterfly-spider/train/labels/ea34b90629f3043ed1584d05fb1d4e9fe777ead218ac104497f5c97faeebb5bb_640_jpg.rf.f64296f15a270a5e2e60902a42650a6e.txt  \n",
            "  inflating: ./butterfly-spider/butterfly-spider/train/labels/ea34b9092bf6063ed1584d05fb1d4e9fe777ead218ac104497f5c97faeebb5bb_640_jpg.rf.3b22ce23ae7a6314ec8f18d9db8b8c8b.txt  \n",
            "  inflating: ./butterfly-spider/butterfly-spider/train/labels/ea34b9092bf6063ed1584d05fb1d4e9fe777ead218ac104497f5c97faeebb5bb_640_jpg.rf.573d117e89ee23ee2977747f30afeede.txt  \n",
            "  inflating: ./butterfly-spider/butterfly-spider/train/labels/ea34b9092bf6063ed1584d05fb1d4e9fe777ead218ac104497f5c97faeebb5bb_640_jpg.rf.be6d2732dbc5eb32d0134ebdc5fe62c5.txt  \n",
            "  inflating: ./butterfly-spider/butterfly-spider/train/labels/ea34b90b28fd093ed1584d05fb1d4e9fe777ead218ac104497f5c97faee8b1b8_640_jpg.rf.56870613f1cd01b80e547b4fe487a69f.txt  \n",
            "  inflating: ./butterfly-spider/butterfly-spider/train/labels/ea34b90b28fd093ed1584d05fb1d4e9fe777ead218ac104497f5c97faee8b1b8_640_jpg.rf.906c806ff131e07465bae078f7eaaf41.txt  \n",
            "  inflating: ./butterfly-spider/butterfly-spider/train/labels/ea34b90b28fd093ed1584d05fb1d4e9fe777ead218ac104497f5c97faee8b1b8_640_jpg.rf.cbf8a356e2623ff98d5365889ff39fb7.txt  \n",
            "  inflating: ./butterfly-spider/butterfly-spider/train/labels/ea34b90b29f7053ed1584d05fb1d4e9fe777ead218ac104497f5c97faee8b1b8_640_jpg.rf.20a26952b46b4a4d4c2443965b961471.txt  \n",
            "  inflating: ./butterfly-spider/butterfly-spider/train/labels/ea34b90b29f7053ed1584d05fb1d4e9fe777ead218ac104497f5c97faee8b1b8_640_jpg.rf.5c09607ef3603b2e0d3c748b7089aa37.txt  \n",
            "  inflating: ./butterfly-spider/butterfly-spider/train/labels/ea34b90b29f7053ed1584d05fb1d4e9fe777ead218ac104497f5c97faee8b1b8_640_jpg.rf.760bdbc08590d744505d079e7c9b8fc5.txt  \n",
            "  inflating: ./butterfly-spider/butterfly-spider/train/labels/ea34b90b29fd073ed1584d05fb1d4e9fe777ead218ac104497f5c97faeebb5bb_640_jpg.rf.346c7ef5289976322febde4b1661cb6d.txt  \n",
            "  inflating: ./butterfly-spider/butterfly-spider/train/labels/ea34b90b29fd073ed1584d05fb1d4e9fe777ead218ac104497f5c97faeebb5bb_640_jpg.rf.95315e3b10cd7f78ed724e05f2080ff9.txt  \n",
            "  inflating: ./butterfly-spider/butterfly-spider/train/labels/ea34b90b29fd073ed1584d05fb1d4e9fe777ead218ac104497f5c97faeebb5bb_640_jpg.rf.ecc880c09b7ffbc030acd8d1f03e64b7.txt  \n",
            "  inflating: ./butterfly-spider/butterfly-spider/train/labels/ea34b90b2bf3033ed1584d05fb1d4e9fe777ead218ac104497f5c97faee8b1b8_640_jpg.rf.439f434730b6721cbca4eb49baa52393.txt  \n",
            "  inflating: ./butterfly-spider/butterfly-spider/train/labels/ea34b90b2bf3033ed1584d05fb1d4e9fe777ead218ac104497f5c97faee8b1b8_640_jpg.rf.9c0a97ef67d0aa36b06d9f5f775c681f.txt  \n",
            "  inflating: ./butterfly-spider/butterfly-spider/train/labels/ea34b90b2bf3033ed1584d05fb1d4e9fe777ead218ac104497f5c97faee8b1b8_640_jpg.rf.bc2b922566b25b97f4ee5a38c0835a7f.txt  \n",
            "  inflating: ./butterfly-spider/butterfly-spider/train/labels/ea34b90b2bf7063ed1584d05fb1d4e9fe777ead218ac104497f5c97faee9bdba_640_jpg.rf.68ee58cdd775b802465e72cf28d115af.txt  \n",
            "  inflating: ./butterfly-spider/butterfly-spider/train/labels/ea34b90b2bf7063ed1584d05fb1d4e9fe777ead218ac104497f5c97faee9bdba_640_jpg.rf.de10e9c214c12886c8a4692a8519ca93.txt  \n",
            "  inflating: ./butterfly-spider/butterfly-spider/train/labels/ea34b90b2bf7063ed1584d05fb1d4e9fe777ead218ac104497f5c97faee9bdba_640_jpg.rf.ec0c26158cc5c28dcbaf1b8a63d465e4.txt  \n",
            "  inflating: ./butterfly-spider/butterfly-spider/train/labels/ea34b90e20f1063ed1584d05fb1d4e9fe777ead218ac104497f5c97faeebb5bb_640_jpg.rf.964c566fd2da23be592c6fbd47025ec6.txt  \n",
            "  inflating: ./butterfly-spider/butterfly-spider/train/labels/ea34b90e20f1063ed1584d05fb1d4e9fe777ead218ac104497f5c97faeebb5bb_640_jpg.rf.99101c65056a0154873c96a442ffdd0f.txt  \n",
            "  inflating: ./butterfly-spider/butterfly-spider/train/labels/ea34b90e20f1063ed1584d05fb1d4e9fe777ead218ac104497f5c97faeebb5bb_640_jpg.rf.b8e6e0f0f85aee5d39b2d14901779820.txt  \n",
            "  inflating: ./butterfly-spider/butterfly-spider/train/labels/ea34b90e20f7003ed1584d05fb1d4e9fe777ead218ac104497f5c97faee9bdba_640_jpg.rf.8335a4f3b1905e60b3df422acb206faf.txt  \n",
            "  inflating: ./butterfly-spider/butterfly-spider/train/labels/ea34b90e20f7003ed1584d05fb1d4e9fe777ead218ac104497f5c97faee9bdba_640_jpg.rf.d8f38ecdb34240ca3938170adcd28c04.txt  \n",
            "  inflating: ./butterfly-spider/butterfly-spider/train/labels/ea34b90e20f7003ed1584d05fb1d4e9fe777ead218ac104497f5c97faee9bdba_640_jpg.rf.fe955b62ba5d71d2b7471d8aad1ea26d.txt  \n",
            "  inflating: ./butterfly-spider/butterfly-spider/train/labels/ea34b90e2ef0063ed1584d05fb1d4e9fe777ead218ac104497f5c97ca5edb3bd_640_jpg.rf.072807b6a794001e262f7ae72286f851.txt  \n",
            "  inflating: ./butterfly-spider/butterfly-spider/train/labels/ea34b90e2ef0063ed1584d05fb1d4e9fe777ead218ac104497f5c97ca5edb3bd_640_jpg.rf.dede9f57b773f0d88874f444bb960f57.txt  \n",
            "  inflating: ./butterfly-spider/butterfly-spider/train/labels/ea34b90e2ef0063ed1584d05fb1d4e9fe777ead218ac104497f5c97ca5edb3bd_640_jpg.rf.f9f2aa0c6bdc681cb15fa7d7a57f2966.txt  \n",
            "  inflating: ./butterfly-spider/butterfly-spider/train/labels/ea34b90e2ff3003ed1584d05fb1d4e9fe777ead218ac104497f5c97faee9bdba_640_jpg.rf.44ca5cf7570a7cfeeb922ea93a08ef9b.txt  \n",
            "  inflating: ./butterfly-spider/butterfly-spider/train/labels/ea34b90e2ff3003ed1584d05fb1d4e9fe777ead218ac104497f5c97faee9bdba_640_jpg.rf.5604ed0bbfb462670bb6328b0ba3fc05.txt  \n",
            "  inflating: ./butterfly-spider/butterfly-spider/train/labels/ea34b90e2ff3003ed1584d05fb1d4e9fe777ead218ac104497f5c97faee9bdba_640_jpg.rf.56c32501175a18a3aea06d82c8f3e575.txt  \n",
            "  inflating: ./butterfly-spider/butterfly-spider/train/labels/ea34b90e2ff3003ed1584d05fb1d4e9fe777ead218ac104497f5c97faee9bdba_640_jpg.rf.bff3efe2690b7fabb98dfb05e0d94077.txt  \n",
            "  inflating: ./butterfly-spider/butterfly-spider/train/labels/ea34b90e2ff3003ed1584d05fb1d4e9fe777ead218ac104497f5c97faee9bdba_640_jpg.rf.dfcd3f0f7e7756255164dfa9c40eadcd.txt  \n",
            "  inflating: ./butterfly-spider/butterfly-spider/train/labels/ea34b90e2ff3003ed1584d05fb1d4e9fe777ead218ac104497f5c97faee9bdba_640_jpg.rf.efa59b8a8247067174d1f7a7f9126064.txt  \n",
            "  inflating: ./butterfly-spider/butterfly-spider/train/labels/ea35b00a29f7023ed1584d05fb1d4e9fe777ead218ac104497f5c97ca5ecb5b1_640_jpg.rf.04617f5a87df4fd800ade245c81ca373.txt  \n",
            "  inflating: ./butterfly-spider/butterfly-spider/train/labels/ea35b00a29f7023ed1584d05fb1d4e9fe777ead218ac104497f5c97ca5ecb5b1_640_jpg.rf.9f299c8fbceeadc2df813a532a6d49b6.txt  \n",
            "  inflating: ./butterfly-spider/butterfly-spider/train/labels/ea35b00a29f7023ed1584d05fb1d4e9fe777ead218ac104497f5c97ca5ecb5b1_640_jpg.rf.ce23b461c9921ca73c6ca0706c38f62d.txt  \n",
            "  inflating: ./butterfly-spider/butterfly-spider/train/labels/ea35b00d2cf7043ed1584d05fb1d4e9fe777ead218ac104497f5c97ca5edb3bd_640_jpg.rf.1648be2fdf19c50ae5b2aa228843779a.txt  \n",
            "  inflating: ./butterfly-spider/butterfly-spider/train/labels/ea35b00d2cf7043ed1584d05fb1d4e9fe777ead218ac104497f5c97ca5edb3bd_640_jpg.rf.4dac12d6db473f3a4511dc0a99076301.txt  \n",
            "  inflating: ./butterfly-spider/butterfly-spider/train/labels/ea35b00d2cf7043ed1584d05fb1d4e9fe777ead218ac104497f5c97ca5edb3bd_640_jpg.rf.818b60a8067e98f771e73902c3fcf36a.txt  \n",
            "  inflating: ./butterfly-spider/butterfly-spider/train/labels/ea35b10b2cf01c22d2524518b7444f92e37fe5d404b0144390f8c47ba7ebb0_640_jpg.rf.172f822ce517aa799123fc62d81fc898.txt  \n",
            "  inflating: ./butterfly-spider/butterfly-spider/train/labels/ea35b10b2cf01c22d2524518b7444f92e37fe5d404b0144390f8c47ba7ebb0_640_jpg.rf.2f71409e5757a62022f61a1ca1498f2a.txt  \n",
            "  inflating: ./butterfly-spider/butterfly-spider/train/labels/ea35b10b2cf01c22d2524518b7444f92e37fe5d404b0144390f8c47ba7ebb0_640_jpg.rf.bd08bdffcb60c9701222ba8c8dd33d0a.txt  \n",
            "  inflating: ./butterfly-spider/butterfly-spider/train/labels/ea35b10b2df61c22d2524518b7444f92e37fe5d404b0144390f8c47ba6ebb4_640_jpg.rf.0edb86833f58edd97f20e3c8af135672.txt  \n",
            "  inflating: ./butterfly-spider/butterfly-spider/train/labels/ea35b10b2df61c22d2524518b7444f92e37fe5d404b0144390f8c47ba6ebb4_640_jpg.rf.767ce510f47a5ea15b101dfc0e145955.txt  \n",
            "  inflating: ./butterfly-spider/butterfly-spider/train/labels/ea35b10b2df61c22d2524518b7444f92e37fe5d404b0144390f8c47ba6ebb4_640_jpg.rf.f1dcbefb97ad4c3c9872ceb75b4fa1b6.txt  \n",
            "  inflating: ./butterfly-spider/butterfly-spider/train/labels/ea35b2062bf5033ed1584d05fb1d4e9fe777ead218ac104497f5c97faeebb5bb_640_jpg.rf.269fb370d0d43daf7206094ae55f8b77.txt  \n",
            "  inflating: ./butterfly-spider/butterfly-spider/train/labels/ea35b2062bf5033ed1584d05fb1d4e9fe777ead218ac104497f5c97faeebb5bb_640_jpg.rf.2e7195e59316fc1b2956bc82a51bdde4.txt  \n",
            "  inflating: ./butterfly-spider/butterfly-spider/train/labels/ea35b2062bf5033ed1584d05fb1d4e9fe777ead218ac104497f5c97faeebb5bb_640_jpg.rf.30d6967d091f0327b57768cd2f71a65c.txt  \n",
            "  inflating: ./butterfly-spider/butterfly-spider/train/labels/ea35b2062bf5033ed1584d05fb1d4e9fe777ead218ac104497f5c97faeebb5bb_640_jpg.rf.892cf3d9eaeea218b4239c97b435c3c6.txt  \n",
            "  inflating: ./butterfly-spider/butterfly-spider/train/labels/ea35b2062bf5033ed1584d05fb1d4e9fe777ead218ac104497f5c97faeebb5bb_640_jpg.rf.a3f9335b782a464ab5e1d106571df7eb.txt  \n",
            "  inflating: ./butterfly-spider/butterfly-spider/train/labels/ea35b2062bf5033ed1584d05fb1d4e9fe777ead218ac104497f5c97faeebb5bb_640_jpg.rf.a81b98bbcf077e39be8df9362af4adef.txt  \n",
            "  inflating: ./butterfly-spider/butterfly-spider/train/labels/ea35b20929f4023ed1584d05fb1d4e9fe777ead218ac104497f5c97ca5ecb5b1_640_jpg.rf.2dce022cfd80d2c58ce86b5244245a41.txt  \n",
            "  inflating: ./butterfly-spider/butterfly-spider/train/labels/ea35b20929f4023ed1584d05fb1d4e9fe777ead218ac104497f5c97ca5ecb5b1_640_jpg.rf.32b8a44623890933ed3e49ccb4e2bce5.txt  \n",
            "  inflating: ./butterfly-spider/butterfly-spider/train/labels/ea35b20929f4023ed1584d05fb1d4e9fe777ead218ac104497f5c97ca5ecb5b1_640_jpg.rf.7b04e4f37c4ff26fd0f589d4b8226aec.txt  \n",
            "  inflating: ./butterfly-spider/butterfly-spider/train/labels/ea35b30729f2073ed1584d05fb1d4e9fe777ead218ac104497f5c97faeebb5bb_640_jpg.rf.1cd5a3a21ea49f5522cc21afc816c1dd.txt  \n",
            "  inflating: ./butterfly-spider/butterfly-spider/train/labels/ea35b30729f2073ed1584d05fb1d4e9fe777ead218ac104497f5c97faeebb5bb_640_jpg.rf.24ea212b565f88a5dfd0ab17e3ea939d.txt  \n",
            "  inflating: ./butterfly-spider/butterfly-spider/train/labels/ea35b30729f2073ed1584d05fb1d4e9fe777ead218ac104497f5c97faeebb5bb_640_jpg.rf.5a625824ad0062ab541f41a854876627.txt  \n",
            "  inflating: ./butterfly-spider/butterfly-spider/train/labels/ea35b30729f2073ed1584d05fb1d4e9fe777ead218ac104497f5c97faeebb5bb_640_jpg.rf.7c76649017679c79e73a6499d48b7d70.txt  \n",
            "  inflating: ./butterfly-spider/butterfly-spider/train/labels/ea35b30729f2073ed1584d05fb1d4e9fe777ead218ac104497f5c97faeebb5bb_640_jpg.rf.da5397177f25e94acb2a40dcfb820fe2.txt  \n",
            "  inflating: ./butterfly-spider/butterfly-spider/train/labels/ea35b30729f2073ed1584d05fb1d4e9fe777ead218ac104497f5c97faeebb5bb_640_jpg.rf.e298a120cc89edf74761d5b0bbf86389.txt  \n",
            "  inflating: ./butterfly-spider/butterfly-spider/train/labels/ea35b4072df0083ed1584d05fb1d4e9fe777ead218ac104497f5c97ca5edb3bd_640_jpg.rf.396110ce023d2d8a8707d2879727c57d.txt  \n",
            "  inflating: ./butterfly-spider/butterfly-spider/train/labels/ea35b4072df0083ed1584d05fb1d4e9fe777ead218ac104497f5c97ca5edb3bd_640_jpg.rf.ee5bdb8f82c18df007a6950343e681a8.txt  \n",
            "  inflating: ./butterfly-spider/butterfly-spider/train/labels/ea35b4072df0083ed1584d05fb1d4e9fe777ead218ac104497f5c97ca5edb3bd_640_jpg.rf.f244a51f19e79c764a5b3447a0073f42.txt  \n",
            "  inflating: ./butterfly-spider/butterfly-spider/train/labels/ea35b40a2af4083ed1584d05fb1d4e9fe777ead218ac104497f5c97ca5ecb5b1_640_jpg.rf.1e19c89cba1b43d36e81e7315c257f9a.txt  \n",
            "  inflating: ./butterfly-spider/butterfly-spider/train/labels/ea35b40a2af4083ed1584d05fb1d4e9fe777ead218ac104497f5c97ca5ecb5b1_640_jpg.rf.2e89ca486963fcaf1ce21d58909e8bb7.txt  \n",
            "  inflating: ./butterfly-spider/butterfly-spider/train/labels/ea35b40a2af4083ed1584d05fb1d4e9fe777ead218ac104497f5c97ca5ecb5b1_640_jpg.rf.f8a275dcc42a5c173e7b4f536ae66073.txt  \n",
            "  inflating: ./butterfly-spider/butterfly-spider/train/labels/ea35b40a2af5073ed1584d05fb1d4e9fe777ead218ac104497f5c97ca5edb3bd_640_jpg.rf.60304a8ed2fb7ec6460b90066fe7051c.txt  \n",
            "  inflating: ./butterfly-spider/butterfly-spider/train/labels/ea35b40a2af5073ed1584d05fb1d4e9fe777ead218ac104497f5c97ca5edb3bd_640_jpg.rf.6ee77fe475e1ede110eaba36f1fe5604.txt  \n",
            "  inflating: ./butterfly-spider/butterfly-spider/train/labels/ea35b40a2af5073ed1584d05fb1d4e9fe777ead218ac104497f5c97ca5edb3bd_640_jpg.rf.a2ee727bee14aabd11032f79a57563e2.txt  \n",
            "  inflating: ./butterfly-spider/butterfly-spider/train/labels/ea35b40a2af6063ed1584d05fb1d4e9fe777ead218ac104497f5c97ca5ecb5b1_640_jpg.rf.249274a798102f44ae4318b0188187ec.txt  \n",
            "  inflating: ./butterfly-spider/butterfly-spider/train/labels/ea35b40a2af6063ed1584d05fb1d4e9fe777ead218ac104497f5c97ca5ecb5b1_640_jpg.rf.303c6147e1ea34070d9eda115053a216.txt  \n",
            "  inflating: ./butterfly-spider/butterfly-spider/train/labels/ea35b40a2af6063ed1584d05fb1d4e9fe777ead218ac104497f5c97ca5ecb5b1_640_jpg.rf.36e3165814d6df39079a7cac1229bdf7.txt  \n",
            "  inflating: ./butterfly-spider/butterfly-spider/train/labels/ea35b40b2ff7073ed1584d05fb1d4e9fe777ead218ac104497f5c97faee9bdba_640_jpg.rf.90ea9d33b61b8e4f49d45c6160832ccb.txt  \n",
            "  inflating: ./butterfly-spider/butterfly-spider/train/labels/ea35b40b2ff7073ed1584d05fb1d4e9fe777ead218ac104497f5c97faee9bdba_640_jpg.rf.b470a7990e7e76a906fcfc95fe835eb9.txt  \n",
            "  inflating: ./butterfly-spider/butterfly-spider/train/labels/ea35b40b2ff7073ed1584d05fb1d4e9fe777ead218ac104497f5c97faee9bdba_640_jpg.rf.ed161101fbaf58fcf86103c6f926ea36.txt  \n",
            "  inflating: ./butterfly-spider/butterfly-spider/train/labels/ea35b40c2cf0013ed1584d05fb1d4e9fe777ead218ac104497f5c97ca5ecb5b1_640_jpg.rf.10531680186b0562df732673dcb915b3.txt  \n",
            "  inflating: ./butterfly-spider/butterfly-spider/train/labels/ea35b40c2cf0013ed1584d05fb1d4e9fe777ead218ac104497f5c97ca5ecb5b1_640_jpg.rf.8e5bac9133acab5536296242a55bf565.txt  \n",
            "  inflating: ./butterfly-spider/butterfly-spider/train/labels/ea35b40c2cf0013ed1584d05fb1d4e9fe777ead218ac104497f5c97ca5ecb5b1_640_jpg.rf.b2b3f339d53934c6c31baebfbb05ff56.txt  \n",
            "  inflating: ./butterfly-spider/butterfly-spider/train/labels/ea35b40c2df0043ed1584d05fb1d4e9fe777ead218ac104497f5c97faee8b1b8_640_jpg.rf.b6b3e947061610245a90b0135c3380e2.txt  \n",
            "  inflating: ./butterfly-spider/butterfly-spider/train/labels/ea35b40c2df0043ed1584d05fb1d4e9fe777ead218ac104497f5c97faee8b1b8_640_jpg.rf.e5b72d7da5d5b3073ee67b4176db4ee2.txt  \n",
            "  inflating: ./butterfly-spider/butterfly-spider/train/labels/ea35b40c2df0043ed1584d05fb1d4e9fe777ead218ac104497f5c97faee8b1b8_640_jpg.rf.ec58bec8ab37fa9747f6775a807a6a0a.txt  \n",
            "  inflating: ./butterfly-spider/butterfly-spider/train/labels/ea35b40e2df4033ed1584d05fb1d4e9fe777ead218ac104497f5c97ca5ecb5b1_640_jpg.rf.7c90603e28811beeb834569993f45549.txt  \n",
            "  inflating: ./butterfly-spider/butterfly-spider/train/labels/ea35b40e2df4033ed1584d05fb1d4e9fe777ead218ac104497f5c97ca5ecb5b1_640_jpg.rf.b824e59bff4e53e7a831efd3bd3e991d.txt  \n",
            "  inflating: ./butterfly-spider/butterfly-spider/train/labels/ea35b40e2df4033ed1584d05fb1d4e9fe777ead218ac104497f5c97ca5ecb5b1_640_jpg.rf.b995d51a001c5622d345396eda060d53.txt  \n",
            "  inflating: ./butterfly-spider/butterfly-spider/train/labels/ea35b5082afd083ed1584d05fb1d4e9fe777ead218ac104497f5c97ca5edb3bd_640_jpg.rf.2799b22f777c129cdc24155c237e0ee8.txt  \n",
            "  inflating: ./butterfly-spider/butterfly-spider/train/labels/ea35b5082afd083ed1584d05fb1d4e9fe777ead218ac104497f5c97ca5edb3bd_640_jpg.rf.5880ce68409e0447dceeb75f87c21d39.txt  \n",
            "  inflating: ./butterfly-spider/butterfly-spider/train/labels/ea35b5082afd083ed1584d05fb1d4e9fe777ead218ac104497f5c97ca5edb3bd_640_jpg.rf.caf2d5e3c46459b45652f940166d62db.txt  \n",
            "  inflating: ./butterfly-spider/butterfly-spider/train/labels/ea35b50b29f6003ed1584d05fb1d4e9fe777ead218ac104497f5c97faee9bdba_640_png.rf.37fffe431e49fcddab6479ced11ba986.txt  \n",
            "  inflating: ./butterfly-spider/butterfly-spider/train/labels/ea35b50b29f6003ed1584d05fb1d4e9fe777ead218ac104497f5c97faee9bdba_640_png.rf.bbcac02c176c7f7d2afde3798c12c4b8.txt  \n",
            "  inflating: ./butterfly-spider/butterfly-spider/train/labels/ea35b50b29f6003ed1584d05fb1d4e9fe777ead218ac104497f5c97faee9bdba_640_png.rf.fafd6b83f711583bc5a28c40f6ecfeae.txt  \n",
            "  inflating: ./butterfly-spider/butterfly-spider/train/labels/ea35b50c2ffd013ed1584d05fb1d4e9fe777ead218ac104497f5c97faeebb5bb_640_jpg.rf.16ca290fa4f7fbb8fe3c21cf09f4a01c.txt  \n",
            "  inflating: ./butterfly-spider/butterfly-spider/train/labels/ea35b50c2ffd013ed1584d05fb1d4e9fe777ead218ac104497f5c97faeebb5bb_640_jpg.rf.2fa9eaba9bdcaaadb29f3f26b3edcb2f.txt  \n",
            "  inflating: ./butterfly-spider/butterfly-spider/train/labels/ea35b50c2ffd013ed1584d05fb1d4e9fe777ead218ac104497f5c97faeebb5bb_640_jpg.rf.3d3a0ef9558fc205e8d705adb44d18fc.txt  \n",
            "  inflating: ./butterfly-spider/butterfly-spider/train/labels/ea35b50d2efd063ed1584d05fb1d4e9fe777ead218ac104497f5c97ca5ecb5b1_640_jpg.rf.1d83a361ef2c685a957d8c38988fb872.txt  \n",
            "  inflating: ./butterfly-spider/butterfly-spider/train/labels/ea35b50d2efd063ed1584d05fb1d4e9fe777ead218ac104497f5c97ca5ecb5b1_640_jpg.rf.1fe9a618b36d9507052efe7ea9e85616.txt  \n",
            "  inflating: ./butterfly-spider/butterfly-spider/train/labels/ea35b50d2efd063ed1584d05fb1d4e9fe777ead218ac104497f5c97ca5ecb5b1_640_jpg.rf.8973fe995f1551704257cec96e14f98e.txt  \n",
            "  inflating: ./butterfly-spider/butterfly-spider/train/labels/ea35b50e2bf6033ed1584d05fb1d4e9fe777ead218ac104497f5c97faee8b1b8_640_jpg.rf.56ecb89f5b6820290f970d70a243ccea.txt  \n",
            "  inflating: ./butterfly-spider/butterfly-spider/train/labels/ea35b50e2bf6033ed1584d05fb1d4e9fe777ead218ac104497f5c97faee8b1b8_640_jpg.rf.9991b6ced3b7fdaa0684446b19f92030.txt  \n",
            "  inflating: ./butterfly-spider/butterfly-spider/train/labels/ea35b50e2bf6033ed1584d05fb1d4e9fe777ead218ac104497f5c97faee8b1b8_640_jpg.rf.c2595eda0334c091573d9c76ba02830e.txt  \n",
            "  inflating: ./butterfly-spider/butterfly-spider/train/labels/ea35b6062df4023ed1584d05fb1d4e9fe777ead218ac104497f5c97ca5edb3bd_640_jpg.rf.6589fe04fd004c2341a13b212b856ca3.txt  \n",
            "  inflating: ./butterfly-spider/butterfly-spider/train/labels/ea35b6062df4023ed1584d05fb1d4e9fe777ead218ac104497f5c97ca5edb3bd_640_jpg.rf.7c61b34f47c414179a07839b50df371a.txt  \n",
            "  inflating: ./butterfly-spider/butterfly-spider/train/labels/ea35b6062df4023ed1584d05fb1d4e9fe777ead218ac104497f5c97ca5edb3bd_640_jpg.rf.9c8b451759a970e3e295899014574f58.txt  \n",
            "  inflating: ./butterfly-spider/butterfly-spider/train/labels/ea35b60b20f6053ed1584d05fb1d4e9fe777ead218ac104497f5c97ca5edb3bd_640_jpg.rf.8380ae628ef368e321edaa0d36d240b3.txt  \n",
            "  inflating: ./butterfly-spider/butterfly-spider/train/labels/ea35b60b20f6053ed1584d05fb1d4e9fe777ead218ac104497f5c97ca5edb3bd_640_jpg.rf.bab4b72d2677dcb6cc257a4a1e6f4118.txt  \n",
            "  inflating: ./butterfly-spider/butterfly-spider/train/labels/ea35b60b20f6053ed1584d05fb1d4e9fe777ead218ac104497f5c97ca5edb3bd_640_jpg.rf.f68a8a5f9490395b5408846223d21584.txt  \n",
            "  inflating: ./butterfly-spider/butterfly-spider/train/labels/ea35b60c21f4073ed1584d05fb1d4e9fe777ead218ac104497f5c97ca5ecb5b1_640_jpg.rf.9a74701c2b4b23fcd55fff31cca5ac02.txt  \n",
            "  inflating: ./butterfly-spider/butterfly-spider/train/labels/ea35b60c21f4073ed1584d05fb1d4e9fe777ead218ac104497f5c97ca5ecb5b1_640_jpg.rf.b7f9f000fa001b49c210e22876b87d7e.txt  \n",
            "  inflating: ./butterfly-spider/butterfly-spider/train/labels/ea35b60c21f4073ed1584d05fb1d4e9fe777ead218ac104497f5c97ca5ecb5b1_640_jpg.rf.f976e0d470e622a1f39a60f04f096e8b.txt  \n",
            "  inflating: ./butterfly-spider/butterfly-spider/train/labels/ea35b60d20f3003ed1584d05fb1d4e9fe777ead218ac104497f5c97ca5edb3bd_640_jpg.rf.7af51ba5e031acb1ae21ce250eb8b567.txt  \n",
            "  inflating: ./butterfly-spider/butterfly-spider/train/labels/ea35b60d20f3003ed1584d05fb1d4e9fe777ead218ac104497f5c97ca5edb3bd_640_jpg.rf.92742066542e88d27310ac3b53c717ad.txt  \n",
            "  inflating: ./butterfly-spider/butterfly-spider/train/labels/ea35b60d20f3003ed1584d05fb1d4e9fe777ead218ac104497f5c97ca5edb3bd_640_jpg.rf.9c3eb6309a4173b1561ea59bc99aea2c.txt  \n",
            "  inflating: ./butterfly-spider/butterfly-spider/train/labels/ea35b60d20f3013ed1584d05fb1d4e9fe777ead218ac104497f5c97ca5edb3bd_640_jpg.rf.26255756702663be6f612b3750317cff.txt  \n",
            "  inflating: ./butterfly-spider/butterfly-spider/train/labels/ea35b60d20f3013ed1584d05fb1d4e9fe777ead218ac104497f5c97ca5edb3bd_640_jpg.rf.84ca310a36a594c9411fe9e6fd6fafdd.txt  \n",
            "  inflating: ./butterfly-spider/butterfly-spider/train/labels/ea35b60d20f3013ed1584d05fb1d4e9fe777ead218ac104497f5c97ca5edb3bd_640_jpg.rf.88f9d2603a3a779a44624b7b08d35f81.txt  \n",
            "  inflating: ./butterfly-spider/butterfly-spider/train/labels/ea35b60d29f7093ed1584d05fb1d4e9fe777ead218ac104497f5c97ca5ecb5b1_640_jpg.rf.55fd0a6408ab6ca0ed4a8f620ce3ddd1.txt  \n",
            "  inflating: ./butterfly-spider/butterfly-spider/train/labels/ea35b60d29f7093ed1584d05fb1d4e9fe777ead218ac104497f5c97ca5ecb5b1_640_jpg.rf.57111388de8abddb10a8e32dd55aad77.txt  \n",
            "  inflating: ./butterfly-spider/butterfly-spider/train/labels/ea35b60d29f7093ed1584d05fb1d4e9fe777ead218ac104497f5c97ca5ecb5b1_640_jpg.rf.9602941eb532647a285b030449ac2020.txt  \n",
            "  inflating: ./butterfly-spider/butterfly-spider/train/labels/ea35b7072bf3003ed1584d05fb1d4e9fe777ead218ac104497f5c97ca5ecb5b1_640_jpg.rf.1e739b729a343d0cd8324f1050880204.txt  \n",
            "  inflating: ./butterfly-spider/butterfly-spider/train/labels/ea35b7072bf3003ed1584d05fb1d4e9fe777ead218ac104497f5c97ca5ecb5b1_640_jpg.rf.424307aeeafadd39d4575b850bc2ef29.txt  \n",
            "  inflating: ./butterfly-spider/butterfly-spider/train/labels/ea35b7072bf3003ed1584d05fb1d4e9fe777ead218ac104497f5c97ca5ecb5b1_640_jpg.rf.88d936cc79201ba00002d80af50fe2c2.txt  \n",
            "  inflating: ./butterfly-spider/butterfly-spider/train/labels/ea35b7072bf5043ed1584d05fb1d4e9fe777ead218ac104497f5c97ca5ecb5b1_640_jpg.rf.27fb31ace577580b8b5e481505b7d454.txt  \n",
            "  inflating: ./butterfly-spider/butterfly-spider/train/labels/ea35b7072bf5043ed1584d05fb1d4e9fe777ead218ac104497f5c97ca5ecb5b1_640_jpg.rf.a47882cd5fcf245c43ed842feb2e44cf.txt  \n",
            "  inflating: ./butterfly-spider/butterfly-spider/train/labels/ea35b7082bf3043ed1584d05fb1d4e9fe777ead218ac104497f5c97ca5edb3bd_640_jpg.rf.19358663c8baa1259e0e8d03ca54d1af.txt  \n",
            "  inflating: ./butterfly-spider/butterfly-spider/train/labels/ea35b7082bf3043ed1584d05fb1d4e9fe777ead218ac104497f5c97ca5edb3bd_640_jpg.rf.6d312c08bd39e282481d1a8de7e81240.txt  \n",
            "  inflating: ./butterfly-spider/butterfly-spider/train/labels/ea35b7082bf3043ed1584d05fb1d4e9fe777ead218ac104497f5c97ca5edb3bd_640_jpg.rf.d26f6e6b83459516fa1be90a77457f3a.txt  \n",
            "  inflating: ./butterfly-spider/butterfly-spider/train/labels/ea35b7082bfc013ed1584d05fb1d4e9fe777ead218ac104497f5c97ca5ecb5b1_640_jpg.rf.0f3a361175c6189fc53e179e5e026449.txt  \n",
            "  inflating: ./butterfly-spider/butterfly-spider/train/labels/ea35b7082bfc013ed1584d05fb1d4e9fe777ead218ac104497f5c97ca5ecb5b1_640_jpg.rf.13586cec3c481c16cbadda7117311b9a.txt  \n",
            "  inflating: ./butterfly-spider/butterfly-spider/train/labels/ea35b7082bfc013ed1584d05fb1d4e9fe777ead218ac104497f5c97ca5ecb5b1_640_jpg.rf.f74efe210a43d8d7031ceea4854aad87.txt  \n",
            "  inflating: ./butterfly-spider/butterfly-spider/train/labels/ea35b7082efd063ed1584d05fb1d4e9fe777ead218ac104497f5c97faeebb5bb_640_jpg.rf.691def4ce47045b9cd53a199949a1996.txt  \n",
            "  inflating: ./butterfly-spider/butterfly-spider/train/labels/ea35b7082efd063ed1584d05fb1d4e9fe777ead218ac104497f5c97faeebb5bb_640_jpg.rf.a5bd9e6071b2b3cc095fbb931c1a50cc.txt  \n",
            "  inflating: ./butterfly-spider/butterfly-spider/train/labels/ea35b7082efd063ed1584d05fb1d4e9fe777ead218ac104497f5c97faeebb5bb_640_jpg.rf.c20cf499529036d447c209773ed4c6a8.txt  \n",
            "  inflating: ./butterfly-spider/butterfly-spider/train/labels/ea35b70c2af2043ed1584d05fb1d4e9fe777ead218ac104497f5c97ca5ecb5b1_640_jpg.rf.64b0f7aed299745a8f0f998e8ce2614d.txt  \n",
            "  inflating: ./butterfly-spider/butterfly-spider/train/labels/ea35b70c2af2043ed1584d05fb1d4e9fe777ead218ac104497f5c97ca5ecb5b1_640_jpg.rf.7bc26eec3e1b250de6342452f88c33c3.txt  \n",
            "  inflating: ./butterfly-spider/butterfly-spider/train/labels/ea35b70c2af2043ed1584d05fb1d4e9fe777ead218ac104497f5c97ca5ecb5b1_640_jpg.rf.d0d6f87007423983bad5e0a467f03d1e.txt  \n",
            "  inflating: ./butterfly-spider/butterfly-spider/train/labels/ea35b70c2af6053ed1584d05fb1d4e9fe777ead218ac104497f5c97ca5ecb5b1_640_jpg.rf.1721f6e729fdb1c5f49305180280772a.txt  \n",
            "  inflating: ./butterfly-spider/butterfly-spider/train/labels/ea35b70c2af6053ed1584d05fb1d4e9fe777ead218ac104497f5c97ca5ecb5b1_640_jpg.rf.b4b7ca345b9a8b89b0440dc6de822c83.txt  \n",
            "  inflating: ./butterfly-spider/butterfly-spider/train/labels/ea35b70c2af6053ed1584d05fb1d4e9fe777ead218ac104497f5c97ca5ecb5b1_640_jpg.rf.e176cdeffdffde11f395873dfaecf589.txt  \n",
            "  inflating: ./butterfly-spider/butterfly-spider/train/labels/ea35b70c2cf1093ed1584d05fb1d4e9fe777ead218ac104497f5c97ca5edb3bd_640_jpg.rf.248d83e4d6f48a342372443521d9506d.txt  \n",
            "  inflating: ./butterfly-spider/butterfly-spider/train/labels/ea35b70c2cf1093ed1584d05fb1d4e9fe777ead218ac104497f5c97ca5edb3bd_640_jpg.rf.5861a037f40b9e180552232be1939932.txt  \n",
            "  inflating: ./butterfly-spider/butterfly-spider/train/labels/ea35b70c2cf1093ed1584d05fb1d4e9fe777ead218ac104497f5c97ca5edb3bd_640_jpg.rf.ee3855995d58f488879db5db8096d83b.txt  \n",
            "  inflating: ./butterfly-spider/butterfly-spider/train/labels/ea35b70f2bf3003ed1584d05fb1d4e9fe777ead218ac104497f5c97ca5ecb5b1_640_jpg.rf.5cc5e71b9b2f01538fceae60a4c5e222.txt  \n",
            "  inflating: ./butterfly-spider/butterfly-spider/train/labels/ea35b70f2bf3003ed1584d05fb1d4e9fe777ead218ac104497f5c97ca5ecb5b1_640_jpg.rf.e0916f4f6d28ef055d6a552894f58bed.txt  \n",
            "  inflating: ./butterfly-spider/butterfly-spider/train/labels/ea35b70f2bf3003ed1584d05fb1d4e9fe777ead218ac104497f5c97ca5ecb5b1_640_jpg.rf.f7929621dd782eb717f73d40488c0b8e.txt  \n",
            "  inflating: ./butterfly-spider/butterfly-spider/train/labels/ea35b80a2ef1043ed1584d05fb1d4e9fe777ead218ac104497f5c97faeebb5bb_640_jpg.rf.24d1c974c94519a5ab9db25a50b2e7b8.txt  \n",
            "  inflating: ./butterfly-spider/butterfly-spider/train/labels/ea35b80a2ef1043ed1584d05fb1d4e9fe777ead218ac104497f5c97faeebb5bb_640_jpg.rf.e6cc365b251f0cac8302273bb5816197.txt  \n",
            "  inflating: ./butterfly-spider/butterfly-spider/train/labels/ea35b80a2ef1043ed1584d05fb1d4e9fe777ead218ac104497f5c97faeebb5bb_640_jpg.rf.fc69de7c4f38db36fe5e48a947603f36.txt  \n",
            "  inflating: ./butterfly-spider/butterfly-spider/train/labels/ea36b0072ef6053ed1584d05fb1d4e9fe777ead218ac104497f5c97faee8b1b8_640_jpg.rf.78a475d4e87c384da70d1b1e2557d470.txt  \n",
            "  inflating: ./butterfly-spider/butterfly-spider/train/labels/ea36b0072ef6053ed1584d05fb1d4e9fe777ead218ac104497f5c97faee8b1b8_640_jpg.rf.c1aa58b984431051694b2f69f262e5a4.txt  \n",
            "  inflating: ./butterfly-spider/butterfly-spider/train/labels/ea36b0072ef6053ed1584d05fb1d4e9fe777ead218ac104497f5c97faee8b1b8_640_jpg.rf.dbd95f67f73b8941a9baa140b2f79b20.txt  \n",
            "  inflating: ./butterfly-spider/butterfly-spider/train/labels/ea36b00d29f4033ed1584d05fb1d4e9fe777ead218ac104497f5c97faee8b1b8_640_jpg.rf.3fafdebee58ee3c000c7128c21be30d5.txt  \n",
            "  inflating: ./butterfly-spider/butterfly-spider/train/labels/ea36b00d29f4033ed1584d05fb1d4e9fe777ead218ac104497f5c97faee8b1b8_640_jpg.rf.a1d14627ec3d22c26a0e3bcf4e1a4085.txt  \n",
            "  inflating: ./butterfly-spider/butterfly-spider/train/labels/ea36b00d29f4033ed1584d05fb1d4e9fe777ead218ac104497f5c97faee8b1b8_640_jpg.rf.c275f7d8b7e1c17bc5df1ff7899d6093.txt  \n",
            "  inflating: ./butterfly-spider/butterfly-spider/train/labels/ea36b00d2af2013ed1584d05fb1d4e9fe777ead218ac104497f5c97faee8b1b8_640_jpg.rf.d5e59bb0cefe44b991c8e39f1d731b22.txt  \n",
            "  inflating: ./butterfly-spider/butterfly-spider/train/labels/ea36b00d2af2013ed1584d05fb1d4e9fe777ead218ac104497f5c97faee8b1b8_640_jpg.rf.de42406996fd6c81e82eb876c1a0c2fd.txt  \n",
            "  inflating: ./butterfly-spider/butterfly-spider/train/labels/ea36b00d2af2013ed1584d05fb1d4e9fe777ead218ac104497f5c97faee8b1b8_640_jpg.rf.f372c0b6a80d019ec5667d14125c3b3e.txt  \n",
            "  inflating: ./butterfly-spider/butterfly-spider/train/labels/ea36b00d2bf4003ed1584d05fb1d4e9fe777ead218ac104497f5c97faee8b1b8_640_jpg.rf.05b668e25826408603c7f944575d19db.txt  \n",
            "  inflating: ./butterfly-spider/butterfly-spider/train/labels/ea36b00d2bf4003ed1584d05fb1d4e9fe777ead218ac104497f5c97faee8b1b8_640_jpg.rf.35e5fc1b25eb9b6f2cc96344603f4006.txt  \n",
            "  inflating: ./butterfly-spider/butterfly-spider/train/labels/ea36b00d2bf4003ed1584d05fb1d4e9fe777ead218ac104497f5c97faee8b1b8_640_jpg.rf.43a30abde99279eea7a81fc48cee9475.txt  \n",
            "  inflating: ./butterfly-spider/butterfly-spider/train/labels/ea36b00d2bf4003ed1584d05fb1d4e9fe777ead218ac104497f5c97faee8b1b8_640_jpg.rf.7de12d2fcee53602c4e1e276ea950f7e.txt  \n",
            "  inflating: ./butterfly-spider/butterfly-spider/train/labels/ea36b00d2bf4003ed1584d05fb1d4e9fe777ead218ac104497f5c97faee8b1b8_640_jpg.rf.838ee3c0f98b7bdf7b75558445e44e68.txt  \n",
            "  inflating: ./butterfly-spider/butterfly-spider/train/labels/ea36b00d2bf4003ed1584d05fb1d4e9fe777ead218ac104497f5c97faee8b1b8_640_jpg.rf.9ad8be9d575c500c62c631f888a6f9f5.txt  \n",
            "  inflating: ./butterfly-spider/butterfly-spider/train/labels/ea36b00d2bf5083ed1584d05fb1d4e9fe777ead218ac104497f5c97faeebb5bb_640_jpg.rf.1335aa728984f8940c72b93c10f04044.txt  \n",
            "  inflating: ./butterfly-spider/butterfly-spider/train/labels/ea36b00d2bf5083ed1584d05fb1d4e9fe777ead218ac104497f5c97faeebb5bb_640_jpg.rf.15fd259d03b2cea2c4198ab42c834d31.txt  \n",
            "  inflating: ./butterfly-spider/butterfly-spider/train/labels/ea36b00d2bf5083ed1584d05fb1d4e9fe777ead218ac104497f5c97faeebb5bb_640_jpg.rf.24dd8a3dcf7a98d65d4bb76e5bb7baf4.txt  \n",
            "  inflating: ./butterfly-spider/butterfly-spider/train/labels/ea36b00d2bf5083ed1584d05fb1d4e9fe777ead218ac104497f5c97faeebb5bb_640_jpg.rf.3db1e0a246f1d3fbb33d19baadde62c3.txt  \n",
            "  inflating: ./butterfly-spider/butterfly-spider/train/labels/ea36b00d2bf5083ed1584d05fb1d4e9fe777ead218ac104497f5c97faeebb5bb_640_jpg.rf.a2d1e9a120c8f3fce6dac6c237e48bab.txt  \n",
            "  inflating: ./butterfly-spider/butterfly-spider/train/labels/ea36b00d2bf5083ed1584d05fb1d4e9fe777ead218ac104497f5c97faeebb5bb_640_jpg.rf.fc4ddf0624be8395b16ca594fcf5a253.txt  \n",
            "  inflating: ./butterfly-spider/butterfly-spider/train/labels/ea36b00d2bf6023ed1584d05fb1d4e9fe777ead218ac104497f5c97faee8b1b8_640_jpg.rf.5f68175db6c90d2b5b1baaaace45b330.txt  \n",
            "  inflating: ./butterfly-spider/butterfly-spider/train/labels/ea36b00d2bf6023ed1584d05fb1d4e9fe777ead218ac104497f5c97faee8b1b8_640_jpg.rf.8912b87d5c2b5fd9ea20eb028daad489.txt  \n",
            "  inflating: ./butterfly-spider/butterfly-spider/train/labels/ea36b00d2bf6023ed1584d05fb1d4e9fe777ead218ac104497f5c97faee8b1b8_640_jpg.rf.f5325649c112930756c80992aeff5f0d.txt  \n",
            "  inflating: ./butterfly-spider/butterfly-spider/train/labels/ea36b00f2ff3003ed1584d05fb1d4e9fe777ead218ac104497f5c97faeebb5bb_640_jpg.rf.21bf10a999b4620b5bae39e23faf31ae.txt  \n",
            "  inflating: ./butterfly-spider/butterfly-spider/train/labels/ea36b00f2ff3003ed1584d05fb1d4e9fe777ead218ac104497f5c97faeebb5bb_640_jpg.rf.ceda46834df66257153ef43e9b241701.txt  \n",
            "  inflating: ./butterfly-spider/butterfly-spider/train/labels/ea36b00f2ff3003ed1584d05fb1d4e9fe777ead218ac104497f5c97faeebb5bb_640_jpg.rf.e9cffc78af95e5a833e94f75d46770a8.txt  \n",
            "  inflating: ./butterfly-spider/butterfly-spider/train/labels/ea36b10721f4063ed1584d05fb1d4e9fe777ead218ac104497f5c97ca5edb3bd_640_jpg.rf.14ccf4ea47f3c6a7a7eb30decc363317.txt  \n",
            "  inflating: ./butterfly-spider/butterfly-spider/train/labels/ea36b10721f4063ed1584d05fb1d4e9fe777ead218ac104497f5c97ca5edb3bd_640_jpg.rf.212ff5fd5f87be205f3b81c71557ae6a.txt  \n",
            "  inflating: ./butterfly-spider/butterfly-spider/train/labels/ea36b10721f4063ed1584d05fb1d4e9fe777ead218ac104497f5c97ca5edb3bd_640_jpg.rf.232025202b64e60db1bbdd6421836374.txt  \n",
            "  inflating: ./butterfly-spider/butterfly-spider/train/labels/ea36b1072df6043ed1584d05fb1d4e9fe777ead218ac104497f5c97faee8b1b8_640_jpg.rf.24686fb5a7bee5bd20ad376e0b58ee3e.txt  \n",
            "  inflating: ./butterfly-spider/butterfly-spider/train/labels/ea36b1072df6043ed1584d05fb1d4e9fe777ead218ac104497f5c97faee8b1b8_640_jpg.rf.28623b7b103d930324e28db50449149b.txt  \n",
            "  inflating: ./butterfly-spider/butterfly-spider/train/labels/ea36b1072df6043ed1584d05fb1d4e9fe777ead218ac104497f5c97faee8b1b8_640_jpg.rf.99989ce4b68f3879c5fda6c174105bee.txt  \n",
            "  inflating: ./butterfly-spider/butterfly-spider/train/labels/ea36b1072df7013ed1584d05fb1d4e9fe777ead218ac104497f5c97faee8b1b8_640_jpg.rf.2d4d23f192834e31b626d4914c3f9d8f.txt  \n",
            "  inflating: ./butterfly-spider/butterfly-spider/train/labels/ea36b1072df7013ed1584d05fb1d4e9fe777ead218ac104497f5c97faee8b1b8_640_jpg.rf.41c16c267a8ca173e25a6d07eba880b9.txt  \n",
            "  inflating: ./butterfly-spider/butterfly-spider/train/labels/ea36b1072df7013ed1584d05fb1d4e9fe777ead218ac104497f5c97faee8b1b8_640_jpg.rf.849e2011b24db0685133e3fbda69a6b4.txt  \n",
            "  inflating: ./butterfly-spider/butterfly-spider/train/labels/ea36b10928fd013ed1584d05fb1d4e9fe777ead218ac104497f5c97faeebb5bb_640_jpg.rf.41250e743a835ca5c410b13d297494a3.txt  \n",
            "  inflating: ./butterfly-spider/butterfly-spider/train/labels/ea36b10928fd013ed1584d05fb1d4e9fe777ead218ac104497f5c97faeebb5bb_640_jpg.rf.bd0cfa051700f2cf37f5cee732f37b39.txt  \n",
            "  inflating: ./butterfly-spider/butterfly-spider/train/labels/ea36b10928fd013ed1584d05fb1d4e9fe777ead218ac104497f5c97faeebb5bb_640_jpg.rf.f7b6031eda5e2e47b7f5bde1c2a00dee.txt  \n",
            "  inflating: ./butterfly-spider/butterfly-spider/train/labels/ea36b10929f4083ed1584d05fb1d4e9fe777ead218ac104497f5c97faeebb5bb_640_jpg.rf.e5b0d1faadc037d6fea6ea49e193a7c5.txt  \n",
            "  inflating: ./butterfly-spider/butterfly-spider/train/labels/ea36b10929f4083ed1584d05fb1d4e9fe777ead218ac104497f5c97faeebb5bb_640_jpg.rf.f44dc7b3d91b2ed186442bbad1864670.txt  \n",
            "  inflating: ./butterfly-spider/butterfly-spider/train/labels/ea36b10929f4083ed1584d05fb1d4e9fe777ead218ac104497f5c97faeebb5bb_640_jpg.rf.f7d49caec8197c4b6137c532c5a51ff2.txt  \n",
            "  inflating: ./butterfly-spider/butterfly-spider/train/labels/ea36b10a2cf6093ed1584d05fb1d4e9fe777ead218ac104497f5c97ca5edb3bd_640_jpg.rf.601b709205d7b3254017a1ad8ac970fc.txt  \n",
            "  inflating: ./butterfly-spider/butterfly-spider/train/labels/ea36b10a2cf6093ed1584d05fb1d4e9fe777ead218ac104497f5c97ca5edb3bd_640_jpg.rf.c8d6548dc87b1b43ad11ee4551c60f1e.txt  \n",
            "  inflating: ./butterfly-spider/butterfly-spider/train/labels/ea36b10a2cf6093ed1584d05fb1d4e9fe777ead218ac104497f5c97ca5edb3bd_640_jpg.rf.ce8ced3bb0cb5c3339bcd89c4c2b305d.txt  \n",
            "  inflating: ./butterfly-spider/butterfly-spider/train/labels/ea36b10a2df5093ed1584d05fb1d4e9fe777ead218ac104497f5c97faeebb5bb_640_jpg.rf.2a3dec3a47496e9191f0636205ede587.txt  \n",
            "  inflating: ./butterfly-spider/butterfly-spider/train/labels/ea36b10a2df5093ed1584d05fb1d4e9fe777ead218ac104497f5c97faeebb5bb_640_jpg.rf.4ef12be6f2e86e41fbbea93451766c70.txt  \n",
            "  inflating: ./butterfly-spider/butterfly-spider/train/labels/ea36b10a2df5093ed1584d05fb1d4e9fe777ead218ac104497f5c97faeebb5bb_640_jpg.rf.f8aa801f2cbbac5c4acbbe2c481a7c31.txt  \n",
            "  inflating: ./butterfly-spider/butterfly-spider/train/labels/ea36b10b2df3043ed1584d05fb1d4e9fe777ead218ac104497f5c97faee9bdba_640_jpg.rf.0acc68084b61eb333a2b3632a649e235.txt  \n",
            "  inflating: ./butterfly-spider/butterfly-spider/train/labels/ea36b10b2df3043ed1584d05fb1d4e9fe777ead218ac104497f5c97faee9bdba_640_jpg.rf.4ec9a3a864ac07bb6c4f05cd99d6efe6.txt  \n",
            "  inflating: ./butterfly-spider/butterfly-spider/train/labels/ea36b10b2df3043ed1584d05fb1d4e9fe777ead218ac104497f5c97faee9bdba_640_jpg.rf.53fc41f52c67751ca4714adac3625586.txt  \n",
            "  inflating: ./butterfly-spider/butterfly-spider/train/labels/ea36b10b2df3053ed1584d05fb1d4e9fe777ead218ac104497f5c97faee9bdba_640_jpg.rf.37ca6b306d9ad6163ef79768125667ad.txt  \n",
            "  inflating: ./butterfly-spider/butterfly-spider/train/labels/ea36b10b2df3053ed1584d05fb1d4e9fe777ead218ac104497f5c97faee9bdba_640_jpg.rf.6d10cc306721bec965e20429d2e5a603.txt  \n",
            "  inflating: ./butterfly-spider/butterfly-spider/train/labels/ea36b10b2df3053ed1584d05fb1d4e9fe777ead218ac104497f5c97faee9bdba_640_jpg.rf.8b6425c8d853925424ab1b95e3b9f8be.txt  \n",
            "  inflating: ./butterfly-spider/butterfly-spider/train/labels/ea36b10b2df3053ed1584d05fb1d4e9fe777ead218ac104497f5c97faee9bdba_640_jpg.rf.9ea614b10bee5bc3b9c602c93dd9a4f0.txt  \n",
            "  inflating: ./butterfly-spider/butterfly-spider/train/labels/ea36b10b2df3053ed1584d05fb1d4e9fe777ead218ac104497f5c97faee9bdba_640_jpg.rf.b867c39dae10b77f866e408773caa298.txt  \n",
            "  inflating: ./butterfly-spider/butterfly-spider/train/labels/ea36b10b2df3053ed1584d05fb1d4e9fe777ead218ac104497f5c97faee9bdba_640_jpg.rf.ed7a68faa64a71fb6ee71905610d3e68.txt  \n",
            "  inflating: ./butterfly-spider/butterfly-spider/train/labels/ea36b10b2df3073ed1584d05fb1d4e9fe777ead218ac104497f5c97faee9bdba_640_jpg.rf.1d4d158fc6e986ee5522fbc4e2524e4d.txt  \n",
            "  inflating: ./butterfly-spider/butterfly-spider/train/labels/ea36b10b2df3073ed1584d05fb1d4e9fe777ead218ac104497f5c97faee9bdba_640_jpg.rf.31debe2f72d50df608f12117df47c7a6.txt  \n",
            "  inflating: ./butterfly-spider/butterfly-spider/train/labels/ea36b10b2df3073ed1584d05fb1d4e9fe777ead218ac104497f5c97faee9bdba_640_jpg.rf.33b5d897190523359ded748150820d21.txt  \n",
            "  inflating: ./butterfly-spider/butterfly-spider/train/labels/ea36b10c20fd073ed1584d05fb1d4e9fe777ead218ac104497f5c97faee8b1b8_640_jpg.rf.3685a29587c7ccb3657d41010aa5d63b.txt  \n",
            "  inflating: ./butterfly-spider/butterfly-spider/train/labels/ea36b10c20fd073ed1584d05fb1d4e9fe777ead218ac104497f5c97faee8b1b8_640_jpg.rf.60b3fabcffb497212a2a326770f4a3b5.txt  \n",
            "  inflating: ./butterfly-spider/butterfly-spider/train/labels/ea36b10c20fd073ed1584d05fb1d4e9fe777ead218ac104497f5c97faee8b1b8_640_jpg.rf.9fdfa93658bba23ed1d46092cc5638ad.txt  \n",
            "  inflating: ./butterfly-spider/butterfly-spider/train/labels/ea36b10d21f6053ed1584d05fb1d4e9fe777ead218ac104497f5c97faee8b1b8_640_jpg.rf.15a21224bdac71e12f28ee7439810c0a.txt  \n",
            "  inflating: ./butterfly-spider/butterfly-spider/train/labels/ea36b10d21f6053ed1584d05fb1d4e9fe777ead218ac104497f5c97faee8b1b8_640_jpg.rf.48c245f285aaae2159ce7814d30d6aef.txt  \n",
            "  inflating: ./butterfly-spider/butterfly-spider/train/labels/ea36b10d21f6053ed1584d05fb1d4e9fe777ead218ac104497f5c97faee8b1b8_640_jpg.rf.d36593731e24ec1f0bf317f0a72273c4.txt  \n",
            "  inflating: ./butterfly-spider/butterfly-spider/train/labels/ea36b10e2af0023ed1584d05fb1d4e9fe777ead218ac104497f5c97faee8b1b8_640_jpg.rf.20d4714e868422f67eebfda74f71fac0.txt  \n",
            "  inflating: ./butterfly-spider/butterfly-spider/train/labels/ea36b10e2af0023ed1584d05fb1d4e9fe777ead218ac104497f5c97faee8b1b8_640_jpg.rf.30dec8f4b7469d0fa545d397ab6645c2.txt  \n",
            "  inflating: ./butterfly-spider/butterfly-spider/train/labels/ea36b10e2af0023ed1584d05fb1d4e9fe777ead218ac104497f5c97faee8b1b8_640_jpg.rf.b5fdc3fd333d7bc712a1a93b7c85e6b3.txt  \n",
            "  inflating: ./butterfly-spider/butterfly-spider/train/labels/ea36b10f2af0043ed1584d05fb1d4e9fe777ead218ac104497f5c97ca5edb3bd_640_jpg.rf.098f65bb017a9520d2527f56043377de.txt  \n",
            "  inflating: ./butterfly-spider/butterfly-spider/train/labels/ea36b10f2af0043ed1584d05fb1d4e9fe777ead218ac104497f5c97ca5edb3bd_640_jpg.rf.9c03ac6231f3a7f6f639a91fa2fb559c.txt  \n",
            "  inflating: ./butterfly-spider/butterfly-spider/train/labels/ea36b10f2af0043ed1584d05fb1d4e9fe777ead218ac104497f5c97ca5edb3bd_640_jpg.rf.ce8ff75b7f0e3b6a11d1a650cc6d0cd7.txt  \n",
            "  inflating: ./butterfly-spider/butterfly-spider/train/labels/ea36b10f2af6043ed1584d05fb1d4e9fe777ead218ac104497f5c97faee8b1b8_640_jpg.rf.0d97de5abb4b7ea88dc6a0caa1965c20.txt  \n",
            "  inflating: ./butterfly-spider/butterfly-spider/train/labels/ea36b10f2af6043ed1584d05fb1d4e9fe777ead218ac104497f5c97faee8b1b8_640_jpg.rf.48546d7c0cdb851697fe55eaecce17b0.txt  \n",
            "  inflating: ./butterfly-spider/butterfly-spider/train/labels/ea36b10f2af6043ed1584d05fb1d4e9fe777ead218ac104497f5c97faee8b1b8_640_jpg.rf.d612af9e3441cbd2843d79fc16b36040.txt  \n",
            "  inflating: ./butterfly-spider/butterfly-spider/train/labels/ea36b10f2afd053ed1584d05fb1d4e9fe777ead218ac104497f5c97ca5edb3bd_640_jpg.rf.6a5224bce35ff071417308c1ddb75db0.txt  \n",
            "  inflating: ./butterfly-spider/butterfly-spider/train/labels/ea36b10f2afd053ed1584d05fb1d4e9fe777ead218ac104497f5c97ca5edb3bd_640_jpg.rf.b972bb418ee65de312475594bbe121d9.txt  \n",
            "  inflating: ./butterfly-spider/butterfly-spider/train/labels/ea36b10f2afd053ed1584d05fb1d4e9fe777ead218ac104497f5c97ca5edb3bd_640_jpg.rf.e564ccbdc4bd7bce599ed48d0b0bdaac.txt  \n",
            "  inflating: ./butterfly-spider/butterfly-spider/train/labels/ea36b10f2afd063ed1584d05fb1d4e9fe777ead218ac104497f5c97ca5edb3bd_640_jpg.rf.0e71ceb9624e0d42d2957f771d64d6d9.txt  \n",
            "  inflating: ./butterfly-spider/butterfly-spider/train/labels/ea36b10f2afd063ed1584d05fb1d4e9fe777ead218ac104497f5c97ca5edb3bd_640_jpg.rf.66fa436c3356f9670a6d5a4fc9ec04c7.txt  \n",
            "  inflating: ./butterfly-spider/butterfly-spider/train/labels/ea36b10f2afd063ed1584d05fb1d4e9fe777ead218ac104497f5c97ca5edb3bd_640_jpg.rf.92c6de7a4c4f0101a92e9d28cb13414d.txt  \n",
            "  inflating: ./butterfly-spider/butterfly-spider/train/labels/ea36b2072af6093ed1584d05fb1d4e9fe777ead218ac104497f5c97ca5edb3bd_640_jpg.rf.0d82b4404bb53f68061b2dc568c373d3.txt  \n",
            "  inflating: ./butterfly-spider/butterfly-spider/train/labels/ea36b2072af6093ed1584d05fb1d4e9fe777ead218ac104497f5c97ca5edb3bd_640_jpg.rf.50242f1b022c3ca6bf7e78eb7bc95fa0.txt  \n",
            "  inflating: ./butterfly-spider/butterfly-spider/train/labels/ea36b2072af6093ed1584d05fb1d4e9fe777ead218ac104497f5c97ca5edb3bd_640_jpg.rf.cb5a6d962320edf28875ea122b0cc3ba.txt  \n",
            "  inflating: ./butterfly-spider/butterfly-spider/train/labels/ea36b20b21f1093ed1584d05fb1d4e9fe777ead218ac104497f5c97faee9bdba_640_jpg.rf.86c6d05f8cc6598760c6d91ead1f5215.txt  \n",
            "  inflating: ./butterfly-spider/butterfly-spider/train/labels/ea36b20b21f1093ed1584d05fb1d4e9fe777ead218ac104497f5c97faee9bdba_640_jpg.rf.ee0544a8e3add92baf33c2ed297838f9.txt  \n",
            "  inflating: ./butterfly-spider/butterfly-spider/train/labels/ea36b20b28f6073ed1584d05fb1d4e9fe777ead218ac104497f5c97faee9bdba_640_jpg.rf.2544427280c4fee9134b63e94eafb217.txt  \n",
            "  inflating: ./butterfly-spider/butterfly-spider/train/labels/ea36b20b28f6073ed1584d05fb1d4e9fe777ead218ac104497f5c97faee9bdba_640_jpg.rf.2f429f375c3abf6ad8e4037adbc18436.txt  \n",
            "  inflating: ./butterfly-spider/butterfly-spider/train/labels/ea36b20b28f6073ed1584d05fb1d4e9fe777ead218ac104497f5c97faee9bdba_640_jpg.rf.b3b7b7fafad100185820c635c229d4dc.txt  \n",
            "  inflating: ./butterfly-spider/butterfly-spider/train/labels/ea36b20b2df4053ed1584d05fb1d4e9fe777ead218ac104497f5c97faee9bdba_640_jpg.rf.535ac690ceeadca2031e06b0ea5e94ed.txt  \n",
            "  inflating: ./butterfly-spider/butterfly-spider/train/labels/ea36b20b2df4053ed1584d05fb1d4e9fe777ead218ac104497f5c97faee9bdba_640_jpg.rf.6ef8fb5bbf091a0faacbb584c3f74ab1.txt  \n",
            "  inflating: ./butterfly-spider/butterfly-spider/train/labels/ea36b20b2df4053ed1584d05fb1d4e9fe777ead218ac104497f5c97faee9bdba_640_jpg.rf.d8bb9ce52d963ae364f2f7a3d6771da9.txt  \n",
            "  inflating: ./butterfly-spider/butterfly-spider/train/labels/ea36b20c21f4013ed1584d05fb1d4e9fe777ead218ac104497f5c97faee9bdba_640_jpg.rf.00c35f351ad317f7ee01fa21d6548bab.txt  \n",
            "  inflating: ./butterfly-spider/butterfly-spider/train/labels/ea36b20c21f4013ed1584d05fb1d4e9fe777ead218ac104497f5c97faee9bdba_640_jpg.rf.3ed3bd6c6931ca0bdf0514c56b39a216.txt  \n",
            "  inflating: ./butterfly-spider/butterfly-spider/train/labels/ea36b20c21f4013ed1584d05fb1d4e9fe777ead218ac104497f5c97faee9bdba_640_jpg.rf.cfff3305516598c59c3619aea6b238eb.txt  \n",
            "  inflating: ./butterfly-spider/butterfly-spider/train/labels/ea36b20c29f3073ed1584d05fb1d4e9fe777ead218ac104497f5c97faee9bdba_640_jpg.rf.46336b1619defae191cec58b8c7a324d.txt  \n",
            "  inflating: ./butterfly-spider/butterfly-spider/train/labels/ea36b20c29f3073ed1584d05fb1d4e9fe777ead218ac104497f5c97faee9bdba_640_jpg.rf.4685eed783b648668e79faf888abcde1.txt  \n",
            "  inflating: ./butterfly-spider/butterfly-spider/train/labels/ea36b20c29f3073ed1584d05fb1d4e9fe777ead218ac104497f5c97faee9bdba_640_jpg.rf.4d5e18e0779f0dd0e5b329a5216ce59d.txt  \n",
            "  inflating: ./butterfly-spider/butterfly-spider/train/labels/ea36b20c29f3073ed1584d05fb1d4e9fe777ead218ac104497f5c97faee9bdba_640_jpg.rf.5ed6d9df503172219a7057f9c94c37e1.txt  \n",
            "  inflating: ./butterfly-spider/butterfly-spider/train/labels/ea36b20c29f3073ed1584d05fb1d4e9fe777ead218ac104497f5c97faee9bdba_640_jpg.rf.f05eb5472aff995b411b83de1847d655.txt  \n",
            "  inflating: ./butterfly-spider/butterfly-spider/train/labels/ea36b20c29f3073ed1584d05fb1d4e9fe777ead218ac104497f5c97faee9bdba_640_jpg.rf.f684567cc0e463d01913db7825b14feb.txt  \n",
            "  inflating: ./butterfly-spider/butterfly-spider/train/labels/ea36b20c29f3083ed1584d05fb1d4e9fe777ead218ac104497f5c97faee9bdba_640_jpg.rf.54b58e99ae5afd3a7aeb87fbce9c57c1.txt  \n",
            "  inflating: ./butterfly-spider/butterfly-spider/train/labels/ea36b20c29f3083ed1584d05fb1d4e9fe777ead218ac104497f5c97faee9bdba_640_jpg.rf.64e1732f6011fb4992b6298f640940b2.txt  \n",
            "  inflating: ./butterfly-spider/butterfly-spider/train/labels/ea36b20c29f3083ed1584d05fb1d4e9fe777ead218ac104497f5c97faee9bdba_640_jpg.rf.825fec8ba5e1a3921a397bcb3cf0e16a.txt  \n",
            "  inflating: ./butterfly-spider/butterfly-spider/train/labels/ea36b20d21f5033ed1584d05fb1d4e9fe777ead218ac104497f5c97ca5edb3bd_640_jpg.rf.23d12b0dcb72a63ec9fb6cd1f825311b.txt  \n",
            "  inflating: ./butterfly-spider/butterfly-spider/train/labels/ea36b20d21f5033ed1584d05fb1d4e9fe777ead218ac104497f5c97ca5edb3bd_640_jpg.rf.483d90c328f5f4191b8caacca37bdf97.txt  \n",
            "  inflating: ./butterfly-spider/butterfly-spider/train/labels/ea36b20d21f5033ed1584d05fb1d4e9fe777ead218ac104497f5c97ca5edb3bd_640_jpg.rf.5d3b0d461e66a9ad05cf0a0cc0277612.txt  \n",
            "  inflating: ./butterfly-spider/butterfly-spider/train/labels/ea36b20d2bf6083ed1584d05fb1d4e9fe777ead218ac104497f5c97faeebb5bb_640_jpg.rf.a1354596a70e5b0ccadf623f8a0fc8c4.txt  \n",
            "  inflating: ./butterfly-spider/butterfly-spider/train/labels/ea36b20d2bf6083ed1584d05fb1d4e9fe777ead218ac104497f5c97faeebb5bb_640_jpg.rf.a612a1ccaccb12383e3565f61de74141.txt  \n",
            "  inflating: ./butterfly-spider/butterfly-spider/train/labels/ea36b20d2bf6083ed1584d05fb1d4e9fe777ead218ac104497f5c97faeebb5bb_640_jpg.rf.ab90e76ca6ba1e3875a6b485df30977a.txt  \n",
            "  inflating: ./butterfly-spider/butterfly-spider/train/labels/ea36b20e20f5023ed1584d05fb1d4e9fe777ead218ac104497f5c97faee9bdba_640_jpg.rf.2f72247382b53878bda8d79ae76e38f7.txt  \n",
            "  inflating: ./butterfly-spider/butterfly-spider/train/labels/ea36b20e20f5023ed1584d05fb1d4e9fe777ead218ac104497f5c97faee9bdba_640_jpg.rf.62e2a60199c49193e94cbfb6a752a44d.txt  \n",
            "  inflating: ./butterfly-spider/butterfly-spider/train/labels/ea36b20e20f5023ed1584d05fb1d4e9fe777ead218ac104497f5c97faee9bdba_640_jpg.rf.fe18b0c8ca46037860bbc80bf47c8f80.txt  \n",
            "  inflating: ./butterfly-spider/butterfly-spider/train/labels/ea36b20e29f1083ed1584d05fb1d4e9fe777ead218ac104497f5c97faee8b1b8_640_jpg.rf.18f7a96122fc799f513a873ee496a6a6.txt  \n",
            "  inflating: ./butterfly-spider/butterfly-spider/train/labels/ea36b20e29f1083ed1584d05fb1d4e9fe777ead218ac104497f5c97faee8b1b8_640_jpg.rf.3333de3218a01f939a0a2f81f9ddd9f5.txt  \n",
            "  inflating: ./butterfly-spider/butterfly-spider/train/labels/ea36b20e29f1083ed1584d05fb1d4e9fe777ead218ac104497f5c97faee8b1b8_640_jpg.rf.8e19ce9d0f1c8caec98c304731a41494.txt  \n",
            "  inflating: ./butterfly-spider/butterfly-spider/train/labels/ea36b20f21f3063ed1584d05fb1d4e9fe777ead218ac104497f5c97faeebb5bb_640_jpg.rf.14ee6747784b7396618c66ac34903731.txt  \n",
            "  inflating: ./butterfly-spider/butterfly-spider/train/labels/ea36b20f21f3063ed1584d05fb1d4e9fe777ead218ac104497f5c97faeebb5bb_640_jpg.rf.a9450c0a14967913e7a75a2954303d95.txt  \n",
            "  inflating: ./butterfly-spider/butterfly-spider/train/labels/ea36b20f21f3063ed1584d05fb1d4e9fe777ead218ac104497f5c97faeebb5bb_640_jpg.rf.b5d31dd604a097c5b1be926e41095823.txt  \n",
            "  inflating: ./butterfly-spider/butterfly-spider/train/labels/ea36b20f2cf6053ed1584d05fb1d4e9fe777ead218ac104497f5c97ca5ecb5b1_640_png.rf.202f5b4337915babd7033b6371db2fe6.txt  \n",
            "  inflating: ./butterfly-spider/butterfly-spider/train/labels/ea36b20f2cf6053ed1584d05fb1d4e9fe777ead218ac104497f5c97ca5ecb5b1_640_png.rf.d74e4bb7ef13553e013b9f4a3776b61c.txt  \n",
            "  inflating: ./butterfly-spider/butterfly-spider/train/labels/ea36b20f2cf6053ed1584d05fb1d4e9fe777ead218ac104497f5c97ca5ecb5b1_640_png.rf.e430cf36e991ac592dfdc3110461e0b3.txt  \n",
            "  inflating: ./butterfly-spider/butterfly-spider/train/labels/ea36b20f2ff7023ed1584d05fb1d4e9fe777ead218ac104497f5c97ca5edb3bd_640_jpg.rf.43ef408ecc233ee62e09e3b7e271cb0e.txt  \n",
            "  inflating: ./butterfly-spider/butterfly-spider/train/labels/ea36b20f2ff7023ed1584d05fb1d4e9fe777ead218ac104497f5c97ca5edb3bd_640_jpg.rf.77fed19e2b4bdf92dfafb53e801bd69e.txt  \n",
            "  inflating: ./butterfly-spider/butterfly-spider/train/labels/ea36b20f2ff7023ed1584d05fb1d4e9fe777ead218ac104497f5c97ca5edb3bd_640_jpg.rf.f16069fb18bb0c2db2ad5ac45aaf0539.txt  \n",
            "  inflating: ./butterfly-spider/butterfly-spider/train/labels/ea36b3092afd093ed1584d05fb1d4e9fe777ead218ac104497f5c97ca5edb3bd_640_jpg.rf.8c998ccecce8f29e7c604a0ebd9b35c7.txt  \n",
            "  inflating: ./butterfly-spider/butterfly-spider/train/labels/ea36b3092afd093ed1584d05fb1d4e9fe777ead218ac104497f5c97ca5edb3bd_640_jpg.rf.92259188b3b8adc2c320d69d7522f2e4.txt  \n",
            "  inflating: ./butterfly-spider/butterfly-spider/train/labels/ea36b3092afd093ed1584d05fb1d4e9fe777ead218ac104497f5c97ca5edb3bd_640_jpg.rf.fff07b4a47542adbf6f7625cdcd742d2.txt  \n",
            "  inflating: ./butterfly-spider/butterfly-spider/train/labels/ea36b3092bf4013ed1584d05fb1d4e9fe777ead218ac104497f5c97ca5edb3bd_640_jpg.rf.039eeab38bd69f3f93945f2718a53fbb.txt  \n",
            "  inflating: ./butterfly-spider/butterfly-spider/train/labels/ea36b3092bf4013ed1584d05fb1d4e9fe777ead218ac104497f5c97ca5edb3bd_640_jpg.rf.70c07350211ef5b9b9bfd39034c8c9a6.txt  \n",
            "  inflating: ./butterfly-spider/butterfly-spider/train/labels/ea36b3092bf4013ed1584d05fb1d4e9fe777ead218ac104497f5c97ca5edb3bd_640_jpg.rf.77ffbe7e4e68b03ad5c817abc96f4271.txt  \n",
            "  inflating: ./butterfly-spider/butterfly-spider/train/labels/ea36b30a20f0033ed1584d05fb1d4e9fe777ead218ac104497f5c97faee9bdba_640_jpg.rf.16bdff456fcab4bb203c8d75fb7f01ef.txt  \n",
            "  inflating: ./butterfly-spider/butterfly-spider/train/labels/ea36b30a20f0033ed1584d05fb1d4e9fe777ead218ac104497f5c97faee9bdba_640_jpg.rf.83a63765f40f4dc05a13fc068fb7ab56.txt  \n",
            "  inflating: ./butterfly-spider/butterfly-spider/train/labels/ea36b30a20f0033ed1584d05fb1d4e9fe777ead218ac104497f5c97faee9bdba_640_jpg.rf.a2f7f0490fe7b1eaccb121f4f02307d8.txt  \n",
            "  inflating: ./butterfly-spider/butterfly-spider/train/labels/ea36b30a20f7003ed1584d05fb1d4e9fe777ead218ac104497f5c97faee9bdba_640_jpg.rf.755c0fbbbe4ee78b2effff8914c2c535.txt  \n",
            "  inflating: ./butterfly-spider/butterfly-spider/train/labels/ea36b30a20f7003ed1584d05fb1d4e9fe777ead218ac104497f5c97faee9bdba_640_jpg.rf.add917938ec03f76f29b70302e1cdb91.txt  \n",
            "  inflating: ./butterfly-spider/butterfly-spider/train/labels/ea36b30a20f7003ed1584d05fb1d4e9fe777ead218ac104497f5c97faee9bdba_640_jpg.rf.f5d3b55b3adc9ccb59fe029bdd792c48.txt  \n",
            "  inflating: ./butterfly-spider/butterfly-spider/train/labels/ea36b30b21f0083ed1584d05fb1d4e9fe777ead218ac104497f5c97faeebb5bb_640_jpg.rf.02a161c566236f6960ac04bd6e034443.txt  \n",
            "  inflating: ./butterfly-spider/butterfly-spider/train/labels/ea36b30b21f0083ed1584d05fb1d4e9fe777ead218ac104497f5c97faeebb5bb_640_jpg.rf.b64c34d437f7852da830a16821b2951c.txt  \n",
            "  inflating: ./butterfly-spider/butterfly-spider/train/labels/ea36b30b21f0083ed1584d05fb1d4e9fe777ead218ac104497f5c97faeebb5bb_640_jpg.rf.e0cab3659909b5e0983aca58b9cf1e26.txt  \n",
            "  inflating: ./butterfly-spider/butterfly-spider/train/labels/ea36b30d2cf4023ed1584d05fb1d4e9fe777ead218ac104497f5c97ca5ecb3b9_640_jpg.rf.49e7e6271259c96b969899a2f8f9f899.txt  \n",
            "  inflating: ./butterfly-spider/butterfly-spider/train/labels/ea36b30d2cf4023ed1584d05fb1d4e9fe777ead218ac104497f5c97ca5ecb3b9_640_jpg.rf.55547813f8eaf454af19c3ee4331c363.txt  \n",
            "  inflating: ./butterfly-spider/butterfly-spider/train/labels/ea36b30d2cf4023ed1584d05fb1d4e9fe777ead218ac104497f5c97ca5ecb3b9_640_jpg.rf.c5bf057030c0efe385e2bd1b262bf862.txt  \n",
            "  inflating: ./butterfly-spider/butterfly-spider/train/labels/ea36b30e20fc063ed1584d05fb1d4e9fe777ead218ac104497f5c97faee8b1b8_640_jpg.rf.7b1326f8227426bc34981c3a6134b096.txt  \n",
            "  inflating: ./butterfly-spider/butterfly-spider/train/labels/ea36b30e20fc063ed1584d05fb1d4e9fe777ead218ac104497f5c97faee8b1b8_640_jpg.rf.9c0b08f1b4b287de5791ea60797b1962.txt  \n",
            "  inflating: ./butterfly-spider/butterfly-spider/train/labels/ea36b30e20fc063ed1584d05fb1d4e9fe777ead218ac104497f5c97faee8b1b8_640_jpg.rf.a0486514131ca388b12fd98e3b4e5341.txt  \n",
            "  inflating: ./butterfly-spider/butterfly-spider/train/labels/ea36b30e20fc063ed1584d05fb1d4e9fe777ead218ac104497f5c97faee8b1b8_640_jpg.rf.ba8266b7181ff3fc3f9f9ec7eb65b2a5.txt  \n",
            "  inflating: ./butterfly-spider/butterfly-spider/train/labels/ea36b30e20fc063ed1584d05fb1d4e9fe777ead218ac104497f5c97faee8b1b8_640_jpg.rf.df1a4901b51a1c8ebdd2398ca05680c3.txt  \n",
            "  inflating: ./butterfly-spider/butterfly-spider/train/labels/ea36b30e20fc063ed1584d05fb1d4e9fe777ead218ac104497f5c97faee8b1b8_640_jpg.rf.f8e424466f589db3a02f1ec6ea9e7d44.txt  \n",
            "  inflating: ./butterfly-spider/butterfly-spider/train/labels/ea36b30e2bf2083ed1584d05fb1d4e9fe777ead218ac104497f5c97faee8b1b8_640_jpg.rf.1173cf547dc6d3da5cb8199e6fe4714e.txt  \n",
            "  inflating: ./butterfly-spider/butterfly-spider/train/labels/ea36b30e2bf2083ed1584d05fb1d4e9fe777ead218ac104497f5c97faee8b1b8_640_jpg.rf.1ae306d45cc3a0dd1714c52ea1c02385.txt  \n",
            "  inflating: ./butterfly-spider/butterfly-spider/train/labels/ea36b30e2bf2083ed1584d05fb1d4e9fe777ead218ac104497f5c97faee8b1b8_640_jpg.rf.420370acad1e5c9dea0246db69f025b2.txt  \n",
            "  inflating: ./butterfly-spider/butterfly-spider/train/labels/ea36b30e2dfd053ed1584d05fb1d4e9fe777ead218ac104497f5c97ca5edb3bd_640_jpg.rf.049559cab2633515a4e3686df3dbe083.txt  \n",
            "  inflating: ./butterfly-spider/butterfly-spider/train/labels/ea36b30e2dfd053ed1584d05fb1d4e9fe777ead218ac104497f5c97ca5edb3bd_640_jpg.rf.67d64b549f8cf443edc8d34b99bdc0ec.txt  \n",
            "  inflating: ./butterfly-spider/butterfly-spider/train/labels/ea36b30e2dfd053ed1584d05fb1d4e9fe777ead218ac104497f5c97ca5edb3bd_640_jpg.rf.a4b196c2016555e102c82155f81e5b40.txt  \n",
            "  inflating: ./butterfly-spider/butterfly-spider/train/labels/ea36b30e2ef6053ed1584d05fb1d4e9fe777ead218ac104497f5c97faee8b1b8_640_jpg.rf.25af9274bb29f5f3214ae428e5ee0a48.txt  \n",
            "  inflating: ./butterfly-spider/butterfly-spider/train/labels/ea36b30e2ef6053ed1584d05fb1d4e9fe777ead218ac104497f5c97faee8b1b8_640_jpg.rf.b991b887adbcd3175175b724a518205b.txt  \n",
            "  inflating: ./butterfly-spider/butterfly-spider/train/labels/ea36b30e2ef6053ed1584d05fb1d4e9fe777ead218ac104497f5c97faee8b1b8_640_jpg.rf.def822f93e9131251549d13645917ba8.txt  \n",
            "  inflating: ./butterfly-spider/butterfly-spider/train/labels/ea36b30f28f6033ed1584d05fb1d4e9fe777ead218ac104497f5c97ca5edb3bd_640_jpg.rf.9e2bcf5a8f5a1c25eb9e8887517befda.txt  \n",
            "  inflating: ./butterfly-spider/butterfly-spider/train/labels/ea36b30f28f6033ed1584d05fb1d4e9fe777ead218ac104497f5c97ca5edb3bd_640_jpg.rf.e36aa2d07e79d70597cbed08d2fef8c3.txt  \n",
            "  inflating: ./butterfly-spider/butterfly-spider/train/labels/ea36b30f28f6033ed1584d05fb1d4e9fe777ead218ac104497f5c97ca5edb3bd_640_jpg.rf.f85fb3be0e23e4e7ff107887e81a33a8.txt  \n",
            "  inflating: ./butterfly-spider/butterfly-spider/train/labels/ea36b30f2ef3013ed1584d05fb1d4e9fe777ead218ac104497f5c97faee9bdba_640_jpg.rf.28234b8d388ab54b377a86fee4b41e99.txt  \n",
            "  inflating: ./butterfly-spider/butterfly-spider/train/labels/ea36b30f2ef3013ed1584d05fb1d4e9fe777ead218ac104497f5c97faee9bdba_640_jpg.rf.462d9cd0b9f220dc338e417a004a20d3.txt  \n",
            "  inflating: ./butterfly-spider/butterfly-spider/train/labels/ea36b30f2ef3013ed1584d05fb1d4e9fe777ead218ac104497f5c97faee9bdba_640_jpg.rf.bdb6bc265ea0715198a696c4bc697383.txt  \n",
            "  inflating: ./butterfly-spider/butterfly-spider/train/labels/ea36b40821f7053ed1584d05fb1d4e9fe777ead218ac104497f5c97ca5edb3bd_640_jpg.rf.0aee77cb4b94f9e8c430973a09462657.txt  \n",
            "  inflating: ./butterfly-spider/butterfly-spider/train/labels/ea36b40821f7053ed1584d05fb1d4e9fe777ead218ac104497f5c97ca5edb3bd_640_jpg.rf.893e71e5b167b492ae3f4a3a4ac7dc84.txt  \n",
            "  inflating: ./butterfly-spider/butterfly-spider/train/labels/ea36b40821f7053ed1584d05fb1d4e9fe777ead218ac104497f5c97ca5edb3bd_640_jpg.rf.baf19f4b56ecca5fdb89e30b78ebdf62.txt  \n",
            "  inflating: ./butterfly-spider/butterfly-spider/train/labels/ea36b4092ef6083ed1584d05fb1d4e9fe777ead218ac104497f5c97ca5edb3bd_640_jpg.rf.2e1fcc356c6d10efe0670e2a81c3f02c.txt  \n",
            "  inflating: ./butterfly-spider/butterfly-spider/train/labels/ea36b4092ef6083ed1584d05fb1d4e9fe777ead218ac104497f5c97ca5edb3bd_640_jpg.rf.350b7c2d7a138d49b968e7c3bb026be0.txt  \n",
            "  inflating: ./butterfly-spider/butterfly-spider/train/labels/ea36b4092ef6083ed1584d05fb1d4e9fe777ead218ac104497f5c97ca5edb3bd_640_jpg.rf.dcd31068635ad21f1ca45df3f3708d34.txt  \n",
            "  inflating: ./butterfly-spider/butterfly-spider/train/labels/ea36b4092ef7013ed1584d05fb1d4e9fe777ead218ac104497f5c97ca5edb3bd_640_jpg.rf.13a725c383d8ac950f10aabc6a6e3410.txt  \n",
            "  inflating: ./butterfly-spider/butterfly-spider/train/labels/ea36b4092ef7013ed1584d05fb1d4e9fe777ead218ac104497f5c97ca5edb3bd_640_jpg.rf.60272498d7019b5e746c56a79ba07606.txt  \n",
            "  inflating: ./butterfly-spider/butterfly-spider/train/labels/ea36b4092ef7013ed1584d05fb1d4e9fe777ead218ac104497f5c97ca5edb3bd_640_jpg.rf.79b465bf8c6cd4ced70b1658ce9bc178.txt  \n",
            "  inflating: ./butterfly-spider/butterfly-spider/train/labels/ea36b40a21f6043ed1584d05fb1d4e9fe777ead218ac104497f5c97faee9bdba_640_jpg.rf.4c49e2fd26195788daf4275544f57953.txt  \n",
            "  inflating: ./butterfly-spider/butterfly-spider/train/labels/ea36b40a21f6043ed1584d05fb1d4e9fe777ead218ac104497f5c97faee9bdba_640_jpg.rf.6a654017c783c8abc4d7835c0b8db09f.txt  \n",
            "  inflating: ./butterfly-spider/butterfly-spider/train/labels/ea36b40a21f6043ed1584d05fb1d4e9fe777ead218ac104497f5c97faee9bdba_640_jpg.rf.6aed0c7daf3565639427d01ae218406f.txt  \n",
            "  inflating: ./butterfly-spider/butterfly-spider/train/labels/ea36b40a21f6043ed1584d05fb1d4e9fe777ead218ac104497f5c97faee9bdba_640_jpg.rf.d053e38f36ac75081387d6086bc322d7.txt  \n",
            "  inflating: ./butterfly-spider/butterfly-spider/train/labels/ea36b40a21f6043ed1584d05fb1d4e9fe777ead218ac104497f5c97faee9bdba_640_jpg.rf.edeb11d268748d57a02f107d2a0ded41.txt  \n",
            "  inflating: ./butterfly-spider/butterfly-spider/train/labels/ea36b40a21f6043ed1584d05fb1d4e9fe777ead218ac104497f5c97faee9bdba_640_jpg.rf.fdd07c9dc338baba52a645281b33e4b1.txt  \n",
            "  inflating: ./butterfly-spider/butterfly-spider/train/labels/ea36b40a29f4033ed1584d05fb1d4e9fe777ead218ac104497f5c97ca5edb3bd_640_jpg.rf.99c706b308e8dd72e042accf42d6a513.txt  \n",
            "  inflating: ./butterfly-spider/butterfly-spider/train/labels/ea36b40a29f4033ed1584d05fb1d4e9fe777ead218ac104497f5c97ca5edb3bd_640_jpg.rf.d65ef99d1af34a6f254394a21083b6a6.txt  \n",
            "  inflating: ./butterfly-spider/butterfly-spider/train/labels/ea36b40a29f4033ed1584d05fb1d4e9fe777ead218ac104497f5c97ca5edb3bd_640_jpg.rf.db596bc2d73f0836e713ea43bf6fb627.txt  \n",
            "  inflating: ./butterfly-spider/butterfly-spider/train/labels/ea36b40a2ef5073ed1584d05fb1d4e9fe777ead218ac104497f5c97faee9bdba_640_jpg.rf.77b751b2660bc55a9f99aaeebe89137f.txt  \n",
            "  inflating: ./butterfly-spider/butterfly-spider/train/labels/ea36b40a2ef5073ed1584d05fb1d4e9fe777ead218ac104497f5c97faee9bdba_640_jpg.rf.7a6a275a1b9abfcc89ed960fc244bb61.txt  \n",
            "  inflating: ./butterfly-spider/butterfly-spider/train/labels/ea36b40a2ef5073ed1584d05fb1d4e9fe777ead218ac104497f5c97faee9bdba_640_jpg.rf.7fa6ad561e93eadef683cc8ec4e63915.txt  \n",
            "  inflating: ./butterfly-spider/butterfly-spider/train/labels/ea36b40a2ff0063ed1584d05fb1d4e9fe777ead218ac104497f5c97faeebb5bb_640_jpg.rf.15ea5d880b48e2cd5f12bf50c3660675.txt  \n",
            "  inflating: ./butterfly-spider/butterfly-spider/train/labels/ea36b40a2ff0063ed1584d05fb1d4e9fe777ead218ac104497f5c97faeebb5bb_640_jpg.rf.3a9a458162bf574c6d274cb9c4161bc6.txt  \n",
            "  inflating: ./butterfly-spider/butterfly-spider/train/labels/ea36b40a2ff0063ed1584d05fb1d4e9fe777ead218ac104497f5c97faeebb5bb_640_jpg.rf.6c31cdb36806fcd017efd3d2c746b03b.txt  \n",
            "  inflating: ./butterfly-spider/butterfly-spider/train/labels/ea36b40a2ff0063ed1584d05fb1d4e9fe777ead218ac104497f5c97faeebb5bb_640_jpg.rf.b976567b9db9db21e4715a222324ff9f.txt  \n",
            "  inflating: ./butterfly-spider/butterfly-spider/train/labels/ea36b40a2ff0063ed1584d05fb1d4e9fe777ead218ac104497f5c97faeebb5bb_640_jpg.rf.b9f78346d6adab2b5942b3674359c9de.txt  \n",
            "  inflating: ./butterfly-spider/butterfly-spider/train/labels/ea36b40a2ff0063ed1584d05fb1d4e9fe777ead218ac104497f5c97faeebb5bb_640_jpg.rf.efe65c4b1a540a34a04f622760fab6c5.txt  \n",
            "  inflating: ./butterfly-spider/butterfly-spider/train/labels/ea36b40c28f0033ed1584d05fb1d4e9fe777ead218ac104497f5c97ca5edb3bd_640_jpg.rf.46b76b91dbacbbc658b817da9a3ab9f5.txt  \n",
            "  inflating: ./butterfly-spider/butterfly-spider/train/labels/ea36b40c28f0033ed1584d05fb1d4e9fe777ead218ac104497f5c97ca5edb3bd_640_jpg.rf.56571ea8db7abb9fee8f448b8295f5b0.txt  \n",
            "  inflating: ./butterfly-spider/butterfly-spider/train/labels/ea36b40c28f0033ed1584d05fb1d4e9fe777ead218ac104497f5c97ca5edb3bd_640_jpg.rf.92148a904e925a49afd5a7abdd1d5d17.txt  \n",
            "  inflating: ./butterfly-spider/butterfly-spider/train/labels/ea36b40c28f2033ed1584d05fb1d4e9fe777ead218ac104497f5c97ca5edb3bd_640_jpg.rf.3163db3b1ff008f929f77d0efbedeb2e.txt  \n",
            "  inflating: ./butterfly-spider/butterfly-spider/train/labels/ea36b40c28f2033ed1584d05fb1d4e9fe777ead218ac104497f5c97ca5edb3bd_640_jpg.rf.cf3949b09eb20928e9ead9e1f452498a.txt  \n",
            "  inflating: ./butterfly-spider/butterfly-spider/train/labels/ea36b40c28f2033ed1584d05fb1d4e9fe777ead218ac104497f5c97ca5edb3bd_640_jpg.rf.e95f4438a32433bd4a5f3aa8b968f543.txt  \n",
            "  inflating: ./butterfly-spider/butterfly-spider/train/labels/ea36b40c29f4083ed1584d05fb1d4e9fe777ead218ac104497f5c97ca5edb3bd_640_jpg.rf.08f9a04954cecc80ef25926151a3e24b.txt  \n",
            "  inflating: ./butterfly-spider/butterfly-spider/train/labels/ea36b40c29f4083ed1584d05fb1d4e9fe777ead218ac104497f5c97ca5edb3bd_640_jpg.rf.4f7cf9c18e2847a8b5439898f2072b2b.txt  \n",
            "  inflating: ./butterfly-spider/butterfly-spider/train/labels/ea36b40c29f4083ed1584d05fb1d4e9fe777ead218ac104497f5c97ca5edb3bd_640_jpg.rf.7b2ee3b8ef268cf8f8b642f198b53dcb.txt  \n",
            " extracting: ./butterfly-spider/butterfly-spider/train/labels/ea36b40d2ef5013ed1584d05fb1d4e9fe777ead218ac104497f5c97ca5edb3bd_640_jpg.rf.1a81789955c241fc86f6206ca3563aa8.txt  \n",
            " extracting: ./butterfly-spider/butterfly-spider/train/labels/ea36b40d2ef5013ed1584d05fb1d4e9fe777ead218ac104497f5c97ca5edb3bd_640_jpg.rf.28d58b5aafa7097caf9b9093c31037c7.txt  \n",
            " extracting: ./butterfly-spider/butterfly-spider/train/labels/ea36b40d2ef5013ed1584d05fb1d4e9fe777ead218ac104497f5c97ca5edb3bd_640_jpg.rf.46f697ef9ff42382a267b34e3c9e9384.txt  \n",
            "  inflating: ./butterfly-spider/butterfly-spider/train/labels/ea36b40d2ef5053ed1584d05fb1d4e9fe777ead218ac104497f5c97faee9bdba_640_jpg.rf.4b6c0b796e4e03142bd04f6d8f9b6aa1.txt  \n",
            "  inflating: ./butterfly-spider/butterfly-spider/train/labels/ea36b40d2ef5053ed1584d05fb1d4e9fe777ead218ac104497f5c97faee9bdba_640_jpg.rf.505fad427da6e47828b60e872a452ec2.txt  \n",
            "  inflating: ./butterfly-spider/butterfly-spider/train/labels/ea36b40d2ef5053ed1584d05fb1d4e9fe777ead218ac104497f5c97faee9bdba_640_jpg.rf.791bb594c9b0fe7a3dca5a9bf1337205.txt  \n",
            "  inflating: ./butterfly-spider/butterfly-spider/train/labels/ea36b40d2ef5053ed1584d05fb1d4e9fe777ead218ac104497f5c97faee9bdba_640_jpg.rf.86c1f247fd0d6efe9fb80dd56f9efa79.txt  \n",
            "  inflating: ./butterfly-spider/butterfly-spider/train/labels/ea36b40d2ef5053ed1584d05fb1d4e9fe777ead218ac104497f5c97faee9bdba_640_jpg.rf.ba97e5ffbcf9995fe168f3880c1d26bc.txt  \n",
            "  inflating: ./butterfly-spider/butterfly-spider/train/labels/ea36b40d2ef5053ed1584d05fb1d4e9fe777ead218ac104497f5c97faee9bdba_640_jpg.rf.f1e544c5f3e067a16315056765d4453c.txt  \n",
            "  inflating: ./butterfly-spider/butterfly-spider/train/labels/ea36b40e28f7013ed1584d05fb1d4e9fe777ead218ac104497f5c97faee9bdba_640_jpg.rf.0d8c5550d647d0127fe4d5b8c0165b79.txt  \n",
            "  inflating: ./butterfly-spider/butterfly-spider/train/labels/ea36b40e28f7013ed1584d05fb1d4e9fe777ead218ac104497f5c97faee9bdba_640_jpg.rf.4d6b22c1b8f1592493503bfc46adfb47.txt  \n",
            "  inflating: ./butterfly-spider/butterfly-spider/train/labels/ea36b40e28f7013ed1584d05fb1d4e9fe777ead218ac104497f5c97faee9bdba_640_jpg.rf.c466bfd0d157798331786f771d9e0b9f.txt  \n",
            "  inflating: ./butterfly-spider/butterfly-spider/train/labels/ea36b40e2efc043ed1584d05fb1d4e9fe777ead218ac104497f5c97faee8b1b8_640_jpg.rf.0cb3e6a1b740c6cc409b858c11876a2d.txt  \n",
            "  inflating: ./butterfly-spider/butterfly-spider/train/labels/ea36b40e2efc043ed1584d05fb1d4e9fe777ead218ac104497f5c97faee8b1b8_640_jpg.rf.2ae5ecccecc2e893e9037c9aacb8c15c.txt  \n",
            "  inflating: ./butterfly-spider/butterfly-spider/train/labels/ea36b40e2efc043ed1584d05fb1d4e9fe777ead218ac104497f5c97faee8b1b8_640_jpg.rf.899f62c2322c10e30c27d8ab9e034b3d.txt  \n",
            "  inflating: ./butterfly-spider/butterfly-spider/train/labels/ea36b40f2af4093ed1584d05fb1d4e9fe777ead218ac104497f5c97faeebb5bb_640_jpg.rf.6c9d0653b45f9b45c71151184862fab6.txt  \n",
            "  inflating: ./butterfly-spider/butterfly-spider/train/labels/ea36b40f2af4093ed1584d05fb1d4e9fe777ead218ac104497f5c97faeebb5bb_640_jpg.rf.d18fec4700054cc6c4a199c3b580352a.txt  \n",
            "  inflating: ./butterfly-spider/butterfly-spider/train/labels/ea36b40f2af4093ed1584d05fb1d4e9fe777ead218ac104497f5c97faeebb5bb_640_jpg.rf.e2ee90359a17e9a249cb0841b55c3d99.txt  \n",
            "  inflating: ./butterfly-spider/butterfly-spider/train/labels/ea36b5072ff3083ed1584d05fb1d4e9fe777ead218ac104497f5c97ca5edb3bd_640_jpg.rf.0ac7f32b2fab5113e6e1b90c3508d870.txt  \n",
            "  inflating: ./butterfly-spider/butterfly-spider/train/labels/ea36b5072ff3083ed1584d05fb1d4e9fe777ead218ac104497f5c97ca5edb3bd_640_jpg.rf.511c55df5eb82f612467e5c5367f2b3c.txt  \n",
            "  inflating: ./butterfly-spider/butterfly-spider/train/labels/ea36b5072ff3083ed1584d05fb1d4e9fe777ead218ac104497f5c97ca5edb3bd_640_jpg.rf.61a1a1a51a4edd08c0e7a92bb1e96543.txt  \n",
            "  inflating: ./butterfly-spider/butterfly-spider/train/labels/ea36b50828fd013ed1584d05fb1d4e9fe777ead218ac104497f5c97faee9bdba_640_jpg.rf.28474efda272248c3739dd86bdcc1ba2.txt  \n",
            "  inflating: ./butterfly-spider/butterfly-spider/train/labels/ea36b50828fd013ed1584d05fb1d4e9fe777ead218ac104497f5c97faee9bdba_640_jpg.rf.c4cf4af4e18140277dcf740dbd84e385.txt  \n",
            "  inflating: ./butterfly-spider/butterfly-spider/train/labels/ea36b50828fd013ed1584d05fb1d4e9fe777ead218ac104497f5c97faee9bdba_640_jpg.rf.dfdf23fe9c23a1a957f7e7311f727c4c.txt  \n",
            "  inflating: ./butterfly-spider/butterfly-spider/train/labels/ea36b5082cf5033ed1584d05fb1d4e9fe777ead218ac104497f5c97ca5edb3bd_640_jpg.rf.bedd40365c449782d52089c6aec05c8e.txt  \n",
            "  inflating: ./butterfly-spider/butterfly-spider/train/labels/ea36b5082cf5033ed1584d05fb1d4e9fe777ead218ac104497f5c97ca5edb3bd_640_jpg.rf.e91a74c0461b82308eaa0338190d5a93.txt  \n",
            "  inflating: ./butterfly-spider/butterfly-spider/train/labels/ea36b5082cf5033ed1584d05fb1d4e9fe777ead218ac104497f5c97ca5edb3bd_640_jpg.rf.f083c3589199dbb9818930f1a1bb7b14.txt  \n",
            "  inflating: ./butterfly-spider/butterfly-spider/train/labels/ea36b50928fc043ed1584d05fb1d4e9fe777ead218ac104497f5c97ca5edb3bd_640_jpg.rf.1c07f4385aafc8ea7a01fa1921645963.txt  \n",
            "  inflating: ./butterfly-spider/butterfly-spider/train/labels/ea36b50928fc043ed1584d05fb1d4e9fe777ead218ac104497f5c97ca5edb3bd_640_jpg.rf.360364497a956ef4ac4960ab157a0712.txt  \n",
            "  inflating: ./butterfly-spider/butterfly-spider/train/labels/ea36b50928fc043ed1584d05fb1d4e9fe777ead218ac104497f5c97ca5edb3bd_640_jpg.rf.b8acec4d514174aa053c9ddf84a64289.txt  \n",
            "  inflating: ./butterfly-spider/butterfly-spider/train/labels/ea36b50928fc073ed1584d05fb1d4e9fe777ead218ac104497f5c97ca5edb3bd_640_jpg.rf.4b2e97ba309a800f10e77c00c25bd120.txt  \n",
            "  inflating: ./butterfly-spider/butterfly-spider/train/labels/ea36b50928fc073ed1584d05fb1d4e9fe777ead218ac104497f5c97ca5edb3bd_640_jpg.rf.8d4c47a9b15e053dfea74ffa9332594f.txt  \n",
            "  inflating: ./butterfly-spider/butterfly-spider/train/labels/ea36b50928fc073ed1584d05fb1d4e9fe777ead218ac104497f5c97ca5edb3bd_640_jpg.rf.fde78cf6f662e92afe57345ee2f4966e.txt  \n",
            "  inflating: ./butterfly-spider/butterfly-spider/train/labels/ea36b50928fc083ed1584d05fb1d4e9fe777ead218ac104497f5c97ca5edb3bd_640_jpg.rf.4674e1197566f7afd6fe431a0aeb5faf.txt  \n",
            "  inflating: ./butterfly-spider/butterfly-spider/train/labels/ea36b50928fc083ed1584d05fb1d4e9fe777ead218ac104497f5c97ca5edb3bd_640_jpg.rf.8e7e9bd5ac0a1fe81c38ca95e0676163.txt  \n",
            "  inflating: ./butterfly-spider/butterfly-spider/train/labels/ea36b50928fc083ed1584d05fb1d4e9fe777ead218ac104497f5c97ca5edb3bd_640_jpg.rf.c348b2c170308c81b9ad0833494426df.txt  \n",
            "  inflating: ./butterfly-spider/butterfly-spider/train/labels/ea36b50a2ef2033ed1584d05fb1d4e9fe777ead218ac104497f5c97faee9bdba_640_jpg.rf.0586b71f153c2393e928719fe56176e1.txt  \n",
            "  inflating: ./butterfly-spider/butterfly-spider/train/labels/ea36b50a2ef2033ed1584d05fb1d4e9fe777ead218ac104497f5c97faee9bdba_640_jpg.rf.14bc892a9adde2b13a0041915b170da5.txt  \n",
            "  inflating: ./butterfly-spider/butterfly-spider/train/labels/ea36b50a2ef2033ed1584d05fb1d4e9fe777ead218ac104497f5c97faee9bdba_640_jpg.rf.c2943da3c7445ece974339b42a2395ea.txt  \n",
            "  inflating: ./butterfly-spider/butterfly-spider/train/labels/ea36b50b2ef3013ed1584d05fb1d4e9fe777ead218ac104497f5c97faee8b1b8_640_jpg.rf.30ad27df760f821b5a31205e4ae13bda.txt  \n",
            "  inflating: ./butterfly-spider/butterfly-spider/train/labels/ea36b50b2ef3013ed1584d05fb1d4e9fe777ead218ac104497f5c97faee8b1b8_640_jpg.rf.d684b17eef3f69aedfb91afa5411ada2.txt  \n",
            "  inflating: ./butterfly-spider/butterfly-spider/train/labels/ea36b50b2ef3013ed1584d05fb1d4e9fe777ead218ac104497f5c97faee8b1b8_640_jpg.rf.d909c15b2d614ce725dd760d9cf63875.txt  \n",
            "  inflating: ./butterfly-spider/butterfly-spider/train/labels/ea36b50c2df3023ed1584d05fb1d4e9fe777ead218ac104497f5c97faee8b1b8_640_jpg.rf.1c9ee0e4d83c0d5f16cdbbd3e8f436f3.txt  \n",
            "  inflating: ./butterfly-spider/butterfly-spider/train/labels/ea36b50c2df3023ed1584d05fb1d4e9fe777ead218ac104497f5c97faee8b1b8_640_jpg.rf.606a1c88e2bfc4166b742a9fc46ab81f.txt  \n",
            "  inflating: ./butterfly-spider/butterfly-spider/train/labels/ea36b50c2df3023ed1584d05fb1d4e9fe777ead218ac104497f5c97faee8b1b8_640_jpg.rf.6b6135fe4d5d7d4d6af77f8f7b143a03.txt  \n",
            "  inflating: ./butterfly-spider/butterfly-spider/train/labels/ea36b50c2ff4053ed1584d05fb1d4e9fe777ead218ac104497f5c97faee8b1b8_640_jpg.rf.3766f8d71058a53602a5437ff474ea46.txt  \n",
            "  inflating: ./butterfly-spider/butterfly-spider/train/labels/ea36b50c2ff4053ed1584d05fb1d4e9fe777ead218ac104497f5c97faee8b1b8_640_jpg.rf.941b76f33f8bf472f84305debfda4134.txt  \n",
            "  inflating: ./butterfly-spider/butterfly-spider/train/labels/ea36b50c2ff4053ed1584d05fb1d4e9fe777ead218ac104497f5c97faee8b1b8_640_jpg.rf.f5f7a9b1919eaabfcd3fa298d368870a.txt  \n",
            "  inflating: ./butterfly-spider/butterfly-spider/train/labels/ea36b50f2cfc063ed1584d05fb1d4e9fe777ead218ac104497f5c97faee9bdba_640_png.rf.1bcb86722fd8a7b247d81ea336c2c16c.txt  \n",
            "  inflating: ./butterfly-spider/butterfly-spider/train/labels/ea36b50f2cfc063ed1584d05fb1d4e9fe777ead218ac104497f5c97faee9bdba_640_png.rf.452b1cecaddfca812a9910e690a2dbf7.txt  \n",
            "  inflating: ./butterfly-spider/butterfly-spider/train/labels/ea36b50f2cfc063ed1584d05fb1d4e9fe777ead218ac104497f5c97faee9bdba_640_png.rf.6c9e41086e23ff22c81350f4fe3f31df.txt  \n",
            "  inflating: ./butterfly-spider/butterfly-spider/train/labels/ea36b6082cf0043ed1584d05fb1d4e9fe777ead218ac104497f5c97faee9bdba_640_jpg.rf.3bc7abdbd97340de6ef0e7f1d3c9d3cb.txt  \n",
            "  inflating: ./butterfly-spider/butterfly-spider/train/labels/ea36b6082cf0043ed1584d05fb1d4e9fe777ead218ac104497f5c97faee9bdba_640_jpg.rf.8fb63ee2885ee0db0863899e1a48af34.txt  \n",
            "  inflating: ./butterfly-spider/butterfly-spider/train/labels/ea36b6082cf0043ed1584d05fb1d4e9fe777ead218ac104497f5c97faee9bdba_640_jpg.rf.bef27cb6e13d422a9d4535d8599ee677.txt  \n",
            "  inflating: ./butterfly-spider/butterfly-spider/train/labels/ea36b60b20fc063ed1584d05fb1d4e9fe777ead218ac104497f5c97faee9bdba_640_jpg.rf.24b3e5173dd0d3b67d4367fbc66a1609.txt  \n",
            "  inflating: ./butterfly-spider/butterfly-spider/train/labels/ea36b60b20fc063ed1584d05fb1d4e9fe777ead218ac104497f5c97faee9bdba_640_jpg.rf.932702f6c50413dc0a631e4eac72c306.txt  \n",
            "  inflating: ./butterfly-spider/butterfly-spider/train/labels/ea36b60b20fc063ed1584d05fb1d4e9fe777ead218ac104497f5c97faee9bdba_640_jpg.rf.e738b455419f4d7a9878fac331172129.txt  \n",
            "  inflating: ./butterfly-spider/butterfly-spider/train/labels/ea36b60b21f5033ed1584d05fb1d4e9fe777ead218ac104497f5c97faee9bdba_640_jpg.rf.21d06f70ffed53c241008ce3ebf80ad7.txt  \n",
            "  inflating: ./butterfly-spider/butterfly-spider/train/labels/ea36b60b21f5033ed1584d05fb1d4e9fe777ead218ac104497f5c97faee9bdba_640_jpg.rf.2af3a67463f4ff483a084161bb1eea70.txt  \n",
            "  inflating: ./butterfly-spider/butterfly-spider/train/labels/ea36b60b21f5033ed1584d05fb1d4e9fe777ead218ac104497f5c97faee9bdba_640_jpg.rf.c903f4d3acd0895f6ecb1b1d02d35a67.txt  \n",
            "  inflating: ./butterfly-spider/butterfly-spider/train/labels/ea36b60b21f7013ed1584d05fb1d4e9fe777ead218ac104497f5c97faee9bdba_640_jpg.rf.02c9a58343cf0143f43689300bc84d6b.txt  \n",
            "  inflating: ./butterfly-spider/butterfly-spider/train/labels/ea36b60b21f7013ed1584d05fb1d4e9fe777ead218ac104497f5c97faee9bdba_640_jpg.rf.a811cce464adee68e968783810071f69.txt  \n",
            "  inflating: ./butterfly-spider/butterfly-spider/train/labels/ea36b60b21f7013ed1584d05fb1d4e9fe777ead218ac104497f5c97faee9bdba_640_jpg.rf.e8823ddc11ce56b8f82f51a0094abf45.txt  \n",
            "  inflating: ./butterfly-spider/butterfly-spider/train/labels/ea36b60b2bf4083ed1584d05fb1d4e9fe777ead218ac104497f5c97faee9bdba_640_jpg.rf.2f462e7e6f69181c6c30f6f202b2820a.txt  \n",
            "  inflating: ./butterfly-spider/butterfly-spider/train/labels/ea36b60b2bf4083ed1584d05fb1d4e9fe777ead218ac104497f5c97faee9bdba_640_jpg.rf.9a823bd0def980299824dfe2230605f1.txt  \n",
            "  inflating: ./butterfly-spider/butterfly-spider/train/labels/ea36b60b2bf4083ed1584d05fb1d4e9fe777ead218ac104497f5c97faee9bdba_640_jpg.rf.c2ef95f1e1dec84b6451a964738737a5.txt  \n",
            "  inflating: ./butterfly-spider/butterfly-spider/train/labels/ea36b60b2ef5063ed1584d05fb1d4e9fe777ead218ac104497f5c97faee9bdba_640_jpg.rf.b585a9541c6a51c14a558a7969eb4036.txt  \n",
            "  inflating: ./butterfly-spider/butterfly-spider/train/labels/ea36b60b2ef5063ed1584d05fb1d4e9fe777ead218ac104497f5c97faee9bdba_640_jpg.rf.c54b4ee18a574a5560445ad66286040c.txt  \n",
            "  inflating: ./butterfly-spider/butterfly-spider/train/labels/ea36b60b2ef5063ed1584d05fb1d4e9fe777ead218ac104497f5c97faee9bdba_640_jpg.rf.e43b0c9cc13278cff2ab7f5d995cd685.txt  \n",
            "  inflating: ./butterfly-spider/butterfly-spider/train/labels/ea36b60c2af1043ed1584d05fb1d4e9fe777ead218ac104497f5c97faee9bdba_640_jpg.rf.7fdb9edea0c568441a7f40d36ea7bf33.txt  \n",
            "  inflating: ./butterfly-spider/butterfly-spider/train/labels/ea36b60c2af1043ed1584d05fb1d4e9fe777ead218ac104497f5c97faee9bdba_640_jpg.rf.8e7b5a6714a84a78fe028e7187bb0b6f.txt  \n",
            "  inflating: ./butterfly-spider/butterfly-spider/train/labels/ea36b60c2af1043ed1584d05fb1d4e9fe777ead218ac104497f5c97faee9bdba_640_jpg.rf.9b96d2b29a3ec0356a4431df1d9450ed.txt  \n",
            "  inflating: ./butterfly-spider/butterfly-spider/train/labels/ea36b60c2af1043ed1584d05fb1d4e9fe777ead218ac104497f5c97faee9bdba_640_jpg.rf.9cf7369c62db5e54a725e3cc7152e5b3.txt  \n",
            "  inflating: ./butterfly-spider/butterfly-spider/train/labels/ea36b60c2af1043ed1584d05fb1d4e9fe777ead218ac104497f5c97faee9bdba_640_jpg.rf.b1a307d3a1054d2c3d55b240c6ad1c56.txt  \n",
            "  inflating: ./butterfly-spider/butterfly-spider/train/labels/ea36b60c2af1043ed1584d05fb1d4e9fe777ead218ac104497f5c97faee9bdba_640_jpg.rf.e33eb6901e68cc88cb6bd13936d5f0a8.txt  \n",
            "  inflating: ./butterfly-spider/butterfly-spider/train/labels/ea36b60d2df7073ed1584d05fb1d4e9fe777ead218ac104497f5c97faee9bdba_640_jpg.rf.3933d9fcb9a4254a88883f29e44e181b.txt  \n",
            "  inflating: ./butterfly-spider/butterfly-spider/train/labels/ea36b60d2df7073ed1584d05fb1d4e9fe777ead218ac104497f5c97faee9bdba_640_jpg.rf.b1326724f40aaeb0f71caf859fa785a4.txt  \n",
            "  inflating: ./butterfly-spider/butterfly-spider/train/labels/ea36b60d2df7073ed1584d05fb1d4e9fe777ead218ac104497f5c97faee9bdba_640_jpg.rf.ef5c18be067a8afff3a404aff4732533.txt  \n",
            "  inflating: ./butterfly-spider/butterfly-spider/train/labels/ea36b60e2dfc033ed1584d05fb1d4e9fe777ead218ac104497f5c97faee9bdba_640_jpg.rf.83869e3a7d78ff9f5eccaea62841902f.txt  \n",
            "  inflating: ./butterfly-spider/butterfly-spider/train/labels/ea36b60e2dfc033ed1584d05fb1d4e9fe777ead218ac104497f5c97faee9bdba_640_jpg.rf.83f60f1f25bd412ac2c02ce72ce9af21.txt  \n",
            "  inflating: ./butterfly-spider/butterfly-spider/train/labels/ea36b60e2dfc033ed1584d05fb1d4e9fe777ead218ac104497f5c97faee9bdba_640_jpg.rf.c0b112fa3f74f32c42d2b2996a072f83.txt  \n",
            "  inflating: ./butterfly-spider/butterfly-spider/train/labels/ea36b60e2ef4033ed1584d05fb1d4e9fe777ead218ac104497f5c97faee9bdba_640_jpg.rf.0927e86f73f160a35c15cab0221c7d1e.txt  \n",
            "  inflating: ./butterfly-spider/butterfly-spider/train/labels/ea36b60e2ef4033ed1584d05fb1d4e9fe777ead218ac104497f5c97faee9bdba_640_jpg.rf.24b19f1858cd560d657e05ce157ae9ae.txt  \n",
            "  inflating: ./butterfly-spider/butterfly-spider/train/labels/ea36b60e2ef4033ed1584d05fb1d4e9fe777ead218ac104497f5c97faee9bdba_640_jpg.rf.dfe681405cc0a19cb4bc9e49ccb6fa4d.txt  \n",
            "  inflating: ./butterfly-spider/butterfly-spider/train/labels/ea36b60e2ef5003ed1584d05fb1d4e9fe777ead218ac104497f5c97faee9bdba_640_jpg.rf.79a1c5ee723ac48470ddac91713e53b3.txt  \n",
            "  inflating: ./butterfly-spider/butterfly-spider/train/labels/ea36b60e2ef5003ed1584d05fb1d4e9fe777ead218ac104497f5c97faee9bdba_640_jpg.rf.928ab9a43ee629b9242b14646ac05d08.txt  \n",
            "  inflating: ./butterfly-spider/butterfly-spider/train/labels/ea36b60e2ef5003ed1584d05fb1d4e9fe777ead218ac104497f5c97faee9bdba_640_jpg.rf.f0d33dbf9729965328a90ecacea9c790.txt  \n",
            "  inflating: ./butterfly-spider/butterfly-spider/train/labels/ea36b60f21f7003ed1584d05fb1d4e9fe777ead218ac104497f5c97ca5edb3bd_640_jpg.rf.32647615457786205321f73abb43b02c.txt  \n",
            "  inflating: ./butterfly-spider/butterfly-spider/train/labels/ea36b60f21f7003ed1584d05fb1d4e9fe777ead218ac104497f5c97ca5edb3bd_640_jpg.rf.4f0ac31685c04cde38430672fa9c3aaa.txt  \n",
            "  inflating: ./butterfly-spider/butterfly-spider/train/labels/ea36b60f21f7003ed1584d05fb1d4e9fe777ead218ac104497f5c97ca5edb3bd_640_jpg.rf.8b26741cf393beefa773e399fc84551f.txt  \n",
            " extracting: ./butterfly-spider/butterfly-spider/train/labels/ea36b60f2af4013ed1584d05fb1d4e9fe777ead218ac104497f5c97faee9bdba_640_jpg.rf.1676619c5dc528e5f90f61b1865a1218.txt  \n",
            " extracting: ./butterfly-spider/butterfly-spider/train/labels/ea36b60f2af4013ed1584d05fb1d4e9fe777ead218ac104497f5c97faee9bdba_640_jpg.rf.39dd81ae965a607c693d694489f74281.txt  \n",
            " extracting: ./butterfly-spider/butterfly-spider/train/labels/ea36b60f2af4013ed1584d05fb1d4e9fe777ead218ac104497f5c97faee9bdba_640_jpg.rf.a02af2a84777a1be192ca2f3633bcc06.txt  \n",
            "  inflating: ./butterfly-spider/butterfly-spider/train/labels/ea36b7062cf3073ed1584d05fb1d4e9fe777ead218ac104497f5c97faee9bdba_640_jpg.rf.901728aa63064131695a9c164b472359.txt  \n",
            "  inflating: ./butterfly-spider/butterfly-spider/train/labels/ea36b7062cf3073ed1584d05fb1d4e9fe777ead218ac104497f5c97faee9bdba_640_jpg.rf.c87385032e8d88dac3f064b34bd94014.txt  \n",
            "  inflating: ./butterfly-spider/butterfly-spider/train/labels/ea36b7062cf3073ed1584d05fb1d4e9fe777ead218ac104497f5c97faee9bdba_640_jpg.rf.f9d0406ca8ede6f86285663649eeeb57.txt  \n",
            "  inflating: ./butterfly-spider/butterfly-spider/train/labels/ea36b7062cfc023ed1584d05fb1d4e9fe777ead218ac104497f5c97faee9bdba_640_jpg.rf.1f35f5d06cf0cb6f1dab66a798e7b25b.txt  \n",
            "  inflating: ./butterfly-spider/butterfly-spider/train/labels/ea36b7062cfc023ed1584d05fb1d4e9fe777ead218ac104497f5c97faee9bdba_640_jpg.rf.8834b7f3cac770a26b1e1bd3c9644296.txt  \n",
            "  inflating: ./butterfly-spider/butterfly-spider/train/labels/ea36b7062cfc023ed1584d05fb1d4e9fe777ead218ac104497f5c97faee9bdba_640_jpg.rf.f986061303740d6e43ea5548d21ed5f6.txt  \n",
            "  inflating: ./butterfly-spider/butterfly-spider/train/labels/ea36b7072ff0013ed1584d05fb1d4e9fe777ead218ac104497f5c97faee9bdba_640_jpg.rf.2cf914a8f0a7093e608bf59f3c3a238c.txt  \n",
            "  inflating: ./butterfly-spider/butterfly-spider/train/labels/ea36b7072ff0013ed1584d05fb1d4e9fe777ead218ac104497f5c97faee9bdba_640_jpg.rf.364197e20d2b1270b35edac4e771ffbc.txt  \n",
            "  inflating: ./butterfly-spider/butterfly-spider/train/labels/ea36b7072ff0013ed1584d05fb1d4e9fe777ead218ac104497f5c97faee9bdba_640_jpg.rf.de0b8ff1a5c26e8175fd682b901c9750.txt  \n",
            "  inflating: ./butterfly-spider/butterfly-spider/train/labels/ea36b7092af5073ed1584d05fb1d4e9fe777ead218ac104497f5c97ca5edb3bd_640_jpg.rf.13e1e13e9af089ab0fc1eeae1a3729b3.txt  \n",
            "  inflating: ./butterfly-spider/butterfly-spider/train/labels/ea36b7092af5073ed1584d05fb1d4e9fe777ead218ac104497f5c97ca5edb3bd_640_jpg.rf.1ef0fecf94aa5a15f9349878b1070340.txt  \n",
            "  inflating: ./butterfly-spider/butterfly-spider/train/labels/ea36b7092af5073ed1584d05fb1d4e9fe777ead218ac104497f5c97ca5edb3bd_640_jpg.rf.e37e7e7500f97b2b28fb181ff140ae74.txt  \n",
            "  inflating: ./butterfly-spider/butterfly-spider/train/labels/ea36b70c2ef5083ed1584d05fb1d4e9fe777ead218ac104497f5c97faee9bdba_640_jpg.rf.41e5dfdb5c3b40763f40cbeec2c59b31.txt  \n",
            "  inflating: ./butterfly-spider/butterfly-spider/train/labels/ea36b70c2ef5083ed1584d05fb1d4e9fe777ead218ac104497f5c97faee9bdba_640_jpg.rf.4933ced33b090701e5a4d95c8e40aaf2.txt  \n",
            "  inflating: ./butterfly-spider/butterfly-spider/train/labels/ea36b70c2ef5083ed1584d05fb1d4e9fe777ead218ac104497f5c97faee9bdba_640_jpg.rf.7c1b23981fcc2c0df07d8fd81513581d.txt  \n",
            "  inflating: ./butterfly-spider/butterfly-spider/train/labels/ea36b70d2efd063ed1584d05fb1d4e9fe777ead218ac104497f5c97faee9bdba_640_jpg.rf.442d56e3a4628d2948cf3da057485ecd.txt  \n",
            "  inflating: ./butterfly-spider/butterfly-spider/train/labels/ea36b70d2efd063ed1584d05fb1d4e9fe777ead218ac104497f5c97faee9bdba_640_jpg.rf.b7414523fef6f3a5d497e178bcdb81d1.txt  \n",
            "  inflating: ./butterfly-spider/butterfly-spider/train/labels/ea36b70f2bf1093ed1584d05fb1d4e9fe777ead218ac104497f5c97ca5edb3bd_640_jpg.rf.37b2fbe859e58a814906082739baa58e.txt  \n",
            "  inflating: ./butterfly-spider/butterfly-spider/train/labels/ea36b70f2bf1093ed1584d05fb1d4e9fe777ead218ac104497f5c97ca5edb3bd_640_jpg.rf.904270064ed6ef2d3f6a98bbb501c018.txt  \n",
            "  inflating: ./butterfly-spider/butterfly-spider/train/labels/ea36b70f2bf1093ed1584d05fb1d4e9fe777ead218ac104497f5c97ca5edb3bd_640_jpg.rf.9580bd7f42b63763d407c24b85c92939.txt  \n",
            "  inflating: ./butterfly-spider/butterfly-spider/train/labels/ea36b90d2ef7043ed1584d05fb1d4e9fe777ead218ac104497f5c97ca5edb3bd_640_jpg.rf.0a6a0dea1e269575e410ac47e9c7effa.txt  \n",
            "  inflating: ./butterfly-spider/butterfly-spider/train/labels/ea36b90d2ef7043ed1584d05fb1d4e9fe777ead218ac104497f5c97ca5edb3bd_640_jpg.rf.2c495246bf8afc779db871e540b15e20.txt  \n",
            "  inflating: ./butterfly-spider/butterfly-spider/train/labels/ea36b90d2ef7043ed1584d05fb1d4e9fe777ead218ac104497f5c97ca5edb3bd_640_jpg.rf.83c074cb8f0ca023a49c88e2d6070113.txt  \n",
            "  inflating: ./butterfly-spider/butterfly-spider/train/labels/ea37b0072df0083ed1584d05fb1d4e9fe777ead218ac104497f5c97faeebb5bb_640_jpg.rf.1c858d1e10bbbb005697b06954f17fb6.txt  \n",
            "  inflating: ./butterfly-spider/butterfly-spider/train/labels/ea37b0072df0083ed1584d05fb1d4e9fe777ead218ac104497f5c97faeebb5bb_640_jpg.rf.bb1425009d02ec05f2177ff18ea2c4a1.txt  \n",
            "  inflating: ./butterfly-spider/butterfly-spider/train/labels/ea37b0072df0083ed1584d05fb1d4e9fe777ead218ac104497f5c97faeebb5bb_640_jpg.rf.bbf2688d9872a5b8b549ee0509accabe.txt  \n",
            "  inflating: ./butterfly-spider/butterfly-spider/train/labels/ea37b0082bf6083ed1584d05fb1d4e9fe777ead218ac104497f5c97faee9bdba_640_jpg.rf.532a722d13ae8d46573c2a4ef63e076a.txt  \n",
            "  inflating: ./butterfly-spider/butterfly-spider/train/labels/ea37b0082bf6083ed1584d05fb1d4e9fe777ead218ac104497f5c97faee9bdba_640_jpg.rf.a9711bfa6b350f720a243fe988ef1e27.txt  \n",
            "  inflating: ./butterfly-spider/butterfly-spider/train/labels/ea37b0082bf6083ed1584d05fb1d4e9fe777ead218ac104497f5c97faee9bdba_640_jpg.rf.c5bb8f340b7b2ab7194eebe9046c6c6b.txt  \n",
            "  inflating: ./butterfly-spider/butterfly-spider/train/labels/ea37b00921f3043ed1584d05fb1d4e9fe777ead218ac104497f5c97ca5edb3bd_640_jpg.rf.3ecba23ee90cb7255140aad250387df3.txt  \n",
            "  inflating: ./butterfly-spider/butterfly-spider/train/labels/ea37b00921f3043ed1584d05fb1d4e9fe777ead218ac104497f5c97ca5edb3bd_640_jpg.rf.537302f33b3082b43338e31fe80573c4.txt  \n",
            "  inflating: ./butterfly-spider/butterfly-spider/train/labels/ea37b00921f3043ed1584d05fb1d4e9fe777ead218ac104497f5c97ca5edb3bd_640_jpg.rf.cb684e436bf245a513568cf3e59a05e3.txt  \n",
            "  inflating: ./butterfly-spider/butterfly-spider/train/labels/ea37b00a2ef7093ed1584d05fb1d4e9fe777ead218ac104497f5c97ca5edb3bd_640_jpg.rf.42824ac6db5e3f9d0a10000309ed81ef.txt  \n",
            "  inflating: ./butterfly-spider/butterfly-spider/train/labels/ea37b00a2ef7093ed1584d05fb1d4e9fe777ead218ac104497f5c97ca5edb3bd_640_jpg.rf.a267145d85ff5136f9f571db79e4efc0.txt  \n",
            "  inflating: ./butterfly-spider/butterfly-spider/train/labels/ea37b10a20f0043ed1584d05fb1d4e9fe777ead218ac104497f5c97ca5edb3bd_640_jpg.rf.01aae3a5700aca6dc2afa7fcc662de53.txt  \n",
            "  inflating: ./butterfly-spider/butterfly-spider/train/labels/ea37b10a20f0043ed1584d05fb1d4e9fe777ead218ac104497f5c97ca5edb3bd_640_jpg.rf.a81439c5e5dd15e0929693d39db3051e.txt  \n",
            "  inflating: ./butterfly-spider/butterfly-spider/train/labels/ea37b10a20f0043ed1584d05fb1d4e9fe777ead218ac104497f5c97ca5edb3bd_640_jpg.rf.c8d573b64edfe537d532edad9955bfe3.txt  \n",
            "  inflating: ./butterfly-spider/butterfly-spider/train/labels/ea37b10a2cfd023ed1584d05fb1d4e9fe777ead218ac104497f5c97faeebb5bb_640_jpg.rf.981c641dd35c3700505ec5964477d69a.txt  \n",
            "  inflating: ./butterfly-spider/butterfly-spider/train/labels/ea37b10a2cfd023ed1584d05fb1d4e9fe777ead218ac104497f5c97faeebb5bb_640_jpg.rf.a75eebdef764ceea121f056581ffd074.txt  \n",
            "  inflating: ./butterfly-spider/butterfly-spider/train/labels/ea37b10a2cfd023ed1584d05fb1d4e9fe777ead218ac104497f5c97faeebb5bb_640_jpg.rf.c524d763e01c6cd3d991289c72646ea7.txt  \n",
            "  inflating: ./butterfly-spider/butterfly-spider/train/labels/ea37b10e21f2013ed1584d05fb1d4e9fe777ead218ac104497f5c97ca5ecb5b1_640_jpg.rf.5cac21a5b5a2e77a1a1ecfad7f2b3ab5.txt  \n",
            "  inflating: ./butterfly-spider/butterfly-spider/train/labels/ea37b10e21f2013ed1584d05fb1d4e9fe777ead218ac104497f5c97ca5ecb5b1_640_jpg.rf.7cf446f4de31c48e0b692aa2b4e14e4f.txt  \n",
            "  inflating: ./butterfly-spider/butterfly-spider/train/labels/ea37b10e21f2013ed1584d05fb1d4e9fe777ead218ac104497f5c97ca5ecb5b1_640_jpg.rf.cb76f58c3406e83d407182dc6f1b4e50.txt  \n",
            "  inflating: ./butterfly-spider/butterfly-spider/train/labels/ea37b10e21fd003ed1584d05fb1d4e9fe777ead218ac104497f5c97faeebb5bb_640_jpg.rf.5aacc7f3dc43161537b8acb7c1f95032.txt  \n",
            "  inflating: ./butterfly-spider/butterfly-spider/train/labels/ea37b10e21fd003ed1584d05fb1d4e9fe777ead218ac104497f5c97faeebb5bb_640_jpg.rf.8669fd592ce842eb761681e3229af241.txt  \n",
            "  inflating: ./butterfly-spider/butterfly-spider/train/labels/ea37b10e21fd003ed1584d05fb1d4e9fe777ead218ac104497f5c97faeebb5bb_640_jpg.rf.922f21545a0e8585310d8654610dfdb1.txt  \n",
            "  inflating: ./butterfly-spider/butterfly-spider/train/labels/ea37b20728f5023ed1584d05fb1d4e9fe777ead218ac104497f5c97faee9bdba_640_jpg.rf.3169855246f8b05dc3ac0f5ab0e20d11.txt  \n",
            "  inflating: ./butterfly-spider/butterfly-spider/train/labels/ea37b20728f5023ed1584d05fb1d4e9fe777ead218ac104497f5c97faee9bdba_640_jpg.rf.4d82d2d5526a85e6025ae08168685f25.txt  \n",
            "  inflating: ./butterfly-spider/butterfly-spider/train/labels/ea37b20728f5023ed1584d05fb1d4e9fe777ead218ac104497f5c97faee9bdba_640_jpg.rf.5467958d20e52d4024d6fceae6c6cef9.txt  \n",
            "  inflating: ./butterfly-spider/butterfly-spider/train/labels/ea37b2072bf6083ed1584d05fb1d4e9fe777ead218ac104497f5c97faeebb5bb_640_jpg.rf.8bd47b378a8b4b1490f63294954a3625.txt  \n",
            "  inflating: ./butterfly-spider/butterfly-spider/train/labels/ea37b2072bf6083ed1584d05fb1d4e9fe777ead218ac104497f5c97faeebb5bb_640_jpg.rf.d07fca0b92f96e82c79af1fe09fdbb50.txt  \n",
            "  inflating: ./butterfly-spider/butterfly-spider/train/labels/ea37b2072bf6083ed1584d05fb1d4e9fe777ead218ac104497f5c97faeebb5bb_640_jpg.rf.f94595b9cfb65b20988f34f830a69bae.txt  \n",
            "  inflating: ./butterfly-spider/butterfly-spider/train/labels/ea37b20820f7013ed1584d05fb1d4e9fe777ead218ac104497f5c97faee8b1b8_640_jpg.rf.426d157902440cae1656566449dad15d.txt  \n",
            "  inflating: ./butterfly-spider/butterfly-spider/train/labels/ea37b20820f7013ed1584d05fb1d4e9fe777ead218ac104497f5c97faee8b1b8_640_jpg.rf.751dd6ed9dd9fddca22a33b14744a50f.txt  \n",
            "  inflating: ./butterfly-spider/butterfly-spider/train/labels/ea37b20820f7013ed1584d05fb1d4e9fe777ead218ac104497f5c97faee8b1b8_640_jpg.rf.cf942c0684b3d94e00789b616c4ff575.txt  \n",
            "  inflating: ./butterfly-spider/butterfly-spider/train/labels/ea37b20a20f3013ed1584d05fb1d4e9fe777ead218ac104497f5c97ca5edb3bd_640_jpg.rf.8784134d803c8bf2b0c33a815659f716.txt  \n",
            "  inflating: ./butterfly-spider/butterfly-spider/train/labels/ea37b20a20f3013ed1584d05fb1d4e9fe777ead218ac104497f5c97ca5edb3bd_640_jpg.rf.a9acf3c1a2ec26cefb98358b67ccd8f0.txt  \n",
            "  inflating: ./butterfly-spider/butterfly-spider/train/labels/ea37b20a20f3013ed1584d05fb1d4e9fe777ead218ac104497f5c97ca5edb3bd_640_jpg.rf.ae0265f9535be3e5c518c4b09df2cf9d.txt  \n",
            "  inflating: ./butterfly-spider/butterfly-spider/train/labels/ea37b20d2bfc063ed1584d05fb1d4e9fe777ead218ac104497f5c97faee8b1b8_640_jpg.rf.88d5a741993d6acdd525d0d95d5c27ce.txt  \n",
            "  inflating: ./butterfly-spider/butterfly-spider/train/labels/ea37b20d2bfc063ed1584d05fb1d4e9fe777ead218ac104497f5c97faee8b1b8_640_jpg.rf.f2292115e99edd91ab95aeed82f04c54.txt  \n",
            "  inflating: ./butterfly-spider/butterfly-spider/train/labels/ea37b20d2bfc063ed1584d05fb1d4e9fe777ead218ac104497f5c97faee8b1b8_640_jpg.rf.f2b9e5d17950c807511f8e16187181df.txt  \n",
            "  inflating: ./butterfly-spider/butterfly-spider/train/labels/ea37b20d2cf5063ed1584d05fb1d4e9fe777ead218ac104497f5c97faee9bdba_640_jpg.rf.02d975bd31d7d9fa7ae0bcb04cffb211.txt  \n",
            "  inflating: ./butterfly-spider/butterfly-spider/train/labels/ea37b20d2cf5063ed1584d05fb1d4e9fe777ead218ac104497f5c97faee9bdba_640_jpg.rf.37bc55999461f70c740b85222cfa0abb.txt  \n",
            "  inflating: ./butterfly-spider/butterfly-spider/train/labels/ea37b20d2cf5063ed1584d05fb1d4e9fe777ead218ac104497f5c97faee9bdba_640_jpg.rf.b82d77281e9bafb4b4b9648dd937252c.txt  \n",
            "  inflating: ./butterfly-spider/butterfly-spider/train/labels/ea37b30929f6093ed1584d05fb1d4e9fe777ead218ac104497f5c97faee9bdba_640_jpg.rf.35707ad83aa65f3978b083639323eed3.txt  \n",
            "  inflating: ./butterfly-spider/butterfly-spider/train/labels/ea37b30929f6093ed1584d05fb1d4e9fe777ead218ac104497f5c97faee9bdba_640_jpg.rf.e674724479107943887d244b342d8337.txt  \n",
            "  inflating: ./butterfly-spider/butterfly-spider/train/labels/ea37b30929f6093ed1584d05fb1d4e9fe777ead218ac104497f5c97faee9bdba_640_jpg.rf.fa4a79d2895c7e655c063f64f8ef2d1b.txt  \n",
            "  inflating: ./butterfly-spider/butterfly-spider/train/labels/ea37b30b2af4073ed1584d05fb1d4e9fe777ead218ac104497f5c97faee9bdba_640_jpg.rf.4132072a17af67d79351f720e6774133.txt  \n",
            "  inflating: ./butterfly-spider/butterfly-spider/train/labels/ea37b30b2af4073ed1584d05fb1d4e9fe777ead218ac104497f5c97faee9bdba_640_jpg.rf.642fb5904cb46a89ce8692421bb0e50c.txt  \n",
            "  inflating: ./butterfly-spider/butterfly-spider/train/labels/ea37b30b2af4073ed1584d05fb1d4e9fe777ead218ac104497f5c97faee9bdba_640_jpg.rf.89df04c6cfe8b4afc3a28f314a296a06.txt  \n",
            "  inflating: ./butterfly-spider/butterfly-spider/train/labels/ea37b40b29fd063ed1584d05fb1d4e9fe777ead218ac104497f5c97ca5edb3bd_640_jpg.rf.226176e79b8a692819705d5b92902de4.txt  \n",
            "  inflating: ./butterfly-spider/butterfly-spider/train/labels/ea37b40b29fd063ed1584d05fb1d4e9fe777ead218ac104497f5c97ca5edb3bd_640_jpg.rf.b1fa3d776088aeefe3b5574bd28028fb.txt  \n",
            "  inflating: ./butterfly-spider/butterfly-spider/train/labels/ea37b40b29fd063ed1584d05fb1d4e9fe777ead218ac104497f5c97ca5edb3bd_640_jpg.rf.ee1325efc2f4187339ea3d5951a9b922.txt  \n",
            "  inflating: ./butterfly-spider/butterfly-spider/train/labels/ea37b40d2bfd073ed1584d05fb1d4e9fe777ead218ac104497f5c97faeebb5bb_640_jpg.rf.1e04eac2e859aedbd7e38565b6f55338.txt  \n",
            "  inflating: ./butterfly-spider/butterfly-spider/train/labels/ea37b40d2bfd073ed1584d05fb1d4e9fe777ead218ac104497f5c97faeebb5bb_640_jpg.rf.314c17cf1c6e2aaddf0b9de7a7d87821.txt  \n",
            "  inflating: ./butterfly-spider/butterfly-spider/train/labels/ea37b40d2bfd073ed1584d05fb1d4e9fe777ead218ac104497f5c97faeebb5bb_640_jpg.rf.a32579470d07cd44ebfd8d593b4bb656.txt  \n",
            "  inflating: ./butterfly-spider/butterfly-spider/train/labels/ea37b40f2ff2033ed1584d05fb1d4e9fe777ead218ac104497f5c97ca5edb3bd_640_jpg.rf.02c1fe91336bc2bf6c39e910d7bb3c77.txt  \n",
            "  inflating: ./butterfly-spider/butterfly-spider/train/labels/ea37b40f2ff2033ed1584d05fb1d4e9fe777ead218ac104497f5c97ca5edb3bd_640_jpg.rf.85c4cfa93d96c9dce3f3a53dcd755063.txt  \n",
            "  inflating: ./butterfly-spider/butterfly-spider/train/labels/ea37b40f2ff2033ed1584d05fb1d4e9fe777ead218ac104497f5c97ca5edb3bd_640_jpg.rf.bfe16cf558a79eaeaabc1e8b97e0b363.txt  \n",
            "  inflating: ./butterfly-spider/butterfly-spider/train/labels/ea37b50628f1023ed1584d05fb1d4e9fe777ead218ac104497f5c97faee8b1b8_640_jpg.rf.8e0cde2ce132f916288dd9dbf21dc004.txt  \n",
            "  inflating: ./butterfly-spider/butterfly-spider/train/labels/ea37b50628f1023ed1584d05fb1d4e9fe777ead218ac104497f5c97faee8b1b8_640_jpg.rf.b34429bd857a21d0aa67da8d79efe725.txt  \n",
            "  inflating: ./butterfly-spider/butterfly-spider/train/labels/ea37b50628f1023ed1584d05fb1d4e9fe777ead218ac104497f5c97faee8b1b8_640_jpg.rf.d72b25cbf0281f2060aa1e8cb2ea26b9.txt  \n",
            "  inflating: ./butterfly-spider/butterfly-spider/train/labels/ea37b5062ff0003ed1584d05fb1d4e9fe777ead218ac104497f5c97ca5ecb5b1_640_jpg.rf.485ecf430bd3d923939d75a16472e472.txt  \n",
            "  inflating: ./butterfly-spider/butterfly-spider/train/labels/ea37b5062ff0003ed1584d05fb1d4e9fe777ead218ac104497f5c97ca5ecb5b1_640_jpg.rf.754bec3a97c75e1c1699c805a73a642a.txt  \n",
            "  inflating: ./butterfly-spider/butterfly-spider/train/labels/ea37b5062ff0003ed1584d05fb1d4e9fe777ead218ac104497f5c97ca5ecb5b1_640_jpg.rf.87268ab7dfe4a523e8fc45af7cfa8924.txt  \n",
            "  inflating: ./butterfly-spider/butterfly-spider/train/labels/ea37b5072dfc053ed1584d05fb1d4e9fe777ead218ac104497f5c97ca5ecb5b1_640_jpg.rf.59b8249b0dfa20ce21117d253811a932.txt  \n",
            "  inflating: ./butterfly-spider/butterfly-spider/train/labels/ea37b5072dfc053ed1584d05fb1d4e9fe777ead218ac104497f5c97ca5ecb5b1_640_jpg.rf.708a1f24d40f5c76e499f61b9e89af24.txt  \n",
            "  inflating: ./butterfly-spider/butterfly-spider/train/labels/ea37b5072dfc053ed1584d05fb1d4e9fe777ead218ac104497f5c97ca5ecb5b1_640_jpg.rf.d745fe5d602a551c21068a7fd9081b75.txt  \n",
            "  inflating: ./butterfly-spider/butterfly-spider/train/labels/ea37b50d2bf0063ed1584d05fb1d4e9fe777ead218ac104497f5c97faee9bdba_640_jpg.rf.135e419cd94de548109d4cf3f57d6ac4.txt  \n",
            "  inflating: ./butterfly-spider/butterfly-spider/train/labels/ea37b50d2bf0063ed1584d05fb1d4e9fe777ead218ac104497f5c97faee9bdba_640_jpg.rf.d17189fc7d92e7819993d091974b082a.txt  \n",
            "  inflating: ./butterfly-spider/butterfly-spider/train/labels/ea37b50d2bf0063ed1584d05fb1d4e9fe777ead218ac104497f5c97faee9bdba_640_jpg.rf.ed093c34ae04deaa51465f1dc94e546c.txt  \n",
            "  inflating: ./butterfly-spider/butterfly-spider/train/labels/ea37b60b2af4053ed1584d05fb1d4e9fe777ead218ac104497f5c97faee9bdba_640_jpg.rf.89754e2e669feb6df810a4d883f88417.txt  \n",
            "  inflating: ./butterfly-spider/butterfly-spider/train/labels/ea37b60b2af4053ed1584d05fb1d4e9fe777ead218ac104497f5c97faee9bdba_640_jpg.rf.8a079374ff8e2837db1b717e464c0f3a.txt  \n",
            "  inflating: ./butterfly-spider/butterfly-spider/train/labels/ea37b60b2af4053ed1584d05fb1d4e9fe777ead218ac104497f5c97faee9bdba_640_jpg.rf.8ce852bca38c0946c2ec1c87ede7e26e.txt  \n",
            "  inflating: ./butterfly-spider/butterfly-spider/train/labels/ea37b60b2bf0083ed1584d05fb1d4e9fe777ead218ac104497f5c97faee9bdba_640_jpg.rf.3ff952df466e282f9c99dc863897b522.txt  \n",
            "  inflating: ./butterfly-spider/butterfly-spider/train/labels/ea37b60b2bf0083ed1584d05fb1d4e9fe777ead218ac104497f5c97faee9bdba_640_jpg.rf.cb9585bc6eb4d771603753c486335546.txt  \n",
            "  inflating: ./butterfly-spider/butterfly-spider/train/labels/ea37b60b2bf0083ed1584d05fb1d4e9fe777ead218ac104497f5c97faee9bdba_640_jpg.rf.ce280aa3a3a956ae0da2cf337ff4a863.txt  \n",
            "  inflating: ./butterfly-spider/butterfly-spider/train/labels/ea37b60f29f7013ed1584d05fb1d4e9fe777ead218ac104497f5c97faee9bdba_640_jpg.rf.2048650fce49ae50d993b729fe112d1f.txt  \n",
            "  inflating: ./butterfly-spider/butterfly-spider/train/labels/ea37b60f29f7013ed1584d05fb1d4e9fe777ead218ac104497f5c97faee9bdba_640_jpg.rf.4cc365d26851ae8e9fbe3d62649f0557.txt  \n",
            "  inflating: ./butterfly-spider/butterfly-spider/train/labels/ea37b60f29f7013ed1584d05fb1d4e9fe777ead218ac104497f5c97faee9bdba_640_jpg.rf.81af28062354219f4219cd302f8ad3df.txt  \n",
            "  inflating: ./butterfly-spider/butterfly-spider/train/labels/ea37b60f2ef2083ed1584d05fb1d4e9fe777ead218ac104497f5c97faee8b1b8_640_jpg.rf.545984cd9787ee15564451fc248925f7.txt  \n",
            "  inflating: ./butterfly-spider/butterfly-spider/train/labels/ea37b60f2ef2083ed1584d05fb1d4e9fe777ead218ac104497f5c97faee8b1b8_640_jpg.rf.750d9ab352d2ca96bbcaec728f859b13.txt  \n",
            "  inflating: ./butterfly-spider/butterfly-spider/train/labels/ea37b60f2ef2083ed1584d05fb1d4e9fe777ead218ac104497f5c97faee8b1b8_640_jpg.rf.76506e3fe0bd3910c9d8e5d006b2530e.txt  \n",
            "  inflating: ./butterfly-spider/butterfly-spider/train/labels/ea37b70b20fd003ed1584d05fb1d4e9fe777ead218ac104497f5c97faeebb5bb_640_jpg.rf.83ebe2747c5564d3c37685f433f539ed.txt  \n",
            "  inflating: ./butterfly-spider/butterfly-spider/train/labels/ea37b70b20fd003ed1584d05fb1d4e9fe777ead218ac104497f5c97faeebb5bb_640_jpg.rf.bcc7691014eb59ec5d8a5be3f2707ef7.txt  \n",
            "  inflating: ./butterfly-spider/butterfly-spider/train/labels/ea37b70b20fd003ed1584d05fb1d4e9fe777ead218ac104497f5c97faeebb5bb_640_jpg.rf.c7cdfbe7af078331404bee9d778aa216.txt  \n",
            "  inflating: ./butterfly-spider/butterfly-spider/train/labels/ea37b80629f7023ed1584d05fb1d4e9fe777ead218ac104497f5c97ca5edb3bd_640_jpg.rf.1b8a0e2e1646fbd6ab1b0c5ca17b45c5.txt  \n",
            "  inflating: ./butterfly-spider/butterfly-spider/train/labels/ea37b80629f7023ed1584d05fb1d4e9fe777ead218ac104497f5c97ca5edb3bd_640_jpg.rf.76c4ac4b93c7927cfb9bebb85998c0cb.txt  \n",
            "  inflating: ./butterfly-spider/butterfly-spider/train/labels/ea37b80629f7023ed1584d05fb1d4e9fe777ead218ac104497f5c97ca5edb3bd_640_jpg.rf.e74ded762145176af87a0a61f4de86e4.txt  \n",
            "  inflating: ./butterfly-spider/butterfly-spider/train/labels/ea37b8082df4093ed1584d05fb1d4e9fe777ead218ac104497f5c97ca5edb3bd_640_jpg.rf.84c6e196bb5ae3d494d97248a5579548.txt  \n",
            "  inflating: ./butterfly-spider/butterfly-spider/train/labels/ea37b8082df4093ed1584d05fb1d4e9fe777ead218ac104497f5c97ca5edb3bd_640_jpg.rf.999ad3624bc6a5b53ac4925a8f6192d6.txt  \n",
            "  inflating: ./butterfly-spider/butterfly-spider/train/labels/ea37b8082df4093ed1584d05fb1d4e9fe777ead218ac104497f5c97ca5edb3bd_640_jpg.rf.d49bab4c6f612522a7aa72bf14d4fe18.txt  \n",
            "  inflating: ./butterfly-spider/butterfly-spider/train/labels/ea37b80f2bf1013ed1584d05fb1d4e9fe777ead218ac104497f5c97ca5edb3bd_640_jpg.rf.117e64966de9ef5ebe6cf650335f137b.txt  \n",
            "  inflating: ./butterfly-spider/butterfly-spider/train/labels/ea37b80f2bf1013ed1584d05fb1d4e9fe777ead218ac104497f5c97ca5edb3bd_640_jpg.rf.36b77dafb4e17486f7cda21e6ac9cb34.txt  \n",
            "  inflating: ./butterfly-spider/butterfly-spider/train/labels/ea37b80f2bf1013ed1584d05fb1d4e9fe777ead218ac104497f5c97ca5edb3bd_640_jpg.rf.60bca5b492e167464e354db91cfda861.txt  \n",
            "  inflating: ./butterfly-spider/butterfly-spider/train/labels/ea37b80f2dfd1c22d2524518b7444f92e37fe5d404b0144390f8c770a1edb6_640_jpg.rf.22d5c3ecbc219b61ccc370730a47d0ad.txt  \n",
            "  inflating: ./butterfly-spider/butterfly-spider/train/labels/ea37b80f2dfd1c22d2524518b7444f92e37fe5d404b0144390f8c770a1edb6_640_jpg.rf.42e1f51f61ac35cf2ba2072ce4f1044f.txt  \n",
            "  inflating: ./butterfly-spider/butterfly-spider/train/labels/ea37b80f2dfd1c22d2524518b7444f92e37fe5d404b0144390f8c770a1edb6_640_jpg.rf.a6c27281a12aad07b166b1e774fa542e.txt  \n",
            "  inflating: ./butterfly-spider/butterfly-spider/train/labels/ea37b9062bf7053ed1584d05fb1d4e9fe777ead218ac104497f5c97ca5edb3bd_640_jpg.rf.283d660377b63f7db5d1f616215d02da.txt  \n",
            "  inflating: ./butterfly-spider/butterfly-spider/train/labels/ea37b9062bf7053ed1584d05fb1d4e9fe777ead218ac104497f5c97ca5edb3bd_640_jpg.rf.3eb340dd5311b8a63b7729b3b853d3ae.txt  \n",
            "  inflating: ./butterfly-spider/butterfly-spider/train/labels/ea37b9062bf7053ed1584d05fb1d4e9fe777ead218ac104497f5c97ca5edb3bd_640_jpg.rf.c9c6dcf3c5508d0dd3c0a00ccb678322.txt  \n",
            "  inflating: ./butterfly-spider/butterfly-spider/train/labels/ea37b90721f4043ed1584d05fb1d4e9fe777ead218ac104497f5c97faee8b1b8_640_jpg.rf.002bdacf3ff77f2c3f88772db8a92e0d.txt  \n",
            "  inflating: ./butterfly-spider/butterfly-spider/train/labels/ea37b90721f4043ed1584d05fb1d4e9fe777ead218ac104497f5c97faee8b1b8_640_jpg.rf.1d0843dca6535877a63085bae2eadeb0.txt  \n",
            "  inflating: ./butterfly-spider/butterfly-spider/train/labels/ea37b90721f4043ed1584d05fb1d4e9fe777ead218ac104497f5c97faee8b1b8_640_jpg.rf.4f9afee0e20b2bdc5fa399f26a892288.txt  \n",
            "  inflating: ./butterfly-spider/butterfly-spider/train/labels/ea37b9072af7043ed1584d05fb1d4e9fe777ead218ac104497f5c97ca5edb3bd_640_jpg.rf.038c19d21db90ed0482573a61b54b764.txt  \n",
            "  inflating: ./butterfly-spider/butterfly-spider/train/labels/ea37b9072af7043ed1584d05fb1d4e9fe777ead218ac104497f5c97ca5edb3bd_640_jpg.rf.325b1d6839bb1be2ade9da231de5bbd9.txt  \n",
            "  inflating: ./butterfly-spider/butterfly-spider/train/labels/ea37b9072af7043ed1584d05fb1d4e9fe777ead218ac104497f5c97ca5edb3bd_640_jpg.rf.735e8165e40c2f20454a1f6c84b4c401.txt  \n",
            "  inflating: ./butterfly-spider/butterfly-spider/train/labels/ea37b90821f0013ed1584d05fb1d4e9fe777ead218ac104497f5c97ca5edb3bd_640_jpg.rf.d4a0e705cf8ae32ca0cc217606b4933b.txt  \n",
            "  inflating: ./butterfly-spider/butterfly-spider/train/labels/ea37b90821f0013ed1584d05fb1d4e9fe777ead218ac104497f5c97ca5edb3bd_640_jpg.rf.e8095586746d76962ef1666b22d6fcb7.txt  \n",
            "  inflating: ./butterfly-spider/butterfly-spider/train/labels/ea37b90821f0013ed1584d05fb1d4e9fe777ead218ac104497f5c97ca5edb3bd_640_jpg.rf.eff4bcd6f312d9913e9d7998e81173dd.txt  \n",
            "  inflating: ./butterfly-spider/butterfly-spider/train/labels/ea37b90e2bfd063ed1584d05fb1d4e9fe777ead218ac104497f5c97faeebb5bb_640_jpg.rf.78cea386a3a867682d428a4832053795.txt  \n",
            "  inflating: ./butterfly-spider/butterfly-spider/train/labels/ea37b90e2bfd063ed1584d05fb1d4e9fe777ead218ac104497f5c97faeebb5bb_640_jpg.rf.bb8ae4f738491f70311630b6a9388426.txt  \n",
            "  inflating: ./butterfly-spider/butterfly-spider/train/labels/ea37b90e2bfd063ed1584d05fb1d4e9fe777ead218ac104497f5c97faeebb5bb_640_jpg.rf.e5abb5ea234a935bb877478c19351d46.txt  \n",
            "  inflating: ./butterfly-spider/butterfly-spider/train/labels/ea37b90e2df4063ed1584d05fb1d4e9fe777ead218ac104497f5c97ca5edb3bd_640_jpg.rf.07ab5e8ebc16a6269e667e900c494b26.txt  \n",
            "  inflating: ./butterfly-spider/butterfly-spider/train/labels/ea37b90e2df4063ed1584d05fb1d4e9fe777ead218ac104497f5c97ca5edb3bd_640_jpg.rf.69336e3b870566bcf2973c4c6461fc58.txt  \n",
            "  inflating: ./butterfly-spider/butterfly-spider/train/labels/ea37b90e2df4063ed1584d05fb1d4e9fe777ead218ac104497f5c97ca5edb3bd_640_jpg.rf.882a895a7c8659ea28c6e00f6006a97f.txt  \n",
            "  inflating: ./butterfly-spider/butterfly-spider/train/labels/ea3db70b2af31c22d2524518b7444f92e37fe5d404b0144390f8c47ba6ebb4_640_jpg.rf.9f498da6dcc1b0d877dad09cf694bb67.txt  \n",
            "  inflating: ./butterfly-spider/butterfly-spider/train/labels/ea3db70b2af31c22d2524518b7444f92e37fe5d404b0144390f8c47ba6ebb4_640_jpg.rf.bf150c31ed139b880d8d0437b0dec902.txt  \n",
            "  inflating: ./butterfly-spider/butterfly-spider/train/labels/ea3db70b2af31c22d2524518b7444f92e37fe5d404b0144390f8c47ba6ebb4_640_jpg.rf.cffc95db14ee8714af5ff8f7e5181605.txt  \n",
            " extracting: ./butterfly-spider/butterfly-spider/train/labels/ea3db80c2af51c22d2524518b7444f92e37fe5d404b0144390f8c47ba6ebb4_640_jpg.rf.80603fc6c2fb3a705e933c72ba8132b8.txt  \n",
            " extracting: ./butterfly-spider/butterfly-spider/train/labels/ea3db80c2af51c22d2524518b7444f92e37fe5d404b0144390f8c47ba6ebb4_640_jpg.rf.aa292bb1962da14749e66291a1617cb7.txt  \n",
            " extracting: ./butterfly-spider/butterfly-spider/train/labels/ea3db80c2af51c22d2524518b7444f92e37fe5d404b0144390f8c47ba6ebb4_640_jpg.rf.f0b143aea1c67ddcea19177e3287624e.txt  \n",
            "  inflating: ./butterfly-spider/butterfly-spider/train/labels/eb31b3092bfc003ed1584d05fb1d4e9fe777ead218ac104497f5c97faeebb5bb_640_jpg.rf.ae7baa19c73712fc20b9751bd971b9fb.txt  \n",
            "  inflating: ./butterfly-spider/butterfly-spider/train/labels/eb31b3092bfc003ed1584d05fb1d4e9fe777ead218ac104497f5c97faeebb5bb_640_jpg.rf.ba70a268c165fbc755cdd0fac0ee56d3.txt  \n",
            "  inflating: ./butterfly-spider/butterfly-spider/train/labels/eb31b3092bfc003ed1584d05fb1d4e9fe777ead218ac104497f5c97faeebb5bb_640_jpg.rf.c22c0deab39f88ecdb8f59145c549529.txt  \n",
            "  inflating: ./butterfly-spider/butterfly-spider/train/labels/eb31b50d2af0053ed1584d05fb1d4e9fe777ead218ac104497f5c97faeebb5bb_640_jpg.rf.73e2a1670f7aca037809e7bbd980f80a.txt  \n",
            "  inflating: ./butterfly-spider/butterfly-spider/train/labels/eb31b50d2af0053ed1584d05fb1d4e9fe777ead218ac104497f5c97faeebb5bb_640_jpg.rf.a702ac34322b8c9084df66db56e79057.txt  \n",
            "  inflating: ./butterfly-spider/butterfly-spider/train/labels/eb31b50d2af0053ed1584d05fb1d4e9fe777ead218ac104497f5c97faeebb5bb_640_jpg.rf.c39d016c8ac043116a50194d12ee8a09.txt  \n",
            "  inflating: ./butterfly-spider/butterfly-spider/train/labels/eb32b20c2afc063ed1584d05fb1d4e9fe777ead218ac104497f5c97faee9bdba_640_jpg.rf.0c3f0035fff988f4ba4880945eac377f.txt  \n",
            "  inflating: ./butterfly-spider/butterfly-spider/train/labels/eb32b20c2afc063ed1584d05fb1d4e9fe777ead218ac104497f5c97faee9bdba_640_jpg.rf.2ac4ecbfdd29efd503ca3b822eb61e2a.txt  \n",
            "  inflating: ./butterfly-spider/butterfly-spider/train/labels/eb32b20c2afc063ed1584d05fb1d4e9fe777ead218ac104497f5c97faee9bdba_640_jpg.rf.a6ed9c52a7480a96998d8b3f3fd54173.txt  \n",
            "  inflating: ./butterfly-spider/butterfly-spider/train/labels/eb32b70f21f2013ed1584d05fb1d4e9fe777ead218ac104497f5c97faeebb5bb_640_png.rf.513e3c38ca41d3640bec08fd32c9f60f.txt  \n",
            "  inflating: ./butterfly-spider/butterfly-spider/train/labels/eb32b70f21f2013ed1584d05fb1d4e9fe777ead218ac104497f5c97faeebb5bb_640_png.rf.8082cf08d994732746a86051063e9a6e.txt  \n",
            "  inflating: ./butterfly-spider/butterfly-spider/train/labels/eb32b70f21f2013ed1584d05fb1d4e9fe777ead218ac104497f5c97faeebb5bb_640_png.rf.fd87f0d26bd9ba1c3c1d739f7fae5649.txt  \n",
            "  inflating: ./butterfly-spider/butterfly-spider/train/labels/eb34b70720fd023ed1584d05fb1d4e9fe777ead218ac104497f5c97faeebb5bb_640_jpg.rf.0ebccba7b7006a0e731bc6bddd07517f.txt  \n",
            "  inflating: ./butterfly-spider/butterfly-spider/train/labels/eb34b70720fd023ed1584d05fb1d4e9fe777ead218ac104497f5c97faeebb5bb_640_jpg.rf.16c76f54a32d5f923c5f8c7294bf0dcb.txt  \n",
            "  inflating: ./butterfly-spider/butterfly-spider/train/labels/eb34b70720fd023ed1584d05fb1d4e9fe777ead218ac104497f5c97faeebb5bb_640_jpg.rf.c5cc9a2075ee306f0addebe4e5539f78.txt  \n",
            "  inflating: ./butterfly-spider/butterfly-spider/train/labels/eb37b70a28f5013ed1584d05fb1d4e9fe777ead218ac104497f5c97faee8b1b8_640_jpg.rf.029d917e52e3375cd12ec04494aae8b3.txt  \n",
            "  inflating: ./butterfly-spider/butterfly-spider/train/labels/eb37b70a28f5013ed1584d05fb1d4e9fe777ead218ac104497f5c97faee8b1b8_640_jpg.rf.7c6c54f84371301dd2fcf584489da480.txt  \n",
            "  inflating: ./butterfly-spider/butterfly-spider/train/labels/eb37b70a28f5013ed1584d05fb1d4e9fe777ead218ac104497f5c97faee8b1b8_640_jpg.rf.ca8085e34d4c7e0229a3d4896552fb16.txt  \n",
            "  inflating: ./butterfly-spider/butterfly-spider/train/labels/eb3db7062ffd033ed1584d05fb1d4e9fe777ead218ac104497f5c97faee8b1b8_640_jpg.rf.065b937ebec4053391f666d00bc8b1ee.txt  \n",
            "  inflating: ./butterfly-spider/butterfly-spider/train/labels/eb3db7062ffd033ed1584d05fb1d4e9fe777ead218ac104497f5c97faee8b1b8_640_jpg.rf.0975a85b02ae51df2072acdad417031a.txt  \n",
            "  inflating: ./butterfly-spider/butterfly-spider/train/labels/eb3db7062ffd033ed1584d05fb1d4e9fe777ead218ac104497f5c97faee8b1b8_640_jpg.rf.3a0a39cd22b16a4f31e7a4cffbe160ec.txt  \n",
            "  inflating: ./butterfly-spider/butterfly-spider/train/labels/ec30b10a2ae90021d85a5854ee454296eb70e3c818b413449df6c87fa7ee_640_jpg.rf.63ebe1efda23a6901302425c656f6df4.txt  \n",
            "  inflating: ./butterfly-spider/butterfly-spider/train/labels/ec30b10a2ae90021d85a5854ee454296eb70e3c818b413449df6c87fa7ee_640_jpg.rf.97847436a572df0b134a35351036d20a.txt  \n",
            "  inflating: ./butterfly-spider/butterfly-spider/train/labels/ec30b10a2ae90021d85a5854ee454296eb70e3c818b413449df6c87fa7ee_640_jpg.rf.9a3bf49e95eaecd35df63a32fb172b04.txt  \n",
            "  inflating: ./butterfly-spider/butterfly-spider/train/labels/ec34b50b21f21c22d2524518b7444f92e37fe5d404b0144390f8c770a3e5b7_640_jpg.rf.69d780d65f5f621e296e84b566f32cab.txt  \n",
            "  inflating: ./butterfly-spider/butterfly-spider/train/labels/ec34b50b21f21c22d2524518b7444f92e37fe5d404b0144390f8c770a3e5b7_640_jpg.rf.80601084bff51cab05600ae0c08a9e0c.txt  \n",
            "  inflating: ./butterfly-spider/butterfly-spider/train/labels/ec34b50b21f21c22d2524518b7444f92e37fe5d404b0144390f8c770a3e5b7_640_jpg.rf.a8ae282ce327699afaf0a01d773c139a.txt  \n",
            "  inflating: ./butterfly-spider/butterfly-spider/train/labels/ed36b10d28f71c22d2524518b7444f92e37fe5d404b0144390f8c770a1edb6_640_jpg.rf.3b20ee6c9f28e2ccadd8ac411b3222bb.txt  \n",
            "  inflating: ./butterfly-spider/butterfly-spider/train/labels/ed36b10d28f71c22d2524518b7444f92e37fe5d404b0144390f8c770a1edb6_640_jpg.rf.979bd2a1436ca3f1692a206849f8ed59.txt  \n",
            "  inflating: ./butterfly-spider/butterfly-spider/train/labels/ed36b10d28f71c22d2524518b7444f92e37fe5d404b0144390f8c770a1edb6_640_jpg.rf.bd6a63875ca877f884b37ddf9e5563dd.txt  \n",
            "  inflating: ./butterfly-spider/butterfly-spider/train/labels/ed3cb00e2ef21c22d2524518b7444f92e37fe5d404b0144390f8c770a3e5b7_640_jpg.rf.2e9177e99b56e197e3c148e6eb8331c1.txt  \n",
            "  inflating: ./butterfly-spider/butterfly-spider/train/labels/ed3cb00e2ef21c22d2524518b7444f92e37fe5d404b0144390f8c770a3e5b7_640_jpg.rf.800bc0424c51519557f93a552ed56d89.txt  \n",
            "  inflating: ./butterfly-spider/butterfly-spider/train/labels/ed3cb00e2ef21c22d2524518b7444f92e37fe5d404b0144390f8c770a3e5b7_640_jpg.rf.db11cf9c95e69018e591a599d5b4cc65.txt  \n",
            "  inflating: ./butterfly-spider/butterfly-spider/train/labels/ee36b5092df01c22d2524518b7444f92e37fe5d404b0144390f8c770a2e9b5_640_jpg.rf.436a7b1da0019a6434587651b5bbcd6e.txt  \n",
            "  inflating: ./butterfly-spider/butterfly-spider/train/labels/ee36b5092df01c22d2524518b7444f92e37fe5d404b0144390f8c770a2e9b5_640_jpg.rf.7942723d528fd7e053f287a4622538f0.txt  \n",
            "  inflating: ./butterfly-spider/butterfly-spider/train/labels/ee36b5092df01c22d2524518b7444f92e37fe5d404b0144390f8c770a2e9b5_640_jpg.rf.a9c7b51fdcebbc3e1142c012ef232b39.txt  \n",
            "  inflating: ./butterfly-spider/butterfly-spider/train/labels/ef34b00e2ef31c22d2524518b7444f92e37fe5d404b0144390f8c770a2e9b5_640_jpg.rf.4cad803250f57486aa04da5a03039a48.txt  \n",
            "  inflating: ./butterfly-spider/butterfly-spider/train/labels/ef34b00e2ef31c22d2524518b7444f92e37fe5d404b0144390f8c770a2e9b5_640_jpg.rf.9e9a6674321b5c00d2a7d6deabfbb8fb.txt  \n",
            "  inflating: ./butterfly-spider/butterfly-spider/train/labels/ef34b00e2ef31c22d2524518b7444f92e37fe5d404b0144390f8c770a2e9b5_640_jpg.rf.f05b1861c0edabe963571c58951d113e.txt  \n",
            "  inflating: ./butterfly-spider/butterfly-spider/train/labels/OIP-y4KpgwUcehzdI2Cw7qBszQHaE8_jpeg.rf.c98904905996b18d666d4e97f4b96fb7.txt  \n",
            "  inflating: ./butterfly-spider/butterfly-spider/train/labels/OIP-y4KpgwUcehzdI2Cw7qBszQHaE8_jpeg.rf.d9e3de09883d89ba2d8f6a8373ff4504.txt  \n",
            "  inflating: ./butterfly-spider/butterfly-spider/train/labels/OIP-y4KpgwUcehzdI2Cw7qBszQHaE8_jpeg.rf.ed52752a74cef5cb2b70810188ce551a.txt  \n",
            "  inflating: ./butterfly-spider/butterfly-spider/train/labels/OIP-Y5_dpYEmm7Gar2Dyn_EZcAHaHa_jpeg.rf.8ee7168955282e41b946476055f1376f.txt  \n",
            "  inflating: ./butterfly-spider/butterfly-spider/train/labels/OIP-Y5_dpYEmm7Gar2Dyn_EZcAHaHa_jpeg.rf.ad0e8614cd494c1371cd5d400148101f.txt  \n",
            "  inflating: ./butterfly-spider/butterfly-spider/train/labels/OIP-Y5_dpYEmm7Gar2Dyn_EZcAHaHa_jpeg.rf.c1d9afefa97d5fdcaf8b9d0ca746e88a.txt  \n",
            "  inflating: ./butterfly-spider/butterfly-spider/train/labels/OIP-y6EyS5UK-itBoMPQexwFCQHaFb_jpeg.rf.10fa33754622929375a878a0be8ce434.txt  \n",
            "  inflating: ./butterfly-spider/butterfly-spider/train/labels/OIP-y6EyS5UK-itBoMPQexwFCQHaFb_jpeg.rf.f777c041426acc64d5c166ab3e06c34c.txt  \n",
            "  inflating: ./butterfly-spider/butterfly-spider/train/labels/OIP-y6N1UO8Z6cRICTs7DEXsbAHaFE_jpeg.rf.aa29a66cc351c8cdbdbea60d2644eb95.txt  \n",
            "  inflating: ./butterfly-spider/butterfly-spider/train/labels/OIP-y6N1UO8Z6cRICTs7DEXsbAHaFE_jpeg.rf.c746e462270aabeadf543d90cc2af748.txt  \n",
            "  inflating: ./butterfly-spider/butterfly-spider/train/labels/OIP-y6N1UO8Z6cRICTs7DEXsbAHaFE_jpeg.rf.cf2d98098f15c463b6ff7773c51f7b75.txt  \n",
            "  inflating: ./butterfly-spider/butterfly-spider/train/labels/OIP-Y6rxRzTTjYf0QFAQNnb0PwHaEK_jpeg.rf.2184588ddf97f8dd60451ad5def990d7.txt  \n",
            "  inflating: ./butterfly-spider/butterfly-spider/train/labels/OIP-Y6rxRzTTjYf0QFAQNnb0PwHaEK_jpeg.rf.e6d78aa994d897d30624f6192c6a901d.txt  \n",
            "  inflating: ./butterfly-spider/butterfly-spider/train/labels/OIP-Y6rxRzTTjYf0QFAQNnb0PwHaEK_jpeg.rf.f4f712a2d632ba8b09964c3ced140260.txt  \n",
            "  inflating: ./butterfly-spider/butterfly-spider/train/labels/OIP-y7ONc_RIBeqYfcRFxNTi6QHaE9_jpeg.rf.5b4df62f7818554fe437211caf386814.txt  \n",
            "  inflating: ./butterfly-spider/butterfly-spider/train/labels/OIP-y7ONc_RIBeqYfcRFxNTi6QHaE9_jpeg.rf.bdedac2aedf1f0d849c3bfe2fd7dc1a3.txt  \n",
            "  inflating: ./butterfly-spider/butterfly-spider/train/labels/OIP-y7ONc_RIBeqYfcRFxNTi6QHaE9_jpeg.rf.fc6d97f6690d03dfd18fea9d529d6b92.txt  \n",
            "  inflating: ./butterfly-spider/butterfly-spider/train/labels/OIP-YA8HxFQTVaOE3MeuoldpIgHaFj_jpeg.rf.8327ab1d3cd48d364637c61a48cf8ee7.txt  \n",
            "  inflating: ./butterfly-spider/butterfly-spider/train/labels/OIP-YA8HxFQTVaOE3MeuoldpIgHaFj_jpeg.rf.a298f3de6ec449d54f52cdeee0e4f1a4.txt  \n",
            "  inflating: ./butterfly-spider/butterfly-spider/train/labels/OIP-YA8HxFQTVaOE3MeuoldpIgHaFj_jpeg.rf.b71e95def35c89ef810aac02100b3480.txt  \n",
            "  inflating: ./butterfly-spider/butterfly-spider/train/labels/OIP-yaateVH_7hxv7C9HiUPqUAHaE8_jpeg.rf.64c34ded4f66345c32b8e54f2eeaee27.txt  \n",
            "  inflating: ./butterfly-spider/butterfly-spider/train/labels/OIP-yaateVH_7hxv7C9HiUPqUAHaE8_jpeg.rf.ce6131809cb6ab55a7145d6e8c7c9a82.txt  \n",
            "  inflating: ./butterfly-spider/butterfly-spider/train/labels/OIP-yaateVH_7hxv7C9HiUPqUAHaE8_jpeg.rf.e561641b3a7f3c6dc47d5ba359ee7eae.txt  \n",
            "  inflating: ./butterfly-spider/butterfly-spider/train/labels/OIP-yaTVwgaziAC5tbx7KUaW0wHaFh_jpeg.rf.040fc2120a01aa8fb22ed16e2f142dbd.txt  \n",
            "  inflating: ./butterfly-spider/butterfly-spider/train/labels/OIP-yaTVwgaziAC5tbx7KUaW0wHaFh_jpeg.rf.6aa4ae3a213d764c7a7a78c5b6ba34f3.txt  \n",
            "  inflating: ./butterfly-spider/butterfly-spider/train/labels/OIP-yaTVwgaziAC5tbx7KUaW0wHaFh_jpeg.rf.d435b3e052ccb04214092d8eb855548e.txt  \n",
            "  inflating: ./butterfly-spider/butterfly-spider/train/labels/OIP-YBPrC8bnUdgXuH62l4EIEAHaEK_jpeg.rf.2c98d7c51848fec7a4a39303edb135ce.txt  \n",
            "  inflating: ./butterfly-spider/butterfly-spider/train/labels/OIP-YBPrC8bnUdgXuH62l4EIEAHaEK_jpeg.rf.3f8f87751cab9d3185ab671080012351.txt  \n",
            "  inflating: ./butterfly-spider/butterfly-spider/train/labels/OIP-YBPrC8bnUdgXuH62l4EIEAHaEK_jpeg.rf.82f4db282c2429b8f11f7cecd57d555e.txt  \n",
            "  inflating: ./butterfly-spider/butterfly-spider/train/labels/OIP-YbqBJUcrCLA8tLHrUYo-OAHaFj_jpeg.rf.9c6d6fb7009dd1edc78d9920a2dd798d.txt  \n",
            "  inflating: ./butterfly-spider/butterfly-spider/train/labels/OIP-YbqBJUcrCLA8tLHrUYo-OAHaFj_jpeg.rf.d2887a6ce33c3f61dee60b1374763d32.txt  \n",
            "  inflating: ./butterfly-spider/butterfly-spider/train/labels/OIP-YbqBJUcrCLA8tLHrUYo-OAHaFj_jpeg.rf.fb389245e9b8276226546b8f687d2712.txt  \n",
            "  inflating: ./butterfly-spider/butterfly-spider/train/labels/OIP-Ycsjzn83iCaqDAKtuAccSAHaFc_jpeg.rf.3959660c83f0084d974c1b98a366c98b.txt  \n",
            "  inflating: ./butterfly-spider/butterfly-spider/train/labels/OIP-Ycsjzn83iCaqDAKtuAccSAHaFc_jpeg.rf.5ae99d1f39ea40b04a8eb36d391ddc86.txt  \n",
            "  inflating: ./butterfly-spider/butterfly-spider/train/labels/OIP-Ycsjzn83iCaqDAKtuAccSAHaFc_jpeg.rf.6725fbba558948ace22fee7469b8c71c.txt  \n",
            "  inflating: ./butterfly-spider/butterfly-spider/train/labels/OIP-YDmNBz4LvjEilNvRb5cDWQHaHa_jpeg.rf.053da9775186505dfde06d63408c628a.txt  \n",
            "  inflating: ./butterfly-spider/butterfly-spider/train/labels/OIP-YDmNBz4LvjEilNvRb5cDWQHaHa_jpeg.rf.6ec25369b2d51f6908e4181af75ab4a0.txt  \n",
            "  inflating: ./butterfly-spider/butterfly-spider/train/labels/OIP-YDmNBz4LvjEilNvRb5cDWQHaHa_jpeg.rf.6fe18b091e13667696aad0509051c698.txt  \n",
            "  inflating: ./butterfly-spider/butterfly-spider/train/labels/OIP-Y-EO5dVtQ2oizcaGgU7XPgHaFj_jpeg.rf.085ca1e9ef27212faf9c156adaa2e9ba.txt  \n",
            "  inflating: ./butterfly-spider/butterfly-spider/train/labels/OIP-Y-EO5dVtQ2oizcaGgU7XPgHaFj_jpeg.rf.1e5655f7a2d26aa98f760e3223f150d7.txt  \n",
            "  inflating: ./butterfly-spider/butterfly-spider/train/labels/OIP-Y-EO5dVtQ2oizcaGgU7XPgHaFj_jpeg.rf.fa4add2674002b177d1d74f274d5a257.txt  \n",
            "  inflating: ./butterfly-spider/butterfly-spider/train/labels/OIP-yImgX_ieA4Hl4frj_X29sAHaF5_jpeg.rf.a0f967548e7c2ad80cb3033622dac5ed.txt  \n",
            "  inflating: ./butterfly-spider/butterfly-spider/train/labels/OIP-yImgX_ieA4Hl4frj_X29sAHaF5_jpeg.rf.c2e3290f6e89c07c4eaed631735eee42.txt  \n",
            "  inflating: ./butterfly-spider/butterfly-spider/train/labels/OIP-yImgX_ieA4Hl4frj_X29sAHaF5_jpeg.rf.e9b91b3cdaae76516bb629450dec1865.txt  \n",
            "  inflating: ./butterfly-spider/butterfly-spider/train/labels/OIP-y-JMTqVZxFve9krHOGeQ-wHaE6_jpeg.rf.4171d6c828c0c0632af603a71665deef.txt  \n",
            "  inflating: ./butterfly-spider/butterfly-spider/train/labels/OIP-y-JMTqVZxFve9krHOGeQ-wHaE6_jpeg.rf.62d9df485c5899273401dc8107c71b5a.txt  \n",
            "  inflating: ./butterfly-spider/butterfly-spider/train/labels/OIP-y-JMTqVZxFve9krHOGeQ-wHaE6_jpeg.rf.bbc2b2d031991a8a02ed7bf267309110.txt  \n",
            "  inflating: ./butterfly-spider/butterfly-spider/train/labels/OIP-yLPxCv0d8yJGudDbf7LbKwHaFj_jpeg.rf.12b5237ec7d7f0fb92d2f6929ca3a7d5.txt  \n",
            "  inflating: ./butterfly-spider/butterfly-spider/train/labels/OIP-yLPxCv0d8yJGudDbf7LbKwHaFj_jpeg.rf.34e8f3aa7e039e311cfaafbdca951e17.txt  \n",
            "  inflating: ./butterfly-spider/butterfly-spider/train/labels/OIP-yLPxCv0d8yJGudDbf7LbKwHaFj_jpeg.rf.448fa32f01957ebb4b201c822e0ebbfd.txt  \n",
            "  inflating: ./butterfly-spider/butterfly-spider/train/labels/OIP-ymBanFBh8sMCwIq_ZMAwEgHaHr_jpeg.rf.008800c020b55d6fd9c85e1c61cf5e1a.txt  \n",
            "  inflating: ./butterfly-spider/butterfly-spider/train/labels/OIP-ymBanFBh8sMCwIq_ZMAwEgHaHr_jpeg.rf.39b41aa45c3220a33746693d929f160f.txt  \n",
            "  inflating: ./butterfly-spider/butterfly-spider/train/labels/OIP-ymBanFBh8sMCwIq_ZMAwEgHaHr_jpeg.rf.a5af708328a62fc2ed923ee723fe9a2a.txt  \n",
            "  inflating: ./butterfly-spider/butterfly-spider/train/labels/OIP-yMM1gjGb1N2TziU0DTc20gHaF4_jpeg.rf.137a4509a85511a8c7305b91fe50048a.txt  \n",
            "  inflating: ./butterfly-spider/butterfly-spider/train/labels/OIP-yMM1gjGb1N2TziU0DTc20gHaF4_jpeg.rf.4f9defac15812be65c6ecdc1e6b7de65.txt  \n",
            "  inflating: ./butterfly-spider/butterfly-spider/train/labels/OIP-yMM1gjGb1N2TziU0DTc20gHaF4_jpeg.rf.5d6261c18e57cafc0327e4a99aea017e.txt  \n",
            "  inflating: ./butterfly-spider/butterfly-spider/train/labels/OIP-Ympr9MUUzlGzFjjrtE1c5QHaE7_jpeg.rf.5a3705ab47127fe1c8cd90d78c171eb8.txt  \n",
            "  inflating: ./butterfly-spider/butterfly-spider/train/labels/OIP-Ympr9MUUzlGzFjjrtE1c5QHaE7_jpeg.rf.6708b31275ae7a829d401b7b15a045fc.txt  \n",
            "  inflating: ./butterfly-spider/butterfly-spider/train/labels/OIP-Ympr9MUUzlGzFjjrtE1c5QHaE7_jpeg.rf.c675da146ade8cde527b396794e9fa81.txt  \n",
            "  inflating: ./butterfly-spider/butterfly-spider/train/labels/OIP-yn99HUpTmYRJI3ttmUkYOQHaFN_jpeg.rf.5f48064cc26c95ae4358216d2abe04a7.txt  \n",
            "  inflating: ./butterfly-spider/butterfly-spider/train/labels/OIP-yn99HUpTmYRJI3ttmUkYOQHaFN_jpeg.rf.8b86e5a54658ed1603f3f90ea87f0d20.txt  \n",
            "  inflating: ./butterfly-spider/butterfly-spider/train/labels/OIP-yn99HUpTmYRJI3ttmUkYOQHaFN_jpeg.rf.b0b7bdb51f1d39e2e82d897bbf2a91f5.txt  \n",
            "  inflating: ./butterfly-spider/butterfly-spider/train/labels/OIP-ynBaRLCcIBEDsdCnnYCxjgHaE7_jpeg.rf.09eecdd2eccb9c8c325c66e97a2f8465.txt  \n",
            "  inflating: ./butterfly-spider/butterfly-spider/train/labels/OIP-ynBaRLCcIBEDsdCnnYCxjgHaE7_jpeg.rf.7b7f0d5856ea71c6f402996f87867be6.txt  \n",
            "  inflating: ./butterfly-spider/butterfly-spider/train/labels/OIP-ynBaRLCcIBEDsdCnnYCxjgHaE7_jpeg.rf.e63870d75d13e8ee4df6858eaa49bd76.txt  \n",
            "  inflating: ./butterfly-spider/butterfly-spider/train/labels/OIP-YNqBf_ZQHJthXHKsk-UE2wHaF7_jpeg.rf.acf201a41be073ec5c45fc3bda7f8de3.txt  \n",
            "  inflating: ./butterfly-spider/butterfly-spider/train/labels/OIP-YNqBf_ZQHJthXHKsk-UE2wHaF7_jpeg.rf.c522cf7ec86b311dcedd490c0ebac5b3.txt  \n",
            "  inflating: ./butterfly-spider/butterfly-spider/train/labels/OIP-YNqBf_ZQHJthXHKsk-UE2wHaF7_jpeg.rf.da8d531e7f8ed59c6bbb87b7a36b2da7.txt  \n",
            "  inflating: ./butterfly-spider/butterfly-spider/train/labels/OIP-yOVh_3_5oj1srhQ7uoDK6gHaFj_jpeg.rf.0c66dc31dab061479afc712ed5db21af.txt  \n",
            "  inflating: ./butterfly-spider/butterfly-spider/train/labels/OIP-yOVh_3_5oj1srhQ7uoDK6gHaFj_jpeg.rf.0db7ceecba7470f9ed9dec5c2bb8da51.txt  \n",
            "  inflating: ./butterfly-spider/butterfly-spider/train/labels/OIP-yOVh_3_5oj1srhQ7uoDK6gHaFj_jpeg.rf.b1fd8ffda410298b6e2b03f2c8e166a8.txt  \n",
            "  inflating: ./butterfly-spider/butterfly-spider/train/labels/OIP-YpBAHaZzuk3QtiD_5o0y0AHaFT_jpeg.rf.64f3570a40dc5329ba3d79b4730c5adf.txt  \n",
            "  inflating: ./butterfly-spider/butterfly-spider/train/labels/OIP-YpBAHaZzuk3QtiD_5o0y0AHaFT_jpeg.rf.d306dc7ca54f84dc682108200ce30e4b.txt  \n",
            "  inflating: ./butterfly-spider/butterfly-spider/train/labels/OIP-YpBAHaZzuk3QtiD_5o0y0AHaFT_jpeg.rf.d8d4c466d1b6f4033f2ba2c798d238f1.txt  \n",
            "  inflating: ./butterfly-spider/butterfly-spider/train/labels/OIP-yPBl7Uzgro2BR6cEEFS1UAHaGD_jpeg.rf.241adcd2d411cc61a815e9ba1d4809cd.txt  \n",
            "  inflating: ./butterfly-spider/butterfly-spider/train/labels/OIP-yPBl7Uzgro2BR6cEEFS1UAHaGD_jpeg.rf.d644914837a619a575e363c74be17b37.txt  \n",
            "  inflating: ./butterfly-spider/butterfly-spider/train/labels/OIP-ypGfjCfYJKGIUuS-uDu2SQHaGn_jpeg.rf.cf8ef0263ae7da96e64fd8529178a5c0.txt  \n",
            "  inflating: ./butterfly-spider/butterfly-spider/train/labels/OIP-ypGfjCfYJKGIUuS-uDu2SQHaGn_jpeg.rf.d0bb153028594f2d7be99cf309638a6b.txt  \n",
            "  inflating: ./butterfly-spider/butterfly-spider/train/labels/OIP-ypGfjCfYJKGIUuS-uDu2SQHaGn_jpeg.rf.ea953243b6b9c7174e0d1bd5529c03ed.txt  \n",
            "  inflating: ./butterfly-spider/butterfly-spider/train/labels/OIP-ypKTu5jpW99DTvpdc2SmJAHaFj_jpeg.rf.8c2d0365ef9be81e60406137afdefa54.txt  \n",
            "  inflating: ./butterfly-spider/butterfly-spider/train/labels/OIP-ypKTu5jpW99DTvpdc2SmJAHaFj_jpeg.rf.bfa4c04b6f11f875f13bdb1cfca761eb.txt  \n",
            "  inflating: ./butterfly-spider/butterfly-spider/train/labels/OIP-ypKTu5jpW99DTvpdc2SmJAHaFj_jpeg.rf.e1e3395117bed80565c58dba5f443427.txt  \n",
            "  inflating: ./butterfly-spider/butterfly-spider/train/labels/OIP-yQogiuR7T422WZW0DfdLUgAAAA_jpeg.rf.38861f4ac0e252e28b258fe631f69702.txt  \n",
            "  inflating: ./butterfly-spider/butterfly-spider/train/labels/OIP-yQogiuR7T422WZW0DfdLUgAAAA_jpeg.rf.5e3f6af7a0de36e0f9510941b4323bda.txt  \n",
            "  inflating: ./butterfly-spider/butterfly-spider/train/labels/OIP-yQogiuR7T422WZW0DfdLUgAAAA_jpeg.rf.ef839ff09d4d711fa9b0cbd9e85e3902.txt  \n",
            "  inflating: ./butterfly-spider/butterfly-spider/train/labels/OIP-YqyTpOZwWDVB9fjPmRCl2QHaFj_jpeg.rf.2e897b2d71c3611f6156b844b690eab6.txt  \n",
            "  inflating: ./butterfly-spider/butterfly-spider/train/labels/OIP-YqyTpOZwWDVB9fjPmRCl2QHaFj_jpeg.rf.3a0cabccd5965e7c6ba1e46c7c583675.txt  \n",
            "  inflating: ./butterfly-spider/butterfly-spider/train/labels/OIP-YqyTpOZwWDVB9fjPmRCl2QHaFj_jpeg.rf.99b308b49e805f207fb95b5993caabf1.txt  \n",
            "  inflating: ./butterfly-spider/butterfly-spider/train/labels/OIP-yr3arwBSVWn3SZM_eo8bfwHaHa_jpeg.rf.2dcf3c5a558d6d06d342dff3f7bb5bcf.txt  \n",
            "  inflating: ./butterfly-spider/butterfly-spider/train/labels/OIP-yr3arwBSVWn3SZM_eo8bfwHaHa_jpeg.rf.359e851f847931686aadb7cfb8e47519.txt  \n",
            "  inflating: ./butterfly-spider/butterfly-spider/train/labels/OIP-yr3arwBSVWn3SZM_eo8bfwHaHa_jpeg.rf.470217667c521777bb87849299ae777b.txt  \n",
            "  inflating: ./butterfly-spider/butterfly-spider/train/labels/OIP-yRhtbVWjel4W2f6HyUXE-AHaF8_jpeg.rf.01abfb762e1400f55c94898c3685a628.txt  \n",
            "  inflating: ./butterfly-spider/butterfly-spider/train/labels/OIP-yRhtbVWjel4W2f6HyUXE-AHaF8_jpeg.rf.b58e94949d21ed5e2bf585359d18b3ee.txt  \n",
            "  inflating: ./butterfly-spider/butterfly-spider/train/labels/OIP-yRhtbVWjel4W2f6HyUXE-AHaF8_jpeg.rf.bb450450154fe9eaa389b7c8b715f215.txt  \n",
            "  inflating: ./butterfly-spider/butterfly-spider/train/labels/OIP-Yriy34724s3GpwU1My6_pAHaFj_jpeg.rf.52c3d583f2fce626e8fc667c19228500.txt  \n",
            "  inflating: ./butterfly-spider/butterfly-spider/train/labels/OIP-Yriy34724s3GpwU1My6_pAHaFj_jpeg.rf.b303da60343241f92d0c7d7a87266408.txt  \n",
            "  inflating: ./butterfly-spider/butterfly-spider/train/labels/OIP-Yriy34724s3GpwU1My6_pAHaFj_jpeg.rf.d22d4bcd5fb5c8537ec788d364ad9f82.txt  \n",
            "  inflating: ./butterfly-spider/butterfly-spider/train/labels/OIP-yRk1uhrwPUlXtjRsmpXctgHaE8_jpeg.rf.0518ce02d3a86e7a81aa8aeba2e2067e.txt  \n",
            "  inflating: ./butterfly-spider/butterfly-spider/train/labels/OIP-yRk1uhrwPUlXtjRsmpXctgHaE8_jpeg.rf.dd23b0fcd2d4b4ca22d8b1509e1f08e0.txt  \n",
            "  inflating: ./butterfly-spider/butterfly-spider/train/labels/OIP-yRk1uhrwPUlXtjRsmpXctgHaE8_jpeg.rf.fdcbb9cf7b28ed797b0eff9c8f56ea2a.txt  \n",
            "  inflating: ./butterfly-spider/butterfly-spider/train/labels/OIP-YRqNbDfDkqRY8Z_mLrlgVgHaFL_jpeg.rf.17823cdc8ff3a13c6870cfb8cdb2bf6b.txt  \n",
            "  inflating: ./butterfly-spider/butterfly-spider/train/labels/OIP-YRqNbDfDkqRY8Z_mLrlgVgHaFL_jpeg.rf.77d4997aa75f9a70e5f7c7f1825eafa0.txt  \n",
            "  inflating: ./butterfly-spider/butterfly-spider/train/labels/OIP-YRqNbDfDkqRY8Z_mLrlgVgHaFL_jpeg.rf.b71933e1de5c31882999074e5984ced5.txt  \n",
            "  inflating: ./butterfly-spider/butterfly-spider/train/labels/OIP-yRSUIefxbA4qnKvmV-LQIgHaGU_jpeg.rf.55858b542ca80cde4f30a777cfb484c9.txt  \n",
            "  inflating: ./butterfly-spider/butterfly-spider/train/labels/OIP-yRSUIefxbA4qnKvmV-LQIgHaGU_jpeg.rf.b288216cd6a00b9c0b7e823ad33e043b.txt  \n",
            "  inflating: ./butterfly-spider/butterfly-spider/train/labels/OIP-yRSUIefxbA4qnKvmV-LQIgHaGU_jpeg.rf.dad287ba86a18d4b0421bb25badbecf2.txt  \n",
            "  inflating: ./butterfly-spider/butterfly-spider/train/labels/OIP-yS4OGEGSS1M-WVXHCijJvAHaFj_jpeg.rf.066f9ce89e163b930835938d3586bdb8.txt  \n",
            "  inflating: ./butterfly-spider/butterfly-spider/train/labels/OIP-yS4OGEGSS1M-WVXHCijJvAHaFj_jpeg.rf.15fcaea0e2a444047f14a0f4d569625f.txt  \n",
            "  inflating: ./butterfly-spider/butterfly-spider/train/labels/OIP-yS4OGEGSS1M-WVXHCijJvAHaFj_jpeg.rf.40c0aa5df0833bb604da900bc1fd8eab.txt  \n",
            "  inflating: ./butterfly-spider/butterfly-spider/train/labels/OIP-YsOhyGPoVqgPNrbiHzP1nQHaE7_jpeg.rf.95b55c95e95a5fc220bd762fc5f31369.txt  \n",
            "  inflating: ./butterfly-spider/butterfly-spider/train/labels/OIP-YsOhyGPoVqgPNrbiHzP1nQHaE7_jpeg.rf.bb15bac37f5878231249d1cf727d26e7.txt  \n",
            "  inflating: ./butterfly-spider/butterfly-spider/train/labels/OIP-YsOhyGPoVqgPNrbiHzP1nQHaE7_jpeg.rf.bc975ab77b0d7a3202958b60ddc2e0ee.txt  \n",
            "  inflating: ./butterfly-spider/butterfly-spider/train/labels/OIP-YSV6Dor9lo9vmYBQyMEH7gHaG0_jpeg.rf.22450f8080d7d9bc2c46a784912c4d07.txt  \n",
            "  inflating: ./butterfly-spider/butterfly-spider/train/labels/OIP-YSV6Dor9lo9vmYBQyMEH7gHaG0_jpeg.rf.6843c9104f03ec01c8e305e5c2763d60.txt  \n",
            "  inflating: ./butterfly-spider/butterfly-spider/train/labels/OIP-YSV6Dor9lo9vmYBQyMEH7gHaG0_jpeg.rf.76bd7339db3896445748d1f5758ef614.txt  \n",
            "  inflating: ./butterfly-spider/butterfly-spider/train/labels/OIP-yTeONkbtKVAYsjeufhrBfwHaEK_jpeg.rf.4bb6bc022183f246976f952245459f33.txt  \n",
            "  inflating: ./butterfly-spider/butterfly-spider/train/labels/OIP-yTeONkbtKVAYsjeufhrBfwHaEK_jpeg.rf.eea1e0a5195e00b1c184d27ef1a328f5.txt  \n",
            "  inflating: ./butterfly-spider/butterfly-spider/train/labels/OIP-yTeONkbtKVAYsjeufhrBfwHaEK_jpeg.rf.fcf380aed72727be31db1e07b146cb80.txt  \n",
            "  inflating: ./butterfly-spider/butterfly-spider/train/labels/OIP-ytfT8p7tRAYsx1C05S7dFQHaGf_jpeg.rf.3559e25fad92bfb0bce1ffa67a79b501.txt  \n",
            "  inflating: ./butterfly-spider/butterfly-spider/train/labels/OIP-ytfT8p7tRAYsx1C05S7dFQHaGf_jpeg.rf.70760f7dc3ae238cd5170d26687710b4.txt  \n",
            "  inflating: ./butterfly-spider/butterfly-spider/train/labels/OIP-ytfT8p7tRAYsx1C05S7dFQHaGf_jpeg.rf.f91137a13ecf20141c51d21956300a76.txt  \n",
            "  inflating: ./butterfly-spider/butterfly-spider/train/labels/OIP-YTGq9vb6tpTzZ4c2-bwEKwHaHa_jpeg.rf.1dd86b6c8cdeee664e63655a24636631.txt  \n",
            "  inflating: ./butterfly-spider/butterfly-spider/train/labels/OIP-YTGq9vb6tpTzZ4c2-bwEKwHaHa_jpeg.rf.2e58e9532d741bbe1ab7b549038160b3.txt  \n",
            "  inflating: ./butterfly-spider/butterfly-spider/train/labels/OIP-YTGq9vb6tpTzZ4c2-bwEKwHaHa_jpeg.rf.6fd7b8dfe8a77db429e11e3953b51e39.txt  \n",
            "  inflating: ./butterfly-spider/butterfly-spider/train/labels/OIP-YTjAmT4zT-R1froxs0I3mAAAAA_jpeg.rf.030430a6e5e5eafee48f78416d3c5ed6.txt  \n",
            "  inflating: ./butterfly-spider/butterfly-spider/train/labels/OIP-YTjAmT4zT-R1froxs0I3mAAAAA_jpeg.rf.6ebd6d302e46b8cbe6f9f4e3b0b58519.txt  \n",
            "  inflating: ./butterfly-spider/butterfly-spider/train/labels/OIP-YTjAmT4zT-R1froxs0I3mAAAAA_jpeg.rf.e04707bfcb59d9e02b7539d9813a1d75.txt  \n",
            "  inflating: ./butterfly-spider/butterfly-spider/train/labels/OIP-YTkShz7nLfdJFXqXQqrlHwHaJ-_jpeg.rf.2bb3906279ae3319e891e6ebae7f11c7.txt  \n",
            "  inflating: ./butterfly-spider/butterfly-spider/train/labels/OIP-YTkShz7nLfdJFXqXQqrlHwHaJ-_jpeg.rf.a6cc3ec265dc70e5f40a1f8e040f22ad.txt  \n",
            "  inflating: ./butterfly-spider/butterfly-spider/train/labels/OIP-YTkShz7nLfdJFXqXQqrlHwHaJ-_jpeg.rf.e1378bc786aa1a7d3c0fd441fee0daf3.txt  \n",
            "  inflating: ./butterfly-spider/butterfly-spider/train/labels/OIP-ytmfl7C5pbd46M8cK_yBmwHaFN_jpeg.rf.5fa7caf6ff1555814197b9b4990253b0.txt  \n",
            "  inflating: ./butterfly-spider/butterfly-spider/train/labels/OIP-ytmfl7C5pbd46M8cK_yBmwHaFN_jpeg.rf.aa2a95268aa463c41f6e68a42c738b26.txt  \n",
            "  inflating: ./butterfly-spider/butterfly-spider/train/labels/OIP-ytmfl7C5pbd46M8cK_yBmwHaFN_jpeg.rf.fa52c88ea0c62fe1dcbb124948bb9683.txt  \n",
            "  inflating: ./butterfly-spider/butterfly-spider/train/labels/OIP-ytuefXIPtJNTQTghzHpipwHaFj_jpeg.rf.3461d8fc652e23beb5803ad9b71601fe.txt  \n",
            "  inflating: ./butterfly-spider/butterfly-spider/train/labels/OIP-ytuefXIPtJNTQTghzHpipwHaFj_jpeg.rf.513c5e979613a68175523c88ab1f76aa.txt  \n",
            "  inflating: ./butterfly-spider/butterfly-spider/train/labels/OIP-ytuefXIPtJNTQTghzHpipwHaFj_jpeg.rf.fdc44149064a92f552181da164c5b377.txt  \n",
            "  inflating: ./butterfly-spider/butterfly-spider/train/labels/OIP-YTv8p-bGpSQDMluSZh72yAHaE8_jpeg.rf.51b0e24e8880d3bd60bb7c6b239b6893.txt  \n",
            "  inflating: ./butterfly-spider/butterfly-spider/train/labels/OIP-YTv8p-bGpSQDMluSZh72yAHaE8_jpeg.rf.b9ebd7e0d0a058ab71129beb489b9119.txt  \n",
            "  inflating: ./butterfly-spider/butterfly-spider/train/labels/OIP-YTv8p-bGpSQDMluSZh72yAHaE8_jpeg.rf.d490f3fcecfdf5d8d1313ec25a0540c7.txt  \n",
            "  inflating: ./butterfly-spider/butterfly-spider/train/labels/OIP-ytvQKHU1jM6XCuEWDHFChgHaLH_jpeg.rf.4e22729b12c70ada70e9a6fb491eeaaf.txt  \n",
            "  inflating: ./butterfly-spider/butterfly-spider/train/labels/OIP-ytvQKHU1jM6XCuEWDHFChgHaLH_jpeg.rf.d43214ab08981f40aa74d6f8be3aeaad.txt  \n",
            "  inflating: ./butterfly-spider/butterfly-spider/train/labels/OIP-ytvQKHU1jM6XCuEWDHFChgHaLH_jpeg.rf.eb623b9798b29634bfb07ed63119e868.txt  \n",
            "  inflating: ./butterfly-spider/butterfly-spider/train/labels/OIP-Yu32H_EhSqQXohNmDnEsSwHaIK_jpeg.rf.455e86230c0f3f5162c16afab58bf661.txt  \n",
            "  inflating: ./butterfly-spider/butterfly-spider/train/labels/OIP-Yu32H_EhSqQXohNmDnEsSwHaIK_jpeg.rf.beeecfd69f294b51526f313dbfefef95.txt  \n",
            "  inflating: ./butterfly-spider/butterfly-spider/train/labels/OIP-Yu32H_EhSqQXohNmDnEsSwHaIK_jpeg.rf.da9e9213f3c59dcf67fe7cdc5ce20c60.txt  \n",
            "  inflating: ./butterfly-spider/butterfly-spider/train/labels/OIP-yuf_ZuUtcst-yklRNvU_3wEsEI_jpeg.rf.15bc88d73a7de44504469e2a63a94639.txt  \n",
            "  inflating: ./butterfly-spider/butterfly-spider/train/labels/OIP-yuf_ZuUtcst-yklRNvU_3wEsEI_jpeg.rf.71d39910911870bd6c00bb794e450e29.txt  \n",
            "  inflating: ./butterfly-spider/butterfly-spider/train/labels/OIP-yuf_ZuUtcst-yklRNvU_3wEsEI_jpeg.rf.9949780e4855b8780e2420d48b564d1d.txt  \n",
            "  inflating: ./butterfly-spider/butterfly-spider/train/labels/OIP-Yug5cUteWfrpkPeb-hbsxgHaFb_jpeg.rf.4dbc93ae05ababfa15be330494e8e634.txt  \n",
            "  inflating: ./butterfly-spider/butterfly-spider/train/labels/OIP-Yug5cUteWfrpkPeb-hbsxgHaFb_jpeg.rf.db5072399975b7004392c2bfd7188abc.txt  \n",
            "  inflating: ./butterfly-spider/butterfly-spider/train/labels/OIP-Yug5cUteWfrpkPeb-hbsxgHaFb_jpeg.rf.f0621eda2e7ab378e9c2dfb0166ac36e.txt  \n",
            "  inflating: ./butterfly-spider/butterfly-spider/train/labels/OIP-yuhmbEXH7xT-FxnjEECrTgHaHa_jpeg.rf.756136038b52051113d0dbb05aefc314.txt  \n",
            "  inflating: ./butterfly-spider/butterfly-spider/train/labels/OIP-yuhmbEXH7xT-FxnjEECrTgHaHa_jpeg.rf.a092f8ddc011d6d2a4f6e61503581b2f.txt  \n",
            "  inflating: ./butterfly-spider/butterfly-spider/train/labels/OIP-yuhmbEXH7xT-FxnjEECrTgHaHa_jpeg.rf.d7b75c30ca44ec7fb8d0a085abfaf2f1.txt  \n",
            "  inflating: ./butterfly-spider/butterfly-spider/train/labels/OIP-yui2lNb44ldZbnLdd-1DAHaEb_jpeg.rf.4e6e89ea164971eddc1281101a947acf.txt  \n",
            "  inflating: ./butterfly-spider/butterfly-spider/train/labels/OIP-yui2lNb44ldZbnLdd-1DAHaEb_jpeg.rf.b2525374f1f187d2eed0f836e8bacf98.txt  \n",
            "  inflating: ./butterfly-spider/butterfly-spider/train/labels/OIP-yui2lNb44ldZbnLdd-1DAHaEb_jpeg.rf.db61f215eb8395c4a931e2d79d1d1054.txt  \n",
            "  inflating: ./butterfly-spider/butterfly-spider/train/labels/OIP-yuJpSiKzuvcC48nduwgdiAHaNK_jpeg.rf.525b799cbdca4859478eb00f11a038e1.txt  \n",
            "  inflating: ./butterfly-spider/butterfly-spider/train/labels/OIP-yuJpSiKzuvcC48nduwgdiAHaNK_jpeg.rf.5c31f5ef61ed20923e6397e3870ec7df.txt  \n",
            "  inflating: ./butterfly-spider/butterfly-spider/train/labels/OIP-yuJpSiKzuvcC48nduwgdiAHaNK_jpeg.rf.a104f032b0176967022826dafdeedc95.txt  \n",
            "  inflating: ./butterfly-spider/butterfly-spider/train/labels/OIP-yUkQAdqE6iJjYZIpgaLPFQHaE8_jpeg.rf.565958b9ffe0a06f574527eaed70b550.txt  \n",
            "  inflating: ./butterfly-spider/butterfly-spider/train/labels/OIP-yUkQAdqE6iJjYZIpgaLPFQHaE8_jpeg.rf.9c829224aae373b531f6b2b7887eb650.txt  \n",
            "  inflating: ./butterfly-spider/butterfly-spider/train/labels/OIP-yUkQAdqE6iJjYZIpgaLPFQHaE8_jpeg.rf.accc0835992f101798fe5243d1bc7e74.txt  \n",
            "  inflating: ./butterfly-spider/butterfly-spider/train/labels/OIP-YUYjzep7JJflK_9ph59C9AHaF5_jpeg.rf.09034be9901dedb2b909ea79499afa6b.txt  \n",
            "  inflating: ./butterfly-spider/butterfly-spider/train/labels/OIP-YUYjzep7JJflK_9ph59C9AHaF5_jpeg.rf.a077ba4ea5b5af8fc803ff7e081f1985.txt  \n",
            "  inflating: ./butterfly-spider/butterfly-spider/train/labels/OIP-YUYjzep7JJflK_9ph59C9AHaF5_jpeg.rf.a983d5b4b064213fcc9294cb802381d9.txt  \n",
            "  inflating: ./butterfly-spider/butterfly-spider/train/labels/OIP-yVhxdlNYBOoHl-xICtSd8wHaE6_jpeg.rf.2d22c7c3cb0db320c1ebd737feb1422f.txt  \n",
            "  inflating: ./butterfly-spider/butterfly-spider/train/labels/OIP-yVhxdlNYBOoHl-xICtSd8wHaE6_jpeg.rf.783616baa7ab310111297dff1d44089c.txt  \n",
            "  inflating: ./butterfly-spider/butterfly-spider/train/labels/OIP-yVhxdlNYBOoHl-xICtSd8wHaE6_jpeg.rf.7d243a7524f470c0788044c9db8a6e18.txt  \n",
            "  inflating: ./butterfly-spider/butterfly-spider/train/labels/OIP-YW2huOSJOPefRR5D27KVzQHaEo_jpeg.rf.5aa61463cbda397b57c4ca47bc7854f7.txt  \n",
            "  inflating: ./butterfly-spider/butterfly-spider/train/labels/OIP-YW2huOSJOPefRR5D27KVzQHaEo_jpeg.rf.73616a5579345463f28cac6485171e59.txt  \n",
            "  inflating: ./butterfly-spider/butterfly-spider/train/labels/OIP-YW2huOSJOPefRR5D27KVzQHaEo_jpeg.rf.bf0fe0611e698b0fe632c3fa4264a37a.txt  \n",
            "  inflating: ./butterfly-spider/butterfly-spider/train/labels/OIP-yWF_EEgza7h9rU5I4X7AkAHaHQ_jpeg.rf.3256ecbf9a14c2b42cec422b537231cf.txt  \n",
            "  inflating: ./butterfly-spider/butterfly-spider/train/labels/OIP-yWF_EEgza7h9rU5I4X7AkAHaHQ_jpeg.rf.62b635c7bdbe64f66b48ce6394560f68.txt  \n",
            "  inflating: ./butterfly-spider/butterfly-spider/train/labels/OIP-yWF_EEgza7h9rU5I4X7AkAHaHQ_jpeg.rf.eed1a43cc73462451a7a1c1c0b1ac5d6.txt  \n",
            "  inflating: ./butterfly-spider/butterfly-spider/train/labels/OIP-YwIeC2PA80im2Y8TsIuCGwHaFd_jpeg.rf.7df4edfd094ef72f169010dace3cb903.txt  \n",
            "  inflating: ./butterfly-spider/butterfly-spider/train/labels/OIP-YwIeC2PA80im2Y8TsIuCGwHaFd_jpeg.rf.b54d57fd2346d2001f13458480d86f2c.txt  \n",
            "  inflating: ./butterfly-spider/butterfly-spider/train/labels/OIP-YwIeC2PA80im2Y8TsIuCGwHaFd_jpeg.rf.bad919ec09a2cd2b3068f4eb75ddaeba.txt  \n",
            "  inflating: ./butterfly-spider/butterfly-spider/train/labels/OIP-YWQi5gFkKVAZznDojSPo1AHaE7_jpeg.rf.4e132cdc6d2f2ea529ea9744f2ae395b.txt  \n",
            "  inflating: ./butterfly-spider/butterfly-spider/train/labels/OIP-YWQi5gFkKVAZznDojSPo1AHaE7_jpeg.rf.96369ef9afb33801b6f95c0cc256ebc8.txt  \n",
            "  inflating: ./butterfly-spider/butterfly-spider/train/labels/OIP-YWQi5gFkKVAZznDojSPo1AHaE7_jpeg.rf.e5ca2c3f56b8eb5a559b9c63183941f0.txt  \n",
            "  inflating: ./butterfly-spider/butterfly-spider/train/labels/OIP-yWw4zk0HUbw81Qm7NvherwHaFZ_jpeg.rf.462ff3914ca4a27c79278aec7cbd23ae.txt  \n",
            "  inflating: ./butterfly-spider/butterfly-spider/train/labels/OIP-yWw4zk0HUbw81Qm7NvherwHaFZ_jpeg.rf.e7d43a0cb3a6c095367460a970ea43c9.txt  \n",
            "  inflating: ./butterfly-spider/butterfly-spider/train/labels/OIP-YWWoda5gXTmCEVVqur9vlAHaEL_jpeg.rf.329f815b7bd824908261b94ef167a5ce.txt  \n",
            "  inflating: ./butterfly-spider/butterfly-spider/train/labels/OIP-YWWoda5gXTmCEVVqur9vlAHaEL_jpeg.rf.db86fdb0a262eea4d01cf8657acf36a1.txt  \n",
            "  inflating: ./butterfly-spider/butterfly-spider/train/labels/OIP-YWWoda5gXTmCEVVqur9vlAHaEL_jpeg.rf.efdbe86006d4be9bf35669bc00f387ba.txt  \n",
            "  inflating: ./butterfly-spider/butterfly-spider/train/labels/OIP-YWyEWQpk5sqNJAmd9BgswAHaFk_jpeg.rf.6a0a9d9b24c03ce0ede1b0bae81e0eab.txt  \n",
            "  inflating: ./butterfly-spider/butterfly-spider/train/labels/OIP-YWyEWQpk5sqNJAmd9BgswAHaFk_jpeg.rf.e053076dc0c93414fe2640db15a7fc48.txt  \n",
            "  inflating: ./butterfly-spider/butterfly-spider/train/labels/OIP-YWyEWQpk5sqNJAmd9BgswAHaFk_jpeg.rf.ee4744930e3c91a0f3a6655ce1dd15fa.txt  \n",
            "  inflating: ./butterfly-spider/butterfly-spider/train/labels/OIP-YWYqEb2cChmI_CQ6fYpZ3QHaGI_jpeg.rf.441c64d198b6024bf0f2771474ca767b.txt  \n",
            "  inflating: ./butterfly-spider/butterfly-spider/train/labels/OIP-YWYqEb2cChmI_CQ6fYpZ3QHaGI_jpeg.rf.4f475336a2f76ab2f8c6b78f81f007ef.txt  \n",
            "  inflating: ./butterfly-spider/butterfly-spider/train/labels/OIP-YWYqEb2cChmI_CQ6fYpZ3QHaGI_jpeg.rf.e9e927c9ffb1d5e5f810af6ac2c09350.txt  \n",
            "  inflating: ./butterfly-spider/butterfly-spider/train/labels/OIP-Yx3tPptkHzJ5ikJICupH8QHaIZ_jpeg.rf.2abc4f917bb7982729f156633a0cc7f2.txt  \n",
            "  inflating: ./butterfly-spider/butterfly-spider/train/labels/OIP-Yx3tPptkHzJ5ikJICupH8QHaIZ_jpeg.rf.9f5ac0c797c8e91f39cdf1aede79c93c.txt  \n",
            "  inflating: ./butterfly-spider/butterfly-spider/train/labels/OIP-Yx3tPptkHzJ5ikJICupH8QHaIZ_jpeg.rf.b2a46689cccd0fcf88044225ed4f9a8a.txt  \n",
            "  inflating: ./butterfly-spider/butterfly-spider/train/labels/OIP-YXDyJLmfPWnoKDVn2JlgcwHaH5_jpeg.rf.022fb5cd600d635c4f733ca90883d570.txt  \n",
            "  inflating: ./butterfly-spider/butterfly-spider/train/labels/OIP-YXDyJLmfPWnoKDVn2JlgcwHaH5_jpeg.rf.21a08cb237dd653bab3ce9aa192ad6fe.txt  \n",
            "  inflating: ./butterfly-spider/butterfly-spider/train/labels/OIP-YXDyJLmfPWnoKDVn2JlgcwHaH5_jpeg.rf.ac94fec0c2317118c483348629e646d9.txt  \n",
            "  inflating: ./butterfly-spider/butterfly-spider/train/labels/OIP-YxKaKZ82n3Y8QvEkbzf8yQHaEo_jpeg.rf.34da5baad83c73eff3b02dee09d2d08f.txt  \n",
            "  inflating: ./butterfly-spider/butterfly-spider/train/labels/OIP-YxKaKZ82n3Y8QvEkbzf8yQHaEo_jpeg.rf.747d4b92fd65abdb20595b8f03fa90fa.txt  \n",
            "  inflating: ./butterfly-spider/butterfly-spider/train/labels/OIP-YxKaKZ82n3Y8QvEkbzf8yQHaEo_jpeg.rf.99b0ebc0d1bf3307c7857c23b465355d.txt  \n",
            "  inflating: ./butterfly-spider/butterfly-spider/train/labels/OIP-YxmjyUUbmVOTOwA5fv3XgHaFL_jpeg.rf.671395d6cbc64fb4f5a4139b46c9f3a2.txt  \n",
            "  inflating: ./butterfly-spider/butterfly-spider/train/labels/OIP-YxmjyUUbmVOTOwA5fv3XgHaFL_jpeg.rf.68504ca759ebd67e5b2b68a8a27087ea.txt  \n",
            "  inflating: ./butterfly-spider/butterfly-spider/train/labels/OIP-YxmjyUUbmVOTOwA5fv3XgHaFL_jpeg.rf.db25915dc284fa68c220a38232173db5.txt  \n",
            "  inflating: ./butterfly-spider/butterfly-spider/train/labels/OIP-YXMWEIWQ0_rw3DZyNfjGGgHaJg_jpeg.rf.318d5bee35b00a112d9f272054a317ed.txt  \n",
            "  inflating: ./butterfly-spider/butterfly-spider/train/labels/OIP-YXMWEIWQ0_rw3DZyNfjGGgHaJg_jpeg.rf.64ceb70931c1febab1a188789b7c2b9c.txt  \n",
            "  inflating: ./butterfly-spider/butterfly-spider/train/labels/OIP-YXMWEIWQ0_rw3DZyNfjGGgHaJg_jpeg.rf.c2fc45af45ad1fe1d6cc481c1f7cb9cf.txt  \n",
            "  inflating: ./butterfly-spider/butterfly-spider/train/labels/OIP-yXSHITn05xvRF4YPNTX4FwHaE8_jpeg.rf.18f1c675247924b0f08ffda95ab0b507.txt  \n",
            "  inflating: ./butterfly-spider/butterfly-spider/train/labels/OIP-yXSHITn05xvRF4YPNTX4FwHaE8_jpeg.rf.9c2d47e96ffe5f9c238ff25e9c32064f.txt  \n",
            "  inflating: ./butterfly-spider/butterfly-spider/train/labels/OIP-yXSHITn05xvRF4YPNTX4FwHaE8_jpeg.rf.d38551625e05a07d000ddc94a620b4e6.txt  \n",
            "  inflating: ./butterfly-spider/butterfly-spider/train/labels/OIP-yyh6D2hwNQjC7LCX1CPg7QHaE8_jpeg.rf.b6309f4d94cd00e7eee3c28bb9d83eca.txt  \n",
            "  inflating: ./butterfly-spider/butterfly-spider/train/labels/OIP-yyh6D2hwNQjC7LCX1CPg7QHaE8_jpeg.rf.eb3832ba03083812a4106a3f41abf17c.txt  \n",
            "  inflating: ./butterfly-spider/butterfly-spider/train/labels/OIP-yZFqF2DrDy1iyg6kR30N4wD5D6_jpeg.rf.3a240c3308f566a632fe5d6080fc71a2.txt  \n",
            "  inflating: ./butterfly-spider/butterfly-spider/train/labels/OIP-yZFqF2DrDy1iyg6kR30N4wD5D6_jpeg.rf.ba40aa8695297439f763a52667d51240.txt  \n",
            "  inflating: ./butterfly-spider/butterfly-spider/train/labels/OIP-yZFqF2DrDy1iyg6kR30N4wD5D6_jpeg.rf.cb31c90e84e7a646585013fda230be61.txt  \n",
            "  inflating: ./butterfly-spider/butterfly-spider/train/labels/OIP-yzT6UwfgoO_l1ZIb2-SdzgHaE6_jpeg.rf.0dcbea3718e574e20d6bb6cfba537e7f.txt  \n",
            "  inflating: ./butterfly-spider/butterfly-spider/train/labels/OIP-yzT6UwfgoO_l1ZIb2-SdzgHaE6_jpeg.rf.44ce706314eb2f6b710c6a121368f0da.txt  \n",
            "  inflating: ./butterfly-spider/butterfly-spider/train/labels/OIP-yzT6UwfgoO_l1ZIb2-SdzgHaE6_jpeg.rf.856e0a1e0683ddf1329369579d11c7cf.txt  \n",
            "  inflating: ./butterfly-spider/butterfly-spider/train/labels/OIP-YzTljtpKSBJZmQmdHOQ-OwHaLH_jpeg.rf.66d2e2919045cf91dcfcb83ea6c12e7c.txt  \n",
            "  inflating: ./butterfly-spider/butterfly-spider/train/labels/OIP-YzTljtpKSBJZmQmdHOQ-OwHaLH_jpeg.rf.8c555a5a59e4acb7e02a9c65edd9e733.txt  \n",
            "  inflating: ./butterfly-spider/butterfly-spider/train/labels/OIP-YzTljtpKSBJZmQmdHOQ-OwHaLH_jpeg.rf.dffdf28881e820e7e34dd17b568253e8.txt  \n",
            "  inflating: ./butterfly-spider/butterfly-spider/train/labels/OIP-YzZWlCiYdyG6V0W0BZyZQAHaLJ_jpeg.rf.5ea29309153d8a982aeb38b1736e614d.txt  \n",
            "  inflating: ./butterfly-spider/butterfly-spider/train/labels/OIP-YzZWlCiYdyG6V0W0BZyZQAHaLJ_jpeg.rf.7fb783f291b2b2ddfe2ca136ebbfa5c1.txt  \n",
            "  inflating: ./butterfly-spider/butterfly-spider/train/labels/OIP-YzZWlCiYdyG6V0W0BZyZQAHaLJ_jpeg.rf.c871d8a1e3c410f3f572e15094f4838f.txt  \n",
            "  inflating: ./butterfly-spider/butterfly-spider/train/labels/OIP-Z0rjiaXwaACAujNgPezbpQHaHa_jpeg.rf.c8448bd3c8f38c2fe58e076678163ad9.txt  \n",
            "  inflating: ./butterfly-spider/butterfly-spider/train/labels/OIP-Z0rjiaXwaACAujNgPezbpQHaHa_jpeg.rf.e72368e2ea9a0c4078eb702f6134e27e.txt  \n",
            "  inflating: ./butterfly-spider/butterfly-spider/train/labels/OIP-Z0rjiaXwaACAujNgPezbpQHaHa_jpeg.rf.fd770551886c8a587a608d7dd28132dc.txt  \n",
            "  inflating: ./butterfly-spider/butterfly-spider/train/labels/OIP-z1px7tqiLGw-zjupGLZ0ggHaFe_jpeg.rf.9174030fec3d01b843ec02eafac27f8e.txt  \n",
            "  inflating: ./butterfly-spider/butterfly-spider/train/labels/OIP-z1px7tqiLGw-zjupGLZ0ggHaFe_jpeg.rf.c0055813ad2532c0282737327b3d20c8.txt  \n",
            "  inflating: ./butterfly-spider/butterfly-spider/train/labels/OIP-z1px7tqiLGw-zjupGLZ0ggHaFe_jpeg.rf.e0aee121f8905ee29b4a03419020ef91.txt  \n",
            "  inflating: ./butterfly-spider/butterfly-spider/train/labels/OIP-Z1ZqgSv6x9XXL7XlXCK3ggHaEO_jpeg.rf.4c1761135f3ff9a03afd247989b0648f.txt  \n",
            "  inflating: ./butterfly-spider/butterfly-spider/train/labels/OIP-Z1ZqgSv6x9XXL7XlXCK3ggHaEO_jpeg.rf.c2cc593d178350dac9dbd5373a390d53.txt  \n",
            "  inflating: ./butterfly-spider/butterfly-spider/train/labels/OIP-Z1ZqgSv6x9XXL7XlXCK3ggHaEO_jpeg.rf.df9373d14514a46bece9bef7da667cd8.txt  \n",
            "  inflating: ./butterfly-spider/butterfly-spider/train/labels/OIP-z2PWlHdCu_wHu-NYY-_jOgHaE7_jpeg.rf.045cf05f43e6b8e68b791cf4e01b32be.txt  \n",
            "  inflating: ./butterfly-spider/butterfly-spider/train/labels/OIP-z2PWlHdCu_wHu-NYY-_jOgHaE7_jpeg.rf.79dd3a16f8409fe70e4912a88c6b3bfc.txt  \n",
            "  inflating: ./butterfly-spider/butterfly-spider/train/labels/OIP-z2PWlHdCu_wHu-NYY-_jOgHaE7_jpeg.rf.fceb1b1296ff9d69ea589fc612afd735.txt  \n",
            "  inflating: ./butterfly-spider/butterfly-spider/train/labels/OIP-Z2xrVmDmr9uK-biTP3DrugHaE8_jpeg.rf.aff5ee2a46e15516b772f17504e72b19.txt  \n",
            "  inflating: ./butterfly-spider/butterfly-spider/train/labels/OIP-Z2xrVmDmr9uK-biTP3DrugHaE8_jpeg.rf.b48b623fee761f7362f0a4996444abe8.txt  \n",
            "  inflating: ./butterfly-spider/butterfly-spider/train/labels/OIP-Z2xrVmDmr9uK-biTP3DrugHaE8_jpeg.rf.f4353784b33d23ca8e86c5edbd2f4578.txt  \n",
            "  inflating: ./butterfly-spider/butterfly-spider/train/labels/OIP-z46vROwW3YPa_826QSTKYAHaFP_jpeg.rf.2b51d8ab0e720fdc6ce5fdab5bed9478.txt  \n",
            "  inflating: ./butterfly-spider/butterfly-spider/train/labels/OIP-z46vROwW3YPa_826QSTKYAHaFP_jpeg.rf.dc7ccbdf3b0b553deca2e82a94bca84a.txt  \n",
            "  inflating: ./butterfly-spider/butterfly-spider/train/labels/OIP-z46vROwW3YPa_826QSTKYAHaFP_jpeg.rf.f245f66f187b100994cf435d78798f4a.txt  \n",
            "  inflating: ./butterfly-spider/butterfly-spider/train/labels/OIP-z5_PYODGjJn8wMDOjVXD1AHaE8_jpeg.rf.1622f70f6bc0449b310c2ee84ea1f34f.txt  \n",
            "  inflating: ./butterfly-spider/butterfly-spider/train/labels/OIP-z5_PYODGjJn8wMDOjVXD1AHaE8_jpeg.rf.823d5d2eb5a9edf70f992f9fdbabc5cf.txt  \n",
            "  inflating: ./butterfly-spider/butterfly-spider/train/labels/OIP-z5_PYODGjJn8wMDOjVXD1AHaE8_jpeg.rf.a2a9cfef3ad56d991f8be80162c906a9.txt  \n",
            "  inflating: ./butterfly-spider/butterfly-spider/train/labels/OIP-z5rafOWOJ-NhLLKPzKnMiwHaFe_jpeg.rf.21973c409e1c0d6314ec76b75654a8c8.txt  \n",
            "  inflating: ./butterfly-spider/butterfly-spider/train/labels/OIP-z5rafOWOJ-NhLLKPzKnMiwHaFe_jpeg.rf.671db9dff5ecf76f462248128986075a.txt  \n",
            "  inflating: ./butterfly-spider/butterfly-spider/train/labels/OIP-z5rafOWOJ-NhLLKPzKnMiwHaFe_jpeg.rf.6f0720ceb2137d83c6c4d09946d5fe54.txt  \n",
            "  inflating: ./butterfly-spider/butterfly-spider/train/labels/OIP-z5TOnpygrdKsNzeEYaXkyQHaGY_jpeg.rf.197ec44f49c036e6e16a8ae339d05659.txt  \n",
            "  inflating: ./butterfly-spider/butterfly-spider/train/labels/OIP-z5TOnpygrdKsNzeEYaXkyQHaGY_jpeg.rf.65a9aab024af650f78dfc9249ab4c65b.txt  \n",
            "  inflating: ./butterfly-spider/butterfly-spider/train/labels/OIP-z5TOnpygrdKsNzeEYaXkyQHaGY_jpeg.rf.9a82463f63896a18837de97f16e3662b.txt  \n",
            "  inflating: ./butterfly-spider/butterfly-spider/train/labels/OIP-z7uZ1Tit_T_2BmRjzYuuiwElEs_jpeg.rf.07db2b5e7759c036eb0fe7195bd69382.txt  \n",
            "  inflating: ./butterfly-spider/butterfly-spider/train/labels/OIP-z7uZ1Tit_T_2BmRjzYuuiwElEs_jpeg.rf.2f037426e08ed2542f1368499a0c86ff.txt  \n",
            "  inflating: ./butterfly-spider/butterfly-spider/train/labels/OIP-z7uZ1Tit_T_2BmRjzYuuiwElEs_jpeg.rf.f7916fba4ec1a537d877ab4d3921ec3e.txt  \n",
            "  inflating: ./butterfly-spider/butterfly-spider/train/labels/OIP-Z7vqUjdmHS91z49flPfBfAHaFj_jpeg.rf.4eb6422a381e1cfd85ebfe1fd5b814cd.txt  \n",
            "  inflating: ./butterfly-spider/butterfly-spider/train/labels/OIP-Z7vqUjdmHS91z49flPfBfAHaFj_jpeg.rf.9a86082a027267ac3dc8f0fbf687f0d1.txt  \n",
            "  inflating: ./butterfly-spider/butterfly-spider/train/labels/OIP-Z7vqUjdmHS91z49flPfBfAHaFj_jpeg.rf.b4059ebc9395f19a56de603d183f1156.txt  \n",
            "  inflating: ./butterfly-spider/butterfly-spider/train/labels/OIP-Z8_xxpuotauY24XqOos7zwHaEH_jpeg.rf.1fa7aee6339d317bca3fcd5afafc3cd8.txt  \n",
            "  inflating: ./butterfly-spider/butterfly-spider/train/labels/OIP-Z8_xxpuotauY24XqOos7zwHaEH_jpeg.rf.792d43a1c7cb12162baed6a18c4f4dbb.txt  \n",
            "  inflating: ./butterfly-spider/butterfly-spider/train/labels/OIP-Z8_xxpuotauY24XqOos7zwHaEH_jpeg.rf.e38773af8f868a77d56824c4c8b3c859.txt  \n",
            "  inflating: ./butterfly-spider/butterfly-spider/train/labels/OIP-Z8a_JtxkQbTf-VD4v3OjyAHaFj_jpeg.rf.1c909974eab08a178194ef3a773a1ecd.txt  \n",
            "  inflating: ./butterfly-spider/butterfly-spider/train/labels/OIP-Z8a_JtxkQbTf-VD4v3OjyAHaFj_jpeg.rf.df6f8300d06baef9df4f6f03e874bc42.txt  \n",
            "  inflating: ./butterfly-spider/butterfly-spider/train/labels/OIP-Z8a_JtxkQbTf-VD4v3OjyAHaFj_jpeg.rf.f292dc7bda8d43f12e3fb5d8caf5c9e1.txt  \n",
            "  inflating: ./butterfly-spider/butterfly-spider/train/labels/OIP-Z8lNnM2djoJUItfzflz4yAHaE8_jpeg.rf.239e99122af9ba0b935a63b5a82a1be5.txt  \n",
            "  inflating: ./butterfly-spider/butterfly-spider/train/labels/OIP-Z8lNnM2djoJUItfzflz4yAHaE8_jpeg.rf.502d9e0cd60ffbafe06632071a27d401.txt  \n",
            "  inflating: ./butterfly-spider/butterfly-spider/train/labels/OIP-Z8lNnM2djoJUItfzflz4yAHaE8_jpeg.rf.750065949964c78acc114fb7bbb45d0f.txt  \n",
            "  inflating: ./butterfly-spider/butterfly-spider/train/labels/OIP-z8zJbRCC9rxdLFA-3DhArgHaE6_jpeg.rf.71cf8f11df240a77ad874b79df99126c.txt  \n",
            "  inflating: ./butterfly-spider/butterfly-spider/train/labels/OIP-z8zJbRCC9rxdLFA-3DhArgHaE6_jpeg.rf.b9f6f30b39e493b0a479697a298f55f4.txt  \n",
            "  inflating: ./butterfly-spider/butterfly-spider/train/labels/OIP-z8zJbRCC9rxdLFA-3DhArgHaE6_jpeg.rf.c1aef6e5d6e7bdb744e4494a05334bb9.txt  \n",
            "  inflating: ./butterfly-spider/butterfly-spider/train/labels/OIP-Z9fM4yNQ8e2ZV132wybRfQHaGI_jpeg.rf.1f71f3f8d5d2f8a3391690356c18fd8d.txt  \n",
            "  inflating: ./butterfly-spider/butterfly-spider/train/labels/OIP-Z9fM4yNQ8e2ZV132wybRfQHaGI_jpeg.rf.360e4f40df2b718a3ebca416907f0d67.txt  \n",
            "  inflating: ./butterfly-spider/butterfly-spider/train/labels/OIP-Z9fM4yNQ8e2ZV132wybRfQHaGI_jpeg.rf.e88178cb3f00b526c1c10d1f7bfcb5b8.txt  \n",
            "  inflating: ./butterfly-spider/butterfly-spider/train/labels/OIP-Z-9nbhWv5KE3m6y2fE56rgHaEi_jpeg.rf.1f4e61699b4b678b27896c9d458e887d.txt  \n",
            "  inflating: ./butterfly-spider/butterfly-spider/train/labels/OIP-Z-9nbhWv5KE3m6y2fE56rgHaEi_jpeg.rf.a25f8f8776128db5023b495b98dfcc76.txt  \n",
            "  inflating: ./butterfly-spider/butterfly-spider/train/labels/OIP-Z-9nbhWv5KE3m6y2fE56rgHaEi_jpeg.rf.d6914d3bd64085a2c73fec1a210e5c3a.txt  \n",
            "  inflating: ./butterfly-spider/butterfly-spider/train/labels/OIP-z9OuKNi-K2bjP6PL6C1vcgHaJO_jpeg.rf.a0d4e7c9c6ec49dc38dc58cd0e4a6de9.txt  \n",
            "  inflating: ./butterfly-spider/butterfly-spider/train/labels/OIP-z9OuKNi-K2bjP6PL6C1vcgHaJO_jpeg.rf.b23bea9793697597ad92fd32353cc4e1.txt  \n",
            "  inflating: ./butterfly-spider/butterfly-spider/train/labels/OIP-z9OuKNi-K2bjP6PL6C1vcgHaJO_jpeg.rf.f8d9975b0de65f27f82b2087aa528389.txt  \n",
            "  inflating: ./butterfly-spider/butterfly-spider/train/labels/OIP-Z9R0QAThaORQ_f5PsD1jtQHaLH_jpeg.rf.1a209c2222f8dd8a8a8c369ca0d2d76e.txt  \n",
            "  inflating: ./butterfly-spider/butterfly-spider/train/labels/OIP-Z9R0QAThaORQ_f5PsD1jtQHaLH_jpeg.rf.5695536aac7569fb1d70922cb3826559.txt  \n",
            "  inflating: ./butterfly-spider/butterfly-spider/train/labels/OIP-Z9R0QAThaORQ_f5PsD1jtQHaLH_jpeg.rf.ebd2dd2ea41249d63b2732c66f7675b8.txt  \n",
            "  inflating: ./butterfly-spider/butterfly-spider/train/labels/OIP-ZAvjq08VZZgLPZkErgLkNwHaF7_jpeg.rf.1b91d1d2dfdef8fe234aafc066f67fb7.txt  \n",
            "  inflating: ./butterfly-spider/butterfly-spider/train/labels/OIP-ZAvjq08VZZgLPZkErgLkNwHaF7_jpeg.rf.31c249db99c7b34812ca942fc65cedd7.txt  \n",
            "  inflating: ./butterfly-spider/butterfly-spider/train/labels/OIP-ZAvjq08VZZgLPZkErgLkNwHaF7_jpeg.rf.d4d1e527da733b2731d1ae0a7c82d85c.txt  \n",
            "  inflating: ./butterfly-spider/butterfly-spider/train/labels/OIP-ZBTdCnY9Po4Ww9U9DAQ5PwHaEk_jpeg.rf.02b7d528fb0849cfcacb9de4b5645674.txt  \n",
            "  inflating: ./butterfly-spider/butterfly-spider/train/labels/OIP-ZBTdCnY9Po4Ww9U9DAQ5PwHaEk_jpeg.rf.10374eb125d9a0fb98a5cc4947ddad39.txt  \n",
            "  inflating: ./butterfly-spider/butterfly-spider/train/labels/OIP-ZBTdCnY9Po4Ww9U9DAQ5PwHaEk_jpeg.rf.63746340df6b99929306dcee92b5b826.txt  \n",
            "  inflating: ./butterfly-spider/butterfly-spider/train/labels/OIP-zbXH1t40TGtfaf-jr0YE3QHaFj_jpeg.rf.5c2f15fec080a57fa4344d3ecc7cd5e6.txt  \n",
            "  inflating: ./butterfly-spider/butterfly-spider/train/labels/OIP-zbXH1t40TGtfaf-jr0YE3QHaFj_jpeg.rf.a97e66c32ded2ed4e21f2fb8b43fbeaf.txt  \n",
            "  inflating: ./butterfly-spider/butterfly-spider/train/labels/OIP-zbXH1t40TGtfaf-jr0YE3QHaFj_jpeg.rf.ac571d9ad7e0125d837824fb6fd4e41e.txt  \n",
            "  inflating: ./butterfly-spider/butterfly-spider/train/labels/OIP-zc4GYQLJ5Tm78CwmoOdvlwHaIM_jpeg.rf.416cdb4c447c41041e047f19ea40c907.txt  \n",
            "  inflating: ./butterfly-spider/butterfly-spider/train/labels/OIP-zc4GYQLJ5Tm78CwmoOdvlwHaIM_jpeg.rf.79bbfaa5193ea481b161208f18d20478.txt  \n",
            "  inflating: ./butterfly-spider/butterfly-spider/train/labels/OIP-zc4GYQLJ5Tm78CwmoOdvlwHaIM_jpeg.rf.c951caf7cb183f8262300cf692b936e2.txt  \n",
            "  inflating: ./butterfly-spider/butterfly-spider/train/labels/OIP-z-Di2tlPDdinq2kU19r-CQHaFN_jpeg.rf.4be8fb0e774b31f9febf093be949b893.txt  \n",
            "  inflating: ./butterfly-spider/butterfly-spider/train/labels/OIP-z-Di2tlPDdinq2kU19r-CQHaFN_jpeg.rf.8621f74c5d6be57262c8ba29d289221a.txt  \n",
            "  inflating: ./butterfly-spider/butterfly-spider/train/labels/OIP-ZdKSrkpG8B2-f3fueXw44gHaE9_jpeg.rf.1f9232698f9960e2debcc011699a249e.txt  \n",
            "  inflating: ./butterfly-spider/butterfly-spider/train/labels/OIP-ZdKSrkpG8B2-f3fueXw44gHaE9_jpeg.rf.56c06f2ba9982df84ffe7a533af94f0c.txt  \n",
            "  inflating: ./butterfly-spider/butterfly-spider/train/labels/OIP-ZdKSrkpG8B2-f3fueXw44gHaE9_jpeg.rf.a9411f5931d5dacaada891442153999c.txt  \n",
            "  inflating: ./butterfly-spider/butterfly-spider/train/labels/OIP-zdZAIubVm0NYpKeBu4zW5QHaFa_jpeg.rf.4616a0b5c28971a88d5c55f36b58f4f1.txt  \n",
            "  inflating: ./butterfly-spider/butterfly-spider/train/labels/OIP-zdZAIubVm0NYpKeBu4zW5QHaFa_jpeg.rf.a8a156636e9a79d6b9820491d7f3c587.txt  \n",
            "  inflating: ./butterfly-spider/butterfly-spider/train/labels/OIP-zdZAIubVm0NYpKeBu4zW5QHaFa_jpeg.rf.e459d6109c138feba7884d4960b9f007.txt  \n",
            "  inflating: ./butterfly-spider/butterfly-spider/train/labels/OIP-ZdZR5B6aAf6jqzFmluXZAQHaIR_jpeg.rf.203f4fd240a55b40a89a269cabc9b65a.txt  \n",
            "  inflating: ./butterfly-spider/butterfly-spider/train/labels/OIP-ZdZR5B6aAf6jqzFmluXZAQHaIR_jpeg.rf.4013119ddebf080212459b9927a404b7.txt  \n",
            "  inflating: ./butterfly-spider/butterfly-spider/train/labels/OIP-ZdZR5B6aAf6jqzFmluXZAQHaIR_jpeg.rf.73d0e5afb28f56494cd7f27c0349e410.txt  \n",
            "  inflating: ./butterfly-spider/butterfly-spider/train/labels/OIP-zEcEUsfyZRh-hVf_ePJOjQHaE7_jpeg.rf.07648fd40f5ed4fe5e17cffd511d427e.txt  \n",
            "  inflating: ./butterfly-spider/butterfly-spider/train/labels/OIP-zEcEUsfyZRh-hVf_ePJOjQHaE7_jpeg.rf.113fa47cd3773e2903371c6152b7e89b.txt  \n",
            "  inflating: ./butterfly-spider/butterfly-spider/train/labels/OIP-zEcEUsfyZRh-hVf_ePJOjQHaE7_jpeg.rf.59b18b0baab3e48478d073d318289c8a.txt  \n",
            "  inflating: ./butterfly-spider/butterfly-spider/train/labels/OIP-ZeL22_dU7eRsi9ei7jwt6wHaFS_jpeg.rf.32cd9a0951ecc8120af08f2e742fa922.txt  \n",
            "  inflating: ./butterfly-spider/butterfly-spider/train/labels/OIP-ZeL22_dU7eRsi9ei7jwt6wHaFS_jpeg.rf.3a4fdb779a2b4668a653fd85e29f3306.txt  \n",
            "  inflating: ./butterfly-spider/butterfly-spider/train/labels/OIP-ZeL22_dU7eRsi9ei7jwt6wHaFS_jpeg.rf.661e55d975bc71d9280f87d311aad626.txt  \n",
            "  inflating: ./butterfly-spider/butterfly-spider/train/labels/OIP-zF1ZnxyoxV-lHuLT4boBXAHaEV_jpeg.rf.0b58cf7199f8c7eb57133448efd737a7.txt  \n",
            "  inflating: ./butterfly-spider/butterfly-spider/train/labels/OIP-zF1ZnxyoxV-lHuLT4boBXAHaEV_jpeg.rf.8f938621fe966480298ece29f7dd97cc.txt  \n",
            "  inflating: ./butterfly-spider/butterfly-spider/train/labels/OIP-zF1ZnxyoxV-lHuLT4boBXAHaEV_jpeg.rf.b08223786f14e6bdfd3187caaf29759e.txt  \n",
            "  inflating: ./butterfly-spider/butterfly-spider/train/labels/OIP-zF8bLcX3upodflev7Tu86gHaFQ_jpeg.rf.95ca7d698e9404594cd50ed10ff5bbc3.txt  \n",
            "  inflating: ./butterfly-spider/butterfly-spider/train/labels/OIP-zF8bLcX3upodflev7Tu86gHaFQ_jpeg.rf.c91a4262b2d4764fb3293c459bd24749.txt  \n",
            "  inflating: ./butterfly-spider/butterfly-spider/train/labels/OIP-zF8bLcX3upodflev7Tu86gHaFQ_jpeg.rf.df4b5b8c543e1d4491ca6eb8b0be6fff.txt  \n",
            "  inflating: ./butterfly-spider/butterfly-spider/train/labels/OIP-zfAPVLu-8OF35j4RhgKULgHaHs_jpeg.rf.7676cb60dbde5dd3a828688eb390191b.txt  \n",
            "  inflating: ./butterfly-spider/butterfly-spider/train/labels/OIP-zfAPVLu-8OF35j4RhgKULgHaHs_jpeg.rf.b0b7e576070f05f1d66fc02aa36c80ea.txt  \n",
            "  inflating: ./butterfly-spider/butterfly-spider/train/labels/OIP-zfAPVLu-8OF35j4RhgKULgHaHs_jpeg.rf.d7e659f9e9d912d9e3973f6b6cf3d7ad.txt  \n",
            "  inflating: ./butterfly-spider/butterfly-spider/train/labels/OIP-ZfbIIMJIiGZ6dkgKrnt6tgHaE7_jpeg.rf.139d3471f3cdc9cb0e5d03692d74d66c.txt  \n",
            "  inflating: ./butterfly-spider/butterfly-spider/train/labels/OIP-ZfbIIMJIiGZ6dkgKrnt6tgHaE7_jpeg.rf.30598705883ff023e938f889955eecc5.txt  \n",
            "  inflating: ./butterfly-spider/butterfly-spider/train/labels/OIP-ZfbIIMJIiGZ6dkgKrnt6tgHaE7_jpeg.rf.b1979c2f9990c43717c24201705338e5.txt  \n",
            "  inflating: ./butterfly-spider/butterfly-spider/train/labels/OIP-Zfn61Vsl6Ze5PVcefkg6ZAHaE7_jpeg.rf.06d6bbc5b03897a840a6174951529189.txt  \n",
            "  inflating: ./butterfly-spider/butterfly-spider/train/labels/OIP-Zfn61Vsl6Ze5PVcefkg6ZAHaE7_jpeg.rf.1241d25587eeaa5f8b397eb6ec736003.txt  \n",
            "  inflating: ./butterfly-spider/butterfly-spider/train/labels/OIP-Zfn61Vsl6Ze5PVcefkg6ZAHaE7_jpeg.rf.76539b0180df2180133ca622e4fc22fd.txt  \n",
            "  inflating: ./butterfly-spider/butterfly-spider/train/labels/OIP-ZfpKmVO0DVFjREjxCETW9AHaEv_jpeg.rf.3a7eb7cf551528ec98079a346b0b43ae.txt  \n",
            "  inflating: ./butterfly-spider/butterfly-spider/train/labels/OIP-ZfpKmVO0DVFjREjxCETW9AHaEv_jpeg.rf.7736d63f7bead75805451756206c21ae.txt  \n",
            "  inflating: ./butterfly-spider/butterfly-spider/train/labels/OIP-ZfpKmVO0DVFjREjxCETW9AHaEv_jpeg.rf.8db5f0225cd299e9f12169914b5d1f56.txt  \n",
            " extracting: ./butterfly-spider/butterfly-spider/train/labels/OIP-ZFTi_50S9jvpmygEn6VVGwHaJQ_jpeg.rf.16927b1b5c3d1598c967c94d428e1179.txt  \n",
            " extracting: ./butterfly-spider/butterfly-spider/train/labels/OIP-ZFTi_50S9jvpmygEn6VVGwHaJQ_jpeg.rf.ba000e4e2378d900c1e0b9dd642be328.txt  \n",
            " extracting: ./butterfly-spider/butterfly-spider/train/labels/OIP-ZFTi_50S9jvpmygEn6VVGwHaJQ_jpeg.rf.c4594adb3553f532b92f59e9a06ecf7c.txt  \n",
            "  inflating: ./butterfly-spider/butterfly-spider/train/labels/OIP-ZGiVM7MXnQXGK_OLjA-K2gHaFj_jpeg.rf.0607c4be4340695ec8138148f836700c.txt  \n",
            "  inflating: ./butterfly-spider/butterfly-spider/train/labels/OIP-ZGiVM7MXnQXGK_OLjA-K2gHaFj_jpeg.rf.62bbffe98776e988a4b80e58b763b459.txt  \n",
            "  inflating: ./butterfly-spider/butterfly-spider/train/labels/OIP-ZGiVM7MXnQXGK_OLjA-K2gHaFj_jpeg.rf.cffb47e6b600a078ef2f1ba10e028f39.txt  \n",
            "  inflating: ./butterfly-spider/butterfly-spider/train/labels/OIP-Z-GtFEd8GLhDV7rwNxuObwHaFG_jpeg.rf.0d04976cb2f9357b4772b44498041a48.txt  \n",
            "  inflating: ./butterfly-spider/butterfly-spider/train/labels/OIP-Z-GtFEd8GLhDV7rwNxuObwHaFG_jpeg.rf.4f7af4eadd41a994258aacb72874751b.txt  \n",
            "  inflating: ./butterfly-spider/butterfly-spider/train/labels/OIP-Z-GtFEd8GLhDV7rwNxuObwHaFG_jpeg.rf.6d9a1603a477aa91b30609a0e37fc29f.txt  \n",
            "  inflating: ./butterfly-spider/butterfly-spider/train/labels/OIP-Z-GtFEd8GLhDV7rwNxuObwHaFG_jpeg.rf.7c6c374fc52edde17f4ad42ed7a2b357.txt  \n",
            "  inflating: ./butterfly-spider/butterfly-spider/train/labels/OIP-Z-GtFEd8GLhDV7rwNxuObwHaFG_jpeg.rf.cd7bf462435605e581c7c1af96474785.txt  \n",
            "  inflating: ./butterfly-spider/butterfly-spider/train/labels/OIP-Z-GtFEd8GLhDV7rwNxuObwHaFG_jpeg.rf.f56066ed50c6044d3d8d1fe37a50c962.txt  \n",
            "  inflating: ./butterfly-spider/butterfly-spider/train/labels/OIP-zgZsf661wyCOgzjRfbj38AHaE8_jpeg.rf.7fa7dc36aae5ffdbc93ecba8e9faaa53.txt  \n",
            "  inflating: ./butterfly-spider/butterfly-spider/train/labels/OIP-zgZsf661wyCOgzjRfbj38AHaE8_jpeg.rf.db0540430fbb1f527e8030371dca4e0e.txt  \n",
            "  inflating: ./butterfly-spider/butterfly-spider/train/labels/OIP-zgZsf661wyCOgzjRfbj38AHaE8_jpeg.rf.ecd4e094ea106c0e20a61fdd1e8faf6c.txt  \n",
            "  inflating: ./butterfly-spider/butterfly-spider/train/labels/OIP-zhaXbV83SQXvsDQluZA69wHaFk_jpeg.rf.0e1e208abdb2b1360eb29d53b22dc6f0.txt  \n",
            "  inflating: ./butterfly-spider/butterfly-spider/train/labels/OIP-zhaXbV83SQXvsDQluZA69wHaFk_jpeg.rf.4e38611736b65a47ae9fa2c1d39cb42f.txt  \n",
            "  inflating: ./butterfly-spider/butterfly-spider/train/labels/OIP-zhaXbV83SQXvsDQluZA69wHaFk_jpeg.rf.9aceb0e1d5a8ee70f51045f2f76cc6ef.txt  \n",
            "  inflating: ./butterfly-spider/butterfly-spider/train/labels/OIP-zHdTca7OlHCbkikqeKXz9wHaFj_jpeg.rf.bcd9a9f112184f4302d98eda26b0b6d7.txt  \n",
            "  inflating: ./butterfly-spider/butterfly-spider/train/labels/OIP-zHdTca7OlHCbkikqeKXz9wHaFj_jpeg.rf.bce59f7bc6c56ec76b04af64a5253b5d.txt  \n",
            "  inflating: ./butterfly-spider/butterfly-spider/train/labels/OIP-zHdTca7OlHCbkikqeKXz9wHaFj_jpeg.rf.c4117a1f2bd4e0435ffae59882daba71.txt  \n",
            "  inflating: ./butterfly-spider/butterfly-spider/train/labels/OIP-zhg4d3Fm5Y0cHof6-CSmVgHaFL_jpeg.rf.2cb756464bcfe9a4301afd4a96977177.txt  \n",
            "  inflating: ./butterfly-spider/butterfly-spider/train/labels/OIP-zhg4d3Fm5Y0cHof6-CSmVgHaFL_jpeg.rf.667892df2b9ce0cfdbbaa7ffc1eb7884.txt  \n",
            "  inflating: ./butterfly-spider/butterfly-spider/train/labels/OIP-zhg4d3Fm5Y0cHof6-CSmVgHaFL_jpeg.rf.7f142e4541e70eb2d0aace22b6096fc5.txt  \n",
            "  inflating: ./butterfly-spider/butterfly-spider/train/labels/OIP-zhH1yN3iA9vMUxhsJisGPgHaHa_jpeg.rf.1fdb529000fb27fb3b4d6e81343c49b5.txt  \n",
            "  inflating: ./butterfly-spider/butterfly-spider/train/labels/OIP-zhH1yN3iA9vMUxhsJisGPgHaHa_jpeg.rf.3a53f3ddb526c216b4e6c4ffded58e9e.txt  \n",
            "  inflating: ./butterfly-spider/butterfly-spider/train/labels/OIP-zhH1yN3iA9vMUxhsJisGPgHaHa_jpeg.rf.3a81024ce4b3271abc3120ff67ddb880.txt  \n",
            "  inflating: ./butterfly-spider/butterfly-spider/train/labels/OIP-zHqQXbPpyTcKdrtiEKbbXwHaGz_jpeg.rf.030e112a039675a8a85aa3f419014622.txt  \n",
            "  inflating: ./butterfly-spider/butterfly-spider/train/labels/OIP-zHqQXbPpyTcKdrtiEKbbXwHaGz_jpeg.rf.aac259cbda2c417a5e13aa704beb839c.txt  \n",
            "  inflating: ./butterfly-spider/butterfly-spider/train/labels/OIP-zHqQXbPpyTcKdrtiEKbbXwHaGz_jpeg.rf.b665658496188c9c4b0158da58342214.txt  \n",
            "  inflating: ./butterfly-spider/butterfly-spider/train/labels/OIP-Zi6cQpXYOS3pvzGTuX3sngHaE8_jpeg.rf.0667b2f7b482c17fa4d97b56a140cba2.txt  \n",
            "  inflating: ./butterfly-spider/butterfly-spider/train/labels/OIP-Zi6cQpXYOS3pvzGTuX3sngHaE8_jpeg.rf.7db8e2a581fcba5ae5221bd1d6458849.txt  \n",
            "  inflating: ./butterfly-spider/butterfly-spider/train/labels/OIP-Zi6cQpXYOS3pvzGTuX3sngHaE8_jpeg.rf.ba42291a096fb26312b6935e938a3287.txt  \n",
            "  inflating: ./butterfly-spider/butterfly-spider/train/labels/OIP-ZIZCoITYQ15BVy17s7_1vwHaHa_jpeg.rf.857619291fac4a48e5c24aef9f359afe.txt  \n",
            "  inflating: ./butterfly-spider/butterfly-spider/train/labels/OIP-ZIZCoITYQ15BVy17s7_1vwHaHa_jpeg.rf.bc66338c71b8846ed344700e503740ce.txt  \n",
            "  inflating: ./butterfly-spider/butterfly-spider/train/labels/OIP-ZIZCoITYQ15BVy17s7_1vwHaHa_jpeg.rf.e336eaa7579a6c1864cb026652c9c82d.txt  \n",
            "  inflating: ./butterfly-spider/butterfly-spider/train/labels/OIP-zjfPjvKx0MKS9zoExZXGhgHaEo_jpeg.rf.090c11c7b471eee331bd05d6c2b8d141.txt  \n",
            "  inflating: ./butterfly-spider/butterfly-spider/train/labels/OIP-zjfPjvKx0MKS9zoExZXGhgHaEo_jpeg.rf.62019e1f1f9b32c5ad5d5f5ee5664ea3.txt  \n",
            "  inflating: ./butterfly-spider/butterfly-spider/train/labels/OIP-zjfPjvKx0MKS9zoExZXGhgHaEo_jpeg.rf.b6eedd7caaceefc86e81d8fe268c0642.txt  \n",
            "  inflating: ./butterfly-spider/butterfly-spider/train/labels/OIP-zJZlz1vpu_Db6kQBa7TnyAEsDv_jpeg.rf.12b44a9c46dd63ce91193d4905472457.txt  \n",
            "  inflating: ./butterfly-spider/butterfly-spider/train/labels/OIP-zJZlz1vpu_Db6kQBa7TnyAEsDv_jpeg.rf.a92c6fb43ebb60210222093f3eaa0aab.txt  \n",
            "  inflating: ./butterfly-spider/butterfly-spider/train/labels/OIP-zJZlz1vpu_Db6kQBa7TnyAEsDv_jpeg.rf.ebde4c44fef3fd7b586c6835b07735b5.txt  \n",
            "  inflating: ./butterfly-spider/butterfly-spider/train/labels/OIP-ZKbRICDW0sZ4itZGiQLzBgHaE7_jpeg.rf.782189159263a248d273a4458aff5e79.txt  \n",
            "  inflating: ./butterfly-spider/butterfly-spider/train/labels/OIP-ZKbRICDW0sZ4itZGiQLzBgHaE7_jpeg.rf.e4d4f81c32e38c8e5a64091f7057060e.txt  \n",
            "  inflating: ./butterfly-spider/butterfly-spider/train/labels/OIP-ZKbRICDW0sZ4itZGiQLzBgHaE7_jpeg.rf.f60dcd24c8ffb57e7d362e9e68fff56d.txt  \n",
            "  inflating: ./butterfly-spider/butterfly-spider/train/labels/OIP-zkcgeftSNw3I2kz7YapyhwHaGf_jpeg.rf.5687c3c82652a089010c5e03261d6f33.txt  \n",
            "  inflating: ./butterfly-spider/butterfly-spider/train/labels/OIP-zkcgeftSNw3I2kz7YapyhwHaGf_jpeg.rf.dbcb6566ae290351990c0467abada04e.txt  \n",
            "  inflating: ./butterfly-spider/butterfly-spider/train/labels/OIP-zkcgeftSNw3I2kz7YapyhwHaGf_jpeg.rf.f6819e90c4ab1bcfa7db10258ee3e0b7.txt  \n",
            "  inflating: ./butterfly-spider/butterfly-spider/train/labels/OIP-zKJoIQ5B9QH11vRJJOKOCQHaHa_jpeg.rf.1d5dccfee92a6c654d00b88637094b90.txt  \n",
            "  inflating: ./butterfly-spider/butterfly-spider/train/labels/OIP-zKJoIQ5B9QH11vRJJOKOCQHaHa_jpeg.rf.d702867c6d5e2a4e0857009eb09d69a0.txt  \n",
            "  inflating: ./butterfly-spider/butterfly-spider/train/labels/OIP-zKJoIQ5B9QH11vRJJOKOCQHaHa_jpeg.rf.f9cf5a907d3e523da160b3674faae42c.txt  \n",
            "  inflating: ./butterfly-spider/butterfly-spider/train/labels/OIP-ZKzV6CSgJxhUCMfnw29qRQAAAA_jpeg.rf.0ea8934e304f18c337e0be9571e1cec2.txt  \n",
            "  inflating: ./butterfly-spider/butterfly-spider/train/labels/OIP-ZKzV6CSgJxhUCMfnw29qRQAAAA_jpeg.rf.59d0b956e954c36ee9ae83be93e19856.txt  \n",
            "  inflating: ./butterfly-spider/butterfly-spider/train/labels/OIP-ZKzV6CSgJxhUCMfnw29qRQAAAA_jpeg.rf.8a85ec568f9e981dd01bf85e32182ed6.txt  \n",
            "  inflating: ./butterfly-spider/butterfly-spider/train/labels/OIP-zlAXM5j1lboH0YjCncT7VQHaFH_jpeg.rf.5d13497d325ddd10bb002be6bd7b9e57.txt  \n",
            "  inflating: ./butterfly-spider/butterfly-spider/train/labels/OIP-zlAXM5j1lboH0YjCncT7VQHaFH_jpeg.rf.7b3843fdd20233aaf9e60af420c12dde.txt  \n",
            "  inflating: ./butterfly-spider/butterfly-spider/train/labels/OIP-zlAXM5j1lboH0YjCncT7VQHaFH_jpeg.rf.cb66fee78d57049a561fba58ce830a12.txt  \n",
            "  inflating: ./butterfly-spider/butterfly-spider/train/labels/OIP-ZLSdLYAEcerAWVQtygCgwwHaHI_jpeg.rf.199aeff36ca9933ae88c5fadf11bc1af.txt  \n",
            "  inflating: ./butterfly-spider/butterfly-spider/train/labels/OIP-ZLSdLYAEcerAWVQtygCgwwHaHI_jpeg.rf.2c98fc286997cdde16751856cfab29c6.txt  \n",
            "  inflating: ./butterfly-spider/butterfly-spider/train/labels/OIP-ZLSdLYAEcerAWVQtygCgwwHaHI_jpeg.rf.a5096803abf6ab5236f8d88bb4339233.txt  \n",
            "  inflating: ./butterfly-spider/butterfly-spider/train/labels/OIP-zlUzki_MaBGxXVkckgozRwHaFK_jpeg.rf.43faa88b900c32de0934f19c70d46029.txt  \n",
            "  inflating: ./butterfly-spider/butterfly-spider/train/labels/OIP-zlUzki_MaBGxXVkckgozRwHaFK_jpeg.rf.9acb027c8c32da6a2415949bafe2ff6c.txt  \n",
            "  inflating: ./butterfly-spider/butterfly-spider/train/labels/OIP-zlUzki_MaBGxXVkckgozRwHaFK_jpeg.rf.c4d232fc8d93c570da9deda5960a1968.txt  \n",
            "  inflating: ./butterfly-spider/butterfly-spider/train/labels/OIP-zlvuGi1V1hGfbhNwlucgwwAAAA_jpeg.rf.158d4314c397aea82bb7cf6775bd2a78.txt  \n",
            "  inflating: ./butterfly-spider/butterfly-spider/train/labels/OIP-zlvuGi1V1hGfbhNwlucgwwAAAA_jpeg.rf.a1df8daafae35433f2f154e1a8af718a.txt  \n",
            "  inflating: ./butterfly-spider/butterfly-spider/train/labels/OIP-zlvuGi1V1hGfbhNwlucgwwAAAA_jpeg.rf.a44e8b1490f3ed59fd3b3cf423b7ec16.txt  \n",
            "  inflating: ./butterfly-spider/butterfly-spider/train/labels/OIP-ZLyl67cae3ie7KHw1c6AVgHaFj_jpeg.rf.c5e6f74377bba94a46a83399fd747a4b.txt  \n",
            "  inflating: ./butterfly-spider/butterfly-spider/train/labels/OIP-ZLyl67cae3ie7KHw1c6AVgHaFj_jpeg.rf.e1562671001f10f826de48dca8fb2b68.txt  \n",
            "  inflating: ./butterfly-spider/butterfly-spider/train/labels/OIP-ZLyl67cae3ie7KHw1c6AVgHaFj_jpeg.rf.f9f79ecb0410fd25e2b367593e020d76.txt  \n",
            "  inflating: ./butterfly-spider/butterfly-spider/train/labels/OIP-ZMAMJ9DqxFwulsKMplz7SAHaFd_jpeg.rf.4681e06b60fe10b7af4407b2a134aa9b.txt  \n",
            "  inflating: ./butterfly-spider/butterfly-spider/train/labels/OIP-ZMAMJ9DqxFwulsKMplz7SAHaFd_jpeg.rf.e96117251ee76eb229a36968d01d3e8e.txt  \n",
            "  inflating: ./butterfly-spider/butterfly-spider/train/labels/OIP-ZMAMJ9DqxFwulsKMplz7SAHaFd_jpeg.rf.e9e8df15fc3f1f3b0f67a1d9655f8dab.txt  \n",
            "  inflating: ./butterfly-spider/butterfly-spider/train/labels/OIP-ZmiYanstKYj7l_5NVXCOgAHaK6_jpeg.rf.b9e7fb5d08853c4cfc5b4543296260a3.txt  \n",
            "  inflating: ./butterfly-spider/butterfly-spider/train/labels/OIP-ZmiYanstKYj7l_5NVXCOgAHaK6_jpeg.rf.d3331016fc157b65ec51c233f1a5e397.txt  \n",
            "  inflating: ./butterfly-spider/butterfly-spider/train/labels/OIP-ZmiYanstKYj7l_5NVXCOgAHaK6_jpeg.rf.f02c97efb04cd8f756be12c2fb895d33.txt  \n",
            "  inflating: ./butterfly-spider/butterfly-spider/train/labels/OIP-zmqoRKiBfOYom1SN7QtfEgHaFk_jpeg.rf.0cb34a5c7f1b8687dabd5b6f02e6b87f.txt  \n",
            "  inflating: ./butterfly-spider/butterfly-spider/train/labels/OIP-zmqoRKiBfOYom1SN7QtfEgHaFk_jpeg.rf.407338604e38edfb830fbb9b3bb01a14.txt  \n",
            "  inflating: ./butterfly-spider/butterfly-spider/train/labels/OIP-zmqoRKiBfOYom1SN7QtfEgHaFk_jpeg.rf.8f74750f23a1c6a01ddf4fb227e358de.txt  \n",
            "  inflating: ./butterfly-spider/butterfly-spider/train/labels/OIP-ZNHS2r6TkxLCnWqS3frZrQEsEs_jpeg.rf.2e86bfebb1e9e06a4cc6d08c6cf28fb9.txt  \n",
            "  inflating: ./butterfly-spider/butterfly-spider/train/labels/OIP-ZNHS2r6TkxLCnWqS3frZrQEsEs_jpeg.rf.9bb727863b9e4d09cc24521c1fe66fe3.txt  \n",
            "  inflating: ./butterfly-spider/butterfly-spider/train/labels/OIP-ZNHS2r6TkxLCnWqS3frZrQEsEs_jpeg.rf.f1ce40d8bbbb46fb9809fe32bd69e65d.txt  \n",
            "  inflating: ./butterfly-spider/butterfly-spider/train/labels/OIP-ZNkC-6c5zWQLaaC8gNxC3AHaHI_jpeg.rf.0c0c7faf7cf04fde7fa711cbe3cb927a.txt  \n",
            "  inflating: ./butterfly-spider/butterfly-spider/train/labels/OIP-ZNkC-6c5zWQLaaC8gNxC3AHaHI_jpeg.rf.37f29f932cd0a002deda37bf699f5a68.txt  \n",
            "  inflating: ./butterfly-spider/butterfly-spider/train/labels/OIP-ZNkC-6c5zWQLaaC8gNxC3AHaHI_jpeg.rf.99f3614f326ec346f7fd52b65439ab1c.txt  \n",
            "  inflating: ./butterfly-spider/butterfly-spider/train/labels/OIP-ZNzQnP57qFI8HNkD5v9T_AHaFj_jpeg.rf.0896df524d460a6c31a0a41c30661fcf.txt  \n",
            "  inflating: ./butterfly-spider/butterfly-spider/train/labels/OIP-ZNzQnP57qFI8HNkD5v9T_AHaFj_jpeg.rf.b7f178260629f8b55fcc69ffccb3111a.txt  \n",
            "  inflating: ./butterfly-spider/butterfly-spider/train/labels/OIP-ZNzQnP57qFI8HNkD5v9T_AHaFj_jpeg.rf.f265e851381e6b88d67c111e96dde701.txt  \n",
            "  inflating: ./butterfly-spider/butterfly-spider/train/labels/OIP-Zoh3ThibbqWnLjYsgyYyhQHaFO_jpeg.rf.259a321a0df81abb6e1ae726b709828d.txt  \n",
            "  inflating: ./butterfly-spider/butterfly-spider/train/labels/OIP-Zoh3ThibbqWnLjYsgyYyhQHaFO_jpeg.rf.27c779e292b35f7262cde59c58d4d5a3.txt  \n",
            "  inflating: ./butterfly-spider/butterfly-spider/train/labels/OIP-Zoh3ThibbqWnLjYsgyYyhQHaFO_jpeg.rf.9268acf32e6525f986f447eea78ff482.txt  \n",
            "  inflating: ./butterfly-spider/butterfly-spider/train/labels/OIP-zoHwBHIQJhCJXArT68-DYwHaFj_jpeg.rf.5fc037a0f9e6abbebd7dfa087d4d2998.txt  \n",
            "  inflating: ./butterfly-spider/butterfly-spider/train/labels/OIP-zoHwBHIQJhCJXArT68-DYwHaFj_jpeg.rf.6f9088324484efe803fcaf2e435208b5.txt  \n",
            "  inflating: ./butterfly-spider/butterfly-spider/train/labels/OIP-zoHwBHIQJhCJXArT68-DYwHaFj_jpeg.rf.b07043032e5535d83fb364e25df7d538.txt  \n",
            "  inflating: ./butterfly-spider/butterfly-spider/train/labels/OIP-ZoQ8Nyr4YgYWVrptleO-8QHaGn_jpeg.rf.2f3b6be1238aaba1964d921b352ff0b7.txt  \n",
            "  inflating: ./butterfly-spider/butterfly-spider/train/labels/OIP-ZoQ8Nyr4YgYWVrptleO-8QHaGn_jpeg.rf.33d6075233aa3f15160f909564baa225.txt  \n",
            "  inflating: ./butterfly-spider/butterfly-spider/train/labels/OIP-ZoQ8Nyr4YgYWVrptleO-8QHaGn_jpeg.rf.ec329d226ae4a5d94862be397d87f519.txt  \n",
            "  inflating: ./butterfly-spider/butterfly-spider/train/labels/OIP-zovnszH4rynfbe1wLmi7yQHaGI_jpeg.rf.24a0ee068e713cc21713134d3675f952.txt  \n",
            "  inflating: ./butterfly-spider/butterfly-spider/train/labels/OIP-zovnszH4rynfbe1wLmi7yQHaGI_jpeg.rf.9e16cac28920d01d67946ce670281ba8.txt  \n",
            "  inflating: ./butterfly-spider/butterfly-spider/train/labels/OIP-zovnszH4rynfbe1wLmi7yQHaGI_jpeg.rf.f836ea95c20b68c225a603ff0b753d82.txt  \n",
            "  inflating: ./butterfly-spider/butterfly-spider/train/labels/OIP-zP3DkKZgncNZmqcs4npYPgHaFj_jpeg.rf.6485e6adaf678191bb6b6e4fcbbe739e.txt  \n",
            "  inflating: ./butterfly-spider/butterfly-spider/train/labels/OIP-zP3DkKZgncNZmqcs4npYPgHaFj_jpeg.rf.9a7eaa20fcdb63cc963612b41b529646.txt  \n",
            "  inflating: ./butterfly-spider/butterfly-spider/train/labels/OIP-zP3DkKZgncNZmqcs4npYPgHaFj_jpeg.rf.a548c27b03c74d37c667978958ca6a9a.txt  \n",
            "  inflating: ./butterfly-spider/butterfly-spider/train/labels/OIP-zPAo5r6LFYnzdPl6HUXxbgHaFj_jpeg.rf.2d7c658f11da53832788882972b14a29.txt  \n",
            "  inflating: ./butterfly-spider/butterfly-spider/train/labels/OIP-zPAo5r6LFYnzdPl6HUXxbgHaFj_jpeg.rf.4d56be4a30637bbf4b9b3167f821d474.txt  \n",
            "  inflating: ./butterfly-spider/butterfly-spider/train/labels/OIP-zPAo5r6LFYnzdPl6HUXxbgHaFj_jpeg.rf.e83714a8025c7452ba5dbd81421571b6.txt  \n",
            "  inflating: ./butterfly-spider/butterfly-spider/train/labels/OIP-ZpDA196A18SL-y1QFaPWMgHaE8_jpeg.rf.37f965d941221c67b2f7d27ae1cb016f.txt  \n",
            "  inflating: ./butterfly-spider/butterfly-spider/train/labels/OIP-ZpDA196A18SL-y1QFaPWMgHaE8_jpeg.rf.8083469955e7c2f4673f1610531db7ab.txt  \n",
            "  inflating: ./butterfly-spider/butterfly-spider/train/labels/OIP-ZpDA196A18SL-y1QFaPWMgHaE8_jpeg.rf.9d3d85a3eee3ecb83a1bd1d269c224b8.txt  \n",
            "  inflating: ./butterfly-spider/butterfly-spider/train/labels/OIP-zpNAq_EsegFmkzfAF_S-QHaG4_jpeg.rf.6b8b75c2a7da2f53b1562b4323d8ebef.txt  \n",
            "  inflating: ./butterfly-spider/butterfly-spider/train/labels/OIP-zpNAq_EsegFmkzfAF_S-QHaG4_jpeg.rf.79b29a349a19f149ec7a5deac014a489.txt  \n",
            "  inflating: ./butterfly-spider/butterfly-spider/train/labels/OIP-zpNAq_EsegFmkzfAF_S-QHaG4_jpeg.rf.7a1dc219f3668142106bdb6643fe23d5.txt  \n",
            "  inflating: ./butterfly-spider/butterfly-spider/train/labels/OIP-zPORiXvd8as13yXg-fINbwHaE8_jpeg.rf.c159092eae1387d6a646a7d293ff4265.txt  \n",
            "  inflating: ./butterfly-spider/butterfly-spider/train/labels/OIP-zPORiXvd8as13yXg-fINbwHaE8_jpeg.rf.e5b51d19cd65e579643b3989d2a278a7.txt  \n",
            "  inflating: ./butterfly-spider/butterfly-spider/train/labels/OIP-zPORiXvd8as13yXg-fINbwHaE8_jpeg.rf.f6e434ba3a4631a9506bc17a6c7514d0.txt  \n",
            "  inflating: ./butterfly-spider/butterfly-spider/train/labels/OIP-zPP9nlL2_JjcM1cNZLalHAHaFj_jpeg.rf.1bfc16d1b81dc7f5326b14dd7a06051d.txt  \n",
            "  inflating: ./butterfly-spider/butterfly-spider/train/labels/OIP-zPP9nlL2_JjcM1cNZLalHAHaFj_jpeg.rf.62c6f8e6fb7c8afb73cbaff0b4da0559.txt  \n",
            "  inflating: ./butterfly-spider/butterfly-spider/train/labels/OIP-zPP9nlL2_JjcM1cNZLalHAHaFj_jpeg.rf.6b0f33a9a7991b626116e39cb087f521.txt  \n",
            "  inflating: ./butterfly-spider/butterfly-spider/train/labels/OIP-ZpwpGFxf1qY7_frh1n8dFgHaHa_jpeg.rf.4cd06c787dcce7e002346a5a2cc1b938.txt  \n",
            "  inflating: ./butterfly-spider/butterfly-spider/train/labels/OIP-ZpwpGFxf1qY7_frh1n8dFgHaHa_jpeg.rf.8af1d736438416cf4a9679d66c69124d.txt  \n",
            "  inflating: ./butterfly-spider/butterfly-spider/train/labels/OIP-ZpwpGFxf1qY7_frh1n8dFgHaHa_jpeg.rf.e33affb0db91de34a3b4631fb5781a8b.txt  \n",
            "  inflating: ./butterfly-spider/butterfly-spider/train/labels/OIP-Zq_q8o8cw50F1x6S7AmlsQHaFi_jpeg.rf.329c4e76d4a1f63657ef82639aa79aa5.txt  \n",
            "  inflating: ./butterfly-spider/butterfly-spider/train/labels/OIP-Zq_q8o8cw50F1x6S7AmlsQHaFi_jpeg.rf.681d60a4788f1a9c061bbe07c0c4299f.txt  \n",
            "  inflating: ./butterfly-spider/butterfly-spider/train/labels/OIP-Zq_q8o8cw50F1x6S7AmlsQHaFi_jpeg.rf.9bd1044ce26e1d95747a50f2d874b660.txt  \n",
            "  inflating: ./butterfly-spider/butterfly-spider/train/labels/OIP-zqbZCin6JdYbHCZbyZ06EgHaFj_jpeg.rf.51d47c2db61ae1f4b223955211521f1e.txt  \n",
            "  inflating: ./butterfly-spider/butterfly-spider/train/labels/OIP-zqbZCin6JdYbHCZbyZ06EgHaFj_jpeg.rf.6bd47da5d21e0076cdfb7a8c98cd5e67.txt  \n",
            "  inflating: ./butterfly-spider/butterfly-spider/train/labels/OIP-zqbZCin6JdYbHCZbyZ06EgHaFj_jpeg.rf.9b27015c88cbd3e88405ed216ce10234.txt  \n",
            "  inflating: ./butterfly-spider/butterfly-spider/train/labels/OIP-zQfPgwUXT4NzOlq7FfLaiwHaEo_jpeg.rf.8e7f96209dd1b25f242073acc72ac397.txt  \n",
            "  inflating: ./butterfly-spider/butterfly-spider/train/labels/OIP-zQfPgwUXT4NzOlq7FfLaiwHaEo_jpeg.rf.9816cf249ea0690d56c1067667e198c2.txt  \n",
            "  inflating: ./butterfly-spider/butterfly-spider/train/labels/OIP-zQfPgwUXT4NzOlq7FfLaiwHaEo_jpeg.rf.fd03228566700463d858c6e61b6a6d1e.txt  \n",
            "  inflating: ./butterfly-spider/butterfly-spider/train/labels/OIP-ZqM6QlEfnf8IzyNnMqwzLwHaEo_jpeg.rf.616ed7b17b1040a711cac4c5ca1d36d6.txt  \n",
            "  inflating: ./butterfly-spider/butterfly-spider/train/labels/OIP-ZqM6QlEfnf8IzyNnMqwzLwHaEo_jpeg.rf.cc6c93d201dd62e512ca07268b2e09bb.txt  \n",
            "  inflating: ./butterfly-spider/butterfly-spider/train/labels/OIP-ZqM6QlEfnf8IzyNnMqwzLwHaEo_jpeg.rf.f8a5e69cb9210cdac7aa49c3e4183544.txt  \n",
            "  inflating: ./butterfly-spider/butterfly-spider/train/labels/OIP-zQsRoGVqtb8420KIMccJAQHaKI_jpeg.rf.1d4dd61409fd36c57e5bbfbf389ddf6a.txt  \n",
            "  inflating: ./butterfly-spider/butterfly-spider/train/labels/OIP-zQsRoGVqtb8420KIMccJAQHaKI_jpeg.rf.503c520a29f9d1133f987704d4b9b5d3.txt  \n",
            "  inflating: ./butterfly-spider/butterfly-spider/train/labels/OIP-zQsRoGVqtb8420KIMccJAQHaKI_jpeg.rf.a7cc7e86a426c1d1702698494866da96.txt  \n",
            "  inflating: ./butterfly-spider/butterfly-spider/train/labels/OIP-zQxGnBuCj-d-M8bP-x1pzwHaF5_jpeg.rf.5a1e1b031d5165ae80694674472632d5.txt  \n",
            "  inflating: ./butterfly-spider/butterfly-spider/train/labels/OIP-zQxGnBuCj-d-M8bP-x1pzwHaF5_jpeg.rf.73732fea1fe6f54400525cce1533c2cb.txt  \n",
            "  inflating: ./butterfly-spider/butterfly-spider/train/labels/OIP-zQxGnBuCj-d-M8bP-x1pzwHaF5_jpeg.rf.c9204fb16c67179352d8b920fe6ca458.txt  \n",
            "  inflating: ./butterfly-spider/butterfly-spider/train/labels/OIP-zR5gDXThMuci-Yhhs96S0gEsEr_jpeg.rf.15edd18435a431d2aa24f430453015af.txt  \n",
            "  inflating: ./butterfly-spider/butterfly-spider/train/labels/OIP-zR5gDXThMuci-Yhhs96S0gEsEr_jpeg.rf.17588b7e4ecc37f426a621102b1fee2a.txt  \n",
            "  inflating: ./butterfly-spider/butterfly-spider/train/labels/OIP-zR5gDXThMuci-Yhhs96S0gEsEr_jpeg.rf.e83e6f135e4a5d2e5000a5f93c354b9b.txt  \n",
            "  inflating: ./butterfly-spider/butterfly-spider/train/labels/OIP-zRBYveq0GEFHEhexq5qergHaFj_jpeg.rf.4d87819f2b568c182b9910ab20ea273e.txt  \n",
            "  inflating: ./butterfly-spider/butterfly-spider/train/labels/OIP-zRBYveq0GEFHEhexq5qergHaFj_jpeg.rf.53ec9772f41ed3eee32a1f125e881338.txt  \n",
            "  inflating: ./butterfly-spider/butterfly-spider/train/labels/OIP-zRBYveq0GEFHEhexq5qergHaFj_jpeg.rf.9740b2f07b7f0a83ee5360999f6fab17.txt  \n",
            "  inflating: ./butterfly-spider/butterfly-spider/train/labels/OIP-ZrfnxopDBO0QJWyh56tGCgHaG7_jpeg.rf.63d00fb6b5fab2dad190f16e5639c5d1.txt  \n",
            "  inflating: ./butterfly-spider/butterfly-spider/train/labels/OIP-ZrfnxopDBO0QJWyh56tGCgHaG7_jpeg.rf.6459d654cc139b26a95fd495a4462ebc.txt  \n",
            "  inflating: ./butterfly-spider/butterfly-spider/train/labels/OIP-ZrfnxopDBO0QJWyh56tGCgHaG7_jpeg.rf.a2f1479a8f1f385c2e25b2b5f3a8e7c8.txt  \n",
            "  inflating: ./butterfly-spider/butterfly-spider/train/labels/OIP-zrG4e3AjIH8dt0EF2m_YIAHaKc_jpeg.rf.35a5bc6188a88f94f83785dd489bdc79.txt  \n",
            "  inflating: ./butterfly-spider/butterfly-spider/train/labels/OIP-zrG4e3AjIH8dt0EF2m_YIAHaKc_jpeg.rf.3db7a350ba270d140a317735c69f2c22.txt  \n",
            "  inflating: ./butterfly-spider/butterfly-spider/train/labels/OIP-zrG4e3AjIH8dt0EF2m_YIAHaKc_jpeg.rf.aa445be871b1be88b5d1953019b97160.txt  \n",
            "  inflating: ./butterfly-spider/butterfly-spider/train/labels/OIP-ZRKh8oOllRIyq7CSS9PWXQHaGS_jpeg.rf.02d96151a01994076611a1d617725761.txt  \n",
            "  inflating: ./butterfly-spider/butterfly-spider/train/labels/OIP-ZRKh8oOllRIyq7CSS9PWXQHaGS_jpeg.rf.3c53af6aaeb5daa447a9147d75c548f8.txt  \n",
            "  inflating: ./butterfly-spider/butterfly-spider/train/labels/OIP-ZRKh8oOllRIyq7CSS9PWXQHaGS_jpeg.rf.f8158f24e103139615620f66cc1e953a.txt  \n",
            "  inflating: ./butterfly-spider/butterfly-spider/train/labels/OIP-ZS5DInubc9q7kjR5Jors5AHaHE_jpeg.rf.03f5a13a1bd1e5ef63237e707a335e25.txt  \n",
            "  inflating: ./butterfly-spider/butterfly-spider/train/labels/OIP-ZS5DInubc9q7kjR5Jors5AHaHE_jpeg.rf.14388e58058c9479a5386d8850bd58dc.txt  \n",
            "  inflating: ./butterfly-spider/butterfly-spider/train/labels/OIP-zSHT24ZMA06HYGlSu_nr1QHaFe_jpeg.rf.341eefdd156afa326e4e817aa1e65231.txt  \n",
            "  inflating: ./butterfly-spider/butterfly-spider/train/labels/OIP-zSHT24ZMA06HYGlSu_nr1QHaFe_jpeg.rf.4e9f2f42a5d2226cd99d9127a7da7fe7.txt  \n",
            "  inflating: ./butterfly-spider/butterfly-spider/train/labels/OIP-zSHT24ZMA06HYGlSu_nr1QHaFe_jpeg.rf.a62333dca342022d5cd16e03d4ca3104.txt  \n",
            "  inflating: ./butterfly-spider/butterfly-spider/train/labels/OIP-zt7JHXM_JjcxZetFQmJ1HwHaHQ_jpeg.rf.2de23b0d43680e3db8d5fe97557c5f7d.txt  \n",
            "  inflating: ./butterfly-spider/butterfly-spider/train/labels/OIP-zt7JHXM_JjcxZetFQmJ1HwHaHQ_jpeg.rf.548ead26a3aa6709cb31b4db150efb37.txt  \n",
            "  inflating: ./butterfly-spider/butterfly-spider/train/labels/OIP-zt7JHXM_JjcxZetFQmJ1HwHaHQ_jpeg.rf.61b4da74baaccc94b9df02ff6cfdda58.txt  \n",
            "  inflating: ./butterfly-spider/butterfly-spider/train/labels/OIP-ZTbeCBkEAKHqGq8WQA7yvAHaFF_jpeg.rf.6f8bcc8b8efafcdab537d2db30aa6bb2.txt  \n",
            "  inflating: ./butterfly-spider/butterfly-spider/train/labels/OIP-ZTbeCBkEAKHqGq8WQA7yvAHaFF_jpeg.rf.7279e243cd121ff80c27b015c0658376.txt  \n",
            "  inflating: ./butterfly-spider/butterfly-spider/train/labels/OIP-ZTbeCBkEAKHqGq8WQA7yvAHaFF_jpeg.rf.ef96d0a3e0874584c3d98166947354ba.txt  \n",
            "  inflating: ./butterfly-spider/butterfly-spider/train/labels/OIP-ztjKO_kJHi9_7fIo8H2UZQHaFu_jpeg.rf.5861377281ab94cbe2c78653c871f7d7.txt  \n",
            "  inflating: ./butterfly-spider/butterfly-spider/train/labels/OIP-ztjKO_kJHi9_7fIo8H2UZQHaFu_jpeg.rf.5acbd6f176258712c81a3817b54b7716.txt  \n",
            "  inflating: ./butterfly-spider/butterfly-spider/train/labels/OIP-ztjKO_kJHi9_7fIo8H2UZQHaFu_jpeg.rf.d015f184c4cf3d771afb78cf45d86b4a.txt  \n",
            "  inflating: ./butterfly-spider/butterfly-spider/train/labels/OIP-ZtY1_4BSHElRMCqoCN2bFwHaGS_jpeg.rf.15eb78ba84412b4b9a01f869ac4e622c.txt  \n",
            "  inflating: ./butterfly-spider/butterfly-spider/train/labels/OIP-ZtY1_4BSHElRMCqoCN2bFwHaGS_jpeg.rf.49516cfdd318ef24856e9db96ded6aa1.txt  \n",
            "  inflating: ./butterfly-spider/butterfly-spider/train/labels/OIP-ZtY1_4BSHElRMCqoCN2bFwHaGS_jpeg.rf.bbcfbaaa73f7b273455f46ef332eee98.txt  \n",
            "  inflating: ./butterfly-spider/butterfly-spider/train/labels/OIP-zU6w7qic4mC2uPNH-IyEdgAAAA_jpeg.rf.21591bdae386b32a8003fce831e1d3b2.txt  \n",
            "  inflating: ./butterfly-spider/butterfly-spider/train/labels/OIP-zU6w7qic4mC2uPNH-IyEdgAAAA_jpeg.rf.31ce20d8c25f6210d29f7c69d8463524.txt  \n",
            "  inflating: ./butterfly-spider/butterfly-spider/train/labels/OIP-zU6w7qic4mC2uPNH-IyEdgAAAA_jpeg.rf.d78ea9597a62c294e0e0ced73e9e28e0.txt  \n",
            "  inflating: ./butterfly-spider/butterfly-spider/train/labels/OIP-zuA7UNknWcbMeHbOrlmhgQHaFh_jpeg.rf.4765fe4dbe3805eeb4cd341801a09e8e.txt  \n",
            "  inflating: ./butterfly-spider/butterfly-spider/train/labels/OIP-zuA7UNknWcbMeHbOrlmhgQHaFh_jpeg.rf.9844c1094d1a6105accec30ffc9c82b8.txt  \n",
            "  inflating: ./butterfly-spider/butterfly-spider/train/labels/OIP-zuA7UNknWcbMeHbOrlmhgQHaFh_jpeg.rf.d9a3fc98980db57dfc9147ca19e7292d.txt  \n",
            "  inflating: ./butterfly-spider/butterfly-spider/train/labels/OIP-zUF_ra1ngpfADvA4_Nj-FgHaF2_jpeg.rf.33c83e15ab71c6db446fe6018e133361.txt  \n",
            "  inflating: ./butterfly-spider/butterfly-spider/train/labels/OIP-zUF_ra1ngpfADvA4_Nj-FgHaF2_jpeg.rf.cc66b8d35d15a6bc441576ef38158b47.txt  \n",
            "  inflating: ./butterfly-spider/butterfly-spider/train/labels/OIP-zUF_ra1ngpfADvA4_Nj-FgHaF2_jpeg.rf.e239a2dc74b99151623e8e4519ead624.txt  \n",
            "  inflating: ./butterfly-spider/butterfly-spider/train/labels/OIP-ZunYgEud0RqEjpnoLjtoXQHaFj_jpeg.rf.2b4f6b2d6c0ab7a5db80bc3376600345.txt  \n",
            "  inflating: ./butterfly-spider/butterfly-spider/train/labels/OIP-ZunYgEud0RqEjpnoLjtoXQHaFj_jpeg.rf.8e0ea41819422dcab478db352fd7a78c.txt  \n",
            "  inflating: ./butterfly-spider/butterfly-spider/train/labels/OIP-ZunYgEud0RqEjpnoLjtoXQHaFj_jpeg.rf.e11a0db0a0a51dbcfd177b69cbb4a953.txt  \n",
            "  inflating: ./butterfly-spider/butterfly-spider/train/labels/OIP-zUoClNIPMyYa8T9rRZEO4QHaEo_jpeg.rf.527c51e7842305e8a4644a3dfb406022.txt  \n",
            "  inflating: ./butterfly-spider/butterfly-spider/train/labels/OIP-zUoClNIPMyYa8T9rRZEO4QHaEo_jpeg.rf.da5e23fc4e8502329ba4f0931337f243.txt  \n",
            "  inflating: ./butterfly-spider/butterfly-spider/train/labels/OIP-zUoClNIPMyYa8T9rRZEO4QHaEo_jpeg.rf.da97933334b5d85a924cdc34505a2040.txt  \n",
            "  inflating: ./butterfly-spider/butterfly-spider/train/labels/OIP-zUTVF-epSqrpL97pxAiUIAHaGP_jpeg.rf.384392f20db6bd87846dc80f02e69803.txt  \n",
            "  inflating: ./butterfly-spider/butterfly-spider/train/labels/OIP-zUTVF-epSqrpL97pxAiUIAHaGP_jpeg.rf.a17bb47d4cfea853fa1d6f5799681b00.txt  \n",
            "  inflating: ./butterfly-spider/butterfly-spider/train/labels/OIP-zUTVF-epSqrpL97pxAiUIAHaGP_jpeg.rf.bf4dcb0a8fb50b631699fa675be98f76.txt  \n",
            "  inflating: ./butterfly-spider/butterfly-spider/train/labels/OIP-ZVhEK6Z2rrD5gokYFruOFAAAAA_jpeg.rf.49e5d77a613735e27c119efe0a4a2d55.txt  \n",
            "  inflating: ./butterfly-spider/butterfly-spider/train/labels/OIP-ZVhEK6Z2rrD5gokYFruOFAAAAA_jpeg.rf.67f284dc8170571378402c2e1cd3d478.txt  \n",
            "  inflating: ./butterfly-spider/butterfly-spider/train/labels/OIP-ZVhEK6Z2rrD5gokYFruOFAAAAA_jpeg.rf.c6539d8dccd448aeefe46486ebabda56.txt  \n",
            "  inflating: ./butterfly-spider/butterfly-spider/train/labels/OIP-zviraYI5chw-Hvzi_PwvHQHaE8_jpeg.rf.1db9005126b2745a37b834be03bfdd5e.txt  \n",
            "  inflating: ./butterfly-spider/butterfly-spider/train/labels/OIP-zviraYI5chw-Hvzi_PwvHQHaE8_jpeg.rf.7ccbcdef4c0ce6a8baee2dadfd6a8d2c.txt  \n",
            "  inflating: ./butterfly-spider/butterfly-spider/train/labels/OIP-zviraYI5chw-Hvzi_PwvHQHaE8_jpeg.rf.ee84139dabe39e618fd795dedc69f796.txt  \n",
            "  inflating: ./butterfly-spider/butterfly-spider/train/labels/OIP-ZVk3Zcp549aPHi15jilglAHaIW_jpeg.rf.32e9239a301844bc62fa72263929a9c3.txt  \n",
            "  inflating: ./butterfly-spider/butterfly-spider/train/labels/OIP-ZVk3Zcp549aPHi15jilglAHaIW_jpeg.rf.9f8e8c9a0fe7aff6aa88118d84da969c.txt  \n",
            "  inflating: ./butterfly-spider/butterfly-spider/train/labels/OIP-ZVk3Zcp549aPHi15jilglAHaIW_jpeg.rf.a172ee681f197d7152ecf0b313a9d42c.txt  \n",
            "  inflating: ./butterfly-spider/butterfly-spider/train/labels/OIP-ZVofdfmT6nHfETl6y0BZEAHaFf_jpeg.rf.2bb229c86d70e05a7469558e5d66d31e.txt  \n",
            "  inflating: ./butterfly-spider/butterfly-spider/train/labels/OIP-ZVofdfmT6nHfETl6y0BZEAHaFf_jpeg.rf.46348655ed7be497f5ed6f62f5b29d5d.txt  \n",
            "  inflating: ./butterfly-spider/butterfly-spider/train/labels/OIP-ZVofdfmT6nHfETl6y0BZEAHaFf_jpeg.rf.6d5989af3cdad85f84cf4509c217677a.txt  \n",
            "  inflating: ./butterfly-spider/butterfly-spider/train/labels/OIP-zw3OboJ3KiSzPN-thSo3iAHaFr_jpeg.rf.0c4f62d5e691a95eb19fa946d7102e0a.txt  \n",
            "  inflating: ./butterfly-spider/butterfly-spider/train/labels/OIP-zw3OboJ3KiSzPN-thSo3iAHaFr_jpeg.rf.b8baac58b617c445c8a3d1b5e3d1a8ab.txt  \n",
            "  inflating: ./butterfly-spider/butterfly-spider/train/labels/OIP-zw3OboJ3KiSzPN-thSo3iAHaFr_jpeg.rf.ec30802f640705a9a7e956c60c819319.txt  \n",
            "  inflating: ./butterfly-spider/butterfly-spider/train/labels/OIP-ZwaHaljnOjpKYFfWmCNaOwHaE8_jpeg.rf.4e85df3d032d25970b2cdb2ca4b4fafb.txt  \n",
            "  inflating: ./butterfly-spider/butterfly-spider/train/labels/OIP-ZwaHaljnOjpKYFfWmCNaOwHaE8_jpeg.rf.b0411cc736e25bde021f318b25c5a6bb.txt  \n",
            "  inflating: ./butterfly-spider/butterfly-spider/train/labels/OIP-ZwaHaljnOjpKYFfWmCNaOwHaE8_jpeg.rf.fd0641bb7742f692b86e658236991f72.txt  \n",
            "  inflating: ./butterfly-spider/butterfly-spider/train/labels/OIP-ZWmU8mRQeGM1evYuN_dEEgHaEW_jpeg.rf.0c4843044af27ae75c2743507bd4adc7.txt  \n",
            "  inflating: ./butterfly-spider/butterfly-spider/train/labels/OIP-ZWmU8mRQeGM1evYuN_dEEgHaEW_jpeg.rf.4f60812acab30aecf4cf5459a00147a9.txt  \n",
            "  inflating: ./butterfly-spider/butterfly-spider/train/labels/OIP-ZWmU8mRQeGM1evYuN_dEEgHaEW_jpeg.rf.e17fded3cbd49e8748f9c8206920c3b9.txt  \n",
            "  inflating: ./butterfly-spider/butterfly-spider/train/labels/OIP-Zwx7FIbZrHjfsg055rw_BAHaE7_jpeg.rf.94f2e7e3fb6516abd04f3e8414700c09.txt  \n",
            "  inflating: ./butterfly-spider/butterfly-spider/train/labels/OIP-Zwx7FIbZrHjfsg055rw_BAHaE7_jpeg.rf.9b2369c824afd4f6657d9b841b7b1734.txt  \n",
            "  inflating: ./butterfly-spider/butterfly-spider/train/labels/OIP-Zwx7FIbZrHjfsg055rw_BAHaE7_jpeg.rf.e472028d1ec7738c2d61a3c5fd2443c0.txt  \n",
            "  inflating: ./butterfly-spider/butterfly-spider/train/labels/OIP-ZXChywMZ8JTZrhPAUxImjQHaE8_jpeg.rf.0747eb6aa5646c0956316d7bfd649841.txt  \n",
            "  inflating: ./butterfly-spider/butterfly-spider/train/labels/OIP-ZXChywMZ8JTZrhPAUxImjQHaE8_jpeg.rf.de5e1b794778a70d709123670881d696.txt  \n",
            "  inflating: ./butterfly-spider/butterfly-spider/train/labels/OIP-ZXChywMZ8JTZrhPAUxImjQHaE8_jpeg.rf.e210fe9b9f4da0eb5f14a13339c47e82.txt  \n",
            "  inflating: ./butterfly-spider/butterfly-spider/train/labels/OIP-Zxkl2yvNKG1EZsKtlJZBTgAAAA_jpeg.rf.7ef493106a68d8572025d3c4b3bc027b.txt  \n",
            "  inflating: ./butterfly-spider/butterfly-spider/train/labels/OIP-Zxkl2yvNKG1EZsKtlJZBTgAAAA_jpeg.rf.ac84a08a561f1fc9278566e73fcdc3c6.txt  \n",
            "  inflating: ./butterfly-spider/butterfly-spider/train/labels/OIP-Zxkl2yvNKG1EZsKtlJZBTgAAAA_jpeg.rf.d98c9ec7e627056111ba124f53379080.txt  \n",
            "  inflating: ./butterfly-spider/butterfly-spider/train/labels/OIP-ZXlslUCo82OOxHlAotqIvwHaEK_jpeg.rf.5aab5feab73fb244c1ab562b1828929a.txt  \n",
            "  inflating: ./butterfly-spider/butterfly-spider/train/labels/OIP-ZXlslUCo82OOxHlAotqIvwHaEK_jpeg.rf.5f5fdab09ad5a92ed6c59d0ee3b18963.txt  \n",
            "  inflating: ./butterfly-spider/butterfly-spider/train/labels/OIP-ZXlslUCo82OOxHlAotqIvwHaEK_jpeg.rf.f60f75bdd3b7a688797612e16643c09a.txt  \n",
            "  inflating: ./butterfly-spider/butterfly-spider/train/labels/OIP-zXN2eacA63WItpYMZQsjWQHaE-_jpeg.rf.15cacbc92b5c6ebf5f069ac1792329e0.txt  \n",
            "  inflating: ./butterfly-spider/butterfly-spider/train/labels/OIP-zXN2eacA63WItpYMZQsjWQHaE-_jpeg.rf.b764523dc669bb44ab603ff26d14256e.txt  \n",
            "  inflating: ./butterfly-spider/butterfly-spider/train/labels/OIP-zXN2eacA63WItpYMZQsjWQHaE-_jpeg.rf.e862b9dbbf86211e4e13ff88a4e0ca8e.txt  \n",
            "  inflating: ./butterfly-spider/butterfly-spider/train/labels/OIP-zXOKqk0FPybf0s_7De3mMAHaE7_jpeg.rf.1088711dfcd53cb3dfb80a9edc6f5845.txt  \n",
            "  inflating: ./butterfly-spider/butterfly-spider/train/labels/OIP-zXOKqk0FPybf0s_7De3mMAHaE7_jpeg.rf.31abe028d574b4f9712e7569c66fd519.txt  \n",
            "  inflating: ./butterfly-spider/butterfly-spider/train/labels/OIP-zXOKqk0FPybf0s_7De3mMAHaE7_jpeg.rf.97ac1916fb323e01e1adbeeda0486b32.txt  \n",
            "  inflating: ./butterfly-spider/butterfly-spider/train/labels/OIP-zXOwI_2Mv3JCNXPppJ3bUQHaHA_jpeg.rf.1914ef0724f8bd15076ae25e73b78084.txt  \n",
            "  inflating: ./butterfly-spider/butterfly-spider/train/labels/OIP-zXOwI_2Mv3JCNXPppJ3bUQHaHA_jpeg.rf.545b152def2860afeb20a0de036e7420.txt  \n",
            "  inflating: ./butterfly-spider/butterfly-spider/train/labels/OIP-zXOwI_2Mv3JCNXPppJ3bUQHaHA_jpeg.rf.e5d05dbdd57a413bcbaedcb6261ffcc6.txt  \n",
            "  inflating: ./butterfly-spider/butterfly-spider/train/labels/OIP-zXtoxaRSHh4Ar2sGNndpaAHaLH_jpeg.rf.77cdeb79cd1865aaabdf2ef70dec2bbd.txt  \n",
            "  inflating: ./butterfly-spider/butterfly-spider/train/labels/OIP-zXtoxaRSHh4Ar2sGNndpaAHaLH_jpeg.rf.c128850cdd16a36b052fe9bde6e2f501.txt  \n",
            "  inflating: ./butterfly-spider/butterfly-spider/train/labels/OIP-zXtoxaRSHh4Ar2sGNndpaAHaLH_jpeg.rf.fcd53210c0654482c334d2013d19a3b3.txt  \n",
            "  inflating: ./butterfly-spider/butterfly-spider/train/labels/OIP-Zy4Kdt2PTcAnCfTsViRJ7wHaGi_jpeg.rf.7bcb02997ccc792db49e9d0842930765.txt  \n",
            "  inflating: ./butterfly-spider/butterfly-spider/train/labels/OIP-Zy4Kdt2PTcAnCfTsViRJ7wHaGi_jpeg.rf.fa9560dd4a08e1e33f85e55bec080110.txt  \n",
            "  inflating: ./butterfly-spider/butterfly-spider/train/labels/OIP-ZYoAuR6Ult0soCyXXy6S8AHaHd_jpeg.rf.346a5dc94bef83357da4896afa6b6ced.txt  \n",
            "  inflating: ./butterfly-spider/butterfly-spider/train/labels/OIP-ZYoAuR6Ult0soCyXXy6S8AHaHd_jpeg.rf.41ff73c98ea31d471781a688f1c8a89b.txt  \n",
            "  inflating: ./butterfly-spider/butterfly-spider/train/labels/OIP-ZYoAuR6Ult0soCyXXy6S8AHaHd_jpeg.rf.c62b90482548c843541b0a88e409af33.txt  \n",
            "  inflating: ./butterfly-spider/butterfly-spider/train/labels/OIP-zYTwzDLkk_kueB-NEvT14AHaE8_jpeg.rf.00ab9eab51a790510f93caf724524e0c.txt  \n",
            "  inflating: ./butterfly-spider/butterfly-spider/train/labels/OIP-zYTwzDLkk_kueB-NEvT14AHaE8_jpeg.rf.0df068b3876ddb3cd7246a234c657a93.txt  \n",
            "  inflating: ./butterfly-spider/butterfly-spider/train/labels/OIP-zYTwzDLkk_kueB-NEvT14AHaE8_jpeg.rf.ec3fcd74b67939ee7b858c0915341051.txt  \n",
            "  inflating: ./butterfly-spider/butterfly-spider/train/labels/OIP-zyvQLbH9ujZCRrXMYuxHUAHaG8_jpeg.rf.5c8c5dbefd0a4a7ce87b1adcd253b48f.txt  \n",
            "  inflating: ./butterfly-spider/butterfly-spider/train/labels/OIP-zyvQLbH9ujZCRrXMYuxHUAHaG8_jpeg.rf.604355752f11e0072167f1a1041f3924.txt  \n",
            "  inflating: ./butterfly-spider/butterfly-spider/train/labels/OIP-zyvQLbH9ujZCRrXMYuxHUAHaG8_jpeg.rf.c14c319c18d97f6e02f2a2ae6c2f82d1.txt  \n",
            "  inflating: ./butterfly-spider/butterfly-spider/train/labels/OIP-ZZTsnhHQqhxdD11PF4KEnAHaE7_jpeg.rf.41d96e116711830a72aa6caf6f0cc3e6.txt  \n",
            "  inflating: ./butterfly-spider/butterfly-spider/train/labels/OIP-ZZTsnhHQqhxdD11PF4KEnAHaE7_jpeg.rf.971a0bfaa082190a6c0aa098d0c8cdc2.txt  \n",
            "  inflating: ./butterfly-spider/butterfly-spider/train/labels/OIP-ZZTsnhHQqhxdD11PF4KEnAHaE7_jpeg.rf.e88b2c6a8fa22c2bf97b4a9cbb7115ce.txt  \n",
            "  inflating: ./butterfly-spider/butterfly-spider/train/labels/OIP-ZzvtXcnhCUa_WHoix4gEhwEsDG_jpeg.rf.6111a4f5dc3be053db1a65daf9c5dfae.txt  \n",
            "  inflating: ./butterfly-spider/butterfly-spider/train/labels/OIP-ZzvtXcnhCUa_WHoix4gEhwEsDG_jpeg.rf.70df56d62d8e507a3ba36aa305f8bdf4.txt  \n",
            "  inflating: ./butterfly-spider/butterfly-spider/train/labels/OIP-zZw0W0S_upyoUULuc3u1SQHaE7_jpeg.rf.3785c20e49c324b8853d4d33cbfc4779.txt  \n",
            "  inflating: ./butterfly-spider/butterfly-spider/train/labels/OIP-zZw0W0S_upyoUULuc3u1SQHaE7_jpeg.rf.50f5a9aa8816d3a0f85d5d6f0e0bafd6.txt  \n",
            "  inflating: ./butterfly-spider/butterfly-spider/train/labels/OIP-zZw0W0S_upyoUULuc3u1SQHaE7_jpeg.rf.750ce66ea92e5083e710d6ea4277ea64.txt  \n",
            "   creating: ./butterfly-spider/butterfly-spider/valid/\n",
            "   creating: ./butterfly-spider/butterfly-spider/valid/images/\n",
            "  inflating: ./butterfly-spider/butterfly-spider/valid/images/e030b2092be90021d85a5854ee454296eb70e3c818b413449df6c87ca3ed_640_jpg.rf.3661ddfa24f4224951f6b7110f74798a.jpg  \n",
            "  inflating: ./butterfly-spider/butterfly-spider/valid/images/e030b2092ce90021d85a5854ee454296eb70e3c818b413449df6c87ca3ed_640_jpg.rf.eb17c83b698db3f30b74c3db0889459d.jpg  \n",
            "  inflating: ./butterfly-spider/butterfly-spider/valid/images/e030b20a20e90021d85a5854ee454296eb70e3c818b413449df6c87ca3ed_640_jpg.rf.6d0e28bd9522b26e1f07406ce92c10df.jpg  \n",
            "  inflating: ./butterfly-spider/butterfly-spider/valid/images/e831b00c2ef3093ed1584d05fb1d4e9fe777ead218ac104497f5c97faee9bdba_640_jpg.rf.047044cf91f2fef76a0e29507e5b9f7e.jpg  \n",
            "  inflating: ./butterfly-spider/butterfly-spider/valid/images/e831b50f2df71c22d2524518b7444f92e37fe5d404b0144390f8c770a2e9b5_640_jpg.rf.1fb1a2a4d05450e196fc819071659435.jpg  \n",
            "  inflating: ./butterfly-spider/butterfly-spider/valid/images/e831b50f2df71c22d2524518b7444f92e37fe5d404b0144390f8c770a2e9b5_640_jpg.rf.a1896a9f06cd9bc548e5aae9fc05f67f.jpg  \n",
            "  inflating: ./butterfly-spider/butterfly-spider/valid/images/e832b10e2efc043ed1584d05fb1d4e9fe777ead218ac104497f5c97faee9bdba_640_jpg.rf.9d91bc2b0e5af477dda5eea0640cfbaa.jpg  \n",
            "  inflating: ./butterfly-spider/butterfly-spider/valid/images/e832b7062ff6093ed1584d05fb1d4e9fe777ead218ac104497f5c97faeebb5bb_640_png.rf.ad2f5a08172c23257dddba08ccc12918.jpg  \n",
            "  inflating: ./butterfly-spider/butterfly-spider/valid/images/e833b40a28fd093ed1584d05fb1d4e9fe777ead218ac104497f5c97faee9bdba_640_jpg.rf.0ba611a75c1a7c3f70e81032bee170bd.jpg  \n",
            "  inflating: ./butterfly-spider/butterfly-spider/valid/images/e833b40a2ff6053ed1584d05fb1d4e9fe777ead218ac104497f5c97faee9bdba_640_jpg.rf.aede4e7b964bf9b0d2305a42fac8888a.jpg  \n",
            "  inflating: ./butterfly-spider/butterfly-spider/valid/images/e833b80721f2043ed1584d05fb1d4e9fe777ead218ac104497f5c97faee9bdba_640_jpg.rf.38b6ca31fed63a77a3630db4e486a1f1.jpg  \n",
            "  inflating: ./butterfly-spider/butterfly-spider/valid/images/e835b20b2bf7093ed1584d05fb1d4e9fe777ead218ac104497f5c97ca5ecb3b9_640_jpg.rf.d5aaa20eae610d32998029ea2b2bbb0f.jpg  \n",
            "  inflating: ./butterfly-spider/butterfly-spider/valid/images/e837b3072ef7083ed1584d05fb1d4e9fe777ead218ac104497f5c97faee9bdba_640_jpg.rf.0e49e2e37c5aaca4939be5344fe10563.jpg  \n",
            "  inflating: ./butterfly-spider/butterfly-spider/valid/images/e837b90e2cf6093ed1584d05fb1d4e9fe777ead218ac104497f5c97faeebb5bb_640_jpg.rf.84c1dc9bb1c70276f9c2ac168dd247c1.jpg  \n",
            "  inflating: ./butterfly-spider/butterfly-spider/valid/images/e83cb20721f3093ed1584d05fb1d4e9fe777ead218ac104497f5c97faeebb5bb_640_jpg.rf.158b780232a45fa6df33c0ea520dc15c.jpg  \n",
            "  inflating: ./butterfly-spider/butterfly-spider/valid/images/e83cb7082cf11c22d2524518b7444f92e37fe5d404b0144390f8c770a2e9b5_640_jpg.rf.60f027626bc9cf30efeb4c4de78facf5.jpg  \n",
            "  inflating: ./butterfly-spider/butterfly-spider/valid/images/e83cb90c28e90021d85a5854ee454296eb70e3c818b413449df6c87dafef_640_jpg.rf.95c07f9921c7f612a0758c068540f092.jpg  \n",
            "  inflating: ./butterfly-spider/butterfly-spider/valid/images/e83db20a2de90021d85a5854ee454296eb70e3c818b413449df6c87fa7ee_640_jpg.rf.779b7e7cbd7bcbee31f67db7c25792db.jpg  \n",
            "  inflating: ./butterfly-spider/butterfly-spider/valid/images/e83db70621f3063ed1584d05fb1d4e9fe777ead218ac104497f5c97ca5ecb3b9_640_jpg.rf.e6081096a10c173d34ab0ddf4d28c080.jpg  \n",
            "  inflating: ./butterfly-spider/butterfly-spider/valid/images/e83db70d28f31c22d2524518b7444f92e37fe5d404b0144390f8c770a2e9b5_640_jpg.rf.dd40d3bbc0cf274c4cd0363e828bb678.jpg  \n",
            "  inflating: ./butterfly-spider/butterfly-spider/valid/images/e83db70e2cf0073ed1584d05fb1d4e9fe777ead218ac104497f5c97faeebb5bb_640_png.rf.aca96309da02495953473be97987744c.jpg  \n",
            "  inflating: ./butterfly-spider/butterfly-spider/valid/images/ea30b50a2afc1c22d2524518b7444f92e37fe5d404b0144390f8c770a3e5b7_640_jpg.rf.18c45008e34cb60df495599eb21a1454.jpg  \n",
            "  inflating: ./butterfly-spider/butterfly-spider/valid/images/ea31b90820fd1c22d2524518b7444f92e37fe5d404b0144390f8c47ba6ebb4_640_jpg.rf.df8dacb880776f7ee1ea645082cc9179.jpg  \n",
            "  inflating: ./butterfly-spider/butterfly-spider/valid/images/ea33b20c2cf61c22d2524518b7444f92e37fe5d404b0144390f8c770a3e5b7_640_jpg.rf.0dc4febe3b6ce459419a6bd8f8c18ac5.jpg  \n",
            "  inflating: ./butterfly-spider/butterfly-spider/valid/images/ea34b10628fc003ed1584d05fb1d4e9fe777ead218ac104497f5c97ca5ecb5b1_640_jpg.rf.f72e1ea9b1ebbe04d8ad03eba7ff7031.jpg  \n",
            "  inflating: ./butterfly-spider/butterfly-spider/valid/images/ea34b10a28f0013ed1584d05fb1d4e9fe777ead218ac104497f5c97faeebb5bb_640_jpg.rf.0b6895978a9a9ee216d87af532b5cc92.jpg  \n",
            "  inflating: ./butterfly-spider/butterfly-spider/valid/images/ea34b20e29fc1c22d2524518b7444f92e37fe5d404b0144390f8c47ba7ebb0_640_jpg.rf.3ba1d7737d9fa09b3a561dd08d24245c.jpg  \n",
            "  inflating: ./butterfly-spider/butterfly-spider/valid/images/ea34b20f28f2043ed1584d05fb1d4e9fe777ead218ac104497f5c97faeebb5bb_640_jpg.rf.e331eb3693e37d09423e96a9d8a3ee25.jpg  \n",
            "  inflating: ./butterfly-spider/butterfly-spider/valid/images/ea34b3072ffd003ed1584d05fb1d4e9fe777ead218ac104497f5c97ca5ecb5b1_640_jpg.rf.8e97b810f26618326547967f22cae3d7.jpg  \n",
            "  inflating: ./butterfly-spider/butterfly-spider/valid/images/ea34b3082bf7073ed1584d05fb1d4e9fe777ead218ac104497f5c97faeebb5bb_640_jpg.rf.fd5c402994841fc9ed68693343ea097d.jpg  \n",
            "  inflating: ./butterfly-spider/butterfly-spider/valid/images/ea34b3092cf5073ed1584d05fb1d4e9fe777ead218ac104497f5c97ca5edb3bd_640_jpg.rf.a3c9c65ea60e8c3361919d98964585fc.jpg  \n",
            "  inflating: ./butterfly-spider/butterfly-spider/valid/images/ea34b30f29f5063ed1584d05fb1d4e9fe777ead218ac104497f5c97ca5edb3bd_640_jpg.rf.44c16c90ce374b083f3bd9fdfdb48318.jpg  \n",
            "  inflating: ./butterfly-spider/butterfly-spider/valid/images/ea34b4072cf0073ed1584d05fb1d4e9fe777ead218ac104497f5c97faeebb5bb_640_jpg.rf.6e3f5c9d8bab2fe037ac62561c97be68.jpg  \n",
            "  inflating: ./butterfly-spider/butterfly-spider/valid/images/ea34b5082bf5073ed1584d05fb1d4e9fe777ead218ac104497f5c97ca5edb3bd_640_jpg.rf.293e056d310262250ba6db29af983459.jpg  \n",
            "  inflating: ./butterfly-spider/butterfly-spider/valid/images/ea34b50c2cf0033ed1584d05fb1d4e9fe777ead218ac104497f5c97ca5edb3bd_640_jpg.rf.57f51dd57517ad92f0c34ec69700adb9.jpg  \n",
            "  inflating: ./butterfly-spider/butterfly-spider/valid/images/ea34b50d29f7003ed1584d05fb1d4e9fe777ead218ac104497f5c97faee8b1b8_640_jpg.rf.8972c8bf6796fac1d11647e405c384c5.jpg  \n",
            "  inflating: ./butterfly-spider/butterfly-spider/valid/images/ea34b60d20f3033ed1584d05fb1d4e9fe777ead218ac104497f5c97faeebb5bb_640_jpg.rf.83a1c34d3bc2c8ef02b5dfd7ca4cc311.jpg  \n",
            "  inflating: ./butterfly-spider/butterfly-spider/valid/images/ea34b70820f4003ed1584d05fb1d4e9fe777ead218ac104497f5c97ca5ecb5b1_640_jpg.rf.6c106ce2a889fda864da80d216f0b788.jpg  \n",
            "  inflating: ./butterfly-spider/butterfly-spider/valid/images/ea34b7082cf41c22d2524518b7444f92e37fe5d404b0144390f8c770a2e9b5_640_jpg.rf.939f626aa3d17602e6b28f5b05014511.jpg  \n",
            "  inflating: ./butterfly-spider/butterfly-spider/valid/images/ea34b70e2efc033ed1584d05fb1d4e9fe777ead218ac104497f5c97faee8b1b8_640_jpg.rf.a98f8c41dca462d88a22ccb1f12f4e2d.jpg  \n",
            "  inflating: ./butterfly-spider/butterfly-spider/valid/images/ea34b8092df3003ed1584d05fb1d4e9fe777ead218ac104497f5c97ca5edb3bd_640_jpg.rf.d53ba35677bf735ed44ae30bd982c60d.jpg  \n",
            "  inflating: ./butterfly-spider/butterfly-spider/valid/images/ea34b80a28f7043ed1584d05fb1d4e9fe777ead218ac104497f5c97ca5edb3bd_640_jpg.rf.26a786448788ec777120e88611be9999.jpg  \n",
            "  inflating: ./butterfly-spider/butterfly-spider/valid/images/ea34b90629f3043ed1584d05fb1d4e9fe777ead218ac104497f5c97faeebb5bb_640_jpg.rf.97e66b753d20d6ae9f5d8dafbd9ac30c.jpg  \n",
            "  inflating: ./butterfly-spider/butterfly-spider/valid/images/ea34b90b2bf7063ed1584d05fb1d4e9fe777ead218ac104497f5c97faee9bdba_640_jpg.rf.22783e72b9ee1d83512078e031f04fea.jpg  \n",
            "  inflating: ./butterfly-spider/butterfly-spider/valid/images/ea34b90d2cf1003ed1584d05fb1d4e9fe777ead218ac104497f5c97faee8b1b8_640_jpg.rf.a4da24d3970c76707f99344c53f159e2.jpg  \n",
            "  inflating: ./butterfly-spider/butterfly-spider/valid/images/ea34b90e20f6073ed1584d05fb1d4e9fe777ead218ac104497f5c97faee9bdba_640_jpg.rf.2ca1bbb32b7a37c359fb88d984f3585f.jpg  \n",
            "  inflating: ./butterfly-spider/butterfly-spider/valid/images/ea34b90e2ef0073ed1584d05fb1d4e9fe777ead218ac104497f5c97ca5edb3bd_640_jpg.rf.50ee0d6cb7aac82e037cc948040bb29e.jpg  \n",
            "  inflating: ./butterfly-spider/butterfly-spider/valid/images/ea35b10f29f1013ed1584d05fb1d4e9fe777ead218ac104497f5c97ca5edb3bd_640_jpg.rf.063b517325ec1df4a76898e2648e70a6.jpg  \n",
            "  inflating: ./butterfly-spider/butterfly-spider/valid/images/ea35b4072df1043ed1584d05fb1d4e9fe777ead218ac104497f5c97ca5ecb5b1_640_jpg.rf.daed64c7c4ae38dae329e7f8d984fd39.jpg  \n",
            "  inflating: ./butterfly-spider/butterfly-spider/valid/images/ea35b40a2af6073ed1584d05fb1d4e9fe777ead218ac104497f5c97ca5edb3bd_640_jpg.rf.f3d9f13754dc9884acc4e6768db411e9.jpg  \n",
            "  inflating: ./butterfly-spider/butterfly-spider/valid/images/ea35b40e2cfd013ed1584d05fb1d4e9fe777ead218ac104497f5c97ca5edb3bd_640_jpg.rf.4ea004242852f4c40cb9ca5b313e335f.jpg  \n",
            "  inflating: ./butterfly-spider/butterfly-spider/valid/images/ea35b40f2ef6013ed1584d05fb1d4e9fe777ead218ac104497f5c97faeebb5bb_640_jpg.rf.87714cbb8a16c7af62448edac8307c1a.jpg  \n",
            "  inflating: ./butterfly-spider/butterfly-spider/valid/images/ea35b5092bf2033ed1584d05fb1d4e9fe777ead218ac104497f5c97faee8b1b8_640_jpg.rf.790426f81749cf1f9f303e907ad95979.jpg  \n",
            "  inflating: ./butterfly-spider/butterfly-spider/valid/images/ea35b50e2bf6033ed1584d05fb1d4e9fe777ead218ac104497f5c97faee8b1b8_640_jpg.rf.5229ed45f9e5c5d57eba177089b15b38.jpg  \n",
            "  inflating: ./butterfly-spider/butterfly-spider/valid/images/ea35b6092ef2003ed1584d05fb1d4e9fe777ead218ac104497f5c97ca5ecb5b1_640_jpg.rf.a71c93b88439d5430f5d3ba95b41cf31.jpg  \n",
            "  inflating: ./butterfly-spider/butterfly-spider/valid/images/ea35b70c2af2053ed1584d05fb1d4e9fe777ead218ac104497f5c97ca5edb3bd_640_jpg.rf.abd71a9a65cae5dc066253a1f89f409e.jpg  \n",
            "  inflating: ./butterfly-spider/butterfly-spider/valid/images/ea35b70c2af6003ed1584d05fb1d4e9fe777ead218ac104497f5c97ca5ecb5b1_640_jpg.rf.31cef1f02645d6edf351d4a189ae5c01.jpg  \n",
            "  inflating: ./butterfly-spider/butterfly-spider/valid/images/ea35b70d2ff3093ed1584d05fb1d4e9fe777ead218ac104497f5c97ca5ecb5b1_640_jpg.rf.8984e62b15b4940f8998eec942d776e0.jpg  \n",
            "  inflating: ./butterfly-spider/butterfly-spider/valid/images/ea35b70f2bf2083ed1584d05fb1d4e9fe777ead218ac104497f5c97ca5ecb5b1_640_jpg.rf.16ab716ce3d8a26baf4376f526081be7.jpg  \n",
            "  inflating: ./butterfly-spider/butterfly-spider/valid/images/ea35b8062df1063ed1584d05fb1d4e9fe777ead218ac104497f5c97faeebb5bb_640_jpg.rf.961f4085118906d03e0962cc4a74eff2.jpg  \n",
            "  inflating: ./butterfly-spider/butterfly-spider/valid/images/ea36b00829f0043ed1584d05fb1d4e9fe777ead218ac104497f5c97faee9bdba_640_jpg.rf.37c159afffd456828b455f3e7ada80e8.jpg  \n",
            "  inflating: ./butterfly-spider/butterfly-spider/valid/images/ea36b00d2dfd013ed1584d05fb1d4e9fe777ead218ac104497f5c97faeebb5bb_640_jpg.rf.5965d57bb3f966a0f0a7a702bbc2c803.jpg  \n",
            "  inflating: ./butterfly-spider/butterfly-spider/valid/images/ea36b1062df4053ed1584d05fb1d4e9fe777ead218ac104497f5c97faee9bdba_640_jpg.rf.8d0bd6588ce2cfac55d602bbe05393d9.jpg  \n",
            "  inflating: ./butterfly-spider/butterfly-spider/valid/images/ea36b10b2df3023ed1584d05fb1d4e9fe777ead218ac104497f5c97faee9bdba_640_jpg.rf.02cbef972f871c1bedb93612ed9f169d.jpg  \n",
            "  inflating: ./butterfly-spider/butterfly-spider/valid/images/ea36b10b2df3043ed1584d05fb1d4e9fe777ead218ac104497f5c97faee9bdba_640_jpg.rf.8e32f061da9d3c5300bcdfaa48892bcb.jpg  \n",
            "  inflating: ./butterfly-spider/butterfly-spider/valid/images/ea36b10d2af4063ed1584d05fb1d4e9fe777ead218ac104497f5c97faeebb5bb_640_jpg.rf.040a537cac67c67339e417cc198d1cb6.jpg  \n",
            "  inflating: ./butterfly-spider/butterfly-spider/valid/images/ea36b10f2afd093ed1584d05fb1d4e9fe777ead218ac104497f5c97ca5ecb5b1_640_jpg.rf.53ab023a9b986ce685bd2e33af75fd93.jpg  \n",
            "  inflating: ./butterfly-spider/butterfly-spider/valid/images/ea36b20c21f0093ed1584d05fb1d4e9fe777ead218ac104497f5c97faee9bdba_640_jpg.rf.489f28d2b686462a3a38c5117bf127ff.jpg  \n",
            "  inflating: ./butterfly-spider/butterfly-spider/valid/images/ea36b20c21f1073ed1584d05fb1d4e9fe777ead218ac104497f5c97faee9bdba_640_jpg.rf.392b0012e00b3819f3f4585e8cab65f1.jpg  \n",
            "  inflating: ./butterfly-spider/butterfly-spider/valid/images/ea36b20d2bf6083ed1584d05fb1d4e9fe777ead218ac104497f5c97faeebb5bb_640_jpg.rf.3cc6e4f63037f34ad53af0aba2e93205.jpg  \n",
            "  inflating: ./butterfly-spider/butterfly-spider/valid/images/ea36b20f21f3043ed1584d05fb1d4e9fe777ead218ac104497f5c97faee8b1b8_640_jpg.rf.cf18d71b0208f6993c98bdacf212c811.jpg  \n",
            "  inflating: ./butterfly-spider/butterfly-spider/valid/images/ea36b20f21f3063ed1584d05fb1d4e9fe777ead218ac104497f5c97faeebb5bb_640_jpg.rf.ef25de2bebb3aa625b5929e95c6ed39d.jpg  \n",
            "  inflating: ./butterfly-spider/butterfly-spider/valid/images/ea36b30b21f0093ed1584d05fb1d4e9fe777ead218ac104497f5c97faee8b1b8_640_jpg.rf.4b90392c921359be91e5a07e2679fbe5.jpg  \n",
            "  inflating: ./butterfly-spider/butterfly-spider/valid/images/ea36b30c2ef2053ed1584d05fb1d4e9fe777ead218ac104497f5c97faee8b1b8_640_jpg.rf.c4bf22e9a2ce27ac2e74fc53bb121752.jpg  \n",
            "  inflating: ./butterfly-spider/butterfly-spider/valid/images/ea36b30d21f0053ed1584d05fb1d4e9fe777ead218ac104497f5c97faee8b1b8_640_jpg.rf.7f2355148eedaa836af8246885071be1.jpg  \n",
            "  inflating: ./butterfly-spider/butterfly-spider/valid/images/ea36b30f2bfc053ed1584d05fb1d4e9fe777ead218ac104497f5c97faee9bdba_640_jpg.rf.eb0535bfc7c5b2ac8492346ef9f05c86.jpg  \n",
            "  inflating: ./butterfly-spider/butterfly-spider/valid/images/ea36b30f2bfc053ed1584d05fb1d4e9fe777ead218ac104497f5c97faee9bdba_640_jpg.rf.fd3139bc57369d19aa8dc65acc13a884.jpg  \n",
            "  inflating: ./butterfly-spider/butterfly-spider/valid/images/ea36b30f2cf0083ed1584d05fb1d4e9fe777ead218ac104497f5c97faee8b1b8_640_jpg.rf.69f4bde247e8e38b8603761cd419cc5a.jpg  \n",
            "  inflating: ./butterfly-spider/butterfly-spider/valid/images/ea36b30f2cf1013ed1584d05fb1d4e9fe777ead218ac104497f5c97faee9bdba_640_jpg.rf.0a20a14ed90b9bb4642cc3476d4808a3.jpg  \n",
            "  inflating: ./butterfly-spider/butterfly-spider/valid/images/ea36b40a2ef5073ed1584d05fb1d4e9fe777ead218ac104497f5c97faee9bdba_640_jpg.rf.ee16af83c861f2999861edbcaa6aee0e.jpg  \n",
            "  inflating: ./butterfly-spider/butterfly-spider/valid/images/ea36b40e28f7013ed1584d05fb1d4e9fe777ead218ac104497f5c97faee9bdba_640_jpg.rf.c511da7327085758df5b88f15a512211.jpg  \n",
            "  inflating: ./butterfly-spider/butterfly-spider/valid/images/ea36b40f2bfd033ed1584d05fb1d4e9fe777ead218ac104497f5c97faee9bdba_640_jpg.rf.6e0e9def02e8d331ef2a56319c9bfa15.jpg  \n",
            "  inflating: ./butterfly-spider/butterfly-spider/valid/images/ea36b5082ef5093ed1584d05fb1d4e9fe777ead218ac104497f5c97faee9bdba_640_jpg.rf.e826f60d9f2b385f66ef9600e5a1e8c0.jpg  \n",
            "  inflating: ./butterfly-spider/butterfly-spider/valid/images/ea36b50928fc023ed1584d05fb1d4e9fe777ead218ac104497f5c97ca5edb3bd_640_jpg.rf.e8ca14c05bb732a30ba6685b03162329.jpg  \n",
            "  inflating: ./butterfly-spider/butterfly-spider/valid/images/ea36b50a2ef1063ed1584d05fb1d4e9fe777ead218ac104497f5c97faee9bdba_640_jpg.rf.c86c8344f7d027bdc8c2faeb54ac2f47.jpg  \n",
            "  inflating: ./butterfly-spider/butterfly-spider/valid/images/ea36b50b20f5093ed1584d05fb1d4e9fe777ead218ac104497f5c97ca5edb3bd_640_jpg.rf.50f26f63abec72bc8b56d4b33400de1f.jpg  \n",
            "  inflating: ./butterfly-spider/butterfly-spider/valid/images/ea36b50b20f6013ed1584d05fb1d4e9fe777ead218ac104497f5c97ca5edb3bd_640_jpg.rf.46f15cdf622c68df9f299e4271e97271.jpg  \n",
            "  inflating: ./butterfly-spider/butterfly-spider/valid/images/ea36b50c2af0013ed1584d05fb1d4e9fe777ead218ac104497f5c97faee8b1b8_640_jpg.rf.8502b1e5ca9248ac0c908effc84de5c8.jpg  \n",
            "  inflating: ./butterfly-spider/butterfly-spider/valid/images/ea36b50c2ef7003ed1584d05fb1d4e9fe777ead218ac104497f5c97faee9bdba_640_jpg.rf.9ae4f2c7a4b4cd047aec2086be969b89.jpg  \n",
            "  inflating: ./butterfly-spider/butterfly-spider/valid/images/ea36b70c2ff5063ed1584d05fb1d4e9fe777ead218ac104497f5c97faee9bdba_640_jpg.rf.c0446d327ab242fae33c1397ca43e6be.jpg  \n",
            "  inflating: ./butterfly-spider/butterfly-spider/valid/images/ea36b70e2af2003ed1584d05fb1d4e9fe777ead218ac104497f5c97faee9bdba_640_jpg.rf.116c623f3956f1a7648f7f6df8e9defb.jpg  \n",
            "  inflating: ./butterfly-spider/butterfly-spider/valid/images/ea37b00e21f2033ed1584d05fb1d4e9fe777ead218ac104497f5c97ca5ecb5b1_640_jpg.rf.e354c2990cdb39211dfbb2f498dfe68f.jpg  \n",
            "  inflating: ./butterfly-spider/butterfly-spider/valid/images/ea37b00e2bf0073ed1584d05fb1d4e9fe777ead218ac104497f5c97faeebb5bb_640_jpg.rf.4a345a3489b87ae64be79b691d3b0e3d.jpg  \n",
            "  inflating: ./butterfly-spider/butterfly-spider/valid/images/ea37b10c28f3003ed1584d05fb1d4e9fe777ead218ac104497f5c97faee8b1b8_640_jpg.rf.b0140a8cf303328207ebad7ffe209f23.jpg  \n",
            "  inflating: ./butterfly-spider/butterfly-spider/valid/images/ea37b10d20f7053ed1584d05fb1d4e9fe777ead218ac104497f5c97ca5edb3bd_640_jpg.rf.fcc1f9ada53ebeb11e4364f3c5d55bfc.jpg  \n",
            "  inflating: ./butterfly-spider/butterfly-spider/valid/images/ea37b30f21fc073ed1584d05fb1d4e9fe777ead218ac104497f5c97faeebb5bb_640_jpg.rf.854713c658f9601c44ca152325862776.jpg  \n",
            "  inflating: ./butterfly-spider/butterfly-spider/valid/images/ea37b40d20fd023ed1584d05fb1d4e9fe777ead218ac104497f5c97faee9bdba_640_jpg.rf.ccfc1c0acaa69f5618ea1f398f061234.jpg  \n",
            "  inflating: ./butterfly-spider/butterfly-spider/valid/images/ea37b50628f1033ed1584d05fb1d4e9fe777ead218ac104497f5c97faee8b1b8_640_jpg.rf.642fb40f65dcbf8316b75f6dbef7715f.jpg  \n",
            "  inflating: ./butterfly-spider/butterfly-spider/valid/images/ea37b6092afc043ed1584d05fb1d4e9fe777ead218ac104497f5c97faee8b1b8_640_jpg.rf.13aba90f9aebbf41bc69c61a7f3141ae.jpg  \n",
            "  inflating: ./butterfly-spider/butterfly-spider/valid/images/ea37b8062af6073ed1584d05fb1d4e9fe777ead218ac104497f5c97faee8b1b8_640_jpg.rf.c9c27a1d51c71df20a4b2e01bca1df8d.jpg  \n",
            "  inflating: ./butterfly-spider/butterfly-spider/valid/images/eb33b7092ff1073ed1584d05fb1d4e9fe777ead218ac104497f5c97faeebb5bb_640_jpg.rf.dbb4aa62b4a44930b668ee7387643a06.jpg  \n",
            "  inflating: ./butterfly-spider/butterfly-spider/valid/images/eb3cb00c2ff2003ed1584d05fb1d4e9fe777ead218ac104497f5c97ca5edb3bd_640_jpg.rf.f940f3e2aa2d1adac5bb7fb49b3cc13f.jpg  \n",
            "  inflating: ./butterfly-spider/butterfly-spider/valid/images/eb3cb40d28f2013ed1584d05fb1d4e9fe777ead218ac104497f5c97ca5ecb5b1_640_jpg.rf.2406f6e4321d2ff64c9b04ae5f761687.jpg  \n",
            "  inflating: ./butterfly-spider/butterfly-spider/valid/images/ed36b5072be90021d85a5854ee454296eb70e3c818b413449df6c87ca3ed_640_jpg.rf.cb2b2e02fad228be957d8f84935e8125.jpg  \n",
            "  inflating: ./butterfly-spider/butterfly-spider/valid/images/OIP-Y5LqV9FHAH_UlZJDAz8xKgHaEm_jpeg.rf.d78ee5c7a07e4f91232001dbeca9991e.jpg  \n",
            "  inflating: ./butterfly-spider/butterfly-spider/valid/images/OIP-y7f97MUcG6cwDWljxiF8dAHaFo_jpeg.rf.b85bf17b46f4171395aeb73d8ccb37bd.jpg  \n",
            "  inflating: ./butterfly-spider/butterfly-spider/valid/images/OIP-YBfm8KLGbabzJ9Vqwx0s1wHaEy_jpeg.rf.d8ec5ece9cc281a065f5d4c080245073.jpg  \n",
            "  inflating: ./butterfly-spider/butterfly-spider/valid/images/OIP-yEKjyLYQD0Zd9y410iniMQHaFj_jpeg.rf.750c7979abbd42d8c352794db119f717.jpg  \n",
            "  inflating: ./butterfly-spider/butterfly-spider/valid/images/OIP-yKcrgjIjzU_Cczz-GOuG0wHaHn_jpeg.rf.8e98d8d0daaa6c65e830360da90805bb.jpg  \n",
            "  inflating: ./butterfly-spider/butterfly-spider/valid/images/OIP-yNGnUjnZ7cuskPMqHg50JwHaFB_jpeg.rf.8e1cfbeffdb30e552ac004e96e0e7ae4.jpg  \n",
            "  inflating: ./butterfly-spider/butterfly-spider/valid/images/OIP-YoXyDt_LP0Y7wQYOjQA4YwHaFj_jpeg.rf.4b8bc2044e076d432f53b3de7314733f.jpg  \n",
            "  inflating: ./butterfly-spider/butterfly-spider/valid/images/OIP-yOz-PbUNxp5CS-TJHGgLTwHaFj_jpeg.rf.ec0d57781291203918bc5cde10251b00.jpg  \n",
            "  inflating: ./butterfly-spider/butterfly-spider/valid/images/OIP-yQPxH8ylYXtXPC1nCkL6bwAAAA_jpeg.rf.248ff051c39a5c19ed183ac467eca537.jpg  \n",
            "  inflating: ./butterfly-spider/butterfly-spider/valid/images/OIP-yQrmMj0P6ZJsQ1WZ0j_WbQHaFF_jpeg.rf.b487fae7ef0e913b35dc13b9ae505547.jpg  \n",
            "  inflating: ./butterfly-spider/butterfly-spider/valid/images/OIP-YQXaeXxaHofNUT_VI4ZyXgHaDB_jpeg.rf.4670340355a6d4648b975b1e25cbc49d.jpg  \n",
            "  inflating: ./butterfly-spider/butterfly-spider/valid/images/OIP-YRlnNiIVpOdUi54zRktYRAHaFl_jpeg.rf.d1175e13a3233fed3ab24ec57a20ac45.jpg  \n",
            "  inflating: ./butterfly-spider/butterfly-spider/valid/images/OIP-yrxQiEPNPJHfUL2_PUtZ4gHaFI_jpeg.rf.76bd5f676ca775c6e87ce0628181b5ea.jpg  \n",
            "  inflating: ./butterfly-spider/butterfly-spider/valid/images/OIP-YVLFPqUqLTiQU-66HkcaEAHaEE_jpeg.rf.515d65901de307d484e5b63f583dda67.jpg  \n",
            "  inflating: ./butterfly-spider/butterfly-spider/valid/images/OIP-Ywb4OmJ8AA6wY8gCNZE6XQHaJy_jpeg.rf.72af27355208f493fdd50a5b97d06f9a.jpg  \n",
            "  inflating: ./butterfly-spider/butterfly-spider/valid/images/OIP-Yz7FaJBXM5MtzQev8t_E4AHaHa_jpeg.rf.95b03b480a2de49c13cae78290bf4532.jpg  \n",
            "  inflating: ./butterfly-spider/butterfly-spider/valid/images/OIP-z0UEPlOllV3uEYUIOS_W9gHaFp_jpeg.rf.a6d72e907cd89a7437916fe1b08a57c7.jpg  \n",
            "  inflating: ./butterfly-spider/butterfly-spider/valid/images/OIP-z3SJWUNe2F9tMrcFfjlZ6AHaFF_jpeg.rf.f85bd7476a5f48b0e0ef0d2965d9811c.jpg  \n",
            "  inflating: ./butterfly-spider/butterfly-spider/valid/images/OIP-Z6AxmfQ3pECe6YGk699JqgHaKt_jpeg.rf.bd59fd9955f69be63ec44a692941f197.jpg  \n",
            "  inflating: ./butterfly-spider/butterfly-spider/valid/images/OIP-z8jFJyX-oTR-4YgcsnxsfwHaE7_jpeg.rf.b13d72faa4dbef8b5a155a7d54e0bdd9.jpg  \n",
            "  inflating: ./butterfly-spider/butterfly-spider/valid/images/OIP-z9PbEkYZFnKl6Q1w7lDJqAHaFV_jpeg.rf.542bcecef4c8553695edbe16a60efbb7.jpg  \n",
            "  inflating: ./butterfly-spider/butterfly-spider/valid/images/OIP-z9zEQ5DgVx14l8dVLOtRzAHaE8_jpeg.rf.b10c5fda5d306efc952c15bed553ee4b.jpg  \n",
            "  inflating: ./butterfly-spider/butterfly-spider/valid/images/OIP-ZbbCmvgVzAZzNhNAOMdf0wHaF7_jpeg.rf.01114783a4406238d9c7bc6fcf185c43.jpg  \n",
            "  inflating: ./butterfly-spider/butterfly-spider/valid/images/OIP-zBsrXI6g_ZYAzwoue2NMUAHaE-_jpeg.rf.39f04e2408956b7b8691ad9be17d7f47.jpg  \n",
            "  inflating: ./butterfly-spider/butterfly-spider/valid/images/OIP-ZBuoPmQzhSfiC7McazsV0wHaFj_jpeg.rf.eda0e3a00d7998bee31457448fc2a595.jpg  \n",
            "  inflating: ./butterfly-spider/butterfly-spider/valid/images/OIP-zee9w8Ff2D-Hu9Y6JoGZ9gHaFc_jpeg.rf.589995cdcd40626428a17b8d4b7dfdf8.jpg  \n",
            "  inflating: ./butterfly-spider/butterfly-spider/valid/images/OIP-zEzyx7sJEvDOn2ZDcz997gHaJg_jpeg.rf.17d79fff49d0871c3bf32e7f5dedce04.jpg  \n",
            "  inflating: ./butterfly-spider/butterfly-spider/valid/images/OIP-Zff5N4-iYYjiI-GtyLyfzAEbEs_jpeg.rf.7a0a7a32bf87a108ad2c0f3f5e586ede.jpg  \n",
            "  inflating: ./butterfly-spider/butterfly-spider/valid/images/OIP-Z-FT2EEEuHs3bQchVmUIlgHaE8_jpeg.rf.36c127fe1fbb194074875d0c8ee20605.jpg  \n",
            "  inflating: ./butterfly-spider/butterfly-spider/valid/images/OIP-zGMhX-rG1gdBG3kxgdhhiQHaEo_jpeg.rf.a953cbcf9a5136abd7b6ac0dd85305d9.jpg  \n",
            "  inflating: ./butterfly-spider/butterfly-spider/valid/images/OIP-zgnS7gkojYJDxtOmbA9fpQHaFd_jpeg.rf.3099721c51b7b922e0e8c8d56375e175.jpg  \n",
            "  inflating: ./butterfly-spider/butterfly-spider/valid/images/OIP-ziReSR7reBXhoIa6gCHiggHaEL_jpeg.rf.0dd4adbab14d7d4ba6ffa486dc4ef4d5.jpg  \n",
            "  inflating: ./butterfly-spider/butterfly-spider/valid/images/OIP-zJp3qbzl8PqWLa3vOa3u7wAAAA_jpeg.rf.8f079269761f50638dc14d557daa280b.jpg  \n",
            "  inflating: ./butterfly-spider/butterfly-spider/valid/images/OIP-zKZYCV302FwIUMVrwSr4xgEsDh_jpeg.rf.761ed730310cfcfb0463bce98db82fb9.jpg  \n",
            "  inflating: ./butterfly-spider/butterfly-spider/valid/images/OIP-zMaM2f6nWX-bwQNMd0HmxAHaE7_jpeg.rf.d0865113884f79b3e0918e78da2d7b51.jpg  \n",
            "  inflating: ./butterfly-spider/butterfly-spider/valid/images/OIP-ZmHxJ_Am_lek-nWczOBQYAHaFm_jpeg.rf.17a443347739e1a55706fe3399ba0cb4.jpg  \n",
            "  inflating: ./butterfly-spider/butterfly-spider/valid/images/OIP-zn8nXe80DvItXz86mexfzAHaFx_jpeg.rf.ff5718e6af1442d323de0150e53ddd21.jpg  \n",
            "  inflating: ./butterfly-spider/butterfly-spider/valid/images/OIP-zn9k9S-fjvLCqybxjEv0wgHaFk_jpeg.rf.7ff881168542dc09e505dab7d529035e.jpg  \n",
            "  inflating: ./butterfly-spider/butterfly-spider/valid/images/OIP-zNAL_bEKlobLaiHuOkqKsQHaE7_jpeg.rf.89728000160b45bcafb9b76ce14070ad.jpg  \n",
            "  inflating: ./butterfly-spider/butterfly-spider/valid/images/OIP-Zngvb06BtiDCbO37L6jB3wHaFj_jpeg.rf.d395579e98956f961c6f9cd534f55085.jpg  \n",
            "  inflating: ./butterfly-spider/butterfly-spider/valid/images/OIP-zPKmvCGfQu7FF_IRLQNO2wHaE7_jpeg.rf.52f180faefb0a040c2527792775e9530.jpg  \n",
            "  inflating: ./butterfly-spider/butterfly-spider/valid/images/OIP-ZpL3dr1__7K5ckekfUqyCgHaFj_jpeg.rf.49c47d85524e11969ec70683e08f45c1.jpg  \n",
            "  inflating: ./butterfly-spider/butterfly-spider/valid/images/OIP-ZPwLGck6a6rklGzDgUaniQAAAA_jpeg.rf.2844acfdb6d4691c664125d44431c6a8.jpg  \n",
            "  inflating: ./butterfly-spider/butterfly-spider/valid/images/OIP-zqYnjyMopVxXFFJHoztbOQHaH7_jpeg.rf.35c14f952cdca8f9e546556fdb2e4d52.jpg  \n",
            "  inflating: ./butterfly-spider/butterfly-spider/valid/images/OIP-ZsJIFgVHbyWc7rtF5VahrwEsEs_jpeg.rf.62a0939b39cc73644ee64c50f958403d.jpg  \n",
            "  inflating: ./butterfly-spider/butterfly-spider/valid/images/OIP-ZV8Qq6_eAO2Ba6CVBQ6kmQHaGN_jpeg.rf.32da59d1d81a9e23712105d35768ea29.jpg  \n",
            "  inflating: ./butterfly-spider/butterfly-spider/valid/images/OIP-ZVEttZ3Lkl4un9LLPvOBDAHaGO_jpeg.rf.d28105d8fc1a81ecf1dd9767eafb4aba.jpg  \n",
            "  inflating: ./butterfly-spider/butterfly-spider/valid/images/OIP-zVFfJKZOFNSyVGwkzFxK0QHaE2_jpeg.rf.b3196f09d8557009ae649f36cfbedae8.jpg  \n",
            "  inflating: ./butterfly-spider/butterfly-spider/valid/images/OIP-zVqXUldJvdA6XL0v11iqCQAAAA_jpeg.rf.ab8d8bc2032411b9ca624d93e3f3a4b9.jpg  \n",
            "  inflating: ./butterfly-spider/butterfly-spider/valid/images/OIP-ZvYBiAU1Y2VGNnTc2ef7sQHaE8_jpeg.rf.1701ca20d83dbafffd98512a05a9ca27.jpg  \n",
            "  inflating: ./butterfly-spider/butterfly-spider/valid/images/OIP-ZXQeaY9BRECOc2Wy17o-tQHaGO_jpeg.rf.a85ca61556f305a19feabb1cdb50d7b2.jpg  \n",
            "  inflating: ./butterfly-spider/butterfly-spider/valid/images/OIP-Zy5oMbMztd6lcmqR5NjpyAHaGJ_jpeg.rf.c42bf2c4880c96331e75b3173bf462db.jpg  \n",
            "  inflating: ./butterfly-spider/butterfly-spider/valid/images/OIP-zztIh87vLG9VhslKsBt1ZQHaFr_jpeg.rf.3c840e4ba033aa050dd6493aaf2e32b6.jpg  \n",
            "   creating: ./butterfly-spider/butterfly-spider/valid/labels/\n",
            "  inflating: ./butterfly-spider/butterfly-spider/valid/labels/e030b2092be90021d85a5854ee454296eb70e3c818b413449df6c87ca3ed_640_jpg.rf.3661ddfa24f4224951f6b7110f74798a.txt  \n",
            "  inflating: ./butterfly-spider/butterfly-spider/valid/labels/e030b2092ce90021d85a5854ee454296eb70e3c818b413449df6c87ca3ed_640_jpg.rf.eb17c83b698db3f30b74c3db0889459d.txt  \n",
            "  inflating: ./butterfly-spider/butterfly-spider/valid/labels/e030b20a20e90021d85a5854ee454296eb70e3c818b413449df6c87ca3ed_640_jpg.rf.6d0e28bd9522b26e1f07406ce92c10df.txt  \n",
            "  inflating: ./butterfly-spider/butterfly-spider/valid/labels/e831b00c2ef3093ed1584d05fb1d4e9fe777ead218ac104497f5c97faee9bdba_640_jpg.rf.047044cf91f2fef76a0e29507e5b9f7e.txt  \n",
            "  inflating: ./butterfly-spider/butterfly-spider/valid/labels/e831b50f2df71c22d2524518b7444f92e37fe5d404b0144390f8c770a2e9b5_640_jpg.rf.1fb1a2a4d05450e196fc819071659435.txt  \n",
            "  inflating: ./butterfly-spider/butterfly-spider/valid/labels/e831b50f2df71c22d2524518b7444f92e37fe5d404b0144390f8c770a2e9b5_640_jpg.rf.a1896a9f06cd9bc548e5aae9fc05f67f.txt  \n",
            "  inflating: ./butterfly-spider/butterfly-spider/valid/labels/e832b10e2efc043ed1584d05fb1d4e9fe777ead218ac104497f5c97faee9bdba_640_jpg.rf.9d91bc2b0e5af477dda5eea0640cfbaa.txt  \n",
            "  inflating: ./butterfly-spider/butterfly-spider/valid/labels/e832b7062ff6093ed1584d05fb1d4e9fe777ead218ac104497f5c97faeebb5bb_640_png.rf.ad2f5a08172c23257dddba08ccc12918.txt  \n",
            "  inflating: ./butterfly-spider/butterfly-spider/valid/labels/e833b40a28fd093ed1584d05fb1d4e9fe777ead218ac104497f5c97faee9bdba_640_jpg.rf.0ba611a75c1a7c3f70e81032bee170bd.txt  \n",
            "  inflating: ./butterfly-spider/butterfly-spider/valid/labels/e833b40a2ff6053ed1584d05fb1d4e9fe777ead218ac104497f5c97faee9bdba_640_jpg.rf.aede4e7b964bf9b0d2305a42fac8888a.txt  \n",
            "  inflating: ./butterfly-spider/butterfly-spider/valid/labels/e833b80721f2043ed1584d05fb1d4e9fe777ead218ac104497f5c97faee9bdba_640_jpg.rf.38b6ca31fed63a77a3630db4e486a1f1.txt  \n",
            "  inflating: ./butterfly-spider/butterfly-spider/valid/labels/e835b20b2bf7093ed1584d05fb1d4e9fe777ead218ac104497f5c97ca5ecb3b9_640_jpg.rf.d5aaa20eae610d32998029ea2b2bbb0f.txt  \n",
            "  inflating: ./butterfly-spider/butterfly-spider/valid/labels/e837b3072ef7083ed1584d05fb1d4e9fe777ead218ac104497f5c97faee9bdba_640_jpg.rf.0e49e2e37c5aaca4939be5344fe10563.txt  \n",
            "  inflating: ./butterfly-spider/butterfly-spider/valid/labels/e837b90e2cf6093ed1584d05fb1d4e9fe777ead218ac104497f5c97faeebb5bb_640_jpg.rf.84c1dc9bb1c70276f9c2ac168dd247c1.txt  \n",
            "  inflating: ./butterfly-spider/butterfly-spider/valid/labels/e83cb20721f3093ed1584d05fb1d4e9fe777ead218ac104497f5c97faeebb5bb_640_jpg.rf.158b780232a45fa6df33c0ea520dc15c.txt  \n",
            "  inflating: ./butterfly-spider/butterfly-spider/valid/labels/e83cb7082cf11c22d2524518b7444f92e37fe5d404b0144390f8c770a2e9b5_640_jpg.rf.60f027626bc9cf30efeb4c4de78facf5.txt  \n",
            "  inflating: ./butterfly-spider/butterfly-spider/valid/labels/e83cb90c28e90021d85a5854ee454296eb70e3c818b413449df6c87dafef_640_jpg.rf.95c07f9921c7f612a0758c068540f092.txt  \n",
            "  inflating: ./butterfly-spider/butterfly-spider/valid/labels/e83db20a2de90021d85a5854ee454296eb70e3c818b413449df6c87fa7ee_640_jpg.rf.779b7e7cbd7bcbee31f67db7c25792db.txt  \n",
            "  inflating: ./butterfly-spider/butterfly-spider/valid/labels/e83db70621f3063ed1584d05fb1d4e9fe777ead218ac104497f5c97ca5ecb3b9_640_jpg.rf.e6081096a10c173d34ab0ddf4d28c080.txt  \n",
            "  inflating: ./butterfly-spider/butterfly-spider/valid/labels/e83db70d28f31c22d2524518b7444f92e37fe5d404b0144390f8c770a2e9b5_640_jpg.rf.dd40d3bbc0cf274c4cd0363e828bb678.txt  \n",
            "  inflating: ./butterfly-spider/butterfly-spider/valid/labels/e83db70e2cf0073ed1584d05fb1d4e9fe777ead218ac104497f5c97faeebb5bb_640_png.rf.aca96309da02495953473be97987744c.txt  \n",
            "  inflating: ./butterfly-spider/butterfly-spider/valid/labels/ea30b50a2afc1c22d2524518b7444f92e37fe5d404b0144390f8c770a3e5b7_640_jpg.rf.18c45008e34cb60df495599eb21a1454.txt  \n",
            "  inflating: ./butterfly-spider/butterfly-spider/valid/labels/ea31b90820fd1c22d2524518b7444f92e37fe5d404b0144390f8c47ba6ebb4_640_jpg.rf.df8dacb880776f7ee1ea645082cc9179.txt  \n",
            "  inflating: ./butterfly-spider/butterfly-spider/valid/labels/ea33b20c2cf61c22d2524518b7444f92e37fe5d404b0144390f8c770a3e5b7_640_jpg.rf.0dc4febe3b6ce459419a6bd8f8c18ac5.txt  \n",
            "  inflating: ./butterfly-spider/butterfly-spider/valid/labels/ea34b10628fc003ed1584d05fb1d4e9fe777ead218ac104497f5c97ca5ecb5b1_640_jpg.rf.f72e1ea9b1ebbe04d8ad03eba7ff7031.txt  \n",
            "  inflating: ./butterfly-spider/butterfly-spider/valid/labels/ea34b10a28f0013ed1584d05fb1d4e9fe777ead218ac104497f5c97faeebb5bb_640_jpg.rf.0b6895978a9a9ee216d87af532b5cc92.txt  \n",
            "  inflating: ./butterfly-spider/butterfly-spider/valid/labels/ea34b20e29fc1c22d2524518b7444f92e37fe5d404b0144390f8c47ba7ebb0_640_jpg.rf.3ba1d7737d9fa09b3a561dd08d24245c.txt  \n",
            "  inflating: ./butterfly-spider/butterfly-spider/valid/labels/ea34b20f28f2043ed1584d05fb1d4e9fe777ead218ac104497f5c97faeebb5bb_640_jpg.rf.e331eb3693e37d09423e96a9d8a3ee25.txt  \n",
            "  inflating: ./butterfly-spider/butterfly-spider/valid/labels/ea34b3072ffd003ed1584d05fb1d4e9fe777ead218ac104497f5c97ca5ecb5b1_640_jpg.rf.8e97b810f26618326547967f22cae3d7.txt  \n",
            "  inflating: ./butterfly-spider/butterfly-spider/valid/labels/ea34b3082bf7073ed1584d05fb1d4e9fe777ead218ac104497f5c97faeebb5bb_640_jpg.rf.fd5c402994841fc9ed68693343ea097d.txt  \n",
            "  inflating: ./butterfly-spider/butterfly-spider/valid/labels/ea34b3092cf5073ed1584d05fb1d4e9fe777ead218ac104497f5c97ca5edb3bd_640_jpg.rf.a3c9c65ea60e8c3361919d98964585fc.txt  \n",
            "  inflating: ./butterfly-spider/butterfly-spider/valid/labels/ea34b30f29f5063ed1584d05fb1d4e9fe777ead218ac104497f5c97ca5edb3bd_640_jpg.rf.44c16c90ce374b083f3bd9fdfdb48318.txt  \n",
            "  inflating: ./butterfly-spider/butterfly-spider/valid/labels/ea34b4072cf0073ed1584d05fb1d4e9fe777ead218ac104497f5c97faeebb5bb_640_jpg.rf.6e3f5c9d8bab2fe037ac62561c97be68.txt  \n",
            "  inflating: ./butterfly-spider/butterfly-spider/valid/labels/ea34b5082bf5073ed1584d05fb1d4e9fe777ead218ac104497f5c97ca5edb3bd_640_jpg.rf.293e056d310262250ba6db29af983459.txt  \n",
            "  inflating: ./butterfly-spider/butterfly-spider/valid/labels/ea34b50c2cf0033ed1584d05fb1d4e9fe777ead218ac104497f5c97ca5edb3bd_640_jpg.rf.57f51dd57517ad92f0c34ec69700adb9.txt  \n",
            "  inflating: ./butterfly-spider/butterfly-spider/valid/labels/ea34b50d29f7003ed1584d05fb1d4e9fe777ead218ac104497f5c97faee8b1b8_640_jpg.rf.8972c8bf6796fac1d11647e405c384c5.txt  \n",
            "  inflating: ./butterfly-spider/butterfly-spider/valid/labels/ea34b60d20f3033ed1584d05fb1d4e9fe777ead218ac104497f5c97faeebb5bb_640_jpg.rf.83a1c34d3bc2c8ef02b5dfd7ca4cc311.txt  \n",
            "  inflating: ./butterfly-spider/butterfly-spider/valid/labels/ea34b70820f4003ed1584d05fb1d4e9fe777ead218ac104497f5c97ca5ecb5b1_640_jpg.rf.6c106ce2a889fda864da80d216f0b788.txt  \n",
            "  inflating: ./butterfly-spider/butterfly-spider/valid/labels/ea34b7082cf41c22d2524518b7444f92e37fe5d404b0144390f8c770a2e9b5_640_jpg.rf.939f626aa3d17602e6b28f5b05014511.txt  \n",
            "  inflating: ./butterfly-spider/butterfly-spider/valid/labels/ea34b70e2efc033ed1584d05fb1d4e9fe777ead218ac104497f5c97faee8b1b8_640_jpg.rf.a98f8c41dca462d88a22ccb1f12f4e2d.txt  \n",
            " extracting: ./butterfly-spider/butterfly-spider/valid/labels/ea34b8092df3003ed1584d05fb1d4e9fe777ead218ac104497f5c97ca5edb3bd_640_jpg.rf.d53ba35677bf735ed44ae30bd982c60d.txt  \n",
            "  inflating: ./butterfly-spider/butterfly-spider/valid/labels/ea34b80a28f7043ed1584d05fb1d4e9fe777ead218ac104497f5c97ca5edb3bd_640_jpg.rf.26a786448788ec777120e88611be9999.txt  \n",
            "  inflating: ./butterfly-spider/butterfly-spider/valid/labels/ea34b90629f3043ed1584d05fb1d4e9fe777ead218ac104497f5c97faeebb5bb_640_jpg.rf.97e66b753d20d6ae9f5d8dafbd9ac30c.txt  \n",
            "  inflating: ./butterfly-spider/butterfly-spider/valid/labels/ea34b90b2bf7063ed1584d05fb1d4e9fe777ead218ac104497f5c97faee9bdba_640_jpg.rf.22783e72b9ee1d83512078e031f04fea.txt  \n",
            "  inflating: ./butterfly-spider/butterfly-spider/valid/labels/ea34b90d2cf1003ed1584d05fb1d4e9fe777ead218ac104497f5c97faee8b1b8_640_jpg.rf.a4da24d3970c76707f99344c53f159e2.txt  \n",
            "  inflating: ./butterfly-spider/butterfly-spider/valid/labels/ea34b90e20f6073ed1584d05fb1d4e9fe777ead218ac104497f5c97faee9bdba_640_jpg.rf.2ca1bbb32b7a37c359fb88d984f3585f.txt  \n",
            "  inflating: ./butterfly-spider/butterfly-spider/valid/labels/ea34b90e2ef0073ed1584d05fb1d4e9fe777ead218ac104497f5c97ca5edb3bd_640_jpg.rf.50ee0d6cb7aac82e037cc948040bb29e.txt  \n",
            "  inflating: ./butterfly-spider/butterfly-spider/valid/labels/ea35b10f29f1013ed1584d05fb1d4e9fe777ead218ac104497f5c97ca5edb3bd_640_jpg.rf.063b517325ec1df4a76898e2648e70a6.txt  \n",
            "  inflating: ./butterfly-spider/butterfly-spider/valid/labels/ea35b4072df1043ed1584d05fb1d4e9fe777ead218ac104497f5c97ca5ecb5b1_640_jpg.rf.daed64c7c4ae38dae329e7f8d984fd39.txt  \n",
            "  inflating: ./butterfly-spider/butterfly-spider/valid/labels/ea35b40a2af6073ed1584d05fb1d4e9fe777ead218ac104497f5c97ca5edb3bd_640_jpg.rf.f3d9f13754dc9884acc4e6768db411e9.txt  \n",
            "  inflating: ./butterfly-spider/butterfly-spider/valid/labels/ea35b40e2cfd013ed1584d05fb1d4e9fe777ead218ac104497f5c97ca5edb3bd_640_jpg.rf.4ea004242852f4c40cb9ca5b313e335f.txt  \n",
            "  inflating: ./butterfly-spider/butterfly-spider/valid/labels/ea35b40f2ef6013ed1584d05fb1d4e9fe777ead218ac104497f5c97faeebb5bb_640_jpg.rf.87714cbb8a16c7af62448edac8307c1a.txt  \n",
            "  inflating: ./butterfly-spider/butterfly-spider/valid/labels/ea35b5092bf2033ed1584d05fb1d4e9fe777ead218ac104497f5c97faee8b1b8_640_jpg.rf.790426f81749cf1f9f303e907ad95979.txt  \n",
            "  inflating: ./butterfly-spider/butterfly-spider/valid/labels/ea35b50e2bf6033ed1584d05fb1d4e9fe777ead218ac104497f5c97faee8b1b8_640_jpg.rf.5229ed45f9e5c5d57eba177089b15b38.txt  \n",
            "  inflating: ./butterfly-spider/butterfly-spider/valid/labels/ea35b6092ef2003ed1584d05fb1d4e9fe777ead218ac104497f5c97ca5ecb5b1_640_jpg.rf.a71c93b88439d5430f5d3ba95b41cf31.txt  \n",
            "  inflating: ./butterfly-spider/butterfly-spider/valid/labels/ea35b70c2af2053ed1584d05fb1d4e9fe777ead218ac104497f5c97ca5edb3bd_640_jpg.rf.abd71a9a65cae5dc066253a1f89f409e.txt  \n",
            "  inflating: ./butterfly-spider/butterfly-spider/valid/labels/ea35b70c2af6003ed1584d05fb1d4e9fe777ead218ac104497f5c97ca5ecb5b1_640_jpg.rf.31cef1f02645d6edf351d4a189ae5c01.txt  \n",
            "  inflating: ./butterfly-spider/butterfly-spider/valid/labels/ea35b70d2ff3093ed1584d05fb1d4e9fe777ead218ac104497f5c97ca5ecb5b1_640_jpg.rf.8984e62b15b4940f8998eec942d776e0.txt  \n",
            "  inflating: ./butterfly-spider/butterfly-spider/valid/labels/ea35b70f2bf2083ed1584d05fb1d4e9fe777ead218ac104497f5c97ca5ecb5b1_640_jpg.rf.16ab716ce3d8a26baf4376f526081be7.txt  \n",
            "  inflating: ./butterfly-spider/butterfly-spider/valid/labels/ea35b8062df1063ed1584d05fb1d4e9fe777ead218ac104497f5c97faeebb5bb_640_jpg.rf.961f4085118906d03e0962cc4a74eff2.txt  \n",
            "  inflating: ./butterfly-spider/butterfly-spider/valid/labels/ea36b00829f0043ed1584d05fb1d4e9fe777ead218ac104497f5c97faee9bdba_640_jpg.rf.37c159afffd456828b455f3e7ada80e8.txt  \n",
            "  inflating: ./butterfly-spider/butterfly-spider/valid/labels/ea36b00d2dfd013ed1584d05fb1d4e9fe777ead218ac104497f5c97faeebb5bb_640_jpg.rf.5965d57bb3f966a0f0a7a702bbc2c803.txt  \n",
            "  inflating: ./butterfly-spider/butterfly-spider/valid/labels/ea36b1062df4053ed1584d05fb1d4e9fe777ead218ac104497f5c97faee9bdba_640_jpg.rf.8d0bd6588ce2cfac55d602bbe05393d9.txt  \n",
            "  inflating: ./butterfly-spider/butterfly-spider/valid/labels/ea36b10b2df3023ed1584d05fb1d4e9fe777ead218ac104497f5c97faee9bdba_640_jpg.rf.02cbef972f871c1bedb93612ed9f169d.txt  \n",
            "  inflating: ./butterfly-spider/butterfly-spider/valid/labels/ea36b10b2df3043ed1584d05fb1d4e9fe777ead218ac104497f5c97faee9bdba_640_jpg.rf.8e32f061da9d3c5300bcdfaa48892bcb.txt  \n",
            "  inflating: ./butterfly-spider/butterfly-spider/valid/labels/ea36b10d2af4063ed1584d05fb1d4e9fe777ead218ac104497f5c97faeebb5bb_640_jpg.rf.040a537cac67c67339e417cc198d1cb6.txt  \n",
            "  inflating: ./butterfly-spider/butterfly-spider/valid/labels/ea36b10f2afd093ed1584d05fb1d4e9fe777ead218ac104497f5c97ca5ecb5b1_640_jpg.rf.53ab023a9b986ce685bd2e33af75fd93.txt  \n",
            "  inflating: ./butterfly-spider/butterfly-spider/valid/labels/ea36b20c21f0093ed1584d05fb1d4e9fe777ead218ac104497f5c97faee9bdba_640_jpg.rf.489f28d2b686462a3a38c5117bf127ff.txt  \n",
            "  inflating: ./butterfly-spider/butterfly-spider/valid/labels/ea36b20c21f1073ed1584d05fb1d4e9fe777ead218ac104497f5c97faee9bdba_640_jpg.rf.392b0012e00b3819f3f4585e8cab65f1.txt  \n",
            "  inflating: ./butterfly-spider/butterfly-spider/valid/labels/ea36b20d2bf6083ed1584d05fb1d4e9fe777ead218ac104497f5c97faeebb5bb_640_jpg.rf.3cc6e4f63037f34ad53af0aba2e93205.txt  \n",
            "  inflating: ./butterfly-spider/butterfly-spider/valid/labels/ea36b20f21f3043ed1584d05fb1d4e9fe777ead218ac104497f5c97faee8b1b8_640_jpg.rf.cf18d71b0208f6993c98bdacf212c811.txt  \n",
            "  inflating: ./butterfly-spider/butterfly-spider/valid/labels/ea36b20f21f3063ed1584d05fb1d4e9fe777ead218ac104497f5c97faeebb5bb_640_jpg.rf.ef25de2bebb3aa625b5929e95c6ed39d.txt  \n",
            "  inflating: ./butterfly-spider/butterfly-spider/valid/labels/ea36b30b21f0093ed1584d05fb1d4e9fe777ead218ac104497f5c97faee8b1b8_640_jpg.rf.4b90392c921359be91e5a07e2679fbe5.txt  \n",
            "  inflating: ./butterfly-spider/butterfly-spider/valid/labels/ea36b30c2ef2053ed1584d05fb1d4e9fe777ead218ac104497f5c97faee8b1b8_640_jpg.rf.c4bf22e9a2ce27ac2e74fc53bb121752.txt  \n",
            "  inflating: ./butterfly-spider/butterfly-spider/valid/labels/ea36b30d21f0053ed1584d05fb1d4e9fe777ead218ac104497f5c97faee8b1b8_640_jpg.rf.7f2355148eedaa836af8246885071be1.txt  \n",
            "  inflating: ./butterfly-spider/butterfly-spider/valid/labels/ea36b30f2bfc053ed1584d05fb1d4e9fe777ead218ac104497f5c97faee9bdba_640_jpg.rf.eb0535bfc7c5b2ac8492346ef9f05c86.txt  \n",
            "  inflating: ./butterfly-spider/butterfly-spider/valid/labels/ea36b30f2bfc053ed1584d05fb1d4e9fe777ead218ac104497f5c97faee9bdba_640_jpg.rf.fd3139bc57369d19aa8dc65acc13a884.txt  \n",
            "  inflating: ./butterfly-spider/butterfly-spider/valid/labels/ea36b30f2cf0083ed1584d05fb1d4e9fe777ead218ac104497f5c97faee8b1b8_640_jpg.rf.69f4bde247e8e38b8603761cd419cc5a.txt  \n",
            "  inflating: ./butterfly-spider/butterfly-spider/valid/labels/ea36b30f2cf1013ed1584d05fb1d4e9fe777ead218ac104497f5c97faee9bdba_640_jpg.rf.0a20a14ed90b9bb4642cc3476d4808a3.txt  \n",
            "  inflating: ./butterfly-spider/butterfly-spider/valid/labels/ea36b40a2ef5073ed1584d05fb1d4e9fe777ead218ac104497f5c97faee9bdba_640_jpg.rf.ee16af83c861f2999861edbcaa6aee0e.txt  \n",
            "  inflating: ./butterfly-spider/butterfly-spider/valid/labels/ea36b40e28f7013ed1584d05fb1d4e9fe777ead218ac104497f5c97faee9bdba_640_jpg.rf.c511da7327085758df5b88f15a512211.txt  \n",
            "  inflating: ./butterfly-spider/butterfly-spider/valid/labels/ea36b40f2bfd033ed1584d05fb1d4e9fe777ead218ac104497f5c97faee9bdba_640_jpg.rf.6e0e9def02e8d331ef2a56319c9bfa15.txt  \n",
            "  inflating: ./butterfly-spider/butterfly-spider/valid/labels/ea36b5082ef5093ed1584d05fb1d4e9fe777ead218ac104497f5c97faee9bdba_640_jpg.rf.e826f60d9f2b385f66ef9600e5a1e8c0.txt  \n",
            "  inflating: ./butterfly-spider/butterfly-spider/valid/labels/ea36b50928fc023ed1584d05fb1d4e9fe777ead218ac104497f5c97ca5edb3bd_640_jpg.rf.e8ca14c05bb732a30ba6685b03162329.txt  \n",
            "  inflating: ./butterfly-spider/butterfly-spider/valid/labels/ea36b50a2ef1063ed1584d05fb1d4e9fe777ead218ac104497f5c97faee9bdba_640_jpg.rf.c86c8344f7d027bdc8c2faeb54ac2f47.txt  \n",
            "  inflating: ./butterfly-spider/butterfly-spider/valid/labels/ea36b50b20f5093ed1584d05fb1d4e9fe777ead218ac104497f5c97ca5edb3bd_640_jpg.rf.50f26f63abec72bc8b56d4b33400de1f.txt  \n",
            "  inflating: ./butterfly-spider/butterfly-spider/valid/labels/ea36b50b20f6013ed1584d05fb1d4e9fe777ead218ac104497f5c97ca5edb3bd_640_jpg.rf.46f15cdf622c68df9f299e4271e97271.txt  \n",
            "  inflating: ./butterfly-spider/butterfly-spider/valid/labels/ea36b50c2af0013ed1584d05fb1d4e9fe777ead218ac104497f5c97faee8b1b8_640_jpg.rf.8502b1e5ca9248ac0c908effc84de5c8.txt  \n",
            "  inflating: ./butterfly-spider/butterfly-spider/valid/labels/ea36b50c2ef7003ed1584d05fb1d4e9fe777ead218ac104497f5c97faee9bdba_640_jpg.rf.9ae4f2c7a4b4cd047aec2086be969b89.txt  \n",
            "  inflating: ./butterfly-spider/butterfly-spider/valid/labels/ea36b70c2ff5063ed1584d05fb1d4e9fe777ead218ac104497f5c97faee9bdba_640_jpg.rf.c0446d327ab242fae33c1397ca43e6be.txt  \n",
            "  inflating: ./butterfly-spider/butterfly-spider/valid/labels/ea36b70e2af2003ed1584d05fb1d4e9fe777ead218ac104497f5c97faee9bdba_640_jpg.rf.116c623f3956f1a7648f7f6df8e9defb.txt  \n",
            "  inflating: ./butterfly-spider/butterfly-spider/valid/labels/ea37b00e21f2033ed1584d05fb1d4e9fe777ead218ac104497f5c97ca5ecb5b1_640_jpg.rf.e354c2990cdb39211dfbb2f498dfe68f.txt  \n",
            "  inflating: ./butterfly-spider/butterfly-spider/valid/labels/ea37b00e2bf0073ed1584d05fb1d4e9fe777ead218ac104497f5c97faeebb5bb_640_jpg.rf.4a345a3489b87ae64be79b691d3b0e3d.txt  \n",
            "  inflating: ./butterfly-spider/butterfly-spider/valid/labels/ea37b10c28f3003ed1584d05fb1d4e9fe777ead218ac104497f5c97faee8b1b8_640_jpg.rf.b0140a8cf303328207ebad7ffe209f23.txt  \n",
            "  inflating: ./butterfly-spider/butterfly-spider/valid/labels/ea37b10d20f7053ed1584d05fb1d4e9fe777ead218ac104497f5c97ca5edb3bd_640_jpg.rf.fcc1f9ada53ebeb11e4364f3c5d55bfc.txt  \n",
            "  inflating: ./butterfly-spider/butterfly-spider/valid/labels/ea37b30f21fc073ed1584d05fb1d4e9fe777ead218ac104497f5c97faeebb5bb_640_jpg.rf.854713c658f9601c44ca152325862776.txt  \n",
            "  inflating: ./butterfly-spider/butterfly-spider/valid/labels/ea37b40d20fd023ed1584d05fb1d4e9fe777ead218ac104497f5c97faee9bdba_640_jpg.rf.ccfc1c0acaa69f5618ea1f398f061234.txt  \n",
            "  inflating: ./butterfly-spider/butterfly-spider/valid/labels/ea37b50628f1033ed1584d05fb1d4e9fe777ead218ac104497f5c97faee8b1b8_640_jpg.rf.642fb40f65dcbf8316b75f6dbef7715f.txt  \n",
            "  inflating: ./butterfly-spider/butterfly-spider/valid/labels/ea37b6092afc043ed1584d05fb1d4e9fe777ead218ac104497f5c97faee8b1b8_640_jpg.rf.13aba90f9aebbf41bc69c61a7f3141ae.txt  \n",
            "  inflating: ./butterfly-spider/butterfly-spider/valid/labels/ea37b8062af6073ed1584d05fb1d4e9fe777ead218ac104497f5c97faee8b1b8_640_jpg.rf.c9c27a1d51c71df20a4b2e01bca1df8d.txt  \n",
            "  inflating: ./butterfly-spider/butterfly-spider/valid/labels/eb33b7092ff1073ed1584d05fb1d4e9fe777ead218ac104497f5c97faeebb5bb_640_jpg.rf.dbb4aa62b4a44930b668ee7387643a06.txt  \n",
            "  inflating: ./butterfly-spider/butterfly-spider/valid/labels/eb3cb00c2ff2003ed1584d05fb1d4e9fe777ead218ac104497f5c97ca5edb3bd_640_jpg.rf.f940f3e2aa2d1adac5bb7fb49b3cc13f.txt  \n",
            "  inflating: ./butterfly-spider/butterfly-spider/valid/labels/eb3cb40d28f2013ed1584d05fb1d4e9fe777ead218ac104497f5c97ca5ecb5b1_640_jpg.rf.2406f6e4321d2ff64c9b04ae5f761687.txt  \n",
            "  inflating: ./butterfly-spider/butterfly-spider/valid/labels/ed36b5072be90021d85a5854ee454296eb70e3c818b413449df6c87ca3ed_640_jpg.rf.cb2b2e02fad228be957d8f84935e8125.txt  \n",
            "  inflating: ./butterfly-spider/butterfly-spider/valid/labels/OIP-Y5LqV9FHAH_UlZJDAz8xKgHaEm_jpeg.rf.d78ee5c7a07e4f91232001dbeca9991e.txt  \n",
            "  inflating: ./butterfly-spider/butterfly-spider/valid/labels/OIP-y7f97MUcG6cwDWljxiF8dAHaFo_jpeg.rf.b85bf17b46f4171395aeb73d8ccb37bd.txt  \n",
            "  inflating: ./butterfly-spider/butterfly-spider/valid/labels/OIP-YBfm8KLGbabzJ9Vqwx0s1wHaEy_jpeg.rf.d8ec5ece9cc281a065f5d4c080245073.txt  \n",
            "  inflating: ./butterfly-spider/butterfly-spider/valid/labels/OIP-yEKjyLYQD0Zd9y410iniMQHaFj_jpeg.rf.750c7979abbd42d8c352794db119f717.txt  \n",
            "  inflating: ./butterfly-spider/butterfly-spider/valid/labels/OIP-yKcrgjIjzU_Cczz-GOuG0wHaHn_jpeg.rf.8e98d8d0daaa6c65e830360da90805bb.txt  \n",
            "  inflating: ./butterfly-spider/butterfly-spider/valid/labels/OIP-yNGnUjnZ7cuskPMqHg50JwHaFB_jpeg.rf.8e1cfbeffdb30e552ac004e96e0e7ae4.txt  \n",
            "  inflating: ./butterfly-spider/butterfly-spider/valid/labels/OIP-YoXyDt_LP0Y7wQYOjQA4YwHaFj_jpeg.rf.4b8bc2044e076d432f53b3de7314733f.txt  \n",
            "  inflating: ./butterfly-spider/butterfly-spider/valid/labels/OIP-yOz-PbUNxp5CS-TJHGgLTwHaFj_jpeg.rf.ec0d57781291203918bc5cde10251b00.txt  \n",
            "  inflating: ./butterfly-spider/butterfly-spider/valid/labels/OIP-yQPxH8ylYXtXPC1nCkL6bwAAAA_jpeg.rf.248ff051c39a5c19ed183ac467eca537.txt  \n",
            "  inflating: ./butterfly-spider/butterfly-spider/valid/labels/OIP-yQrmMj0P6ZJsQ1WZ0j_WbQHaFF_jpeg.rf.b487fae7ef0e913b35dc13b9ae505547.txt  \n",
            "  inflating: ./butterfly-spider/butterfly-spider/valid/labels/OIP-YQXaeXxaHofNUT_VI4ZyXgHaDB_jpeg.rf.4670340355a6d4648b975b1e25cbc49d.txt  \n",
            "  inflating: ./butterfly-spider/butterfly-spider/valid/labels/OIP-YRlnNiIVpOdUi54zRktYRAHaFl_jpeg.rf.d1175e13a3233fed3ab24ec57a20ac45.txt  \n",
            "  inflating: ./butterfly-spider/butterfly-spider/valid/labels/OIP-yrxQiEPNPJHfUL2_PUtZ4gHaFI_jpeg.rf.76bd5f676ca775c6e87ce0628181b5ea.txt  \n",
            "  inflating: ./butterfly-spider/butterfly-spider/valid/labels/OIP-YVLFPqUqLTiQU-66HkcaEAHaEE_jpeg.rf.515d65901de307d484e5b63f583dda67.txt  \n",
            "  inflating: ./butterfly-spider/butterfly-spider/valid/labels/OIP-Ywb4OmJ8AA6wY8gCNZE6XQHaJy_jpeg.rf.72af27355208f493fdd50a5b97d06f9a.txt  \n",
            "  inflating: ./butterfly-spider/butterfly-spider/valid/labels/OIP-Yz7FaJBXM5MtzQev8t_E4AHaHa_jpeg.rf.95b03b480a2de49c13cae78290bf4532.txt  \n",
            "  inflating: ./butterfly-spider/butterfly-spider/valid/labels/OIP-z0UEPlOllV3uEYUIOS_W9gHaFp_jpeg.rf.a6d72e907cd89a7437916fe1b08a57c7.txt  \n",
            "  inflating: ./butterfly-spider/butterfly-spider/valid/labels/OIP-z3SJWUNe2F9tMrcFfjlZ6AHaFF_jpeg.rf.f85bd7476a5f48b0e0ef0d2965d9811c.txt  \n",
            "  inflating: ./butterfly-spider/butterfly-spider/valid/labels/OIP-Z6AxmfQ3pECe6YGk699JqgHaKt_jpeg.rf.bd59fd9955f69be63ec44a692941f197.txt  \n",
            "  inflating: ./butterfly-spider/butterfly-spider/valid/labels/OIP-z8jFJyX-oTR-4YgcsnxsfwHaE7_jpeg.rf.b13d72faa4dbef8b5a155a7d54e0bdd9.txt  \n",
            "  inflating: ./butterfly-spider/butterfly-spider/valid/labels/OIP-z9PbEkYZFnKl6Q1w7lDJqAHaFV_jpeg.rf.542bcecef4c8553695edbe16a60efbb7.txt  \n",
            "  inflating: ./butterfly-spider/butterfly-spider/valid/labels/OIP-z9zEQ5DgVx14l8dVLOtRzAHaE8_jpeg.rf.b10c5fda5d306efc952c15bed553ee4b.txt  \n",
            "  inflating: ./butterfly-spider/butterfly-spider/valid/labels/OIP-ZbbCmvgVzAZzNhNAOMdf0wHaF7_jpeg.rf.01114783a4406238d9c7bc6fcf185c43.txt  \n",
            "  inflating: ./butterfly-spider/butterfly-spider/valid/labels/OIP-zBsrXI6g_ZYAzwoue2NMUAHaE-_jpeg.rf.39f04e2408956b7b8691ad9be17d7f47.txt  \n",
            "  inflating: ./butterfly-spider/butterfly-spider/valid/labels/OIP-ZBuoPmQzhSfiC7McazsV0wHaFj_jpeg.rf.eda0e3a00d7998bee31457448fc2a595.txt  \n",
            "  inflating: ./butterfly-spider/butterfly-spider/valid/labels/OIP-zee9w8Ff2D-Hu9Y6JoGZ9gHaFc_jpeg.rf.589995cdcd40626428a17b8d4b7dfdf8.txt  \n",
            "  inflating: ./butterfly-spider/butterfly-spider/valid/labels/OIP-zEzyx7sJEvDOn2ZDcz997gHaJg_jpeg.rf.17d79fff49d0871c3bf32e7f5dedce04.txt  \n",
            "  inflating: ./butterfly-spider/butterfly-spider/valid/labels/OIP-Zff5N4-iYYjiI-GtyLyfzAEbEs_jpeg.rf.7a0a7a32bf87a108ad2c0f3f5e586ede.txt  \n",
            "  inflating: ./butterfly-spider/butterfly-spider/valid/labels/OIP-Z-FT2EEEuHs3bQchVmUIlgHaE8_jpeg.rf.36c127fe1fbb194074875d0c8ee20605.txt  \n",
            "  inflating: ./butterfly-spider/butterfly-spider/valid/labels/OIP-zGMhX-rG1gdBG3kxgdhhiQHaEo_jpeg.rf.a953cbcf9a5136abd7b6ac0dd85305d9.txt  \n",
            "  inflating: ./butterfly-spider/butterfly-spider/valid/labels/OIP-zgnS7gkojYJDxtOmbA9fpQHaFd_jpeg.rf.3099721c51b7b922e0e8c8d56375e175.txt  \n",
            "  inflating: ./butterfly-spider/butterfly-spider/valid/labels/OIP-ziReSR7reBXhoIa6gCHiggHaEL_jpeg.rf.0dd4adbab14d7d4ba6ffa486dc4ef4d5.txt  \n",
            "  inflating: ./butterfly-spider/butterfly-spider/valid/labels/OIP-zJp3qbzl8PqWLa3vOa3u7wAAAA_jpeg.rf.8f079269761f50638dc14d557daa280b.txt  \n",
            "  inflating: ./butterfly-spider/butterfly-spider/valid/labels/OIP-zKZYCV302FwIUMVrwSr4xgEsDh_jpeg.rf.761ed730310cfcfb0463bce98db82fb9.txt  \n",
            "  inflating: ./butterfly-spider/butterfly-spider/valid/labels/OIP-zMaM2f6nWX-bwQNMd0HmxAHaE7_jpeg.rf.d0865113884f79b3e0918e78da2d7b51.txt  \n",
            "  inflating: ./butterfly-spider/butterfly-spider/valid/labels/OIP-ZmHxJ_Am_lek-nWczOBQYAHaFm_jpeg.rf.17a443347739e1a55706fe3399ba0cb4.txt  \n",
            "  inflating: ./butterfly-spider/butterfly-spider/valid/labels/OIP-zn8nXe80DvItXz86mexfzAHaFx_jpeg.rf.ff5718e6af1442d323de0150e53ddd21.txt  \n",
            "  inflating: ./butterfly-spider/butterfly-spider/valid/labels/OIP-zn9k9S-fjvLCqybxjEv0wgHaFk_jpeg.rf.7ff881168542dc09e505dab7d529035e.txt  \n",
            "  inflating: ./butterfly-spider/butterfly-spider/valid/labels/OIP-zNAL_bEKlobLaiHuOkqKsQHaE7_jpeg.rf.89728000160b45bcafb9b76ce14070ad.txt  \n",
            "  inflating: ./butterfly-spider/butterfly-spider/valid/labels/OIP-Zngvb06BtiDCbO37L6jB3wHaFj_jpeg.rf.d395579e98956f961c6f9cd534f55085.txt  \n",
            "  inflating: ./butterfly-spider/butterfly-spider/valid/labels/OIP-zPKmvCGfQu7FF_IRLQNO2wHaE7_jpeg.rf.52f180faefb0a040c2527792775e9530.txt  \n",
            "  inflating: ./butterfly-spider/butterfly-spider/valid/labels/OIP-ZpL3dr1__7K5ckekfUqyCgHaFj_jpeg.rf.49c47d85524e11969ec70683e08f45c1.txt  \n",
            "  inflating: ./butterfly-spider/butterfly-spider/valid/labels/OIP-ZPwLGck6a6rklGzDgUaniQAAAA_jpeg.rf.2844acfdb6d4691c664125d44431c6a8.txt  \n",
            "  inflating: ./butterfly-spider/butterfly-spider/valid/labels/OIP-zqYnjyMopVxXFFJHoztbOQHaH7_jpeg.rf.35c14f952cdca8f9e546556fdb2e4d52.txt  \n",
            "  inflating: ./butterfly-spider/butterfly-spider/valid/labels/OIP-ZsJIFgVHbyWc7rtF5VahrwEsEs_jpeg.rf.62a0939b39cc73644ee64c50f958403d.txt  \n",
            "  inflating: ./butterfly-spider/butterfly-spider/valid/labels/OIP-ZV8Qq6_eAO2Ba6CVBQ6kmQHaGN_jpeg.rf.32da59d1d81a9e23712105d35768ea29.txt  \n",
            "  inflating: ./butterfly-spider/butterfly-spider/valid/labels/OIP-ZVEttZ3Lkl4un9LLPvOBDAHaGO_jpeg.rf.d28105d8fc1a81ecf1dd9767eafb4aba.txt  \n",
            "  inflating: ./butterfly-spider/butterfly-spider/valid/labels/OIP-zVFfJKZOFNSyVGwkzFxK0QHaE2_jpeg.rf.b3196f09d8557009ae649f36cfbedae8.txt  \n",
            "  inflating: ./butterfly-spider/butterfly-spider/valid/labels/OIP-zVqXUldJvdA6XL0v11iqCQAAAA_jpeg.rf.ab8d8bc2032411b9ca624d93e3f3a4b9.txt  \n",
            "  inflating: ./butterfly-spider/butterfly-spider/valid/labels/OIP-ZvYBiAU1Y2VGNnTc2ef7sQHaE8_jpeg.rf.1701ca20d83dbafffd98512a05a9ca27.txt  \n",
            "  inflating: ./butterfly-spider/butterfly-spider/valid/labels/OIP-ZXQeaY9BRECOc2Wy17o-tQHaGO_jpeg.rf.a85ca61556f305a19feabb1cdb50d7b2.txt  \n",
            "  inflating: ./butterfly-spider/butterfly-spider/valid/labels/OIP-Zy5oMbMztd6lcmqR5NjpyAHaGJ_jpeg.rf.c42bf2c4880c96331e75b3173bf462db.txt  \n",
            "  inflating: ./butterfly-spider/butterfly-spider/valid/labels/OIP-zztIh87vLG9VhslKsBt1ZQHaFr_jpeg.rf.3c840e4ba033aa050dd6493aaf2e32b6.txt  \n"
          ]
        }
      ]
    },
    {
      "cell_type": "code",
      "source": [
        "!pip install ultralytics"
      ],
      "metadata": {
        "colab": {
          "base_uri": "https://localhost:8080/"
        },
        "collapsed": true,
        "id": "xQ7c6sHEtcxw",
        "outputId": "be27d6d5-e983-49e1-c436-4e75d911a887"
      },
      "execution_count": null,
      "outputs": [
        {
          "output_type": "stream",
          "name": "stdout",
          "text": [
            "Collecting ultralytics\n",
            "  Downloading ultralytics-8.3.111-py3-none-any.whl.metadata (37 kB)\n",
            "Requirement already satisfied: numpy<=2.1.1,>=1.23.0 in /usr/local/lib/python3.11/dist-packages (from ultralytics) (2.0.2)\n",
            "Requirement already satisfied: matplotlib>=3.3.0 in /usr/local/lib/python3.11/dist-packages (from ultralytics) (3.10.0)\n",
            "Requirement already satisfied: opencv-python>=4.6.0 in /usr/local/lib/python3.11/dist-packages (from ultralytics) (4.11.0.86)\n",
            "Requirement already satisfied: pillow>=7.1.2 in /usr/local/lib/python3.11/dist-packages (from ultralytics) (11.1.0)\n",
            "Requirement already satisfied: pyyaml>=5.3.1 in /usr/local/lib/python3.11/dist-packages (from ultralytics) (6.0.2)\n",
            "Requirement already satisfied: requests>=2.23.0 in /usr/local/lib/python3.11/dist-packages (from ultralytics) (2.32.3)\n",
            "Requirement already satisfied: scipy>=1.4.1 in /usr/local/lib/python3.11/dist-packages (from ultralytics) (1.14.1)\n",
            "Requirement already satisfied: torch>=1.8.0 in /usr/local/lib/python3.11/dist-packages (from ultralytics) (2.6.0+cu124)\n",
            "Requirement already satisfied: torchvision>=0.9.0 in /usr/local/lib/python3.11/dist-packages (from ultralytics) (0.21.0+cu124)\n",
            "Requirement already satisfied: tqdm>=4.64.0 in /usr/local/lib/python3.11/dist-packages (from ultralytics) (4.67.1)\n",
            "Requirement already satisfied: psutil in /usr/local/lib/python3.11/dist-packages (from ultralytics) (5.9.5)\n",
            "Requirement already satisfied: py-cpuinfo in /usr/local/lib/python3.11/dist-packages (from ultralytics) (9.0.0)\n",
            "Requirement already satisfied: pandas>=1.1.4 in /usr/local/lib/python3.11/dist-packages (from ultralytics) (2.2.2)\n",
            "Requirement already satisfied: seaborn>=0.11.0 in /usr/local/lib/python3.11/dist-packages (from ultralytics) (0.13.2)\n",
            "Collecting ultralytics-thop>=2.0.0 (from ultralytics)\n",
            "  Downloading ultralytics_thop-2.0.14-py3-none-any.whl.metadata (9.4 kB)\n",
            "Requirement already satisfied: contourpy>=1.0.1 in /usr/local/lib/python3.11/dist-packages (from matplotlib>=3.3.0->ultralytics) (1.3.1)\n",
            "Requirement already satisfied: cycler>=0.10 in /usr/local/lib/python3.11/dist-packages (from matplotlib>=3.3.0->ultralytics) (0.12.1)\n",
            "Requirement already satisfied: fonttools>=4.22.0 in /usr/local/lib/python3.11/dist-packages (from matplotlib>=3.3.0->ultralytics) (4.57.0)\n",
            "Requirement already satisfied: kiwisolver>=1.3.1 in /usr/local/lib/python3.11/dist-packages (from matplotlib>=3.3.0->ultralytics) (1.4.8)\n",
            "Requirement already satisfied: packaging>=20.0 in /usr/local/lib/python3.11/dist-packages (from matplotlib>=3.3.0->ultralytics) (24.2)\n",
            "Requirement already satisfied: pyparsing>=2.3.1 in /usr/local/lib/python3.11/dist-packages (from matplotlib>=3.3.0->ultralytics) (3.2.3)\n",
            "Requirement already satisfied: python-dateutil>=2.7 in /usr/local/lib/python3.11/dist-packages (from matplotlib>=3.3.0->ultralytics) (2.8.2)\n",
            "Requirement already satisfied: pytz>=2020.1 in /usr/local/lib/python3.11/dist-packages (from pandas>=1.1.4->ultralytics) (2025.2)\n",
            "Requirement already satisfied: tzdata>=2022.7 in /usr/local/lib/python3.11/dist-packages (from pandas>=1.1.4->ultralytics) (2025.2)\n",
            "Requirement already satisfied: charset-normalizer<4,>=2 in /usr/local/lib/python3.11/dist-packages (from requests>=2.23.0->ultralytics) (3.4.1)\n",
            "Requirement already satisfied: idna<4,>=2.5 in /usr/local/lib/python3.11/dist-packages (from requests>=2.23.0->ultralytics) (3.10)\n",
            "Requirement already satisfied: urllib3<3,>=1.21.1 in /usr/local/lib/python3.11/dist-packages (from requests>=2.23.0->ultralytics) (2.3.0)\n",
            "Requirement already satisfied: certifi>=2017.4.17 in /usr/local/lib/python3.11/dist-packages (from requests>=2.23.0->ultralytics) (2025.1.31)\n",
            "Requirement already satisfied: filelock in /usr/local/lib/python3.11/dist-packages (from torch>=1.8.0->ultralytics) (3.18.0)\n",
            "Requirement already satisfied: typing-extensions>=4.10.0 in /usr/local/lib/python3.11/dist-packages (from torch>=1.8.0->ultralytics) (4.13.1)\n",
            "Requirement already satisfied: networkx in /usr/local/lib/python3.11/dist-packages (from torch>=1.8.0->ultralytics) (3.4.2)\n",
            "Requirement already satisfied: jinja2 in /usr/local/lib/python3.11/dist-packages (from torch>=1.8.0->ultralytics) (3.1.6)\n",
            "Requirement already satisfied: fsspec in /usr/local/lib/python3.11/dist-packages (from torch>=1.8.0->ultralytics) (2025.3.2)\n",
            "Collecting nvidia-cuda-nvrtc-cu12==12.4.127 (from torch>=1.8.0->ultralytics)\n",
            "  Downloading nvidia_cuda_nvrtc_cu12-12.4.127-py3-none-manylinux2014_x86_64.whl.metadata (1.5 kB)\n",
            "Collecting nvidia-cuda-runtime-cu12==12.4.127 (from torch>=1.8.0->ultralytics)\n",
            "  Downloading nvidia_cuda_runtime_cu12-12.4.127-py3-none-manylinux2014_x86_64.whl.metadata (1.5 kB)\n",
            "Collecting nvidia-cuda-cupti-cu12==12.4.127 (from torch>=1.8.0->ultralytics)\n",
            "  Downloading nvidia_cuda_cupti_cu12-12.4.127-py3-none-manylinux2014_x86_64.whl.metadata (1.6 kB)\n",
            "Collecting nvidia-cudnn-cu12==9.1.0.70 (from torch>=1.8.0->ultralytics)\n",
            "  Downloading nvidia_cudnn_cu12-9.1.0.70-py3-none-manylinux2014_x86_64.whl.metadata (1.6 kB)\n",
            "Collecting nvidia-cublas-cu12==12.4.5.8 (from torch>=1.8.0->ultralytics)\n",
            "  Downloading nvidia_cublas_cu12-12.4.5.8-py3-none-manylinux2014_x86_64.whl.metadata (1.5 kB)\n",
            "Collecting nvidia-cufft-cu12==11.2.1.3 (from torch>=1.8.0->ultralytics)\n",
            "  Downloading nvidia_cufft_cu12-11.2.1.3-py3-none-manylinux2014_x86_64.whl.metadata (1.5 kB)\n",
            "Collecting nvidia-curand-cu12==10.3.5.147 (from torch>=1.8.0->ultralytics)\n",
            "  Downloading nvidia_curand_cu12-10.3.5.147-py3-none-manylinux2014_x86_64.whl.metadata (1.5 kB)\n",
            "Collecting nvidia-cusolver-cu12==11.6.1.9 (from torch>=1.8.0->ultralytics)\n",
            "  Downloading nvidia_cusolver_cu12-11.6.1.9-py3-none-manylinux2014_x86_64.whl.metadata (1.6 kB)\n",
            "Collecting nvidia-cusparse-cu12==12.3.1.170 (from torch>=1.8.0->ultralytics)\n",
            "  Downloading nvidia_cusparse_cu12-12.3.1.170-py3-none-manylinux2014_x86_64.whl.metadata (1.6 kB)\n",
            "Requirement already satisfied: nvidia-cusparselt-cu12==0.6.2 in /usr/local/lib/python3.11/dist-packages (from torch>=1.8.0->ultralytics) (0.6.2)\n",
            "Requirement already satisfied: nvidia-nccl-cu12==2.21.5 in /usr/local/lib/python3.11/dist-packages (from torch>=1.8.0->ultralytics) (2.21.5)\n",
            "Requirement already satisfied: nvidia-nvtx-cu12==12.4.127 in /usr/local/lib/python3.11/dist-packages (from torch>=1.8.0->ultralytics) (12.4.127)\n",
            "Collecting nvidia-nvjitlink-cu12==12.4.127 (from torch>=1.8.0->ultralytics)\n",
            "  Downloading nvidia_nvjitlink_cu12-12.4.127-py3-none-manylinux2014_x86_64.whl.metadata (1.5 kB)\n",
            "Requirement already satisfied: triton==3.2.0 in /usr/local/lib/python3.11/dist-packages (from torch>=1.8.0->ultralytics) (3.2.0)\n",
            "Requirement already satisfied: sympy==1.13.1 in /usr/local/lib/python3.11/dist-packages (from torch>=1.8.0->ultralytics) (1.13.1)\n",
            "Requirement already satisfied: mpmath<1.4,>=1.1.0 in /usr/local/lib/python3.11/dist-packages (from sympy==1.13.1->torch>=1.8.0->ultralytics) (1.3.0)\n",
            "Requirement already satisfied: six>=1.5 in /usr/local/lib/python3.11/dist-packages (from python-dateutil>=2.7->matplotlib>=3.3.0->ultralytics) (1.17.0)\n",
            "Requirement already satisfied: MarkupSafe>=2.0 in /usr/local/lib/python3.11/dist-packages (from jinja2->torch>=1.8.0->ultralytics) (3.0.2)\n",
            "Downloading ultralytics-8.3.111-py3-none-any.whl (978 kB)\n",
            "\u001b[2K   \u001b[90m━━━━━━━━━━━━━━━━━━━━━━━━━━━━━━━━━━━━━━━━\u001b[0m \u001b[32m978.8/978.8 kB\u001b[0m \u001b[31m17.5 MB/s\u001b[0m eta \u001b[36m0:00:00\u001b[0m\n",
            "\u001b[?25hDownloading nvidia_cublas_cu12-12.4.5.8-py3-none-manylinux2014_x86_64.whl (363.4 MB)\n",
            "\u001b[2K   \u001b[90m━━━━━━━━━━━━━━━━━━━━━━━━━━━━━━━━━━━━━━━━\u001b[0m \u001b[32m363.4/363.4 MB\u001b[0m \u001b[31m4.0 MB/s\u001b[0m eta \u001b[36m0:00:00\u001b[0m\n",
            "\u001b[?25hDownloading nvidia_cuda_cupti_cu12-12.4.127-py3-none-manylinux2014_x86_64.whl (13.8 MB)\n",
            "\u001b[2K   \u001b[90m━━━━━━━━━━━━━━━━━━━━━━━━━━━━━━━━━━━━━━━━\u001b[0m \u001b[32m13.8/13.8 MB\u001b[0m \u001b[31m114.2 MB/s\u001b[0m eta \u001b[36m0:00:00\u001b[0m\n",
            "\u001b[?25hDownloading nvidia_cuda_nvrtc_cu12-12.4.127-py3-none-manylinux2014_x86_64.whl (24.6 MB)\n",
            "\u001b[2K   \u001b[90m━━━━━━━━━━━━━━━━━━━━━━━━━━━━━━━━━━━━━━━━\u001b[0m \u001b[32m24.6/24.6 MB\u001b[0m \u001b[31m98.1 MB/s\u001b[0m eta \u001b[36m0:00:00\u001b[0m\n",
            "\u001b[?25hDownloading nvidia_cuda_runtime_cu12-12.4.127-py3-none-manylinux2014_x86_64.whl (883 kB)\n",
            "\u001b[2K   \u001b[90m━━━━━━━━━━━━━━━━━━━━━━━━━━━━━━━━━━━━━━━━\u001b[0m \u001b[32m883.7/883.7 kB\u001b[0m \u001b[31m57.5 MB/s\u001b[0m eta \u001b[36m0:00:00\u001b[0m\n",
            "\u001b[?25hDownloading nvidia_cudnn_cu12-9.1.0.70-py3-none-manylinux2014_x86_64.whl (664.8 MB)\n",
            "\u001b[2K   \u001b[90m━━━━━━━━━━━━━━━━━━━━━━━━━━━━━━━━━━━━━━━━\u001b[0m \u001b[32m664.8/664.8 MB\u001b[0m \u001b[31m1.7 MB/s\u001b[0m eta \u001b[36m0:00:00\u001b[0m\n",
            "\u001b[?25hDownloading nvidia_cufft_cu12-11.2.1.3-py3-none-manylinux2014_x86_64.whl (211.5 MB)\n",
            "\u001b[2K   \u001b[90m━━━━━━━━━━━━━━━━━━━━━━━━━━━━━━━━━━━━━━━━\u001b[0m \u001b[32m211.5/211.5 MB\u001b[0m \u001b[31m11.6 MB/s\u001b[0m eta \u001b[36m0:00:00\u001b[0m\n",
            "\u001b[?25hDownloading nvidia_curand_cu12-10.3.5.147-py3-none-manylinux2014_x86_64.whl (56.3 MB)\n",
            "\u001b[2K   \u001b[90m━━━━━━━━━━━━━━━━━━━━━━━━━━━━━━━━━━━━━━━━\u001b[0m \u001b[32m56.3/56.3 MB\u001b[0m \u001b[31m42.2 MB/s\u001b[0m eta \u001b[36m0:00:00\u001b[0m\n",
            "\u001b[?25hDownloading nvidia_cusolver_cu12-11.6.1.9-py3-none-manylinux2014_x86_64.whl (127.9 MB)\n",
            "\u001b[2K   \u001b[90m━━━━━━━━━━━━━━━━━━━━━━━━━━━━━━━━━━━━━━━━\u001b[0m \u001b[32m127.9/127.9 MB\u001b[0m \u001b[31m20.2 MB/s\u001b[0m eta \u001b[36m0:00:00\u001b[0m\n",
            "\u001b[?25hDownloading nvidia_cusparse_cu12-12.3.1.170-py3-none-manylinux2014_x86_64.whl (207.5 MB)\n",
            "\u001b[2K   \u001b[90m━━━━━━━━━━━━━━━━━━━━━━━━━━━━━━━━━━━━━━━━\u001b[0m \u001b[32m207.5/207.5 MB\u001b[0m \u001b[31m6.1 MB/s\u001b[0m eta \u001b[36m0:00:00\u001b[0m\n",
            "\u001b[?25hDownloading nvidia_nvjitlink_cu12-12.4.127-py3-none-manylinux2014_x86_64.whl (21.1 MB)\n",
            "\u001b[2K   \u001b[90m━━━━━━━━━━━━━━━━━━━━━━━━━━━━━━━━━━━━━━━━\u001b[0m \u001b[32m21.1/21.1 MB\u001b[0m \u001b[31m104.3 MB/s\u001b[0m eta \u001b[36m0:00:00\u001b[0m\n",
            "\u001b[?25hDownloading ultralytics_thop-2.0.14-py3-none-any.whl (26 kB)\n",
            "Installing collected packages: nvidia-nvjitlink-cu12, nvidia-curand-cu12, nvidia-cufft-cu12, nvidia-cuda-runtime-cu12, nvidia-cuda-nvrtc-cu12, nvidia-cuda-cupti-cu12, nvidia-cublas-cu12, nvidia-cusparse-cu12, nvidia-cudnn-cu12, nvidia-cusolver-cu12, ultralytics-thop, ultralytics\n",
            "  Attempting uninstall: nvidia-nvjitlink-cu12\n",
            "    Found existing installation: nvidia-nvjitlink-cu12 12.5.82\n",
            "    Uninstalling nvidia-nvjitlink-cu12-12.5.82:\n",
            "      Successfully uninstalled nvidia-nvjitlink-cu12-12.5.82\n",
            "  Attempting uninstall: nvidia-curand-cu12\n",
            "    Found existing installation: nvidia-curand-cu12 10.3.6.82\n",
            "    Uninstalling nvidia-curand-cu12-10.3.6.82:\n",
            "      Successfully uninstalled nvidia-curand-cu12-10.3.6.82\n",
            "  Attempting uninstall: nvidia-cufft-cu12\n",
            "    Found existing installation: nvidia-cufft-cu12 11.2.3.61\n",
            "    Uninstalling nvidia-cufft-cu12-11.2.3.61:\n",
            "      Successfully uninstalled nvidia-cufft-cu12-11.2.3.61\n",
            "  Attempting uninstall: nvidia-cuda-runtime-cu12\n",
            "    Found existing installation: nvidia-cuda-runtime-cu12 12.5.82\n",
            "    Uninstalling nvidia-cuda-runtime-cu12-12.5.82:\n",
            "      Successfully uninstalled nvidia-cuda-runtime-cu12-12.5.82\n",
            "  Attempting uninstall: nvidia-cuda-nvrtc-cu12\n",
            "    Found existing installation: nvidia-cuda-nvrtc-cu12 12.5.82\n",
            "    Uninstalling nvidia-cuda-nvrtc-cu12-12.5.82:\n",
            "      Successfully uninstalled nvidia-cuda-nvrtc-cu12-12.5.82\n",
            "  Attempting uninstall: nvidia-cuda-cupti-cu12\n",
            "    Found existing installation: nvidia-cuda-cupti-cu12 12.5.82\n",
            "    Uninstalling nvidia-cuda-cupti-cu12-12.5.82:\n",
            "      Successfully uninstalled nvidia-cuda-cupti-cu12-12.5.82\n",
            "  Attempting uninstall: nvidia-cublas-cu12\n",
            "    Found existing installation: nvidia-cublas-cu12 12.5.3.2\n",
            "    Uninstalling nvidia-cublas-cu12-12.5.3.2:\n",
            "      Successfully uninstalled nvidia-cublas-cu12-12.5.3.2\n",
            "  Attempting uninstall: nvidia-cusparse-cu12\n",
            "    Found existing installation: nvidia-cusparse-cu12 12.5.1.3\n",
            "    Uninstalling nvidia-cusparse-cu12-12.5.1.3:\n",
            "      Successfully uninstalled nvidia-cusparse-cu12-12.5.1.3\n",
            "  Attempting uninstall: nvidia-cudnn-cu12\n",
            "    Found existing installation: nvidia-cudnn-cu12 9.3.0.75\n",
            "    Uninstalling nvidia-cudnn-cu12-9.3.0.75:\n",
            "      Successfully uninstalled nvidia-cudnn-cu12-9.3.0.75\n",
            "  Attempting uninstall: nvidia-cusolver-cu12\n",
            "    Found existing installation: nvidia-cusolver-cu12 11.6.3.83\n",
            "    Uninstalling nvidia-cusolver-cu12-11.6.3.83:\n",
            "      Successfully uninstalled nvidia-cusolver-cu12-11.6.3.83\n",
            "Successfully installed nvidia-cublas-cu12-12.4.5.8 nvidia-cuda-cupti-cu12-12.4.127 nvidia-cuda-nvrtc-cu12-12.4.127 nvidia-cuda-runtime-cu12-12.4.127 nvidia-cudnn-cu12-9.1.0.70 nvidia-cufft-cu12-11.2.1.3 nvidia-curand-cu12-10.3.5.147 nvidia-cusolver-cu12-11.6.1.9 nvidia-cusparse-cu12-12.3.1.170 nvidia-nvjitlink-cu12-12.4.127 ultralytics-8.3.111 ultralytics-thop-2.0.14\n"
          ]
        }
      ]
    },
    {
      "cell_type": "code",
      "source": [
        "from ultralytics import YOLO\n",
        "\n",
        "# Load a model\n",
        "model = YOLO(\"yolo11n.pt\")  # load a pretrained model (recommended for training)\n",
        "\n",
        "# Train the model\n",
        "results = model.train(data=\"/content/drive/MyDrive/Colab Notebooks/butterfly-spider/butterfly-spider/data.yaml\",\n",
        "                      epochs=100, imgsz=640,\n",
        "                      batch=64, # GPU 메모리에 한 번에 적재되는 데이터 크기\n",
        "                      patience=10 # 조기 학습중단을 위한 대기 횟수\n",
        "                      )"
      ],
      "metadata": {
        "colab": {
          "base_uri": "https://localhost:8080/"
        },
        "id": "LXgzZ1bHwGlW",
        "outputId": "fd6e6b2b-a93b-4c17-aea6-1d586405daa0"
      },
      "execution_count": null,
      "outputs": [
        {
          "output_type": "stream",
          "name": "stdout",
          "text": [
            "Ultralytics 8.3.111 🚀 Python-3.11.12 torch-2.6.0+cu124 CUDA:0 (NVIDIA A100-SXM4-40GB, 40507MiB)\n",
            "\u001b[34m\u001b[1mengine/trainer: \u001b[0mtask=detect, mode=train, model=yolo11n.pt, data=/content/drive/MyDrive/Colab Notebooks/butterfly-spider/butterfly-spider/data.yaml, epochs=100, time=None, patience=10, batch=64, imgsz=640, save=True, save_period=-1, cache=False, device=None, workers=8, project=None, name=train5, exist_ok=False, pretrained=True, optimizer=auto, verbose=True, seed=0, deterministic=True, single_cls=False, rect=False, cos_lr=False, close_mosaic=10, resume=False, amp=True, fraction=1.0, profile=False, freeze=None, multi_scale=False, overlap_mask=True, mask_ratio=4, dropout=0.0, val=True, split=val, save_json=False, conf=None, iou=0.7, max_det=300, half=False, dnn=False, plots=True, source=None, vid_stride=1, stream_buffer=False, visualize=False, augment=False, agnostic_nms=False, classes=None, retina_masks=False, embed=None, show=False, save_frames=False, save_txt=False, save_conf=False, save_crop=False, show_labels=True, show_conf=True, show_boxes=True, line_width=None, format=torchscript, keras=False, optimize=False, int8=False, dynamic=False, simplify=True, opset=None, workspace=None, nms=False, lr0=0.01, lrf=0.01, momentum=0.937, weight_decay=0.0005, warmup_epochs=3.0, warmup_momentum=0.8, warmup_bias_lr=0.1, box=7.5, cls=0.5, dfl=1.5, pose=12.0, kobj=1.0, nbs=64, hsv_h=0.015, hsv_s=0.7, hsv_v=0.4, degrees=0.0, translate=0.1, scale=0.5, shear=0.0, perspective=0.0, flipud=0.0, fliplr=0.5, bgr=0.0, mosaic=1.0, mixup=0.0, copy_paste=0.0, copy_paste_mode=flip, auto_augment=randaugment, erasing=0.4, cfg=None, tracker=botsort.yaml, save_dir=runs/detect/train5\n",
            "Overriding model.yaml nc=80 with nc=2\n",
            "\n",
            "                   from  n    params  module                                       arguments                     \n",
            "  0                  -1  1       464  ultralytics.nn.modules.conv.Conv             [3, 16, 3, 2]                 \n",
            "  1                  -1  1      4672  ultralytics.nn.modules.conv.Conv             [16, 32, 3, 2]                \n",
            "  2                  -1  1      6640  ultralytics.nn.modules.block.C3k2            [32, 64, 1, False, 0.25]      \n",
            "  3                  -1  1     36992  ultralytics.nn.modules.conv.Conv             [64, 64, 3, 2]                \n",
            "  4                  -1  1     26080  ultralytics.nn.modules.block.C3k2            [64, 128, 1, False, 0.25]     \n",
            "  5                  -1  1    147712  ultralytics.nn.modules.conv.Conv             [128, 128, 3, 2]              \n",
            "  6                  -1  1     87040  ultralytics.nn.modules.block.C3k2            [128, 128, 1, True]           \n",
            "  7                  -1  1    295424  ultralytics.nn.modules.conv.Conv             [128, 256, 3, 2]              \n",
            "  8                  -1  1    346112  ultralytics.nn.modules.block.C3k2            [256, 256, 1, True]           \n",
            "  9                  -1  1    164608  ultralytics.nn.modules.block.SPPF            [256, 256, 5]                 \n",
            " 10                  -1  1    249728  ultralytics.nn.modules.block.C2PSA           [256, 256, 1]                 \n",
            " 11                  -1  1         0  torch.nn.modules.upsampling.Upsample         [None, 2, 'nearest']          \n",
            " 12             [-1, 6]  1         0  ultralytics.nn.modules.conv.Concat           [1]                           \n",
            " 13                  -1  1    111296  ultralytics.nn.modules.block.C3k2            [384, 128, 1, False]          \n",
            " 14                  -1  1         0  torch.nn.modules.upsampling.Upsample         [None, 2, 'nearest']          \n",
            " 15             [-1, 4]  1         0  ultralytics.nn.modules.conv.Concat           [1]                           \n",
            " 16                  -1  1     32096  ultralytics.nn.modules.block.C3k2            [256, 64, 1, False]           \n",
            " 17                  -1  1     36992  ultralytics.nn.modules.conv.Conv             [64, 64, 3, 2]                \n",
            " 18            [-1, 13]  1         0  ultralytics.nn.modules.conv.Concat           [1]                           \n",
            " 19                  -1  1     86720  ultralytics.nn.modules.block.C3k2            [192, 128, 1, False]          \n",
            " 20                  -1  1    147712  ultralytics.nn.modules.conv.Conv             [128, 128, 3, 2]              \n",
            " 21            [-1, 10]  1         0  ultralytics.nn.modules.conv.Concat           [1]                           \n",
            " 22                  -1  1    378880  ultralytics.nn.modules.block.C3k2            [384, 256, 1, True]           \n",
            " 23        [16, 19, 22]  1    431062  ultralytics.nn.modules.head.Detect           [2, [64, 128, 256]]           \n",
            "YOLO11n summary: 181 layers, 2,590,230 parameters, 2,590,214 gradients, 6.4 GFLOPs\n",
            "\n",
            "Transferred 448/499 items from pretrained weights\n",
            "Freezing layer 'model.23.dfl.conv.weight'\n",
            "\u001b[34m\u001b[1mAMP: \u001b[0mrunning Automatic Mixed Precision (AMP) checks...\n",
            "\u001b[34m\u001b[1mAMP: \u001b[0mchecks passed ✅\n",
            "\u001b[34m\u001b[1mtrain: \u001b[0mFast image access ✅ (ping: 0.4±0.2 ms, read: 35.6±16.4 MB/s, size: 51.0 KB)\n"
          ]
        },
        {
          "output_type": "stream",
          "name": "stderr",
          "text": [
            "\u001b[34m\u001b[1mtrain: \u001b[0mScanning /content/drive/MyDrive/Colab Notebooks/butterfly-spider/butterfly-spider/train/labels.cache... 1627 images, 27 backgrounds, 0 corrupt: 100%|██████████| 1627/1627 [00:00<?, ?it/s]"
          ]
        },
        {
          "output_type": "stream",
          "name": "stdout",
          "text": [
            "\u001b[34m\u001b[1malbumentations: \u001b[0mBlur(p=0.01, blur_limit=(3, 7)), MedianBlur(p=0.01, blur_limit=(3, 7)), ToGray(p=0.01, num_output_channels=3, method='weighted_average'), CLAHE(p=0.01, clip_limit=(1.0, 4.0), tile_grid_size=(8, 8))\n"
          ]
        },
        {
          "output_type": "stream",
          "name": "stderr",
          "text": [
            "\n"
          ]
        },
        {
          "output_type": "stream",
          "name": "stdout",
          "text": [
            "\u001b[34m\u001b[1mval: \u001b[0mFast image access ✅ (ping: 0.6±0.2 ms, read: 11.5±3.6 MB/s, size: 55.3 KB)\n"
          ]
        },
        {
          "output_type": "stream",
          "name": "stderr",
          "text": [
            "\u001b[34m\u001b[1mval: \u001b[0mScanning /content/drive/MyDrive/Colab Notebooks/butterfly-spider/butterfly-spider/valid/labels.cache... 157 images, 1 backgrounds, 0 corrupt: 100%|██████████| 157/157 [00:00<?, ?it/s]\n"
          ]
        },
        {
          "output_type": "stream",
          "name": "stdout",
          "text": [
            "Plotting labels to runs/detect/train5/labels.jpg... \n",
            "\u001b[34m\u001b[1moptimizer:\u001b[0m 'optimizer=auto' found, ignoring 'lr0=0.01' and 'momentum=0.937' and determining best 'optimizer', 'lr0' and 'momentum' automatically... \n",
            "\u001b[34m\u001b[1moptimizer:\u001b[0m AdamW(lr=0.001667, momentum=0.9) with parameter groups 81 weight(decay=0.0), 88 weight(decay=0.0005), 87 bias(decay=0.0)\n",
            "Image sizes 640 train, 640 val\n",
            "Using 8 dataloader workers\n",
            "Logging results to \u001b[1mruns/detect/train5\u001b[0m\n",
            "Starting training for 100 epochs...\n",
            "\n",
            "      Epoch    GPU_mem   box_loss   cls_loss   dfl_loss  Instances       Size\n"
          ]
        },
        {
          "output_type": "stream",
          "name": "stderr",
          "text": [
            "      1/100       8.6G      1.304      2.985      1.709         67        640: 100%|██████████| 26/26 [00:10<00:00,  2.50it/s]\n",
            "                 Class     Images  Instances      Box(P          R      mAP50  mAP50-95): 100%|██████████| 2/2 [00:01<00:00,  1.96it/s]"
          ]
        },
        {
          "output_type": "stream",
          "name": "stdout",
          "text": [
            "                   all        157        167    0.00341      0.927      0.441      0.244\n"
          ]
        },
        {
          "output_type": "stream",
          "name": "stderr",
          "text": [
            "\n"
          ]
        },
        {
          "output_type": "stream",
          "name": "stdout",
          "text": [
            "\n",
            "      Epoch    GPU_mem   box_loss   cls_loss   dfl_loss  Instances       Size\n"
          ]
        },
        {
          "output_type": "stream",
          "name": "stderr",
          "text": [
            "      2/100      10.1G      1.272       2.03      1.663         82        640: 100%|██████████| 26/26 [00:06<00:00,  4.17it/s]\n",
            "                 Class     Images  Instances      Box(P          R      mAP50  mAP50-95): 100%|██████████| 2/2 [00:01<00:00,  1.98it/s]"
          ]
        },
        {
          "output_type": "stream",
          "name": "stdout",
          "text": [
            "                   all        157        167      0.637      0.184      0.169     0.0566\n"
          ]
        },
        {
          "output_type": "stream",
          "name": "stderr",
          "text": [
            "\n"
          ]
        },
        {
          "output_type": "stream",
          "name": "stdout",
          "text": [
            "\n",
            "      Epoch    GPU_mem   box_loss   cls_loss   dfl_loss  Instances       Size\n"
          ]
        },
        {
          "output_type": "stream",
          "name": "stderr",
          "text": [
            "      3/100      10.1G      1.322      1.831      1.701         81        640: 100%|██████████| 26/26 [00:06<00:00,  4.26it/s]\n",
            "                 Class     Images  Instances      Box(P          R      mAP50  mAP50-95): 100%|██████████| 2/2 [00:00<00:00,  2.25it/s]\n"
          ]
        },
        {
          "output_type": "stream",
          "name": "stdout",
          "text": [
            "                   all        157        167      0.543     0.0388     0.0209    0.00505\n",
            "\n",
            "      Epoch    GPU_mem   box_loss   cls_loss   dfl_loss  Instances       Size\n"
          ]
        },
        {
          "output_type": "stream",
          "name": "stderr",
          "text": [
            "      4/100      10.1G      1.387      1.803      1.751         95        640: 100%|██████████| 26/26 [00:06<00:00,  4.23it/s]\n",
            "                 Class     Images  Instances      Box(P          R      mAP50  mAP50-95): 100%|██████████| 2/2 [00:00<00:00,  2.65it/s]\n"
          ]
        },
        {
          "output_type": "stream",
          "name": "stdout",
          "text": [
            "                   all        157        167      0.114      0.166      0.069     0.0131\n",
            "\n",
            "      Epoch    GPU_mem   box_loss   cls_loss   dfl_loss  Instances       Size\n"
          ]
        },
        {
          "output_type": "stream",
          "name": "stderr",
          "text": [
            "      5/100      10.1G      1.435      1.736       1.78         94        640: 100%|██████████| 26/26 [00:06<00:00,  4.25it/s]\n",
            "                 Class     Images  Instances      Box(P          R      mAP50  mAP50-95): 100%|██████████| 2/2 [00:00<00:00,  2.67it/s]"
          ]
        },
        {
          "output_type": "stream",
          "name": "stdout",
          "text": [
            "                   all        157        167      0.104      0.152     0.0536     0.0132\n"
          ]
        },
        {
          "output_type": "stream",
          "name": "stderr",
          "text": [
            "\n"
          ]
        },
        {
          "output_type": "stream",
          "name": "stdout",
          "text": [
            "\n",
            "      Epoch    GPU_mem   box_loss   cls_loss   dfl_loss  Instances       Size\n"
          ]
        },
        {
          "output_type": "stream",
          "name": "stderr",
          "text": [
            "      6/100      10.1G      1.384      1.569      1.747         57        640: 100%|██████████| 26/26 [00:06<00:00,  4.21it/s]\n",
            "                 Class     Images  Instances      Box(P          R      mAP50  mAP50-95): 100%|██████████| 2/2 [00:00<00:00,  2.71it/s]"
          ]
        },
        {
          "output_type": "stream",
          "name": "stdout",
          "text": [
            "                   all        157        167      0.348        0.3     0.0776     0.0327\n"
          ]
        },
        {
          "output_type": "stream",
          "name": "stderr",
          "text": [
            "\n"
          ]
        },
        {
          "output_type": "stream",
          "name": "stdout",
          "text": [
            "\n",
            "      Epoch    GPU_mem   box_loss   cls_loss   dfl_loss  Instances       Size\n"
          ]
        },
        {
          "output_type": "stream",
          "name": "stderr",
          "text": [
            "      7/100      10.1G      1.349      1.473      1.706         65        640: 100%|██████████| 26/26 [00:06<00:00,  4.25it/s]\n",
            "                 Class     Images  Instances      Box(P          R      mAP50  mAP50-95): 100%|██████████| 2/2 [00:00<00:00,  2.70it/s]"
          ]
        },
        {
          "output_type": "stream",
          "name": "stdout",
          "text": [
            "                   all        157        167      0.186      0.235     0.0893     0.0245\n"
          ]
        },
        {
          "output_type": "stream",
          "name": "stderr",
          "text": [
            "\n"
          ]
        },
        {
          "output_type": "stream",
          "name": "stdout",
          "text": [
            "\n",
            "      Epoch    GPU_mem   box_loss   cls_loss   dfl_loss  Instances       Size\n"
          ]
        },
        {
          "output_type": "stream",
          "name": "stderr",
          "text": [
            "      8/100      10.1G      1.309      1.385       1.69         76        640: 100%|██████████| 26/26 [00:06<00:00,  4.27it/s]\n",
            "                 Class     Images  Instances      Box(P          R      mAP50  mAP50-95): 100%|██████████| 2/2 [00:00<00:00,  2.68it/s]\n"
          ]
        },
        {
          "output_type": "stream",
          "name": "stdout",
          "text": [
            "                   all        157        167      0.243       0.43      0.225     0.0915\n",
            "\n",
            "      Epoch    GPU_mem   box_loss   cls_loss   dfl_loss  Instances       Size\n"
          ]
        },
        {
          "output_type": "stream",
          "name": "stderr",
          "text": [
            "      9/100      10.1G      1.308      1.327       1.66         74        640: 100%|██████████| 26/26 [00:06<00:00,  4.27it/s]\n",
            "                 Class     Images  Instances      Box(P          R      mAP50  mAP50-95): 100%|██████████| 2/2 [00:00<00:00,  2.36it/s]\n"
          ]
        },
        {
          "output_type": "stream",
          "name": "stdout",
          "text": [
            "                   all        157        167      0.644      0.577      0.589      0.282\n",
            "\n",
            "      Epoch    GPU_mem   box_loss   cls_loss   dfl_loss  Instances       Size\n"
          ]
        },
        {
          "output_type": "stream",
          "name": "stderr",
          "text": [
            "     10/100      10.1G      1.268      1.269      1.639         68        640: 100%|██████████| 26/26 [00:06<00:00,  4.27it/s]\n",
            "                 Class     Images  Instances      Box(P          R      mAP50  mAP50-95): 100%|██████████| 2/2 [00:00<00:00,  3.22it/s]"
          ]
        },
        {
          "output_type": "stream",
          "name": "stdout",
          "text": [
            "                   all        157        167      0.613      0.666      0.679      0.359\n"
          ]
        },
        {
          "output_type": "stream",
          "name": "stderr",
          "text": [
            "\n"
          ]
        },
        {
          "output_type": "stream",
          "name": "stdout",
          "text": [
            "\n",
            "      Epoch    GPU_mem   box_loss   cls_loss   dfl_loss  Instances       Size\n"
          ]
        },
        {
          "output_type": "stream",
          "name": "stderr",
          "text": [
            "     11/100      10.1G      1.242       1.22      1.612         64        640: 100%|██████████| 26/26 [00:06<00:00,  4.24it/s]\n",
            "                 Class     Images  Instances      Box(P          R      mAP50  mAP50-95): 100%|██████████| 2/2 [00:00<00:00,  2.76it/s]"
          ]
        },
        {
          "output_type": "stream",
          "name": "stdout",
          "text": [
            "                   all        157        167      0.598      0.606      0.587       0.25\n"
          ]
        },
        {
          "output_type": "stream",
          "name": "stderr",
          "text": [
            "\n"
          ]
        },
        {
          "output_type": "stream",
          "name": "stdout",
          "text": [
            "\n",
            "      Epoch    GPU_mem   box_loss   cls_loss   dfl_loss  Instances       Size\n"
          ]
        },
        {
          "output_type": "stream",
          "name": "stderr",
          "text": [
            "     12/100      10.1G      1.215      1.151      1.607         67        640: 100%|██████████| 26/26 [00:06<00:00,  4.22it/s]\n",
            "                 Class     Images  Instances      Box(P          R      mAP50  mAP50-95): 100%|██████████| 2/2 [00:00<00:00,  2.83it/s]"
          ]
        },
        {
          "output_type": "stream",
          "name": "stdout",
          "text": [
            "                   all        157        167      0.341      0.442      0.342      0.146\n"
          ]
        },
        {
          "output_type": "stream",
          "name": "stderr",
          "text": [
            "\n"
          ]
        },
        {
          "output_type": "stream",
          "name": "stdout",
          "text": [
            "\n",
            "      Epoch    GPU_mem   box_loss   cls_loss   dfl_loss  Instances       Size\n"
          ]
        },
        {
          "output_type": "stream",
          "name": "stderr",
          "text": [
            "     13/100      10.1G      1.226      1.154      1.604         65        640: 100%|██████████| 26/26 [00:06<00:00,  4.23it/s]\n",
            "                 Class     Images  Instances      Box(P          R      mAP50  mAP50-95): 100%|██████████| 2/2 [00:00<00:00,  2.72it/s]"
          ]
        },
        {
          "output_type": "stream",
          "name": "stdout",
          "text": [
            "                   all        157        167      0.606       0.62      0.556      0.318\n"
          ]
        },
        {
          "output_type": "stream",
          "name": "stderr",
          "text": [
            "\n"
          ]
        },
        {
          "output_type": "stream",
          "name": "stdout",
          "text": [
            "\n",
            "      Epoch    GPU_mem   box_loss   cls_loss   dfl_loss  Instances       Size\n"
          ]
        },
        {
          "output_type": "stream",
          "name": "stderr",
          "text": [
            "     14/100      10.1G      1.179      1.082       1.56         60        640: 100%|██████████| 26/26 [00:06<00:00,  4.26it/s]\n",
            "                 Class     Images  Instances      Box(P          R      mAP50  mAP50-95): 100%|██████████| 2/2 [00:00<00:00,  2.81it/s]"
          ]
        },
        {
          "output_type": "stream",
          "name": "stdout",
          "text": [
            "                   all        157        167        0.7      0.689      0.704      0.392\n"
          ]
        },
        {
          "output_type": "stream",
          "name": "stderr",
          "text": [
            "\n"
          ]
        },
        {
          "output_type": "stream",
          "name": "stdout",
          "text": [
            "\n",
            "      Epoch    GPU_mem   box_loss   cls_loss   dfl_loss  Instances       Size\n"
          ]
        },
        {
          "output_type": "stream",
          "name": "stderr",
          "text": [
            "     15/100      10.1G      1.157      1.062      1.536        112        640: 100%|██████████| 26/26 [00:06<00:00,  4.21it/s]\n",
            "                 Class     Images  Instances      Box(P          R      mAP50  mAP50-95): 100%|██████████| 2/2 [00:00<00:00,  3.46it/s]"
          ]
        },
        {
          "output_type": "stream",
          "name": "stdout",
          "text": [
            "                   all        157        167      0.736      0.714      0.719      0.411\n"
          ]
        },
        {
          "output_type": "stream",
          "name": "stderr",
          "text": [
            "\n"
          ]
        },
        {
          "output_type": "stream",
          "name": "stdout",
          "text": [
            "\n",
            "      Epoch    GPU_mem   box_loss   cls_loss   dfl_loss  Instances       Size\n"
          ]
        },
        {
          "output_type": "stream",
          "name": "stderr",
          "text": [
            "     16/100      10.2G      1.146      1.029      1.522         95        640: 100%|██████████| 26/26 [00:06<00:00,  4.21it/s]\n",
            "                 Class     Images  Instances      Box(P          R      mAP50  mAP50-95): 100%|██████████| 2/2 [00:00<00:00,  2.66it/s]"
          ]
        },
        {
          "output_type": "stream",
          "name": "stdout",
          "text": [
            "                   all        157        167      0.757      0.621      0.698      0.396\n"
          ]
        },
        {
          "output_type": "stream",
          "name": "stderr",
          "text": [
            "\n"
          ]
        },
        {
          "output_type": "stream",
          "name": "stdout",
          "text": [
            "\n",
            "      Epoch    GPU_mem   box_loss   cls_loss   dfl_loss  Instances       Size\n"
          ]
        },
        {
          "output_type": "stream",
          "name": "stderr",
          "text": [
            "     17/100      10.2G      1.136      1.012      1.528         70        640: 100%|██████████| 26/26 [00:06<00:00,  4.27it/s]\n",
            "                 Class     Images  Instances      Box(P          R      mAP50  mAP50-95): 100%|██████████| 2/2 [00:00<00:00,  3.10it/s]"
          ]
        },
        {
          "output_type": "stream",
          "name": "stdout",
          "text": [
            "                   all        157        167      0.662      0.633      0.607      0.365\n"
          ]
        },
        {
          "output_type": "stream",
          "name": "stderr",
          "text": [
            "\n"
          ]
        },
        {
          "output_type": "stream",
          "name": "stdout",
          "text": [
            "\n",
            "      Epoch    GPU_mem   box_loss   cls_loss   dfl_loss  Instances       Size\n"
          ]
        },
        {
          "output_type": "stream",
          "name": "stderr",
          "text": [
            "     18/100      10.2G      1.105     0.9549        1.5         67        640: 100%|██████████| 26/26 [00:06<00:00,  4.21it/s]\n",
            "                 Class     Images  Instances      Box(P          R      mAP50  mAP50-95): 100%|██████████| 2/2 [00:00<00:00,  2.84it/s]"
          ]
        },
        {
          "output_type": "stream",
          "name": "stdout",
          "text": [
            "                   all        157        167       0.83      0.687      0.738      0.476\n"
          ]
        },
        {
          "output_type": "stream",
          "name": "stderr",
          "text": [
            "\n"
          ]
        },
        {
          "output_type": "stream",
          "name": "stdout",
          "text": [
            "\n",
            "      Epoch    GPU_mem   box_loss   cls_loss   dfl_loss  Instances       Size\n"
          ]
        },
        {
          "output_type": "stream",
          "name": "stderr",
          "text": [
            "     19/100      10.2G       1.09      0.942      1.491         77        640: 100%|██████████| 26/26 [00:06<00:00,  4.33it/s]\n",
            "                 Class     Images  Instances      Box(P          R      mAP50  mAP50-95): 100%|██████████| 2/2 [00:00<00:00,  3.09it/s]"
          ]
        },
        {
          "output_type": "stream",
          "name": "stdout",
          "text": [
            "                   all        157        167      0.749      0.757      0.785      0.512\n"
          ]
        },
        {
          "output_type": "stream",
          "name": "stderr",
          "text": [
            "\n"
          ]
        },
        {
          "output_type": "stream",
          "name": "stdout",
          "text": [
            "\n",
            "      Epoch    GPU_mem   box_loss   cls_loss   dfl_loss  Instances       Size\n"
          ]
        },
        {
          "output_type": "stream",
          "name": "stderr",
          "text": [
            "     20/100      10.2G      1.073     0.9549      1.478         64        640: 100%|██████████| 26/26 [00:06<00:00,  4.18it/s]\n",
            "                 Class     Images  Instances      Box(P          R      mAP50  mAP50-95): 100%|██████████| 2/2 [00:00<00:00,  3.25it/s]"
          ]
        },
        {
          "output_type": "stream",
          "name": "stdout",
          "text": [
            "                   all        157        167      0.718      0.695      0.767      0.445\n"
          ]
        },
        {
          "output_type": "stream",
          "name": "stderr",
          "text": [
            "\n"
          ]
        },
        {
          "output_type": "stream",
          "name": "stdout",
          "text": [
            "\n",
            "      Epoch    GPU_mem   box_loss   cls_loss   dfl_loss  Instances       Size\n"
          ]
        },
        {
          "output_type": "stream",
          "name": "stderr",
          "text": [
            "     21/100      10.2G      1.074     0.9198      1.467        119        640: 100%|██████████| 26/26 [00:06<00:00,  4.20it/s]\n",
            "                 Class     Images  Instances      Box(P          R      mAP50  mAP50-95): 100%|██████████| 2/2 [00:00<00:00,  2.75it/s]"
          ]
        },
        {
          "output_type": "stream",
          "name": "stdout",
          "text": [
            "                   all        157        167      0.818      0.763      0.794      0.519\n"
          ]
        },
        {
          "output_type": "stream",
          "name": "stderr",
          "text": [
            "\n"
          ]
        },
        {
          "output_type": "stream",
          "name": "stdout",
          "text": [
            "\n",
            "      Epoch    GPU_mem   box_loss   cls_loss   dfl_loss  Instances       Size\n"
          ]
        },
        {
          "output_type": "stream",
          "name": "stderr",
          "text": [
            "     22/100      10.2G      1.026     0.8773      1.446         90        640: 100%|██████████| 26/26 [00:06<00:00,  4.20it/s]\n",
            "                 Class     Images  Instances      Box(P          R      mAP50  mAP50-95): 100%|██████████| 2/2 [00:00<00:00,  2.89it/s]"
          ]
        },
        {
          "output_type": "stream",
          "name": "stdout",
          "text": [
            "                   all        157        167      0.926      0.837      0.875      0.558\n"
          ]
        },
        {
          "output_type": "stream",
          "name": "stderr",
          "text": [
            "\n"
          ]
        },
        {
          "output_type": "stream",
          "name": "stdout",
          "text": [
            "\n",
            "      Epoch    GPU_mem   box_loss   cls_loss   dfl_loss  Instances       Size\n"
          ]
        },
        {
          "output_type": "stream",
          "name": "stderr",
          "text": [
            "     23/100      10.2G      1.016      0.853      1.417         93        640: 100%|██████████| 26/26 [00:06<00:00,  4.20it/s]\n",
            "                 Class     Images  Instances      Box(P          R      mAP50  mAP50-95): 100%|██████████| 2/2 [00:00<00:00,  2.73it/s]"
          ]
        },
        {
          "output_type": "stream",
          "name": "stdout",
          "text": [
            "                   all        157        167      0.782      0.691      0.745      0.419\n"
          ]
        },
        {
          "output_type": "stream",
          "name": "stderr",
          "text": [
            "\n"
          ]
        },
        {
          "output_type": "stream",
          "name": "stdout",
          "text": [
            "\n",
            "      Epoch    GPU_mem   box_loss   cls_loss   dfl_loss  Instances       Size\n"
          ]
        },
        {
          "output_type": "stream",
          "name": "stderr",
          "text": [
            "     24/100      10.2G      1.013       0.86      1.429         70        640: 100%|██████████| 26/26 [00:06<00:00,  4.25it/s]\n",
            "                 Class     Images  Instances      Box(P          R      mAP50  mAP50-95): 100%|██████████| 2/2 [00:00<00:00,  2.80it/s]"
          ]
        },
        {
          "output_type": "stream",
          "name": "stdout",
          "text": [
            "                   all        157        167      0.849      0.782      0.828      0.521\n"
          ]
        },
        {
          "output_type": "stream",
          "name": "stderr",
          "text": [
            "\n"
          ]
        },
        {
          "output_type": "stream",
          "name": "stdout",
          "text": [
            "\n",
            "      Epoch    GPU_mem   box_loss   cls_loss   dfl_loss  Instances       Size\n"
          ]
        },
        {
          "output_type": "stream",
          "name": "stderr",
          "text": [
            "     25/100      10.2G     0.9955     0.8448      1.411         71        640: 100%|██████████| 26/26 [00:06<00:00,  4.26it/s]\n",
            "                 Class     Images  Instances      Box(P          R      mAP50  mAP50-95): 100%|██████████| 2/2 [00:00<00:00,  2.76it/s]"
          ]
        },
        {
          "output_type": "stream",
          "name": "stdout",
          "text": [
            "                   all        157        167      0.831      0.824      0.856      0.582\n"
          ]
        },
        {
          "output_type": "stream",
          "name": "stderr",
          "text": [
            "\n"
          ]
        },
        {
          "output_type": "stream",
          "name": "stdout",
          "text": [
            "\n",
            "      Epoch    GPU_mem   box_loss   cls_loss   dfl_loss  Instances       Size\n"
          ]
        },
        {
          "output_type": "stream",
          "name": "stderr",
          "text": [
            "     26/100      10.2G      1.007     0.8249      1.415         67        640: 100%|██████████| 26/26 [00:06<00:00,  4.23it/s]\n",
            "                 Class     Images  Instances      Box(P          R      mAP50  mAP50-95): 100%|██████████| 2/2 [00:00<00:00,  2.93it/s]"
          ]
        },
        {
          "output_type": "stream",
          "name": "stdout",
          "text": [
            "                   all        157        167      0.925      0.819      0.882      0.603\n"
          ]
        },
        {
          "output_type": "stream",
          "name": "stderr",
          "text": [
            "\n"
          ]
        },
        {
          "output_type": "stream",
          "name": "stdout",
          "text": [
            "\n",
            "      Epoch    GPU_mem   box_loss   cls_loss   dfl_loss  Instances       Size\n"
          ]
        },
        {
          "output_type": "stream",
          "name": "stderr",
          "text": [
            "     27/100      10.2G     0.9851     0.8236      1.396         83        640: 100%|██████████| 26/26 [00:06<00:00,  4.22it/s]\n",
            "                 Class     Images  Instances      Box(P          R      mAP50  mAP50-95): 100%|██████████| 2/2 [00:00<00:00,  2.83it/s]"
          ]
        },
        {
          "output_type": "stream",
          "name": "stdout",
          "text": [
            "                   all        157        167      0.846      0.668      0.763      0.533\n"
          ]
        },
        {
          "output_type": "stream",
          "name": "stderr",
          "text": [
            "\n"
          ]
        },
        {
          "output_type": "stream",
          "name": "stdout",
          "text": [
            "\n",
            "      Epoch    GPU_mem   box_loss   cls_loss   dfl_loss  Instances       Size\n"
          ]
        },
        {
          "output_type": "stream",
          "name": "stderr",
          "text": [
            "     28/100      10.2G       0.98     0.8176      1.401         68        640: 100%|██████████| 26/26 [00:06<00:00,  4.24it/s]\n",
            "                 Class     Images  Instances      Box(P          R      mAP50  mAP50-95): 100%|██████████| 2/2 [00:00<00:00,  2.75it/s]"
          ]
        },
        {
          "output_type": "stream",
          "name": "stdout",
          "text": [
            "                   all        157        167      0.904      0.771      0.878      0.602\n"
          ]
        },
        {
          "output_type": "stream",
          "name": "stderr",
          "text": [
            "\n"
          ]
        },
        {
          "output_type": "stream",
          "name": "stdout",
          "text": [
            "\n",
            "      Epoch    GPU_mem   box_loss   cls_loss   dfl_loss  Instances       Size\n"
          ]
        },
        {
          "output_type": "stream",
          "name": "stderr",
          "text": [
            "     29/100      10.2G     0.9594     0.7941      1.386         78        640: 100%|██████████| 26/26 [00:06<00:00,  4.26it/s]\n",
            "                 Class     Images  Instances      Box(P          R      mAP50  mAP50-95): 100%|██████████| 2/2 [00:00<00:00,  2.82it/s]"
          ]
        },
        {
          "output_type": "stream",
          "name": "stdout",
          "text": [
            "                   all        157        167      0.871      0.761      0.871      0.584\n"
          ]
        },
        {
          "output_type": "stream",
          "name": "stderr",
          "text": [
            "\n"
          ]
        },
        {
          "output_type": "stream",
          "name": "stdout",
          "text": [
            "\n",
            "      Epoch    GPU_mem   box_loss   cls_loss   dfl_loss  Instances       Size\n"
          ]
        },
        {
          "output_type": "stream",
          "name": "stderr",
          "text": [
            "     30/100      10.2G     0.9522     0.7748      1.369         59        640: 100%|██████████| 26/26 [00:06<00:00,  4.23it/s]\n",
            "                 Class     Images  Instances      Box(P          R      mAP50  mAP50-95): 100%|██████████| 2/2 [00:00<00:00,  2.73it/s]"
          ]
        },
        {
          "output_type": "stream",
          "name": "stdout",
          "text": [
            "                   all        157        167      0.917      0.793      0.883       0.61\n"
          ]
        },
        {
          "output_type": "stream",
          "name": "stderr",
          "text": [
            "\n"
          ]
        },
        {
          "output_type": "stream",
          "name": "stdout",
          "text": [
            "\n",
            "      Epoch    GPU_mem   box_loss   cls_loss   dfl_loss  Instances       Size\n"
          ]
        },
        {
          "output_type": "stream",
          "name": "stderr",
          "text": [
            "     31/100      10.2G     0.9342     0.7668      1.361         74        640: 100%|██████████| 26/26 [00:06<00:00,  4.21it/s]\n",
            "                 Class     Images  Instances      Box(P          R      mAP50  mAP50-95): 100%|██████████| 2/2 [00:00<00:00,  2.83it/s]"
          ]
        },
        {
          "output_type": "stream",
          "name": "stdout",
          "text": [
            "                   all        157        167      0.886      0.793      0.876      0.606\n"
          ]
        },
        {
          "output_type": "stream",
          "name": "stderr",
          "text": [
            "\n"
          ]
        },
        {
          "output_type": "stream",
          "name": "stdout",
          "text": [
            "\n",
            "      Epoch    GPU_mem   box_loss   cls_loss   dfl_loss  Instances       Size\n"
          ]
        },
        {
          "output_type": "stream",
          "name": "stderr",
          "text": [
            "     32/100      10.2G      0.935     0.7596      1.367         91        640: 100%|██████████| 26/26 [00:06<00:00,  4.30it/s]\n",
            "                 Class     Images  Instances      Box(P          R      mAP50  mAP50-95): 100%|██████████| 2/2 [00:00<00:00,  2.78it/s]"
          ]
        },
        {
          "output_type": "stream",
          "name": "stdout",
          "text": [
            "                   all        157        167      0.933      0.778      0.883      0.626\n"
          ]
        },
        {
          "output_type": "stream",
          "name": "stderr",
          "text": [
            "\n"
          ]
        },
        {
          "output_type": "stream",
          "name": "stdout",
          "text": [
            "\n",
            "      Epoch    GPU_mem   box_loss   cls_loss   dfl_loss  Instances       Size\n"
          ]
        },
        {
          "output_type": "stream",
          "name": "stderr",
          "text": [
            "     33/100      10.2G     0.9295     0.7408      1.365         80        640: 100%|██████████| 26/26 [00:06<00:00,  4.25it/s]\n",
            "                 Class     Images  Instances      Box(P          R      mAP50  mAP50-95): 100%|██████████| 2/2 [00:00<00:00,  2.98it/s]"
          ]
        },
        {
          "output_type": "stream",
          "name": "stdout",
          "text": [
            "                   all        157        167      0.743      0.755      0.799      0.549\n"
          ]
        },
        {
          "output_type": "stream",
          "name": "stderr",
          "text": [
            "\n"
          ]
        },
        {
          "output_type": "stream",
          "name": "stdout",
          "text": [
            "\n",
            "      Epoch    GPU_mem   box_loss   cls_loss   dfl_loss  Instances       Size\n"
          ]
        },
        {
          "output_type": "stream",
          "name": "stderr",
          "text": [
            "     34/100      10.2G     0.9155     0.7411      1.355         67        640: 100%|██████████| 26/26 [00:06<00:00,  4.24it/s]\n",
            "                 Class     Images  Instances      Box(P          R      mAP50  mAP50-95): 100%|██████████| 2/2 [00:00<00:00,  2.82it/s]"
          ]
        },
        {
          "output_type": "stream",
          "name": "stdout",
          "text": [
            "                   all        157        167      0.833       0.77      0.818       0.57\n"
          ]
        },
        {
          "output_type": "stream",
          "name": "stderr",
          "text": [
            "\n"
          ]
        },
        {
          "output_type": "stream",
          "name": "stdout",
          "text": [
            "\n",
            "      Epoch    GPU_mem   box_loss   cls_loss   dfl_loss  Instances       Size\n"
          ]
        },
        {
          "output_type": "stream",
          "name": "stderr",
          "text": [
            "     35/100      10.2G     0.8941     0.7248      1.347         73        640: 100%|██████████| 26/26 [00:06<00:00,  4.31it/s]\n",
            "                 Class     Images  Instances      Box(P          R      mAP50  mAP50-95): 100%|██████████| 2/2 [00:00<00:00,  2.87it/s]"
          ]
        },
        {
          "output_type": "stream",
          "name": "stdout",
          "text": [
            "                   all        157        167      0.831      0.711      0.804      0.585\n"
          ]
        },
        {
          "output_type": "stream",
          "name": "stderr",
          "text": [
            "\n"
          ]
        },
        {
          "output_type": "stream",
          "name": "stdout",
          "text": [
            "\n",
            "      Epoch    GPU_mem   box_loss   cls_loss   dfl_loss  Instances       Size\n"
          ]
        },
        {
          "output_type": "stream",
          "name": "stderr",
          "text": [
            "     36/100      10.2G     0.8902     0.7273      1.331         64        640: 100%|██████████| 26/26 [00:06<00:00,  4.21it/s]\n",
            "                 Class     Images  Instances      Box(P          R      mAP50  mAP50-95): 100%|██████████| 2/2 [00:00<00:00,  2.89it/s]"
          ]
        },
        {
          "output_type": "stream",
          "name": "stdout",
          "text": [
            "                   all        157        167      0.889      0.834      0.884      0.633\n"
          ]
        },
        {
          "output_type": "stream",
          "name": "stderr",
          "text": [
            "\n"
          ]
        },
        {
          "output_type": "stream",
          "name": "stdout",
          "text": [
            "\n",
            "      Epoch    GPU_mem   box_loss   cls_loss   dfl_loss  Instances       Size\n"
          ]
        },
        {
          "output_type": "stream",
          "name": "stderr",
          "text": [
            "     37/100      10.2G     0.8858     0.7076      1.336         62        640: 100%|██████████| 26/26 [00:06<00:00,  4.30it/s]\n",
            "                 Class     Images  Instances      Box(P          R      mAP50  mAP50-95): 100%|██████████| 2/2 [00:00<00:00,  2.82it/s]"
          ]
        },
        {
          "output_type": "stream",
          "name": "stdout",
          "text": [
            "                   all        157        167      0.858      0.835      0.876      0.622\n"
          ]
        },
        {
          "output_type": "stream",
          "name": "stderr",
          "text": [
            "\n"
          ]
        },
        {
          "output_type": "stream",
          "name": "stdout",
          "text": [
            "\n",
            "      Epoch    GPU_mem   box_loss   cls_loss   dfl_loss  Instances       Size\n"
          ]
        },
        {
          "output_type": "stream",
          "name": "stderr",
          "text": [
            "     38/100      10.2G     0.8727     0.7003      1.324         71        640: 100%|██████████| 26/26 [00:06<00:00,  4.23it/s]\n",
            "                 Class     Images  Instances      Box(P          R      mAP50  mAP50-95): 100%|██████████| 2/2 [00:00<00:00,  2.90it/s]"
          ]
        },
        {
          "output_type": "stream",
          "name": "stdout",
          "text": [
            "                   all        157        167      0.957       0.83      0.913      0.673\n"
          ]
        },
        {
          "output_type": "stream",
          "name": "stderr",
          "text": [
            "\n"
          ]
        },
        {
          "output_type": "stream",
          "name": "stdout",
          "text": [
            "\n",
            "      Epoch    GPU_mem   box_loss   cls_loss   dfl_loss  Instances       Size\n"
          ]
        },
        {
          "output_type": "stream",
          "name": "stderr",
          "text": [
            "     39/100      10.2G     0.8651     0.7009      1.326         61        640: 100%|██████████| 26/26 [00:06<00:00,  4.22it/s]\n",
            "                 Class     Images  Instances      Box(P          R      mAP50  mAP50-95): 100%|██████████| 2/2 [00:00<00:00,  2.97it/s]"
          ]
        },
        {
          "output_type": "stream",
          "name": "stdout",
          "text": [
            "                   all        157        167      0.926      0.825      0.883      0.617\n"
          ]
        },
        {
          "output_type": "stream",
          "name": "stderr",
          "text": [
            "\n"
          ]
        },
        {
          "output_type": "stream",
          "name": "stdout",
          "text": [
            "\n",
            "      Epoch    GPU_mem   box_loss   cls_loss   dfl_loss  Instances       Size\n"
          ]
        },
        {
          "output_type": "stream",
          "name": "stderr",
          "text": [
            "     40/100      10.2G     0.8865     0.6772      1.329         90        640: 100%|██████████| 26/26 [00:06<00:00,  4.25it/s]\n",
            "                 Class     Images  Instances      Box(P          R      mAP50  mAP50-95): 100%|██████████| 2/2 [00:00<00:00,  2.88it/s]"
          ]
        },
        {
          "output_type": "stream",
          "name": "stdout",
          "text": [
            "                   all        157        167      0.897      0.799      0.879      0.628\n"
          ]
        },
        {
          "output_type": "stream",
          "name": "stderr",
          "text": [
            "\n"
          ]
        },
        {
          "output_type": "stream",
          "name": "stdout",
          "text": [
            "\n",
            "      Epoch    GPU_mem   box_loss   cls_loss   dfl_loss  Instances       Size\n"
          ]
        },
        {
          "output_type": "stream",
          "name": "stderr",
          "text": [
            "     41/100      10.2G     0.8523     0.6842      1.303         71        640: 100%|██████████| 26/26 [00:06<00:00,  4.24it/s]\n",
            "                 Class     Images  Instances      Box(P          R      mAP50  mAP50-95): 100%|██████████| 2/2 [00:00<00:00,  2.73it/s]"
          ]
        },
        {
          "output_type": "stream",
          "name": "stdout",
          "text": [
            "                   all        157        167      0.904      0.838      0.907      0.644\n"
          ]
        },
        {
          "output_type": "stream",
          "name": "stderr",
          "text": [
            "\n"
          ]
        },
        {
          "output_type": "stream",
          "name": "stdout",
          "text": [
            "\n",
            "      Epoch    GPU_mem   box_loss   cls_loss   dfl_loss  Instances       Size\n"
          ]
        },
        {
          "output_type": "stream",
          "name": "stderr",
          "text": [
            "     42/100      10.2G     0.8551     0.6594      1.305         73        640: 100%|██████████| 26/26 [00:06<00:00,  4.25it/s]\n",
            "                 Class     Images  Instances      Box(P          R      mAP50  mAP50-95): 100%|██████████| 2/2 [00:00<00:00,  2.87it/s]"
          ]
        },
        {
          "output_type": "stream",
          "name": "stdout",
          "text": [
            "                   all        157        167      0.762      0.713      0.811      0.545\n"
          ]
        },
        {
          "output_type": "stream",
          "name": "stderr",
          "text": [
            "\n"
          ]
        },
        {
          "output_type": "stream",
          "name": "stdout",
          "text": [
            "\n",
            "      Epoch    GPU_mem   box_loss   cls_loss   dfl_loss  Instances       Size\n"
          ]
        },
        {
          "output_type": "stream",
          "name": "stderr",
          "text": [
            "     43/100      10.2G     0.8763     0.6835      1.318         98        640: 100%|██████████| 26/26 [00:06<00:00,  4.25it/s]\n",
            "                 Class     Images  Instances      Box(P          R      mAP50  mAP50-95): 100%|██████████| 2/2 [00:00<00:00,  2.92it/s]"
          ]
        },
        {
          "output_type": "stream",
          "name": "stdout",
          "text": [
            "                   all        157        167      0.914      0.841       0.92      0.679\n"
          ]
        },
        {
          "output_type": "stream",
          "name": "stderr",
          "text": [
            "\n"
          ]
        },
        {
          "output_type": "stream",
          "name": "stdout",
          "text": [
            "\n",
            "      Epoch    GPU_mem   box_loss   cls_loss   dfl_loss  Instances       Size\n"
          ]
        },
        {
          "output_type": "stream",
          "name": "stderr",
          "text": [
            "     44/100      10.2G     0.8542     0.6467      1.304         75        640: 100%|██████████| 26/26 [00:06<00:00,  4.23it/s]\n",
            "                 Class     Images  Instances      Box(P          R      mAP50  mAP50-95): 100%|██████████| 2/2 [00:00<00:00,  2.98it/s]"
          ]
        },
        {
          "output_type": "stream",
          "name": "stdout",
          "text": [
            "                   all        157        167      0.884      0.865      0.916      0.642\n"
          ]
        },
        {
          "output_type": "stream",
          "name": "stderr",
          "text": [
            "\n"
          ]
        },
        {
          "output_type": "stream",
          "name": "stdout",
          "text": [
            "\n",
            "      Epoch    GPU_mem   box_loss   cls_loss   dfl_loss  Instances       Size\n"
          ]
        },
        {
          "output_type": "stream",
          "name": "stderr",
          "text": [
            "     45/100      10.2G     0.8423     0.6384      1.297        101        640: 100%|██████████| 26/26 [00:06<00:00,  4.16it/s]\n",
            "                 Class     Images  Instances      Box(P          R      mAP50  mAP50-95): 100%|██████████| 2/2 [00:00<00:00,  2.86it/s]"
          ]
        },
        {
          "output_type": "stream",
          "name": "stdout",
          "text": [
            "                   all        157        167      0.852      0.805      0.872      0.639\n"
          ]
        },
        {
          "output_type": "stream",
          "name": "stderr",
          "text": [
            "\n"
          ]
        },
        {
          "output_type": "stream",
          "name": "stdout",
          "text": [
            "\n",
            "      Epoch    GPU_mem   box_loss   cls_loss   dfl_loss  Instances       Size\n"
          ]
        },
        {
          "output_type": "stream",
          "name": "stderr",
          "text": [
            "     46/100      10.2G     0.8183     0.6356      1.283         58        640: 100%|██████████| 26/26 [00:06<00:00,  4.24it/s]\n",
            "                 Class     Images  Instances      Box(P          R      mAP50  mAP50-95): 100%|██████████| 2/2 [00:00<00:00,  2.93it/s]"
          ]
        },
        {
          "output_type": "stream",
          "name": "stdout",
          "text": [
            "                   all        157        167      0.819      0.774       0.84      0.637\n"
          ]
        },
        {
          "output_type": "stream",
          "name": "stderr",
          "text": [
            "\n"
          ]
        },
        {
          "output_type": "stream",
          "name": "stdout",
          "text": [
            "\n",
            "      Epoch    GPU_mem   box_loss   cls_loss   dfl_loss  Instances       Size\n"
          ]
        },
        {
          "output_type": "stream",
          "name": "stderr",
          "text": [
            "     47/100      10.2G     0.8214     0.6485      1.291         63        640: 100%|██████████| 26/26 [00:06<00:00,  4.20it/s]\n",
            "                 Class     Images  Instances      Box(P          R      mAP50  mAP50-95): 100%|██████████| 2/2 [00:00<00:00,  3.03it/s]"
          ]
        },
        {
          "output_type": "stream",
          "name": "stdout",
          "text": [
            "                   all        157        167       0.95      0.841      0.912      0.694\n"
          ]
        },
        {
          "output_type": "stream",
          "name": "stderr",
          "text": [
            "\n"
          ]
        },
        {
          "output_type": "stream",
          "name": "stdout",
          "text": [
            "\n",
            "      Epoch    GPU_mem   box_loss   cls_loss   dfl_loss  Instances       Size\n"
          ]
        },
        {
          "output_type": "stream",
          "name": "stderr",
          "text": [
            "     48/100      10.2G     0.8005     0.6067      1.268         68        640: 100%|██████████| 26/26 [00:06<00:00,  4.25it/s]\n",
            "                 Class     Images  Instances      Box(P          R      mAP50  mAP50-95): 100%|██████████| 2/2 [00:00<00:00,  2.71it/s]"
          ]
        },
        {
          "output_type": "stream",
          "name": "stdout",
          "text": [
            "                   all        157        167      0.908      0.862      0.927      0.661\n"
          ]
        },
        {
          "output_type": "stream",
          "name": "stderr",
          "text": [
            "\n"
          ]
        },
        {
          "output_type": "stream",
          "name": "stdout",
          "text": [
            "\n",
            "      Epoch    GPU_mem   box_loss   cls_loss   dfl_loss  Instances       Size\n"
          ]
        },
        {
          "output_type": "stream",
          "name": "stderr",
          "text": [
            "     49/100      10.2G     0.8158     0.6084      1.281         58        640: 100%|██████████| 26/26 [00:06<00:00,  4.23it/s]\n",
            "                 Class     Images  Instances      Box(P          R      mAP50  mAP50-95): 100%|██████████| 2/2 [00:00<00:00,  2.91it/s]"
          ]
        },
        {
          "output_type": "stream",
          "name": "stdout",
          "text": [
            "                   all        157        167      0.952      0.855      0.931      0.686\n"
          ]
        },
        {
          "output_type": "stream",
          "name": "stderr",
          "text": [
            "\n"
          ]
        },
        {
          "output_type": "stream",
          "name": "stdout",
          "text": [
            "\n",
            "      Epoch    GPU_mem   box_loss   cls_loss   dfl_loss  Instances       Size\n"
          ]
        },
        {
          "output_type": "stream",
          "name": "stderr",
          "text": [
            "     50/100      10.2G     0.7935     0.6054       1.26         63        640: 100%|██████████| 26/26 [00:06<00:00,  4.21it/s]\n",
            "                 Class     Images  Instances      Box(P          R      mAP50  mAP50-95): 100%|██████████| 2/2 [00:00<00:00,  2.90it/s]"
          ]
        },
        {
          "output_type": "stream",
          "name": "stdout",
          "text": [
            "                   all        157        167      0.935      0.865      0.932      0.688\n"
          ]
        },
        {
          "output_type": "stream",
          "name": "stderr",
          "text": [
            "\n"
          ]
        },
        {
          "output_type": "stream",
          "name": "stdout",
          "text": [
            "\n",
            "      Epoch    GPU_mem   box_loss   cls_loss   dfl_loss  Instances       Size\n"
          ]
        },
        {
          "output_type": "stream",
          "name": "stderr",
          "text": [
            "     51/100      10.2G      0.798     0.6016      1.264         81        640: 100%|██████████| 26/26 [00:06<00:00,  3.98it/s]\n",
            "                 Class     Images  Instances      Box(P          R      mAP50  mAP50-95): 100%|██████████| 2/2 [00:00<00:00,  3.17it/s]"
          ]
        },
        {
          "output_type": "stream",
          "name": "stdout",
          "text": [
            "                   all        157        167      0.881      0.865      0.919      0.686\n"
          ]
        },
        {
          "output_type": "stream",
          "name": "stderr",
          "text": [
            "\n"
          ]
        },
        {
          "output_type": "stream",
          "name": "stdout",
          "text": [
            "\n",
            "      Epoch    GPU_mem   box_loss   cls_loss   dfl_loss  Instances       Size\n"
          ]
        },
        {
          "output_type": "stream",
          "name": "stderr",
          "text": [
            "     52/100      10.2G     0.7995     0.6086      1.266         85        640: 100%|██████████| 26/26 [00:06<00:00,  4.17it/s]\n",
            "                 Class     Images  Instances      Box(P          R      mAP50  mAP50-95): 100%|██████████| 2/2 [00:00<00:00,  2.84it/s]"
          ]
        },
        {
          "output_type": "stream",
          "name": "stdout",
          "text": [
            "                   all        157        167      0.891      0.832      0.874      0.644\n"
          ]
        },
        {
          "output_type": "stream",
          "name": "stderr",
          "text": [
            "\n"
          ]
        },
        {
          "output_type": "stream",
          "name": "stdout",
          "text": [
            "\n",
            "      Epoch    GPU_mem   box_loss   cls_loss   dfl_loss  Instances       Size\n"
          ]
        },
        {
          "output_type": "stream",
          "name": "stderr",
          "text": [
            "     53/100      10.2G     0.7877     0.5858      1.258         65        640: 100%|██████████| 26/26 [00:06<00:00,  4.24it/s]\n",
            "                 Class     Images  Instances      Box(P          R      mAP50  mAP50-95): 100%|██████████| 2/2 [00:00<00:00,  2.97it/s]"
          ]
        },
        {
          "output_type": "stream",
          "name": "stdout",
          "text": [
            "                   all        157        167      0.922      0.824      0.897      0.667\n"
          ]
        },
        {
          "output_type": "stream",
          "name": "stderr",
          "text": [
            "\n"
          ]
        },
        {
          "output_type": "stream",
          "name": "stdout",
          "text": [
            "\n",
            "      Epoch    GPU_mem   box_loss   cls_loss   dfl_loss  Instances       Size\n"
          ]
        },
        {
          "output_type": "stream",
          "name": "stderr",
          "text": [
            "     54/100      10.2G     0.7662     0.5785      1.241         75        640: 100%|██████████| 26/26 [00:06<00:00,  4.25it/s]\n",
            "                 Class     Images  Instances      Box(P          R      mAP50  mAP50-95): 100%|██████████| 2/2 [00:00<00:00,  3.15it/s]"
          ]
        },
        {
          "output_type": "stream",
          "name": "stdout",
          "text": [
            "                   all        157        167      0.909      0.828       0.88      0.674\n"
          ]
        },
        {
          "output_type": "stream",
          "name": "stderr",
          "text": [
            "\n"
          ]
        },
        {
          "output_type": "stream",
          "name": "stdout",
          "text": [
            "\n",
            "      Epoch    GPU_mem   box_loss   cls_loss   dfl_loss  Instances       Size\n"
          ]
        },
        {
          "output_type": "stream",
          "name": "stderr",
          "text": [
            "     55/100      10.2G     0.7808     0.5948      1.248        103        640: 100%|██████████| 26/26 [00:06<00:00,  4.26it/s]\n",
            "                 Class     Images  Instances      Box(P          R      mAP50  mAP50-95): 100%|██████████| 2/2 [00:00<00:00,  2.89it/s]"
          ]
        },
        {
          "output_type": "stream",
          "name": "stdout",
          "text": [
            "                   all        157        167      0.895      0.868      0.924      0.697\n"
          ]
        },
        {
          "output_type": "stream",
          "name": "stderr",
          "text": [
            "\n"
          ]
        },
        {
          "output_type": "stream",
          "name": "stdout",
          "text": [
            "\n",
            "      Epoch    GPU_mem   box_loss   cls_loss   dfl_loss  Instances       Size\n"
          ]
        },
        {
          "output_type": "stream",
          "name": "stderr",
          "text": [
            "     56/100      10.2G     0.7751     0.5868      1.251         67        640: 100%|██████████| 26/26 [00:06<00:00,  4.25it/s]\n",
            "                 Class     Images  Instances      Box(P          R      mAP50  mAP50-95): 100%|██████████| 2/2 [00:00<00:00,  2.83it/s]"
          ]
        },
        {
          "output_type": "stream",
          "name": "stdout",
          "text": [
            "                   all        157        167      0.951      0.884       0.93      0.707\n"
          ]
        },
        {
          "output_type": "stream",
          "name": "stderr",
          "text": [
            "\n"
          ]
        },
        {
          "output_type": "stream",
          "name": "stdout",
          "text": [
            "\n",
            "      Epoch    GPU_mem   box_loss   cls_loss   dfl_loss  Instances       Size\n"
          ]
        },
        {
          "output_type": "stream",
          "name": "stderr",
          "text": [
            "     57/100      10.2G     0.7676     0.5621      1.236         84        640: 100%|██████████| 26/26 [00:06<00:00,  4.24it/s]\n",
            "                 Class     Images  Instances      Box(P          R      mAP50  mAP50-95): 100%|██████████| 2/2 [00:00<00:00,  2.74it/s]"
          ]
        },
        {
          "output_type": "stream",
          "name": "stdout",
          "text": [
            "                   all        157        167      0.893      0.853      0.897      0.685\n"
          ]
        },
        {
          "output_type": "stream",
          "name": "stderr",
          "text": [
            "\n"
          ]
        },
        {
          "output_type": "stream",
          "name": "stdout",
          "text": [
            "\n",
            "      Epoch    GPU_mem   box_loss   cls_loss   dfl_loss  Instances       Size\n"
          ]
        },
        {
          "output_type": "stream",
          "name": "stderr",
          "text": [
            "     58/100      10.2G     0.7593      0.569      1.225         66        640: 100%|██████████| 26/26 [00:06<00:00,  4.29it/s]\n",
            "                 Class     Images  Instances      Box(P          R      mAP50  mAP50-95): 100%|██████████| 2/2 [00:00<00:00,  3.03it/s]"
          ]
        },
        {
          "output_type": "stream",
          "name": "stdout",
          "text": [
            "                   all        157        167      0.914      0.849      0.901      0.658\n"
          ]
        },
        {
          "output_type": "stream",
          "name": "stderr",
          "text": [
            "\n"
          ]
        },
        {
          "output_type": "stream",
          "name": "stdout",
          "text": [
            "\n",
            "      Epoch    GPU_mem   box_loss   cls_loss   dfl_loss  Instances       Size\n"
          ]
        },
        {
          "output_type": "stream",
          "name": "stderr",
          "text": [
            "     59/100      10.2G     0.7613     0.5614       1.24         90        640: 100%|██████████| 26/26 [00:06<00:00,  4.22it/s]\n",
            "                 Class     Images  Instances      Box(P          R      mAP50  mAP50-95): 100%|██████████| 2/2 [00:00<00:00,  3.02it/s]"
          ]
        },
        {
          "output_type": "stream",
          "name": "stdout",
          "text": [
            "                   all        157        167      0.945      0.856      0.923      0.698\n"
          ]
        },
        {
          "output_type": "stream",
          "name": "stderr",
          "text": [
            "\n"
          ]
        },
        {
          "output_type": "stream",
          "name": "stdout",
          "text": [
            "\n",
            "      Epoch    GPU_mem   box_loss   cls_loss   dfl_loss  Instances       Size\n"
          ]
        },
        {
          "output_type": "stream",
          "name": "stderr",
          "text": [
            "     60/100      10.2G      0.733      0.547      1.223         78        640: 100%|██████████| 26/26 [00:06<00:00,  4.23it/s]\n",
            "                 Class     Images  Instances      Box(P          R      mAP50  mAP50-95): 100%|██████████| 2/2 [00:00<00:00,  3.07it/s]"
          ]
        },
        {
          "output_type": "stream",
          "name": "stdout",
          "text": [
            "                   all        157        167      0.917       0.82      0.909      0.689\n"
          ]
        },
        {
          "output_type": "stream",
          "name": "stderr",
          "text": [
            "\n"
          ]
        },
        {
          "output_type": "stream",
          "name": "stdout",
          "text": [
            "\n",
            "      Epoch    GPU_mem   box_loss   cls_loss   dfl_loss  Instances       Size\n"
          ]
        },
        {
          "output_type": "stream",
          "name": "stderr",
          "text": [
            "     61/100      10.2G     0.7384     0.5348      1.224         58        640: 100%|██████████| 26/26 [00:06<00:00,  4.18it/s]\n",
            "                 Class     Images  Instances      Box(P          R      mAP50  mAP50-95): 100%|██████████| 2/2 [00:00<00:00,  2.98it/s]"
          ]
        },
        {
          "output_type": "stream",
          "name": "stdout",
          "text": [
            "                   all        157        167       0.92      0.839      0.905      0.672\n"
          ]
        },
        {
          "output_type": "stream",
          "name": "stderr",
          "text": [
            "\n"
          ]
        },
        {
          "output_type": "stream",
          "name": "stdout",
          "text": [
            "\n",
            "      Epoch    GPU_mem   box_loss   cls_loss   dfl_loss  Instances       Size\n"
          ]
        },
        {
          "output_type": "stream",
          "name": "stderr",
          "text": [
            "     62/100      10.2G     0.7495     0.5383      1.214         69        640: 100%|██████████| 26/26 [00:06<00:00,  4.26it/s]\n",
            "                 Class     Images  Instances      Box(P          R      mAP50  mAP50-95): 100%|██████████| 2/2 [00:00<00:00,  2.88it/s]"
          ]
        },
        {
          "output_type": "stream",
          "name": "stdout",
          "text": [
            "                   all        157        167      0.925       0.85      0.925      0.716\n"
          ]
        },
        {
          "output_type": "stream",
          "name": "stderr",
          "text": [
            "\n"
          ]
        },
        {
          "output_type": "stream",
          "name": "stdout",
          "text": [
            "\n",
            "      Epoch    GPU_mem   box_loss   cls_loss   dfl_loss  Instances       Size\n"
          ]
        },
        {
          "output_type": "stream",
          "name": "stderr",
          "text": [
            "     63/100      10.2G     0.7238     0.5309      1.215         70        640: 100%|██████████| 26/26 [00:06<00:00,  4.20it/s]\n",
            "                 Class     Images  Instances      Box(P          R      mAP50  mAP50-95): 100%|██████████| 2/2 [00:00<00:00,  3.05it/s]"
          ]
        },
        {
          "output_type": "stream",
          "name": "stdout",
          "text": [
            "                   all        157        167      0.955      0.855      0.929      0.729\n"
          ]
        },
        {
          "output_type": "stream",
          "name": "stderr",
          "text": [
            "\n"
          ]
        },
        {
          "output_type": "stream",
          "name": "stdout",
          "text": [
            "\n",
            "      Epoch    GPU_mem   box_loss   cls_loss   dfl_loss  Instances       Size\n"
          ]
        },
        {
          "output_type": "stream",
          "name": "stderr",
          "text": [
            "     64/100      10.2G     0.7136     0.5299        1.2         68        640: 100%|██████████| 26/26 [00:06<00:00,  4.29it/s]\n",
            "                 Class     Images  Instances      Box(P          R      mAP50  mAP50-95): 100%|██████████| 2/2 [00:00<00:00,  2.76it/s]"
          ]
        },
        {
          "output_type": "stream",
          "name": "stdout",
          "text": [
            "                   all        157        167      0.936       0.85      0.927      0.692\n"
          ]
        },
        {
          "output_type": "stream",
          "name": "stderr",
          "text": [
            "\n"
          ]
        },
        {
          "output_type": "stream",
          "name": "stdout",
          "text": [
            "\n",
            "      Epoch    GPU_mem   box_loss   cls_loss   dfl_loss  Instances       Size\n"
          ]
        },
        {
          "output_type": "stream",
          "name": "stderr",
          "text": [
            "     65/100      10.2G     0.7459      0.543       1.22        116        640: 100%|██████████| 26/26 [00:06<00:00,  4.20it/s]\n",
            "                 Class     Images  Instances      Box(P          R      mAP50  mAP50-95): 100%|██████████| 2/2 [00:00<00:00,  2.91it/s]"
          ]
        },
        {
          "output_type": "stream",
          "name": "stdout",
          "text": [
            "                   all        157        167      0.927      0.906      0.939      0.727\n"
          ]
        },
        {
          "output_type": "stream",
          "name": "stderr",
          "text": [
            "\n"
          ]
        },
        {
          "output_type": "stream",
          "name": "stdout",
          "text": [
            "\n",
            "      Epoch    GPU_mem   box_loss   cls_loss   dfl_loss  Instances       Size\n"
          ]
        },
        {
          "output_type": "stream",
          "name": "stderr",
          "text": [
            "     66/100      10.2G     0.7302      0.536      1.206        151        640: 100%|██████████| 26/26 [00:06<00:00,  4.21it/s]\n",
            "                 Class     Images  Instances      Box(P          R      mAP50  mAP50-95): 100%|██████████| 2/2 [00:00<00:00,  2.85it/s]"
          ]
        },
        {
          "output_type": "stream",
          "name": "stdout",
          "text": [
            "                   all        157        167      0.922      0.815      0.895      0.708\n"
          ]
        },
        {
          "output_type": "stream",
          "name": "stderr",
          "text": [
            "\n"
          ]
        },
        {
          "output_type": "stream",
          "name": "stdout",
          "text": [
            "\n",
            "      Epoch    GPU_mem   box_loss   cls_loss   dfl_loss  Instances       Size\n"
          ]
        },
        {
          "output_type": "stream",
          "name": "stderr",
          "text": [
            "     67/100      10.2G     0.7222     0.5219      1.203         72        640: 100%|██████████| 26/26 [00:06<00:00,  4.28it/s]\n",
            "                 Class     Images  Instances      Box(P          R      mAP50  mAP50-95): 100%|██████████| 2/2 [00:00<00:00,  2.85it/s]"
          ]
        },
        {
          "output_type": "stream",
          "name": "stdout",
          "text": [
            "                   all        157        167      0.928      0.863      0.921      0.701\n"
          ]
        },
        {
          "output_type": "stream",
          "name": "stderr",
          "text": [
            "\n"
          ]
        },
        {
          "output_type": "stream",
          "name": "stdout",
          "text": [
            "\n",
            "      Epoch    GPU_mem   box_loss   cls_loss   dfl_loss  Instances       Size\n"
          ]
        },
        {
          "output_type": "stream",
          "name": "stderr",
          "text": [
            "     68/100      10.2G     0.7228       0.52      1.203        121        640: 100%|██████████| 26/26 [00:06<00:00,  4.22it/s]\n",
            "                 Class     Images  Instances      Box(P          R      mAP50  mAP50-95): 100%|██████████| 2/2 [00:00<00:00,  2.90it/s]"
          ]
        },
        {
          "output_type": "stream",
          "name": "stdout",
          "text": [
            "                   all        157        167      0.961      0.861       0.93      0.713\n"
          ]
        },
        {
          "output_type": "stream",
          "name": "stderr",
          "text": [
            "\n"
          ]
        },
        {
          "output_type": "stream",
          "name": "stdout",
          "text": [
            "\n",
            "      Epoch    GPU_mem   box_loss   cls_loss   dfl_loss  Instances       Size\n"
          ]
        },
        {
          "output_type": "stream",
          "name": "stderr",
          "text": [
            "     69/100      10.2G     0.7166     0.5356      1.218         60        640: 100%|██████████| 26/26 [00:06<00:00,  4.23it/s]\n",
            "                 Class     Images  Instances      Box(P          R      mAP50  mAP50-95): 100%|██████████| 2/2 [00:00<00:00,  2.97it/s]"
          ]
        },
        {
          "output_type": "stream",
          "name": "stdout",
          "text": [
            "                   all        157        167      0.941      0.894      0.918      0.708\n"
          ]
        },
        {
          "output_type": "stream",
          "name": "stderr",
          "text": [
            "\n"
          ]
        },
        {
          "output_type": "stream",
          "name": "stdout",
          "text": [
            "\n",
            "      Epoch    GPU_mem   box_loss   cls_loss   dfl_loss  Instances       Size\n"
          ]
        },
        {
          "output_type": "stream",
          "name": "stderr",
          "text": [
            "     70/100      10.2G     0.7036     0.5117      1.183         75        640: 100%|██████████| 26/26 [00:06<00:00,  4.18it/s]\n",
            "                 Class     Images  Instances      Box(P          R      mAP50  mAP50-95): 100%|██████████| 2/2 [00:00<00:00,  2.83it/s]"
          ]
        },
        {
          "output_type": "stream",
          "name": "stdout",
          "text": [
            "                   all        157        167      0.928      0.878      0.935      0.729\n"
          ]
        },
        {
          "output_type": "stream",
          "name": "stderr",
          "text": [
            "\n"
          ]
        },
        {
          "output_type": "stream",
          "name": "stdout",
          "text": [
            "\n",
            "      Epoch    GPU_mem   box_loss   cls_loss   dfl_loss  Instances       Size\n"
          ]
        },
        {
          "output_type": "stream",
          "name": "stderr",
          "text": [
            "     71/100      10.2G     0.7005     0.5064      1.199         59        640: 100%|██████████| 26/26 [00:06<00:00,  4.28it/s]\n",
            "                 Class     Images  Instances      Box(P          R      mAP50  mAP50-95): 100%|██████████| 2/2 [00:00<00:00,  2.74it/s]"
          ]
        },
        {
          "output_type": "stream",
          "name": "stdout",
          "text": [
            "                   all        157        167      0.931      0.894      0.919      0.713\n"
          ]
        },
        {
          "output_type": "stream",
          "name": "stderr",
          "text": [
            "\n"
          ]
        },
        {
          "output_type": "stream",
          "name": "stdout",
          "text": [
            "\n",
            "      Epoch    GPU_mem   box_loss   cls_loss   dfl_loss  Instances       Size\n"
          ]
        },
        {
          "output_type": "stream",
          "name": "stderr",
          "text": [
            "     72/100      10.2G     0.6809     0.4948      1.177         64        640: 100%|██████████| 26/26 [00:06<00:00,  4.18it/s]\n",
            "                 Class     Images  Instances      Box(P          R      mAP50  mAP50-95): 100%|██████████| 2/2 [00:00<00:00,  3.02it/s]"
          ]
        },
        {
          "output_type": "stream",
          "name": "stdout",
          "text": [
            "                   all        157        167      0.953      0.845      0.915      0.721\n"
          ]
        },
        {
          "output_type": "stream",
          "name": "stderr",
          "text": [
            "\n"
          ]
        },
        {
          "output_type": "stream",
          "name": "stdout",
          "text": [
            "\n",
            "      Epoch    GPU_mem   box_loss   cls_loss   dfl_loss  Instances       Size\n"
          ]
        },
        {
          "output_type": "stream",
          "name": "stderr",
          "text": [
            "     73/100      10.2G     0.6749     0.4933      1.182         69        640: 100%|██████████| 26/26 [00:06<00:00,  4.05it/s]\n",
            "                 Class     Images  Instances      Box(P          R      mAP50  mAP50-95): 100%|██████████| 2/2 [00:00<00:00,  2.77it/s]"
          ]
        },
        {
          "output_type": "stream",
          "name": "stdout",
          "text": [
            "                   all        157        167      0.932      0.859      0.925      0.747\n"
          ]
        },
        {
          "output_type": "stream",
          "name": "stderr",
          "text": [
            "\n"
          ]
        },
        {
          "output_type": "stream",
          "name": "stdout",
          "text": [
            "\n",
            "      Epoch    GPU_mem   box_loss   cls_loss   dfl_loss  Instances       Size\n"
          ]
        },
        {
          "output_type": "stream",
          "name": "stderr",
          "text": [
            "     74/100      10.2G     0.6618     0.4772      1.168         63        640: 100%|██████████| 26/26 [00:06<00:00,  4.26it/s]\n",
            "                 Class     Images  Instances      Box(P          R      mAP50  mAP50-95): 100%|██████████| 2/2 [00:00<00:00,  3.14it/s]"
          ]
        },
        {
          "output_type": "stream",
          "name": "stdout",
          "text": [
            "                   all        157        167      0.955       0.87      0.923      0.725\n"
          ]
        },
        {
          "output_type": "stream",
          "name": "stderr",
          "text": [
            "\n"
          ]
        },
        {
          "output_type": "stream",
          "name": "stdout",
          "text": [
            "\n",
            "      Epoch    GPU_mem   box_loss   cls_loss   dfl_loss  Instances       Size\n"
          ]
        },
        {
          "output_type": "stream",
          "name": "stderr",
          "text": [
            "     75/100      10.2G     0.6722     0.4888       1.18         95        640: 100%|██████████| 26/26 [00:06<00:00,  4.21it/s]\n",
            "                 Class     Images  Instances      Box(P          R      mAP50  mAP50-95): 100%|██████████| 2/2 [00:00<00:00,  2.93it/s]"
          ]
        },
        {
          "output_type": "stream",
          "name": "stdout",
          "text": [
            "                   all        157        167      0.944      0.869      0.933      0.738\n"
          ]
        },
        {
          "output_type": "stream",
          "name": "stderr",
          "text": [
            "\n"
          ]
        },
        {
          "output_type": "stream",
          "name": "stdout",
          "text": [
            "\n",
            "      Epoch    GPU_mem   box_loss   cls_loss   dfl_loss  Instances       Size\n"
          ]
        },
        {
          "output_type": "stream",
          "name": "stderr",
          "text": [
            "     76/100      10.2G     0.6679     0.4822      1.183         53        640: 100%|██████████| 26/26 [00:06<00:00,  4.29it/s]\n",
            "                 Class     Images  Instances      Box(P          R      mAP50  mAP50-95): 100%|██████████| 2/2 [00:00<00:00,  2.98it/s]"
          ]
        },
        {
          "output_type": "stream",
          "name": "stdout",
          "text": [
            "                   all        157        167      0.881       0.91       0.94      0.746\n"
          ]
        },
        {
          "output_type": "stream",
          "name": "stderr",
          "text": [
            "\n"
          ]
        },
        {
          "output_type": "stream",
          "name": "stdout",
          "text": [
            "\n",
            "      Epoch    GPU_mem   box_loss   cls_loss   dfl_loss  Instances       Size\n"
          ]
        },
        {
          "output_type": "stream",
          "name": "stderr",
          "text": [
            "     77/100      10.2G     0.6641     0.4791      1.168         94        640: 100%|██████████| 26/26 [00:06<00:00,  4.22it/s]\n",
            "                 Class     Images  Instances      Box(P          R      mAP50  mAP50-95): 100%|██████████| 2/2 [00:00<00:00,  2.90it/s]"
          ]
        },
        {
          "output_type": "stream",
          "name": "stdout",
          "text": [
            "                   all        157        167      0.944      0.913      0.946      0.762\n"
          ]
        },
        {
          "output_type": "stream",
          "name": "stderr",
          "text": [
            "\n"
          ]
        },
        {
          "output_type": "stream",
          "name": "stdout",
          "text": [
            "\n",
            "      Epoch    GPU_mem   box_loss   cls_loss   dfl_loss  Instances       Size\n"
          ]
        },
        {
          "output_type": "stream",
          "name": "stderr",
          "text": [
            "     78/100      10.2G     0.6516     0.4811       1.16        108        640: 100%|██████████| 26/26 [00:06<00:00,  4.27it/s]\n",
            "                 Class     Images  Instances      Box(P          R      mAP50  mAP50-95): 100%|██████████| 2/2 [00:00<00:00,  2.94it/s]"
          ]
        },
        {
          "output_type": "stream",
          "name": "stdout",
          "text": [
            "                   all        157        167      0.977      0.869      0.935      0.742\n"
          ]
        },
        {
          "output_type": "stream",
          "name": "stderr",
          "text": [
            "\n"
          ]
        },
        {
          "output_type": "stream",
          "name": "stdout",
          "text": [
            "\n",
            "      Epoch    GPU_mem   box_loss   cls_loss   dfl_loss  Instances       Size\n"
          ]
        },
        {
          "output_type": "stream",
          "name": "stderr",
          "text": [
            "     79/100      10.2G     0.6566     0.4683      1.173         63        640: 100%|██████████| 26/26 [00:06<00:00,  4.24it/s]\n",
            "                 Class     Images  Instances      Box(P          R      mAP50  mAP50-95): 100%|██████████| 2/2 [00:00<00:00,  3.01it/s]"
          ]
        },
        {
          "output_type": "stream",
          "name": "stdout",
          "text": [
            "                   all        157        167      0.972      0.896       0.94      0.727\n"
          ]
        },
        {
          "output_type": "stream",
          "name": "stderr",
          "text": [
            "\n"
          ]
        },
        {
          "output_type": "stream",
          "name": "stdout",
          "text": [
            "\n",
            "      Epoch    GPU_mem   box_loss   cls_loss   dfl_loss  Instances       Size\n"
          ]
        },
        {
          "output_type": "stream",
          "name": "stderr",
          "text": [
            "     80/100      10.2G     0.6465     0.4765      1.165         63        640: 100%|██████████| 26/26 [00:06<00:00,  4.24it/s]\n",
            "                 Class     Images  Instances      Box(P          R      mAP50  mAP50-95): 100%|██████████| 2/2 [00:00<00:00,  2.93it/s]"
          ]
        },
        {
          "output_type": "stream",
          "name": "stdout",
          "text": [
            "                   all        157        167      0.945      0.897       0.93      0.728\n"
          ]
        },
        {
          "output_type": "stream",
          "name": "stderr",
          "text": [
            "\n"
          ]
        },
        {
          "output_type": "stream",
          "name": "stdout",
          "text": [
            "\n",
            "      Epoch    GPU_mem   box_loss   cls_loss   dfl_loss  Instances       Size\n"
          ]
        },
        {
          "output_type": "stream",
          "name": "stderr",
          "text": [
            "     81/100      10.2G     0.6388     0.4473      1.157         85        640: 100%|██████████| 26/26 [00:06<00:00,  4.26it/s]\n",
            "                 Class     Images  Instances      Box(P          R      mAP50  mAP50-95): 100%|██████████| 2/2 [00:00<00:00,  2.90it/s]"
          ]
        },
        {
          "output_type": "stream",
          "name": "stdout",
          "text": [
            "                   all        157        167       0.96      0.899      0.931      0.722\n"
          ]
        },
        {
          "output_type": "stream",
          "name": "stderr",
          "text": [
            "\n"
          ]
        },
        {
          "output_type": "stream",
          "name": "stdout",
          "text": [
            "\n",
            "      Epoch    GPU_mem   box_loss   cls_loss   dfl_loss  Instances       Size\n"
          ]
        },
        {
          "output_type": "stream",
          "name": "stderr",
          "text": [
            "     82/100      10.2G     0.6337     0.4562      1.151         89        640: 100%|██████████| 26/26 [00:06<00:00,  4.25it/s]\n",
            "                 Class     Images  Instances      Box(P          R      mAP50  mAP50-95): 100%|██████████| 2/2 [00:00<00:00,  2.73it/s]"
          ]
        },
        {
          "output_type": "stream",
          "name": "stdout",
          "text": [
            "                   all        157        167      0.932      0.898      0.926      0.728\n"
          ]
        },
        {
          "output_type": "stream",
          "name": "stderr",
          "text": [
            "\n"
          ]
        },
        {
          "output_type": "stream",
          "name": "stdout",
          "text": [
            "\n",
            "      Epoch    GPU_mem   box_loss   cls_loss   dfl_loss  Instances       Size\n"
          ]
        },
        {
          "output_type": "stream",
          "name": "stderr",
          "text": [
            "     83/100      10.2G      0.628     0.4654      1.157         65        640: 100%|██████████| 26/26 [00:06<00:00,  4.24it/s]\n",
            "                 Class     Images  Instances      Box(P          R      mAP50  mAP50-95): 100%|██████████| 2/2 [00:00<00:00,  2.86it/s]"
          ]
        },
        {
          "output_type": "stream",
          "name": "stdout",
          "text": [
            "                   all        157        167      0.951      0.912       0.93      0.734\n"
          ]
        },
        {
          "output_type": "stream",
          "name": "stderr",
          "text": [
            "\n"
          ]
        },
        {
          "output_type": "stream",
          "name": "stdout",
          "text": [
            "\n",
            "      Epoch    GPU_mem   box_loss   cls_loss   dfl_loss  Instances       Size\n"
          ]
        },
        {
          "output_type": "stream",
          "name": "stderr",
          "text": [
            "     84/100      10.2G      0.635     0.4567      1.143         67        640: 100%|██████████| 26/26 [00:06<00:00,  4.24it/s]\n",
            "                 Class     Images  Instances      Box(P          R      mAP50  mAP50-95): 100%|██████████| 2/2 [00:00<00:00,  2.83it/s]"
          ]
        },
        {
          "output_type": "stream",
          "name": "stdout",
          "text": [
            "                   all        157        167      0.936      0.935       0.95      0.746\n"
          ]
        },
        {
          "output_type": "stream",
          "name": "stderr",
          "text": [
            "\n"
          ]
        },
        {
          "output_type": "stream",
          "name": "stdout",
          "text": [
            "\n",
            "      Epoch    GPU_mem   box_loss   cls_loss   dfl_loss  Instances       Size\n"
          ]
        },
        {
          "output_type": "stream",
          "name": "stderr",
          "text": [
            "     85/100      10.2G     0.6307     0.4475      1.146         76        640: 100%|██████████| 26/26 [00:06<00:00,  4.28it/s]\n",
            "                 Class     Images  Instances      Box(P          R      mAP50  mAP50-95): 100%|██████████| 2/2 [00:00<00:00,  3.09it/s]"
          ]
        },
        {
          "output_type": "stream",
          "name": "stdout",
          "text": [
            "                   all        157        167      0.939      0.889       0.94       0.73\n"
          ]
        },
        {
          "output_type": "stream",
          "name": "stderr",
          "text": [
            "\n"
          ]
        },
        {
          "output_type": "stream",
          "name": "stdout",
          "text": [
            "\n",
            "      Epoch    GPU_mem   box_loss   cls_loss   dfl_loss  Instances       Size\n"
          ]
        },
        {
          "output_type": "stream",
          "name": "stderr",
          "text": [
            "     86/100      10.2G     0.6327      0.459      1.153         53        640: 100%|██████████| 26/26 [00:06<00:00,  4.23it/s]\n",
            "                 Class     Images  Instances      Box(P          R      mAP50  mAP50-95): 100%|██████████| 2/2 [00:00<00:00,  2.87it/s]"
          ]
        },
        {
          "output_type": "stream",
          "name": "stdout",
          "text": [
            "                   all        157        167      0.966      0.858      0.938      0.754\n"
          ]
        },
        {
          "output_type": "stream",
          "name": "stderr",
          "text": [
            "\n"
          ]
        },
        {
          "output_type": "stream",
          "name": "stdout",
          "text": [
            "\n",
            "      Epoch    GPU_mem   box_loss   cls_loss   dfl_loss  Instances       Size\n"
          ]
        },
        {
          "output_type": "stream",
          "name": "stderr",
          "text": [
            "     87/100      10.2G     0.6277     0.4573      1.149         81        640: 100%|██████████| 26/26 [00:06<00:00,  4.27it/s]\n",
            "                 Class     Images  Instances      Box(P          R      mAP50  mAP50-95): 100%|██████████| 2/2 [00:00<00:00,  2.87it/s]"
          ]
        },
        {
          "output_type": "stream",
          "name": "stdout",
          "text": [
            "                   all        157        167      0.982      0.871      0.937      0.757\n",
            "\u001b[34m\u001b[1mEarlyStopping: \u001b[0mTraining stopped early as no improvement observed in last 10 epochs. Best results observed at epoch 77, best model saved as best.pt.\n",
            "To update EarlyStopping(patience=10) pass a new patience value, i.e. `patience=300` or use `patience=0` to disable EarlyStopping.\n"
          ]
        },
        {
          "output_type": "stream",
          "name": "stderr",
          "text": [
            "\n"
          ]
        },
        {
          "output_type": "stream",
          "name": "stdout",
          "text": [
            "\n",
            "87 epochs completed in 0.181 hours.\n",
            "Optimizer stripped from runs/detect/train5/weights/last.pt, 5.5MB\n",
            "Optimizer stripped from runs/detect/train5/weights/best.pt, 5.5MB\n",
            "\n",
            "Validating runs/detect/train5/weights/best.pt...\n",
            "Ultralytics 8.3.111 🚀 Python-3.11.12 torch-2.6.0+cu124 CUDA:0 (NVIDIA A100-SXM4-40GB, 40507MiB)\n",
            "YOLO11n summary (fused): 100 layers, 2,582,542 parameters, 0 gradients, 6.3 GFLOPs\n"
          ]
        },
        {
          "output_type": "stream",
          "name": "stderr",
          "text": [
            "                 Class     Images  Instances      Box(P          R      mAP50  mAP50-95): 100%|██████████| 2/2 [00:00<00:00,  2.96it/s]\n"
          ]
        },
        {
          "output_type": "stream",
          "name": "stdout",
          "text": [
            "                   all        157        167      0.944      0.913      0.946      0.761\n",
            "             butterfly         92        103      0.957      0.857      0.918      0.737\n",
            "                spider         64         64      0.931      0.969      0.974      0.786\n",
            "Speed: 0.1ms preprocess, 0.5ms inference, 0.0ms loss, 0.7ms postprocess per image\n",
            "Results saved to \u001b[1mruns/detect/train5\u001b[0m\n"
          ]
        }
      ]
    },
    {
      "cell_type": "code",
      "source": [
        "bestmodel = YOLO(\"./runs/detect/train5/weights/best.pt\")"
      ],
      "metadata": {
        "id": "8OYyi1ce5gPg"
      },
      "execution_count": null,
      "outputs": []
    },
    {
      "cell_type": "code",
      "source": [
        "bestmodel(\"https://static.news.zumst.com/images/35/2019/01/04/0a8e84b79d3d48fabba7803d934e4cae.JPG\")"
      ],
      "metadata": {
        "colab": {
          "base_uri": "https://localhost:8080/"
        },
        "id": "JNXLzdnb6Miu",
        "outputId": "1511aa13-8282-493f-a352-c868285e8f16"
      },
      "execution_count": null,
      "outputs": [
        {
          "output_type": "stream",
          "name": "stdout",
          "text": [
            "\n",
            "1/1: https://static.news.zumst.com/images/35/2019/01/04/0a8e84b79d3d48fabba7803d934e4cae.JPG... Success ✅ (1 frames of shape 810x430 at 25.00 FPS)\n",
            "\n",
            "\n",
            "WARNING ⚠️ inference results will accumulate in RAM unless `stream=True` is passed, causing potential out-of-memory\n",
            "errors for large sources or long-running streams and videos. See https://docs.ultralytics.com/modes/predict/ for help.\n",
            "\n",
            "Example:\n",
            "    results = model(source=..., stream=True)  # generator of Results objects\n",
            "    for r in results:\n",
            "        boxes = r.boxes  # Boxes object for bbox outputs\n",
            "        masks = r.masks  # Masks object for segment masks outputs\n",
            "        probs = r.probs  # Class probabilities for classification outputs\n",
            "\n",
            "0: 352x640 3 butterflys, 204.0ms\n",
            "Speed: 2.8ms preprocess, 204.0ms inference, 1.9ms postprocess per image at shape (1, 3, 352, 640)\n"
          ]
        },
        {
          "output_type": "execute_result",
          "data": {
            "text/plain": [
              "[ultralytics.engine.results.Results object with attributes:\n",
              " \n",
              " boxes: ultralytics.engine.results.Boxes object\n",
              " keypoints: None\n",
              " masks: None\n",
              " names: {0: 'butterfly', 1: 'spider'}\n",
              " obb: None\n",
              " orig_img: array([[[254, 195,  97],\n",
              "         [254, 195,  97],\n",
              "         [254, 195,  97],\n",
              "         ...,\n",
              "         [255, 252, 255],\n",
              "         [255, 252, 255],\n",
              "         [255, 252, 255]],\n",
              " \n",
              "        [[254, 195,  97],\n",
              "         [254, 195,  97],\n",
              "         [254, 195,  97],\n",
              "         ...,\n",
              "         [255, 252, 255],\n",
              "         [255, 252, 255],\n",
              "         [255, 252, 255]],\n",
              " \n",
              "        [[254, 195,  97],\n",
              "         [254, 195,  97],\n",
              "         [254, 195,  97],\n",
              "         ...,\n",
              "         [255, 252, 255],\n",
              "         [255, 252, 255],\n",
              "         [255, 252, 255]],\n",
              " \n",
              "        ...,\n",
              " \n",
              "        [[253, 231, 165],\n",
              "         [253, 231, 165],\n",
              "         [253, 231, 165],\n",
              "         ...,\n",
              "         [255, 236, 209],\n",
              "         [255, 236, 209],\n",
              "         [255, 236, 209]],\n",
              " \n",
              "        [[254, 232, 166],\n",
              "         [253, 231, 165],\n",
              "         [253, 231, 165],\n",
              "         ...,\n",
              "         [255, 236, 209],\n",
              "         [255, 236, 209],\n",
              "         [255, 236, 209]],\n",
              " \n",
              "        [[254, 232, 166],\n",
              "         [253, 231, 165],\n",
              "         [253, 231, 165],\n",
              "         ...,\n",
              "         [255, 236, 209],\n",
              "         [255, 236, 209],\n",
              "         [255, 236, 209]]], dtype=uint8)\n",
              " orig_shape: (430, 810)\n",
              " path: 'https___static.news.zumst.com_images_35_2019_01_04_0a8e84b79d3d48fabba7803d934e4cae.JPG'\n",
              " probs: None\n",
              " save_dir: 'runs/detect/predict'\n",
              " speed: {'preprocess': 2.836592999756249, 'inference': 204.0180510002756, 'postprocess': 1.9099699998150754}]"
            ]
          },
          "metadata": {},
          "execution_count": 8
        }
      ]
    }
  ]
}